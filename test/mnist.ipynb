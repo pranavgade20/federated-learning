{
 "cells": [
  {
   "cell_type": "code",
   "execution_count": 1,
   "metadata": {
    "ExecuteTime": {
     "start_time": "2023-04-24T18:56:28.740958Z",
     "end_time": "2023-04-24T18:56:31.838265Z"
    }
   },
   "outputs": [
    {
     "name": "stderr",
     "output_type": "stream",
     "text": [
      "/opt/miniconda3/envs/openfl/lib/python3.9/site-packages/tqdm/auto.py:22: TqdmWarning: IProgress not found. Please update jupyter and ipywidgets. See https://ipywidgets.readthedocs.io/en/stable/user_install.html\n",
      "  from .autonotebook import tqdm as notebook_tqdm\n"
     ]
    }
   ],
   "source": [
    "import numpy as np\n",
    "import torch\n",
    "import torch.nn as nn\n",
    "import torch.nn.functional as F\n",
    "import torch.optim as optim\n",
    "\n",
    "import torchvision\n",
    "import torchvision.transforms as transforms\n",
    "import openfl.native as fx\n",
    "from openfl.federated import FederatedModel,FederatedDataSet\n",
    "import random\n",
    "import warnings\n",
    "warnings.filterwarnings('ignore')\n",
    "\n",
    "def set_seed(seed):\n",
    "    torch.manual_seed(seed)\n",
    "    torch.cuda.manual_seed_all(seed)\n",
    "    torch.backends.cudnn.deterministic = True\n",
    "    torch.backends.cudnn.benchmark = False\n",
    "    np.random.seed(seed)\n",
    "    random.seed(seed)\n",
    "set_seed(12)\n"
   ]
  },
  {
   "cell_type": "code",
   "execution_count": 2,
   "metadata": {
    "ExecuteTime": {
     "start_time": "2023-04-24T18:56:31.838853Z",
     "end_time": "2023-04-24T19:00:01.437965Z"
    }
   },
   "outputs": [
    {
     "name": "stdout",
     "output_type": "stream",
     "text": [
      "Creating Workspace Directories\n",
      "Creating Workspace Templates\n",
      "Requirement already satisfied: torch==1.13.1 in /opt/miniconda3/envs/openfl/lib/python3.9/site-packages (from -r /home/p/.local/workspace/requirements.txt (line 1)) (1.13.1)\n",
      "Requirement already satisfied: torchvision==0.14.1 in /opt/miniconda3/envs/openfl/lib/python3.9/site-packages (from -r /home/p/.local/workspace/requirements.txt (line 2)) (0.14.1)\n",
      "Requirement already satisfied: tensorboard in /opt/miniconda3/envs/openfl/lib/python3.9/site-packages (from -r /home/p/.local/workspace/requirements.txt (line 3)) (2.11.2)\n",
      "Requirement already satisfied: wheel>=0.38.0 in /opt/miniconda3/envs/openfl/lib/python3.9/site-packages (from -r /home/p/.local/workspace/requirements.txt (line 4)) (0.40.0)\n",
      "Requirement already satisfied: nvidia-cuda-nvrtc-cu11==11.7.99 in /opt/miniconda3/envs/openfl/lib/python3.9/site-packages (from torch==1.13.1->-r /home/p/.local/workspace/requirements.txt (line 1)) (11.7.99)\n",
      "Requirement already satisfied: nvidia-cudnn-cu11==8.5.0.96 in /opt/miniconda3/envs/openfl/lib/python3.9/site-packages (from torch==1.13.1->-r /home/p/.local/workspace/requirements.txt (line 1)) (8.5.0.96)\n",
      "Requirement already satisfied: nvidia-cublas-cu11==11.10.3.66 in /opt/miniconda3/envs/openfl/lib/python3.9/site-packages (from torch==1.13.1->-r /home/p/.local/workspace/requirements.txt (line 1)) (11.10.3.66)\n",
      "Requirement already satisfied: typing-extensions in /opt/miniconda3/envs/openfl/lib/python3.9/site-packages (from torch==1.13.1->-r /home/p/.local/workspace/requirements.txt (line 1)) (4.4.0)\n",
      "Requirement already satisfied: nvidia-cuda-runtime-cu11==11.7.99 in /opt/miniconda3/envs/openfl/lib/python3.9/site-packages (from torch==1.13.1->-r /home/p/.local/workspace/requirements.txt (line 1)) (11.7.99)\n",
      "Requirement already satisfied: numpy in /opt/miniconda3/envs/openfl/lib/python3.9/site-packages (from torchvision==0.14.1->-r /home/p/.local/workspace/requirements.txt (line 2)) (1.22.3)\n",
      "Requirement already satisfied: pillow!=8.3.*,>=5.3.0 in /opt/miniconda3/envs/openfl/lib/python3.9/site-packages (from torchvision==0.14.1->-r /home/p/.local/workspace/requirements.txt (line 2)) (9.4.0)\n",
      "Requirement already satisfied: requests in /opt/miniconda3/envs/openfl/lib/python3.9/site-packages (from torchvision==0.14.1->-r /home/p/.local/workspace/requirements.txt (line 2)) (2.28.2)\n",
      "Requirement already satisfied: setuptools in /opt/miniconda3/envs/openfl/lib/python3.9/site-packages (from nvidia-cublas-cu11==11.10.3.66->torch==1.13.1->-r /home/p/.local/workspace/requirements.txt (line 1)) (65.6.3)\n",
      "Requirement already satisfied: protobuf<4,>=3.9.2 in /opt/miniconda3/envs/openfl/lib/python3.9/site-packages (from tensorboard->-r /home/p/.local/workspace/requirements.txt (line 3)) (3.19.6)\n",
      "Requirement already satisfied: grpcio>=1.24.3 in /opt/miniconda3/envs/openfl/lib/python3.9/site-packages (from tensorboard->-r /home/p/.local/workspace/requirements.txt (line 3)) (1.44.0)\n",
      "Requirement already satisfied: markdown>=2.6.8 in /opt/miniconda3/envs/openfl/lib/python3.9/site-packages (from tensorboard->-r /home/p/.local/workspace/requirements.txt (line 3)) (3.4.1)\n",
      "Requirement already satisfied: google-auth-oauthlib<0.5,>=0.4.1 in /opt/miniconda3/envs/openfl/lib/python3.9/site-packages (from tensorboard->-r /home/p/.local/workspace/requirements.txt (line 3)) (0.4.6)\n",
      "Requirement already satisfied: tensorboard-plugin-wit>=1.6.0 in /opt/miniconda3/envs/openfl/lib/python3.9/site-packages (from tensorboard->-r /home/p/.local/workspace/requirements.txt (line 3)) (1.8.1)\n",
      "Requirement already satisfied: tensorboard-data-server<0.7.0,>=0.6.0 in /opt/miniconda3/envs/openfl/lib/python3.9/site-packages (from tensorboard->-r /home/p/.local/workspace/requirements.txt (line 3)) (0.6.1)\n",
      "Requirement already satisfied: google-auth<3,>=1.6.3 in /opt/miniconda3/envs/openfl/lib/python3.9/site-packages (from tensorboard->-r /home/p/.local/workspace/requirements.txt (line 3)) (2.16.0)\n",
      "Requirement already satisfied: absl-py>=0.4 in /opt/miniconda3/envs/openfl/lib/python3.9/site-packages (from tensorboard->-r /home/p/.local/workspace/requirements.txt (line 3)) (1.4.0)\n",
      "Requirement already satisfied: werkzeug>=1.0.1 in /opt/miniconda3/envs/openfl/lib/python3.9/site-packages (from tensorboard->-r /home/p/.local/workspace/requirements.txt (line 3)) (2.2.2)\n",
      "Requirement already satisfied: six>=1.9.0 in /opt/miniconda3/envs/openfl/lib/python3.9/site-packages (from google-auth<3,>=1.6.3->tensorboard->-r /home/p/.local/workspace/requirements.txt (line 3)) (1.16.0)\n",
      "Requirement already satisfied: rsa<5,>=3.1.4 in /opt/miniconda3/envs/openfl/lib/python3.9/site-packages (from google-auth<3,>=1.6.3->tensorboard->-r /home/p/.local/workspace/requirements.txt (line 3)) (4.9)\n",
      "Requirement already satisfied: cachetools<6.0,>=2.0.0 in /opt/miniconda3/envs/openfl/lib/python3.9/site-packages (from google-auth<3,>=1.6.3->tensorboard->-r /home/p/.local/workspace/requirements.txt (line 3)) (5.3.0)\n",
      "Requirement already satisfied: pyasn1-modules>=0.2.1 in /opt/miniconda3/envs/openfl/lib/python3.9/site-packages (from google-auth<3,>=1.6.3->tensorboard->-r /home/p/.local/workspace/requirements.txt (line 3)) (0.2.8)\n",
      "Requirement already satisfied: requests-oauthlib>=0.7.0 in /opt/miniconda3/envs/openfl/lib/python3.9/site-packages (from google-auth-oauthlib<0.5,>=0.4.1->tensorboard->-r /home/p/.local/workspace/requirements.txt (line 3)) (1.3.1)\n",
      "Requirement already satisfied: importlib-metadata>=4.4 in /opt/miniconda3/envs/openfl/lib/python3.9/site-packages (from markdown>=2.6.8->tensorboard->-r /home/p/.local/workspace/requirements.txt (line 3)) (6.0.0)\n",
      "Requirement already satisfied: charset-normalizer<4,>=2 in /opt/miniconda3/envs/openfl/lib/python3.9/site-packages (from requests->torchvision==0.14.1->-r /home/p/.local/workspace/requirements.txt (line 2)) (3.0.1)\n",
      "Requirement already satisfied: idna<4,>=2.5 in /opt/miniconda3/envs/openfl/lib/python3.9/site-packages (from requests->torchvision==0.14.1->-r /home/p/.local/workspace/requirements.txt (line 2)) (3.4)\n",
      "Requirement already satisfied: urllib3<1.27,>=1.21.1 in /opt/miniconda3/envs/openfl/lib/python3.9/site-packages (from requests->torchvision==0.14.1->-r /home/p/.local/workspace/requirements.txt (line 2)) (1.26.14)\n",
      "Requirement already satisfied: certifi>=2017.4.17 in /opt/miniconda3/envs/openfl/lib/python3.9/site-packages (from requests->torchvision==0.14.1->-r /home/p/.local/workspace/requirements.txt (line 2)) (2022.12.7)\n",
      "Requirement already satisfied: MarkupSafe>=2.1.1 in /opt/miniconda3/envs/openfl/lib/python3.9/site-packages (from werkzeug>=1.0.1->tensorboard->-r /home/p/.local/workspace/requirements.txt (line 3)) (2.1.2)\n",
      "Requirement already satisfied: zipp>=0.5 in /opt/miniconda3/envs/openfl/lib/python3.9/site-packages (from importlib-metadata>=4.4->markdown>=2.6.8->tensorboard->-r /home/p/.local/workspace/requirements.txt (line 3)) (3.12.1)\n",
      "Requirement already satisfied: pyasn1<0.5.0,>=0.4.6 in /opt/miniconda3/envs/openfl/lib/python3.9/site-packages (from pyasn1-modules>=0.2.1->google-auth<3,>=1.6.3->tensorboard->-r /home/p/.local/workspace/requirements.txt (line 3)) (0.4.8)\n",
      "Requirement already satisfied: oauthlib>=3.0.0 in /opt/miniconda3/envs/openfl/lib/python3.9/site-packages (from requests-oauthlib>=0.7.0->google-auth-oauthlib<0.5,>=0.4.1->tensorboard->-r /home/p/.local/workspace/requirements.txt (line 3)) (3.2.2)\n",
      "Successfully installed packages from /home/p/.local/workspace/requirements.txt.\n",
      "\n",
      "New workspace directory structure:\n",
      "workspace\n",
      "├── data\n",
      "│   └── MNIST\n",
      "│       └── raw\n",
      "├── src\n",
      "│   ├── __pycache__\n",
      "│   │   ├── mnist_utils.cpython-39.pyc\n",
      "│   │   └── __init__.cpython-39.pyc\n",
      "│   ├── pt_cnn.py\n",
      "│   ├── mnist_utils.py\n",
      "│   ├── __init__.py\n",
      "│   └── ptmnist_inmemory.py\n",
      "├── cert\n",
      "├── logs\n",
      "│   └── cnn_mnist\n",
      "│       ├── events.out.tfevents.1682333896.claret.216878.0\n",
      "│       ├── events.out.tfevents.1682320032.claret.166375.0\n",
      "│       ├── events.out.tfevents.1682323085.claret.169851.0\n",
      "│       ├── events.out.tfevents.1682341503.claret.226136.0\n",
      "│       ├── events.out.tfevents.1682323189.claret.170265.0\n",
      "│       ├── events.out.tfevents.1681901929.claret.23011.0\n",
      "│       ├── events.out.tfevents.1682332450.claret.214299.0\n",
      "│       ├── events.out.tfevents.1682195294.claret.101800.1\n",
      "│       ├── events.out.tfevents.1682333537.claret.216050.0\n",
      "│       ├── events.out.tfevents.1682323291.claret.170452.0\n",
      "│       ├── events.out.tfevents.1682323611.claret.171135.0\n",
      "│       └── events.out.tfevents.1682194596.claret.101800.0\n",
      "├── agg_to_col_two_signed_cert.zip\n",
      "├── agg_to_col_one_signed_cert.zip\n",
      "├── save\n",
      "│   ├── torch_cnn_mnist_last.pbuf\n",
      "│   ├── torch_cnn_mnist_init.pbuf\n",
      "│   └── torch_cnn_mnist_best.pbuf\n",
      "├── final_pytorch_model\n",
      "├── plan\n",
      "│   ├── defaults\n",
      "│   ├── cols.yaml\n",
      "│   ├── data.yaml\n",
      "│   └── plan.yaml\n",
      "├── .workspace\n",
      "├── final_model_1.pt\n",
      "├── spam_metric.log\n",
      "├── requirements.txt\n",
      "└── final_pytorch_model_1\n",
      "\n",
      "10 directories, 33 files\n",
      "Setting Up Certificate Authority...\n",
      "\n",
      "1.  Create Root CA\n",
      "1.1 Create Directories\n",
      "1.2 Create Database\n",
      "1.3 Create CA Request and Certificate\n",
      "2.  Create Signing Certificate\n",
      "2.1 Create Directories\n",
      "2.2 Create Database\n",
      "2.3 Create Signing Certificate CSR\n",
      "2.4 Sign Signing Certificate CSR\n",
      "3   Create Certificate Chain\n",
      "\n",
      "Done.\n",
      "Creating AGGREGATOR certificate key pair with following settings: CN=\u001B[31mclaret\u001B[0m, SAN=\u001B[31mDNS:claret\u001B[0m\n",
      "  Writing AGGREGATOR certificate key pair to: \u001B[32m/home/p/Desktop/Programs/Python/openfl/openfl-test/test/cert/server\u001B[0m\n",
      "The CSR Hash for file \u001B[32mserver/agg_claret.csr\u001B[0m = \u001B[31m160f578f03fcbcfc59dc219dc5333de99405f74845afdc3bc5fde3cfc3171daa7fea7bb228847adb88bf1d58bea62010\u001B[0m\n",
      " Signing AGGREGATOR certificate\n",
      "Creating COLLABORATOR certificate key pair with following settings: CN=\u001B[31mone\u001B[0m, SAN=\u001B[31mDNS:one\u001B[0m\n",
      "  Moving COLLABORATOR certificate to: \u001B[32m/home/p/Desktop/Programs/Python/openfl/openfl-test/test/cert/col_one\u001B[0m\n",
      "The CSR Hash for file \u001B[32mcol_one.csr\u001B[0m = \u001B[31m32e22e50c7e0a9c1359a10514b672038a5f24e8bcb1b7848c0a47265bd481043345ace18808112d01183b6093e7055b6\u001B[0m\n",
      " Signing COLLABORATOR certificate\n",
      "\n",
      "Registering \u001B[32mone\u001B[0m in \u001B[32m/home/p/.local/workspace/plan/cols.yaml\u001B[0m\n",
      "Creating COLLABORATOR certificate key pair with following settings: CN=\u001B[31mtwo\u001B[0m, SAN=\u001B[31mDNS:two\u001B[0m\n",
      "  Moving COLLABORATOR certificate to: \u001B[32m/home/p/Desktop/Programs/Python/openfl/openfl-test/test/cert/col_two\u001B[0m\n",
      "The CSR Hash for file \u001B[32mcol_two.csr\u001B[0m = \u001B[31m4e9475e7b634da99b3979dc5bb3fdd74e85456e419e3de62c1676dcbe5d76d54223f0227a284cf00c163cd5239e7af82\u001B[0m\n",
      " Signing COLLABORATOR certificate\n",
      "\n",
      "Registering \u001B[32mtwo\u001B[0m in \u001B[32m/home/p/.local/workspace/plan/cols.yaml\u001B[0m\n"
     ]
    }
   ],
   "source": [
    "fx.init('torch_cnn_mnist', log_level='METRIC', log_file='./spam_metric.log')"
   ]
  },
  {
   "cell_type": "code",
   "execution_count": 3,
   "metadata": {
    "ExecuteTime": {
     "start_time": "2023-04-24T18:56:41.319012Z",
     "end_time": "2023-04-24T19:00:01.438299Z"
    }
   },
   "outputs": [],
   "source": [
    "# TODO load data\n",
    "def one_hot(labels, classes):\n",
    "    return np.eye(classes)[labels]\n",
    "\n",
    "transform = transforms.Compose(\n",
    "    [transforms.ToTensor(),\n",
    "     transforms.Normalize((0.5, 0.5, 0.5), (0.5, 0.5, 0.5))])\n",
    "\n",
    "trainset = torchvision.datasets.MNIST(root='./data', train=True,\n",
    "                                        download=True, transform=transform)\n",
    "\n",
    "train_data,train_labels = trainset.train_data, np.array(trainset.train_labels)\n",
    "train_data = torch.from_numpy(np.expand_dims(train_data, axis=1)).float()\n",
    "train_labels = one_hot(train_labels,10)\n",
    "\n",
    "validset = torchvision.datasets.MNIST(root='./data', train=False,\n",
    "                                       download=True, transform=transform)\n",
    "\n",
    "valid_data,valid_labels = validset.test_data, np.array(validset.test_labels)\n",
    "valid_data = torch.from_numpy(np.expand_dims(valid_data, axis=1)).float()\n",
    "valid_labels = one_hot(valid_labels,10)"
   ]
  },
  {
   "cell_type": "code",
   "execution_count": 4,
   "metadata": {
    "ExecuteTime": {
     "start_time": "2023-04-24T18:56:41.319724Z",
     "end_time": "2023-04-24T19:00:01.438429Z"
    }
   },
   "outputs": [],
   "source": [
    "from openfl.utilities.optimizers.torch import FedProxOptimizer"
   ]
  },
  {
   "cell_type": "code",
   "execution_count": 5,
   "metadata": {
    "ExecuteTime": {
     "start_time": "2023-04-24T18:56:41.320238Z",
     "end_time": "2023-04-24T19:00:01.485596Z"
    }
   },
   "outputs": [
    {
     "data": {
      "text/plain": "\u001B[2;36m[18:56:40]\u001B[0m\u001B[2;36m \u001B[0m\u001B[31mWARNING \u001B[0m tried to remove tensor: __opt_state_needed not present in the tensor dict                                                       \u001B]8;id=149527;file:///home/p/Desktop/Programs/Python/openfl/openfl/openfl/utilities/utils.py\u001B\\\u001B[2mutils.py\u001B[0m\u001B]8;;\u001B\\\u001B[2m:\u001B[0m\u001B]8;id=400179;file:///home/p/Desktop/Programs/Python/openfl/openfl/openfl/utilities/utils.py#172\u001B\\\u001B[2m172\u001B[0m\u001B]8;;\u001B\\\n",
      "text/html": "<pre style=\"white-space:pre;overflow-x:auto;line-height:normal;font-family:Menlo,'DejaVu Sans Mono',consolas,'Courier New',monospace\"><span style=\"color: #7fbfbf; text-decoration-color: #7fbfbf\">[18:56:40] </span><span style=\"color: #800000; text-decoration-color: #800000\">WARNING </span> tried to remove tensor: __opt_state_needed not present in the tensor dict                                                       <a href=\"file:///home/p/Desktop/Programs/Python/openfl/openfl/openfl/utilities/utils.py\" target=\"_blank\"><span style=\"color: #7f7f7f; text-decoration-color: #7f7f7f\">utils.py</span></a><span style=\"color: #7f7f7f; text-decoration-color: #7f7f7f\">:</span><a href=\"file:///home/p/Desktop/Programs/Python/openfl/openfl/openfl/utilities/utils.py#172\" target=\"_blank\"><span style=\"color: #7f7f7f; text-decoration-color: #7f7f7f\">172</span></a>\n</pre>\n"
     },
     "metadata": {},
     "output_type": "display_data"
    },
    {
     "data": {
      "text/plain": "\u001B[2;36m[18:56:41]\u001B[0m\u001B[2;36m \u001B[0m\u001B[31mWARNING \u001B[0m tried to remove tensor: __opt_state_needed not present in the tensor dict                                                       \u001B]8;id=674662;file:///home/p/Desktop/Programs/Python/openfl/openfl/openfl/utilities/utils.py\u001B\\\u001B[2mutils.py\u001B[0m\u001B]8;;\u001B\\\u001B[2m:\u001B[0m\u001B]8;id=849711;file:///home/p/Desktop/Programs/Python/openfl/openfl/openfl/utilities/utils.py#172\u001B\\\u001B[2m172\u001B[0m\u001B]8;;\u001B\\\n",
      "text/html": "<pre style=\"white-space:pre;overflow-x:auto;line-height:normal;font-family:Menlo,'DejaVu Sans Mono',consolas,'Courier New',monospace\"><span style=\"color: #7fbfbf; text-decoration-color: #7fbfbf\">[18:56:41] </span><span style=\"color: #800000; text-decoration-color: #800000\">WARNING </span> tried to remove tensor: __opt_state_needed not present in the tensor dict                                                       <a href=\"file:///home/p/Desktop/Programs/Python/openfl/openfl/openfl/utilities/utils.py\" target=\"_blank\"><span style=\"color: #7f7f7f; text-decoration-color: #7f7f7f\">utils.py</span></a><span style=\"color: #7f7f7f; text-decoration-color: #7f7f7f\">:</span><a href=\"file:///home/p/Desktop/Programs/Python/openfl/openfl/openfl/utilities/utils.py#172\" target=\"_blank\"><span style=\"color: #7f7f7f; text-decoration-color: #7f7f7f\">172</span></a>\n</pre>\n"
     },
     "metadata": {},
     "output_type": "display_data"
    },
    {
     "data": {
      "text/plain": "\u001B[2;36m          \u001B[0m\u001B[2;36m \u001B[0m\u001B[31mWARNING \u001B[0m tried to remove tensor: __opt_state_needed not present in the tensor dict                                                       \u001B]8;id=238702;file:///home/p/Desktop/Programs/Python/openfl/openfl/openfl/utilities/utils.py\u001B\\\u001B[2mutils.py\u001B[0m\u001B]8;;\u001B\\\u001B[2m:\u001B[0m\u001B]8;id=585304;file:///home/p/Desktop/Programs/Python/openfl/openfl/openfl/utilities/utils.py#172\u001B\\\u001B[2m172\u001B[0m\u001B]8;;\u001B\\\n",
      "text/html": "<pre style=\"white-space:pre;overflow-x:auto;line-height:normal;font-family:Menlo,'DejaVu Sans Mono',consolas,'Courier New',monospace\"><span style=\"color: #7fbfbf; text-decoration-color: #7fbfbf\">           </span><span style=\"color: #800000; text-decoration-color: #800000\">WARNING </span> tried to remove tensor: __opt_state_needed not present in the tensor dict                                                       <a href=\"file:///home/p/Desktop/Programs/Python/openfl/openfl/openfl/utilities/utils.py\" target=\"_blank\"><span style=\"color: #7f7f7f; text-decoration-color: #7f7f7f\">utils.py</span></a><span style=\"color: #7f7f7f; text-decoration-color: #7f7f7f\">:</span><a href=\"file:///home/p/Desktop/Programs/Python/openfl/openfl/openfl/utilities/utils.py#172\" target=\"_blank\"><span style=\"color: #7f7f7f; text-decoration-color: #7f7f7f\">172</span></a>\n</pre>\n"
     },
     "metadata": {},
     "output_type": "display_data"
    },
    {
     "data": {
      "text/plain": "\u001B[2;36m          \u001B[0m\u001B[2;36m \u001B[0m\u001B[31mWARNING \u001B[0m tried to remove tensor: __opt_state_needed not present in the tensor dict                                                       \u001B]8;id=461430;file:///home/p/Desktop/Programs/Python/openfl/openfl/openfl/utilities/utils.py\u001B\\\u001B[2mutils.py\u001B[0m\u001B]8;;\u001B\\\u001B[2m:\u001B[0m\u001B]8;id=385514;file:///home/p/Desktop/Programs/Python/openfl/openfl/openfl/utilities/utils.py#172\u001B\\\u001B[2m172\u001B[0m\u001B]8;;\u001B\\\n",
      "text/html": "<pre style=\"white-space:pre;overflow-x:auto;line-height:normal;font-family:Menlo,'DejaVu Sans Mono',consolas,'Courier New',monospace\"><span style=\"color: #7fbfbf; text-decoration-color: #7fbfbf\">           </span><span style=\"color: #800000; text-decoration-color: #800000\">WARNING </span> tried to remove tensor: __opt_state_needed not present in the tensor dict                                                       <a href=\"file:///home/p/Desktop/Programs/Python/openfl/openfl/openfl/utilities/utils.py\" target=\"_blank\"><span style=\"color: #7f7f7f; text-decoration-color: #7f7f7f\">utils.py</span></a><span style=\"color: #7f7f7f; text-decoration-color: #7f7f7f\">:</span><a href=\"file:///home/p/Desktop/Programs/Python/openfl/openfl/openfl/utilities/utils.py#172\" target=\"_blank\"><span style=\"color: #7f7f7f; text-decoration-color: #7f7f7f\">172</span></a>\n</pre>\n"
     },
     "metadata": {},
     "output_type": "display_data"
    },
    {
     "data": {
      "text/plain": "\u001B[2;36m          \u001B[0m\u001B[2;36m \u001B[0m\u001B[31mWARNING \u001B[0m tried to remove tensor: __opt_state_needed not present in the tensor dict                                                       \u001B]8;id=61681;file:///home/p/Desktop/Programs/Python/openfl/openfl/openfl/utilities/utils.py\u001B\\\u001B[2mutils.py\u001B[0m\u001B]8;;\u001B\\\u001B[2m:\u001B[0m\u001B]8;id=604204;file:///home/p/Desktop/Programs/Python/openfl/openfl/openfl/utilities/utils.py#172\u001B\\\u001B[2m172\u001B[0m\u001B]8;;\u001B\\\n",
      "text/html": "<pre style=\"white-space:pre;overflow-x:auto;line-height:normal;font-family:Menlo,'DejaVu Sans Mono',consolas,'Courier New',monospace\"><span style=\"color: #7fbfbf; text-decoration-color: #7fbfbf\">           </span><span style=\"color: #800000; text-decoration-color: #800000\">WARNING </span> tried to remove tensor: __opt_state_needed not present in the tensor dict                                                       <a href=\"file:///home/p/Desktop/Programs/Python/openfl/openfl/openfl/utilities/utils.py\" target=\"_blank\"><span style=\"color: #7f7f7f; text-decoration-color: #7f7f7f\">utils.py</span></a><span style=\"color: #7f7f7f; text-decoration-color: #7f7f7f\">:</span><a href=\"file:///home/p/Desktop/Programs/Python/openfl/openfl/openfl/utilities/utils.py#172\" target=\"_blank\"><span style=\"color: #7f7f7f; text-decoration-color: #7f7f7f\">172</span></a>\n</pre>\n"
     },
     "metadata": {},
     "output_type": "display_data"
    },
    {
     "data": {
      "text/plain": "\u001B[2;36m          \u001B[0m\u001B[2;36m \u001B[0mMETRIC   Round \u001B[1;36m0\u001B[0m, collaborator one is sending metric for task aggregated_model_validation: acc   \u001B[1;36m0.108000\u001B[0m                         \u001B]8;id=353369;file:///home/p/Desktop/Programs/Python/openfl/openfl/openfl/component/collaborator/collaborator.py\u001B\\\u001B[2mcollaborator.py\u001B[0m\u001B]8;;\u001B\\\u001B[2m:\u001B[0m\u001B]8;id=714537;file:///home/p/Desktop/Programs/Python/openfl/openfl/openfl/component/collaborator/collaborator.py#415\u001B\\\u001B[2m415\u001B[0m\u001B]8;;\u001B\\\n",
      "text/html": "<pre style=\"white-space:pre;overflow-x:auto;line-height:normal;font-family:Menlo,'DejaVu Sans Mono',consolas,'Courier New',monospace\"><span style=\"color: #7fbfbf; text-decoration-color: #7fbfbf\">           </span>METRIC   Round <span style=\"color: #008080; text-decoration-color: #008080; font-weight: bold\">0</span>, collaborator one is sending metric for task aggregated_model_validation: acc   <span style=\"color: #008080; text-decoration-color: #008080; font-weight: bold\">0.108000</span>                         <a href=\"file:///home/p/Desktop/Programs/Python/openfl/openfl/openfl/component/collaborator/collaborator.py\" target=\"_blank\"><span style=\"color: #7f7f7f; text-decoration-color: #7f7f7f\">collaborator.py</span></a><span style=\"color: #7f7f7f; text-decoration-color: #7f7f7f\">:</span><a href=\"file:///home/p/Desktop/Programs/Python/openfl/openfl/openfl/component/collaborator/collaborator.py#415\" target=\"_blank\"><span style=\"color: #7f7f7f; text-decoration-color: #7f7f7f\">415</span></a>\n</pre>\n"
     },
     "metadata": {},
     "output_type": "display_data"
    },
    {
     "data": {
      "text/plain": "\u001B[2;36m          \u001B[0m\u001B[2;36m \u001B[0mMETRIC   Round \u001B[1;36m0\u001B[0m, collaborator validate_agg aggregated_model_validation result acc:      \u001B[1;36m0.108000\u001B[0m                                   \u001B]8;id=63737;file:///home/p/Desktop/Programs/Python/openfl/openfl/openfl/component/aggregator/aggregator.py\u001B\\\u001B[2maggregator.py\u001B[0m\u001B]8;;\u001B\\\u001B[2m:\u001B[0m\u001B]8;id=859469;file:///home/p/Desktop/Programs/Python/openfl/openfl/openfl/component/aggregator/aggregator.py#559\u001B\\\u001B[2m559\u001B[0m\u001B]8;;\u001B\\\n",
      "text/html": "<pre style=\"white-space:pre;overflow-x:auto;line-height:normal;font-family:Menlo,'DejaVu Sans Mono',consolas,'Courier New',monospace\"><span style=\"color: #7fbfbf; text-decoration-color: #7fbfbf\">           </span>METRIC   Round <span style=\"color: #008080; text-decoration-color: #008080; font-weight: bold\">0</span>, collaborator validate_agg aggregated_model_validation result acc:      <span style=\"color: #008080; text-decoration-color: #008080; font-weight: bold\">0.108000</span>                                   <a href=\"file:///home/p/Desktop/Programs/Python/openfl/openfl/openfl/component/aggregator/aggregator.py\" target=\"_blank\"><span style=\"color: #7f7f7f; text-decoration-color: #7f7f7f\">aggregator.py</span></a><span style=\"color: #7f7f7f; text-decoration-color: #7f7f7f\">:</span><a href=\"file:///home/p/Desktop/Programs/Python/openfl/openfl/openfl/component/aggregator/aggregator.py#559\" target=\"_blank\"><span style=\"color: #7f7f7f; text-decoration-color: #7f7f7f\">559</span></a>\n</pre>\n"
     },
     "metadata": {},
     "output_type": "display_data"
    },
    {
     "data": {
      "text/plain": "\u001B[2;36m[18:56:42]\u001B[0m\u001B[2;36m \u001B[0m\u001B[31mWARNING \u001B[0m tried to remove tensor: __opt_state_needed not present in the tensor dict                                                       \u001B]8;id=95397;file:///home/p/Desktop/Programs/Python/openfl/openfl/openfl/utilities/utils.py\u001B\\\u001B[2mutils.py\u001B[0m\u001B]8;;\u001B\\\u001B[2m:\u001B[0m\u001B]8;id=444396;file:///home/p/Desktop/Programs/Python/openfl/openfl/openfl/utilities/utils.py#172\u001B\\\u001B[2m172\u001B[0m\u001B]8;;\u001B\\\n",
      "text/html": "<pre style=\"white-space:pre;overflow-x:auto;line-height:normal;font-family:Menlo,'DejaVu Sans Mono',consolas,'Courier New',monospace\"><span style=\"color: #7fbfbf; text-decoration-color: #7fbfbf\">[18:56:42] </span><span style=\"color: #800000; text-decoration-color: #800000\">WARNING </span> tried to remove tensor: __opt_state_needed not present in the tensor dict                                                       <a href=\"file:///home/p/Desktop/Programs/Python/openfl/openfl/openfl/utilities/utils.py\" target=\"_blank\"><span style=\"color: #7f7f7f; text-decoration-color: #7f7f7f\">utils.py</span></a><span style=\"color: #7f7f7f; text-decoration-color: #7f7f7f\">:</span><a href=\"file:///home/p/Desktop/Programs/Python/openfl/openfl/openfl/utilities/utils.py#172\" target=\"_blank\"><span style=\"color: #7f7f7f; text-decoration-color: #7f7f7f\">172</span></a>\n</pre>\n"
     },
     "metadata": {},
     "output_type": "display_data"
    },
    {
     "data": {
      "text/plain": "\u001B[2;36m          \u001B[0m\u001B[2;36m \u001B[0mMETRIC   Round \u001B[1;36m0\u001B[0m, collaborator one is sending metric for task train: cross_entropy       \u001B[1;36m0.942558\u001B[0m                                 \u001B]8;id=443764;file:///home/p/Desktop/Programs/Python/openfl/openfl/openfl/component/collaborator/collaborator.py\u001B\\\u001B[2mcollaborator.py\u001B[0m\u001B]8;;\u001B\\\u001B[2m:\u001B[0m\u001B]8;id=141630;file:///home/p/Desktop/Programs/Python/openfl/openfl/openfl/component/collaborator/collaborator.py#415\u001B\\\u001B[2m415\u001B[0m\u001B]8;;\u001B\\\n",
      "text/html": "<pre style=\"white-space:pre;overflow-x:auto;line-height:normal;font-family:Menlo,'DejaVu Sans Mono',consolas,'Courier New',monospace\"><span style=\"color: #7fbfbf; text-decoration-color: #7fbfbf\">           </span>METRIC   Round <span style=\"color: #008080; text-decoration-color: #008080; font-weight: bold\">0</span>, collaborator one is sending metric for task train: cross_entropy       <span style=\"color: #008080; text-decoration-color: #008080; font-weight: bold\">0.942558</span>                                 <a href=\"file:///home/p/Desktop/Programs/Python/openfl/openfl/openfl/component/collaborator/collaborator.py\" target=\"_blank\"><span style=\"color: #7f7f7f; text-decoration-color: #7f7f7f\">collaborator.py</span></a><span style=\"color: #7f7f7f; text-decoration-color: #7f7f7f\">:</span><a href=\"file:///home/p/Desktop/Programs/Python/openfl/openfl/openfl/component/collaborator/collaborator.py#415\" target=\"_blank\"><span style=\"color: #7f7f7f; text-decoration-color: #7f7f7f\">415</span></a>\n</pre>\n"
     },
     "metadata": {},
     "output_type": "display_data"
    },
    {
     "data": {
      "text/plain": "\u001B[2;36m          \u001B[0m\u001B[2;36m \u001B[0mMETRIC   Round \u001B[1;36m0\u001B[0m, collaborator one train result cross_entropy:   \u001B[1;36m0.942558\u001B[0m                                                           \u001B]8;id=585278;file:///home/p/Desktop/Programs/Python/openfl/openfl/openfl/component/aggregator/aggregator.py\u001B\\\u001B[2maggregator.py\u001B[0m\u001B]8;;\u001B\\\u001B[2m:\u001B[0m\u001B]8;id=171467;file:///home/p/Desktop/Programs/Python/openfl/openfl/openfl/component/aggregator/aggregator.py#559\u001B\\\u001B[2m559\u001B[0m\u001B]8;;\u001B\\\n",
      "text/html": "<pre style=\"white-space:pre;overflow-x:auto;line-height:normal;font-family:Menlo,'DejaVu Sans Mono',consolas,'Courier New',monospace\"><span style=\"color: #7fbfbf; text-decoration-color: #7fbfbf\">           </span>METRIC   Round <span style=\"color: #008080; text-decoration-color: #008080; font-weight: bold\">0</span>, collaborator one train result cross_entropy:   <span style=\"color: #008080; text-decoration-color: #008080; font-weight: bold\">0.942558</span>                                                           <a href=\"file:///home/p/Desktop/Programs/Python/openfl/openfl/openfl/component/aggregator/aggregator.py\" target=\"_blank\"><span style=\"color: #7f7f7f; text-decoration-color: #7f7f7f\">aggregator.py</span></a><span style=\"color: #7f7f7f; text-decoration-color: #7f7f7f\">:</span><a href=\"file:///home/p/Desktop/Programs/Python/openfl/openfl/openfl/component/aggregator/aggregator.py#559\" target=\"_blank\"><span style=\"color: #7f7f7f; text-decoration-color: #7f7f7f\">559</span></a>\n</pre>\n"
     },
     "metadata": {},
     "output_type": "display_data"
    },
    {
     "data": {
      "text/plain": "\u001B[2;36m          \u001B[0m\u001B[2;36m \u001B[0mMETRIC   Round \u001B[1;36m0\u001B[0m, collaborator one is sending metric for task locally_tuned_model_validation: acc        \u001B[1;36m0.288000\u001B[0m                 \u001B]8;id=179530;file:///home/p/Desktop/Programs/Python/openfl/openfl/openfl/component/collaborator/collaborator.py\u001B\\\u001B[2mcollaborator.py\u001B[0m\u001B]8;;\u001B\\\u001B[2m:\u001B[0m\u001B]8;id=531887;file:///home/p/Desktop/Programs/Python/openfl/openfl/openfl/component/collaborator/collaborator.py#415\u001B\\\u001B[2m415\u001B[0m\u001B]8;;\u001B\\\n",
      "text/html": "<pre style=\"white-space:pre;overflow-x:auto;line-height:normal;font-family:Menlo,'DejaVu Sans Mono',consolas,'Courier New',monospace\"><span style=\"color: #7fbfbf; text-decoration-color: #7fbfbf\">           </span>METRIC   Round <span style=\"color: #008080; text-decoration-color: #008080; font-weight: bold\">0</span>, collaborator one is sending metric for task locally_tuned_model_validation: acc        <span style=\"color: #008080; text-decoration-color: #008080; font-weight: bold\">0.288000</span>                 <a href=\"file:///home/p/Desktop/Programs/Python/openfl/openfl/openfl/component/collaborator/collaborator.py\" target=\"_blank\"><span style=\"color: #7f7f7f; text-decoration-color: #7f7f7f\">collaborator.py</span></a><span style=\"color: #7f7f7f; text-decoration-color: #7f7f7f\">:</span><a href=\"file:///home/p/Desktop/Programs/Python/openfl/openfl/openfl/component/collaborator/collaborator.py#415\" target=\"_blank\"><span style=\"color: #7f7f7f; text-decoration-color: #7f7f7f\">415</span></a>\n</pre>\n"
     },
     "metadata": {},
     "output_type": "display_data"
    },
    {
     "data": {
      "text/plain": "\u001B[2;36m          \u001B[0m\u001B[2;36m \u001B[0mMETRIC   Round \u001B[1;36m0\u001B[0m, collaborator validate_local locally_tuned_model_validation result acc: \u001B[1;36m0.288000\u001B[0m                                   \u001B]8;id=439185;file:///home/p/Desktop/Programs/Python/openfl/openfl/openfl/component/aggregator/aggregator.py\u001B\\\u001B[2maggregator.py\u001B[0m\u001B]8;;\u001B\\\u001B[2m:\u001B[0m\u001B]8;id=700604;file:///home/p/Desktop/Programs/Python/openfl/openfl/openfl/component/aggregator/aggregator.py#559\u001B\\\u001B[2m559\u001B[0m\u001B]8;;\u001B\\\n",
      "text/html": "<pre style=\"white-space:pre;overflow-x:auto;line-height:normal;font-family:Menlo,'DejaVu Sans Mono',consolas,'Courier New',monospace\"><span style=\"color: #7fbfbf; text-decoration-color: #7fbfbf\">           </span>METRIC   Round <span style=\"color: #008080; text-decoration-color: #008080; font-weight: bold\">0</span>, collaborator validate_local locally_tuned_model_validation result acc: <span style=\"color: #008080; text-decoration-color: #008080; font-weight: bold\">0.288000</span>                                   <a href=\"file:///home/p/Desktop/Programs/Python/openfl/openfl/openfl/component/aggregator/aggregator.py\" target=\"_blank\"><span style=\"color: #7f7f7f; text-decoration-color: #7f7f7f\">aggregator.py</span></a><span style=\"color: #7f7f7f; text-decoration-color: #7f7f7f\">:</span><a href=\"file:///home/p/Desktop/Programs/Python/openfl/openfl/openfl/component/aggregator/aggregator.py#559\" target=\"_blank\"><span style=\"color: #7f7f7f; text-decoration-color: #7f7f7f\">559</span></a>\n</pre>\n"
     },
     "metadata": {},
     "output_type": "display_data"
    },
    {
     "data": {
      "text/plain": "\u001B[2;36m          \u001B[0m\u001B[2;36m \u001B[0mMETRIC   Round \u001B[1;36m0\u001B[0m, collaborator two is sending metric for task aggregated_model_validation: acc   \u001B[1;36m0.106400\u001B[0m                         \u001B]8;id=403262;file:///home/p/Desktop/Programs/Python/openfl/openfl/openfl/component/collaborator/collaborator.py\u001B\\\u001B[2mcollaborator.py\u001B[0m\u001B]8;;\u001B\\\u001B[2m:\u001B[0m\u001B]8;id=567436;file:///home/p/Desktop/Programs/Python/openfl/openfl/openfl/component/collaborator/collaborator.py#415\u001B\\\u001B[2m415\u001B[0m\u001B]8;;\u001B\\\n",
      "text/html": "<pre style=\"white-space:pre;overflow-x:auto;line-height:normal;font-family:Menlo,'DejaVu Sans Mono',consolas,'Courier New',monospace\"><span style=\"color: #7fbfbf; text-decoration-color: #7fbfbf\">           </span>METRIC   Round <span style=\"color: #008080; text-decoration-color: #008080; font-weight: bold\">0</span>, collaborator two is sending metric for task aggregated_model_validation: acc   <span style=\"color: #008080; text-decoration-color: #008080; font-weight: bold\">0.106400</span>                         <a href=\"file:///home/p/Desktop/Programs/Python/openfl/openfl/openfl/component/collaborator/collaborator.py\" target=\"_blank\"><span style=\"color: #7f7f7f; text-decoration-color: #7f7f7f\">collaborator.py</span></a><span style=\"color: #7f7f7f; text-decoration-color: #7f7f7f\">:</span><a href=\"file:///home/p/Desktop/Programs/Python/openfl/openfl/openfl/component/collaborator/collaborator.py#415\" target=\"_blank\"><span style=\"color: #7f7f7f; text-decoration-color: #7f7f7f\">415</span></a>\n</pre>\n"
     },
     "metadata": {},
     "output_type": "display_data"
    },
    {
     "data": {
      "text/plain": "\u001B[2;36m          \u001B[0m\u001B[2;36m \u001B[0mMETRIC   Round \u001B[1;36m0\u001B[0m, collaborator validate_agg aggregated_model_validation result acc:      \u001B[1;36m0.106400\u001B[0m                                   \u001B]8;id=201186;file:///home/p/Desktop/Programs/Python/openfl/openfl/openfl/component/aggregator/aggregator.py\u001B\\\u001B[2maggregator.py\u001B[0m\u001B]8;;\u001B\\\u001B[2m:\u001B[0m\u001B]8;id=825549;file:///home/p/Desktop/Programs/Python/openfl/openfl/openfl/component/aggregator/aggregator.py#559\u001B\\\u001B[2m559\u001B[0m\u001B]8;;\u001B\\\n",
      "text/html": "<pre style=\"white-space:pre;overflow-x:auto;line-height:normal;font-family:Menlo,'DejaVu Sans Mono',consolas,'Courier New',monospace\"><span style=\"color: #7fbfbf; text-decoration-color: #7fbfbf\">           </span>METRIC   Round <span style=\"color: #008080; text-decoration-color: #008080; font-weight: bold\">0</span>, collaborator validate_agg aggregated_model_validation result acc:      <span style=\"color: #008080; text-decoration-color: #008080; font-weight: bold\">0.106400</span>                                   <a href=\"file:///home/p/Desktop/Programs/Python/openfl/openfl/openfl/component/aggregator/aggregator.py\" target=\"_blank\"><span style=\"color: #7f7f7f; text-decoration-color: #7f7f7f\">aggregator.py</span></a><span style=\"color: #7f7f7f; text-decoration-color: #7f7f7f\">:</span><a href=\"file:///home/p/Desktop/Programs/Python/openfl/openfl/openfl/component/aggregator/aggregator.py#559\" target=\"_blank\"><span style=\"color: #7f7f7f; text-decoration-color: #7f7f7f\">559</span></a>\n</pre>\n"
     },
     "metadata": {},
     "output_type": "display_data"
    },
    {
     "data": {
      "text/plain": "\u001B[2;36m          \u001B[0m\u001B[2;36m \u001B[0m\u001B[31mWARNING \u001B[0m tried to remove tensor: __opt_state_needed not present in the tensor dict                                                       \u001B]8;id=380767;file:///home/p/Desktop/Programs/Python/openfl/openfl/openfl/utilities/utils.py\u001B\\\u001B[2mutils.py\u001B[0m\u001B]8;;\u001B\\\u001B[2m:\u001B[0m\u001B]8;id=908205;file:///home/p/Desktop/Programs/Python/openfl/openfl/openfl/utilities/utils.py#172\u001B\\\u001B[2m172\u001B[0m\u001B]8;;\u001B\\\n",
      "text/html": "<pre style=\"white-space:pre;overflow-x:auto;line-height:normal;font-family:Menlo,'DejaVu Sans Mono',consolas,'Courier New',monospace\"><span style=\"color: #7fbfbf; text-decoration-color: #7fbfbf\">           </span><span style=\"color: #800000; text-decoration-color: #800000\">WARNING </span> tried to remove tensor: __opt_state_needed not present in the tensor dict                                                       <a href=\"file:///home/p/Desktop/Programs/Python/openfl/openfl/openfl/utilities/utils.py\" target=\"_blank\"><span style=\"color: #7f7f7f; text-decoration-color: #7f7f7f\">utils.py</span></a><span style=\"color: #7f7f7f; text-decoration-color: #7f7f7f\">:</span><a href=\"file:///home/p/Desktop/Programs/Python/openfl/openfl/openfl/utilities/utils.py#172\" target=\"_blank\"><span style=\"color: #7f7f7f; text-decoration-color: #7f7f7f\">172</span></a>\n</pre>\n"
     },
     "metadata": {},
     "output_type": "display_data"
    },
    {
     "data": {
      "text/plain": "\u001B[2;36m          \u001B[0m\u001B[2;36m \u001B[0mMETRIC   Round \u001B[1;36m0\u001B[0m, collaborator two is sending metric for task train: cross_entropy       \u001B[1;36m0.943437\u001B[0m                                 \u001B]8;id=119361;file:///home/p/Desktop/Programs/Python/openfl/openfl/openfl/component/collaborator/collaborator.py\u001B\\\u001B[2mcollaborator.py\u001B[0m\u001B]8;;\u001B\\\u001B[2m:\u001B[0m\u001B]8;id=264637;file:///home/p/Desktop/Programs/Python/openfl/openfl/openfl/component/collaborator/collaborator.py#415\u001B\\\u001B[2m415\u001B[0m\u001B]8;;\u001B\\\n",
      "text/html": "<pre style=\"white-space:pre;overflow-x:auto;line-height:normal;font-family:Menlo,'DejaVu Sans Mono',consolas,'Courier New',monospace\"><span style=\"color: #7fbfbf; text-decoration-color: #7fbfbf\">           </span>METRIC   Round <span style=\"color: #008080; text-decoration-color: #008080; font-weight: bold\">0</span>, collaborator two is sending metric for task train: cross_entropy       <span style=\"color: #008080; text-decoration-color: #008080; font-weight: bold\">0.943437</span>                                 <a href=\"file:///home/p/Desktop/Programs/Python/openfl/openfl/openfl/component/collaborator/collaborator.py\" target=\"_blank\"><span style=\"color: #7f7f7f; text-decoration-color: #7f7f7f\">collaborator.py</span></a><span style=\"color: #7f7f7f; text-decoration-color: #7f7f7f\">:</span><a href=\"file:///home/p/Desktop/Programs/Python/openfl/openfl/openfl/component/collaborator/collaborator.py#415\" target=\"_blank\"><span style=\"color: #7f7f7f; text-decoration-color: #7f7f7f\">415</span></a>\n</pre>\n"
     },
     "metadata": {},
     "output_type": "display_data"
    },
    {
     "data": {
      "text/plain": "\u001B[2;36m          \u001B[0m\u001B[2;36m \u001B[0mMETRIC   Round \u001B[1;36m0\u001B[0m, collaborator two train result cross_entropy:   \u001B[1;36m0.943437\u001B[0m                                                           \u001B]8;id=536189;file:///home/p/Desktop/Programs/Python/openfl/openfl/openfl/component/aggregator/aggregator.py\u001B\\\u001B[2maggregator.py\u001B[0m\u001B]8;;\u001B\\\u001B[2m:\u001B[0m\u001B]8;id=601074;file:///home/p/Desktop/Programs/Python/openfl/openfl/openfl/component/aggregator/aggregator.py#559\u001B\\\u001B[2m559\u001B[0m\u001B]8;;\u001B\\\n",
      "text/html": "<pre style=\"white-space:pre;overflow-x:auto;line-height:normal;font-family:Menlo,'DejaVu Sans Mono',consolas,'Courier New',monospace\"><span style=\"color: #7fbfbf; text-decoration-color: #7fbfbf\">           </span>METRIC   Round <span style=\"color: #008080; text-decoration-color: #008080; font-weight: bold\">0</span>, collaborator two train result cross_entropy:   <span style=\"color: #008080; text-decoration-color: #008080; font-weight: bold\">0.943437</span>                                                           <a href=\"file:///home/p/Desktop/Programs/Python/openfl/openfl/openfl/component/aggregator/aggregator.py\" target=\"_blank\"><span style=\"color: #7f7f7f; text-decoration-color: #7f7f7f\">aggregator.py</span></a><span style=\"color: #7f7f7f; text-decoration-color: #7f7f7f\">:</span><a href=\"file:///home/p/Desktop/Programs/Python/openfl/openfl/openfl/component/aggregator/aggregator.py#559\" target=\"_blank\"><span style=\"color: #7f7f7f; text-decoration-color: #7f7f7f\">559</span></a>\n</pre>\n"
     },
     "metadata": {},
     "output_type": "display_data"
    },
    {
     "data": {
      "text/plain": "\u001B[2;36m          \u001B[0m\u001B[2;36m \u001B[0mMETRIC   Round \u001B[1;36m0\u001B[0m, collaborator two is sending metric for task locally_tuned_model_validation: acc        \u001B[1;36m0.277600\u001B[0m                 \u001B]8;id=29510;file:///home/p/Desktop/Programs/Python/openfl/openfl/openfl/component/collaborator/collaborator.py\u001B\\\u001B[2mcollaborator.py\u001B[0m\u001B]8;;\u001B\\\u001B[2m:\u001B[0m\u001B]8;id=399418;file:///home/p/Desktop/Programs/Python/openfl/openfl/openfl/component/collaborator/collaborator.py#415\u001B\\\u001B[2m415\u001B[0m\u001B]8;;\u001B\\\n",
      "text/html": "<pre style=\"white-space:pre;overflow-x:auto;line-height:normal;font-family:Menlo,'DejaVu Sans Mono',consolas,'Courier New',monospace\"><span style=\"color: #7fbfbf; text-decoration-color: #7fbfbf\">           </span>METRIC   Round <span style=\"color: #008080; text-decoration-color: #008080; font-weight: bold\">0</span>, collaborator two is sending metric for task locally_tuned_model_validation: acc        <span style=\"color: #008080; text-decoration-color: #008080; font-weight: bold\">0.277600</span>                 <a href=\"file:///home/p/Desktop/Programs/Python/openfl/openfl/openfl/component/collaborator/collaborator.py\" target=\"_blank\"><span style=\"color: #7f7f7f; text-decoration-color: #7f7f7f\">collaborator.py</span></a><span style=\"color: #7f7f7f; text-decoration-color: #7f7f7f\">:</span><a href=\"file:///home/p/Desktop/Programs/Python/openfl/openfl/openfl/component/collaborator/collaborator.py#415\" target=\"_blank\"><span style=\"color: #7f7f7f; text-decoration-color: #7f7f7f\">415</span></a>\n</pre>\n"
     },
     "metadata": {},
     "output_type": "display_data"
    },
    {
     "data": {
      "text/plain": "\u001B[2;36m          \u001B[0m\u001B[2;36m \u001B[0mMETRIC   Round \u001B[1;36m0\u001B[0m, collaborator validate_local locally_tuned_model_validation result acc: \u001B[1;36m0.277600\u001B[0m                                   \u001B]8;id=544208;file:///home/p/Desktop/Programs/Python/openfl/openfl/openfl/component/aggregator/aggregator.py\u001B\\\u001B[2maggregator.py\u001B[0m\u001B]8;;\u001B\\\u001B[2m:\u001B[0m\u001B]8;id=26991;file:///home/p/Desktop/Programs/Python/openfl/openfl/openfl/component/aggregator/aggregator.py#559\u001B\\\u001B[2m559\u001B[0m\u001B]8;;\u001B\\\n",
      "text/html": "<pre style=\"white-space:pre;overflow-x:auto;line-height:normal;font-family:Menlo,'DejaVu Sans Mono',consolas,'Courier New',monospace\"><span style=\"color: #7fbfbf; text-decoration-color: #7fbfbf\">           </span>METRIC   Round <span style=\"color: #008080; text-decoration-color: #008080; font-weight: bold\">0</span>, collaborator validate_local locally_tuned_model_validation result acc: <span style=\"color: #008080; text-decoration-color: #008080; font-weight: bold\">0.277600</span>                                   <a href=\"file:///home/p/Desktop/Programs/Python/openfl/openfl/openfl/component/aggregator/aggregator.py\" target=\"_blank\"><span style=\"color: #7f7f7f; text-decoration-color: #7f7f7f\">aggregator.py</span></a><span style=\"color: #7f7f7f; text-decoration-color: #7f7f7f\">:</span><a href=\"file:///home/p/Desktop/Programs/Python/openfl/openfl/openfl/component/aggregator/aggregator.py#559\" target=\"_blank\"><span style=\"color: #7f7f7f; text-decoration-color: #7f7f7f\">559</span></a>\n</pre>\n"
     },
     "metadata": {},
     "output_type": "display_data"
    },
    {
     "data": {
      "text/plain": "\u001B[2;36m          \u001B[0m\u001B[2;36m \u001B[0mMETRIC   Round \u001B[1;36m0\u001B[0m, collaborator three is sending metric for task aggregated_model_validation: acc \u001B[1;36m0.108800\u001B[0m                         \u001B]8;id=407105;file:///home/p/Desktop/Programs/Python/openfl/openfl/openfl/component/collaborator/collaborator.py\u001B\\\u001B[2mcollaborator.py\u001B[0m\u001B]8;;\u001B\\\u001B[2m:\u001B[0m\u001B]8;id=214334;file:///home/p/Desktop/Programs/Python/openfl/openfl/openfl/component/collaborator/collaborator.py#415\u001B\\\u001B[2m415\u001B[0m\u001B]8;;\u001B\\\n",
      "text/html": "<pre style=\"white-space:pre;overflow-x:auto;line-height:normal;font-family:Menlo,'DejaVu Sans Mono',consolas,'Courier New',monospace\"><span style=\"color: #7fbfbf; text-decoration-color: #7fbfbf\">           </span>METRIC   Round <span style=\"color: #008080; text-decoration-color: #008080; font-weight: bold\">0</span>, collaborator three is sending metric for task aggregated_model_validation: acc <span style=\"color: #008080; text-decoration-color: #008080; font-weight: bold\">0.108800</span>                         <a href=\"file:///home/p/Desktop/Programs/Python/openfl/openfl/openfl/component/collaborator/collaborator.py\" target=\"_blank\"><span style=\"color: #7f7f7f; text-decoration-color: #7f7f7f\">collaborator.py</span></a><span style=\"color: #7f7f7f; text-decoration-color: #7f7f7f\">:</span><a href=\"file:///home/p/Desktop/Programs/Python/openfl/openfl/openfl/component/collaborator/collaborator.py#415\" target=\"_blank\"><span style=\"color: #7f7f7f; text-decoration-color: #7f7f7f\">415</span></a>\n</pre>\n"
     },
     "metadata": {},
     "output_type": "display_data"
    },
    {
     "data": {
      "text/plain": "\u001B[2;36m          \u001B[0m\u001B[2;36m \u001B[0mMETRIC   Round \u001B[1;36m0\u001B[0m, collaborator validate_agg aggregated_model_validation result acc:      \u001B[1;36m0.108800\u001B[0m                                   \u001B]8;id=576686;file:///home/p/Desktop/Programs/Python/openfl/openfl/openfl/component/aggregator/aggregator.py\u001B\\\u001B[2maggregator.py\u001B[0m\u001B]8;;\u001B\\\u001B[2m:\u001B[0m\u001B]8;id=231358;file:///home/p/Desktop/Programs/Python/openfl/openfl/openfl/component/aggregator/aggregator.py#559\u001B\\\u001B[2m559\u001B[0m\u001B]8;;\u001B\\\n",
      "text/html": "<pre style=\"white-space:pre;overflow-x:auto;line-height:normal;font-family:Menlo,'DejaVu Sans Mono',consolas,'Courier New',monospace\"><span style=\"color: #7fbfbf; text-decoration-color: #7fbfbf\">           </span>METRIC   Round <span style=\"color: #008080; text-decoration-color: #008080; font-weight: bold\">0</span>, collaborator validate_agg aggregated_model_validation result acc:      <span style=\"color: #008080; text-decoration-color: #008080; font-weight: bold\">0.108800</span>                                   <a href=\"file:///home/p/Desktop/Programs/Python/openfl/openfl/openfl/component/aggregator/aggregator.py\" target=\"_blank\"><span style=\"color: #7f7f7f; text-decoration-color: #7f7f7f\">aggregator.py</span></a><span style=\"color: #7f7f7f; text-decoration-color: #7f7f7f\">:</span><a href=\"file:///home/p/Desktop/Programs/Python/openfl/openfl/openfl/component/aggregator/aggregator.py#559\" target=\"_blank\"><span style=\"color: #7f7f7f; text-decoration-color: #7f7f7f\">559</span></a>\n</pre>\n"
     },
     "metadata": {},
     "output_type": "display_data"
    },
    {
     "data": {
      "text/plain": "\u001B[2;36m[18:56:43]\u001B[0m\u001B[2;36m \u001B[0m\u001B[31mWARNING \u001B[0m tried to remove tensor: __opt_state_needed not present in the tensor dict                                                       \u001B]8;id=38635;file:///home/p/Desktop/Programs/Python/openfl/openfl/openfl/utilities/utils.py\u001B\\\u001B[2mutils.py\u001B[0m\u001B]8;;\u001B\\\u001B[2m:\u001B[0m\u001B]8;id=454539;file:///home/p/Desktop/Programs/Python/openfl/openfl/openfl/utilities/utils.py#172\u001B\\\u001B[2m172\u001B[0m\u001B]8;;\u001B\\\n",
      "text/html": "<pre style=\"white-space:pre;overflow-x:auto;line-height:normal;font-family:Menlo,'DejaVu Sans Mono',consolas,'Courier New',monospace\"><span style=\"color: #7fbfbf; text-decoration-color: #7fbfbf\">[18:56:43] </span><span style=\"color: #800000; text-decoration-color: #800000\">WARNING </span> tried to remove tensor: __opt_state_needed not present in the tensor dict                                                       <a href=\"file:///home/p/Desktop/Programs/Python/openfl/openfl/openfl/utilities/utils.py\" target=\"_blank\"><span style=\"color: #7f7f7f; text-decoration-color: #7f7f7f\">utils.py</span></a><span style=\"color: #7f7f7f; text-decoration-color: #7f7f7f\">:</span><a href=\"file:///home/p/Desktop/Programs/Python/openfl/openfl/openfl/utilities/utils.py#172\" target=\"_blank\"><span style=\"color: #7f7f7f; text-decoration-color: #7f7f7f\">172</span></a>\n</pre>\n"
     },
     "metadata": {},
     "output_type": "display_data"
    },
    {
     "data": {
      "text/plain": "\u001B[2;36m          \u001B[0m\u001B[2;36m \u001B[0mMETRIC   Round \u001B[1;36m0\u001B[0m, collaborator three is sending metric for task train: cross_entropy     \u001B[1;36m0.946204\u001B[0m                                 \u001B]8;id=667869;file:///home/p/Desktop/Programs/Python/openfl/openfl/openfl/component/collaborator/collaborator.py\u001B\\\u001B[2mcollaborator.py\u001B[0m\u001B]8;;\u001B\\\u001B[2m:\u001B[0m\u001B]8;id=761136;file:///home/p/Desktop/Programs/Python/openfl/openfl/openfl/component/collaborator/collaborator.py#415\u001B\\\u001B[2m415\u001B[0m\u001B]8;;\u001B\\\n",
      "text/html": "<pre style=\"white-space:pre;overflow-x:auto;line-height:normal;font-family:Menlo,'DejaVu Sans Mono',consolas,'Courier New',monospace\"><span style=\"color: #7fbfbf; text-decoration-color: #7fbfbf\">           </span>METRIC   Round <span style=\"color: #008080; text-decoration-color: #008080; font-weight: bold\">0</span>, collaborator three is sending metric for task train: cross_entropy     <span style=\"color: #008080; text-decoration-color: #008080; font-weight: bold\">0.946204</span>                                 <a href=\"file:///home/p/Desktop/Programs/Python/openfl/openfl/openfl/component/collaborator/collaborator.py\" target=\"_blank\"><span style=\"color: #7f7f7f; text-decoration-color: #7f7f7f\">collaborator.py</span></a><span style=\"color: #7f7f7f; text-decoration-color: #7f7f7f\">:</span><a href=\"file:///home/p/Desktop/Programs/Python/openfl/openfl/openfl/component/collaborator/collaborator.py#415\" target=\"_blank\"><span style=\"color: #7f7f7f; text-decoration-color: #7f7f7f\">415</span></a>\n</pre>\n"
     },
     "metadata": {},
     "output_type": "display_data"
    },
    {
     "data": {
      "text/plain": "\u001B[2;36m          \u001B[0m\u001B[2;36m \u001B[0mMETRIC   Round \u001B[1;36m0\u001B[0m, collaborator three train result cross_entropy: \u001B[1;36m0.946204\u001B[0m                                                           \u001B]8;id=218935;file:///home/p/Desktop/Programs/Python/openfl/openfl/openfl/component/aggregator/aggregator.py\u001B\\\u001B[2maggregator.py\u001B[0m\u001B]8;;\u001B\\\u001B[2m:\u001B[0m\u001B]8;id=356158;file:///home/p/Desktop/Programs/Python/openfl/openfl/openfl/component/aggregator/aggregator.py#559\u001B\\\u001B[2m559\u001B[0m\u001B]8;;\u001B\\\n",
      "text/html": "<pre style=\"white-space:pre;overflow-x:auto;line-height:normal;font-family:Menlo,'DejaVu Sans Mono',consolas,'Courier New',monospace\"><span style=\"color: #7fbfbf; text-decoration-color: #7fbfbf\">           </span>METRIC   Round <span style=\"color: #008080; text-decoration-color: #008080; font-weight: bold\">0</span>, collaborator three train result cross_entropy: <span style=\"color: #008080; text-decoration-color: #008080; font-weight: bold\">0.946204</span>                                                           <a href=\"file:///home/p/Desktop/Programs/Python/openfl/openfl/openfl/component/aggregator/aggregator.py\" target=\"_blank\"><span style=\"color: #7f7f7f; text-decoration-color: #7f7f7f\">aggregator.py</span></a><span style=\"color: #7f7f7f; text-decoration-color: #7f7f7f\">:</span><a href=\"file:///home/p/Desktop/Programs/Python/openfl/openfl/openfl/component/aggregator/aggregator.py#559\" target=\"_blank\"><span style=\"color: #7f7f7f; text-decoration-color: #7f7f7f\">559</span></a>\n</pre>\n"
     },
     "metadata": {},
     "output_type": "display_data"
    },
    {
     "data": {
      "text/plain": "\u001B[2;36m          \u001B[0m\u001B[2;36m \u001B[0mMETRIC   Round \u001B[1;36m0\u001B[0m, collaborator three is sending metric for task locally_tuned_model_validation: acc      \u001B[1;36m0.261200\u001B[0m                 \u001B]8;id=897098;file:///home/p/Desktop/Programs/Python/openfl/openfl/openfl/component/collaborator/collaborator.py\u001B\\\u001B[2mcollaborator.py\u001B[0m\u001B]8;;\u001B\\\u001B[2m:\u001B[0m\u001B]8;id=504390;file:///home/p/Desktop/Programs/Python/openfl/openfl/openfl/component/collaborator/collaborator.py#415\u001B\\\u001B[2m415\u001B[0m\u001B]8;;\u001B\\\n",
      "text/html": "<pre style=\"white-space:pre;overflow-x:auto;line-height:normal;font-family:Menlo,'DejaVu Sans Mono',consolas,'Courier New',monospace\"><span style=\"color: #7fbfbf; text-decoration-color: #7fbfbf\">           </span>METRIC   Round <span style=\"color: #008080; text-decoration-color: #008080; font-weight: bold\">0</span>, collaborator three is sending metric for task locally_tuned_model_validation: acc      <span style=\"color: #008080; text-decoration-color: #008080; font-weight: bold\">0.261200</span>                 <a href=\"file:///home/p/Desktop/Programs/Python/openfl/openfl/openfl/component/collaborator/collaborator.py\" target=\"_blank\"><span style=\"color: #7f7f7f; text-decoration-color: #7f7f7f\">collaborator.py</span></a><span style=\"color: #7f7f7f; text-decoration-color: #7f7f7f\">:</span><a href=\"file:///home/p/Desktop/Programs/Python/openfl/openfl/openfl/component/collaborator/collaborator.py#415\" target=\"_blank\"><span style=\"color: #7f7f7f; text-decoration-color: #7f7f7f\">415</span></a>\n</pre>\n"
     },
     "metadata": {},
     "output_type": "display_data"
    },
    {
     "data": {
      "text/plain": "\u001B[2;36m          \u001B[0m\u001B[2;36m \u001B[0mMETRIC   Round \u001B[1;36m0\u001B[0m, collaborator validate_local locally_tuned_model_validation result acc: \u001B[1;36m0.261200\u001B[0m                                   \u001B]8;id=575517;file:///home/p/Desktop/Programs/Python/openfl/openfl/openfl/component/aggregator/aggregator.py\u001B\\\u001B[2maggregator.py\u001B[0m\u001B]8;;\u001B\\\u001B[2m:\u001B[0m\u001B]8;id=381883;file:///home/p/Desktop/Programs/Python/openfl/openfl/openfl/component/aggregator/aggregator.py#559\u001B\\\u001B[2m559\u001B[0m\u001B]8;;\u001B\\\n",
      "text/html": "<pre style=\"white-space:pre;overflow-x:auto;line-height:normal;font-family:Menlo,'DejaVu Sans Mono',consolas,'Courier New',monospace\"><span style=\"color: #7fbfbf; text-decoration-color: #7fbfbf\">           </span>METRIC   Round <span style=\"color: #008080; text-decoration-color: #008080; font-weight: bold\">0</span>, collaborator validate_local locally_tuned_model_validation result acc: <span style=\"color: #008080; text-decoration-color: #008080; font-weight: bold\">0.261200</span>                                   <a href=\"file:///home/p/Desktop/Programs/Python/openfl/openfl/openfl/component/aggregator/aggregator.py\" target=\"_blank\"><span style=\"color: #7f7f7f; text-decoration-color: #7f7f7f\">aggregator.py</span></a><span style=\"color: #7f7f7f; text-decoration-color: #7f7f7f\">:</span><a href=\"file:///home/p/Desktop/Programs/Python/openfl/openfl/openfl/component/aggregator/aggregator.py#559\" target=\"_blank\"><span style=\"color: #7f7f7f; text-decoration-color: #7f7f7f\">559</span></a>\n</pre>\n"
     },
     "metadata": {},
     "output_type": "display_data"
    },
    {
     "data": {
      "text/plain": "\u001B[2;36m          \u001B[0m\u001B[2;36m \u001B[0mMETRIC   Round \u001B[1;36m0\u001B[0m, collaborator four is sending metric for task aggregated_model_validation: acc  \u001B[1;36m0.108400\u001B[0m                         \u001B]8;id=230565;file:///home/p/Desktop/Programs/Python/openfl/openfl/openfl/component/collaborator/collaborator.py\u001B\\\u001B[2mcollaborator.py\u001B[0m\u001B]8;;\u001B\\\u001B[2m:\u001B[0m\u001B]8;id=956345;file:///home/p/Desktop/Programs/Python/openfl/openfl/openfl/component/collaborator/collaborator.py#415\u001B\\\u001B[2m415\u001B[0m\u001B]8;;\u001B\\\n",
      "text/html": "<pre style=\"white-space:pre;overflow-x:auto;line-height:normal;font-family:Menlo,'DejaVu Sans Mono',consolas,'Courier New',monospace\"><span style=\"color: #7fbfbf; text-decoration-color: #7fbfbf\">           </span>METRIC   Round <span style=\"color: #008080; text-decoration-color: #008080; font-weight: bold\">0</span>, collaborator four is sending metric for task aggregated_model_validation: acc  <span style=\"color: #008080; text-decoration-color: #008080; font-weight: bold\">0.108400</span>                         <a href=\"file:///home/p/Desktop/Programs/Python/openfl/openfl/openfl/component/collaborator/collaborator.py\" target=\"_blank\"><span style=\"color: #7f7f7f; text-decoration-color: #7f7f7f\">collaborator.py</span></a><span style=\"color: #7f7f7f; text-decoration-color: #7f7f7f\">:</span><a href=\"file:///home/p/Desktop/Programs/Python/openfl/openfl/openfl/component/collaborator/collaborator.py#415\" target=\"_blank\"><span style=\"color: #7f7f7f; text-decoration-color: #7f7f7f\">415</span></a>\n</pre>\n"
     },
     "metadata": {},
     "output_type": "display_data"
    },
    {
     "data": {
      "text/plain": "\u001B[2;36m          \u001B[0m\u001B[2;36m \u001B[0mMETRIC   Round \u001B[1;36m0\u001B[0m, collaborator validate_agg aggregated_model_validation result acc:      \u001B[1;36m0.108400\u001B[0m                                   \u001B]8;id=959921;file:///home/p/Desktop/Programs/Python/openfl/openfl/openfl/component/aggregator/aggregator.py\u001B\\\u001B[2maggregator.py\u001B[0m\u001B]8;;\u001B\\\u001B[2m:\u001B[0m\u001B]8;id=808108;file:///home/p/Desktop/Programs/Python/openfl/openfl/openfl/component/aggregator/aggregator.py#559\u001B\\\u001B[2m559\u001B[0m\u001B]8;;\u001B\\\n",
      "text/html": "<pre style=\"white-space:pre;overflow-x:auto;line-height:normal;font-family:Menlo,'DejaVu Sans Mono',consolas,'Courier New',monospace\"><span style=\"color: #7fbfbf; text-decoration-color: #7fbfbf\">           </span>METRIC   Round <span style=\"color: #008080; text-decoration-color: #008080; font-weight: bold\">0</span>, collaborator validate_agg aggregated_model_validation result acc:      <span style=\"color: #008080; text-decoration-color: #008080; font-weight: bold\">0.108400</span>                                   <a href=\"file:///home/p/Desktop/Programs/Python/openfl/openfl/openfl/component/aggregator/aggregator.py\" target=\"_blank\"><span style=\"color: #7f7f7f; text-decoration-color: #7f7f7f\">aggregator.py</span></a><span style=\"color: #7f7f7f; text-decoration-color: #7f7f7f\">:</span><a href=\"file:///home/p/Desktop/Programs/Python/openfl/openfl/openfl/component/aggregator/aggregator.py#559\" target=\"_blank\"><span style=\"color: #7f7f7f; text-decoration-color: #7f7f7f\">559</span></a>\n</pre>\n"
     },
     "metadata": {},
     "output_type": "display_data"
    },
    {
     "data": {
      "text/plain": "\u001B[2;36m[18:56:44]\u001B[0m\u001B[2;36m \u001B[0m\u001B[31mWARNING \u001B[0m tried to remove tensor: __opt_state_needed not present in the tensor dict                                                       \u001B]8;id=833561;file:///home/p/Desktop/Programs/Python/openfl/openfl/openfl/utilities/utils.py\u001B\\\u001B[2mutils.py\u001B[0m\u001B]8;;\u001B\\\u001B[2m:\u001B[0m\u001B]8;id=9049;file:///home/p/Desktop/Programs/Python/openfl/openfl/openfl/utilities/utils.py#172\u001B\\\u001B[2m172\u001B[0m\u001B]8;;\u001B\\\n",
      "text/html": "<pre style=\"white-space:pre;overflow-x:auto;line-height:normal;font-family:Menlo,'DejaVu Sans Mono',consolas,'Courier New',monospace\"><span style=\"color: #7fbfbf; text-decoration-color: #7fbfbf\">[18:56:44] </span><span style=\"color: #800000; text-decoration-color: #800000\">WARNING </span> tried to remove tensor: __opt_state_needed not present in the tensor dict                                                       <a href=\"file:///home/p/Desktop/Programs/Python/openfl/openfl/openfl/utilities/utils.py\" target=\"_blank\"><span style=\"color: #7f7f7f; text-decoration-color: #7f7f7f\">utils.py</span></a><span style=\"color: #7f7f7f; text-decoration-color: #7f7f7f\">:</span><a href=\"file:///home/p/Desktop/Programs/Python/openfl/openfl/openfl/utilities/utils.py#172\" target=\"_blank\"><span style=\"color: #7f7f7f; text-decoration-color: #7f7f7f\">172</span></a>\n</pre>\n"
     },
     "metadata": {},
     "output_type": "display_data"
    },
    {
     "data": {
      "text/plain": "\u001B[2;36m          \u001B[0m\u001B[2;36m \u001B[0mMETRIC   Round \u001B[1;36m0\u001B[0m, collaborator four is sending metric for task train: cross_entropy      \u001B[1;36m0.934301\u001B[0m                                 \u001B]8;id=121696;file:///home/p/Desktop/Programs/Python/openfl/openfl/openfl/component/collaborator/collaborator.py\u001B\\\u001B[2mcollaborator.py\u001B[0m\u001B]8;;\u001B\\\u001B[2m:\u001B[0m\u001B]8;id=378485;file:///home/p/Desktop/Programs/Python/openfl/openfl/openfl/component/collaborator/collaborator.py#415\u001B\\\u001B[2m415\u001B[0m\u001B]8;;\u001B\\\n",
      "text/html": "<pre style=\"white-space:pre;overflow-x:auto;line-height:normal;font-family:Menlo,'DejaVu Sans Mono',consolas,'Courier New',monospace\"><span style=\"color: #7fbfbf; text-decoration-color: #7fbfbf\">           </span>METRIC   Round <span style=\"color: #008080; text-decoration-color: #008080; font-weight: bold\">0</span>, collaborator four is sending metric for task train: cross_entropy      <span style=\"color: #008080; text-decoration-color: #008080; font-weight: bold\">0.934301</span>                                 <a href=\"file:///home/p/Desktop/Programs/Python/openfl/openfl/openfl/component/collaborator/collaborator.py\" target=\"_blank\"><span style=\"color: #7f7f7f; text-decoration-color: #7f7f7f\">collaborator.py</span></a><span style=\"color: #7f7f7f; text-decoration-color: #7f7f7f\">:</span><a href=\"file:///home/p/Desktop/Programs/Python/openfl/openfl/openfl/component/collaborator/collaborator.py#415\" target=\"_blank\"><span style=\"color: #7f7f7f; text-decoration-color: #7f7f7f\">415</span></a>\n</pre>\n"
     },
     "metadata": {},
     "output_type": "display_data"
    },
    {
     "data": {
      "text/plain": "\u001B[2;36m          \u001B[0m\u001B[2;36m \u001B[0mMETRIC   Round \u001B[1;36m0\u001B[0m, collaborator metric train result cross_entropy:        \u001B[1;36m0.934301\u001B[0m                                                   \u001B]8;id=972561;file:///home/p/Desktop/Programs/Python/openfl/openfl/openfl/component/aggregator/aggregator.py\u001B\\\u001B[2maggregator.py\u001B[0m\u001B]8;;\u001B\\\u001B[2m:\u001B[0m\u001B]8;id=338120;file:///home/p/Desktop/Programs/Python/openfl/openfl/openfl/component/aggregator/aggregator.py#559\u001B\\\u001B[2m559\u001B[0m\u001B]8;;\u001B\\\n",
      "text/html": "<pre style=\"white-space:pre;overflow-x:auto;line-height:normal;font-family:Menlo,'DejaVu Sans Mono',consolas,'Courier New',monospace\"><span style=\"color: #7fbfbf; text-decoration-color: #7fbfbf\">           </span>METRIC   Round <span style=\"color: #008080; text-decoration-color: #008080; font-weight: bold\">0</span>, collaborator metric train result cross_entropy:        <span style=\"color: #008080; text-decoration-color: #008080; font-weight: bold\">0.934301</span>                                                   <a href=\"file:///home/p/Desktop/Programs/Python/openfl/openfl/openfl/component/aggregator/aggregator.py\" target=\"_blank\"><span style=\"color: #7f7f7f; text-decoration-color: #7f7f7f\">aggregator.py</span></a><span style=\"color: #7f7f7f; text-decoration-color: #7f7f7f\">:</span><a href=\"file:///home/p/Desktop/Programs/Python/openfl/openfl/openfl/component/aggregator/aggregator.py#559\" target=\"_blank\"><span style=\"color: #7f7f7f; text-decoration-color: #7f7f7f\">559</span></a>\n</pre>\n"
     },
     "metadata": {},
     "output_type": "display_data"
    },
    {
     "data": {
      "text/plain": "\u001B[2;36m          \u001B[0m\u001B[2;36m \u001B[0mMETRIC   Round \u001B[1;36m0\u001B[0m, collaborator four is sending metric for task locally_tuned_model_validation: acc       \u001B[1;36m0.276000\u001B[0m                 \u001B]8;id=293014;file:///home/p/Desktop/Programs/Python/openfl/openfl/openfl/component/collaborator/collaborator.py\u001B\\\u001B[2mcollaborator.py\u001B[0m\u001B]8;;\u001B\\\u001B[2m:\u001B[0m\u001B]8;id=670471;file:///home/p/Desktop/Programs/Python/openfl/openfl/openfl/component/collaborator/collaborator.py#415\u001B\\\u001B[2m415\u001B[0m\u001B]8;;\u001B\\\n",
      "text/html": "<pre style=\"white-space:pre;overflow-x:auto;line-height:normal;font-family:Menlo,'DejaVu Sans Mono',consolas,'Courier New',monospace\"><span style=\"color: #7fbfbf; text-decoration-color: #7fbfbf\">           </span>METRIC   Round <span style=\"color: #008080; text-decoration-color: #008080; font-weight: bold\">0</span>, collaborator four is sending metric for task locally_tuned_model_validation: acc       <span style=\"color: #008080; text-decoration-color: #008080; font-weight: bold\">0.276000</span>                 <a href=\"file:///home/p/Desktop/Programs/Python/openfl/openfl/openfl/component/collaborator/collaborator.py\" target=\"_blank\"><span style=\"color: #7f7f7f; text-decoration-color: #7f7f7f\">collaborator.py</span></a><span style=\"color: #7f7f7f; text-decoration-color: #7f7f7f\">:</span><a href=\"file:///home/p/Desktop/Programs/Python/openfl/openfl/openfl/component/collaborator/collaborator.py#415\" target=\"_blank\"><span style=\"color: #7f7f7f; text-decoration-color: #7f7f7f\">415</span></a>\n</pre>\n"
     },
     "metadata": {},
     "output_type": "display_data"
    },
    {
     "data": {
      "text/plain": "\u001B[2;36m          \u001B[0m\u001B[2;36m \u001B[0mMETRIC   Round \u001B[1;36m0\u001B[0m, collaborator validate_local locally_tuned_model_validation result acc: \u001B[1;36m0.276000\u001B[0m                                   \u001B]8;id=526596;file:///home/p/Desktop/Programs/Python/openfl/openfl/openfl/component/aggregator/aggregator.py\u001B\\\u001B[2maggregator.py\u001B[0m\u001B]8;;\u001B\\\u001B[2m:\u001B[0m\u001B]8;id=500578;file:///home/p/Desktop/Programs/Python/openfl/openfl/openfl/component/aggregator/aggregator.py#559\u001B\\\u001B[2m559\u001B[0m\u001B]8;;\u001B\\\n",
      "text/html": "<pre style=\"white-space:pre;overflow-x:auto;line-height:normal;font-family:Menlo,'DejaVu Sans Mono',consolas,'Courier New',monospace\"><span style=\"color: #7fbfbf; text-decoration-color: #7fbfbf\">           </span>METRIC   Round <span style=\"color: #008080; text-decoration-color: #008080; font-weight: bold\">0</span>, collaborator validate_local locally_tuned_model_validation result acc: <span style=\"color: #008080; text-decoration-color: #008080; font-weight: bold\">0.276000</span>                                   <a href=\"file:///home/p/Desktop/Programs/Python/openfl/openfl/openfl/component/aggregator/aggregator.py\" target=\"_blank\"><span style=\"color: #7f7f7f; text-decoration-color: #7f7f7f\">aggregator.py</span></a><span style=\"color: #7f7f7f; text-decoration-color: #7f7f7f\">:</span><a href=\"file:///home/p/Desktop/Programs/Python/openfl/openfl/openfl/component/aggregator/aggregator.py#559\" target=\"_blank\"><span style=\"color: #7f7f7f; text-decoration-color: #7f7f7f\">559</span></a>\n</pre>\n"
     },
     "metadata": {},
     "output_type": "display_data"
    },
    {
     "data": {
      "text/plain": "\u001B[2;36m          \u001B[0m\u001B[2;36m \u001B[0mMETRIC   Round \u001B[1;36m0\u001B[0m, aggregator: locally_tuned_model_validation                                                                        \u001B]8;id=992663;file:///home/p/Desktop/Programs/Python/openfl/openfl/openfl/component/aggregator/aggregator.py\u001B\\\u001B[2maggregator.py\u001B[0m\u001B]8;;\u001B\\\u001B[2m:\u001B[0m\u001B]8;id=466439;file:///home/p/Desktop/Programs/Python/openfl/openfl/openfl/component/aggregator/aggregator.py#842\u001B\\\u001B[2m842\u001B[0m\u001B]8;;\u001B\\\n\u001B[2;36m           \u001B[0m         \u001B[1m<\u001B[0m\u001B[1;95mopenfl.interface.aggregation_functions.weighted_average.WeightedAverage\u001B[0m\u001B[39m object at \u001B[0m\u001B[1;36m0x7f2dc10bf580\u001B[0m\u001B[1m>\u001B[0m acc:     \u001B[1;36m0.275700\u001B[0m       \u001B[2m                 \u001B[0m\n",
      "text/html": "<pre style=\"white-space:pre;overflow-x:auto;line-height:normal;font-family:Menlo,'DejaVu Sans Mono',consolas,'Courier New',monospace\"><span style=\"color: #7fbfbf; text-decoration-color: #7fbfbf\">           </span>METRIC   Round <span style=\"color: #008080; text-decoration-color: #008080; font-weight: bold\">0</span>, aggregator: locally_tuned_model_validation                                                                        <a href=\"file:///home/p/Desktop/Programs/Python/openfl/openfl/openfl/component/aggregator/aggregator.py\" target=\"_blank\"><span style=\"color: #7f7f7f; text-decoration-color: #7f7f7f\">aggregator.py</span></a><span style=\"color: #7f7f7f; text-decoration-color: #7f7f7f\">:</span><a href=\"file:///home/p/Desktop/Programs/Python/openfl/openfl/openfl/component/aggregator/aggregator.py#842\" target=\"_blank\"><span style=\"color: #7f7f7f; text-decoration-color: #7f7f7f\">842</span></a>\n<span style=\"color: #7fbfbf; text-decoration-color: #7fbfbf\">           </span>         <span style=\"font-weight: bold\">&lt;</span><span style=\"color: #ff00ff; text-decoration-color: #ff00ff; font-weight: bold\">openfl.interface.aggregation_functions.weighted_average.WeightedAverage</span><span style=\"color: #000000; text-decoration-color: #000000\"> object at </span><span style=\"color: #008080; text-decoration-color: #008080; font-weight: bold\">0x7f2dc10bf580</span><span style=\"font-weight: bold\">&gt;</span> acc:     <span style=\"color: #008080; text-decoration-color: #008080; font-weight: bold\">0.275700</span>       <span style=\"color: #7f7f7f; text-decoration-color: #7f7f7f\">                 </span>\n</pre>\n"
     },
     "metadata": {},
     "output_type": "display_data"
    },
    {
     "data": {
      "text/plain": "\u001B[2;36m          \u001B[0m\u001B[2;36m \u001B[0mMETRIC   Round \u001B[1;36m0\u001B[0m, aggregator: train \u001B[1m<\u001B[0m\u001B[1;95mopenfl.interface.aggregation_functions.weighted_average.WeightedAverage\u001B[0m\u001B[39m object at \u001B[0m             \u001B]8;id=305472;file:///home/p/Desktop/Programs/Python/openfl/openfl/openfl/component/aggregator/aggregator.py\u001B\\\u001B[2maggregator.py\u001B[0m\u001B]8;;\u001B\\\u001B[2m:\u001B[0m\u001B]8;id=646849;file:///home/p/Desktop/Programs/Python/openfl/openfl/openfl/component/aggregator/aggregator.py#842\u001B\\\u001B[2m842\u001B[0m\u001B]8;;\u001B\\\n\u001B[2;36m           \u001B[0m         \u001B[1;36m0x7f2dc10bf580\u001B[0m\u001B[1m>\u001B[0m cross_entropy:    \u001B[1;36m0.941625\u001B[0m                                                                                 \u001B[2m                 \u001B[0m\n",
      "text/html": "<pre style=\"white-space:pre;overflow-x:auto;line-height:normal;font-family:Menlo,'DejaVu Sans Mono',consolas,'Courier New',monospace\"><span style=\"color: #7fbfbf; text-decoration-color: #7fbfbf\">           </span>METRIC   Round <span style=\"color: #008080; text-decoration-color: #008080; font-weight: bold\">0</span>, aggregator: train <span style=\"font-weight: bold\">&lt;</span><span style=\"color: #ff00ff; text-decoration-color: #ff00ff; font-weight: bold\">openfl.interface.aggregation_functions.weighted_average.WeightedAverage</span><span style=\"color: #000000; text-decoration-color: #000000\"> object at </span>             <a href=\"file:///home/p/Desktop/Programs/Python/openfl/openfl/openfl/component/aggregator/aggregator.py\" target=\"_blank\"><span style=\"color: #7f7f7f; text-decoration-color: #7f7f7f\">aggregator.py</span></a><span style=\"color: #7f7f7f; text-decoration-color: #7f7f7f\">:</span><a href=\"file:///home/p/Desktop/Programs/Python/openfl/openfl/openfl/component/aggregator/aggregator.py#842\" target=\"_blank\"><span style=\"color: #7f7f7f; text-decoration-color: #7f7f7f\">842</span></a>\n<span style=\"color: #7fbfbf; text-decoration-color: #7fbfbf\">           </span>         <span style=\"color: #008080; text-decoration-color: #008080; font-weight: bold\">0x7f2dc10bf580</span><span style=\"font-weight: bold\">&gt;</span> cross_entropy:    <span style=\"color: #008080; text-decoration-color: #008080; font-weight: bold\">0.941625</span>                                                                                 <span style=\"color: #7f7f7f; text-decoration-color: #7f7f7f\">                 </span>\n</pre>\n"
     },
     "metadata": {},
     "output_type": "display_data"
    },
    {
     "data": {
      "text/plain": "\u001B[2;36m          \u001B[0m\u001B[2;36m \u001B[0mMETRIC   Round \u001B[1;36m0\u001B[0m, aggregator: aggregated_model_validation \u001B[1m<\u001B[0m\u001B[1;95mopenfl.interface.aggregation_functions.weighted_average.WeightedAverage\u001B[0m\u001B[39m \u001B[0m \u001B]8;id=989754;file:///home/p/Desktop/Programs/Python/openfl/openfl/openfl/component/aggregator/aggregator.py\u001B\\\u001B[2maggregator.py\u001B[0m\u001B]8;;\u001B\\\u001B[2m:\u001B[0m\u001B]8;id=904043;file:///home/p/Desktop/Programs/Python/openfl/openfl/openfl/component/aggregator/aggregator.py#842\u001B\\\u001B[2m842\u001B[0m\u001B]8;;\u001B\\\n\u001B[2;36m           \u001B[0m         \u001B[39mobject at \u001B[0m\u001B[1;36m0x7f2dc10bf580\u001B[0m\u001B[1m>\u001B[0m acc:        \u001B[1;36m0.107900\u001B[0m                                                                             \u001B[2m                 \u001B[0m\n",
      "text/html": "<pre style=\"white-space:pre;overflow-x:auto;line-height:normal;font-family:Menlo,'DejaVu Sans Mono',consolas,'Courier New',monospace\"><span style=\"color: #7fbfbf; text-decoration-color: #7fbfbf\">           </span>METRIC   Round <span style=\"color: #008080; text-decoration-color: #008080; font-weight: bold\">0</span>, aggregator: aggregated_model_validation <span style=\"font-weight: bold\">&lt;</span><span style=\"color: #ff00ff; text-decoration-color: #ff00ff; font-weight: bold\">openfl.interface.aggregation_functions.weighted_average.WeightedAverage</span><span style=\"color: #000000; text-decoration-color: #000000\"> </span> <a href=\"file:///home/p/Desktop/Programs/Python/openfl/openfl/openfl/component/aggregator/aggregator.py\" target=\"_blank\"><span style=\"color: #7f7f7f; text-decoration-color: #7f7f7f\">aggregator.py</span></a><span style=\"color: #7f7f7f; text-decoration-color: #7f7f7f\">:</span><a href=\"file:///home/p/Desktop/Programs/Python/openfl/openfl/openfl/component/aggregator/aggregator.py#842\" target=\"_blank\"><span style=\"color: #7f7f7f; text-decoration-color: #7f7f7f\">842</span></a>\n<span style=\"color: #7fbfbf; text-decoration-color: #7fbfbf\">           </span>         <span style=\"color: #000000; text-decoration-color: #000000\">object at </span><span style=\"color: #008080; text-decoration-color: #008080; font-weight: bold\">0x7f2dc10bf580</span><span style=\"font-weight: bold\">&gt;</span> acc:        <span style=\"color: #008080; text-decoration-color: #008080; font-weight: bold\">0.107900</span>                                                                             <span style=\"color: #7f7f7f; text-decoration-color: #7f7f7f\">                 </span>\n</pre>\n"
     },
     "metadata": {},
     "output_type": "display_data"
    },
    {
     "data": {
      "text/plain": "\u001B[2;36m          \u001B[0m\u001B[2;36m \u001B[0mMETRIC   Round \u001B[1;36m0\u001B[0m: saved the best model with score \u001B[1;36m0.107900\u001B[0m                                                                          \u001B]8;id=830584;file:///home/p/Desktop/Programs/Python/openfl/openfl/openfl/component/aggregator/aggregator.py\u001B\\\u001B[2maggregator.py\u001B[0m\u001B]8;;\u001B\\\u001B[2m:\u001B[0m\u001B]8;id=224468;file:///home/p/Desktop/Programs/Python/openfl/openfl/openfl/component/aggregator/aggregator.py#858\u001B\\\u001B[2m858\u001B[0m\u001B]8;;\u001B\\\n",
      "text/html": "<pre style=\"white-space:pre;overflow-x:auto;line-height:normal;font-family:Menlo,'DejaVu Sans Mono',consolas,'Courier New',monospace\"><span style=\"color: #7fbfbf; text-decoration-color: #7fbfbf\">           </span>METRIC   Round <span style=\"color: #008080; text-decoration-color: #008080; font-weight: bold\">0</span>: saved the best model with score <span style=\"color: #008080; text-decoration-color: #008080; font-weight: bold\">0.107900</span>                                                                          <a href=\"file:///home/p/Desktop/Programs/Python/openfl/openfl/openfl/component/aggregator/aggregator.py\" target=\"_blank\"><span style=\"color: #7f7f7f; text-decoration-color: #7f7f7f\">aggregator.py</span></a><span style=\"color: #7f7f7f; text-decoration-color: #7f7f7f\">:</span><a href=\"file:///home/p/Desktop/Programs/Python/openfl/openfl/openfl/component/aggregator/aggregator.py#858\" target=\"_blank\"><span style=\"color: #7f7f7f; text-decoration-color: #7f7f7f\">858</span></a>\n</pre>\n"
     },
     "metadata": {},
     "output_type": "display_data"
    },
    {
     "data": {
      "text/plain": "\u001B[2;36m          \u001B[0m\u001B[2;36m \u001B[0m\u001B[31mWARNING \u001B[0m tried to remove tensor: __opt_state_needed not present in the tensor dict                                                       \u001B]8;id=29902;file:///home/p/Desktop/Programs/Python/openfl/openfl/openfl/utilities/utils.py\u001B\\\u001B[2mutils.py\u001B[0m\u001B]8;;\u001B\\\u001B[2m:\u001B[0m\u001B]8;id=716486;file:///home/p/Desktop/Programs/Python/openfl/openfl/openfl/utilities/utils.py#172\u001B\\\u001B[2m172\u001B[0m\u001B]8;;\u001B\\\n",
      "text/html": "<pre style=\"white-space:pre;overflow-x:auto;line-height:normal;font-family:Menlo,'DejaVu Sans Mono',consolas,'Courier New',monospace\"><span style=\"color: #7fbfbf; text-decoration-color: #7fbfbf\">           </span><span style=\"color: #800000; text-decoration-color: #800000\">WARNING </span> tried to remove tensor: __opt_state_needed not present in the tensor dict                                                       <a href=\"file:///home/p/Desktop/Programs/Python/openfl/openfl/openfl/utilities/utils.py\" target=\"_blank\"><span style=\"color: #7f7f7f; text-decoration-color: #7f7f7f\">utils.py</span></a><span style=\"color: #7f7f7f; text-decoration-color: #7f7f7f\">:</span><a href=\"file:///home/p/Desktop/Programs/Python/openfl/openfl/openfl/utilities/utils.py#172\" target=\"_blank\"><span style=\"color: #7f7f7f; text-decoration-color: #7f7f7f\">172</span></a>\n</pre>\n"
     },
     "metadata": {},
     "output_type": "display_data"
    },
    {
     "data": {
      "text/plain": "\u001B[2;36m          \u001B[0m\u001B[2;36m \u001B[0m\u001B[31mWARNING \u001B[0m tried to remove tensor: __opt_state_needed not present in the tensor dict                                                       \u001B]8;id=585126;file:///home/p/Desktop/Programs/Python/openfl/openfl/openfl/utilities/utils.py\u001B\\\u001B[2mutils.py\u001B[0m\u001B]8;;\u001B\\\u001B[2m:\u001B[0m\u001B]8;id=929496;file:///home/p/Desktop/Programs/Python/openfl/openfl/openfl/utilities/utils.py#172\u001B\\\u001B[2m172\u001B[0m\u001B]8;;\u001B\\\n",
      "text/html": "<pre style=\"white-space:pre;overflow-x:auto;line-height:normal;font-family:Menlo,'DejaVu Sans Mono',consolas,'Courier New',monospace\"><span style=\"color: #7fbfbf; text-decoration-color: #7fbfbf\">           </span><span style=\"color: #800000; text-decoration-color: #800000\">WARNING </span> tried to remove tensor: __opt_state_needed not present in the tensor dict                                                       <a href=\"file:///home/p/Desktop/Programs/Python/openfl/openfl/openfl/utilities/utils.py\" target=\"_blank\"><span style=\"color: #7f7f7f; text-decoration-color: #7f7f7f\">utils.py</span></a><span style=\"color: #7f7f7f; text-decoration-color: #7f7f7f\">:</span><a href=\"file:///home/p/Desktop/Programs/Python/openfl/openfl/openfl/utilities/utils.py#172\" target=\"_blank\"><span style=\"color: #7f7f7f; text-decoration-color: #7f7f7f\">172</span></a>\n</pre>\n"
     },
     "metadata": {},
     "output_type": "display_data"
    },
    {
     "data": {
      "text/plain": "\u001B[2;36m          \u001B[0m\u001B[2;36m \u001B[0m\u001B[31mWARNING \u001B[0m tried to remove tensor: __opt_state_needed not present in the tensor dict                                                       \u001B]8;id=209996;file:///home/p/Desktop/Programs/Python/openfl/openfl/openfl/utilities/utils.py\u001B\\\u001B[2mutils.py\u001B[0m\u001B]8;;\u001B\\\u001B[2m:\u001B[0m\u001B]8;id=456423;file:///home/p/Desktop/Programs/Python/openfl/openfl/openfl/utilities/utils.py#172\u001B\\\u001B[2m172\u001B[0m\u001B]8;;\u001B\\\n",
      "text/html": "<pre style=\"white-space:pre;overflow-x:auto;line-height:normal;font-family:Menlo,'DejaVu Sans Mono',consolas,'Courier New',monospace\"><span style=\"color: #7fbfbf; text-decoration-color: #7fbfbf\">           </span><span style=\"color: #800000; text-decoration-color: #800000\">WARNING </span> tried to remove tensor: __opt_state_needed not present in the tensor dict                                                       <a href=\"file:///home/p/Desktop/Programs/Python/openfl/openfl/openfl/utilities/utils.py\" target=\"_blank\"><span style=\"color: #7f7f7f; text-decoration-color: #7f7f7f\">utils.py</span></a><span style=\"color: #7f7f7f; text-decoration-color: #7f7f7f\">:</span><a href=\"file:///home/p/Desktop/Programs/Python/openfl/openfl/openfl/utilities/utils.py#172\" target=\"_blank\"><span style=\"color: #7f7f7f; text-decoration-color: #7f7f7f\">172</span></a>\n</pre>\n"
     },
     "metadata": {},
     "output_type": "display_data"
    },
    {
     "data": {
      "text/plain": "\u001B[2;36m          \u001B[0m\u001B[2;36m \u001B[0m\u001B[31mWARNING \u001B[0m tried to remove tensor: __opt_state_needed not present in the tensor dict                                                       \u001B]8;id=655085;file:///home/p/Desktop/Programs/Python/openfl/openfl/openfl/utilities/utils.py\u001B\\\u001B[2mutils.py\u001B[0m\u001B]8;;\u001B\\\u001B[2m:\u001B[0m\u001B]8;id=753717;file:///home/p/Desktop/Programs/Python/openfl/openfl/openfl/utilities/utils.py#172\u001B\\\u001B[2m172\u001B[0m\u001B]8;;\u001B\\\n",
      "text/html": "<pre style=\"white-space:pre;overflow-x:auto;line-height:normal;font-family:Menlo,'DejaVu Sans Mono',consolas,'Courier New',monospace\"><span style=\"color: #7fbfbf; text-decoration-color: #7fbfbf\">           </span><span style=\"color: #800000; text-decoration-color: #800000\">WARNING </span> tried to remove tensor: __opt_state_needed not present in the tensor dict                                                       <a href=\"file:///home/p/Desktop/Programs/Python/openfl/openfl/openfl/utilities/utils.py\" target=\"_blank\"><span style=\"color: #7f7f7f; text-decoration-color: #7f7f7f\">utils.py</span></a><span style=\"color: #7f7f7f; text-decoration-color: #7f7f7f\">:</span><a href=\"file:///home/p/Desktop/Programs/Python/openfl/openfl/openfl/utilities/utils.py#172\" target=\"_blank\"><span style=\"color: #7f7f7f; text-decoration-color: #7f7f7f\">172</span></a>\n</pre>\n"
     },
     "metadata": {},
     "output_type": "display_data"
    },
    {
     "data": {
      "text/plain": "\u001B[2;36m          \u001B[0m\u001B[2;36m \u001B[0m\u001B[31mWARNING \u001B[0m tried to remove tensor: __opt_state_needed not present in the tensor dict                                                       \u001B]8;id=41109;file:///home/p/Desktop/Programs/Python/openfl/openfl/openfl/utilities/utils.py\u001B\\\u001B[2mutils.py\u001B[0m\u001B]8;;\u001B\\\u001B[2m:\u001B[0m\u001B]8;id=437943;file:///home/p/Desktop/Programs/Python/openfl/openfl/openfl/utilities/utils.py#172\u001B\\\u001B[2m172\u001B[0m\u001B]8;;\u001B\\\n",
      "text/html": "<pre style=\"white-space:pre;overflow-x:auto;line-height:normal;font-family:Menlo,'DejaVu Sans Mono',consolas,'Courier New',monospace\"><span style=\"color: #7fbfbf; text-decoration-color: #7fbfbf\">           </span><span style=\"color: #800000; text-decoration-color: #800000\">WARNING </span> tried to remove tensor: __opt_state_needed not present in the tensor dict                                                       <a href=\"file:///home/p/Desktop/Programs/Python/openfl/openfl/openfl/utilities/utils.py\" target=\"_blank\"><span style=\"color: #7f7f7f; text-decoration-color: #7f7f7f\">utils.py</span></a><span style=\"color: #7f7f7f; text-decoration-color: #7f7f7f\">:</span><a href=\"file:///home/p/Desktop/Programs/Python/openfl/openfl/openfl/utilities/utils.py#172\" target=\"_blank\"><span style=\"color: #7f7f7f; text-decoration-color: #7f7f7f\">172</span></a>\n</pre>\n"
     },
     "metadata": {},
     "output_type": "display_data"
    },
    {
     "data": {
      "text/plain": "\u001B[2;36m          \u001B[0m\u001B[2;36m \u001B[0mMETRIC   Round \u001B[1;36m0\u001B[0m, collaborator one is sending metric for task aggregated_model_validation: acc   \u001B[1;36m0.279200\u001B[0m                         \u001B]8;id=424390;file:///home/p/Desktop/Programs/Python/openfl/openfl/openfl/component/collaborator/collaborator.py\u001B\\\u001B[2mcollaborator.py\u001B[0m\u001B]8;;\u001B\\\u001B[2m:\u001B[0m\u001B]8;id=827570;file:///home/p/Desktop/Programs/Python/openfl/openfl/openfl/component/collaborator/collaborator.py#415\u001B\\\u001B[2m415\u001B[0m\u001B]8;;\u001B\\\n",
      "text/html": "<pre style=\"white-space:pre;overflow-x:auto;line-height:normal;font-family:Menlo,'DejaVu Sans Mono',consolas,'Courier New',monospace\"><span style=\"color: #7fbfbf; text-decoration-color: #7fbfbf\">           </span>METRIC   Round <span style=\"color: #008080; text-decoration-color: #008080; font-weight: bold\">0</span>, collaborator one is sending metric for task aggregated_model_validation: acc   <span style=\"color: #008080; text-decoration-color: #008080; font-weight: bold\">0.279200</span>                         <a href=\"file:///home/p/Desktop/Programs/Python/openfl/openfl/openfl/component/collaborator/collaborator.py\" target=\"_blank\"><span style=\"color: #7f7f7f; text-decoration-color: #7f7f7f\">collaborator.py</span></a><span style=\"color: #7f7f7f; text-decoration-color: #7f7f7f\">:</span><a href=\"file:///home/p/Desktop/Programs/Python/openfl/openfl/openfl/component/collaborator/collaborator.py#415\" target=\"_blank\"><span style=\"color: #7f7f7f; text-decoration-color: #7f7f7f\">415</span></a>\n</pre>\n"
     },
     "metadata": {},
     "output_type": "display_data"
    },
    {
     "data": {
      "text/plain": "\u001B[2;36m          \u001B[0m\u001B[2;36m \u001B[0mMETRIC   Round \u001B[1;36m0\u001B[0m, collaborator validate_agg aggregated_model_validation result acc:      \u001B[1;36m0.279200\u001B[0m                                   \u001B]8;id=386368;file:///home/p/Desktop/Programs/Python/openfl/openfl/openfl/component/aggregator/aggregator.py\u001B\\\u001B[2maggregator.py\u001B[0m\u001B]8;;\u001B\\\u001B[2m:\u001B[0m\u001B]8;id=669058;file:///home/p/Desktop/Programs/Python/openfl/openfl/openfl/component/aggregator/aggregator.py#559\u001B\\\u001B[2m559\u001B[0m\u001B]8;;\u001B\\\n",
      "text/html": "<pre style=\"white-space:pre;overflow-x:auto;line-height:normal;font-family:Menlo,'DejaVu Sans Mono',consolas,'Courier New',monospace\"><span style=\"color: #7fbfbf; text-decoration-color: #7fbfbf\">           </span>METRIC   Round <span style=\"color: #008080; text-decoration-color: #008080; font-weight: bold\">0</span>, collaborator validate_agg aggregated_model_validation result acc:      <span style=\"color: #008080; text-decoration-color: #008080; font-weight: bold\">0.279200</span>                                   <a href=\"file:///home/p/Desktop/Programs/Python/openfl/openfl/openfl/component/aggregator/aggregator.py\" target=\"_blank\"><span style=\"color: #7f7f7f; text-decoration-color: #7f7f7f\">aggregator.py</span></a><span style=\"color: #7f7f7f; text-decoration-color: #7f7f7f\">:</span><a href=\"file:///home/p/Desktop/Programs/Python/openfl/openfl/openfl/component/aggregator/aggregator.py#559\" target=\"_blank\"><span style=\"color: #7f7f7f; text-decoration-color: #7f7f7f\">559</span></a>\n</pre>\n"
     },
     "metadata": {},
     "output_type": "display_data"
    },
    {
     "data": {
      "text/plain": "\u001B[2;36m[18:56:45]\u001B[0m\u001B[2;36m \u001B[0m\u001B[31mWARNING \u001B[0m tried to remove tensor: __opt_state_needed not present in the tensor dict                                                       \u001B]8;id=17943;file:///home/p/Desktop/Programs/Python/openfl/openfl/openfl/utilities/utils.py\u001B\\\u001B[2mutils.py\u001B[0m\u001B]8;;\u001B\\\u001B[2m:\u001B[0m\u001B]8;id=722266;file:///home/p/Desktop/Programs/Python/openfl/openfl/openfl/utilities/utils.py#172\u001B\\\u001B[2m172\u001B[0m\u001B]8;;\u001B\\\n",
      "text/html": "<pre style=\"white-space:pre;overflow-x:auto;line-height:normal;font-family:Menlo,'DejaVu Sans Mono',consolas,'Courier New',monospace\"><span style=\"color: #7fbfbf; text-decoration-color: #7fbfbf\">[18:56:45] </span><span style=\"color: #800000; text-decoration-color: #800000\">WARNING </span> tried to remove tensor: __opt_state_needed not present in the tensor dict                                                       <a href=\"file:///home/p/Desktop/Programs/Python/openfl/openfl/openfl/utilities/utils.py\" target=\"_blank\"><span style=\"color: #7f7f7f; text-decoration-color: #7f7f7f\">utils.py</span></a><span style=\"color: #7f7f7f; text-decoration-color: #7f7f7f\">:</span><a href=\"file:///home/p/Desktop/Programs/Python/openfl/openfl/openfl/utilities/utils.py#172\" target=\"_blank\"><span style=\"color: #7f7f7f; text-decoration-color: #7f7f7f\">172</span></a>\n</pre>\n"
     },
     "metadata": {},
     "output_type": "display_data"
    },
    {
     "data": {
      "text/plain": "\u001B[2;36m          \u001B[0m\u001B[2;36m \u001B[0mMETRIC   Round \u001B[1;36m0\u001B[0m, collaborator one is sending metric for task train: cross_entropy       \u001B[1;36m0.474300\u001B[0m                                 \u001B]8;id=836481;file:///home/p/Desktop/Programs/Python/openfl/openfl/openfl/component/collaborator/collaborator.py\u001B\\\u001B[2mcollaborator.py\u001B[0m\u001B]8;;\u001B\\\u001B[2m:\u001B[0m\u001B]8;id=39773;file:///home/p/Desktop/Programs/Python/openfl/openfl/openfl/component/collaborator/collaborator.py#415\u001B\\\u001B[2m415\u001B[0m\u001B]8;;\u001B\\\n",
      "text/html": "<pre style=\"white-space:pre;overflow-x:auto;line-height:normal;font-family:Menlo,'DejaVu Sans Mono',consolas,'Courier New',monospace\"><span style=\"color: #7fbfbf; text-decoration-color: #7fbfbf\">           </span>METRIC   Round <span style=\"color: #008080; text-decoration-color: #008080; font-weight: bold\">0</span>, collaborator one is sending metric for task train: cross_entropy       <span style=\"color: #008080; text-decoration-color: #008080; font-weight: bold\">0.474300</span>                                 <a href=\"file:///home/p/Desktop/Programs/Python/openfl/openfl/openfl/component/collaborator/collaborator.py\" target=\"_blank\"><span style=\"color: #7f7f7f; text-decoration-color: #7f7f7f\">collaborator.py</span></a><span style=\"color: #7f7f7f; text-decoration-color: #7f7f7f\">:</span><a href=\"file:///home/p/Desktop/Programs/Python/openfl/openfl/openfl/component/collaborator/collaborator.py#415\" target=\"_blank\"><span style=\"color: #7f7f7f; text-decoration-color: #7f7f7f\">415</span></a>\n</pre>\n"
     },
     "metadata": {},
     "output_type": "display_data"
    },
    {
     "data": {
      "text/plain": "\u001B[2;36m          \u001B[0m\u001B[2;36m \u001B[0mMETRIC   Round \u001B[1;36m0\u001B[0m, collaborator one train result cross_entropy:   \u001B[1;36m0.474300\u001B[0m                                                           \u001B]8;id=560918;file:///home/p/Desktop/Programs/Python/openfl/openfl/openfl/component/aggregator/aggregator.py\u001B\\\u001B[2maggregator.py\u001B[0m\u001B]8;;\u001B\\\u001B[2m:\u001B[0m\u001B]8;id=209892;file:///home/p/Desktop/Programs/Python/openfl/openfl/openfl/component/aggregator/aggregator.py#559\u001B\\\u001B[2m559\u001B[0m\u001B]8;;\u001B\\\n",
      "text/html": "<pre style=\"white-space:pre;overflow-x:auto;line-height:normal;font-family:Menlo,'DejaVu Sans Mono',consolas,'Courier New',monospace\"><span style=\"color: #7fbfbf; text-decoration-color: #7fbfbf\">           </span>METRIC   Round <span style=\"color: #008080; text-decoration-color: #008080; font-weight: bold\">0</span>, collaborator one train result cross_entropy:   <span style=\"color: #008080; text-decoration-color: #008080; font-weight: bold\">0.474300</span>                                                           <a href=\"file:///home/p/Desktop/Programs/Python/openfl/openfl/openfl/component/aggregator/aggregator.py\" target=\"_blank\"><span style=\"color: #7f7f7f; text-decoration-color: #7f7f7f\">aggregator.py</span></a><span style=\"color: #7f7f7f; text-decoration-color: #7f7f7f\">:</span><a href=\"file:///home/p/Desktop/Programs/Python/openfl/openfl/openfl/component/aggregator/aggregator.py#559\" target=\"_blank\"><span style=\"color: #7f7f7f; text-decoration-color: #7f7f7f\">559</span></a>\n</pre>\n"
     },
     "metadata": {},
     "output_type": "display_data"
    },
    {
     "data": {
      "text/plain": "\u001B[2;36m          \u001B[0m\u001B[2;36m \u001B[0mMETRIC   Round \u001B[1;36m0\u001B[0m, collaborator one is sending metric for task locally_tuned_model_validation: acc        \u001B[1;36m0.444800\u001B[0m                 \u001B]8;id=103068;file:///home/p/Desktop/Programs/Python/openfl/openfl/openfl/component/collaborator/collaborator.py\u001B\\\u001B[2mcollaborator.py\u001B[0m\u001B]8;;\u001B\\\u001B[2m:\u001B[0m\u001B]8;id=744786;file:///home/p/Desktop/Programs/Python/openfl/openfl/openfl/component/collaborator/collaborator.py#415\u001B\\\u001B[2m415\u001B[0m\u001B]8;;\u001B\\\n",
      "text/html": "<pre style=\"white-space:pre;overflow-x:auto;line-height:normal;font-family:Menlo,'DejaVu Sans Mono',consolas,'Courier New',monospace\"><span style=\"color: #7fbfbf; text-decoration-color: #7fbfbf\">           </span>METRIC   Round <span style=\"color: #008080; text-decoration-color: #008080; font-weight: bold\">0</span>, collaborator one is sending metric for task locally_tuned_model_validation: acc        <span style=\"color: #008080; text-decoration-color: #008080; font-weight: bold\">0.444800</span>                 <a href=\"file:///home/p/Desktop/Programs/Python/openfl/openfl/openfl/component/collaborator/collaborator.py\" target=\"_blank\"><span style=\"color: #7f7f7f; text-decoration-color: #7f7f7f\">collaborator.py</span></a><span style=\"color: #7f7f7f; text-decoration-color: #7f7f7f\">:</span><a href=\"file:///home/p/Desktop/Programs/Python/openfl/openfl/openfl/component/collaborator/collaborator.py#415\" target=\"_blank\"><span style=\"color: #7f7f7f; text-decoration-color: #7f7f7f\">415</span></a>\n</pre>\n"
     },
     "metadata": {},
     "output_type": "display_data"
    },
    {
     "data": {
      "text/plain": "\u001B[2;36m          \u001B[0m\u001B[2;36m \u001B[0mMETRIC   Round \u001B[1;36m0\u001B[0m, collaborator validate_local locally_tuned_model_validation result acc: \u001B[1;36m0.444800\u001B[0m                                   \u001B]8;id=979394;file:///home/p/Desktop/Programs/Python/openfl/openfl/openfl/component/aggregator/aggregator.py\u001B\\\u001B[2maggregator.py\u001B[0m\u001B]8;;\u001B\\\u001B[2m:\u001B[0m\u001B]8;id=831494;file:///home/p/Desktop/Programs/Python/openfl/openfl/openfl/component/aggregator/aggregator.py#559\u001B\\\u001B[2m559\u001B[0m\u001B]8;;\u001B\\\n",
      "text/html": "<pre style=\"white-space:pre;overflow-x:auto;line-height:normal;font-family:Menlo,'DejaVu Sans Mono',consolas,'Courier New',monospace\"><span style=\"color: #7fbfbf; text-decoration-color: #7fbfbf\">           </span>METRIC   Round <span style=\"color: #008080; text-decoration-color: #008080; font-weight: bold\">0</span>, collaborator validate_local locally_tuned_model_validation result acc: <span style=\"color: #008080; text-decoration-color: #008080; font-weight: bold\">0.444800</span>                                   <a href=\"file:///home/p/Desktop/Programs/Python/openfl/openfl/openfl/component/aggregator/aggregator.py\" target=\"_blank\"><span style=\"color: #7f7f7f; text-decoration-color: #7f7f7f\">aggregator.py</span></a><span style=\"color: #7f7f7f; text-decoration-color: #7f7f7f\">:</span><a href=\"file:///home/p/Desktop/Programs/Python/openfl/openfl/openfl/component/aggregator/aggregator.py#559\" target=\"_blank\"><span style=\"color: #7f7f7f; text-decoration-color: #7f7f7f\">559</span></a>\n</pre>\n"
     },
     "metadata": {},
     "output_type": "display_data"
    },
    {
     "data": {
      "text/plain": "\u001B[2;36m          \u001B[0m\u001B[2;36m \u001B[0mMETRIC   Round \u001B[1;36m0\u001B[0m, collaborator two is sending metric for task aggregated_model_validation: acc   \u001B[1;36m0.279600\u001B[0m                         \u001B]8;id=652327;file:///home/p/Desktop/Programs/Python/openfl/openfl/openfl/component/collaborator/collaborator.py\u001B\\\u001B[2mcollaborator.py\u001B[0m\u001B]8;;\u001B\\\u001B[2m:\u001B[0m\u001B]8;id=640820;file:///home/p/Desktop/Programs/Python/openfl/openfl/openfl/component/collaborator/collaborator.py#415\u001B\\\u001B[2m415\u001B[0m\u001B]8;;\u001B\\\n",
      "text/html": "<pre style=\"white-space:pre;overflow-x:auto;line-height:normal;font-family:Menlo,'DejaVu Sans Mono',consolas,'Courier New',monospace\"><span style=\"color: #7fbfbf; text-decoration-color: #7fbfbf\">           </span>METRIC   Round <span style=\"color: #008080; text-decoration-color: #008080; font-weight: bold\">0</span>, collaborator two is sending metric for task aggregated_model_validation: acc   <span style=\"color: #008080; text-decoration-color: #008080; font-weight: bold\">0.279600</span>                         <a href=\"file:///home/p/Desktop/Programs/Python/openfl/openfl/openfl/component/collaborator/collaborator.py\" target=\"_blank\"><span style=\"color: #7f7f7f; text-decoration-color: #7f7f7f\">collaborator.py</span></a><span style=\"color: #7f7f7f; text-decoration-color: #7f7f7f\">:</span><a href=\"file:///home/p/Desktop/Programs/Python/openfl/openfl/openfl/component/collaborator/collaborator.py#415\" target=\"_blank\"><span style=\"color: #7f7f7f; text-decoration-color: #7f7f7f\">415</span></a>\n</pre>\n"
     },
     "metadata": {},
     "output_type": "display_data"
    },
    {
     "data": {
      "text/plain": "\u001B[2;36m          \u001B[0m\u001B[2;36m \u001B[0mMETRIC   Round \u001B[1;36m0\u001B[0m, collaborator validate_agg aggregated_model_validation result acc:      \u001B[1;36m0.279600\u001B[0m                                   \u001B]8;id=734652;file:///home/p/Desktop/Programs/Python/openfl/openfl/openfl/component/aggregator/aggregator.py\u001B\\\u001B[2maggregator.py\u001B[0m\u001B]8;;\u001B\\\u001B[2m:\u001B[0m\u001B]8;id=712110;file:///home/p/Desktop/Programs/Python/openfl/openfl/openfl/component/aggregator/aggregator.py#559\u001B\\\u001B[2m559\u001B[0m\u001B]8;;\u001B\\\n",
      "text/html": "<pre style=\"white-space:pre;overflow-x:auto;line-height:normal;font-family:Menlo,'DejaVu Sans Mono',consolas,'Courier New',monospace\"><span style=\"color: #7fbfbf; text-decoration-color: #7fbfbf\">           </span>METRIC   Round <span style=\"color: #008080; text-decoration-color: #008080; font-weight: bold\">0</span>, collaborator validate_agg aggregated_model_validation result acc:      <span style=\"color: #008080; text-decoration-color: #008080; font-weight: bold\">0.279600</span>                                   <a href=\"file:///home/p/Desktop/Programs/Python/openfl/openfl/openfl/component/aggregator/aggregator.py\" target=\"_blank\"><span style=\"color: #7f7f7f; text-decoration-color: #7f7f7f\">aggregator.py</span></a><span style=\"color: #7f7f7f; text-decoration-color: #7f7f7f\">:</span><a href=\"file:///home/p/Desktop/Programs/Python/openfl/openfl/openfl/component/aggregator/aggregator.py#559\" target=\"_blank\"><span style=\"color: #7f7f7f; text-decoration-color: #7f7f7f\">559</span></a>\n</pre>\n"
     },
     "metadata": {},
     "output_type": "display_data"
    },
    {
     "data": {
      "text/plain": "\u001B[2;36m[18:56:46]\u001B[0m\u001B[2;36m \u001B[0m\u001B[31mWARNING \u001B[0m tried to remove tensor: __opt_state_needed not present in the tensor dict                                                       \u001B]8;id=426647;file:///home/p/Desktop/Programs/Python/openfl/openfl/openfl/utilities/utils.py\u001B\\\u001B[2mutils.py\u001B[0m\u001B]8;;\u001B\\\u001B[2m:\u001B[0m\u001B]8;id=373040;file:///home/p/Desktop/Programs/Python/openfl/openfl/openfl/utilities/utils.py#172\u001B\\\u001B[2m172\u001B[0m\u001B]8;;\u001B\\\n",
      "text/html": "<pre style=\"white-space:pre;overflow-x:auto;line-height:normal;font-family:Menlo,'DejaVu Sans Mono',consolas,'Courier New',monospace\"><span style=\"color: #7fbfbf; text-decoration-color: #7fbfbf\">[18:56:46] </span><span style=\"color: #800000; text-decoration-color: #800000\">WARNING </span> tried to remove tensor: __opt_state_needed not present in the tensor dict                                                       <a href=\"file:///home/p/Desktop/Programs/Python/openfl/openfl/openfl/utilities/utils.py\" target=\"_blank\"><span style=\"color: #7f7f7f; text-decoration-color: #7f7f7f\">utils.py</span></a><span style=\"color: #7f7f7f; text-decoration-color: #7f7f7f\">:</span><a href=\"file:///home/p/Desktop/Programs/Python/openfl/openfl/openfl/utilities/utils.py#172\" target=\"_blank\"><span style=\"color: #7f7f7f; text-decoration-color: #7f7f7f\">172</span></a>\n</pre>\n"
     },
     "metadata": {},
     "output_type": "display_data"
    },
    {
     "data": {
      "text/plain": "\u001B[2;36m          \u001B[0m\u001B[2;36m \u001B[0mMETRIC   Round \u001B[1;36m0\u001B[0m, collaborator two is sending metric for task train: cross_entropy       \u001B[1;36m0.476653\u001B[0m                                 \u001B]8;id=148697;file:///home/p/Desktop/Programs/Python/openfl/openfl/openfl/component/collaborator/collaborator.py\u001B\\\u001B[2mcollaborator.py\u001B[0m\u001B]8;;\u001B\\\u001B[2m:\u001B[0m\u001B]8;id=719880;file:///home/p/Desktop/Programs/Python/openfl/openfl/openfl/component/collaborator/collaborator.py#415\u001B\\\u001B[2m415\u001B[0m\u001B]8;;\u001B\\\n",
      "text/html": "<pre style=\"white-space:pre;overflow-x:auto;line-height:normal;font-family:Menlo,'DejaVu Sans Mono',consolas,'Courier New',monospace\"><span style=\"color: #7fbfbf; text-decoration-color: #7fbfbf\">           </span>METRIC   Round <span style=\"color: #008080; text-decoration-color: #008080; font-weight: bold\">0</span>, collaborator two is sending metric for task train: cross_entropy       <span style=\"color: #008080; text-decoration-color: #008080; font-weight: bold\">0.476653</span>                                 <a href=\"file:///home/p/Desktop/Programs/Python/openfl/openfl/openfl/component/collaborator/collaborator.py\" target=\"_blank\"><span style=\"color: #7f7f7f; text-decoration-color: #7f7f7f\">collaborator.py</span></a><span style=\"color: #7f7f7f; text-decoration-color: #7f7f7f\">:</span><a href=\"file:///home/p/Desktop/Programs/Python/openfl/openfl/openfl/component/collaborator/collaborator.py#415\" target=\"_blank\"><span style=\"color: #7f7f7f; text-decoration-color: #7f7f7f\">415</span></a>\n</pre>\n"
     },
     "metadata": {},
     "output_type": "display_data"
    },
    {
     "data": {
      "text/plain": "\u001B[2;36m          \u001B[0m\u001B[2;36m \u001B[0mMETRIC   Round \u001B[1;36m0\u001B[0m, collaborator two train result cross_entropy:   \u001B[1;36m0.476653\u001B[0m                                                           \u001B]8;id=729569;file:///home/p/Desktop/Programs/Python/openfl/openfl/openfl/component/aggregator/aggregator.py\u001B\\\u001B[2maggregator.py\u001B[0m\u001B]8;;\u001B\\\u001B[2m:\u001B[0m\u001B]8;id=188442;file:///home/p/Desktop/Programs/Python/openfl/openfl/openfl/component/aggregator/aggregator.py#559\u001B\\\u001B[2m559\u001B[0m\u001B]8;;\u001B\\\n",
      "text/html": "<pre style=\"white-space:pre;overflow-x:auto;line-height:normal;font-family:Menlo,'DejaVu Sans Mono',consolas,'Courier New',monospace\"><span style=\"color: #7fbfbf; text-decoration-color: #7fbfbf\">           </span>METRIC   Round <span style=\"color: #008080; text-decoration-color: #008080; font-weight: bold\">0</span>, collaborator two train result cross_entropy:   <span style=\"color: #008080; text-decoration-color: #008080; font-weight: bold\">0.476653</span>                                                           <a href=\"file:///home/p/Desktop/Programs/Python/openfl/openfl/openfl/component/aggregator/aggregator.py\" target=\"_blank\"><span style=\"color: #7f7f7f; text-decoration-color: #7f7f7f\">aggregator.py</span></a><span style=\"color: #7f7f7f; text-decoration-color: #7f7f7f\">:</span><a href=\"file:///home/p/Desktop/Programs/Python/openfl/openfl/openfl/component/aggregator/aggregator.py#559\" target=\"_blank\"><span style=\"color: #7f7f7f; text-decoration-color: #7f7f7f\">559</span></a>\n</pre>\n"
     },
     "metadata": {},
     "output_type": "display_data"
    },
    {
     "data": {
      "text/plain": "\u001B[2;36m          \u001B[0m\u001B[2;36m \u001B[0mMETRIC   Round \u001B[1;36m0\u001B[0m, collaborator two is sending metric for task locally_tuned_model_validation: acc        \u001B[1;36m0.456400\u001B[0m                 \u001B]8;id=980110;file:///home/p/Desktop/Programs/Python/openfl/openfl/openfl/component/collaborator/collaborator.py\u001B\\\u001B[2mcollaborator.py\u001B[0m\u001B]8;;\u001B\\\u001B[2m:\u001B[0m\u001B]8;id=457203;file:///home/p/Desktop/Programs/Python/openfl/openfl/openfl/component/collaborator/collaborator.py#415\u001B\\\u001B[2m415\u001B[0m\u001B]8;;\u001B\\\n",
      "text/html": "<pre style=\"white-space:pre;overflow-x:auto;line-height:normal;font-family:Menlo,'DejaVu Sans Mono',consolas,'Courier New',monospace\"><span style=\"color: #7fbfbf; text-decoration-color: #7fbfbf\">           </span>METRIC   Round <span style=\"color: #008080; text-decoration-color: #008080; font-weight: bold\">0</span>, collaborator two is sending metric for task locally_tuned_model_validation: acc        <span style=\"color: #008080; text-decoration-color: #008080; font-weight: bold\">0.456400</span>                 <a href=\"file:///home/p/Desktop/Programs/Python/openfl/openfl/openfl/component/collaborator/collaborator.py\" target=\"_blank\"><span style=\"color: #7f7f7f; text-decoration-color: #7f7f7f\">collaborator.py</span></a><span style=\"color: #7f7f7f; text-decoration-color: #7f7f7f\">:</span><a href=\"file:///home/p/Desktop/Programs/Python/openfl/openfl/openfl/component/collaborator/collaborator.py#415\" target=\"_blank\"><span style=\"color: #7f7f7f; text-decoration-color: #7f7f7f\">415</span></a>\n</pre>\n"
     },
     "metadata": {},
     "output_type": "display_data"
    },
    {
     "data": {
      "text/plain": "\u001B[2;36m          \u001B[0m\u001B[2;36m \u001B[0mMETRIC   Round \u001B[1;36m0\u001B[0m, collaborator validate_local locally_tuned_model_validation result acc: \u001B[1;36m0.456400\u001B[0m                                   \u001B]8;id=511519;file:///home/p/Desktop/Programs/Python/openfl/openfl/openfl/component/aggregator/aggregator.py\u001B\\\u001B[2maggregator.py\u001B[0m\u001B]8;;\u001B\\\u001B[2m:\u001B[0m\u001B]8;id=653254;file:///home/p/Desktop/Programs/Python/openfl/openfl/openfl/component/aggregator/aggregator.py#559\u001B\\\u001B[2m559\u001B[0m\u001B]8;;\u001B\\\n",
      "text/html": "<pre style=\"white-space:pre;overflow-x:auto;line-height:normal;font-family:Menlo,'DejaVu Sans Mono',consolas,'Courier New',monospace\"><span style=\"color: #7fbfbf; text-decoration-color: #7fbfbf\">           </span>METRIC   Round <span style=\"color: #008080; text-decoration-color: #008080; font-weight: bold\">0</span>, collaborator validate_local locally_tuned_model_validation result acc: <span style=\"color: #008080; text-decoration-color: #008080; font-weight: bold\">0.456400</span>                                   <a href=\"file:///home/p/Desktop/Programs/Python/openfl/openfl/openfl/component/aggregator/aggregator.py\" target=\"_blank\"><span style=\"color: #7f7f7f; text-decoration-color: #7f7f7f\">aggregator.py</span></a><span style=\"color: #7f7f7f; text-decoration-color: #7f7f7f\">:</span><a href=\"file:///home/p/Desktop/Programs/Python/openfl/openfl/openfl/component/aggregator/aggregator.py#559\" target=\"_blank\"><span style=\"color: #7f7f7f; text-decoration-color: #7f7f7f\">559</span></a>\n</pre>\n"
     },
     "metadata": {},
     "output_type": "display_data"
    },
    {
     "data": {
      "text/plain": "\u001B[2;36m          \u001B[0m\u001B[2;36m \u001B[0mMETRIC   Round \u001B[1;36m0\u001B[0m, collaborator three is sending metric for task aggregated_model_validation: acc \u001B[1;36m0.257600\u001B[0m                         \u001B]8;id=699816;file:///home/p/Desktop/Programs/Python/openfl/openfl/openfl/component/collaborator/collaborator.py\u001B\\\u001B[2mcollaborator.py\u001B[0m\u001B]8;;\u001B\\\u001B[2m:\u001B[0m\u001B]8;id=623073;file:///home/p/Desktop/Programs/Python/openfl/openfl/openfl/component/collaborator/collaborator.py#415\u001B\\\u001B[2m415\u001B[0m\u001B]8;;\u001B\\\n",
      "text/html": "<pre style=\"white-space:pre;overflow-x:auto;line-height:normal;font-family:Menlo,'DejaVu Sans Mono',consolas,'Courier New',monospace\"><span style=\"color: #7fbfbf; text-decoration-color: #7fbfbf\">           </span>METRIC   Round <span style=\"color: #008080; text-decoration-color: #008080; font-weight: bold\">0</span>, collaborator three is sending metric for task aggregated_model_validation: acc <span style=\"color: #008080; text-decoration-color: #008080; font-weight: bold\">0.257600</span>                         <a href=\"file:///home/p/Desktop/Programs/Python/openfl/openfl/openfl/component/collaborator/collaborator.py\" target=\"_blank\"><span style=\"color: #7f7f7f; text-decoration-color: #7f7f7f\">collaborator.py</span></a><span style=\"color: #7f7f7f; text-decoration-color: #7f7f7f\">:</span><a href=\"file:///home/p/Desktop/Programs/Python/openfl/openfl/openfl/component/collaborator/collaborator.py#415\" target=\"_blank\"><span style=\"color: #7f7f7f; text-decoration-color: #7f7f7f\">415</span></a>\n</pre>\n"
     },
     "metadata": {},
     "output_type": "display_data"
    },
    {
     "data": {
      "text/plain": "\u001B[2;36m          \u001B[0m\u001B[2;36m \u001B[0mMETRIC   Round \u001B[1;36m0\u001B[0m, collaborator validate_agg aggregated_model_validation result acc:      \u001B[1;36m0.257600\u001B[0m                                   \u001B]8;id=343355;file:///home/p/Desktop/Programs/Python/openfl/openfl/openfl/component/aggregator/aggregator.py\u001B\\\u001B[2maggregator.py\u001B[0m\u001B]8;;\u001B\\\u001B[2m:\u001B[0m\u001B]8;id=101581;file:///home/p/Desktop/Programs/Python/openfl/openfl/openfl/component/aggregator/aggregator.py#559\u001B\\\u001B[2m559\u001B[0m\u001B]8;;\u001B\\\n",
      "text/html": "<pre style=\"white-space:pre;overflow-x:auto;line-height:normal;font-family:Menlo,'DejaVu Sans Mono',consolas,'Courier New',monospace\"><span style=\"color: #7fbfbf; text-decoration-color: #7fbfbf\">           </span>METRIC   Round <span style=\"color: #008080; text-decoration-color: #008080; font-weight: bold\">0</span>, collaborator validate_agg aggregated_model_validation result acc:      <span style=\"color: #008080; text-decoration-color: #008080; font-weight: bold\">0.257600</span>                                   <a href=\"file:///home/p/Desktop/Programs/Python/openfl/openfl/openfl/component/aggregator/aggregator.py\" target=\"_blank\"><span style=\"color: #7f7f7f; text-decoration-color: #7f7f7f\">aggregator.py</span></a><span style=\"color: #7f7f7f; text-decoration-color: #7f7f7f\">:</span><a href=\"file:///home/p/Desktop/Programs/Python/openfl/openfl/openfl/component/aggregator/aggregator.py#559\" target=\"_blank\"><span style=\"color: #7f7f7f; text-decoration-color: #7f7f7f\">559</span></a>\n</pre>\n"
     },
     "metadata": {},
     "output_type": "display_data"
    },
    {
     "data": {
      "text/plain": "\u001B[2;36m          \u001B[0m\u001B[2;36m \u001B[0m\u001B[31mWARNING \u001B[0m tried to remove tensor: __opt_state_needed not present in the tensor dict                                                       \u001B]8;id=384286;file:///home/p/Desktop/Programs/Python/openfl/openfl/openfl/utilities/utils.py\u001B\\\u001B[2mutils.py\u001B[0m\u001B]8;;\u001B\\\u001B[2m:\u001B[0m\u001B]8;id=293279;file:///home/p/Desktop/Programs/Python/openfl/openfl/openfl/utilities/utils.py#172\u001B\\\u001B[2m172\u001B[0m\u001B]8;;\u001B\\\n",
      "text/html": "<pre style=\"white-space:pre;overflow-x:auto;line-height:normal;font-family:Menlo,'DejaVu Sans Mono',consolas,'Courier New',monospace\"><span style=\"color: #7fbfbf; text-decoration-color: #7fbfbf\">           </span><span style=\"color: #800000; text-decoration-color: #800000\">WARNING </span> tried to remove tensor: __opt_state_needed not present in the tensor dict                                                       <a href=\"file:///home/p/Desktop/Programs/Python/openfl/openfl/openfl/utilities/utils.py\" target=\"_blank\"><span style=\"color: #7f7f7f; text-decoration-color: #7f7f7f\">utils.py</span></a><span style=\"color: #7f7f7f; text-decoration-color: #7f7f7f\">:</span><a href=\"file:///home/p/Desktop/Programs/Python/openfl/openfl/openfl/utilities/utils.py#172\" target=\"_blank\"><span style=\"color: #7f7f7f; text-decoration-color: #7f7f7f\">172</span></a>\n</pre>\n"
     },
     "metadata": {},
     "output_type": "display_data"
    },
    {
     "data": {
      "text/plain": "\u001B[2;36m          \u001B[0m\u001B[2;36m \u001B[0mMETRIC   Round \u001B[1;36m0\u001B[0m, collaborator three is sending metric for task train: cross_entropy     \u001B[1;36m0.471380\u001B[0m                                 \u001B]8;id=310434;file:///home/p/Desktop/Programs/Python/openfl/openfl/openfl/component/collaborator/collaborator.py\u001B\\\u001B[2mcollaborator.py\u001B[0m\u001B]8;;\u001B\\\u001B[2m:\u001B[0m\u001B]8;id=231084;file:///home/p/Desktop/Programs/Python/openfl/openfl/openfl/component/collaborator/collaborator.py#415\u001B\\\u001B[2m415\u001B[0m\u001B]8;;\u001B\\\n",
      "text/html": "<pre style=\"white-space:pre;overflow-x:auto;line-height:normal;font-family:Menlo,'DejaVu Sans Mono',consolas,'Courier New',monospace\"><span style=\"color: #7fbfbf; text-decoration-color: #7fbfbf\">           </span>METRIC   Round <span style=\"color: #008080; text-decoration-color: #008080; font-weight: bold\">0</span>, collaborator three is sending metric for task train: cross_entropy     <span style=\"color: #008080; text-decoration-color: #008080; font-weight: bold\">0.471380</span>                                 <a href=\"file:///home/p/Desktop/Programs/Python/openfl/openfl/openfl/component/collaborator/collaborator.py\" target=\"_blank\"><span style=\"color: #7f7f7f; text-decoration-color: #7f7f7f\">collaborator.py</span></a><span style=\"color: #7f7f7f; text-decoration-color: #7f7f7f\">:</span><a href=\"file:///home/p/Desktop/Programs/Python/openfl/openfl/openfl/component/collaborator/collaborator.py#415\" target=\"_blank\"><span style=\"color: #7f7f7f; text-decoration-color: #7f7f7f\">415</span></a>\n</pre>\n"
     },
     "metadata": {},
     "output_type": "display_data"
    },
    {
     "data": {
      "text/plain": "\u001B[2;36m          \u001B[0m\u001B[2;36m \u001B[0mMETRIC   Round \u001B[1;36m0\u001B[0m, collaborator three train result cross_entropy: \u001B[1;36m0.471380\u001B[0m                                                           \u001B]8;id=946535;file:///home/p/Desktop/Programs/Python/openfl/openfl/openfl/component/aggregator/aggregator.py\u001B\\\u001B[2maggregator.py\u001B[0m\u001B]8;;\u001B\\\u001B[2m:\u001B[0m\u001B]8;id=732004;file:///home/p/Desktop/Programs/Python/openfl/openfl/openfl/component/aggregator/aggregator.py#559\u001B\\\u001B[2m559\u001B[0m\u001B]8;;\u001B\\\n",
      "text/html": "<pre style=\"white-space:pre;overflow-x:auto;line-height:normal;font-family:Menlo,'DejaVu Sans Mono',consolas,'Courier New',monospace\"><span style=\"color: #7fbfbf; text-decoration-color: #7fbfbf\">           </span>METRIC   Round <span style=\"color: #008080; text-decoration-color: #008080; font-weight: bold\">0</span>, collaborator three train result cross_entropy: <span style=\"color: #008080; text-decoration-color: #008080; font-weight: bold\">0.471380</span>                                                           <a href=\"file:///home/p/Desktop/Programs/Python/openfl/openfl/openfl/component/aggregator/aggregator.py\" target=\"_blank\"><span style=\"color: #7f7f7f; text-decoration-color: #7f7f7f\">aggregator.py</span></a><span style=\"color: #7f7f7f; text-decoration-color: #7f7f7f\">:</span><a href=\"file:///home/p/Desktop/Programs/Python/openfl/openfl/openfl/component/aggregator/aggregator.py#559\" target=\"_blank\"><span style=\"color: #7f7f7f; text-decoration-color: #7f7f7f\">559</span></a>\n</pre>\n"
     },
     "metadata": {},
     "output_type": "display_data"
    },
    {
     "data": {
      "text/plain": "\u001B[2;36m          \u001B[0m\u001B[2;36m \u001B[0mMETRIC   Round \u001B[1;36m0\u001B[0m, collaborator three is sending metric for task locally_tuned_model_validation: acc      \u001B[1;36m0.436400\u001B[0m                 \u001B]8;id=407742;file:///home/p/Desktop/Programs/Python/openfl/openfl/openfl/component/collaborator/collaborator.py\u001B\\\u001B[2mcollaborator.py\u001B[0m\u001B]8;;\u001B\\\u001B[2m:\u001B[0m\u001B]8;id=635993;file:///home/p/Desktop/Programs/Python/openfl/openfl/openfl/component/collaborator/collaborator.py#415\u001B\\\u001B[2m415\u001B[0m\u001B]8;;\u001B\\\n",
      "text/html": "<pre style=\"white-space:pre;overflow-x:auto;line-height:normal;font-family:Menlo,'DejaVu Sans Mono',consolas,'Courier New',monospace\"><span style=\"color: #7fbfbf; text-decoration-color: #7fbfbf\">           </span>METRIC   Round <span style=\"color: #008080; text-decoration-color: #008080; font-weight: bold\">0</span>, collaborator three is sending metric for task locally_tuned_model_validation: acc      <span style=\"color: #008080; text-decoration-color: #008080; font-weight: bold\">0.436400</span>                 <a href=\"file:///home/p/Desktop/Programs/Python/openfl/openfl/openfl/component/collaborator/collaborator.py\" target=\"_blank\"><span style=\"color: #7f7f7f; text-decoration-color: #7f7f7f\">collaborator.py</span></a><span style=\"color: #7f7f7f; text-decoration-color: #7f7f7f\">:</span><a href=\"file:///home/p/Desktop/Programs/Python/openfl/openfl/openfl/component/collaborator/collaborator.py#415\" target=\"_blank\"><span style=\"color: #7f7f7f; text-decoration-color: #7f7f7f\">415</span></a>\n</pre>\n"
     },
     "metadata": {},
     "output_type": "display_data"
    },
    {
     "data": {
      "text/plain": "\u001B[2;36m          \u001B[0m\u001B[2;36m \u001B[0mMETRIC   Round \u001B[1;36m0\u001B[0m, collaborator validate_local locally_tuned_model_validation result acc: \u001B[1;36m0.436400\u001B[0m                                   \u001B]8;id=482524;file:///home/p/Desktop/Programs/Python/openfl/openfl/openfl/component/aggregator/aggregator.py\u001B\\\u001B[2maggregator.py\u001B[0m\u001B]8;;\u001B\\\u001B[2m:\u001B[0m\u001B]8;id=481959;file:///home/p/Desktop/Programs/Python/openfl/openfl/openfl/component/aggregator/aggregator.py#559\u001B\\\u001B[2m559\u001B[0m\u001B]8;;\u001B\\\n",
      "text/html": "<pre style=\"white-space:pre;overflow-x:auto;line-height:normal;font-family:Menlo,'DejaVu Sans Mono',consolas,'Courier New',monospace\"><span style=\"color: #7fbfbf; text-decoration-color: #7fbfbf\">           </span>METRIC   Round <span style=\"color: #008080; text-decoration-color: #008080; font-weight: bold\">0</span>, collaborator validate_local locally_tuned_model_validation result acc: <span style=\"color: #008080; text-decoration-color: #008080; font-weight: bold\">0.436400</span>                                   <a href=\"file:///home/p/Desktop/Programs/Python/openfl/openfl/openfl/component/aggregator/aggregator.py\" target=\"_blank\"><span style=\"color: #7f7f7f; text-decoration-color: #7f7f7f\">aggregator.py</span></a><span style=\"color: #7f7f7f; text-decoration-color: #7f7f7f\">:</span><a href=\"file:///home/p/Desktop/Programs/Python/openfl/openfl/openfl/component/aggregator/aggregator.py#559\" target=\"_blank\"><span style=\"color: #7f7f7f; text-decoration-color: #7f7f7f\">559</span></a>\n</pre>\n"
     },
     "metadata": {},
     "output_type": "display_data"
    },
    {
     "data": {
      "text/plain": "\u001B[2;36m          \u001B[0m\u001B[2;36m \u001B[0mMETRIC   Round \u001B[1;36m0\u001B[0m, collaborator four is sending metric for task aggregated_model_validation: acc  \u001B[1;36m0.273200\u001B[0m                         \u001B]8;id=809794;file:///home/p/Desktop/Programs/Python/openfl/openfl/openfl/component/collaborator/collaborator.py\u001B\\\u001B[2mcollaborator.py\u001B[0m\u001B]8;;\u001B\\\u001B[2m:\u001B[0m\u001B]8;id=238556;file:///home/p/Desktop/Programs/Python/openfl/openfl/openfl/component/collaborator/collaborator.py#415\u001B\\\u001B[2m415\u001B[0m\u001B]8;;\u001B\\\n",
      "text/html": "<pre style=\"white-space:pre;overflow-x:auto;line-height:normal;font-family:Menlo,'DejaVu Sans Mono',consolas,'Courier New',monospace\"><span style=\"color: #7fbfbf; text-decoration-color: #7fbfbf\">           </span>METRIC   Round <span style=\"color: #008080; text-decoration-color: #008080; font-weight: bold\">0</span>, collaborator four is sending metric for task aggregated_model_validation: acc  <span style=\"color: #008080; text-decoration-color: #008080; font-weight: bold\">0.273200</span>                         <a href=\"file:///home/p/Desktop/Programs/Python/openfl/openfl/openfl/component/collaborator/collaborator.py\" target=\"_blank\"><span style=\"color: #7f7f7f; text-decoration-color: #7f7f7f\">collaborator.py</span></a><span style=\"color: #7f7f7f; text-decoration-color: #7f7f7f\">:</span><a href=\"file:///home/p/Desktop/Programs/Python/openfl/openfl/openfl/component/collaborator/collaborator.py#415\" target=\"_blank\"><span style=\"color: #7f7f7f; text-decoration-color: #7f7f7f\">415</span></a>\n</pre>\n"
     },
     "metadata": {},
     "output_type": "display_data"
    },
    {
     "data": {
      "text/plain": "\u001B[2;36m          \u001B[0m\u001B[2;36m \u001B[0mMETRIC   Round \u001B[1;36m0\u001B[0m, collaborator validate_agg aggregated_model_validation result acc:      \u001B[1;36m0.273200\u001B[0m                                   \u001B]8;id=830338;file:///home/p/Desktop/Programs/Python/openfl/openfl/openfl/component/aggregator/aggregator.py\u001B\\\u001B[2maggregator.py\u001B[0m\u001B]8;;\u001B\\\u001B[2m:\u001B[0m\u001B]8;id=414491;file:///home/p/Desktop/Programs/Python/openfl/openfl/openfl/component/aggregator/aggregator.py#559\u001B\\\u001B[2m559\u001B[0m\u001B]8;;\u001B\\\n",
      "text/html": "<pre style=\"white-space:pre;overflow-x:auto;line-height:normal;font-family:Menlo,'DejaVu Sans Mono',consolas,'Courier New',monospace\"><span style=\"color: #7fbfbf; text-decoration-color: #7fbfbf\">           </span>METRIC   Round <span style=\"color: #008080; text-decoration-color: #008080; font-weight: bold\">0</span>, collaborator validate_agg aggregated_model_validation result acc:      <span style=\"color: #008080; text-decoration-color: #008080; font-weight: bold\">0.273200</span>                                   <a href=\"file:///home/p/Desktop/Programs/Python/openfl/openfl/openfl/component/aggregator/aggregator.py\" target=\"_blank\"><span style=\"color: #7f7f7f; text-decoration-color: #7f7f7f\">aggregator.py</span></a><span style=\"color: #7f7f7f; text-decoration-color: #7f7f7f\">:</span><a href=\"file:///home/p/Desktop/Programs/Python/openfl/openfl/openfl/component/aggregator/aggregator.py#559\" target=\"_blank\"><span style=\"color: #7f7f7f; text-decoration-color: #7f7f7f\">559</span></a>\n</pre>\n"
     },
     "metadata": {},
     "output_type": "display_data"
    },
    {
     "data": {
      "text/plain": "\u001B[2;36m[18:56:47]\u001B[0m\u001B[2;36m \u001B[0m\u001B[31mWARNING \u001B[0m tried to remove tensor: __opt_state_needed not present in the tensor dict                                                       \u001B]8;id=54785;file:///home/p/Desktop/Programs/Python/openfl/openfl/openfl/utilities/utils.py\u001B\\\u001B[2mutils.py\u001B[0m\u001B]8;;\u001B\\\u001B[2m:\u001B[0m\u001B]8;id=111481;file:///home/p/Desktop/Programs/Python/openfl/openfl/openfl/utilities/utils.py#172\u001B\\\u001B[2m172\u001B[0m\u001B]8;;\u001B\\\n",
      "text/html": "<pre style=\"white-space:pre;overflow-x:auto;line-height:normal;font-family:Menlo,'DejaVu Sans Mono',consolas,'Courier New',monospace\"><span style=\"color: #7fbfbf; text-decoration-color: #7fbfbf\">[18:56:47] </span><span style=\"color: #800000; text-decoration-color: #800000\">WARNING </span> tried to remove tensor: __opt_state_needed not present in the tensor dict                                                       <a href=\"file:///home/p/Desktop/Programs/Python/openfl/openfl/openfl/utilities/utils.py\" target=\"_blank\"><span style=\"color: #7f7f7f; text-decoration-color: #7f7f7f\">utils.py</span></a><span style=\"color: #7f7f7f; text-decoration-color: #7f7f7f\">:</span><a href=\"file:///home/p/Desktop/Programs/Python/openfl/openfl/openfl/utilities/utils.py#172\" target=\"_blank\"><span style=\"color: #7f7f7f; text-decoration-color: #7f7f7f\">172</span></a>\n</pre>\n"
     },
     "metadata": {},
     "output_type": "display_data"
    },
    {
     "data": {
      "text/plain": "\u001B[2;36m          \u001B[0m\u001B[2;36m \u001B[0mMETRIC   Round \u001B[1;36m0\u001B[0m, collaborator four is sending metric for task train: cross_entropy      \u001B[1;36m0.469041\u001B[0m                                 \u001B]8;id=367241;file:///home/p/Desktop/Programs/Python/openfl/openfl/openfl/component/collaborator/collaborator.py\u001B\\\u001B[2mcollaborator.py\u001B[0m\u001B]8;;\u001B\\\u001B[2m:\u001B[0m\u001B]8;id=798998;file:///home/p/Desktop/Programs/Python/openfl/openfl/openfl/component/collaborator/collaborator.py#415\u001B\\\u001B[2m415\u001B[0m\u001B]8;;\u001B\\\n",
      "text/html": "<pre style=\"white-space:pre;overflow-x:auto;line-height:normal;font-family:Menlo,'DejaVu Sans Mono',consolas,'Courier New',monospace\"><span style=\"color: #7fbfbf; text-decoration-color: #7fbfbf\">           </span>METRIC   Round <span style=\"color: #008080; text-decoration-color: #008080; font-weight: bold\">0</span>, collaborator four is sending metric for task train: cross_entropy      <span style=\"color: #008080; text-decoration-color: #008080; font-weight: bold\">0.469041</span>                                 <a href=\"file:///home/p/Desktop/Programs/Python/openfl/openfl/openfl/component/collaborator/collaborator.py\" target=\"_blank\"><span style=\"color: #7f7f7f; text-decoration-color: #7f7f7f\">collaborator.py</span></a><span style=\"color: #7f7f7f; text-decoration-color: #7f7f7f\">:</span><a href=\"file:///home/p/Desktop/Programs/Python/openfl/openfl/openfl/component/collaborator/collaborator.py#415\" target=\"_blank\"><span style=\"color: #7f7f7f; text-decoration-color: #7f7f7f\">415</span></a>\n</pre>\n"
     },
     "metadata": {},
     "output_type": "display_data"
    },
    {
     "data": {
      "text/plain": "\u001B[2;36m          \u001B[0m\u001B[2;36m \u001B[0mMETRIC   Round \u001B[1;36m0\u001B[0m, collaborator metric train result cross_entropy:        \u001B[1;36m0.469041\u001B[0m                                                   \u001B]8;id=524183;file:///home/p/Desktop/Programs/Python/openfl/openfl/openfl/component/aggregator/aggregator.py\u001B\\\u001B[2maggregator.py\u001B[0m\u001B]8;;\u001B\\\u001B[2m:\u001B[0m\u001B]8;id=939207;file:///home/p/Desktop/Programs/Python/openfl/openfl/openfl/component/aggregator/aggregator.py#559\u001B\\\u001B[2m559\u001B[0m\u001B]8;;\u001B\\\n",
      "text/html": "<pre style=\"white-space:pre;overflow-x:auto;line-height:normal;font-family:Menlo,'DejaVu Sans Mono',consolas,'Courier New',monospace\"><span style=\"color: #7fbfbf; text-decoration-color: #7fbfbf\">           </span>METRIC   Round <span style=\"color: #008080; text-decoration-color: #008080; font-weight: bold\">0</span>, collaborator metric train result cross_entropy:        <span style=\"color: #008080; text-decoration-color: #008080; font-weight: bold\">0.469041</span>                                                   <a href=\"file:///home/p/Desktop/Programs/Python/openfl/openfl/openfl/component/aggregator/aggregator.py\" target=\"_blank\"><span style=\"color: #7f7f7f; text-decoration-color: #7f7f7f\">aggregator.py</span></a><span style=\"color: #7f7f7f; text-decoration-color: #7f7f7f\">:</span><a href=\"file:///home/p/Desktop/Programs/Python/openfl/openfl/openfl/component/aggregator/aggregator.py#559\" target=\"_blank\"><span style=\"color: #7f7f7f; text-decoration-color: #7f7f7f\">559</span></a>\n</pre>\n"
     },
     "metadata": {},
     "output_type": "display_data"
    },
    {
     "data": {
      "text/plain": "\u001B[2;36m          \u001B[0m\u001B[2;36m \u001B[0mMETRIC   Round \u001B[1;36m0\u001B[0m, collaborator four is sending metric for task locally_tuned_model_validation: acc       \u001B[1;36m0.437600\u001B[0m                 \u001B]8;id=142514;file:///home/p/Desktop/Programs/Python/openfl/openfl/openfl/component/collaborator/collaborator.py\u001B\\\u001B[2mcollaborator.py\u001B[0m\u001B]8;;\u001B\\\u001B[2m:\u001B[0m\u001B]8;id=500244;file:///home/p/Desktop/Programs/Python/openfl/openfl/openfl/component/collaborator/collaborator.py#415\u001B\\\u001B[2m415\u001B[0m\u001B]8;;\u001B\\\n",
      "text/html": "<pre style=\"white-space:pre;overflow-x:auto;line-height:normal;font-family:Menlo,'DejaVu Sans Mono',consolas,'Courier New',monospace\"><span style=\"color: #7fbfbf; text-decoration-color: #7fbfbf\">           </span>METRIC   Round <span style=\"color: #008080; text-decoration-color: #008080; font-weight: bold\">0</span>, collaborator four is sending metric for task locally_tuned_model_validation: acc       <span style=\"color: #008080; text-decoration-color: #008080; font-weight: bold\">0.437600</span>                 <a href=\"file:///home/p/Desktop/Programs/Python/openfl/openfl/openfl/component/collaborator/collaborator.py\" target=\"_blank\"><span style=\"color: #7f7f7f; text-decoration-color: #7f7f7f\">collaborator.py</span></a><span style=\"color: #7f7f7f; text-decoration-color: #7f7f7f\">:</span><a href=\"file:///home/p/Desktop/Programs/Python/openfl/openfl/openfl/component/collaborator/collaborator.py#415\" target=\"_blank\"><span style=\"color: #7f7f7f; text-decoration-color: #7f7f7f\">415</span></a>\n</pre>\n"
     },
     "metadata": {},
     "output_type": "display_data"
    },
    {
     "data": {
      "text/plain": "\u001B[2;36m          \u001B[0m\u001B[2;36m \u001B[0mMETRIC   Round \u001B[1;36m0\u001B[0m, collaborator validate_local locally_tuned_model_validation result acc: \u001B[1;36m0.437600\u001B[0m                                   \u001B]8;id=264084;file:///home/p/Desktop/Programs/Python/openfl/openfl/openfl/component/aggregator/aggregator.py\u001B\\\u001B[2maggregator.py\u001B[0m\u001B]8;;\u001B\\\u001B[2m:\u001B[0m\u001B]8;id=518632;file:///home/p/Desktop/Programs/Python/openfl/openfl/openfl/component/aggregator/aggregator.py#559\u001B\\\u001B[2m559\u001B[0m\u001B]8;;\u001B\\\n",
      "text/html": "<pre style=\"white-space:pre;overflow-x:auto;line-height:normal;font-family:Menlo,'DejaVu Sans Mono',consolas,'Courier New',monospace\"><span style=\"color: #7fbfbf; text-decoration-color: #7fbfbf\">           </span>METRIC   Round <span style=\"color: #008080; text-decoration-color: #008080; font-weight: bold\">0</span>, collaborator validate_local locally_tuned_model_validation result acc: <span style=\"color: #008080; text-decoration-color: #008080; font-weight: bold\">0.437600</span>                                   <a href=\"file:///home/p/Desktop/Programs/Python/openfl/openfl/openfl/component/aggregator/aggregator.py\" target=\"_blank\"><span style=\"color: #7f7f7f; text-decoration-color: #7f7f7f\">aggregator.py</span></a><span style=\"color: #7f7f7f; text-decoration-color: #7f7f7f\">:</span><a href=\"file:///home/p/Desktop/Programs/Python/openfl/openfl/openfl/component/aggregator/aggregator.py#559\" target=\"_blank\"><span style=\"color: #7f7f7f; text-decoration-color: #7f7f7f\">559</span></a>\n</pre>\n"
     },
     "metadata": {},
     "output_type": "display_data"
    },
    {
     "data": {
      "text/plain": "\u001B[2;36m          \u001B[0m\u001B[2;36m \u001B[0mMETRIC   Round \u001B[1;36m0\u001B[0m, aggregator: locally_tuned_model_validation                                                                        \u001B]8;id=299505;file:///home/p/Desktop/Programs/Python/openfl/openfl/openfl/component/aggregator/aggregator.py\u001B\\\u001B[2maggregator.py\u001B[0m\u001B]8;;\u001B\\\u001B[2m:\u001B[0m\u001B]8;id=428363;file:///home/p/Desktop/Programs/Python/openfl/openfl/openfl/component/aggregator/aggregator.py#842\u001B\\\u001B[2m842\u001B[0m\u001B]8;;\u001B\\\n\u001B[2;36m           \u001B[0m         \u001B[1m<\u001B[0m\u001B[1;95mopenfl.interface.aggregation_functions.weighted_average.WeightedAverage\u001B[0m\u001B[39m object at \u001B[0m\u001B[1;36m0x7f2dc10bf580\u001B[0m\u001B[1m>\u001B[0m acc:     \u001B[1;36m0.443800\u001B[0m       \u001B[2m                 \u001B[0m\n",
      "text/html": "<pre style=\"white-space:pre;overflow-x:auto;line-height:normal;font-family:Menlo,'DejaVu Sans Mono',consolas,'Courier New',monospace\"><span style=\"color: #7fbfbf; text-decoration-color: #7fbfbf\">           </span>METRIC   Round <span style=\"color: #008080; text-decoration-color: #008080; font-weight: bold\">0</span>, aggregator: locally_tuned_model_validation                                                                        <a href=\"file:///home/p/Desktop/Programs/Python/openfl/openfl/openfl/component/aggregator/aggregator.py\" target=\"_blank\"><span style=\"color: #7f7f7f; text-decoration-color: #7f7f7f\">aggregator.py</span></a><span style=\"color: #7f7f7f; text-decoration-color: #7f7f7f\">:</span><a href=\"file:///home/p/Desktop/Programs/Python/openfl/openfl/openfl/component/aggregator/aggregator.py#842\" target=\"_blank\"><span style=\"color: #7f7f7f; text-decoration-color: #7f7f7f\">842</span></a>\n<span style=\"color: #7fbfbf; text-decoration-color: #7fbfbf\">           </span>         <span style=\"font-weight: bold\">&lt;</span><span style=\"color: #ff00ff; text-decoration-color: #ff00ff; font-weight: bold\">openfl.interface.aggregation_functions.weighted_average.WeightedAverage</span><span style=\"color: #000000; text-decoration-color: #000000\"> object at </span><span style=\"color: #008080; text-decoration-color: #008080; font-weight: bold\">0x7f2dc10bf580</span><span style=\"font-weight: bold\">&gt;</span> acc:     <span style=\"color: #008080; text-decoration-color: #008080; font-weight: bold\">0.443800</span>       <span style=\"color: #7f7f7f; text-decoration-color: #7f7f7f\">                 </span>\n</pre>\n"
     },
     "metadata": {},
     "output_type": "display_data"
    },
    {
     "data": {
      "text/plain": "\u001B[2;36m          \u001B[0m\u001B[2;36m \u001B[0mMETRIC   Round \u001B[1;36m0\u001B[0m, aggregator: train \u001B[1m<\u001B[0m\u001B[1;95mopenfl.interface.aggregation_functions.weighted_average.WeightedAverage\u001B[0m\u001B[39m object at \u001B[0m             \u001B]8;id=407977;file:///home/p/Desktop/Programs/Python/openfl/openfl/openfl/component/aggregator/aggregator.py\u001B\\\u001B[2maggregator.py\u001B[0m\u001B]8;;\u001B\\\u001B[2m:\u001B[0m\u001B]8;id=852414;file:///home/p/Desktop/Programs/Python/openfl/openfl/openfl/component/aggregator/aggregator.py#842\u001B\\\u001B[2m842\u001B[0m\u001B]8;;\u001B\\\n\u001B[2;36m           \u001B[0m         \u001B[1;36m0x7f2dc10bf580\u001B[0m\u001B[1m>\u001B[0m cross_entropy:    \u001B[1;36m0.472843\u001B[0m                                                                                 \u001B[2m                 \u001B[0m\n",
      "text/html": "<pre style=\"white-space:pre;overflow-x:auto;line-height:normal;font-family:Menlo,'DejaVu Sans Mono',consolas,'Courier New',monospace\"><span style=\"color: #7fbfbf; text-decoration-color: #7fbfbf\">           </span>METRIC   Round <span style=\"color: #008080; text-decoration-color: #008080; font-weight: bold\">0</span>, aggregator: train <span style=\"font-weight: bold\">&lt;</span><span style=\"color: #ff00ff; text-decoration-color: #ff00ff; font-weight: bold\">openfl.interface.aggregation_functions.weighted_average.WeightedAverage</span><span style=\"color: #000000; text-decoration-color: #000000\"> object at </span>             <a href=\"file:///home/p/Desktop/Programs/Python/openfl/openfl/openfl/component/aggregator/aggregator.py\" target=\"_blank\"><span style=\"color: #7f7f7f; text-decoration-color: #7f7f7f\">aggregator.py</span></a><span style=\"color: #7f7f7f; text-decoration-color: #7f7f7f\">:</span><a href=\"file:///home/p/Desktop/Programs/Python/openfl/openfl/openfl/component/aggregator/aggregator.py#842\" target=\"_blank\"><span style=\"color: #7f7f7f; text-decoration-color: #7f7f7f\">842</span></a>\n<span style=\"color: #7fbfbf; text-decoration-color: #7fbfbf\">           </span>         <span style=\"color: #008080; text-decoration-color: #008080; font-weight: bold\">0x7f2dc10bf580</span><span style=\"font-weight: bold\">&gt;</span> cross_entropy:    <span style=\"color: #008080; text-decoration-color: #008080; font-weight: bold\">0.472843</span>                                                                                 <span style=\"color: #7f7f7f; text-decoration-color: #7f7f7f\">                 </span>\n</pre>\n"
     },
     "metadata": {},
     "output_type": "display_data"
    },
    {
     "data": {
      "text/plain": "\u001B[2;36m          \u001B[0m\u001B[2;36m \u001B[0mMETRIC   Round \u001B[1;36m0\u001B[0m, aggregator: aggregated_model_validation \u001B[1m<\u001B[0m\u001B[1;95mopenfl.interface.aggregation_functions.weighted_average.WeightedAverage\u001B[0m\u001B[39m \u001B[0m \u001B]8;id=336558;file:///home/p/Desktop/Programs/Python/openfl/openfl/openfl/component/aggregator/aggregator.py\u001B\\\u001B[2maggregator.py\u001B[0m\u001B]8;;\u001B\\\u001B[2m:\u001B[0m\u001B]8;id=155393;file:///home/p/Desktop/Programs/Python/openfl/openfl/openfl/component/aggregator/aggregator.py#842\u001B\\\u001B[2m842\u001B[0m\u001B]8;;\u001B\\\n\u001B[2;36m           \u001B[0m         \u001B[39mobject at \u001B[0m\u001B[1;36m0x7f2dc10bf580\u001B[0m\u001B[1m>\u001B[0m acc:        \u001B[1;36m0.272400\u001B[0m                                                                             \u001B[2m                 \u001B[0m\n",
      "text/html": "<pre style=\"white-space:pre;overflow-x:auto;line-height:normal;font-family:Menlo,'DejaVu Sans Mono',consolas,'Courier New',monospace\"><span style=\"color: #7fbfbf; text-decoration-color: #7fbfbf\">           </span>METRIC   Round <span style=\"color: #008080; text-decoration-color: #008080; font-weight: bold\">0</span>, aggregator: aggregated_model_validation <span style=\"font-weight: bold\">&lt;</span><span style=\"color: #ff00ff; text-decoration-color: #ff00ff; font-weight: bold\">openfl.interface.aggregation_functions.weighted_average.WeightedAverage</span><span style=\"color: #000000; text-decoration-color: #000000\"> </span> <a href=\"file:///home/p/Desktop/Programs/Python/openfl/openfl/openfl/component/aggregator/aggregator.py\" target=\"_blank\"><span style=\"color: #7f7f7f; text-decoration-color: #7f7f7f\">aggregator.py</span></a><span style=\"color: #7f7f7f; text-decoration-color: #7f7f7f\">:</span><a href=\"file:///home/p/Desktop/Programs/Python/openfl/openfl/openfl/component/aggregator/aggregator.py#842\" target=\"_blank\"><span style=\"color: #7f7f7f; text-decoration-color: #7f7f7f\">842</span></a>\n<span style=\"color: #7fbfbf; text-decoration-color: #7fbfbf\">           </span>         <span style=\"color: #000000; text-decoration-color: #000000\">object at </span><span style=\"color: #008080; text-decoration-color: #008080; font-weight: bold\">0x7f2dc10bf580</span><span style=\"font-weight: bold\">&gt;</span> acc:        <span style=\"color: #008080; text-decoration-color: #008080; font-weight: bold\">0.272400</span>                                                                             <span style=\"color: #7f7f7f; text-decoration-color: #7f7f7f\">                 </span>\n</pre>\n"
     },
     "metadata": {},
     "output_type": "display_data"
    },
    {
     "data": {
      "text/plain": "\u001B[2;36m          \u001B[0m\u001B[2;36m \u001B[0mMETRIC   Round \u001B[1;36m0\u001B[0m: saved the best model with score \u001B[1;36m0.272400\u001B[0m                                                                          \u001B]8;id=883621;file:///home/p/Desktop/Programs/Python/openfl/openfl/openfl/component/aggregator/aggregator.py\u001B\\\u001B[2maggregator.py\u001B[0m\u001B]8;;\u001B\\\u001B[2m:\u001B[0m\u001B]8;id=690185;file:///home/p/Desktop/Programs/Python/openfl/openfl/openfl/component/aggregator/aggregator.py#858\u001B\\\u001B[2m858\u001B[0m\u001B]8;;\u001B\\\n",
      "text/html": "<pre style=\"white-space:pre;overflow-x:auto;line-height:normal;font-family:Menlo,'DejaVu Sans Mono',consolas,'Courier New',monospace\"><span style=\"color: #7fbfbf; text-decoration-color: #7fbfbf\">           </span>METRIC   Round <span style=\"color: #008080; text-decoration-color: #008080; font-weight: bold\">0</span>: saved the best model with score <span style=\"color: #008080; text-decoration-color: #008080; font-weight: bold\">0.272400</span>                                                                          <a href=\"file:///home/p/Desktop/Programs/Python/openfl/openfl/openfl/component/aggregator/aggregator.py\" target=\"_blank\"><span style=\"color: #7f7f7f; text-decoration-color: #7f7f7f\">aggregator.py</span></a><span style=\"color: #7f7f7f; text-decoration-color: #7f7f7f\">:</span><a href=\"file:///home/p/Desktop/Programs/Python/openfl/openfl/openfl/component/aggregator/aggregator.py#858\" target=\"_blank\"><span style=\"color: #7f7f7f; text-decoration-color: #7f7f7f\">858</span></a>\n</pre>\n"
     },
     "metadata": {},
     "output_type": "display_data"
    },
    {
     "data": {
      "text/plain": "\u001B[2;36m          \u001B[0m\u001B[2;36m \u001B[0m\u001B[31mWARNING \u001B[0m tried to remove tensor: __opt_state_needed not present in the tensor dict                                                       \u001B]8;id=432457;file:///home/p/Desktop/Programs/Python/openfl/openfl/openfl/utilities/utils.py\u001B\\\u001B[2mutils.py\u001B[0m\u001B]8;;\u001B\\\u001B[2m:\u001B[0m\u001B]8;id=444423;file:///home/p/Desktop/Programs/Python/openfl/openfl/openfl/utilities/utils.py#172\u001B\\\u001B[2m172\u001B[0m\u001B]8;;\u001B\\\n",
      "text/html": "<pre style=\"white-space:pre;overflow-x:auto;line-height:normal;font-family:Menlo,'DejaVu Sans Mono',consolas,'Courier New',monospace\"><span style=\"color: #7fbfbf; text-decoration-color: #7fbfbf\">           </span><span style=\"color: #800000; text-decoration-color: #800000\">WARNING </span> tried to remove tensor: __opt_state_needed not present in the tensor dict                                                       <a href=\"file:///home/p/Desktop/Programs/Python/openfl/openfl/openfl/utilities/utils.py\" target=\"_blank\"><span style=\"color: #7f7f7f; text-decoration-color: #7f7f7f\">utils.py</span></a><span style=\"color: #7f7f7f; text-decoration-color: #7f7f7f\">:</span><a href=\"file:///home/p/Desktop/Programs/Python/openfl/openfl/openfl/utilities/utils.py#172\" target=\"_blank\"><span style=\"color: #7f7f7f; text-decoration-color: #7f7f7f\">172</span></a>\n</pre>\n"
     },
     "metadata": {},
     "output_type": "display_data"
    },
    {
     "data": {
      "text/plain": "\u001B[2;36m          \u001B[0m\u001B[2;36m \u001B[0m\u001B[31mWARNING \u001B[0m tried to remove tensor: __opt_state_needed not present in the tensor dict                                                       \u001B]8;id=426668;file:///home/p/Desktop/Programs/Python/openfl/openfl/openfl/utilities/utils.py\u001B\\\u001B[2mutils.py\u001B[0m\u001B]8;;\u001B\\\u001B[2m:\u001B[0m\u001B]8;id=806015;file:///home/p/Desktop/Programs/Python/openfl/openfl/openfl/utilities/utils.py#172\u001B\\\u001B[2m172\u001B[0m\u001B]8;;\u001B\\\n",
      "text/html": "<pre style=\"white-space:pre;overflow-x:auto;line-height:normal;font-family:Menlo,'DejaVu Sans Mono',consolas,'Courier New',monospace\"><span style=\"color: #7fbfbf; text-decoration-color: #7fbfbf\">           </span><span style=\"color: #800000; text-decoration-color: #800000\">WARNING </span> tried to remove tensor: __opt_state_needed not present in the tensor dict                                                       <a href=\"file:///home/p/Desktop/Programs/Python/openfl/openfl/openfl/utilities/utils.py\" target=\"_blank\"><span style=\"color: #7f7f7f; text-decoration-color: #7f7f7f\">utils.py</span></a><span style=\"color: #7f7f7f; text-decoration-color: #7f7f7f\">:</span><a href=\"file:///home/p/Desktop/Programs/Python/openfl/openfl/openfl/utilities/utils.py#172\" target=\"_blank\"><span style=\"color: #7f7f7f; text-decoration-color: #7f7f7f\">172</span></a>\n</pre>\n"
     },
     "metadata": {},
     "output_type": "display_data"
    },
    {
     "data": {
      "text/plain": "\u001B[2;36m          \u001B[0m\u001B[2;36m \u001B[0m\u001B[31mWARNING \u001B[0m tried to remove tensor: __opt_state_needed not present in the tensor dict                                                       \u001B]8;id=418960;file:///home/p/Desktop/Programs/Python/openfl/openfl/openfl/utilities/utils.py\u001B\\\u001B[2mutils.py\u001B[0m\u001B]8;;\u001B\\\u001B[2m:\u001B[0m\u001B]8;id=854291;file:///home/p/Desktop/Programs/Python/openfl/openfl/openfl/utilities/utils.py#172\u001B\\\u001B[2m172\u001B[0m\u001B]8;;\u001B\\\n",
      "text/html": "<pre style=\"white-space:pre;overflow-x:auto;line-height:normal;font-family:Menlo,'DejaVu Sans Mono',consolas,'Courier New',monospace\"><span style=\"color: #7fbfbf; text-decoration-color: #7fbfbf\">           </span><span style=\"color: #800000; text-decoration-color: #800000\">WARNING </span> tried to remove tensor: __opt_state_needed not present in the tensor dict                                                       <a href=\"file:///home/p/Desktop/Programs/Python/openfl/openfl/openfl/utilities/utils.py\" target=\"_blank\"><span style=\"color: #7f7f7f; text-decoration-color: #7f7f7f\">utils.py</span></a><span style=\"color: #7f7f7f; text-decoration-color: #7f7f7f\">:</span><a href=\"file:///home/p/Desktop/Programs/Python/openfl/openfl/openfl/utilities/utils.py#172\" target=\"_blank\"><span style=\"color: #7f7f7f; text-decoration-color: #7f7f7f\">172</span></a>\n</pre>\n"
     },
     "metadata": {},
     "output_type": "display_data"
    },
    {
     "data": {
      "text/plain": "\u001B[2;36m          \u001B[0m\u001B[2;36m \u001B[0m\u001B[31mWARNING \u001B[0m tried to remove tensor: __opt_state_needed not present in the tensor dict                                                       \u001B]8;id=215052;file:///home/p/Desktop/Programs/Python/openfl/openfl/openfl/utilities/utils.py\u001B\\\u001B[2mutils.py\u001B[0m\u001B]8;;\u001B\\\u001B[2m:\u001B[0m\u001B]8;id=876344;file:///home/p/Desktop/Programs/Python/openfl/openfl/openfl/utilities/utils.py#172\u001B\\\u001B[2m172\u001B[0m\u001B]8;;\u001B\\\n",
      "text/html": "<pre style=\"white-space:pre;overflow-x:auto;line-height:normal;font-family:Menlo,'DejaVu Sans Mono',consolas,'Courier New',monospace\"><span style=\"color: #7fbfbf; text-decoration-color: #7fbfbf\">           </span><span style=\"color: #800000; text-decoration-color: #800000\">WARNING </span> tried to remove tensor: __opt_state_needed not present in the tensor dict                                                       <a href=\"file:///home/p/Desktop/Programs/Python/openfl/openfl/openfl/utilities/utils.py\" target=\"_blank\"><span style=\"color: #7f7f7f; text-decoration-color: #7f7f7f\">utils.py</span></a><span style=\"color: #7f7f7f; text-decoration-color: #7f7f7f\">:</span><a href=\"file:///home/p/Desktop/Programs/Python/openfl/openfl/openfl/utilities/utils.py#172\" target=\"_blank\"><span style=\"color: #7f7f7f; text-decoration-color: #7f7f7f\">172</span></a>\n</pre>\n"
     },
     "metadata": {},
     "output_type": "display_data"
    },
    {
     "data": {
      "text/plain": "\u001B[2;36m          \u001B[0m\u001B[2;36m \u001B[0m\u001B[31mWARNING \u001B[0m tried to remove tensor: __opt_state_needed not present in the tensor dict                                                       \u001B]8;id=930787;file:///home/p/Desktop/Programs/Python/openfl/openfl/openfl/utilities/utils.py\u001B\\\u001B[2mutils.py\u001B[0m\u001B]8;;\u001B\\\u001B[2m:\u001B[0m\u001B]8;id=55494;file:///home/p/Desktop/Programs/Python/openfl/openfl/openfl/utilities/utils.py#172\u001B\\\u001B[2m172\u001B[0m\u001B]8;;\u001B\\\n",
      "text/html": "<pre style=\"white-space:pre;overflow-x:auto;line-height:normal;font-family:Menlo,'DejaVu Sans Mono',consolas,'Courier New',monospace\"><span style=\"color: #7fbfbf; text-decoration-color: #7fbfbf\">           </span><span style=\"color: #800000; text-decoration-color: #800000\">WARNING </span> tried to remove tensor: __opt_state_needed not present in the tensor dict                                                       <a href=\"file:///home/p/Desktop/Programs/Python/openfl/openfl/openfl/utilities/utils.py\" target=\"_blank\"><span style=\"color: #7f7f7f; text-decoration-color: #7f7f7f\">utils.py</span></a><span style=\"color: #7f7f7f; text-decoration-color: #7f7f7f\">:</span><a href=\"file:///home/p/Desktop/Programs/Python/openfl/openfl/openfl/utilities/utils.py#172\" target=\"_blank\"><span style=\"color: #7f7f7f; text-decoration-color: #7f7f7f\">172</span></a>\n</pre>\n"
     },
     "metadata": {},
     "output_type": "display_data"
    },
    {
     "data": {
      "text/plain": "\u001B[2;36m[18:56:48]\u001B[0m\u001B[2;36m \u001B[0mMETRIC   Round \u001B[1;36m0\u001B[0m, collaborator one is sending metric for task aggregated_model_validation: acc   \u001B[1;36m0.443200\u001B[0m                         \u001B]8;id=777991;file:///home/p/Desktop/Programs/Python/openfl/openfl/openfl/component/collaborator/collaborator.py\u001B\\\u001B[2mcollaborator.py\u001B[0m\u001B]8;;\u001B\\\u001B[2m:\u001B[0m\u001B]8;id=861036;file:///home/p/Desktop/Programs/Python/openfl/openfl/openfl/component/collaborator/collaborator.py#415\u001B\\\u001B[2m415\u001B[0m\u001B]8;;\u001B\\\n",
      "text/html": "<pre style=\"white-space:pre;overflow-x:auto;line-height:normal;font-family:Menlo,'DejaVu Sans Mono',consolas,'Courier New',monospace\"><span style=\"color: #7fbfbf; text-decoration-color: #7fbfbf\">[18:56:48] </span>METRIC   Round <span style=\"color: #008080; text-decoration-color: #008080; font-weight: bold\">0</span>, collaborator one is sending metric for task aggregated_model_validation: acc   <span style=\"color: #008080; text-decoration-color: #008080; font-weight: bold\">0.443200</span>                         <a href=\"file:///home/p/Desktop/Programs/Python/openfl/openfl/openfl/component/collaborator/collaborator.py\" target=\"_blank\"><span style=\"color: #7f7f7f; text-decoration-color: #7f7f7f\">collaborator.py</span></a><span style=\"color: #7f7f7f; text-decoration-color: #7f7f7f\">:</span><a href=\"file:///home/p/Desktop/Programs/Python/openfl/openfl/openfl/component/collaborator/collaborator.py#415\" target=\"_blank\"><span style=\"color: #7f7f7f; text-decoration-color: #7f7f7f\">415</span></a>\n</pre>\n"
     },
     "metadata": {},
     "output_type": "display_data"
    },
    {
     "data": {
      "text/plain": "\u001B[2;36m          \u001B[0m\u001B[2;36m \u001B[0mMETRIC   Round \u001B[1;36m0\u001B[0m, collaborator validate_agg aggregated_model_validation result acc:      \u001B[1;36m0.443200\u001B[0m                                   \u001B]8;id=320334;file:///home/p/Desktop/Programs/Python/openfl/openfl/openfl/component/aggregator/aggregator.py\u001B\\\u001B[2maggregator.py\u001B[0m\u001B]8;;\u001B\\\u001B[2m:\u001B[0m\u001B]8;id=808250;file:///home/p/Desktop/Programs/Python/openfl/openfl/openfl/component/aggregator/aggregator.py#559\u001B\\\u001B[2m559\u001B[0m\u001B]8;;\u001B\\\n",
      "text/html": "<pre style=\"white-space:pre;overflow-x:auto;line-height:normal;font-family:Menlo,'DejaVu Sans Mono',consolas,'Courier New',monospace\"><span style=\"color: #7fbfbf; text-decoration-color: #7fbfbf\">           </span>METRIC   Round <span style=\"color: #008080; text-decoration-color: #008080; font-weight: bold\">0</span>, collaborator validate_agg aggregated_model_validation result acc:      <span style=\"color: #008080; text-decoration-color: #008080; font-weight: bold\">0.443200</span>                                   <a href=\"file:///home/p/Desktop/Programs/Python/openfl/openfl/openfl/component/aggregator/aggregator.py\" target=\"_blank\"><span style=\"color: #7f7f7f; text-decoration-color: #7f7f7f\">aggregator.py</span></a><span style=\"color: #7f7f7f; text-decoration-color: #7f7f7f\">:</span><a href=\"file:///home/p/Desktop/Programs/Python/openfl/openfl/openfl/component/aggregator/aggregator.py#559\" target=\"_blank\"><span style=\"color: #7f7f7f; text-decoration-color: #7f7f7f\">559</span></a>\n</pre>\n"
     },
     "metadata": {},
     "output_type": "display_data"
    },
    {
     "data": {
      "text/plain": "\u001B[2;36m          \u001B[0m\u001B[2;36m \u001B[0m\u001B[31mWARNING \u001B[0m tried to remove tensor: __opt_state_needed not present in the tensor dict                                                       \u001B]8;id=873502;file:///home/p/Desktop/Programs/Python/openfl/openfl/openfl/utilities/utils.py\u001B\\\u001B[2mutils.py\u001B[0m\u001B]8;;\u001B\\\u001B[2m:\u001B[0m\u001B]8;id=915061;file:///home/p/Desktop/Programs/Python/openfl/openfl/openfl/utilities/utils.py#172\u001B\\\u001B[2m172\u001B[0m\u001B]8;;\u001B\\\n",
      "text/html": "<pre style=\"white-space:pre;overflow-x:auto;line-height:normal;font-family:Menlo,'DejaVu Sans Mono',consolas,'Courier New',monospace\"><span style=\"color: #7fbfbf; text-decoration-color: #7fbfbf\">           </span><span style=\"color: #800000; text-decoration-color: #800000\">WARNING </span> tried to remove tensor: __opt_state_needed not present in the tensor dict                                                       <a href=\"file:///home/p/Desktop/Programs/Python/openfl/openfl/openfl/utilities/utils.py\" target=\"_blank\"><span style=\"color: #7f7f7f; text-decoration-color: #7f7f7f\">utils.py</span></a><span style=\"color: #7f7f7f; text-decoration-color: #7f7f7f\">:</span><a href=\"file:///home/p/Desktop/Programs/Python/openfl/openfl/openfl/utilities/utils.py#172\" target=\"_blank\"><span style=\"color: #7f7f7f; text-decoration-color: #7f7f7f\">172</span></a>\n</pre>\n"
     },
     "metadata": {},
     "output_type": "display_data"
    },
    {
     "data": {
      "text/plain": "\u001B[2;36m          \u001B[0m\u001B[2;36m \u001B[0mMETRIC   Round \u001B[1;36m0\u001B[0m, collaborator one is sending metric for task train: cross_entropy       \u001B[1;36m0.378572\u001B[0m                                 \u001B]8;id=25786;file:///home/p/Desktop/Programs/Python/openfl/openfl/openfl/component/collaborator/collaborator.py\u001B\\\u001B[2mcollaborator.py\u001B[0m\u001B]8;;\u001B\\\u001B[2m:\u001B[0m\u001B]8;id=582599;file:///home/p/Desktop/Programs/Python/openfl/openfl/openfl/component/collaborator/collaborator.py#415\u001B\\\u001B[2m415\u001B[0m\u001B]8;;\u001B\\\n",
      "text/html": "<pre style=\"white-space:pre;overflow-x:auto;line-height:normal;font-family:Menlo,'DejaVu Sans Mono',consolas,'Courier New',monospace\"><span style=\"color: #7fbfbf; text-decoration-color: #7fbfbf\">           </span>METRIC   Round <span style=\"color: #008080; text-decoration-color: #008080; font-weight: bold\">0</span>, collaborator one is sending metric for task train: cross_entropy       <span style=\"color: #008080; text-decoration-color: #008080; font-weight: bold\">0.378572</span>                                 <a href=\"file:///home/p/Desktop/Programs/Python/openfl/openfl/openfl/component/collaborator/collaborator.py\" target=\"_blank\"><span style=\"color: #7f7f7f; text-decoration-color: #7f7f7f\">collaborator.py</span></a><span style=\"color: #7f7f7f; text-decoration-color: #7f7f7f\">:</span><a href=\"file:///home/p/Desktop/Programs/Python/openfl/openfl/openfl/component/collaborator/collaborator.py#415\" target=\"_blank\"><span style=\"color: #7f7f7f; text-decoration-color: #7f7f7f\">415</span></a>\n</pre>\n"
     },
     "metadata": {},
     "output_type": "display_data"
    },
    {
     "data": {
      "text/plain": "\u001B[2;36m          \u001B[0m\u001B[2;36m \u001B[0mMETRIC   Round \u001B[1;36m0\u001B[0m, collaborator one train result cross_entropy:   \u001B[1;36m0.378572\u001B[0m                                                           \u001B]8;id=179351;file:///home/p/Desktop/Programs/Python/openfl/openfl/openfl/component/aggregator/aggregator.py\u001B\\\u001B[2maggregator.py\u001B[0m\u001B]8;;\u001B\\\u001B[2m:\u001B[0m\u001B]8;id=204907;file:///home/p/Desktop/Programs/Python/openfl/openfl/openfl/component/aggregator/aggregator.py#559\u001B\\\u001B[2m559\u001B[0m\u001B]8;;\u001B\\\n",
      "text/html": "<pre style=\"white-space:pre;overflow-x:auto;line-height:normal;font-family:Menlo,'DejaVu Sans Mono',consolas,'Courier New',monospace\"><span style=\"color: #7fbfbf; text-decoration-color: #7fbfbf\">           </span>METRIC   Round <span style=\"color: #008080; text-decoration-color: #008080; font-weight: bold\">0</span>, collaborator one train result cross_entropy:   <span style=\"color: #008080; text-decoration-color: #008080; font-weight: bold\">0.378572</span>                                                           <a href=\"file:///home/p/Desktop/Programs/Python/openfl/openfl/openfl/component/aggregator/aggregator.py\" target=\"_blank\"><span style=\"color: #7f7f7f; text-decoration-color: #7f7f7f\">aggregator.py</span></a><span style=\"color: #7f7f7f; text-decoration-color: #7f7f7f\">:</span><a href=\"file:///home/p/Desktop/Programs/Python/openfl/openfl/openfl/component/aggregator/aggregator.py#559\" target=\"_blank\"><span style=\"color: #7f7f7f; text-decoration-color: #7f7f7f\">559</span></a>\n</pre>\n"
     },
     "metadata": {},
     "output_type": "display_data"
    },
    {
     "data": {
      "text/plain": "\u001B[2;36m          \u001B[0m\u001B[2;36m \u001B[0mMETRIC   Round \u001B[1;36m0\u001B[0m, collaborator one is sending metric for task locally_tuned_model_validation: acc        \u001B[1;36m0.544400\u001B[0m                 \u001B]8;id=310994;file:///home/p/Desktop/Programs/Python/openfl/openfl/openfl/component/collaborator/collaborator.py\u001B\\\u001B[2mcollaborator.py\u001B[0m\u001B]8;;\u001B\\\u001B[2m:\u001B[0m\u001B]8;id=972012;file:///home/p/Desktop/Programs/Python/openfl/openfl/openfl/component/collaborator/collaborator.py#415\u001B\\\u001B[2m415\u001B[0m\u001B]8;;\u001B\\\n",
      "text/html": "<pre style=\"white-space:pre;overflow-x:auto;line-height:normal;font-family:Menlo,'DejaVu Sans Mono',consolas,'Courier New',monospace\"><span style=\"color: #7fbfbf; text-decoration-color: #7fbfbf\">           </span>METRIC   Round <span style=\"color: #008080; text-decoration-color: #008080; font-weight: bold\">0</span>, collaborator one is sending metric for task locally_tuned_model_validation: acc        <span style=\"color: #008080; text-decoration-color: #008080; font-weight: bold\">0.544400</span>                 <a href=\"file:///home/p/Desktop/Programs/Python/openfl/openfl/openfl/component/collaborator/collaborator.py\" target=\"_blank\"><span style=\"color: #7f7f7f; text-decoration-color: #7f7f7f\">collaborator.py</span></a><span style=\"color: #7f7f7f; text-decoration-color: #7f7f7f\">:</span><a href=\"file:///home/p/Desktop/Programs/Python/openfl/openfl/openfl/component/collaborator/collaborator.py#415\" target=\"_blank\"><span style=\"color: #7f7f7f; text-decoration-color: #7f7f7f\">415</span></a>\n</pre>\n"
     },
     "metadata": {},
     "output_type": "display_data"
    },
    {
     "data": {
      "text/plain": "\u001B[2;36m          \u001B[0m\u001B[2;36m \u001B[0mMETRIC   Round \u001B[1;36m0\u001B[0m, collaborator validate_local locally_tuned_model_validation result acc: \u001B[1;36m0.544400\u001B[0m                                   \u001B]8;id=572695;file:///home/p/Desktop/Programs/Python/openfl/openfl/openfl/component/aggregator/aggregator.py\u001B\\\u001B[2maggregator.py\u001B[0m\u001B]8;;\u001B\\\u001B[2m:\u001B[0m\u001B]8;id=904051;file:///home/p/Desktop/Programs/Python/openfl/openfl/openfl/component/aggregator/aggregator.py#559\u001B\\\u001B[2m559\u001B[0m\u001B]8;;\u001B\\\n",
      "text/html": "<pre style=\"white-space:pre;overflow-x:auto;line-height:normal;font-family:Menlo,'DejaVu Sans Mono',consolas,'Courier New',monospace\"><span style=\"color: #7fbfbf; text-decoration-color: #7fbfbf\">           </span>METRIC   Round <span style=\"color: #008080; text-decoration-color: #008080; font-weight: bold\">0</span>, collaborator validate_local locally_tuned_model_validation result acc: <span style=\"color: #008080; text-decoration-color: #008080; font-weight: bold\">0.544400</span>                                   <a href=\"file:///home/p/Desktop/Programs/Python/openfl/openfl/openfl/component/aggregator/aggregator.py\" target=\"_blank\"><span style=\"color: #7f7f7f; text-decoration-color: #7f7f7f\">aggregator.py</span></a><span style=\"color: #7f7f7f; text-decoration-color: #7f7f7f\">:</span><a href=\"file:///home/p/Desktop/Programs/Python/openfl/openfl/openfl/component/aggregator/aggregator.py#559\" target=\"_blank\"><span style=\"color: #7f7f7f; text-decoration-color: #7f7f7f\">559</span></a>\n</pre>\n"
     },
     "metadata": {},
     "output_type": "display_data"
    },
    {
     "data": {
      "text/plain": "\u001B[2;36m          \u001B[0m\u001B[2;36m \u001B[0mMETRIC   Round \u001B[1;36m0\u001B[0m, collaborator two is sending metric for task aggregated_model_validation: acc   \u001B[1;36m0.455600\u001B[0m                         \u001B]8;id=382336;file:///home/p/Desktop/Programs/Python/openfl/openfl/openfl/component/collaborator/collaborator.py\u001B\\\u001B[2mcollaborator.py\u001B[0m\u001B]8;;\u001B\\\u001B[2m:\u001B[0m\u001B]8;id=718268;file:///home/p/Desktop/Programs/Python/openfl/openfl/openfl/component/collaborator/collaborator.py#415\u001B\\\u001B[2m415\u001B[0m\u001B]8;;\u001B\\\n",
      "text/html": "<pre style=\"white-space:pre;overflow-x:auto;line-height:normal;font-family:Menlo,'DejaVu Sans Mono',consolas,'Courier New',monospace\"><span style=\"color: #7fbfbf; text-decoration-color: #7fbfbf\">           </span>METRIC   Round <span style=\"color: #008080; text-decoration-color: #008080; font-weight: bold\">0</span>, collaborator two is sending metric for task aggregated_model_validation: acc   <span style=\"color: #008080; text-decoration-color: #008080; font-weight: bold\">0.455600</span>                         <a href=\"file:///home/p/Desktop/Programs/Python/openfl/openfl/openfl/component/collaborator/collaborator.py\" target=\"_blank\"><span style=\"color: #7f7f7f; text-decoration-color: #7f7f7f\">collaborator.py</span></a><span style=\"color: #7f7f7f; text-decoration-color: #7f7f7f\">:</span><a href=\"file:///home/p/Desktop/Programs/Python/openfl/openfl/openfl/component/collaborator/collaborator.py#415\" target=\"_blank\"><span style=\"color: #7f7f7f; text-decoration-color: #7f7f7f\">415</span></a>\n</pre>\n"
     },
     "metadata": {},
     "output_type": "display_data"
    },
    {
     "data": {
      "text/plain": "\u001B[2;36m          \u001B[0m\u001B[2;36m \u001B[0mMETRIC   Round \u001B[1;36m0\u001B[0m, collaborator validate_agg aggregated_model_validation result acc:      \u001B[1;36m0.455600\u001B[0m                                   \u001B]8;id=102899;file:///home/p/Desktop/Programs/Python/openfl/openfl/openfl/component/aggregator/aggregator.py\u001B\\\u001B[2maggregator.py\u001B[0m\u001B]8;;\u001B\\\u001B[2m:\u001B[0m\u001B]8;id=553197;file:///home/p/Desktop/Programs/Python/openfl/openfl/openfl/component/aggregator/aggregator.py#559\u001B\\\u001B[2m559\u001B[0m\u001B]8;;\u001B\\\n",
      "text/html": "<pre style=\"white-space:pre;overflow-x:auto;line-height:normal;font-family:Menlo,'DejaVu Sans Mono',consolas,'Courier New',monospace\"><span style=\"color: #7fbfbf; text-decoration-color: #7fbfbf\">           </span>METRIC   Round <span style=\"color: #008080; text-decoration-color: #008080; font-weight: bold\">0</span>, collaborator validate_agg aggregated_model_validation result acc:      <span style=\"color: #008080; text-decoration-color: #008080; font-weight: bold\">0.455600</span>                                   <a href=\"file:///home/p/Desktop/Programs/Python/openfl/openfl/openfl/component/aggregator/aggregator.py\" target=\"_blank\"><span style=\"color: #7f7f7f; text-decoration-color: #7f7f7f\">aggregator.py</span></a><span style=\"color: #7f7f7f; text-decoration-color: #7f7f7f\">:</span><a href=\"file:///home/p/Desktop/Programs/Python/openfl/openfl/openfl/component/aggregator/aggregator.py#559\" target=\"_blank\"><span style=\"color: #7f7f7f; text-decoration-color: #7f7f7f\">559</span></a>\n</pre>\n"
     },
     "metadata": {},
     "output_type": "display_data"
    },
    {
     "data": {
      "text/plain": "\u001B[2;36m[18:56:49]\u001B[0m\u001B[2;36m \u001B[0m\u001B[31mWARNING \u001B[0m tried to remove tensor: __opt_state_needed not present in the tensor dict                                                       \u001B]8;id=411835;file:///home/p/Desktop/Programs/Python/openfl/openfl/openfl/utilities/utils.py\u001B\\\u001B[2mutils.py\u001B[0m\u001B]8;;\u001B\\\u001B[2m:\u001B[0m\u001B]8;id=529825;file:///home/p/Desktop/Programs/Python/openfl/openfl/openfl/utilities/utils.py#172\u001B\\\u001B[2m172\u001B[0m\u001B]8;;\u001B\\\n",
      "text/html": "<pre style=\"white-space:pre;overflow-x:auto;line-height:normal;font-family:Menlo,'DejaVu Sans Mono',consolas,'Courier New',monospace\"><span style=\"color: #7fbfbf; text-decoration-color: #7fbfbf\">[18:56:49] </span><span style=\"color: #800000; text-decoration-color: #800000\">WARNING </span> tried to remove tensor: __opt_state_needed not present in the tensor dict                                                       <a href=\"file:///home/p/Desktop/Programs/Python/openfl/openfl/openfl/utilities/utils.py\" target=\"_blank\"><span style=\"color: #7f7f7f; text-decoration-color: #7f7f7f\">utils.py</span></a><span style=\"color: #7f7f7f; text-decoration-color: #7f7f7f\">:</span><a href=\"file:///home/p/Desktop/Programs/Python/openfl/openfl/openfl/utilities/utils.py#172\" target=\"_blank\"><span style=\"color: #7f7f7f; text-decoration-color: #7f7f7f\">172</span></a>\n</pre>\n"
     },
     "metadata": {},
     "output_type": "display_data"
    },
    {
     "data": {
      "text/plain": "\u001B[2;36m          \u001B[0m\u001B[2;36m \u001B[0mMETRIC   Round \u001B[1;36m0\u001B[0m, collaborator two is sending metric for task train: cross_entropy       \u001B[1;36m0.382918\u001B[0m                                 \u001B]8;id=373185;file:///home/p/Desktop/Programs/Python/openfl/openfl/openfl/component/collaborator/collaborator.py\u001B\\\u001B[2mcollaborator.py\u001B[0m\u001B]8;;\u001B\\\u001B[2m:\u001B[0m\u001B]8;id=664866;file:///home/p/Desktop/Programs/Python/openfl/openfl/openfl/component/collaborator/collaborator.py#415\u001B\\\u001B[2m415\u001B[0m\u001B]8;;\u001B\\\n",
      "text/html": "<pre style=\"white-space:pre;overflow-x:auto;line-height:normal;font-family:Menlo,'DejaVu Sans Mono',consolas,'Courier New',monospace\"><span style=\"color: #7fbfbf; text-decoration-color: #7fbfbf\">           </span>METRIC   Round <span style=\"color: #008080; text-decoration-color: #008080; font-weight: bold\">0</span>, collaborator two is sending metric for task train: cross_entropy       <span style=\"color: #008080; text-decoration-color: #008080; font-weight: bold\">0.382918</span>                                 <a href=\"file:///home/p/Desktop/Programs/Python/openfl/openfl/openfl/component/collaborator/collaborator.py\" target=\"_blank\"><span style=\"color: #7f7f7f; text-decoration-color: #7f7f7f\">collaborator.py</span></a><span style=\"color: #7f7f7f; text-decoration-color: #7f7f7f\">:</span><a href=\"file:///home/p/Desktop/Programs/Python/openfl/openfl/openfl/component/collaborator/collaborator.py#415\" target=\"_blank\"><span style=\"color: #7f7f7f; text-decoration-color: #7f7f7f\">415</span></a>\n</pre>\n"
     },
     "metadata": {},
     "output_type": "display_data"
    },
    {
     "data": {
      "text/plain": "\u001B[2;36m          \u001B[0m\u001B[2;36m \u001B[0mMETRIC   Round \u001B[1;36m0\u001B[0m, collaborator two train result cross_entropy:   \u001B[1;36m0.382918\u001B[0m                                                           \u001B]8;id=936116;file:///home/p/Desktop/Programs/Python/openfl/openfl/openfl/component/aggregator/aggregator.py\u001B\\\u001B[2maggregator.py\u001B[0m\u001B]8;;\u001B\\\u001B[2m:\u001B[0m\u001B]8;id=541754;file:///home/p/Desktop/Programs/Python/openfl/openfl/openfl/component/aggregator/aggregator.py#559\u001B\\\u001B[2m559\u001B[0m\u001B]8;;\u001B\\\n",
      "text/html": "<pre style=\"white-space:pre;overflow-x:auto;line-height:normal;font-family:Menlo,'DejaVu Sans Mono',consolas,'Courier New',monospace\"><span style=\"color: #7fbfbf; text-decoration-color: #7fbfbf\">           </span>METRIC   Round <span style=\"color: #008080; text-decoration-color: #008080; font-weight: bold\">0</span>, collaborator two train result cross_entropy:   <span style=\"color: #008080; text-decoration-color: #008080; font-weight: bold\">0.382918</span>                                                           <a href=\"file:///home/p/Desktop/Programs/Python/openfl/openfl/openfl/component/aggregator/aggregator.py\" target=\"_blank\"><span style=\"color: #7f7f7f; text-decoration-color: #7f7f7f\">aggregator.py</span></a><span style=\"color: #7f7f7f; text-decoration-color: #7f7f7f\">:</span><a href=\"file:///home/p/Desktop/Programs/Python/openfl/openfl/openfl/component/aggregator/aggregator.py#559\" target=\"_blank\"><span style=\"color: #7f7f7f; text-decoration-color: #7f7f7f\">559</span></a>\n</pre>\n"
     },
     "metadata": {},
     "output_type": "display_data"
    },
    {
     "data": {
      "text/plain": "\u001B[2;36m          \u001B[0m\u001B[2;36m \u001B[0mMETRIC   Round \u001B[1;36m0\u001B[0m, collaborator two is sending metric for task locally_tuned_model_validation: acc        \u001B[1;36m0.542000\u001B[0m                 \u001B]8;id=21533;file:///home/p/Desktop/Programs/Python/openfl/openfl/openfl/component/collaborator/collaborator.py\u001B\\\u001B[2mcollaborator.py\u001B[0m\u001B]8;;\u001B\\\u001B[2m:\u001B[0m\u001B]8;id=969788;file:///home/p/Desktop/Programs/Python/openfl/openfl/openfl/component/collaborator/collaborator.py#415\u001B\\\u001B[2m415\u001B[0m\u001B]8;;\u001B\\\n",
      "text/html": "<pre style=\"white-space:pre;overflow-x:auto;line-height:normal;font-family:Menlo,'DejaVu Sans Mono',consolas,'Courier New',monospace\"><span style=\"color: #7fbfbf; text-decoration-color: #7fbfbf\">           </span>METRIC   Round <span style=\"color: #008080; text-decoration-color: #008080; font-weight: bold\">0</span>, collaborator two is sending metric for task locally_tuned_model_validation: acc        <span style=\"color: #008080; text-decoration-color: #008080; font-weight: bold\">0.542000</span>                 <a href=\"file:///home/p/Desktop/Programs/Python/openfl/openfl/openfl/component/collaborator/collaborator.py\" target=\"_blank\"><span style=\"color: #7f7f7f; text-decoration-color: #7f7f7f\">collaborator.py</span></a><span style=\"color: #7f7f7f; text-decoration-color: #7f7f7f\">:</span><a href=\"file:///home/p/Desktop/Programs/Python/openfl/openfl/openfl/component/collaborator/collaborator.py#415\" target=\"_blank\"><span style=\"color: #7f7f7f; text-decoration-color: #7f7f7f\">415</span></a>\n</pre>\n"
     },
     "metadata": {},
     "output_type": "display_data"
    },
    {
     "data": {
      "text/plain": "\u001B[2;36m          \u001B[0m\u001B[2;36m \u001B[0mMETRIC   Round \u001B[1;36m0\u001B[0m, collaborator validate_local locally_tuned_model_validation result acc: \u001B[1;36m0.542000\u001B[0m                                   \u001B]8;id=384237;file:///home/p/Desktop/Programs/Python/openfl/openfl/openfl/component/aggregator/aggregator.py\u001B\\\u001B[2maggregator.py\u001B[0m\u001B]8;;\u001B\\\u001B[2m:\u001B[0m\u001B]8;id=723934;file:///home/p/Desktop/Programs/Python/openfl/openfl/openfl/component/aggregator/aggregator.py#559\u001B\\\u001B[2m559\u001B[0m\u001B]8;;\u001B\\\n",
      "text/html": "<pre style=\"white-space:pre;overflow-x:auto;line-height:normal;font-family:Menlo,'DejaVu Sans Mono',consolas,'Courier New',monospace\"><span style=\"color: #7fbfbf; text-decoration-color: #7fbfbf\">           </span>METRIC   Round <span style=\"color: #008080; text-decoration-color: #008080; font-weight: bold\">0</span>, collaborator validate_local locally_tuned_model_validation result acc: <span style=\"color: #008080; text-decoration-color: #008080; font-weight: bold\">0.542000</span>                                   <a href=\"file:///home/p/Desktop/Programs/Python/openfl/openfl/openfl/component/aggregator/aggregator.py\" target=\"_blank\"><span style=\"color: #7f7f7f; text-decoration-color: #7f7f7f\">aggregator.py</span></a><span style=\"color: #7f7f7f; text-decoration-color: #7f7f7f\">:</span><a href=\"file:///home/p/Desktop/Programs/Python/openfl/openfl/openfl/component/aggregator/aggregator.py#559\" target=\"_blank\"><span style=\"color: #7f7f7f; text-decoration-color: #7f7f7f\">559</span></a>\n</pre>\n"
     },
     "metadata": {},
     "output_type": "display_data"
    },
    {
     "data": {
      "text/plain": "\u001B[2;36m          \u001B[0m\u001B[2;36m \u001B[0mMETRIC   Round \u001B[1;36m0\u001B[0m, collaborator three is sending metric for task aggregated_model_validation: acc \u001B[1;36m0.434000\u001B[0m                         \u001B]8;id=447567;file:///home/p/Desktop/Programs/Python/openfl/openfl/openfl/component/collaborator/collaborator.py\u001B\\\u001B[2mcollaborator.py\u001B[0m\u001B]8;;\u001B\\\u001B[2m:\u001B[0m\u001B]8;id=575425;file:///home/p/Desktop/Programs/Python/openfl/openfl/openfl/component/collaborator/collaborator.py#415\u001B\\\u001B[2m415\u001B[0m\u001B]8;;\u001B\\\n",
      "text/html": "<pre style=\"white-space:pre;overflow-x:auto;line-height:normal;font-family:Menlo,'DejaVu Sans Mono',consolas,'Courier New',monospace\"><span style=\"color: #7fbfbf; text-decoration-color: #7fbfbf\">           </span>METRIC   Round <span style=\"color: #008080; text-decoration-color: #008080; font-weight: bold\">0</span>, collaborator three is sending metric for task aggregated_model_validation: acc <span style=\"color: #008080; text-decoration-color: #008080; font-weight: bold\">0.434000</span>                         <a href=\"file:///home/p/Desktop/Programs/Python/openfl/openfl/openfl/component/collaborator/collaborator.py\" target=\"_blank\"><span style=\"color: #7f7f7f; text-decoration-color: #7f7f7f\">collaborator.py</span></a><span style=\"color: #7f7f7f; text-decoration-color: #7f7f7f\">:</span><a href=\"file:///home/p/Desktop/Programs/Python/openfl/openfl/openfl/component/collaborator/collaborator.py#415\" target=\"_blank\"><span style=\"color: #7f7f7f; text-decoration-color: #7f7f7f\">415</span></a>\n</pre>\n"
     },
     "metadata": {},
     "output_type": "display_data"
    },
    {
     "data": {
      "text/plain": "\u001B[2;36m          \u001B[0m\u001B[2;36m \u001B[0mMETRIC   Round \u001B[1;36m0\u001B[0m, collaborator validate_agg aggregated_model_validation result acc:      \u001B[1;36m0.434000\u001B[0m                                   \u001B]8;id=75286;file:///home/p/Desktop/Programs/Python/openfl/openfl/openfl/component/aggregator/aggregator.py\u001B\\\u001B[2maggregator.py\u001B[0m\u001B]8;;\u001B\\\u001B[2m:\u001B[0m\u001B]8;id=879807;file:///home/p/Desktop/Programs/Python/openfl/openfl/openfl/component/aggregator/aggregator.py#559\u001B\\\u001B[2m559\u001B[0m\u001B]8;;\u001B\\\n",
      "text/html": "<pre style=\"white-space:pre;overflow-x:auto;line-height:normal;font-family:Menlo,'DejaVu Sans Mono',consolas,'Courier New',monospace\"><span style=\"color: #7fbfbf; text-decoration-color: #7fbfbf\">           </span>METRIC   Round <span style=\"color: #008080; text-decoration-color: #008080; font-weight: bold\">0</span>, collaborator validate_agg aggregated_model_validation result acc:      <span style=\"color: #008080; text-decoration-color: #008080; font-weight: bold\">0.434000</span>                                   <a href=\"file:///home/p/Desktop/Programs/Python/openfl/openfl/openfl/component/aggregator/aggregator.py\" target=\"_blank\"><span style=\"color: #7f7f7f; text-decoration-color: #7f7f7f\">aggregator.py</span></a><span style=\"color: #7f7f7f; text-decoration-color: #7f7f7f\">:</span><a href=\"file:///home/p/Desktop/Programs/Python/openfl/openfl/openfl/component/aggregator/aggregator.py#559\" target=\"_blank\"><span style=\"color: #7f7f7f; text-decoration-color: #7f7f7f\">559</span></a>\n</pre>\n"
     },
     "metadata": {},
     "output_type": "display_data"
    },
    {
     "data": {
      "text/plain": "\u001B[2;36m[18:56:50]\u001B[0m\u001B[2;36m \u001B[0m\u001B[31mWARNING \u001B[0m tried to remove tensor: __opt_state_needed not present in the tensor dict                                                       \u001B]8;id=242956;file:///home/p/Desktop/Programs/Python/openfl/openfl/openfl/utilities/utils.py\u001B\\\u001B[2mutils.py\u001B[0m\u001B]8;;\u001B\\\u001B[2m:\u001B[0m\u001B]8;id=113396;file:///home/p/Desktop/Programs/Python/openfl/openfl/openfl/utilities/utils.py#172\u001B\\\u001B[2m172\u001B[0m\u001B]8;;\u001B\\\n",
      "text/html": "<pre style=\"white-space:pre;overflow-x:auto;line-height:normal;font-family:Menlo,'DejaVu Sans Mono',consolas,'Courier New',monospace\"><span style=\"color: #7fbfbf; text-decoration-color: #7fbfbf\">[18:56:50] </span><span style=\"color: #800000; text-decoration-color: #800000\">WARNING </span> tried to remove tensor: __opt_state_needed not present in the tensor dict                                                       <a href=\"file:///home/p/Desktop/Programs/Python/openfl/openfl/openfl/utilities/utils.py\" target=\"_blank\"><span style=\"color: #7f7f7f; text-decoration-color: #7f7f7f\">utils.py</span></a><span style=\"color: #7f7f7f; text-decoration-color: #7f7f7f\">:</span><a href=\"file:///home/p/Desktop/Programs/Python/openfl/openfl/openfl/utilities/utils.py#172\" target=\"_blank\"><span style=\"color: #7f7f7f; text-decoration-color: #7f7f7f\">172</span></a>\n</pre>\n"
     },
     "metadata": {},
     "output_type": "display_data"
    },
    {
     "data": {
      "text/plain": "\u001B[2;36m          \u001B[0m\u001B[2;36m \u001B[0mMETRIC   Round \u001B[1;36m0\u001B[0m, collaborator three is sending metric for task train: cross_entropy     \u001B[1;36m0.377545\u001B[0m                                 \u001B]8;id=877551;file:///home/p/Desktop/Programs/Python/openfl/openfl/openfl/component/collaborator/collaborator.py\u001B\\\u001B[2mcollaborator.py\u001B[0m\u001B]8;;\u001B\\\u001B[2m:\u001B[0m\u001B]8;id=8811;file:///home/p/Desktop/Programs/Python/openfl/openfl/openfl/component/collaborator/collaborator.py#415\u001B\\\u001B[2m415\u001B[0m\u001B]8;;\u001B\\\n",
      "text/html": "<pre style=\"white-space:pre;overflow-x:auto;line-height:normal;font-family:Menlo,'DejaVu Sans Mono',consolas,'Courier New',monospace\"><span style=\"color: #7fbfbf; text-decoration-color: #7fbfbf\">           </span>METRIC   Round <span style=\"color: #008080; text-decoration-color: #008080; font-weight: bold\">0</span>, collaborator three is sending metric for task train: cross_entropy     <span style=\"color: #008080; text-decoration-color: #008080; font-weight: bold\">0.377545</span>                                 <a href=\"file:///home/p/Desktop/Programs/Python/openfl/openfl/openfl/component/collaborator/collaborator.py\" target=\"_blank\"><span style=\"color: #7f7f7f; text-decoration-color: #7f7f7f\">collaborator.py</span></a><span style=\"color: #7f7f7f; text-decoration-color: #7f7f7f\">:</span><a href=\"file:///home/p/Desktop/Programs/Python/openfl/openfl/openfl/component/collaborator/collaborator.py#415\" target=\"_blank\"><span style=\"color: #7f7f7f; text-decoration-color: #7f7f7f\">415</span></a>\n</pre>\n"
     },
     "metadata": {},
     "output_type": "display_data"
    },
    {
     "data": {
      "text/plain": "\u001B[2;36m          \u001B[0m\u001B[2;36m \u001B[0mMETRIC   Round \u001B[1;36m0\u001B[0m, collaborator three train result cross_entropy: \u001B[1;36m0.377545\u001B[0m                                                           \u001B]8;id=719954;file:///home/p/Desktop/Programs/Python/openfl/openfl/openfl/component/aggregator/aggregator.py\u001B\\\u001B[2maggregator.py\u001B[0m\u001B]8;;\u001B\\\u001B[2m:\u001B[0m\u001B]8;id=718528;file:///home/p/Desktop/Programs/Python/openfl/openfl/openfl/component/aggregator/aggregator.py#559\u001B\\\u001B[2m559\u001B[0m\u001B]8;;\u001B\\\n",
      "text/html": "<pre style=\"white-space:pre;overflow-x:auto;line-height:normal;font-family:Menlo,'DejaVu Sans Mono',consolas,'Courier New',monospace\"><span style=\"color: #7fbfbf; text-decoration-color: #7fbfbf\">           </span>METRIC   Round <span style=\"color: #008080; text-decoration-color: #008080; font-weight: bold\">0</span>, collaborator three train result cross_entropy: <span style=\"color: #008080; text-decoration-color: #008080; font-weight: bold\">0.377545</span>                                                           <a href=\"file:///home/p/Desktop/Programs/Python/openfl/openfl/openfl/component/aggregator/aggregator.py\" target=\"_blank\"><span style=\"color: #7f7f7f; text-decoration-color: #7f7f7f\">aggregator.py</span></a><span style=\"color: #7f7f7f; text-decoration-color: #7f7f7f\">:</span><a href=\"file:///home/p/Desktop/Programs/Python/openfl/openfl/openfl/component/aggregator/aggregator.py#559\" target=\"_blank\"><span style=\"color: #7f7f7f; text-decoration-color: #7f7f7f\">559</span></a>\n</pre>\n"
     },
     "metadata": {},
     "output_type": "display_data"
    },
    {
     "data": {
      "text/plain": "\u001B[2;36m          \u001B[0m\u001B[2;36m \u001B[0mMETRIC   Round \u001B[1;36m0\u001B[0m, collaborator three is sending metric for task locally_tuned_model_validation: acc      \u001B[1;36m0.534000\u001B[0m                 \u001B]8;id=681937;file:///home/p/Desktop/Programs/Python/openfl/openfl/openfl/component/collaborator/collaborator.py\u001B\\\u001B[2mcollaborator.py\u001B[0m\u001B]8;;\u001B\\\u001B[2m:\u001B[0m\u001B]8;id=782997;file:///home/p/Desktop/Programs/Python/openfl/openfl/openfl/component/collaborator/collaborator.py#415\u001B\\\u001B[2m415\u001B[0m\u001B]8;;\u001B\\\n",
      "text/html": "<pre style=\"white-space:pre;overflow-x:auto;line-height:normal;font-family:Menlo,'DejaVu Sans Mono',consolas,'Courier New',monospace\"><span style=\"color: #7fbfbf; text-decoration-color: #7fbfbf\">           </span>METRIC   Round <span style=\"color: #008080; text-decoration-color: #008080; font-weight: bold\">0</span>, collaborator three is sending metric for task locally_tuned_model_validation: acc      <span style=\"color: #008080; text-decoration-color: #008080; font-weight: bold\">0.534000</span>                 <a href=\"file:///home/p/Desktop/Programs/Python/openfl/openfl/openfl/component/collaborator/collaborator.py\" target=\"_blank\"><span style=\"color: #7f7f7f; text-decoration-color: #7f7f7f\">collaborator.py</span></a><span style=\"color: #7f7f7f; text-decoration-color: #7f7f7f\">:</span><a href=\"file:///home/p/Desktop/Programs/Python/openfl/openfl/openfl/component/collaborator/collaborator.py#415\" target=\"_blank\"><span style=\"color: #7f7f7f; text-decoration-color: #7f7f7f\">415</span></a>\n</pre>\n"
     },
     "metadata": {},
     "output_type": "display_data"
    },
    {
     "data": {
      "text/plain": "\u001B[2;36m          \u001B[0m\u001B[2;36m \u001B[0mMETRIC   Round \u001B[1;36m0\u001B[0m, collaborator validate_local locally_tuned_model_validation result acc: \u001B[1;36m0.534000\u001B[0m                                   \u001B]8;id=239011;file:///home/p/Desktop/Programs/Python/openfl/openfl/openfl/component/aggregator/aggregator.py\u001B\\\u001B[2maggregator.py\u001B[0m\u001B]8;;\u001B\\\u001B[2m:\u001B[0m\u001B]8;id=615589;file:///home/p/Desktop/Programs/Python/openfl/openfl/openfl/component/aggregator/aggregator.py#559\u001B\\\u001B[2m559\u001B[0m\u001B]8;;\u001B\\\n",
      "text/html": "<pre style=\"white-space:pre;overflow-x:auto;line-height:normal;font-family:Menlo,'DejaVu Sans Mono',consolas,'Courier New',monospace\"><span style=\"color: #7fbfbf; text-decoration-color: #7fbfbf\">           </span>METRIC   Round <span style=\"color: #008080; text-decoration-color: #008080; font-weight: bold\">0</span>, collaborator validate_local locally_tuned_model_validation result acc: <span style=\"color: #008080; text-decoration-color: #008080; font-weight: bold\">0.534000</span>                                   <a href=\"file:///home/p/Desktop/Programs/Python/openfl/openfl/openfl/component/aggregator/aggregator.py\" target=\"_blank\"><span style=\"color: #7f7f7f; text-decoration-color: #7f7f7f\">aggregator.py</span></a><span style=\"color: #7f7f7f; text-decoration-color: #7f7f7f\">:</span><a href=\"file:///home/p/Desktop/Programs/Python/openfl/openfl/openfl/component/aggregator/aggregator.py#559\" target=\"_blank\"><span style=\"color: #7f7f7f; text-decoration-color: #7f7f7f\">559</span></a>\n</pre>\n"
     },
     "metadata": {},
     "output_type": "display_data"
    },
    {
     "data": {
      "text/plain": "\u001B[2;36m          \u001B[0m\u001B[2;36m \u001B[0mMETRIC   Round \u001B[1;36m0\u001B[0m, collaborator four is sending metric for task aggregated_model_validation: acc  \u001B[1;36m0.440800\u001B[0m                         \u001B]8;id=216626;file:///home/p/Desktop/Programs/Python/openfl/openfl/openfl/component/collaborator/collaborator.py\u001B\\\u001B[2mcollaborator.py\u001B[0m\u001B]8;;\u001B\\\u001B[2m:\u001B[0m\u001B]8;id=483325;file:///home/p/Desktop/Programs/Python/openfl/openfl/openfl/component/collaborator/collaborator.py#415\u001B\\\u001B[2m415\u001B[0m\u001B]8;;\u001B\\\n",
      "text/html": "<pre style=\"white-space:pre;overflow-x:auto;line-height:normal;font-family:Menlo,'DejaVu Sans Mono',consolas,'Courier New',monospace\"><span style=\"color: #7fbfbf; text-decoration-color: #7fbfbf\">           </span>METRIC   Round <span style=\"color: #008080; text-decoration-color: #008080; font-weight: bold\">0</span>, collaborator four is sending metric for task aggregated_model_validation: acc  <span style=\"color: #008080; text-decoration-color: #008080; font-weight: bold\">0.440800</span>                         <a href=\"file:///home/p/Desktop/Programs/Python/openfl/openfl/openfl/component/collaborator/collaborator.py\" target=\"_blank\"><span style=\"color: #7f7f7f; text-decoration-color: #7f7f7f\">collaborator.py</span></a><span style=\"color: #7f7f7f; text-decoration-color: #7f7f7f\">:</span><a href=\"file:///home/p/Desktop/Programs/Python/openfl/openfl/openfl/component/collaborator/collaborator.py#415\" target=\"_blank\"><span style=\"color: #7f7f7f; text-decoration-color: #7f7f7f\">415</span></a>\n</pre>\n"
     },
     "metadata": {},
     "output_type": "display_data"
    },
    {
     "data": {
      "text/plain": "\u001B[2;36m          \u001B[0m\u001B[2;36m \u001B[0mMETRIC   Round \u001B[1;36m0\u001B[0m, collaborator validate_agg aggregated_model_validation result acc:      \u001B[1;36m0.440800\u001B[0m                                   \u001B]8;id=569474;file:///home/p/Desktop/Programs/Python/openfl/openfl/openfl/component/aggregator/aggregator.py\u001B\\\u001B[2maggregator.py\u001B[0m\u001B]8;;\u001B\\\u001B[2m:\u001B[0m\u001B]8;id=870776;file:///home/p/Desktop/Programs/Python/openfl/openfl/openfl/component/aggregator/aggregator.py#559\u001B\\\u001B[2m559\u001B[0m\u001B]8;;\u001B\\\n",
      "text/html": "<pre style=\"white-space:pre;overflow-x:auto;line-height:normal;font-family:Menlo,'DejaVu Sans Mono',consolas,'Courier New',monospace\"><span style=\"color: #7fbfbf; text-decoration-color: #7fbfbf\">           </span>METRIC   Round <span style=\"color: #008080; text-decoration-color: #008080; font-weight: bold\">0</span>, collaborator validate_agg aggregated_model_validation result acc:      <span style=\"color: #008080; text-decoration-color: #008080; font-weight: bold\">0.440800</span>                                   <a href=\"file:///home/p/Desktop/Programs/Python/openfl/openfl/openfl/component/aggregator/aggregator.py\" target=\"_blank\"><span style=\"color: #7f7f7f; text-decoration-color: #7f7f7f\">aggregator.py</span></a><span style=\"color: #7f7f7f; text-decoration-color: #7f7f7f\">:</span><a href=\"file:///home/p/Desktop/Programs/Python/openfl/openfl/openfl/component/aggregator/aggregator.py#559\" target=\"_blank\"><span style=\"color: #7f7f7f; text-decoration-color: #7f7f7f\">559</span></a>\n</pre>\n"
     },
     "metadata": {},
     "output_type": "display_data"
    },
    {
     "data": {
      "text/plain": "\u001B[2;36m          \u001B[0m\u001B[2;36m \u001B[0m\u001B[31mWARNING \u001B[0m tried to remove tensor: __opt_state_needed not present in the tensor dict                                                       \u001B]8;id=91410;file:///home/p/Desktop/Programs/Python/openfl/openfl/openfl/utilities/utils.py\u001B\\\u001B[2mutils.py\u001B[0m\u001B]8;;\u001B\\\u001B[2m:\u001B[0m\u001B]8;id=687893;file:///home/p/Desktop/Programs/Python/openfl/openfl/openfl/utilities/utils.py#172\u001B\\\u001B[2m172\u001B[0m\u001B]8;;\u001B\\\n",
      "text/html": "<pre style=\"white-space:pre;overflow-x:auto;line-height:normal;font-family:Menlo,'DejaVu Sans Mono',consolas,'Courier New',monospace\"><span style=\"color: #7fbfbf; text-decoration-color: #7fbfbf\">           </span><span style=\"color: #800000; text-decoration-color: #800000\">WARNING </span> tried to remove tensor: __opt_state_needed not present in the tensor dict                                                       <a href=\"file:///home/p/Desktop/Programs/Python/openfl/openfl/openfl/utilities/utils.py\" target=\"_blank\"><span style=\"color: #7f7f7f; text-decoration-color: #7f7f7f\">utils.py</span></a><span style=\"color: #7f7f7f; text-decoration-color: #7f7f7f\">:</span><a href=\"file:///home/p/Desktop/Programs/Python/openfl/openfl/openfl/utilities/utils.py#172\" target=\"_blank\"><span style=\"color: #7f7f7f; text-decoration-color: #7f7f7f\">172</span></a>\n</pre>\n"
     },
     "metadata": {},
     "output_type": "display_data"
    },
    {
     "data": {
      "text/plain": "\u001B[2;36m          \u001B[0m\u001B[2;36m \u001B[0mMETRIC   Round \u001B[1;36m0\u001B[0m, collaborator four is sending metric for task train: cross_entropy      \u001B[1;36m0.374307\u001B[0m                                 \u001B]8;id=835570;file:///home/p/Desktop/Programs/Python/openfl/openfl/openfl/component/collaborator/collaborator.py\u001B\\\u001B[2mcollaborator.py\u001B[0m\u001B]8;;\u001B\\\u001B[2m:\u001B[0m\u001B]8;id=802398;file:///home/p/Desktop/Programs/Python/openfl/openfl/openfl/component/collaborator/collaborator.py#415\u001B\\\u001B[2m415\u001B[0m\u001B]8;;\u001B\\\n",
      "text/html": "<pre style=\"white-space:pre;overflow-x:auto;line-height:normal;font-family:Menlo,'DejaVu Sans Mono',consolas,'Courier New',monospace\"><span style=\"color: #7fbfbf; text-decoration-color: #7fbfbf\">           </span>METRIC   Round <span style=\"color: #008080; text-decoration-color: #008080; font-weight: bold\">0</span>, collaborator four is sending metric for task train: cross_entropy      <span style=\"color: #008080; text-decoration-color: #008080; font-weight: bold\">0.374307</span>                                 <a href=\"file:///home/p/Desktop/Programs/Python/openfl/openfl/openfl/component/collaborator/collaborator.py\" target=\"_blank\"><span style=\"color: #7f7f7f; text-decoration-color: #7f7f7f\">collaborator.py</span></a><span style=\"color: #7f7f7f; text-decoration-color: #7f7f7f\">:</span><a href=\"file:///home/p/Desktop/Programs/Python/openfl/openfl/openfl/component/collaborator/collaborator.py#415\" target=\"_blank\"><span style=\"color: #7f7f7f; text-decoration-color: #7f7f7f\">415</span></a>\n</pre>\n"
     },
     "metadata": {},
     "output_type": "display_data"
    },
    {
     "data": {
      "text/plain": "\u001B[2;36m          \u001B[0m\u001B[2;36m \u001B[0mMETRIC   Round \u001B[1;36m0\u001B[0m, collaborator metric train result cross_entropy:        \u001B[1;36m0.374307\u001B[0m                                                   \u001B]8;id=312660;file:///home/p/Desktop/Programs/Python/openfl/openfl/openfl/component/aggregator/aggregator.py\u001B\\\u001B[2maggregator.py\u001B[0m\u001B]8;;\u001B\\\u001B[2m:\u001B[0m\u001B]8;id=128405;file:///home/p/Desktop/Programs/Python/openfl/openfl/openfl/component/aggregator/aggregator.py#559\u001B\\\u001B[2m559\u001B[0m\u001B]8;;\u001B\\\n",
      "text/html": "<pre style=\"white-space:pre;overflow-x:auto;line-height:normal;font-family:Menlo,'DejaVu Sans Mono',consolas,'Courier New',monospace\"><span style=\"color: #7fbfbf; text-decoration-color: #7fbfbf\">           </span>METRIC   Round <span style=\"color: #008080; text-decoration-color: #008080; font-weight: bold\">0</span>, collaborator metric train result cross_entropy:        <span style=\"color: #008080; text-decoration-color: #008080; font-weight: bold\">0.374307</span>                                                   <a href=\"file:///home/p/Desktop/Programs/Python/openfl/openfl/openfl/component/aggregator/aggregator.py\" target=\"_blank\"><span style=\"color: #7f7f7f; text-decoration-color: #7f7f7f\">aggregator.py</span></a><span style=\"color: #7f7f7f; text-decoration-color: #7f7f7f\">:</span><a href=\"file:///home/p/Desktop/Programs/Python/openfl/openfl/openfl/component/aggregator/aggregator.py#559\" target=\"_blank\"><span style=\"color: #7f7f7f; text-decoration-color: #7f7f7f\">559</span></a>\n</pre>\n"
     },
     "metadata": {},
     "output_type": "display_data"
    },
    {
     "data": {
      "text/plain": "\u001B[2;36m          \u001B[0m\u001B[2;36m \u001B[0mMETRIC   Round \u001B[1;36m0\u001B[0m, collaborator four is sending metric for task locally_tuned_model_validation: acc       \u001B[1;36m0.535600\u001B[0m                 \u001B]8;id=701604;file:///home/p/Desktop/Programs/Python/openfl/openfl/openfl/component/collaborator/collaborator.py\u001B\\\u001B[2mcollaborator.py\u001B[0m\u001B]8;;\u001B\\\u001B[2m:\u001B[0m\u001B]8;id=291320;file:///home/p/Desktop/Programs/Python/openfl/openfl/openfl/component/collaborator/collaborator.py#415\u001B\\\u001B[2m415\u001B[0m\u001B]8;;\u001B\\\n",
      "text/html": "<pre style=\"white-space:pre;overflow-x:auto;line-height:normal;font-family:Menlo,'DejaVu Sans Mono',consolas,'Courier New',monospace\"><span style=\"color: #7fbfbf; text-decoration-color: #7fbfbf\">           </span>METRIC   Round <span style=\"color: #008080; text-decoration-color: #008080; font-weight: bold\">0</span>, collaborator four is sending metric for task locally_tuned_model_validation: acc       <span style=\"color: #008080; text-decoration-color: #008080; font-weight: bold\">0.535600</span>                 <a href=\"file:///home/p/Desktop/Programs/Python/openfl/openfl/openfl/component/collaborator/collaborator.py\" target=\"_blank\"><span style=\"color: #7f7f7f; text-decoration-color: #7f7f7f\">collaborator.py</span></a><span style=\"color: #7f7f7f; text-decoration-color: #7f7f7f\">:</span><a href=\"file:///home/p/Desktop/Programs/Python/openfl/openfl/openfl/component/collaborator/collaborator.py#415\" target=\"_blank\"><span style=\"color: #7f7f7f; text-decoration-color: #7f7f7f\">415</span></a>\n</pre>\n"
     },
     "metadata": {},
     "output_type": "display_data"
    },
    {
     "data": {
      "text/plain": "\u001B[2;36m          \u001B[0m\u001B[2;36m \u001B[0mMETRIC   Round \u001B[1;36m0\u001B[0m, collaborator validate_local locally_tuned_model_validation result acc: \u001B[1;36m0.535600\u001B[0m                                   \u001B]8;id=505856;file:///home/p/Desktop/Programs/Python/openfl/openfl/openfl/component/aggregator/aggregator.py\u001B\\\u001B[2maggregator.py\u001B[0m\u001B]8;;\u001B\\\u001B[2m:\u001B[0m\u001B]8;id=457102;file:///home/p/Desktop/Programs/Python/openfl/openfl/openfl/component/aggregator/aggregator.py#559\u001B\\\u001B[2m559\u001B[0m\u001B]8;;\u001B\\\n",
      "text/html": "<pre style=\"white-space:pre;overflow-x:auto;line-height:normal;font-family:Menlo,'DejaVu Sans Mono',consolas,'Courier New',monospace\"><span style=\"color: #7fbfbf; text-decoration-color: #7fbfbf\">           </span>METRIC   Round <span style=\"color: #008080; text-decoration-color: #008080; font-weight: bold\">0</span>, collaborator validate_local locally_tuned_model_validation result acc: <span style=\"color: #008080; text-decoration-color: #008080; font-weight: bold\">0.535600</span>                                   <a href=\"file:///home/p/Desktop/Programs/Python/openfl/openfl/openfl/component/aggregator/aggregator.py\" target=\"_blank\"><span style=\"color: #7f7f7f; text-decoration-color: #7f7f7f\">aggregator.py</span></a><span style=\"color: #7f7f7f; text-decoration-color: #7f7f7f\">:</span><a href=\"file:///home/p/Desktop/Programs/Python/openfl/openfl/openfl/component/aggregator/aggregator.py#559\" target=\"_blank\"><span style=\"color: #7f7f7f; text-decoration-color: #7f7f7f\">559</span></a>\n</pre>\n"
     },
     "metadata": {},
     "output_type": "display_data"
    },
    {
     "data": {
      "text/plain": "\u001B[2;36m          \u001B[0m\u001B[2;36m \u001B[0mMETRIC   Round \u001B[1;36m0\u001B[0m, aggregator: locally_tuned_model_validation                                                                        \u001B]8;id=794085;file:///home/p/Desktop/Programs/Python/openfl/openfl/openfl/component/aggregator/aggregator.py\u001B\\\u001B[2maggregator.py\u001B[0m\u001B]8;;\u001B\\\u001B[2m:\u001B[0m\u001B]8;id=333160;file:///home/p/Desktop/Programs/Python/openfl/openfl/openfl/component/aggregator/aggregator.py#842\u001B\\\u001B[2m842\u001B[0m\u001B]8;;\u001B\\\n\u001B[2;36m           \u001B[0m         \u001B[1m<\u001B[0m\u001B[1;95mopenfl.interface.aggregation_functions.weighted_average.WeightedAverage\u001B[0m\u001B[39m object at \u001B[0m\u001B[1;36m0x7f2dc10bf580\u001B[0m\u001B[1m>\u001B[0m acc:     \u001B[1;36m0.539000\u001B[0m       \u001B[2m                 \u001B[0m\n",
      "text/html": "<pre style=\"white-space:pre;overflow-x:auto;line-height:normal;font-family:Menlo,'DejaVu Sans Mono',consolas,'Courier New',monospace\"><span style=\"color: #7fbfbf; text-decoration-color: #7fbfbf\">           </span>METRIC   Round <span style=\"color: #008080; text-decoration-color: #008080; font-weight: bold\">0</span>, aggregator: locally_tuned_model_validation                                                                        <a href=\"file:///home/p/Desktop/Programs/Python/openfl/openfl/openfl/component/aggregator/aggregator.py\" target=\"_blank\"><span style=\"color: #7f7f7f; text-decoration-color: #7f7f7f\">aggregator.py</span></a><span style=\"color: #7f7f7f; text-decoration-color: #7f7f7f\">:</span><a href=\"file:///home/p/Desktop/Programs/Python/openfl/openfl/openfl/component/aggregator/aggregator.py#842\" target=\"_blank\"><span style=\"color: #7f7f7f; text-decoration-color: #7f7f7f\">842</span></a>\n<span style=\"color: #7fbfbf; text-decoration-color: #7fbfbf\">           </span>         <span style=\"font-weight: bold\">&lt;</span><span style=\"color: #ff00ff; text-decoration-color: #ff00ff; font-weight: bold\">openfl.interface.aggregation_functions.weighted_average.WeightedAverage</span><span style=\"color: #000000; text-decoration-color: #000000\"> object at </span><span style=\"color: #008080; text-decoration-color: #008080; font-weight: bold\">0x7f2dc10bf580</span><span style=\"font-weight: bold\">&gt;</span> acc:     <span style=\"color: #008080; text-decoration-color: #008080; font-weight: bold\">0.539000</span>       <span style=\"color: #7f7f7f; text-decoration-color: #7f7f7f\">                 </span>\n</pre>\n"
     },
     "metadata": {},
     "output_type": "display_data"
    },
    {
     "data": {
      "text/plain": "\u001B[2;36m          \u001B[0m\u001B[2;36m \u001B[0mMETRIC   Round \u001B[1;36m0\u001B[0m, aggregator: train \u001B[1m<\u001B[0m\u001B[1;95mopenfl.interface.aggregation_functions.weighted_average.WeightedAverage\u001B[0m\u001B[39m object at \u001B[0m             \u001B]8;id=904244;file:///home/p/Desktop/Programs/Python/openfl/openfl/openfl/component/aggregator/aggregator.py\u001B\\\u001B[2maggregator.py\u001B[0m\u001B]8;;\u001B\\\u001B[2m:\u001B[0m\u001B]8;id=924619;file:///home/p/Desktop/Programs/Python/openfl/openfl/openfl/component/aggregator/aggregator.py#842\u001B\\\u001B[2m842\u001B[0m\u001B]8;;\u001B\\\n\u001B[2;36m           \u001B[0m         \u001B[1;36m0x7f2dc10bf580\u001B[0m\u001B[1m>\u001B[0m cross_entropy:    \u001B[1;36m0.378335\u001B[0m                                                                                 \u001B[2m                 \u001B[0m\n",
      "text/html": "<pre style=\"white-space:pre;overflow-x:auto;line-height:normal;font-family:Menlo,'DejaVu Sans Mono',consolas,'Courier New',monospace\"><span style=\"color: #7fbfbf; text-decoration-color: #7fbfbf\">           </span>METRIC   Round <span style=\"color: #008080; text-decoration-color: #008080; font-weight: bold\">0</span>, aggregator: train <span style=\"font-weight: bold\">&lt;</span><span style=\"color: #ff00ff; text-decoration-color: #ff00ff; font-weight: bold\">openfl.interface.aggregation_functions.weighted_average.WeightedAverage</span><span style=\"color: #000000; text-decoration-color: #000000\"> object at </span>             <a href=\"file:///home/p/Desktop/Programs/Python/openfl/openfl/openfl/component/aggregator/aggregator.py\" target=\"_blank\"><span style=\"color: #7f7f7f; text-decoration-color: #7f7f7f\">aggregator.py</span></a><span style=\"color: #7f7f7f; text-decoration-color: #7f7f7f\">:</span><a href=\"file:///home/p/Desktop/Programs/Python/openfl/openfl/openfl/component/aggregator/aggregator.py#842\" target=\"_blank\"><span style=\"color: #7f7f7f; text-decoration-color: #7f7f7f\">842</span></a>\n<span style=\"color: #7fbfbf; text-decoration-color: #7fbfbf\">           </span>         <span style=\"color: #008080; text-decoration-color: #008080; font-weight: bold\">0x7f2dc10bf580</span><span style=\"font-weight: bold\">&gt;</span> cross_entropy:    <span style=\"color: #008080; text-decoration-color: #008080; font-weight: bold\">0.378335</span>                                                                                 <span style=\"color: #7f7f7f; text-decoration-color: #7f7f7f\">                 </span>\n</pre>\n"
     },
     "metadata": {},
     "output_type": "display_data"
    },
    {
     "data": {
      "text/plain": "\u001B[2;36m          \u001B[0m\u001B[2;36m \u001B[0mMETRIC   Round \u001B[1;36m0\u001B[0m, aggregator: aggregated_model_validation \u001B[1m<\u001B[0m\u001B[1;95mopenfl.interface.aggregation_functions.weighted_average.WeightedAverage\u001B[0m\u001B[39m \u001B[0m \u001B]8;id=932628;file:///home/p/Desktop/Programs/Python/openfl/openfl/openfl/component/aggregator/aggregator.py\u001B\\\u001B[2maggregator.py\u001B[0m\u001B]8;;\u001B\\\u001B[2m:\u001B[0m\u001B]8;id=654769;file:///home/p/Desktop/Programs/Python/openfl/openfl/openfl/component/aggregator/aggregator.py#842\u001B\\\u001B[2m842\u001B[0m\u001B]8;;\u001B\\\n\u001B[2;36m           \u001B[0m         \u001B[39mobject at \u001B[0m\u001B[1;36m0x7f2dc10bf580\u001B[0m\u001B[1m>\u001B[0m acc:        \u001B[1;36m0.443400\u001B[0m                                                                             \u001B[2m                 \u001B[0m\n",
      "text/html": "<pre style=\"white-space:pre;overflow-x:auto;line-height:normal;font-family:Menlo,'DejaVu Sans Mono',consolas,'Courier New',monospace\"><span style=\"color: #7fbfbf; text-decoration-color: #7fbfbf\">           </span>METRIC   Round <span style=\"color: #008080; text-decoration-color: #008080; font-weight: bold\">0</span>, aggregator: aggregated_model_validation <span style=\"font-weight: bold\">&lt;</span><span style=\"color: #ff00ff; text-decoration-color: #ff00ff; font-weight: bold\">openfl.interface.aggregation_functions.weighted_average.WeightedAverage</span><span style=\"color: #000000; text-decoration-color: #000000\"> </span> <a href=\"file:///home/p/Desktop/Programs/Python/openfl/openfl/openfl/component/aggregator/aggregator.py\" target=\"_blank\"><span style=\"color: #7f7f7f; text-decoration-color: #7f7f7f\">aggregator.py</span></a><span style=\"color: #7f7f7f; text-decoration-color: #7f7f7f\">:</span><a href=\"file:///home/p/Desktop/Programs/Python/openfl/openfl/openfl/component/aggregator/aggregator.py#842\" target=\"_blank\"><span style=\"color: #7f7f7f; text-decoration-color: #7f7f7f\">842</span></a>\n<span style=\"color: #7fbfbf; text-decoration-color: #7fbfbf\">           </span>         <span style=\"color: #000000; text-decoration-color: #000000\">object at </span><span style=\"color: #008080; text-decoration-color: #008080; font-weight: bold\">0x7f2dc10bf580</span><span style=\"font-weight: bold\">&gt;</span> acc:        <span style=\"color: #008080; text-decoration-color: #008080; font-weight: bold\">0.443400</span>                                                                             <span style=\"color: #7f7f7f; text-decoration-color: #7f7f7f\">                 </span>\n</pre>\n"
     },
     "metadata": {},
     "output_type": "display_data"
    },
    {
     "data": {
      "text/plain": "\u001B[2;36m          \u001B[0m\u001B[2;36m \u001B[0mMETRIC   Round \u001B[1;36m0\u001B[0m: saved the best model with score \u001B[1;36m0.443400\u001B[0m                                                                          \u001B]8;id=67470;file:///home/p/Desktop/Programs/Python/openfl/openfl/openfl/component/aggregator/aggregator.py\u001B\\\u001B[2maggregator.py\u001B[0m\u001B]8;;\u001B\\\u001B[2m:\u001B[0m\u001B]8;id=241707;file:///home/p/Desktop/Programs/Python/openfl/openfl/openfl/component/aggregator/aggregator.py#858\u001B\\\u001B[2m858\u001B[0m\u001B]8;;\u001B\\\n",
      "text/html": "<pre style=\"white-space:pre;overflow-x:auto;line-height:normal;font-family:Menlo,'DejaVu Sans Mono',consolas,'Courier New',monospace\"><span style=\"color: #7fbfbf; text-decoration-color: #7fbfbf\">           </span>METRIC   Round <span style=\"color: #008080; text-decoration-color: #008080; font-weight: bold\">0</span>: saved the best model with score <span style=\"color: #008080; text-decoration-color: #008080; font-weight: bold\">0.443400</span>                                                                          <a href=\"file:///home/p/Desktop/Programs/Python/openfl/openfl/openfl/component/aggregator/aggregator.py\" target=\"_blank\"><span style=\"color: #7f7f7f; text-decoration-color: #7f7f7f\">aggregator.py</span></a><span style=\"color: #7f7f7f; text-decoration-color: #7f7f7f\">:</span><a href=\"file:///home/p/Desktop/Programs/Python/openfl/openfl/openfl/component/aggregator/aggregator.py#858\" target=\"_blank\"><span style=\"color: #7f7f7f; text-decoration-color: #7f7f7f\">858</span></a>\n</pre>\n"
     },
     "metadata": {},
     "output_type": "display_data"
    },
    {
     "data": {
      "text/plain": "\u001B[2;36m          \u001B[0m\u001B[2;36m \u001B[0m\u001B[31mWARNING \u001B[0m tried to remove tensor: __opt_state_needed not present in the tensor dict                                                       \u001B]8;id=591829;file:///home/p/Desktop/Programs/Python/openfl/openfl/openfl/utilities/utils.py\u001B\\\u001B[2mutils.py\u001B[0m\u001B]8;;\u001B\\\u001B[2m:\u001B[0m\u001B]8;id=132997;file:///home/p/Desktop/Programs/Python/openfl/openfl/openfl/utilities/utils.py#172\u001B\\\u001B[2m172\u001B[0m\u001B]8;;\u001B\\\n",
      "text/html": "<pre style=\"white-space:pre;overflow-x:auto;line-height:normal;font-family:Menlo,'DejaVu Sans Mono',consolas,'Courier New',monospace\"><span style=\"color: #7fbfbf; text-decoration-color: #7fbfbf\">           </span><span style=\"color: #800000; text-decoration-color: #800000\">WARNING </span> tried to remove tensor: __opt_state_needed not present in the tensor dict                                                       <a href=\"file:///home/p/Desktop/Programs/Python/openfl/openfl/openfl/utilities/utils.py\" target=\"_blank\"><span style=\"color: #7f7f7f; text-decoration-color: #7f7f7f\">utils.py</span></a><span style=\"color: #7f7f7f; text-decoration-color: #7f7f7f\">:</span><a href=\"file:///home/p/Desktop/Programs/Python/openfl/openfl/openfl/utilities/utils.py#172\" target=\"_blank\"><span style=\"color: #7f7f7f; text-decoration-color: #7f7f7f\">172</span></a>\n</pre>\n"
     },
     "metadata": {},
     "output_type": "display_data"
    },
    {
     "data": {
      "text/plain": "\u001B[2;36m[18:56:51]\u001B[0m\u001B[2;36m \u001B[0m\u001B[31mWARNING \u001B[0m tried to remove tensor: __opt_state_needed not present in the tensor dict                                                       \u001B]8;id=461736;file:///home/p/Desktop/Programs/Python/openfl/openfl/openfl/utilities/utils.py\u001B\\\u001B[2mutils.py\u001B[0m\u001B]8;;\u001B\\\u001B[2m:\u001B[0m\u001B]8;id=781129;file:///home/p/Desktop/Programs/Python/openfl/openfl/openfl/utilities/utils.py#172\u001B\\\u001B[2m172\u001B[0m\u001B]8;;\u001B\\\n",
      "text/html": "<pre style=\"white-space:pre;overflow-x:auto;line-height:normal;font-family:Menlo,'DejaVu Sans Mono',consolas,'Courier New',monospace\"><span style=\"color: #7fbfbf; text-decoration-color: #7fbfbf\">[18:56:51] </span><span style=\"color: #800000; text-decoration-color: #800000\">WARNING </span> tried to remove tensor: __opt_state_needed not present in the tensor dict                                                       <a href=\"file:///home/p/Desktop/Programs/Python/openfl/openfl/openfl/utilities/utils.py\" target=\"_blank\"><span style=\"color: #7f7f7f; text-decoration-color: #7f7f7f\">utils.py</span></a><span style=\"color: #7f7f7f; text-decoration-color: #7f7f7f\">:</span><a href=\"file:///home/p/Desktop/Programs/Python/openfl/openfl/openfl/utilities/utils.py#172\" target=\"_blank\"><span style=\"color: #7f7f7f; text-decoration-color: #7f7f7f\">172</span></a>\n</pre>\n"
     },
     "metadata": {},
     "output_type": "display_data"
    },
    {
     "data": {
      "text/plain": "\u001B[2;36m          \u001B[0m\u001B[2;36m \u001B[0m\u001B[31mWARNING \u001B[0m tried to remove tensor: __opt_state_needed not present in the tensor dict                                                       \u001B]8;id=107306;file:///home/p/Desktop/Programs/Python/openfl/openfl/openfl/utilities/utils.py\u001B\\\u001B[2mutils.py\u001B[0m\u001B]8;;\u001B\\\u001B[2m:\u001B[0m\u001B]8;id=125051;file:///home/p/Desktop/Programs/Python/openfl/openfl/openfl/utilities/utils.py#172\u001B\\\u001B[2m172\u001B[0m\u001B]8;;\u001B\\\n",
      "text/html": "<pre style=\"white-space:pre;overflow-x:auto;line-height:normal;font-family:Menlo,'DejaVu Sans Mono',consolas,'Courier New',monospace\"><span style=\"color: #7fbfbf; text-decoration-color: #7fbfbf\">           </span><span style=\"color: #800000; text-decoration-color: #800000\">WARNING </span> tried to remove tensor: __opt_state_needed not present in the tensor dict                                                       <a href=\"file:///home/p/Desktop/Programs/Python/openfl/openfl/openfl/utilities/utils.py\" target=\"_blank\"><span style=\"color: #7f7f7f; text-decoration-color: #7f7f7f\">utils.py</span></a><span style=\"color: #7f7f7f; text-decoration-color: #7f7f7f\">:</span><a href=\"file:///home/p/Desktop/Programs/Python/openfl/openfl/openfl/utilities/utils.py#172\" target=\"_blank\"><span style=\"color: #7f7f7f; text-decoration-color: #7f7f7f\">172</span></a>\n</pre>\n"
     },
     "metadata": {},
     "output_type": "display_data"
    },
    {
     "data": {
      "text/plain": "\u001B[2;36m          \u001B[0m\u001B[2;36m \u001B[0m\u001B[31mWARNING \u001B[0m tried to remove tensor: __opt_state_needed not present in the tensor dict                                                       \u001B]8;id=181218;file:///home/p/Desktop/Programs/Python/openfl/openfl/openfl/utilities/utils.py\u001B\\\u001B[2mutils.py\u001B[0m\u001B]8;;\u001B\\\u001B[2m:\u001B[0m\u001B]8;id=380292;file:///home/p/Desktop/Programs/Python/openfl/openfl/openfl/utilities/utils.py#172\u001B\\\u001B[2m172\u001B[0m\u001B]8;;\u001B\\\n",
      "text/html": "<pre style=\"white-space:pre;overflow-x:auto;line-height:normal;font-family:Menlo,'DejaVu Sans Mono',consolas,'Courier New',monospace\"><span style=\"color: #7fbfbf; text-decoration-color: #7fbfbf\">           </span><span style=\"color: #800000; text-decoration-color: #800000\">WARNING </span> tried to remove tensor: __opt_state_needed not present in the tensor dict                                                       <a href=\"file:///home/p/Desktop/Programs/Python/openfl/openfl/openfl/utilities/utils.py\" target=\"_blank\"><span style=\"color: #7f7f7f; text-decoration-color: #7f7f7f\">utils.py</span></a><span style=\"color: #7f7f7f; text-decoration-color: #7f7f7f\">:</span><a href=\"file:///home/p/Desktop/Programs/Python/openfl/openfl/openfl/utilities/utils.py#172\" target=\"_blank\"><span style=\"color: #7f7f7f; text-decoration-color: #7f7f7f\">172</span></a>\n</pre>\n"
     },
     "metadata": {},
     "output_type": "display_data"
    },
    {
     "data": {
      "text/plain": "\u001B[2;36m          \u001B[0m\u001B[2;36m \u001B[0m\u001B[31mWARNING \u001B[0m tried to remove tensor: __opt_state_needed not present in the tensor dict                                                       \u001B]8;id=605218;file:///home/p/Desktop/Programs/Python/openfl/openfl/openfl/utilities/utils.py\u001B\\\u001B[2mutils.py\u001B[0m\u001B]8;;\u001B\\\u001B[2m:\u001B[0m\u001B]8;id=289653;file:///home/p/Desktop/Programs/Python/openfl/openfl/openfl/utilities/utils.py#172\u001B\\\u001B[2m172\u001B[0m\u001B]8;;\u001B\\\n",
      "text/html": "<pre style=\"white-space:pre;overflow-x:auto;line-height:normal;font-family:Menlo,'DejaVu Sans Mono',consolas,'Courier New',monospace\"><span style=\"color: #7fbfbf; text-decoration-color: #7fbfbf\">           </span><span style=\"color: #800000; text-decoration-color: #800000\">WARNING </span> tried to remove tensor: __opt_state_needed not present in the tensor dict                                                       <a href=\"file:///home/p/Desktop/Programs/Python/openfl/openfl/openfl/utilities/utils.py\" target=\"_blank\"><span style=\"color: #7f7f7f; text-decoration-color: #7f7f7f\">utils.py</span></a><span style=\"color: #7f7f7f; text-decoration-color: #7f7f7f\">:</span><a href=\"file:///home/p/Desktop/Programs/Python/openfl/openfl/openfl/utilities/utils.py#172\" target=\"_blank\"><span style=\"color: #7f7f7f; text-decoration-color: #7f7f7f\">172</span></a>\n</pre>\n"
     },
     "metadata": {},
     "output_type": "display_data"
    },
    {
     "data": {
      "text/plain": "\u001B[2;36m          \u001B[0m\u001B[2;36m \u001B[0mMETRIC   Round \u001B[1;36m0\u001B[0m, collaborator one is sending metric for task aggregated_model_validation: acc   \u001B[1;36m0.546000\u001B[0m                         \u001B]8;id=372081;file:///home/p/Desktop/Programs/Python/openfl/openfl/openfl/component/collaborator/collaborator.py\u001B\\\u001B[2mcollaborator.py\u001B[0m\u001B]8;;\u001B\\\u001B[2m:\u001B[0m\u001B]8;id=950836;file:///home/p/Desktop/Programs/Python/openfl/openfl/openfl/component/collaborator/collaborator.py#415\u001B\\\u001B[2m415\u001B[0m\u001B]8;;\u001B\\\n",
      "text/html": "<pre style=\"white-space:pre;overflow-x:auto;line-height:normal;font-family:Menlo,'DejaVu Sans Mono',consolas,'Courier New',monospace\"><span style=\"color: #7fbfbf; text-decoration-color: #7fbfbf\">           </span>METRIC   Round <span style=\"color: #008080; text-decoration-color: #008080; font-weight: bold\">0</span>, collaborator one is sending metric for task aggregated_model_validation: acc   <span style=\"color: #008080; text-decoration-color: #008080; font-weight: bold\">0.546000</span>                         <a href=\"file:///home/p/Desktop/Programs/Python/openfl/openfl/openfl/component/collaborator/collaborator.py\" target=\"_blank\"><span style=\"color: #7f7f7f; text-decoration-color: #7f7f7f\">collaborator.py</span></a><span style=\"color: #7f7f7f; text-decoration-color: #7f7f7f\">:</span><a href=\"file:///home/p/Desktop/Programs/Python/openfl/openfl/openfl/component/collaborator/collaborator.py#415\" target=\"_blank\"><span style=\"color: #7f7f7f; text-decoration-color: #7f7f7f\">415</span></a>\n</pre>\n"
     },
     "metadata": {},
     "output_type": "display_data"
    },
    {
     "data": {
      "text/plain": "\u001B[2;36m          \u001B[0m\u001B[2;36m \u001B[0mMETRIC   Round \u001B[1;36m0\u001B[0m, collaborator validate_agg aggregated_model_validation result acc:      \u001B[1;36m0.546000\u001B[0m                                   \u001B]8;id=627357;file:///home/p/Desktop/Programs/Python/openfl/openfl/openfl/component/aggregator/aggregator.py\u001B\\\u001B[2maggregator.py\u001B[0m\u001B]8;;\u001B\\\u001B[2m:\u001B[0m\u001B]8;id=482259;file:///home/p/Desktop/Programs/Python/openfl/openfl/openfl/component/aggregator/aggregator.py#559\u001B\\\u001B[2m559\u001B[0m\u001B]8;;\u001B\\\n",
      "text/html": "<pre style=\"white-space:pre;overflow-x:auto;line-height:normal;font-family:Menlo,'DejaVu Sans Mono',consolas,'Courier New',monospace\"><span style=\"color: #7fbfbf; text-decoration-color: #7fbfbf\">           </span>METRIC   Round <span style=\"color: #008080; text-decoration-color: #008080; font-weight: bold\">0</span>, collaborator validate_agg aggregated_model_validation result acc:      <span style=\"color: #008080; text-decoration-color: #008080; font-weight: bold\">0.546000</span>                                   <a href=\"file:///home/p/Desktop/Programs/Python/openfl/openfl/openfl/component/aggregator/aggregator.py\" target=\"_blank\"><span style=\"color: #7f7f7f; text-decoration-color: #7f7f7f\">aggregator.py</span></a><span style=\"color: #7f7f7f; text-decoration-color: #7f7f7f\">:</span><a href=\"file:///home/p/Desktop/Programs/Python/openfl/openfl/openfl/component/aggregator/aggregator.py#559\" target=\"_blank\"><span style=\"color: #7f7f7f; text-decoration-color: #7f7f7f\">559</span></a>\n</pre>\n"
     },
     "metadata": {},
     "output_type": "display_data"
    },
    {
     "data": {
      "text/plain": "\u001B[2;36m          \u001B[0m\u001B[2;36m \u001B[0m\u001B[31mWARNING \u001B[0m tried to remove tensor: __opt_state_needed not present in the tensor dict                                                       \u001B]8;id=932544;file:///home/p/Desktop/Programs/Python/openfl/openfl/openfl/utilities/utils.py\u001B\\\u001B[2mutils.py\u001B[0m\u001B]8;;\u001B\\\u001B[2m:\u001B[0m\u001B]8;id=214916;file:///home/p/Desktop/Programs/Python/openfl/openfl/openfl/utilities/utils.py#172\u001B\\\u001B[2m172\u001B[0m\u001B]8;;\u001B\\\n",
      "text/html": "<pre style=\"white-space:pre;overflow-x:auto;line-height:normal;font-family:Menlo,'DejaVu Sans Mono',consolas,'Courier New',monospace\"><span style=\"color: #7fbfbf; text-decoration-color: #7fbfbf\">           </span><span style=\"color: #800000; text-decoration-color: #800000\">WARNING </span> tried to remove tensor: __opt_state_needed not present in the tensor dict                                                       <a href=\"file:///home/p/Desktop/Programs/Python/openfl/openfl/openfl/utilities/utils.py\" target=\"_blank\"><span style=\"color: #7f7f7f; text-decoration-color: #7f7f7f\">utils.py</span></a><span style=\"color: #7f7f7f; text-decoration-color: #7f7f7f\">:</span><a href=\"file:///home/p/Desktop/Programs/Python/openfl/openfl/openfl/utilities/utils.py#172\" target=\"_blank\"><span style=\"color: #7f7f7f; text-decoration-color: #7f7f7f\">172</span></a>\n</pre>\n"
     },
     "metadata": {},
     "output_type": "display_data"
    },
    {
     "data": {
      "text/plain": "\u001B[2;36m          \u001B[0m\u001B[2;36m \u001B[0mMETRIC   Round \u001B[1;36m0\u001B[0m, collaborator one is sending metric for task train: cross_entropy       \u001B[1;36m0.325672\u001B[0m                                 \u001B]8;id=645917;file:///home/p/Desktop/Programs/Python/openfl/openfl/openfl/component/collaborator/collaborator.py\u001B\\\u001B[2mcollaborator.py\u001B[0m\u001B]8;;\u001B\\\u001B[2m:\u001B[0m\u001B]8;id=366892;file:///home/p/Desktop/Programs/Python/openfl/openfl/openfl/component/collaborator/collaborator.py#415\u001B\\\u001B[2m415\u001B[0m\u001B]8;;\u001B\\\n",
      "text/html": "<pre style=\"white-space:pre;overflow-x:auto;line-height:normal;font-family:Menlo,'DejaVu Sans Mono',consolas,'Courier New',monospace\"><span style=\"color: #7fbfbf; text-decoration-color: #7fbfbf\">           </span>METRIC   Round <span style=\"color: #008080; text-decoration-color: #008080; font-weight: bold\">0</span>, collaborator one is sending metric for task train: cross_entropy       <span style=\"color: #008080; text-decoration-color: #008080; font-weight: bold\">0.325672</span>                                 <a href=\"file:///home/p/Desktop/Programs/Python/openfl/openfl/openfl/component/collaborator/collaborator.py\" target=\"_blank\"><span style=\"color: #7f7f7f; text-decoration-color: #7f7f7f\">collaborator.py</span></a><span style=\"color: #7f7f7f; text-decoration-color: #7f7f7f\">:</span><a href=\"file:///home/p/Desktop/Programs/Python/openfl/openfl/openfl/component/collaborator/collaborator.py#415\" target=\"_blank\"><span style=\"color: #7f7f7f; text-decoration-color: #7f7f7f\">415</span></a>\n</pre>\n"
     },
     "metadata": {},
     "output_type": "display_data"
    },
    {
     "data": {
      "text/plain": "\u001B[2;36m          \u001B[0m\u001B[2;36m \u001B[0mMETRIC   Round \u001B[1;36m0\u001B[0m, collaborator one train result cross_entropy:   \u001B[1;36m0.325672\u001B[0m                                                           \u001B]8;id=352645;file:///home/p/Desktop/Programs/Python/openfl/openfl/openfl/component/aggregator/aggregator.py\u001B\\\u001B[2maggregator.py\u001B[0m\u001B]8;;\u001B\\\u001B[2m:\u001B[0m\u001B]8;id=348526;file:///home/p/Desktop/Programs/Python/openfl/openfl/openfl/component/aggregator/aggregator.py#559\u001B\\\u001B[2m559\u001B[0m\u001B]8;;\u001B\\\n",
      "text/html": "<pre style=\"white-space:pre;overflow-x:auto;line-height:normal;font-family:Menlo,'DejaVu Sans Mono',consolas,'Courier New',monospace\"><span style=\"color: #7fbfbf; text-decoration-color: #7fbfbf\">           </span>METRIC   Round <span style=\"color: #008080; text-decoration-color: #008080; font-weight: bold\">0</span>, collaborator one train result cross_entropy:   <span style=\"color: #008080; text-decoration-color: #008080; font-weight: bold\">0.325672</span>                                                           <a href=\"file:///home/p/Desktop/Programs/Python/openfl/openfl/openfl/component/aggregator/aggregator.py\" target=\"_blank\"><span style=\"color: #7f7f7f; text-decoration-color: #7f7f7f\">aggregator.py</span></a><span style=\"color: #7f7f7f; text-decoration-color: #7f7f7f\">:</span><a href=\"file:///home/p/Desktop/Programs/Python/openfl/openfl/openfl/component/aggregator/aggregator.py#559\" target=\"_blank\"><span style=\"color: #7f7f7f; text-decoration-color: #7f7f7f\">559</span></a>\n</pre>\n"
     },
     "metadata": {},
     "output_type": "display_data"
    },
    {
     "data": {
      "text/plain": "\u001B[2;36m          \u001B[0m\u001B[2;36m \u001B[0mMETRIC   Round \u001B[1;36m0\u001B[0m, collaborator one is sending metric for task locally_tuned_model_validation: acc        \u001B[1;36m0.602000\u001B[0m                 \u001B]8;id=540789;file:///home/p/Desktop/Programs/Python/openfl/openfl/openfl/component/collaborator/collaborator.py\u001B\\\u001B[2mcollaborator.py\u001B[0m\u001B]8;;\u001B\\\u001B[2m:\u001B[0m\u001B]8;id=344559;file:///home/p/Desktop/Programs/Python/openfl/openfl/openfl/component/collaborator/collaborator.py#415\u001B\\\u001B[2m415\u001B[0m\u001B]8;;\u001B\\\n",
      "text/html": "<pre style=\"white-space:pre;overflow-x:auto;line-height:normal;font-family:Menlo,'DejaVu Sans Mono',consolas,'Courier New',monospace\"><span style=\"color: #7fbfbf; text-decoration-color: #7fbfbf\">           </span>METRIC   Round <span style=\"color: #008080; text-decoration-color: #008080; font-weight: bold\">0</span>, collaborator one is sending metric for task locally_tuned_model_validation: acc        <span style=\"color: #008080; text-decoration-color: #008080; font-weight: bold\">0.602000</span>                 <a href=\"file:///home/p/Desktop/Programs/Python/openfl/openfl/openfl/component/collaborator/collaborator.py\" target=\"_blank\"><span style=\"color: #7f7f7f; text-decoration-color: #7f7f7f\">collaborator.py</span></a><span style=\"color: #7f7f7f; text-decoration-color: #7f7f7f\">:</span><a href=\"file:///home/p/Desktop/Programs/Python/openfl/openfl/openfl/component/collaborator/collaborator.py#415\" target=\"_blank\"><span style=\"color: #7f7f7f; text-decoration-color: #7f7f7f\">415</span></a>\n</pre>\n"
     },
     "metadata": {},
     "output_type": "display_data"
    },
    {
     "data": {
      "text/plain": "\u001B[2;36m          \u001B[0m\u001B[2;36m \u001B[0mMETRIC   Round \u001B[1;36m0\u001B[0m, collaborator validate_local locally_tuned_model_validation result acc: \u001B[1;36m0.602000\u001B[0m                                   \u001B]8;id=704187;file:///home/p/Desktop/Programs/Python/openfl/openfl/openfl/component/aggregator/aggregator.py\u001B\\\u001B[2maggregator.py\u001B[0m\u001B]8;;\u001B\\\u001B[2m:\u001B[0m\u001B]8;id=551012;file:///home/p/Desktop/Programs/Python/openfl/openfl/openfl/component/aggregator/aggregator.py#559\u001B\\\u001B[2m559\u001B[0m\u001B]8;;\u001B\\\n",
      "text/html": "<pre style=\"white-space:pre;overflow-x:auto;line-height:normal;font-family:Menlo,'DejaVu Sans Mono',consolas,'Courier New',monospace\"><span style=\"color: #7fbfbf; text-decoration-color: #7fbfbf\">           </span>METRIC   Round <span style=\"color: #008080; text-decoration-color: #008080; font-weight: bold\">0</span>, collaborator validate_local locally_tuned_model_validation result acc: <span style=\"color: #008080; text-decoration-color: #008080; font-weight: bold\">0.602000</span>                                   <a href=\"file:///home/p/Desktop/Programs/Python/openfl/openfl/openfl/component/aggregator/aggregator.py\" target=\"_blank\"><span style=\"color: #7f7f7f; text-decoration-color: #7f7f7f\">aggregator.py</span></a><span style=\"color: #7f7f7f; text-decoration-color: #7f7f7f\">:</span><a href=\"file:///home/p/Desktop/Programs/Python/openfl/openfl/openfl/component/aggregator/aggregator.py#559\" target=\"_blank\"><span style=\"color: #7f7f7f; text-decoration-color: #7f7f7f\">559</span></a>\n</pre>\n"
     },
     "metadata": {},
     "output_type": "display_data"
    },
    {
     "data": {
      "text/plain": "\u001B[2;36m          \u001B[0m\u001B[2;36m \u001B[0mMETRIC   Round \u001B[1;36m0\u001B[0m, collaborator two is sending metric for task aggregated_model_validation: acc   \u001B[1;36m0.544000\u001B[0m                         \u001B]8;id=849109;file:///home/p/Desktop/Programs/Python/openfl/openfl/openfl/component/collaborator/collaborator.py\u001B\\\u001B[2mcollaborator.py\u001B[0m\u001B]8;;\u001B\\\u001B[2m:\u001B[0m\u001B]8;id=509078;file:///home/p/Desktop/Programs/Python/openfl/openfl/openfl/component/collaborator/collaborator.py#415\u001B\\\u001B[2m415\u001B[0m\u001B]8;;\u001B\\\n",
      "text/html": "<pre style=\"white-space:pre;overflow-x:auto;line-height:normal;font-family:Menlo,'DejaVu Sans Mono',consolas,'Courier New',monospace\"><span style=\"color: #7fbfbf; text-decoration-color: #7fbfbf\">           </span>METRIC   Round <span style=\"color: #008080; text-decoration-color: #008080; font-weight: bold\">0</span>, collaborator two is sending metric for task aggregated_model_validation: acc   <span style=\"color: #008080; text-decoration-color: #008080; font-weight: bold\">0.544000</span>                         <a href=\"file:///home/p/Desktop/Programs/Python/openfl/openfl/openfl/component/collaborator/collaborator.py\" target=\"_blank\"><span style=\"color: #7f7f7f; text-decoration-color: #7f7f7f\">collaborator.py</span></a><span style=\"color: #7f7f7f; text-decoration-color: #7f7f7f\">:</span><a href=\"file:///home/p/Desktop/Programs/Python/openfl/openfl/openfl/component/collaborator/collaborator.py#415\" target=\"_blank\"><span style=\"color: #7f7f7f; text-decoration-color: #7f7f7f\">415</span></a>\n</pre>\n"
     },
     "metadata": {},
     "output_type": "display_data"
    },
    {
     "data": {
      "text/plain": "\u001B[2;36m          \u001B[0m\u001B[2;36m \u001B[0mMETRIC   Round \u001B[1;36m0\u001B[0m, collaborator validate_agg aggregated_model_validation result acc:      \u001B[1;36m0.544000\u001B[0m                                   \u001B]8;id=831660;file:///home/p/Desktop/Programs/Python/openfl/openfl/openfl/component/aggregator/aggregator.py\u001B\\\u001B[2maggregator.py\u001B[0m\u001B]8;;\u001B\\\u001B[2m:\u001B[0m\u001B]8;id=459551;file:///home/p/Desktop/Programs/Python/openfl/openfl/openfl/component/aggregator/aggregator.py#559\u001B\\\u001B[2m559\u001B[0m\u001B]8;;\u001B\\\n",
      "text/html": "<pre style=\"white-space:pre;overflow-x:auto;line-height:normal;font-family:Menlo,'DejaVu Sans Mono',consolas,'Courier New',monospace\"><span style=\"color: #7fbfbf; text-decoration-color: #7fbfbf\">           </span>METRIC   Round <span style=\"color: #008080; text-decoration-color: #008080; font-weight: bold\">0</span>, collaborator validate_agg aggregated_model_validation result acc:      <span style=\"color: #008080; text-decoration-color: #008080; font-weight: bold\">0.544000</span>                                   <a href=\"file:///home/p/Desktop/Programs/Python/openfl/openfl/openfl/component/aggregator/aggregator.py\" target=\"_blank\"><span style=\"color: #7f7f7f; text-decoration-color: #7f7f7f\">aggregator.py</span></a><span style=\"color: #7f7f7f; text-decoration-color: #7f7f7f\">:</span><a href=\"file:///home/p/Desktop/Programs/Python/openfl/openfl/openfl/component/aggregator/aggregator.py#559\" target=\"_blank\"><span style=\"color: #7f7f7f; text-decoration-color: #7f7f7f\">559</span></a>\n</pre>\n"
     },
     "metadata": {},
     "output_type": "display_data"
    },
    {
     "data": {
      "text/plain": "\u001B[2;36m[18:56:52]\u001B[0m\u001B[2;36m \u001B[0m\u001B[31mWARNING \u001B[0m tried to remove tensor: __opt_state_needed not present in the tensor dict                                                       \u001B]8;id=721225;file:///home/p/Desktop/Programs/Python/openfl/openfl/openfl/utilities/utils.py\u001B\\\u001B[2mutils.py\u001B[0m\u001B]8;;\u001B\\\u001B[2m:\u001B[0m\u001B]8;id=244542;file:///home/p/Desktop/Programs/Python/openfl/openfl/openfl/utilities/utils.py#172\u001B\\\u001B[2m172\u001B[0m\u001B]8;;\u001B\\\n",
      "text/html": "<pre style=\"white-space:pre;overflow-x:auto;line-height:normal;font-family:Menlo,'DejaVu Sans Mono',consolas,'Courier New',monospace\"><span style=\"color: #7fbfbf; text-decoration-color: #7fbfbf\">[18:56:52] </span><span style=\"color: #800000; text-decoration-color: #800000\">WARNING </span> tried to remove tensor: __opt_state_needed not present in the tensor dict                                                       <a href=\"file:///home/p/Desktop/Programs/Python/openfl/openfl/openfl/utilities/utils.py\" target=\"_blank\"><span style=\"color: #7f7f7f; text-decoration-color: #7f7f7f\">utils.py</span></a><span style=\"color: #7f7f7f; text-decoration-color: #7f7f7f\">:</span><a href=\"file:///home/p/Desktop/Programs/Python/openfl/openfl/openfl/utilities/utils.py#172\" target=\"_blank\"><span style=\"color: #7f7f7f; text-decoration-color: #7f7f7f\">172</span></a>\n</pre>\n"
     },
     "metadata": {},
     "output_type": "display_data"
    },
    {
     "data": {
      "text/plain": "\u001B[2;36m          \u001B[0m\u001B[2;36m \u001B[0mMETRIC   Round \u001B[1;36m0\u001B[0m, collaborator two is sending metric for task train: cross_entropy       \u001B[1;36m0.328900\u001B[0m                                 \u001B]8;id=127937;file:///home/p/Desktop/Programs/Python/openfl/openfl/openfl/component/collaborator/collaborator.py\u001B\\\u001B[2mcollaborator.py\u001B[0m\u001B]8;;\u001B\\\u001B[2m:\u001B[0m\u001B]8;id=668135;file:///home/p/Desktop/Programs/Python/openfl/openfl/openfl/component/collaborator/collaborator.py#415\u001B\\\u001B[2m415\u001B[0m\u001B]8;;\u001B\\\n",
      "text/html": "<pre style=\"white-space:pre;overflow-x:auto;line-height:normal;font-family:Menlo,'DejaVu Sans Mono',consolas,'Courier New',monospace\"><span style=\"color: #7fbfbf; text-decoration-color: #7fbfbf\">           </span>METRIC   Round <span style=\"color: #008080; text-decoration-color: #008080; font-weight: bold\">0</span>, collaborator two is sending metric for task train: cross_entropy       <span style=\"color: #008080; text-decoration-color: #008080; font-weight: bold\">0.328900</span>                                 <a href=\"file:///home/p/Desktop/Programs/Python/openfl/openfl/openfl/component/collaborator/collaborator.py\" target=\"_blank\"><span style=\"color: #7f7f7f; text-decoration-color: #7f7f7f\">collaborator.py</span></a><span style=\"color: #7f7f7f; text-decoration-color: #7f7f7f\">:</span><a href=\"file:///home/p/Desktop/Programs/Python/openfl/openfl/openfl/component/collaborator/collaborator.py#415\" target=\"_blank\"><span style=\"color: #7f7f7f; text-decoration-color: #7f7f7f\">415</span></a>\n</pre>\n"
     },
     "metadata": {},
     "output_type": "display_data"
    },
    {
     "data": {
      "text/plain": "\u001B[2;36m          \u001B[0m\u001B[2;36m \u001B[0mMETRIC   Round \u001B[1;36m0\u001B[0m, collaborator two train result cross_entropy:   \u001B[1;36m0.328900\u001B[0m                                                           \u001B]8;id=779621;file:///home/p/Desktop/Programs/Python/openfl/openfl/openfl/component/aggregator/aggregator.py\u001B\\\u001B[2maggregator.py\u001B[0m\u001B]8;;\u001B\\\u001B[2m:\u001B[0m\u001B]8;id=325176;file:///home/p/Desktop/Programs/Python/openfl/openfl/openfl/component/aggregator/aggregator.py#559\u001B\\\u001B[2m559\u001B[0m\u001B]8;;\u001B\\\n",
      "text/html": "<pre style=\"white-space:pre;overflow-x:auto;line-height:normal;font-family:Menlo,'DejaVu Sans Mono',consolas,'Courier New',monospace\"><span style=\"color: #7fbfbf; text-decoration-color: #7fbfbf\">           </span>METRIC   Round <span style=\"color: #008080; text-decoration-color: #008080; font-weight: bold\">0</span>, collaborator two train result cross_entropy:   <span style=\"color: #008080; text-decoration-color: #008080; font-weight: bold\">0.328900</span>                                                           <a href=\"file:///home/p/Desktop/Programs/Python/openfl/openfl/openfl/component/aggregator/aggregator.py\" target=\"_blank\"><span style=\"color: #7f7f7f; text-decoration-color: #7f7f7f\">aggregator.py</span></a><span style=\"color: #7f7f7f; text-decoration-color: #7f7f7f\">:</span><a href=\"file:///home/p/Desktop/Programs/Python/openfl/openfl/openfl/component/aggregator/aggregator.py#559\" target=\"_blank\"><span style=\"color: #7f7f7f; text-decoration-color: #7f7f7f\">559</span></a>\n</pre>\n"
     },
     "metadata": {},
     "output_type": "display_data"
    },
    {
     "data": {
      "text/plain": "\u001B[2;36m          \u001B[0m\u001B[2;36m \u001B[0mMETRIC   Round \u001B[1;36m0\u001B[0m, collaborator two is sending metric for task locally_tuned_model_validation: acc        \u001B[1;36m0.606800\u001B[0m                 \u001B]8;id=410769;file:///home/p/Desktop/Programs/Python/openfl/openfl/openfl/component/collaborator/collaborator.py\u001B\\\u001B[2mcollaborator.py\u001B[0m\u001B]8;;\u001B\\\u001B[2m:\u001B[0m\u001B]8;id=462800;file:///home/p/Desktop/Programs/Python/openfl/openfl/openfl/component/collaborator/collaborator.py#415\u001B\\\u001B[2m415\u001B[0m\u001B]8;;\u001B\\\n",
      "text/html": "<pre style=\"white-space:pre;overflow-x:auto;line-height:normal;font-family:Menlo,'DejaVu Sans Mono',consolas,'Courier New',monospace\"><span style=\"color: #7fbfbf; text-decoration-color: #7fbfbf\">           </span>METRIC   Round <span style=\"color: #008080; text-decoration-color: #008080; font-weight: bold\">0</span>, collaborator two is sending metric for task locally_tuned_model_validation: acc        <span style=\"color: #008080; text-decoration-color: #008080; font-weight: bold\">0.606800</span>                 <a href=\"file:///home/p/Desktop/Programs/Python/openfl/openfl/openfl/component/collaborator/collaborator.py\" target=\"_blank\"><span style=\"color: #7f7f7f; text-decoration-color: #7f7f7f\">collaborator.py</span></a><span style=\"color: #7f7f7f; text-decoration-color: #7f7f7f\">:</span><a href=\"file:///home/p/Desktop/Programs/Python/openfl/openfl/openfl/component/collaborator/collaborator.py#415\" target=\"_blank\"><span style=\"color: #7f7f7f; text-decoration-color: #7f7f7f\">415</span></a>\n</pre>\n"
     },
     "metadata": {},
     "output_type": "display_data"
    },
    {
     "data": {
      "text/plain": "\u001B[2;36m          \u001B[0m\u001B[2;36m \u001B[0mMETRIC   Round \u001B[1;36m0\u001B[0m, collaborator validate_local locally_tuned_model_validation result acc: \u001B[1;36m0.606800\u001B[0m                                   \u001B]8;id=749857;file:///home/p/Desktop/Programs/Python/openfl/openfl/openfl/component/aggregator/aggregator.py\u001B\\\u001B[2maggregator.py\u001B[0m\u001B]8;;\u001B\\\u001B[2m:\u001B[0m\u001B]8;id=946867;file:///home/p/Desktop/Programs/Python/openfl/openfl/openfl/component/aggregator/aggregator.py#559\u001B\\\u001B[2m559\u001B[0m\u001B]8;;\u001B\\\n",
      "text/html": "<pre style=\"white-space:pre;overflow-x:auto;line-height:normal;font-family:Menlo,'DejaVu Sans Mono',consolas,'Courier New',monospace\"><span style=\"color: #7fbfbf; text-decoration-color: #7fbfbf\">           </span>METRIC   Round <span style=\"color: #008080; text-decoration-color: #008080; font-weight: bold\">0</span>, collaborator validate_local locally_tuned_model_validation result acc: <span style=\"color: #008080; text-decoration-color: #008080; font-weight: bold\">0.606800</span>                                   <a href=\"file:///home/p/Desktop/Programs/Python/openfl/openfl/openfl/component/aggregator/aggregator.py\" target=\"_blank\"><span style=\"color: #7f7f7f; text-decoration-color: #7f7f7f\">aggregator.py</span></a><span style=\"color: #7f7f7f; text-decoration-color: #7f7f7f\">:</span><a href=\"file:///home/p/Desktop/Programs/Python/openfl/openfl/openfl/component/aggregator/aggregator.py#559\" target=\"_blank\"><span style=\"color: #7f7f7f; text-decoration-color: #7f7f7f\">559</span></a>\n</pre>\n"
     },
     "metadata": {},
     "output_type": "display_data"
    },
    {
     "data": {
      "text/plain": "\u001B[2;36m          \u001B[0m\u001B[2;36m \u001B[0mMETRIC   Round \u001B[1;36m0\u001B[0m, collaborator three is sending metric for task aggregated_model_validation: acc \u001B[1;36m0.531200\u001B[0m                         \u001B]8;id=551562;file:///home/p/Desktop/Programs/Python/openfl/openfl/openfl/component/collaborator/collaborator.py\u001B\\\u001B[2mcollaborator.py\u001B[0m\u001B]8;;\u001B\\\u001B[2m:\u001B[0m\u001B]8;id=822495;file:///home/p/Desktop/Programs/Python/openfl/openfl/openfl/component/collaborator/collaborator.py#415\u001B\\\u001B[2m415\u001B[0m\u001B]8;;\u001B\\\n",
      "text/html": "<pre style=\"white-space:pre;overflow-x:auto;line-height:normal;font-family:Menlo,'DejaVu Sans Mono',consolas,'Courier New',monospace\"><span style=\"color: #7fbfbf; text-decoration-color: #7fbfbf\">           </span>METRIC   Round <span style=\"color: #008080; text-decoration-color: #008080; font-weight: bold\">0</span>, collaborator three is sending metric for task aggregated_model_validation: acc <span style=\"color: #008080; text-decoration-color: #008080; font-weight: bold\">0.531200</span>                         <a href=\"file:///home/p/Desktop/Programs/Python/openfl/openfl/openfl/component/collaborator/collaborator.py\" target=\"_blank\"><span style=\"color: #7f7f7f; text-decoration-color: #7f7f7f\">collaborator.py</span></a><span style=\"color: #7f7f7f; text-decoration-color: #7f7f7f\">:</span><a href=\"file:///home/p/Desktop/Programs/Python/openfl/openfl/openfl/component/collaborator/collaborator.py#415\" target=\"_blank\"><span style=\"color: #7f7f7f; text-decoration-color: #7f7f7f\">415</span></a>\n</pre>\n"
     },
     "metadata": {},
     "output_type": "display_data"
    },
    {
     "data": {
      "text/plain": "\u001B[2;36m          \u001B[0m\u001B[2;36m \u001B[0mMETRIC   Round \u001B[1;36m0\u001B[0m, collaborator validate_agg aggregated_model_validation result acc:      \u001B[1;36m0.531200\u001B[0m                                   \u001B]8;id=694562;file:///home/p/Desktop/Programs/Python/openfl/openfl/openfl/component/aggregator/aggregator.py\u001B\\\u001B[2maggregator.py\u001B[0m\u001B]8;;\u001B\\\u001B[2m:\u001B[0m\u001B]8;id=750419;file:///home/p/Desktop/Programs/Python/openfl/openfl/openfl/component/aggregator/aggregator.py#559\u001B\\\u001B[2m559\u001B[0m\u001B]8;;\u001B\\\n",
      "text/html": "<pre style=\"white-space:pre;overflow-x:auto;line-height:normal;font-family:Menlo,'DejaVu Sans Mono',consolas,'Courier New',monospace\"><span style=\"color: #7fbfbf; text-decoration-color: #7fbfbf\">           </span>METRIC   Round <span style=\"color: #008080; text-decoration-color: #008080; font-weight: bold\">0</span>, collaborator validate_agg aggregated_model_validation result acc:      <span style=\"color: #008080; text-decoration-color: #008080; font-weight: bold\">0.531200</span>                                   <a href=\"file:///home/p/Desktop/Programs/Python/openfl/openfl/openfl/component/aggregator/aggregator.py\" target=\"_blank\"><span style=\"color: #7f7f7f; text-decoration-color: #7f7f7f\">aggregator.py</span></a><span style=\"color: #7f7f7f; text-decoration-color: #7f7f7f\">:</span><a href=\"file:///home/p/Desktop/Programs/Python/openfl/openfl/openfl/component/aggregator/aggregator.py#559\" target=\"_blank\"><span style=\"color: #7f7f7f; text-decoration-color: #7f7f7f\">559</span></a>\n</pre>\n"
     },
     "metadata": {},
     "output_type": "display_data"
    },
    {
     "data": {
      "text/plain": "\u001B[2;36m          \u001B[0m\u001B[2;36m \u001B[0m\u001B[31mWARNING \u001B[0m tried to remove tensor: __opt_state_needed not present in the tensor dict                                                       \u001B]8;id=372534;file:///home/p/Desktop/Programs/Python/openfl/openfl/openfl/utilities/utils.py\u001B\\\u001B[2mutils.py\u001B[0m\u001B]8;;\u001B\\\u001B[2m:\u001B[0m\u001B]8;id=418371;file:///home/p/Desktop/Programs/Python/openfl/openfl/openfl/utilities/utils.py#172\u001B\\\u001B[2m172\u001B[0m\u001B]8;;\u001B\\\n",
      "text/html": "<pre style=\"white-space:pre;overflow-x:auto;line-height:normal;font-family:Menlo,'DejaVu Sans Mono',consolas,'Courier New',monospace\"><span style=\"color: #7fbfbf; text-decoration-color: #7fbfbf\">           </span><span style=\"color: #800000; text-decoration-color: #800000\">WARNING </span> tried to remove tensor: __opt_state_needed not present in the tensor dict                                                       <a href=\"file:///home/p/Desktop/Programs/Python/openfl/openfl/openfl/utilities/utils.py\" target=\"_blank\"><span style=\"color: #7f7f7f; text-decoration-color: #7f7f7f\">utils.py</span></a><span style=\"color: #7f7f7f; text-decoration-color: #7f7f7f\">:</span><a href=\"file:///home/p/Desktop/Programs/Python/openfl/openfl/openfl/utilities/utils.py#172\" target=\"_blank\"><span style=\"color: #7f7f7f; text-decoration-color: #7f7f7f\">172</span></a>\n</pre>\n"
     },
     "metadata": {},
     "output_type": "display_data"
    },
    {
     "data": {
      "text/plain": "\u001B[2;36m          \u001B[0m\u001B[2;36m \u001B[0mMETRIC   Round \u001B[1;36m0\u001B[0m, collaborator three is sending metric for task train: cross_entropy     \u001B[1;36m0.326851\u001B[0m                                 \u001B]8;id=933586;file:///home/p/Desktop/Programs/Python/openfl/openfl/openfl/component/collaborator/collaborator.py\u001B\\\u001B[2mcollaborator.py\u001B[0m\u001B]8;;\u001B\\\u001B[2m:\u001B[0m\u001B]8;id=702255;file:///home/p/Desktop/Programs/Python/openfl/openfl/openfl/component/collaborator/collaborator.py#415\u001B\\\u001B[2m415\u001B[0m\u001B]8;;\u001B\\\n",
      "text/html": "<pre style=\"white-space:pre;overflow-x:auto;line-height:normal;font-family:Menlo,'DejaVu Sans Mono',consolas,'Courier New',monospace\"><span style=\"color: #7fbfbf; text-decoration-color: #7fbfbf\">           </span>METRIC   Round <span style=\"color: #008080; text-decoration-color: #008080; font-weight: bold\">0</span>, collaborator three is sending metric for task train: cross_entropy     <span style=\"color: #008080; text-decoration-color: #008080; font-weight: bold\">0.326851</span>                                 <a href=\"file:///home/p/Desktop/Programs/Python/openfl/openfl/openfl/component/collaborator/collaborator.py\" target=\"_blank\"><span style=\"color: #7f7f7f; text-decoration-color: #7f7f7f\">collaborator.py</span></a><span style=\"color: #7f7f7f; text-decoration-color: #7f7f7f\">:</span><a href=\"file:///home/p/Desktop/Programs/Python/openfl/openfl/openfl/component/collaborator/collaborator.py#415\" target=\"_blank\"><span style=\"color: #7f7f7f; text-decoration-color: #7f7f7f\">415</span></a>\n</pre>\n"
     },
     "metadata": {},
     "output_type": "display_data"
    },
    {
     "data": {
      "text/plain": "\u001B[2;36m          \u001B[0m\u001B[2;36m \u001B[0mMETRIC   Round \u001B[1;36m0\u001B[0m, collaborator three train result cross_entropy: \u001B[1;36m0.326851\u001B[0m                                                           \u001B]8;id=303971;file:///home/p/Desktop/Programs/Python/openfl/openfl/openfl/component/aggregator/aggregator.py\u001B\\\u001B[2maggregator.py\u001B[0m\u001B]8;;\u001B\\\u001B[2m:\u001B[0m\u001B]8;id=946283;file:///home/p/Desktop/Programs/Python/openfl/openfl/openfl/component/aggregator/aggregator.py#559\u001B\\\u001B[2m559\u001B[0m\u001B]8;;\u001B\\\n",
      "text/html": "<pre style=\"white-space:pre;overflow-x:auto;line-height:normal;font-family:Menlo,'DejaVu Sans Mono',consolas,'Courier New',monospace\"><span style=\"color: #7fbfbf; text-decoration-color: #7fbfbf\">           </span>METRIC   Round <span style=\"color: #008080; text-decoration-color: #008080; font-weight: bold\">0</span>, collaborator three train result cross_entropy: <span style=\"color: #008080; text-decoration-color: #008080; font-weight: bold\">0.326851</span>                                                           <a href=\"file:///home/p/Desktop/Programs/Python/openfl/openfl/openfl/component/aggregator/aggregator.py\" target=\"_blank\"><span style=\"color: #7f7f7f; text-decoration-color: #7f7f7f\">aggregator.py</span></a><span style=\"color: #7f7f7f; text-decoration-color: #7f7f7f\">:</span><a href=\"file:///home/p/Desktop/Programs/Python/openfl/openfl/openfl/component/aggregator/aggregator.py#559\" target=\"_blank\"><span style=\"color: #7f7f7f; text-decoration-color: #7f7f7f\">559</span></a>\n</pre>\n"
     },
     "metadata": {},
     "output_type": "display_data"
    },
    {
     "data": {
      "text/plain": "\u001B[2;36m[18:56:53]\u001B[0m\u001B[2;36m \u001B[0mMETRIC   Round \u001B[1;36m0\u001B[0m, collaborator three is sending metric for task locally_tuned_model_validation: acc      \u001B[1;36m0.593600\u001B[0m                 \u001B]8;id=545597;file:///home/p/Desktop/Programs/Python/openfl/openfl/openfl/component/collaborator/collaborator.py\u001B\\\u001B[2mcollaborator.py\u001B[0m\u001B]8;;\u001B\\\u001B[2m:\u001B[0m\u001B]8;id=441294;file:///home/p/Desktop/Programs/Python/openfl/openfl/openfl/component/collaborator/collaborator.py#415\u001B\\\u001B[2m415\u001B[0m\u001B]8;;\u001B\\\n",
      "text/html": "<pre style=\"white-space:pre;overflow-x:auto;line-height:normal;font-family:Menlo,'DejaVu Sans Mono',consolas,'Courier New',monospace\"><span style=\"color: #7fbfbf; text-decoration-color: #7fbfbf\">[18:56:53] </span>METRIC   Round <span style=\"color: #008080; text-decoration-color: #008080; font-weight: bold\">0</span>, collaborator three is sending metric for task locally_tuned_model_validation: acc      <span style=\"color: #008080; text-decoration-color: #008080; font-weight: bold\">0.593600</span>                 <a href=\"file:///home/p/Desktop/Programs/Python/openfl/openfl/openfl/component/collaborator/collaborator.py\" target=\"_blank\"><span style=\"color: #7f7f7f; text-decoration-color: #7f7f7f\">collaborator.py</span></a><span style=\"color: #7f7f7f; text-decoration-color: #7f7f7f\">:</span><a href=\"file:///home/p/Desktop/Programs/Python/openfl/openfl/openfl/component/collaborator/collaborator.py#415\" target=\"_blank\"><span style=\"color: #7f7f7f; text-decoration-color: #7f7f7f\">415</span></a>\n</pre>\n"
     },
     "metadata": {},
     "output_type": "display_data"
    },
    {
     "data": {
      "text/plain": "\u001B[2;36m          \u001B[0m\u001B[2;36m \u001B[0mMETRIC   Round \u001B[1;36m0\u001B[0m, collaborator validate_local locally_tuned_model_validation result acc: \u001B[1;36m0.593600\u001B[0m                                   \u001B]8;id=443170;file:///home/p/Desktop/Programs/Python/openfl/openfl/openfl/component/aggregator/aggregator.py\u001B\\\u001B[2maggregator.py\u001B[0m\u001B]8;;\u001B\\\u001B[2m:\u001B[0m\u001B]8;id=433918;file:///home/p/Desktop/Programs/Python/openfl/openfl/openfl/component/aggregator/aggregator.py#559\u001B\\\u001B[2m559\u001B[0m\u001B]8;;\u001B\\\n",
      "text/html": "<pre style=\"white-space:pre;overflow-x:auto;line-height:normal;font-family:Menlo,'DejaVu Sans Mono',consolas,'Courier New',monospace\"><span style=\"color: #7fbfbf; text-decoration-color: #7fbfbf\">           </span>METRIC   Round <span style=\"color: #008080; text-decoration-color: #008080; font-weight: bold\">0</span>, collaborator validate_local locally_tuned_model_validation result acc: <span style=\"color: #008080; text-decoration-color: #008080; font-weight: bold\">0.593600</span>                                   <a href=\"file:///home/p/Desktop/Programs/Python/openfl/openfl/openfl/component/aggregator/aggregator.py\" target=\"_blank\"><span style=\"color: #7f7f7f; text-decoration-color: #7f7f7f\">aggregator.py</span></a><span style=\"color: #7f7f7f; text-decoration-color: #7f7f7f\">:</span><a href=\"file:///home/p/Desktop/Programs/Python/openfl/openfl/openfl/component/aggregator/aggregator.py#559\" target=\"_blank\"><span style=\"color: #7f7f7f; text-decoration-color: #7f7f7f\">559</span></a>\n</pre>\n"
     },
     "metadata": {},
     "output_type": "display_data"
    },
    {
     "data": {
      "text/plain": "\u001B[2;36m          \u001B[0m\u001B[2;36m \u001B[0mMETRIC   Round \u001B[1;36m0\u001B[0m, collaborator four is sending metric for task aggregated_model_validation: acc  \u001B[1;36m0.538400\u001B[0m                         \u001B]8;id=475035;file:///home/p/Desktop/Programs/Python/openfl/openfl/openfl/component/collaborator/collaborator.py\u001B\\\u001B[2mcollaborator.py\u001B[0m\u001B]8;;\u001B\\\u001B[2m:\u001B[0m\u001B]8;id=122543;file:///home/p/Desktop/Programs/Python/openfl/openfl/openfl/component/collaborator/collaborator.py#415\u001B\\\u001B[2m415\u001B[0m\u001B]8;;\u001B\\\n",
      "text/html": "<pre style=\"white-space:pre;overflow-x:auto;line-height:normal;font-family:Menlo,'DejaVu Sans Mono',consolas,'Courier New',monospace\"><span style=\"color: #7fbfbf; text-decoration-color: #7fbfbf\">           </span>METRIC   Round <span style=\"color: #008080; text-decoration-color: #008080; font-weight: bold\">0</span>, collaborator four is sending metric for task aggregated_model_validation: acc  <span style=\"color: #008080; text-decoration-color: #008080; font-weight: bold\">0.538400</span>                         <a href=\"file:///home/p/Desktop/Programs/Python/openfl/openfl/openfl/component/collaborator/collaborator.py\" target=\"_blank\"><span style=\"color: #7f7f7f; text-decoration-color: #7f7f7f\">collaborator.py</span></a><span style=\"color: #7f7f7f; text-decoration-color: #7f7f7f\">:</span><a href=\"file:///home/p/Desktop/Programs/Python/openfl/openfl/openfl/component/collaborator/collaborator.py#415\" target=\"_blank\"><span style=\"color: #7f7f7f; text-decoration-color: #7f7f7f\">415</span></a>\n</pre>\n"
     },
     "metadata": {},
     "output_type": "display_data"
    },
    {
     "data": {
      "text/plain": "\u001B[2;36m          \u001B[0m\u001B[2;36m \u001B[0mMETRIC   Round \u001B[1;36m0\u001B[0m, collaborator validate_agg aggregated_model_validation result acc:      \u001B[1;36m0.538400\u001B[0m                                   \u001B]8;id=221029;file:///home/p/Desktop/Programs/Python/openfl/openfl/openfl/component/aggregator/aggregator.py\u001B\\\u001B[2maggregator.py\u001B[0m\u001B]8;;\u001B\\\u001B[2m:\u001B[0m\u001B]8;id=127750;file:///home/p/Desktop/Programs/Python/openfl/openfl/openfl/component/aggregator/aggregator.py#559\u001B\\\u001B[2m559\u001B[0m\u001B]8;;\u001B\\\n",
      "text/html": "<pre style=\"white-space:pre;overflow-x:auto;line-height:normal;font-family:Menlo,'DejaVu Sans Mono',consolas,'Courier New',monospace\"><span style=\"color: #7fbfbf; text-decoration-color: #7fbfbf\">           </span>METRIC   Round <span style=\"color: #008080; text-decoration-color: #008080; font-weight: bold\">0</span>, collaborator validate_agg aggregated_model_validation result acc:      <span style=\"color: #008080; text-decoration-color: #008080; font-weight: bold\">0.538400</span>                                   <a href=\"file:///home/p/Desktop/Programs/Python/openfl/openfl/openfl/component/aggregator/aggregator.py\" target=\"_blank\"><span style=\"color: #7f7f7f; text-decoration-color: #7f7f7f\">aggregator.py</span></a><span style=\"color: #7f7f7f; text-decoration-color: #7f7f7f\">:</span><a href=\"file:///home/p/Desktop/Programs/Python/openfl/openfl/openfl/component/aggregator/aggregator.py#559\" target=\"_blank\"><span style=\"color: #7f7f7f; text-decoration-color: #7f7f7f\">559</span></a>\n</pre>\n"
     },
     "metadata": {},
     "output_type": "display_data"
    },
    {
     "data": {
      "text/plain": "\u001B[2;36m          \u001B[0m\u001B[2;36m \u001B[0m\u001B[31mWARNING \u001B[0m tried to remove tensor: __opt_state_needed not present in the tensor dict                                                       \u001B]8;id=537037;file:///home/p/Desktop/Programs/Python/openfl/openfl/openfl/utilities/utils.py\u001B\\\u001B[2mutils.py\u001B[0m\u001B]8;;\u001B\\\u001B[2m:\u001B[0m\u001B]8;id=514093;file:///home/p/Desktop/Programs/Python/openfl/openfl/openfl/utilities/utils.py#172\u001B\\\u001B[2m172\u001B[0m\u001B]8;;\u001B\\\n",
      "text/html": "<pre style=\"white-space:pre;overflow-x:auto;line-height:normal;font-family:Menlo,'DejaVu Sans Mono',consolas,'Courier New',monospace\"><span style=\"color: #7fbfbf; text-decoration-color: #7fbfbf\">           </span><span style=\"color: #800000; text-decoration-color: #800000\">WARNING </span> tried to remove tensor: __opt_state_needed not present in the tensor dict                                                       <a href=\"file:///home/p/Desktop/Programs/Python/openfl/openfl/openfl/utilities/utils.py\" target=\"_blank\"><span style=\"color: #7f7f7f; text-decoration-color: #7f7f7f\">utils.py</span></a><span style=\"color: #7f7f7f; text-decoration-color: #7f7f7f\">:</span><a href=\"file:///home/p/Desktop/Programs/Python/openfl/openfl/openfl/utilities/utils.py#172\" target=\"_blank\"><span style=\"color: #7f7f7f; text-decoration-color: #7f7f7f\">172</span></a>\n</pre>\n"
     },
     "metadata": {},
     "output_type": "display_data"
    },
    {
     "data": {
      "text/plain": "\u001B[2;36m          \u001B[0m\u001B[2;36m \u001B[0mMETRIC   Round \u001B[1;36m0\u001B[0m, collaborator four is sending metric for task train: cross_entropy      \u001B[1;36m0.326901\u001B[0m                                 \u001B]8;id=201914;file:///home/p/Desktop/Programs/Python/openfl/openfl/openfl/component/collaborator/collaborator.py\u001B\\\u001B[2mcollaborator.py\u001B[0m\u001B]8;;\u001B\\\u001B[2m:\u001B[0m\u001B]8;id=153205;file:///home/p/Desktop/Programs/Python/openfl/openfl/openfl/component/collaborator/collaborator.py#415\u001B\\\u001B[2m415\u001B[0m\u001B]8;;\u001B\\\n",
      "text/html": "<pre style=\"white-space:pre;overflow-x:auto;line-height:normal;font-family:Menlo,'DejaVu Sans Mono',consolas,'Courier New',monospace\"><span style=\"color: #7fbfbf; text-decoration-color: #7fbfbf\">           </span>METRIC   Round <span style=\"color: #008080; text-decoration-color: #008080; font-weight: bold\">0</span>, collaborator four is sending metric for task train: cross_entropy      <span style=\"color: #008080; text-decoration-color: #008080; font-weight: bold\">0.326901</span>                                 <a href=\"file:///home/p/Desktop/Programs/Python/openfl/openfl/openfl/component/collaborator/collaborator.py\" target=\"_blank\"><span style=\"color: #7f7f7f; text-decoration-color: #7f7f7f\">collaborator.py</span></a><span style=\"color: #7f7f7f; text-decoration-color: #7f7f7f\">:</span><a href=\"file:///home/p/Desktop/Programs/Python/openfl/openfl/openfl/component/collaborator/collaborator.py#415\" target=\"_blank\"><span style=\"color: #7f7f7f; text-decoration-color: #7f7f7f\">415</span></a>\n</pre>\n"
     },
     "metadata": {},
     "output_type": "display_data"
    },
    {
     "data": {
      "text/plain": "\u001B[2;36m          \u001B[0m\u001B[2;36m \u001B[0mMETRIC   Round \u001B[1;36m0\u001B[0m, collaborator metric train result cross_entropy:        \u001B[1;36m0.326901\u001B[0m                                                   \u001B]8;id=554473;file:///home/p/Desktop/Programs/Python/openfl/openfl/openfl/component/aggregator/aggregator.py\u001B\\\u001B[2maggregator.py\u001B[0m\u001B]8;;\u001B\\\u001B[2m:\u001B[0m\u001B]8;id=953836;file:///home/p/Desktop/Programs/Python/openfl/openfl/openfl/component/aggregator/aggregator.py#559\u001B\\\u001B[2m559\u001B[0m\u001B]8;;\u001B\\\n",
      "text/html": "<pre style=\"white-space:pre;overflow-x:auto;line-height:normal;font-family:Menlo,'DejaVu Sans Mono',consolas,'Courier New',monospace\"><span style=\"color: #7fbfbf; text-decoration-color: #7fbfbf\">           </span>METRIC   Round <span style=\"color: #008080; text-decoration-color: #008080; font-weight: bold\">0</span>, collaborator metric train result cross_entropy:        <span style=\"color: #008080; text-decoration-color: #008080; font-weight: bold\">0.326901</span>                                                   <a href=\"file:///home/p/Desktop/Programs/Python/openfl/openfl/openfl/component/aggregator/aggregator.py\" target=\"_blank\"><span style=\"color: #7f7f7f; text-decoration-color: #7f7f7f\">aggregator.py</span></a><span style=\"color: #7f7f7f; text-decoration-color: #7f7f7f\">:</span><a href=\"file:///home/p/Desktop/Programs/Python/openfl/openfl/openfl/component/aggregator/aggregator.py#559\" target=\"_blank\"><span style=\"color: #7f7f7f; text-decoration-color: #7f7f7f\">559</span></a>\n</pre>\n"
     },
     "metadata": {},
     "output_type": "display_data"
    },
    {
     "data": {
      "text/plain": "\u001B[2;36m          \u001B[0m\u001B[2;36m \u001B[0mMETRIC   Round \u001B[1;36m0\u001B[0m, collaborator four is sending metric for task locally_tuned_model_validation: acc       \u001B[1;36m0.592000\u001B[0m                 \u001B]8;id=384878;file:///home/p/Desktop/Programs/Python/openfl/openfl/openfl/component/collaborator/collaborator.py\u001B\\\u001B[2mcollaborator.py\u001B[0m\u001B]8;;\u001B\\\u001B[2m:\u001B[0m\u001B]8;id=823507;file:///home/p/Desktop/Programs/Python/openfl/openfl/openfl/component/collaborator/collaborator.py#415\u001B\\\u001B[2m415\u001B[0m\u001B]8;;\u001B\\\n",
      "text/html": "<pre style=\"white-space:pre;overflow-x:auto;line-height:normal;font-family:Menlo,'DejaVu Sans Mono',consolas,'Courier New',monospace\"><span style=\"color: #7fbfbf; text-decoration-color: #7fbfbf\">           </span>METRIC   Round <span style=\"color: #008080; text-decoration-color: #008080; font-weight: bold\">0</span>, collaborator four is sending metric for task locally_tuned_model_validation: acc       <span style=\"color: #008080; text-decoration-color: #008080; font-weight: bold\">0.592000</span>                 <a href=\"file:///home/p/Desktop/Programs/Python/openfl/openfl/openfl/component/collaborator/collaborator.py\" target=\"_blank\"><span style=\"color: #7f7f7f; text-decoration-color: #7f7f7f\">collaborator.py</span></a><span style=\"color: #7f7f7f; text-decoration-color: #7f7f7f\">:</span><a href=\"file:///home/p/Desktop/Programs/Python/openfl/openfl/openfl/component/collaborator/collaborator.py#415\" target=\"_blank\"><span style=\"color: #7f7f7f; text-decoration-color: #7f7f7f\">415</span></a>\n</pre>\n"
     },
     "metadata": {},
     "output_type": "display_data"
    },
    {
     "data": {
      "text/plain": "\u001B[2;36m          \u001B[0m\u001B[2;36m \u001B[0mMETRIC   Round \u001B[1;36m0\u001B[0m, collaborator validate_local locally_tuned_model_validation result acc: \u001B[1;36m0.592000\u001B[0m                                   \u001B]8;id=802511;file:///home/p/Desktop/Programs/Python/openfl/openfl/openfl/component/aggregator/aggregator.py\u001B\\\u001B[2maggregator.py\u001B[0m\u001B]8;;\u001B\\\u001B[2m:\u001B[0m\u001B]8;id=885001;file:///home/p/Desktop/Programs/Python/openfl/openfl/openfl/component/aggregator/aggregator.py#559\u001B\\\u001B[2m559\u001B[0m\u001B]8;;\u001B\\\n",
      "text/html": "<pre style=\"white-space:pre;overflow-x:auto;line-height:normal;font-family:Menlo,'DejaVu Sans Mono',consolas,'Courier New',monospace\"><span style=\"color: #7fbfbf; text-decoration-color: #7fbfbf\">           </span>METRIC   Round <span style=\"color: #008080; text-decoration-color: #008080; font-weight: bold\">0</span>, collaborator validate_local locally_tuned_model_validation result acc: <span style=\"color: #008080; text-decoration-color: #008080; font-weight: bold\">0.592000</span>                                   <a href=\"file:///home/p/Desktop/Programs/Python/openfl/openfl/openfl/component/aggregator/aggregator.py\" target=\"_blank\"><span style=\"color: #7f7f7f; text-decoration-color: #7f7f7f\">aggregator.py</span></a><span style=\"color: #7f7f7f; text-decoration-color: #7f7f7f\">:</span><a href=\"file:///home/p/Desktop/Programs/Python/openfl/openfl/openfl/component/aggregator/aggregator.py#559\" target=\"_blank\"><span style=\"color: #7f7f7f; text-decoration-color: #7f7f7f\">559</span></a>\n</pre>\n"
     },
     "metadata": {},
     "output_type": "display_data"
    },
    {
     "data": {
      "text/plain": "\u001B[2;36m          \u001B[0m\u001B[2;36m \u001B[0mMETRIC   Round \u001B[1;36m0\u001B[0m, aggregator: locally_tuned_model_validation                                                                        \u001B]8;id=273386;file:///home/p/Desktop/Programs/Python/openfl/openfl/openfl/component/aggregator/aggregator.py\u001B\\\u001B[2maggregator.py\u001B[0m\u001B]8;;\u001B\\\u001B[2m:\u001B[0m\u001B]8;id=35947;file:///home/p/Desktop/Programs/Python/openfl/openfl/openfl/component/aggregator/aggregator.py#842\u001B\\\u001B[2m842\u001B[0m\u001B]8;;\u001B\\\n\u001B[2;36m           \u001B[0m         \u001B[1m<\u001B[0m\u001B[1;95mopenfl.interface.aggregation_functions.weighted_average.WeightedAverage\u001B[0m\u001B[39m object at \u001B[0m\u001B[1;36m0x7f2dc10bf580\u001B[0m\u001B[1m>\u001B[0m acc:     \u001B[1;36m0.598600\u001B[0m       \u001B[2m                 \u001B[0m\n",
      "text/html": "<pre style=\"white-space:pre;overflow-x:auto;line-height:normal;font-family:Menlo,'DejaVu Sans Mono',consolas,'Courier New',monospace\"><span style=\"color: #7fbfbf; text-decoration-color: #7fbfbf\">           </span>METRIC   Round <span style=\"color: #008080; text-decoration-color: #008080; font-weight: bold\">0</span>, aggregator: locally_tuned_model_validation                                                                        <a href=\"file:///home/p/Desktop/Programs/Python/openfl/openfl/openfl/component/aggregator/aggregator.py\" target=\"_blank\"><span style=\"color: #7f7f7f; text-decoration-color: #7f7f7f\">aggregator.py</span></a><span style=\"color: #7f7f7f; text-decoration-color: #7f7f7f\">:</span><a href=\"file:///home/p/Desktop/Programs/Python/openfl/openfl/openfl/component/aggregator/aggregator.py#842\" target=\"_blank\"><span style=\"color: #7f7f7f; text-decoration-color: #7f7f7f\">842</span></a>\n<span style=\"color: #7fbfbf; text-decoration-color: #7fbfbf\">           </span>         <span style=\"font-weight: bold\">&lt;</span><span style=\"color: #ff00ff; text-decoration-color: #ff00ff; font-weight: bold\">openfl.interface.aggregation_functions.weighted_average.WeightedAverage</span><span style=\"color: #000000; text-decoration-color: #000000\"> object at </span><span style=\"color: #008080; text-decoration-color: #008080; font-weight: bold\">0x7f2dc10bf580</span><span style=\"font-weight: bold\">&gt;</span> acc:     <span style=\"color: #008080; text-decoration-color: #008080; font-weight: bold\">0.598600</span>       <span style=\"color: #7f7f7f; text-decoration-color: #7f7f7f\">                 </span>\n</pre>\n"
     },
     "metadata": {},
     "output_type": "display_data"
    },
    {
     "data": {
      "text/plain": "\u001B[2;36m          \u001B[0m\u001B[2;36m \u001B[0mMETRIC   Round \u001B[1;36m0\u001B[0m, aggregator: train \u001B[1m<\u001B[0m\u001B[1;95mopenfl.interface.aggregation_functions.weighted_average.WeightedAverage\u001B[0m\u001B[39m object at \u001B[0m             \u001B]8;id=113858;file:///home/p/Desktop/Programs/Python/openfl/openfl/openfl/component/aggregator/aggregator.py\u001B\\\u001B[2maggregator.py\u001B[0m\u001B]8;;\u001B\\\u001B[2m:\u001B[0m\u001B]8;id=513265;file:///home/p/Desktop/Programs/Python/openfl/openfl/openfl/component/aggregator/aggregator.py#842\u001B\\\u001B[2m842\u001B[0m\u001B]8;;\u001B\\\n\u001B[2;36m           \u001B[0m         \u001B[1;36m0x7f2dc10bf580\u001B[0m\u001B[1m>\u001B[0m cross_entropy:    \u001B[1;36m0.327081\u001B[0m                                                                                 \u001B[2m                 \u001B[0m\n",
      "text/html": "<pre style=\"white-space:pre;overflow-x:auto;line-height:normal;font-family:Menlo,'DejaVu Sans Mono',consolas,'Courier New',monospace\"><span style=\"color: #7fbfbf; text-decoration-color: #7fbfbf\">           </span>METRIC   Round <span style=\"color: #008080; text-decoration-color: #008080; font-weight: bold\">0</span>, aggregator: train <span style=\"font-weight: bold\">&lt;</span><span style=\"color: #ff00ff; text-decoration-color: #ff00ff; font-weight: bold\">openfl.interface.aggregation_functions.weighted_average.WeightedAverage</span><span style=\"color: #000000; text-decoration-color: #000000\"> object at </span>             <a href=\"file:///home/p/Desktop/Programs/Python/openfl/openfl/openfl/component/aggregator/aggregator.py\" target=\"_blank\"><span style=\"color: #7f7f7f; text-decoration-color: #7f7f7f\">aggregator.py</span></a><span style=\"color: #7f7f7f; text-decoration-color: #7f7f7f\">:</span><a href=\"file:///home/p/Desktop/Programs/Python/openfl/openfl/openfl/component/aggregator/aggregator.py#842\" target=\"_blank\"><span style=\"color: #7f7f7f; text-decoration-color: #7f7f7f\">842</span></a>\n<span style=\"color: #7fbfbf; text-decoration-color: #7fbfbf\">           </span>         <span style=\"color: #008080; text-decoration-color: #008080; font-weight: bold\">0x7f2dc10bf580</span><span style=\"font-weight: bold\">&gt;</span> cross_entropy:    <span style=\"color: #008080; text-decoration-color: #008080; font-weight: bold\">0.327081</span>                                                                                 <span style=\"color: #7f7f7f; text-decoration-color: #7f7f7f\">                 </span>\n</pre>\n"
     },
     "metadata": {},
     "output_type": "display_data"
    },
    {
     "data": {
      "text/plain": "\u001B[2;36m          \u001B[0m\u001B[2;36m \u001B[0mMETRIC   Round \u001B[1;36m0\u001B[0m, aggregator: aggregated_model_validation \u001B[1m<\u001B[0m\u001B[1;95mopenfl.interface.aggregation_functions.weighted_average.WeightedAverage\u001B[0m\u001B[39m \u001B[0m \u001B]8;id=595690;file:///home/p/Desktop/Programs/Python/openfl/openfl/openfl/component/aggregator/aggregator.py\u001B\\\u001B[2maggregator.py\u001B[0m\u001B]8;;\u001B\\\u001B[2m:\u001B[0m\u001B]8;id=880026;file:///home/p/Desktop/Programs/Python/openfl/openfl/openfl/component/aggregator/aggregator.py#842\u001B\\\u001B[2m842\u001B[0m\u001B]8;;\u001B\\\n\u001B[2;36m           \u001B[0m         \u001B[39mobject at \u001B[0m\u001B[1;36m0x7f2dc10bf580\u001B[0m\u001B[1m>\u001B[0m acc:        \u001B[1;36m0.539900\u001B[0m                                                                             \u001B[2m                 \u001B[0m\n",
      "text/html": "<pre style=\"white-space:pre;overflow-x:auto;line-height:normal;font-family:Menlo,'DejaVu Sans Mono',consolas,'Courier New',monospace\"><span style=\"color: #7fbfbf; text-decoration-color: #7fbfbf\">           </span>METRIC   Round <span style=\"color: #008080; text-decoration-color: #008080; font-weight: bold\">0</span>, aggregator: aggregated_model_validation <span style=\"font-weight: bold\">&lt;</span><span style=\"color: #ff00ff; text-decoration-color: #ff00ff; font-weight: bold\">openfl.interface.aggregation_functions.weighted_average.WeightedAverage</span><span style=\"color: #000000; text-decoration-color: #000000\"> </span> <a href=\"file:///home/p/Desktop/Programs/Python/openfl/openfl/openfl/component/aggregator/aggregator.py\" target=\"_blank\"><span style=\"color: #7f7f7f; text-decoration-color: #7f7f7f\">aggregator.py</span></a><span style=\"color: #7f7f7f; text-decoration-color: #7f7f7f\">:</span><a href=\"file:///home/p/Desktop/Programs/Python/openfl/openfl/openfl/component/aggregator/aggregator.py#842\" target=\"_blank\"><span style=\"color: #7f7f7f; text-decoration-color: #7f7f7f\">842</span></a>\n<span style=\"color: #7fbfbf; text-decoration-color: #7fbfbf\">           </span>         <span style=\"color: #000000; text-decoration-color: #000000\">object at </span><span style=\"color: #008080; text-decoration-color: #008080; font-weight: bold\">0x7f2dc10bf580</span><span style=\"font-weight: bold\">&gt;</span> acc:        <span style=\"color: #008080; text-decoration-color: #008080; font-weight: bold\">0.539900</span>                                                                             <span style=\"color: #7f7f7f; text-decoration-color: #7f7f7f\">                 </span>\n</pre>\n"
     },
     "metadata": {},
     "output_type": "display_data"
    },
    {
     "data": {
      "text/plain": "\u001B[2;36m          \u001B[0m\u001B[2;36m \u001B[0mMETRIC   Round \u001B[1;36m0\u001B[0m: saved the best model with score \u001B[1;36m0.539900\u001B[0m                                                                          \u001B]8;id=315851;file:///home/p/Desktop/Programs/Python/openfl/openfl/openfl/component/aggregator/aggregator.py\u001B\\\u001B[2maggregator.py\u001B[0m\u001B]8;;\u001B\\\u001B[2m:\u001B[0m\u001B]8;id=22550;file:///home/p/Desktop/Programs/Python/openfl/openfl/openfl/component/aggregator/aggregator.py#858\u001B\\\u001B[2m858\u001B[0m\u001B]8;;\u001B\\\n",
      "text/html": "<pre style=\"white-space:pre;overflow-x:auto;line-height:normal;font-family:Menlo,'DejaVu Sans Mono',consolas,'Courier New',monospace\"><span style=\"color: #7fbfbf; text-decoration-color: #7fbfbf\">           </span>METRIC   Round <span style=\"color: #008080; text-decoration-color: #008080; font-weight: bold\">0</span>: saved the best model with score <span style=\"color: #008080; text-decoration-color: #008080; font-weight: bold\">0.539900</span>                                                                          <a href=\"file:///home/p/Desktop/Programs/Python/openfl/openfl/openfl/component/aggregator/aggregator.py\" target=\"_blank\"><span style=\"color: #7f7f7f; text-decoration-color: #7f7f7f\">aggregator.py</span></a><span style=\"color: #7f7f7f; text-decoration-color: #7f7f7f\">:</span><a href=\"file:///home/p/Desktop/Programs/Python/openfl/openfl/openfl/component/aggregator/aggregator.py#858\" target=\"_blank\"><span style=\"color: #7f7f7f; text-decoration-color: #7f7f7f\">858</span></a>\n</pre>\n"
     },
     "metadata": {},
     "output_type": "display_data"
    },
    {
     "data": {
      "text/plain": "\u001B[2;36m          \u001B[0m\u001B[2;36m \u001B[0m\u001B[31mWARNING \u001B[0m tried to remove tensor: __opt_state_needed not present in the tensor dict                                                       \u001B]8;id=419578;file:///home/p/Desktop/Programs/Python/openfl/openfl/openfl/utilities/utils.py\u001B\\\u001B[2mutils.py\u001B[0m\u001B]8;;\u001B\\\u001B[2m:\u001B[0m\u001B]8;id=89110;file:///home/p/Desktop/Programs/Python/openfl/openfl/openfl/utilities/utils.py#172\u001B\\\u001B[2m172\u001B[0m\u001B]8;;\u001B\\\n",
      "text/html": "<pre style=\"white-space:pre;overflow-x:auto;line-height:normal;font-family:Menlo,'DejaVu Sans Mono',consolas,'Courier New',monospace\"><span style=\"color: #7fbfbf; text-decoration-color: #7fbfbf\">           </span><span style=\"color: #800000; text-decoration-color: #800000\">WARNING </span> tried to remove tensor: __opt_state_needed not present in the tensor dict                                                       <a href=\"file:///home/p/Desktop/Programs/Python/openfl/openfl/openfl/utilities/utils.py\" target=\"_blank\"><span style=\"color: #7f7f7f; text-decoration-color: #7f7f7f\">utils.py</span></a><span style=\"color: #7f7f7f; text-decoration-color: #7f7f7f\">:</span><a href=\"file:///home/p/Desktop/Programs/Python/openfl/openfl/openfl/utilities/utils.py#172\" target=\"_blank\"><span style=\"color: #7f7f7f; text-decoration-color: #7f7f7f\">172</span></a>\n</pre>\n"
     },
     "metadata": {},
     "output_type": "display_data"
    },
    {
     "data": {
      "text/plain": "\u001B[2;36m          \u001B[0m\u001B[2;36m \u001B[0m\u001B[31mWARNING \u001B[0m tried to remove tensor: __opt_state_needed not present in the tensor dict                                                       \u001B]8;id=547373;file:///home/p/Desktop/Programs/Python/openfl/openfl/openfl/utilities/utils.py\u001B\\\u001B[2mutils.py\u001B[0m\u001B]8;;\u001B\\\u001B[2m:\u001B[0m\u001B]8;id=477095;file:///home/p/Desktop/Programs/Python/openfl/openfl/openfl/utilities/utils.py#172\u001B\\\u001B[2m172\u001B[0m\u001B]8;;\u001B\\\n",
      "text/html": "<pre style=\"white-space:pre;overflow-x:auto;line-height:normal;font-family:Menlo,'DejaVu Sans Mono',consolas,'Courier New',monospace\"><span style=\"color: #7fbfbf; text-decoration-color: #7fbfbf\">           </span><span style=\"color: #800000; text-decoration-color: #800000\">WARNING </span> tried to remove tensor: __opt_state_needed not present in the tensor dict                                                       <a href=\"file:///home/p/Desktop/Programs/Python/openfl/openfl/openfl/utilities/utils.py\" target=\"_blank\"><span style=\"color: #7f7f7f; text-decoration-color: #7f7f7f\">utils.py</span></a><span style=\"color: #7f7f7f; text-decoration-color: #7f7f7f\">:</span><a href=\"file:///home/p/Desktop/Programs/Python/openfl/openfl/openfl/utilities/utils.py#172\" target=\"_blank\"><span style=\"color: #7f7f7f; text-decoration-color: #7f7f7f\">172</span></a>\n</pre>\n"
     },
     "metadata": {},
     "output_type": "display_data"
    },
    {
     "data": {
      "text/plain": "\u001B[2;36m          \u001B[0m\u001B[2;36m \u001B[0m\u001B[31mWARNING \u001B[0m tried to remove tensor: __opt_state_needed not present in the tensor dict                                                       \u001B]8;id=794422;file:///home/p/Desktop/Programs/Python/openfl/openfl/openfl/utilities/utils.py\u001B\\\u001B[2mutils.py\u001B[0m\u001B]8;;\u001B\\\u001B[2m:\u001B[0m\u001B]8;id=576382;file:///home/p/Desktop/Programs/Python/openfl/openfl/openfl/utilities/utils.py#172\u001B\\\u001B[2m172\u001B[0m\u001B]8;;\u001B\\\n",
      "text/html": "<pre style=\"white-space:pre;overflow-x:auto;line-height:normal;font-family:Menlo,'DejaVu Sans Mono',consolas,'Courier New',monospace\"><span style=\"color: #7fbfbf; text-decoration-color: #7fbfbf\">           </span><span style=\"color: #800000; text-decoration-color: #800000\">WARNING </span> tried to remove tensor: __opt_state_needed not present in the tensor dict                                                       <a href=\"file:///home/p/Desktop/Programs/Python/openfl/openfl/openfl/utilities/utils.py\" target=\"_blank\"><span style=\"color: #7f7f7f; text-decoration-color: #7f7f7f\">utils.py</span></a><span style=\"color: #7f7f7f; text-decoration-color: #7f7f7f\">:</span><a href=\"file:///home/p/Desktop/Programs/Python/openfl/openfl/openfl/utilities/utils.py#172\" target=\"_blank\"><span style=\"color: #7f7f7f; text-decoration-color: #7f7f7f\">172</span></a>\n</pre>\n"
     },
     "metadata": {},
     "output_type": "display_data"
    },
    {
     "data": {
      "text/plain": "\u001B[2;36m          \u001B[0m\u001B[2;36m \u001B[0m\u001B[31mWARNING \u001B[0m tried to remove tensor: __opt_state_needed not present in the tensor dict                                                       \u001B]8;id=528857;file:///home/p/Desktop/Programs/Python/openfl/openfl/openfl/utilities/utils.py\u001B\\\u001B[2mutils.py\u001B[0m\u001B]8;;\u001B\\\u001B[2m:\u001B[0m\u001B]8;id=390642;file:///home/p/Desktop/Programs/Python/openfl/openfl/openfl/utilities/utils.py#172\u001B\\\u001B[2m172\u001B[0m\u001B]8;;\u001B\\\n",
      "text/html": "<pre style=\"white-space:pre;overflow-x:auto;line-height:normal;font-family:Menlo,'DejaVu Sans Mono',consolas,'Courier New',monospace\"><span style=\"color: #7fbfbf; text-decoration-color: #7fbfbf\">           </span><span style=\"color: #800000; text-decoration-color: #800000\">WARNING </span> tried to remove tensor: __opt_state_needed not present in the tensor dict                                                       <a href=\"file:///home/p/Desktop/Programs/Python/openfl/openfl/openfl/utilities/utils.py\" target=\"_blank\"><span style=\"color: #7f7f7f; text-decoration-color: #7f7f7f\">utils.py</span></a><span style=\"color: #7f7f7f; text-decoration-color: #7f7f7f\">:</span><a href=\"file:///home/p/Desktop/Programs/Python/openfl/openfl/openfl/utilities/utils.py#172\" target=\"_blank\"><span style=\"color: #7f7f7f; text-decoration-color: #7f7f7f\">172</span></a>\n</pre>\n"
     },
     "metadata": {},
     "output_type": "display_data"
    },
    {
     "data": {
      "text/plain": "\u001B[2;36m          \u001B[0m\u001B[2;36m \u001B[0m\u001B[31mWARNING \u001B[0m tried to remove tensor: __opt_state_needed not present in the tensor dict                                                       \u001B]8;id=351743;file:///home/p/Desktop/Programs/Python/openfl/openfl/openfl/utilities/utils.py\u001B\\\u001B[2mutils.py\u001B[0m\u001B]8;;\u001B\\\u001B[2m:\u001B[0m\u001B]8;id=834793;file:///home/p/Desktop/Programs/Python/openfl/openfl/openfl/utilities/utils.py#172\u001B\\\u001B[2m172\u001B[0m\u001B]8;;\u001B\\\n",
      "text/html": "<pre style=\"white-space:pre;overflow-x:auto;line-height:normal;font-family:Menlo,'DejaVu Sans Mono',consolas,'Courier New',monospace\"><span style=\"color: #7fbfbf; text-decoration-color: #7fbfbf\">           </span><span style=\"color: #800000; text-decoration-color: #800000\">WARNING </span> tried to remove tensor: __opt_state_needed not present in the tensor dict                                                       <a href=\"file:///home/p/Desktop/Programs/Python/openfl/openfl/openfl/utilities/utils.py\" target=\"_blank\"><span style=\"color: #7f7f7f; text-decoration-color: #7f7f7f\">utils.py</span></a><span style=\"color: #7f7f7f; text-decoration-color: #7f7f7f\">:</span><a href=\"file:///home/p/Desktop/Programs/Python/openfl/openfl/openfl/utilities/utils.py#172\" target=\"_blank\"><span style=\"color: #7f7f7f; text-decoration-color: #7f7f7f\">172</span></a>\n</pre>\n"
     },
     "metadata": {},
     "output_type": "display_data"
    },
    {
     "data": {
      "text/plain": "\u001B[2;36m[18:56:54]\u001B[0m\u001B[2;36m \u001B[0mMETRIC   Round \u001B[1;36m0\u001B[0m, collaborator one is sending metric for task aggregated_model_validation: acc   \u001B[1;36m0.600800\u001B[0m                         \u001B]8;id=290378;file:///home/p/Desktop/Programs/Python/openfl/openfl/openfl/component/collaborator/collaborator.py\u001B\\\u001B[2mcollaborator.py\u001B[0m\u001B]8;;\u001B\\\u001B[2m:\u001B[0m\u001B]8;id=326772;file:///home/p/Desktop/Programs/Python/openfl/openfl/openfl/component/collaborator/collaborator.py#415\u001B\\\u001B[2m415\u001B[0m\u001B]8;;\u001B\\\n",
      "text/html": "<pre style=\"white-space:pre;overflow-x:auto;line-height:normal;font-family:Menlo,'DejaVu Sans Mono',consolas,'Courier New',monospace\"><span style=\"color: #7fbfbf; text-decoration-color: #7fbfbf\">[18:56:54] </span>METRIC   Round <span style=\"color: #008080; text-decoration-color: #008080; font-weight: bold\">0</span>, collaborator one is sending metric for task aggregated_model_validation: acc   <span style=\"color: #008080; text-decoration-color: #008080; font-weight: bold\">0.600800</span>                         <a href=\"file:///home/p/Desktop/Programs/Python/openfl/openfl/openfl/component/collaborator/collaborator.py\" target=\"_blank\"><span style=\"color: #7f7f7f; text-decoration-color: #7f7f7f\">collaborator.py</span></a><span style=\"color: #7f7f7f; text-decoration-color: #7f7f7f\">:</span><a href=\"file:///home/p/Desktop/Programs/Python/openfl/openfl/openfl/component/collaborator/collaborator.py#415\" target=\"_blank\"><span style=\"color: #7f7f7f; text-decoration-color: #7f7f7f\">415</span></a>\n</pre>\n"
     },
     "metadata": {},
     "output_type": "display_data"
    },
    {
     "data": {
      "text/plain": "\u001B[2;36m          \u001B[0m\u001B[2;36m \u001B[0mMETRIC   Round \u001B[1;36m0\u001B[0m, collaborator validate_agg aggregated_model_validation result acc:      \u001B[1;36m0.600800\u001B[0m                                   \u001B]8;id=838457;file:///home/p/Desktop/Programs/Python/openfl/openfl/openfl/component/aggregator/aggregator.py\u001B\\\u001B[2maggregator.py\u001B[0m\u001B]8;;\u001B\\\u001B[2m:\u001B[0m\u001B]8;id=540203;file:///home/p/Desktop/Programs/Python/openfl/openfl/openfl/component/aggregator/aggregator.py#559\u001B\\\u001B[2m559\u001B[0m\u001B]8;;\u001B\\\n",
      "text/html": "<pre style=\"white-space:pre;overflow-x:auto;line-height:normal;font-family:Menlo,'DejaVu Sans Mono',consolas,'Courier New',monospace\"><span style=\"color: #7fbfbf; text-decoration-color: #7fbfbf\">           </span>METRIC   Round <span style=\"color: #008080; text-decoration-color: #008080; font-weight: bold\">0</span>, collaborator validate_agg aggregated_model_validation result acc:      <span style=\"color: #008080; text-decoration-color: #008080; font-weight: bold\">0.600800</span>                                   <a href=\"file:///home/p/Desktop/Programs/Python/openfl/openfl/openfl/component/aggregator/aggregator.py\" target=\"_blank\"><span style=\"color: #7f7f7f; text-decoration-color: #7f7f7f\">aggregator.py</span></a><span style=\"color: #7f7f7f; text-decoration-color: #7f7f7f\">:</span><a href=\"file:///home/p/Desktop/Programs/Python/openfl/openfl/openfl/component/aggregator/aggregator.py#559\" target=\"_blank\"><span style=\"color: #7f7f7f; text-decoration-color: #7f7f7f\">559</span></a>\n</pre>\n"
     },
     "metadata": {},
     "output_type": "display_data"
    },
    {
     "data": {
      "text/plain": "\u001B[2;36m          \u001B[0m\u001B[2;36m \u001B[0m\u001B[31mWARNING \u001B[0m tried to remove tensor: __opt_state_needed not present in the tensor dict                                                       \u001B]8;id=814782;file:///home/p/Desktop/Programs/Python/openfl/openfl/openfl/utilities/utils.py\u001B\\\u001B[2mutils.py\u001B[0m\u001B]8;;\u001B\\\u001B[2m:\u001B[0m\u001B]8;id=712653;file:///home/p/Desktop/Programs/Python/openfl/openfl/openfl/utilities/utils.py#172\u001B\\\u001B[2m172\u001B[0m\u001B]8;;\u001B\\\n",
      "text/html": "<pre style=\"white-space:pre;overflow-x:auto;line-height:normal;font-family:Menlo,'DejaVu Sans Mono',consolas,'Courier New',monospace\"><span style=\"color: #7fbfbf; text-decoration-color: #7fbfbf\">           </span><span style=\"color: #800000; text-decoration-color: #800000\">WARNING </span> tried to remove tensor: __opt_state_needed not present in the tensor dict                                                       <a href=\"file:///home/p/Desktop/Programs/Python/openfl/openfl/openfl/utilities/utils.py\" target=\"_blank\"><span style=\"color: #7f7f7f; text-decoration-color: #7f7f7f\">utils.py</span></a><span style=\"color: #7f7f7f; text-decoration-color: #7f7f7f\">:</span><a href=\"file:///home/p/Desktop/Programs/Python/openfl/openfl/openfl/utilities/utils.py#172\" target=\"_blank\"><span style=\"color: #7f7f7f; text-decoration-color: #7f7f7f\">172</span></a>\n</pre>\n"
     },
     "metadata": {},
     "output_type": "display_data"
    },
    {
     "data": {
      "text/plain": "\u001B[2;36m          \u001B[0m\u001B[2;36m \u001B[0mMETRIC   Round \u001B[1;36m0\u001B[0m, collaborator one is sending metric for task train: cross_entropy       \u001B[1;36m0.291798\u001B[0m                                 \u001B]8;id=681758;file:///home/p/Desktop/Programs/Python/openfl/openfl/openfl/component/collaborator/collaborator.py\u001B\\\u001B[2mcollaborator.py\u001B[0m\u001B]8;;\u001B\\\u001B[2m:\u001B[0m\u001B]8;id=380931;file:///home/p/Desktop/Programs/Python/openfl/openfl/openfl/component/collaborator/collaborator.py#415\u001B\\\u001B[2m415\u001B[0m\u001B]8;;\u001B\\\n",
      "text/html": "<pre style=\"white-space:pre;overflow-x:auto;line-height:normal;font-family:Menlo,'DejaVu Sans Mono',consolas,'Courier New',monospace\"><span style=\"color: #7fbfbf; text-decoration-color: #7fbfbf\">           </span>METRIC   Round <span style=\"color: #008080; text-decoration-color: #008080; font-weight: bold\">0</span>, collaborator one is sending metric for task train: cross_entropy       <span style=\"color: #008080; text-decoration-color: #008080; font-weight: bold\">0.291798</span>                                 <a href=\"file:///home/p/Desktop/Programs/Python/openfl/openfl/openfl/component/collaborator/collaborator.py\" target=\"_blank\"><span style=\"color: #7f7f7f; text-decoration-color: #7f7f7f\">collaborator.py</span></a><span style=\"color: #7f7f7f; text-decoration-color: #7f7f7f\">:</span><a href=\"file:///home/p/Desktop/Programs/Python/openfl/openfl/openfl/component/collaborator/collaborator.py#415\" target=\"_blank\"><span style=\"color: #7f7f7f; text-decoration-color: #7f7f7f\">415</span></a>\n</pre>\n"
     },
     "metadata": {},
     "output_type": "display_data"
    },
    {
     "data": {
      "text/plain": "\u001B[2;36m          \u001B[0m\u001B[2;36m \u001B[0mMETRIC   Round \u001B[1;36m0\u001B[0m, collaborator one train result cross_entropy:   \u001B[1;36m0.291798\u001B[0m                                                           \u001B]8;id=685969;file:///home/p/Desktop/Programs/Python/openfl/openfl/openfl/component/aggregator/aggregator.py\u001B\\\u001B[2maggregator.py\u001B[0m\u001B]8;;\u001B\\\u001B[2m:\u001B[0m\u001B]8;id=129309;file:///home/p/Desktop/Programs/Python/openfl/openfl/openfl/component/aggregator/aggregator.py#559\u001B\\\u001B[2m559\u001B[0m\u001B]8;;\u001B\\\n",
      "text/html": "<pre style=\"white-space:pre;overflow-x:auto;line-height:normal;font-family:Menlo,'DejaVu Sans Mono',consolas,'Courier New',monospace\"><span style=\"color: #7fbfbf; text-decoration-color: #7fbfbf\">           </span>METRIC   Round <span style=\"color: #008080; text-decoration-color: #008080; font-weight: bold\">0</span>, collaborator one train result cross_entropy:   <span style=\"color: #008080; text-decoration-color: #008080; font-weight: bold\">0.291798</span>                                                           <a href=\"file:///home/p/Desktop/Programs/Python/openfl/openfl/openfl/component/aggregator/aggregator.py\" target=\"_blank\"><span style=\"color: #7f7f7f; text-decoration-color: #7f7f7f\">aggregator.py</span></a><span style=\"color: #7f7f7f; text-decoration-color: #7f7f7f\">:</span><a href=\"file:///home/p/Desktop/Programs/Python/openfl/openfl/openfl/component/aggregator/aggregator.py#559\" target=\"_blank\"><span style=\"color: #7f7f7f; text-decoration-color: #7f7f7f\">559</span></a>\n</pre>\n"
     },
     "metadata": {},
     "output_type": "display_data"
    },
    {
     "data": {
      "text/plain": "\u001B[2;36m          \u001B[0m\u001B[2;36m \u001B[0mMETRIC   Round \u001B[1;36m0\u001B[0m, collaborator one is sending metric for task locally_tuned_model_validation: acc        \u001B[1;36m0.643200\u001B[0m                 \u001B]8;id=147547;file:///home/p/Desktop/Programs/Python/openfl/openfl/openfl/component/collaborator/collaborator.py\u001B\\\u001B[2mcollaborator.py\u001B[0m\u001B]8;;\u001B\\\u001B[2m:\u001B[0m\u001B]8;id=67139;file:///home/p/Desktop/Programs/Python/openfl/openfl/openfl/component/collaborator/collaborator.py#415\u001B\\\u001B[2m415\u001B[0m\u001B]8;;\u001B\\\n",
      "text/html": "<pre style=\"white-space:pre;overflow-x:auto;line-height:normal;font-family:Menlo,'DejaVu Sans Mono',consolas,'Courier New',monospace\"><span style=\"color: #7fbfbf; text-decoration-color: #7fbfbf\">           </span>METRIC   Round <span style=\"color: #008080; text-decoration-color: #008080; font-weight: bold\">0</span>, collaborator one is sending metric for task locally_tuned_model_validation: acc        <span style=\"color: #008080; text-decoration-color: #008080; font-weight: bold\">0.643200</span>                 <a href=\"file:///home/p/Desktop/Programs/Python/openfl/openfl/openfl/component/collaborator/collaborator.py\" target=\"_blank\"><span style=\"color: #7f7f7f; text-decoration-color: #7f7f7f\">collaborator.py</span></a><span style=\"color: #7f7f7f; text-decoration-color: #7f7f7f\">:</span><a href=\"file:///home/p/Desktop/Programs/Python/openfl/openfl/openfl/component/collaborator/collaborator.py#415\" target=\"_blank\"><span style=\"color: #7f7f7f; text-decoration-color: #7f7f7f\">415</span></a>\n</pre>\n"
     },
     "metadata": {},
     "output_type": "display_data"
    },
    {
     "data": {
      "text/plain": "\u001B[2;36m          \u001B[0m\u001B[2;36m \u001B[0mMETRIC   Round \u001B[1;36m0\u001B[0m, collaborator validate_local locally_tuned_model_validation result acc: \u001B[1;36m0.643200\u001B[0m                                   \u001B]8;id=527949;file:///home/p/Desktop/Programs/Python/openfl/openfl/openfl/component/aggregator/aggregator.py\u001B\\\u001B[2maggregator.py\u001B[0m\u001B]8;;\u001B\\\u001B[2m:\u001B[0m\u001B]8;id=558631;file:///home/p/Desktop/Programs/Python/openfl/openfl/openfl/component/aggregator/aggregator.py#559\u001B\\\u001B[2m559\u001B[0m\u001B]8;;\u001B\\\n",
      "text/html": "<pre style=\"white-space:pre;overflow-x:auto;line-height:normal;font-family:Menlo,'DejaVu Sans Mono',consolas,'Courier New',monospace\"><span style=\"color: #7fbfbf; text-decoration-color: #7fbfbf\">           </span>METRIC   Round <span style=\"color: #008080; text-decoration-color: #008080; font-weight: bold\">0</span>, collaborator validate_local locally_tuned_model_validation result acc: <span style=\"color: #008080; text-decoration-color: #008080; font-weight: bold\">0.643200</span>                                   <a href=\"file:///home/p/Desktop/Programs/Python/openfl/openfl/openfl/component/aggregator/aggregator.py\" target=\"_blank\"><span style=\"color: #7f7f7f; text-decoration-color: #7f7f7f\">aggregator.py</span></a><span style=\"color: #7f7f7f; text-decoration-color: #7f7f7f\">:</span><a href=\"file:///home/p/Desktop/Programs/Python/openfl/openfl/openfl/component/aggregator/aggregator.py#559\" target=\"_blank\"><span style=\"color: #7f7f7f; text-decoration-color: #7f7f7f\">559</span></a>\n</pre>\n"
     },
     "metadata": {},
     "output_type": "display_data"
    },
    {
     "data": {
      "text/plain": "\u001B[2;36m          \u001B[0m\u001B[2;36m \u001B[0mMETRIC   Round \u001B[1;36m0\u001B[0m, collaborator two is sending metric for task aggregated_model_validation: acc   \u001B[1;36m0.605600\u001B[0m                         \u001B]8;id=940880;file:///home/p/Desktop/Programs/Python/openfl/openfl/openfl/component/collaborator/collaborator.py\u001B\\\u001B[2mcollaborator.py\u001B[0m\u001B]8;;\u001B\\\u001B[2m:\u001B[0m\u001B]8;id=901894;file:///home/p/Desktop/Programs/Python/openfl/openfl/openfl/component/collaborator/collaborator.py#415\u001B\\\u001B[2m415\u001B[0m\u001B]8;;\u001B\\\n",
      "text/html": "<pre style=\"white-space:pre;overflow-x:auto;line-height:normal;font-family:Menlo,'DejaVu Sans Mono',consolas,'Courier New',monospace\"><span style=\"color: #7fbfbf; text-decoration-color: #7fbfbf\">           </span>METRIC   Round <span style=\"color: #008080; text-decoration-color: #008080; font-weight: bold\">0</span>, collaborator two is sending metric for task aggregated_model_validation: acc   <span style=\"color: #008080; text-decoration-color: #008080; font-weight: bold\">0.605600</span>                         <a href=\"file:///home/p/Desktop/Programs/Python/openfl/openfl/openfl/component/collaborator/collaborator.py\" target=\"_blank\"><span style=\"color: #7f7f7f; text-decoration-color: #7f7f7f\">collaborator.py</span></a><span style=\"color: #7f7f7f; text-decoration-color: #7f7f7f\">:</span><a href=\"file:///home/p/Desktop/Programs/Python/openfl/openfl/openfl/component/collaborator/collaborator.py#415\" target=\"_blank\"><span style=\"color: #7f7f7f; text-decoration-color: #7f7f7f\">415</span></a>\n</pre>\n"
     },
     "metadata": {},
     "output_type": "display_data"
    },
    {
     "data": {
      "text/plain": "\u001B[2;36m          \u001B[0m\u001B[2;36m \u001B[0mMETRIC   Round \u001B[1;36m0\u001B[0m, collaborator validate_agg aggregated_model_validation result acc:      \u001B[1;36m0.605600\u001B[0m                                   \u001B]8;id=20452;file:///home/p/Desktop/Programs/Python/openfl/openfl/openfl/component/aggregator/aggregator.py\u001B\\\u001B[2maggregator.py\u001B[0m\u001B]8;;\u001B\\\u001B[2m:\u001B[0m\u001B]8;id=692873;file:///home/p/Desktop/Programs/Python/openfl/openfl/openfl/component/aggregator/aggregator.py#559\u001B\\\u001B[2m559\u001B[0m\u001B]8;;\u001B\\\n",
      "text/html": "<pre style=\"white-space:pre;overflow-x:auto;line-height:normal;font-family:Menlo,'DejaVu Sans Mono',consolas,'Courier New',monospace\"><span style=\"color: #7fbfbf; text-decoration-color: #7fbfbf\">           </span>METRIC   Round <span style=\"color: #008080; text-decoration-color: #008080; font-weight: bold\">0</span>, collaborator validate_agg aggregated_model_validation result acc:      <span style=\"color: #008080; text-decoration-color: #008080; font-weight: bold\">0.605600</span>                                   <a href=\"file:///home/p/Desktop/Programs/Python/openfl/openfl/openfl/component/aggregator/aggregator.py\" target=\"_blank\"><span style=\"color: #7f7f7f; text-decoration-color: #7f7f7f\">aggregator.py</span></a><span style=\"color: #7f7f7f; text-decoration-color: #7f7f7f\">:</span><a href=\"file:///home/p/Desktop/Programs/Python/openfl/openfl/openfl/component/aggregator/aggregator.py#559\" target=\"_blank\"><span style=\"color: #7f7f7f; text-decoration-color: #7f7f7f\">559</span></a>\n</pre>\n"
     },
     "metadata": {},
     "output_type": "display_data"
    },
    {
     "data": {
      "text/plain": "\u001B[2;36m[18:56:55]\u001B[0m\u001B[2;36m \u001B[0m\u001B[31mWARNING \u001B[0m tried to remove tensor: __opt_state_needed not present in the tensor dict                                                       \u001B]8;id=477835;file:///home/p/Desktop/Programs/Python/openfl/openfl/openfl/utilities/utils.py\u001B\\\u001B[2mutils.py\u001B[0m\u001B]8;;\u001B\\\u001B[2m:\u001B[0m\u001B]8;id=735166;file:///home/p/Desktop/Programs/Python/openfl/openfl/openfl/utilities/utils.py#172\u001B\\\u001B[2m172\u001B[0m\u001B]8;;\u001B\\\n",
      "text/html": "<pre style=\"white-space:pre;overflow-x:auto;line-height:normal;font-family:Menlo,'DejaVu Sans Mono',consolas,'Courier New',monospace\"><span style=\"color: #7fbfbf; text-decoration-color: #7fbfbf\">[18:56:55] </span><span style=\"color: #800000; text-decoration-color: #800000\">WARNING </span> tried to remove tensor: __opt_state_needed not present in the tensor dict                                                       <a href=\"file:///home/p/Desktop/Programs/Python/openfl/openfl/openfl/utilities/utils.py\" target=\"_blank\"><span style=\"color: #7f7f7f; text-decoration-color: #7f7f7f\">utils.py</span></a><span style=\"color: #7f7f7f; text-decoration-color: #7f7f7f\">:</span><a href=\"file:///home/p/Desktop/Programs/Python/openfl/openfl/openfl/utilities/utils.py#172\" target=\"_blank\"><span style=\"color: #7f7f7f; text-decoration-color: #7f7f7f\">172</span></a>\n</pre>\n"
     },
     "metadata": {},
     "output_type": "display_data"
    },
    {
     "data": {
      "text/plain": "\u001B[2;36m          \u001B[0m\u001B[2;36m \u001B[0mMETRIC   Round \u001B[1;36m0\u001B[0m, collaborator two is sending metric for task train: cross_entropy       \u001B[1;36m0.293326\u001B[0m                                 \u001B]8;id=263923;file:///home/p/Desktop/Programs/Python/openfl/openfl/openfl/component/collaborator/collaborator.py\u001B\\\u001B[2mcollaborator.py\u001B[0m\u001B]8;;\u001B\\\u001B[2m:\u001B[0m\u001B]8;id=787391;file:///home/p/Desktop/Programs/Python/openfl/openfl/openfl/component/collaborator/collaborator.py#415\u001B\\\u001B[2m415\u001B[0m\u001B]8;;\u001B\\\n",
      "text/html": "<pre style=\"white-space:pre;overflow-x:auto;line-height:normal;font-family:Menlo,'DejaVu Sans Mono',consolas,'Courier New',monospace\"><span style=\"color: #7fbfbf; text-decoration-color: #7fbfbf\">           </span>METRIC   Round <span style=\"color: #008080; text-decoration-color: #008080; font-weight: bold\">0</span>, collaborator two is sending metric for task train: cross_entropy       <span style=\"color: #008080; text-decoration-color: #008080; font-weight: bold\">0.293326</span>                                 <a href=\"file:///home/p/Desktop/Programs/Python/openfl/openfl/openfl/component/collaborator/collaborator.py\" target=\"_blank\"><span style=\"color: #7f7f7f; text-decoration-color: #7f7f7f\">collaborator.py</span></a><span style=\"color: #7f7f7f; text-decoration-color: #7f7f7f\">:</span><a href=\"file:///home/p/Desktop/Programs/Python/openfl/openfl/openfl/component/collaborator/collaborator.py#415\" target=\"_blank\"><span style=\"color: #7f7f7f; text-decoration-color: #7f7f7f\">415</span></a>\n</pre>\n"
     },
     "metadata": {},
     "output_type": "display_data"
    },
    {
     "data": {
      "text/plain": "\u001B[2;36m          \u001B[0m\u001B[2;36m \u001B[0mMETRIC   Round \u001B[1;36m0\u001B[0m, collaborator two train result cross_entropy:   \u001B[1;36m0.293326\u001B[0m                                                           \u001B]8;id=800871;file:///home/p/Desktop/Programs/Python/openfl/openfl/openfl/component/aggregator/aggregator.py\u001B\\\u001B[2maggregator.py\u001B[0m\u001B]8;;\u001B\\\u001B[2m:\u001B[0m\u001B]8;id=454753;file:///home/p/Desktop/Programs/Python/openfl/openfl/openfl/component/aggregator/aggregator.py#559\u001B\\\u001B[2m559\u001B[0m\u001B]8;;\u001B\\\n",
      "text/html": "<pre style=\"white-space:pre;overflow-x:auto;line-height:normal;font-family:Menlo,'DejaVu Sans Mono',consolas,'Courier New',monospace\"><span style=\"color: #7fbfbf; text-decoration-color: #7fbfbf\">           </span>METRIC   Round <span style=\"color: #008080; text-decoration-color: #008080; font-weight: bold\">0</span>, collaborator two train result cross_entropy:   <span style=\"color: #008080; text-decoration-color: #008080; font-weight: bold\">0.293326</span>                                                           <a href=\"file:///home/p/Desktop/Programs/Python/openfl/openfl/openfl/component/aggregator/aggregator.py\" target=\"_blank\"><span style=\"color: #7f7f7f; text-decoration-color: #7f7f7f\">aggregator.py</span></a><span style=\"color: #7f7f7f; text-decoration-color: #7f7f7f\">:</span><a href=\"file:///home/p/Desktop/Programs/Python/openfl/openfl/openfl/component/aggregator/aggregator.py#559\" target=\"_blank\"><span style=\"color: #7f7f7f; text-decoration-color: #7f7f7f\">559</span></a>\n</pre>\n"
     },
     "metadata": {},
     "output_type": "display_data"
    },
    {
     "data": {
      "text/plain": "\u001B[2;36m          \u001B[0m\u001B[2;36m \u001B[0mMETRIC   Round \u001B[1;36m0\u001B[0m, collaborator two is sending metric for task locally_tuned_model_validation: acc        \u001B[1;36m0.650800\u001B[0m                 \u001B]8;id=652501;file:///home/p/Desktop/Programs/Python/openfl/openfl/openfl/component/collaborator/collaborator.py\u001B\\\u001B[2mcollaborator.py\u001B[0m\u001B]8;;\u001B\\\u001B[2m:\u001B[0m\u001B]8;id=372240;file:///home/p/Desktop/Programs/Python/openfl/openfl/openfl/component/collaborator/collaborator.py#415\u001B\\\u001B[2m415\u001B[0m\u001B]8;;\u001B\\\n",
      "text/html": "<pre style=\"white-space:pre;overflow-x:auto;line-height:normal;font-family:Menlo,'DejaVu Sans Mono',consolas,'Courier New',monospace\"><span style=\"color: #7fbfbf; text-decoration-color: #7fbfbf\">           </span>METRIC   Round <span style=\"color: #008080; text-decoration-color: #008080; font-weight: bold\">0</span>, collaborator two is sending metric for task locally_tuned_model_validation: acc        <span style=\"color: #008080; text-decoration-color: #008080; font-weight: bold\">0.650800</span>                 <a href=\"file:///home/p/Desktop/Programs/Python/openfl/openfl/openfl/component/collaborator/collaborator.py\" target=\"_blank\"><span style=\"color: #7f7f7f; text-decoration-color: #7f7f7f\">collaborator.py</span></a><span style=\"color: #7f7f7f; text-decoration-color: #7f7f7f\">:</span><a href=\"file:///home/p/Desktop/Programs/Python/openfl/openfl/openfl/component/collaborator/collaborator.py#415\" target=\"_blank\"><span style=\"color: #7f7f7f; text-decoration-color: #7f7f7f\">415</span></a>\n</pre>\n"
     },
     "metadata": {},
     "output_type": "display_data"
    },
    {
     "data": {
      "text/plain": "\u001B[2;36m          \u001B[0m\u001B[2;36m \u001B[0mMETRIC   Round \u001B[1;36m0\u001B[0m, collaborator validate_local locally_tuned_model_validation result acc: \u001B[1;36m0.650800\u001B[0m                                   \u001B]8;id=513865;file:///home/p/Desktop/Programs/Python/openfl/openfl/openfl/component/aggregator/aggregator.py\u001B\\\u001B[2maggregator.py\u001B[0m\u001B]8;;\u001B\\\u001B[2m:\u001B[0m\u001B]8;id=389973;file:///home/p/Desktop/Programs/Python/openfl/openfl/openfl/component/aggregator/aggregator.py#559\u001B\\\u001B[2m559\u001B[0m\u001B]8;;\u001B\\\n",
      "text/html": "<pre style=\"white-space:pre;overflow-x:auto;line-height:normal;font-family:Menlo,'DejaVu Sans Mono',consolas,'Courier New',monospace\"><span style=\"color: #7fbfbf; text-decoration-color: #7fbfbf\">           </span>METRIC   Round <span style=\"color: #008080; text-decoration-color: #008080; font-weight: bold\">0</span>, collaborator validate_local locally_tuned_model_validation result acc: <span style=\"color: #008080; text-decoration-color: #008080; font-weight: bold\">0.650800</span>                                   <a href=\"file:///home/p/Desktop/Programs/Python/openfl/openfl/openfl/component/aggregator/aggregator.py\" target=\"_blank\"><span style=\"color: #7f7f7f; text-decoration-color: #7f7f7f\">aggregator.py</span></a><span style=\"color: #7f7f7f; text-decoration-color: #7f7f7f\">:</span><a href=\"file:///home/p/Desktop/Programs/Python/openfl/openfl/openfl/component/aggregator/aggregator.py#559\" target=\"_blank\"><span style=\"color: #7f7f7f; text-decoration-color: #7f7f7f\">559</span></a>\n</pre>\n"
     },
     "metadata": {},
     "output_type": "display_data"
    },
    {
     "data": {
      "text/plain": "\u001B[2;36m          \u001B[0m\u001B[2;36m \u001B[0mMETRIC   Round \u001B[1;36m0\u001B[0m, collaborator three is sending metric for task aggregated_model_validation: acc \u001B[1;36m0.595600\u001B[0m                         \u001B]8;id=593751;file:///home/p/Desktop/Programs/Python/openfl/openfl/openfl/component/collaborator/collaborator.py\u001B\\\u001B[2mcollaborator.py\u001B[0m\u001B]8;;\u001B\\\u001B[2m:\u001B[0m\u001B]8;id=317324;file:///home/p/Desktop/Programs/Python/openfl/openfl/openfl/component/collaborator/collaborator.py#415\u001B\\\u001B[2m415\u001B[0m\u001B]8;;\u001B\\\n",
      "text/html": "<pre style=\"white-space:pre;overflow-x:auto;line-height:normal;font-family:Menlo,'DejaVu Sans Mono',consolas,'Courier New',monospace\"><span style=\"color: #7fbfbf; text-decoration-color: #7fbfbf\">           </span>METRIC   Round <span style=\"color: #008080; text-decoration-color: #008080; font-weight: bold\">0</span>, collaborator three is sending metric for task aggregated_model_validation: acc <span style=\"color: #008080; text-decoration-color: #008080; font-weight: bold\">0.595600</span>                         <a href=\"file:///home/p/Desktop/Programs/Python/openfl/openfl/openfl/component/collaborator/collaborator.py\" target=\"_blank\"><span style=\"color: #7f7f7f; text-decoration-color: #7f7f7f\">collaborator.py</span></a><span style=\"color: #7f7f7f; text-decoration-color: #7f7f7f\">:</span><a href=\"file:///home/p/Desktop/Programs/Python/openfl/openfl/openfl/component/collaborator/collaborator.py#415\" target=\"_blank\"><span style=\"color: #7f7f7f; text-decoration-color: #7f7f7f\">415</span></a>\n</pre>\n"
     },
     "metadata": {},
     "output_type": "display_data"
    },
    {
     "data": {
      "text/plain": "\u001B[2;36m          \u001B[0m\u001B[2;36m \u001B[0mMETRIC   Round \u001B[1;36m0\u001B[0m, collaborator validate_agg aggregated_model_validation result acc:      \u001B[1;36m0.595600\u001B[0m                                   \u001B]8;id=581736;file:///home/p/Desktop/Programs/Python/openfl/openfl/openfl/component/aggregator/aggregator.py\u001B\\\u001B[2maggregator.py\u001B[0m\u001B]8;;\u001B\\\u001B[2m:\u001B[0m\u001B]8;id=948709;file:///home/p/Desktop/Programs/Python/openfl/openfl/openfl/component/aggregator/aggregator.py#559\u001B\\\u001B[2m559\u001B[0m\u001B]8;;\u001B\\\n",
      "text/html": "<pre style=\"white-space:pre;overflow-x:auto;line-height:normal;font-family:Menlo,'DejaVu Sans Mono',consolas,'Courier New',monospace\"><span style=\"color: #7fbfbf; text-decoration-color: #7fbfbf\">           </span>METRIC   Round <span style=\"color: #008080; text-decoration-color: #008080; font-weight: bold\">0</span>, collaborator validate_agg aggregated_model_validation result acc:      <span style=\"color: #008080; text-decoration-color: #008080; font-weight: bold\">0.595600</span>                                   <a href=\"file:///home/p/Desktop/Programs/Python/openfl/openfl/openfl/component/aggregator/aggregator.py\" target=\"_blank\"><span style=\"color: #7f7f7f; text-decoration-color: #7f7f7f\">aggregator.py</span></a><span style=\"color: #7f7f7f; text-decoration-color: #7f7f7f\">:</span><a href=\"file:///home/p/Desktop/Programs/Python/openfl/openfl/openfl/component/aggregator/aggregator.py#559\" target=\"_blank\"><span style=\"color: #7f7f7f; text-decoration-color: #7f7f7f\">559</span></a>\n</pre>\n"
     },
     "metadata": {},
     "output_type": "display_data"
    },
    {
     "data": {
      "text/plain": "\u001B[2;36m          \u001B[0m\u001B[2;36m \u001B[0m\u001B[31mWARNING \u001B[0m tried to remove tensor: __opt_state_needed not present in the tensor dict                                                       \u001B]8;id=586458;file:///home/p/Desktop/Programs/Python/openfl/openfl/openfl/utilities/utils.py\u001B\\\u001B[2mutils.py\u001B[0m\u001B]8;;\u001B\\\u001B[2m:\u001B[0m\u001B]8;id=330448;file:///home/p/Desktop/Programs/Python/openfl/openfl/openfl/utilities/utils.py#172\u001B\\\u001B[2m172\u001B[0m\u001B]8;;\u001B\\\n",
      "text/html": "<pre style=\"white-space:pre;overflow-x:auto;line-height:normal;font-family:Menlo,'DejaVu Sans Mono',consolas,'Courier New',monospace\"><span style=\"color: #7fbfbf; text-decoration-color: #7fbfbf\">           </span><span style=\"color: #800000; text-decoration-color: #800000\">WARNING </span> tried to remove tensor: __opt_state_needed not present in the tensor dict                                                       <a href=\"file:///home/p/Desktop/Programs/Python/openfl/openfl/openfl/utilities/utils.py\" target=\"_blank\"><span style=\"color: #7f7f7f; text-decoration-color: #7f7f7f\">utils.py</span></a><span style=\"color: #7f7f7f; text-decoration-color: #7f7f7f\">:</span><a href=\"file:///home/p/Desktop/Programs/Python/openfl/openfl/openfl/utilities/utils.py#172\" target=\"_blank\"><span style=\"color: #7f7f7f; text-decoration-color: #7f7f7f\">172</span></a>\n</pre>\n"
     },
     "metadata": {},
     "output_type": "display_data"
    },
    {
     "data": {
      "text/plain": "\u001B[2;36m          \u001B[0m\u001B[2;36m \u001B[0mMETRIC   Round \u001B[1;36m0\u001B[0m, collaborator three is sending metric for task train: cross_entropy     \u001B[1;36m0.295191\u001B[0m                                 \u001B]8;id=962746;file:///home/p/Desktop/Programs/Python/openfl/openfl/openfl/component/collaborator/collaborator.py\u001B\\\u001B[2mcollaborator.py\u001B[0m\u001B]8;;\u001B\\\u001B[2m:\u001B[0m\u001B]8;id=333487;file:///home/p/Desktop/Programs/Python/openfl/openfl/openfl/component/collaborator/collaborator.py#415\u001B\\\u001B[2m415\u001B[0m\u001B]8;;\u001B\\\n",
      "text/html": "<pre style=\"white-space:pre;overflow-x:auto;line-height:normal;font-family:Menlo,'DejaVu Sans Mono',consolas,'Courier New',monospace\"><span style=\"color: #7fbfbf; text-decoration-color: #7fbfbf\">           </span>METRIC   Round <span style=\"color: #008080; text-decoration-color: #008080; font-weight: bold\">0</span>, collaborator three is sending metric for task train: cross_entropy     <span style=\"color: #008080; text-decoration-color: #008080; font-weight: bold\">0.295191</span>                                 <a href=\"file:///home/p/Desktop/Programs/Python/openfl/openfl/openfl/component/collaborator/collaborator.py\" target=\"_blank\"><span style=\"color: #7f7f7f; text-decoration-color: #7f7f7f\">collaborator.py</span></a><span style=\"color: #7f7f7f; text-decoration-color: #7f7f7f\">:</span><a href=\"file:///home/p/Desktop/Programs/Python/openfl/openfl/openfl/component/collaborator/collaborator.py#415\" target=\"_blank\"><span style=\"color: #7f7f7f; text-decoration-color: #7f7f7f\">415</span></a>\n</pre>\n"
     },
     "metadata": {},
     "output_type": "display_data"
    },
    {
     "data": {
      "text/plain": "\u001B[2;36m          \u001B[0m\u001B[2;36m \u001B[0mMETRIC   Round \u001B[1;36m0\u001B[0m, collaborator three train result cross_entropy: \u001B[1;36m0.295191\u001B[0m                                                           \u001B]8;id=819897;file:///home/p/Desktop/Programs/Python/openfl/openfl/openfl/component/aggregator/aggregator.py\u001B\\\u001B[2maggregator.py\u001B[0m\u001B]8;;\u001B\\\u001B[2m:\u001B[0m\u001B]8;id=740800;file:///home/p/Desktop/Programs/Python/openfl/openfl/openfl/component/aggregator/aggregator.py#559\u001B\\\u001B[2m559\u001B[0m\u001B]8;;\u001B\\\n",
      "text/html": "<pre style=\"white-space:pre;overflow-x:auto;line-height:normal;font-family:Menlo,'DejaVu Sans Mono',consolas,'Courier New',monospace\"><span style=\"color: #7fbfbf; text-decoration-color: #7fbfbf\">           </span>METRIC   Round <span style=\"color: #008080; text-decoration-color: #008080; font-weight: bold\">0</span>, collaborator three train result cross_entropy: <span style=\"color: #008080; text-decoration-color: #008080; font-weight: bold\">0.295191</span>                                                           <a href=\"file:///home/p/Desktop/Programs/Python/openfl/openfl/openfl/component/aggregator/aggregator.py\" target=\"_blank\"><span style=\"color: #7f7f7f; text-decoration-color: #7f7f7f\">aggregator.py</span></a><span style=\"color: #7f7f7f; text-decoration-color: #7f7f7f\">:</span><a href=\"file:///home/p/Desktop/Programs/Python/openfl/openfl/openfl/component/aggregator/aggregator.py#559\" target=\"_blank\"><span style=\"color: #7f7f7f; text-decoration-color: #7f7f7f\">559</span></a>\n</pre>\n"
     },
     "metadata": {},
     "output_type": "display_data"
    },
    {
     "data": {
      "text/plain": "\u001B[2;36m          \u001B[0m\u001B[2;36m \u001B[0mMETRIC   Round \u001B[1;36m0\u001B[0m, collaborator three is sending metric for task locally_tuned_model_validation: acc      \u001B[1;36m0.630800\u001B[0m                 \u001B]8;id=91637;file:///home/p/Desktop/Programs/Python/openfl/openfl/openfl/component/collaborator/collaborator.py\u001B\\\u001B[2mcollaborator.py\u001B[0m\u001B]8;;\u001B\\\u001B[2m:\u001B[0m\u001B]8;id=69131;file:///home/p/Desktop/Programs/Python/openfl/openfl/openfl/component/collaborator/collaborator.py#415\u001B\\\u001B[2m415\u001B[0m\u001B]8;;\u001B\\\n",
      "text/html": "<pre style=\"white-space:pre;overflow-x:auto;line-height:normal;font-family:Menlo,'DejaVu Sans Mono',consolas,'Courier New',monospace\"><span style=\"color: #7fbfbf; text-decoration-color: #7fbfbf\">           </span>METRIC   Round <span style=\"color: #008080; text-decoration-color: #008080; font-weight: bold\">0</span>, collaborator three is sending metric for task locally_tuned_model_validation: acc      <span style=\"color: #008080; text-decoration-color: #008080; font-weight: bold\">0.630800</span>                 <a href=\"file:///home/p/Desktop/Programs/Python/openfl/openfl/openfl/component/collaborator/collaborator.py\" target=\"_blank\"><span style=\"color: #7f7f7f; text-decoration-color: #7f7f7f\">collaborator.py</span></a><span style=\"color: #7f7f7f; text-decoration-color: #7f7f7f\">:</span><a href=\"file:///home/p/Desktop/Programs/Python/openfl/openfl/openfl/component/collaborator/collaborator.py#415\" target=\"_blank\"><span style=\"color: #7f7f7f; text-decoration-color: #7f7f7f\">415</span></a>\n</pre>\n"
     },
     "metadata": {},
     "output_type": "display_data"
    },
    {
     "data": {
      "text/plain": "\u001B[2;36m          \u001B[0m\u001B[2;36m \u001B[0mMETRIC   Round \u001B[1;36m0\u001B[0m, collaborator validate_local locally_tuned_model_validation result acc: \u001B[1;36m0.630800\u001B[0m                                   \u001B]8;id=859003;file:///home/p/Desktop/Programs/Python/openfl/openfl/openfl/component/aggregator/aggregator.py\u001B\\\u001B[2maggregator.py\u001B[0m\u001B]8;;\u001B\\\u001B[2m:\u001B[0m\u001B]8;id=712229;file:///home/p/Desktop/Programs/Python/openfl/openfl/openfl/component/aggregator/aggregator.py#559\u001B\\\u001B[2m559\u001B[0m\u001B]8;;\u001B\\\n",
      "text/html": "<pre style=\"white-space:pre;overflow-x:auto;line-height:normal;font-family:Menlo,'DejaVu Sans Mono',consolas,'Courier New',monospace\"><span style=\"color: #7fbfbf; text-decoration-color: #7fbfbf\">           </span>METRIC   Round <span style=\"color: #008080; text-decoration-color: #008080; font-weight: bold\">0</span>, collaborator validate_local locally_tuned_model_validation result acc: <span style=\"color: #008080; text-decoration-color: #008080; font-weight: bold\">0.630800</span>                                   <a href=\"file:///home/p/Desktop/Programs/Python/openfl/openfl/openfl/component/aggregator/aggregator.py\" target=\"_blank\"><span style=\"color: #7f7f7f; text-decoration-color: #7f7f7f\">aggregator.py</span></a><span style=\"color: #7f7f7f; text-decoration-color: #7f7f7f\">:</span><a href=\"file:///home/p/Desktop/Programs/Python/openfl/openfl/openfl/component/aggregator/aggregator.py#559\" target=\"_blank\"><span style=\"color: #7f7f7f; text-decoration-color: #7f7f7f\">559</span></a>\n</pre>\n"
     },
     "metadata": {},
     "output_type": "display_data"
    },
    {
     "data": {
      "text/plain": "\u001B[2;36m          \u001B[0m\u001B[2;36m \u001B[0mMETRIC   Round \u001B[1;36m0\u001B[0m, collaborator four is sending metric for task aggregated_model_validation: acc  \u001B[1;36m0.590800\u001B[0m                         \u001B]8;id=458496;file:///home/p/Desktop/Programs/Python/openfl/openfl/openfl/component/collaborator/collaborator.py\u001B\\\u001B[2mcollaborator.py\u001B[0m\u001B]8;;\u001B\\\u001B[2m:\u001B[0m\u001B]8;id=229626;file:///home/p/Desktop/Programs/Python/openfl/openfl/openfl/component/collaborator/collaborator.py#415\u001B\\\u001B[2m415\u001B[0m\u001B]8;;\u001B\\\n",
      "text/html": "<pre style=\"white-space:pre;overflow-x:auto;line-height:normal;font-family:Menlo,'DejaVu Sans Mono',consolas,'Courier New',monospace\"><span style=\"color: #7fbfbf; text-decoration-color: #7fbfbf\">           </span>METRIC   Round <span style=\"color: #008080; text-decoration-color: #008080; font-weight: bold\">0</span>, collaborator four is sending metric for task aggregated_model_validation: acc  <span style=\"color: #008080; text-decoration-color: #008080; font-weight: bold\">0.590800</span>                         <a href=\"file:///home/p/Desktop/Programs/Python/openfl/openfl/openfl/component/collaborator/collaborator.py\" target=\"_blank\"><span style=\"color: #7f7f7f; text-decoration-color: #7f7f7f\">collaborator.py</span></a><span style=\"color: #7f7f7f; text-decoration-color: #7f7f7f\">:</span><a href=\"file:///home/p/Desktop/Programs/Python/openfl/openfl/openfl/component/collaborator/collaborator.py#415\" target=\"_blank\"><span style=\"color: #7f7f7f; text-decoration-color: #7f7f7f\">415</span></a>\n</pre>\n"
     },
     "metadata": {},
     "output_type": "display_data"
    },
    {
     "data": {
      "text/plain": "\u001B[2;36m          \u001B[0m\u001B[2;36m \u001B[0mMETRIC   Round \u001B[1;36m0\u001B[0m, collaborator validate_agg aggregated_model_validation result acc:      \u001B[1;36m0.590800\u001B[0m                                   \u001B]8;id=53999;file:///home/p/Desktop/Programs/Python/openfl/openfl/openfl/component/aggregator/aggregator.py\u001B\\\u001B[2maggregator.py\u001B[0m\u001B]8;;\u001B\\\u001B[2m:\u001B[0m\u001B]8;id=662072;file:///home/p/Desktop/Programs/Python/openfl/openfl/openfl/component/aggregator/aggregator.py#559\u001B\\\u001B[2m559\u001B[0m\u001B]8;;\u001B\\\n",
      "text/html": "<pre style=\"white-space:pre;overflow-x:auto;line-height:normal;font-family:Menlo,'DejaVu Sans Mono',consolas,'Courier New',monospace\"><span style=\"color: #7fbfbf; text-decoration-color: #7fbfbf\">           </span>METRIC   Round <span style=\"color: #008080; text-decoration-color: #008080; font-weight: bold\">0</span>, collaborator validate_agg aggregated_model_validation result acc:      <span style=\"color: #008080; text-decoration-color: #008080; font-weight: bold\">0.590800</span>                                   <a href=\"file:///home/p/Desktop/Programs/Python/openfl/openfl/openfl/component/aggregator/aggregator.py\" target=\"_blank\"><span style=\"color: #7f7f7f; text-decoration-color: #7f7f7f\">aggregator.py</span></a><span style=\"color: #7f7f7f; text-decoration-color: #7f7f7f\">:</span><a href=\"file:///home/p/Desktop/Programs/Python/openfl/openfl/openfl/component/aggregator/aggregator.py#559\" target=\"_blank\"><span style=\"color: #7f7f7f; text-decoration-color: #7f7f7f\">559</span></a>\n</pre>\n"
     },
     "metadata": {},
     "output_type": "display_data"
    },
    {
     "data": {
      "text/plain": "\u001B[2;36m[18:56:56]\u001B[0m\u001B[2;36m \u001B[0m\u001B[31mWARNING \u001B[0m tried to remove tensor: __opt_state_needed not present in the tensor dict                                                       \u001B]8;id=503335;file:///home/p/Desktop/Programs/Python/openfl/openfl/openfl/utilities/utils.py\u001B\\\u001B[2mutils.py\u001B[0m\u001B]8;;\u001B\\\u001B[2m:\u001B[0m\u001B]8;id=945224;file:///home/p/Desktop/Programs/Python/openfl/openfl/openfl/utilities/utils.py#172\u001B\\\u001B[2m172\u001B[0m\u001B]8;;\u001B\\\n",
      "text/html": "<pre style=\"white-space:pre;overflow-x:auto;line-height:normal;font-family:Menlo,'DejaVu Sans Mono',consolas,'Courier New',monospace\"><span style=\"color: #7fbfbf; text-decoration-color: #7fbfbf\">[18:56:56] </span><span style=\"color: #800000; text-decoration-color: #800000\">WARNING </span> tried to remove tensor: __opt_state_needed not present in the tensor dict                                                       <a href=\"file:///home/p/Desktop/Programs/Python/openfl/openfl/openfl/utilities/utils.py\" target=\"_blank\"><span style=\"color: #7f7f7f; text-decoration-color: #7f7f7f\">utils.py</span></a><span style=\"color: #7f7f7f; text-decoration-color: #7f7f7f\">:</span><a href=\"file:///home/p/Desktop/Programs/Python/openfl/openfl/openfl/utilities/utils.py#172\" target=\"_blank\"><span style=\"color: #7f7f7f; text-decoration-color: #7f7f7f\">172</span></a>\n</pre>\n"
     },
     "metadata": {},
     "output_type": "display_data"
    },
    {
     "data": {
      "text/plain": "\u001B[2;36m          \u001B[0m\u001B[2;36m \u001B[0mMETRIC   Round \u001B[1;36m0\u001B[0m, collaborator four is sending metric for task train: cross_entropy      \u001B[1;36m0.291624\u001B[0m                                 \u001B]8;id=70728;file:///home/p/Desktop/Programs/Python/openfl/openfl/openfl/component/collaborator/collaborator.py\u001B\\\u001B[2mcollaborator.py\u001B[0m\u001B]8;;\u001B\\\u001B[2m:\u001B[0m\u001B]8;id=866267;file:///home/p/Desktop/Programs/Python/openfl/openfl/openfl/component/collaborator/collaborator.py#415\u001B\\\u001B[2m415\u001B[0m\u001B]8;;\u001B\\\n",
      "text/html": "<pre style=\"white-space:pre;overflow-x:auto;line-height:normal;font-family:Menlo,'DejaVu Sans Mono',consolas,'Courier New',monospace\"><span style=\"color: #7fbfbf; text-decoration-color: #7fbfbf\">           </span>METRIC   Round <span style=\"color: #008080; text-decoration-color: #008080; font-weight: bold\">0</span>, collaborator four is sending metric for task train: cross_entropy      <span style=\"color: #008080; text-decoration-color: #008080; font-weight: bold\">0.291624</span>                                 <a href=\"file:///home/p/Desktop/Programs/Python/openfl/openfl/openfl/component/collaborator/collaborator.py\" target=\"_blank\"><span style=\"color: #7f7f7f; text-decoration-color: #7f7f7f\">collaborator.py</span></a><span style=\"color: #7f7f7f; text-decoration-color: #7f7f7f\">:</span><a href=\"file:///home/p/Desktop/Programs/Python/openfl/openfl/openfl/component/collaborator/collaborator.py#415\" target=\"_blank\"><span style=\"color: #7f7f7f; text-decoration-color: #7f7f7f\">415</span></a>\n</pre>\n"
     },
     "metadata": {},
     "output_type": "display_data"
    },
    {
     "data": {
      "text/plain": "\u001B[2;36m          \u001B[0m\u001B[2;36m \u001B[0mMETRIC   Round \u001B[1;36m0\u001B[0m, collaborator metric train result cross_entropy:        \u001B[1;36m0.291624\u001B[0m                                                   \u001B]8;id=939804;file:///home/p/Desktop/Programs/Python/openfl/openfl/openfl/component/aggregator/aggregator.py\u001B\\\u001B[2maggregator.py\u001B[0m\u001B]8;;\u001B\\\u001B[2m:\u001B[0m\u001B]8;id=847090;file:///home/p/Desktop/Programs/Python/openfl/openfl/openfl/component/aggregator/aggregator.py#559\u001B\\\u001B[2m559\u001B[0m\u001B]8;;\u001B\\\n",
      "text/html": "<pre style=\"white-space:pre;overflow-x:auto;line-height:normal;font-family:Menlo,'DejaVu Sans Mono',consolas,'Courier New',monospace\"><span style=\"color: #7fbfbf; text-decoration-color: #7fbfbf\">           </span>METRIC   Round <span style=\"color: #008080; text-decoration-color: #008080; font-weight: bold\">0</span>, collaborator metric train result cross_entropy:        <span style=\"color: #008080; text-decoration-color: #008080; font-weight: bold\">0.291624</span>                                                   <a href=\"file:///home/p/Desktop/Programs/Python/openfl/openfl/openfl/component/aggregator/aggregator.py\" target=\"_blank\"><span style=\"color: #7f7f7f; text-decoration-color: #7f7f7f\">aggregator.py</span></a><span style=\"color: #7f7f7f; text-decoration-color: #7f7f7f\">:</span><a href=\"file:///home/p/Desktop/Programs/Python/openfl/openfl/openfl/component/aggregator/aggregator.py#559\" target=\"_blank\"><span style=\"color: #7f7f7f; text-decoration-color: #7f7f7f\">559</span></a>\n</pre>\n"
     },
     "metadata": {},
     "output_type": "display_data"
    },
    {
     "data": {
      "text/plain": "\u001B[2;36m          \u001B[0m\u001B[2;36m \u001B[0mMETRIC   Round \u001B[1;36m0\u001B[0m, collaborator four is sending metric for task locally_tuned_model_validation: acc       \u001B[1;36m0.632000\u001B[0m                 \u001B]8;id=706235;file:///home/p/Desktop/Programs/Python/openfl/openfl/openfl/component/collaborator/collaborator.py\u001B\\\u001B[2mcollaborator.py\u001B[0m\u001B]8;;\u001B\\\u001B[2m:\u001B[0m\u001B]8;id=948658;file:///home/p/Desktop/Programs/Python/openfl/openfl/openfl/component/collaborator/collaborator.py#415\u001B\\\u001B[2m415\u001B[0m\u001B]8;;\u001B\\\n",
      "text/html": "<pre style=\"white-space:pre;overflow-x:auto;line-height:normal;font-family:Menlo,'DejaVu Sans Mono',consolas,'Courier New',monospace\"><span style=\"color: #7fbfbf; text-decoration-color: #7fbfbf\">           </span>METRIC   Round <span style=\"color: #008080; text-decoration-color: #008080; font-weight: bold\">0</span>, collaborator four is sending metric for task locally_tuned_model_validation: acc       <span style=\"color: #008080; text-decoration-color: #008080; font-weight: bold\">0.632000</span>                 <a href=\"file:///home/p/Desktop/Programs/Python/openfl/openfl/openfl/component/collaborator/collaborator.py\" target=\"_blank\"><span style=\"color: #7f7f7f; text-decoration-color: #7f7f7f\">collaborator.py</span></a><span style=\"color: #7f7f7f; text-decoration-color: #7f7f7f\">:</span><a href=\"file:///home/p/Desktop/Programs/Python/openfl/openfl/openfl/component/collaborator/collaborator.py#415\" target=\"_blank\"><span style=\"color: #7f7f7f; text-decoration-color: #7f7f7f\">415</span></a>\n</pre>\n"
     },
     "metadata": {},
     "output_type": "display_data"
    },
    {
     "data": {
      "text/plain": "\u001B[2;36m          \u001B[0m\u001B[2;36m \u001B[0mMETRIC   Round \u001B[1;36m0\u001B[0m, collaborator validate_local locally_tuned_model_validation result acc: \u001B[1;36m0.632000\u001B[0m                                   \u001B]8;id=740606;file:///home/p/Desktop/Programs/Python/openfl/openfl/openfl/component/aggregator/aggregator.py\u001B\\\u001B[2maggregator.py\u001B[0m\u001B]8;;\u001B\\\u001B[2m:\u001B[0m\u001B]8;id=352541;file:///home/p/Desktop/Programs/Python/openfl/openfl/openfl/component/aggregator/aggregator.py#559\u001B\\\u001B[2m559\u001B[0m\u001B]8;;\u001B\\\n",
      "text/html": "<pre style=\"white-space:pre;overflow-x:auto;line-height:normal;font-family:Menlo,'DejaVu Sans Mono',consolas,'Courier New',monospace\"><span style=\"color: #7fbfbf; text-decoration-color: #7fbfbf\">           </span>METRIC   Round <span style=\"color: #008080; text-decoration-color: #008080; font-weight: bold\">0</span>, collaborator validate_local locally_tuned_model_validation result acc: <span style=\"color: #008080; text-decoration-color: #008080; font-weight: bold\">0.632000</span>                                   <a href=\"file:///home/p/Desktop/Programs/Python/openfl/openfl/openfl/component/aggregator/aggregator.py\" target=\"_blank\"><span style=\"color: #7f7f7f; text-decoration-color: #7f7f7f\">aggregator.py</span></a><span style=\"color: #7f7f7f; text-decoration-color: #7f7f7f\">:</span><a href=\"file:///home/p/Desktop/Programs/Python/openfl/openfl/openfl/component/aggregator/aggregator.py#559\" target=\"_blank\"><span style=\"color: #7f7f7f; text-decoration-color: #7f7f7f\">559</span></a>\n</pre>\n"
     },
     "metadata": {},
     "output_type": "display_data"
    },
    {
     "data": {
      "text/plain": "\u001B[2;36m          \u001B[0m\u001B[2;36m \u001B[0mMETRIC   Round \u001B[1;36m0\u001B[0m, aggregator: locally_tuned_model_validation                                                                        \u001B]8;id=141325;file:///home/p/Desktop/Programs/Python/openfl/openfl/openfl/component/aggregator/aggregator.py\u001B\\\u001B[2maggregator.py\u001B[0m\u001B]8;;\u001B\\\u001B[2m:\u001B[0m\u001B]8;id=619037;file:///home/p/Desktop/Programs/Python/openfl/openfl/openfl/component/aggregator/aggregator.py#842\u001B\\\u001B[2m842\u001B[0m\u001B]8;;\u001B\\\n\u001B[2;36m           \u001B[0m         \u001B[1m<\u001B[0m\u001B[1;95mopenfl.interface.aggregation_functions.weighted_average.WeightedAverage\u001B[0m\u001B[39m object at \u001B[0m\u001B[1;36m0x7f2dc10bf580\u001B[0m\u001B[1m>\u001B[0m acc:     \u001B[1;36m0.639200\u001B[0m       \u001B[2m                 \u001B[0m\n",
      "text/html": "<pre style=\"white-space:pre;overflow-x:auto;line-height:normal;font-family:Menlo,'DejaVu Sans Mono',consolas,'Courier New',monospace\"><span style=\"color: #7fbfbf; text-decoration-color: #7fbfbf\">           </span>METRIC   Round <span style=\"color: #008080; text-decoration-color: #008080; font-weight: bold\">0</span>, aggregator: locally_tuned_model_validation                                                                        <a href=\"file:///home/p/Desktop/Programs/Python/openfl/openfl/openfl/component/aggregator/aggregator.py\" target=\"_blank\"><span style=\"color: #7f7f7f; text-decoration-color: #7f7f7f\">aggregator.py</span></a><span style=\"color: #7f7f7f; text-decoration-color: #7f7f7f\">:</span><a href=\"file:///home/p/Desktop/Programs/Python/openfl/openfl/openfl/component/aggregator/aggregator.py#842\" target=\"_blank\"><span style=\"color: #7f7f7f; text-decoration-color: #7f7f7f\">842</span></a>\n<span style=\"color: #7fbfbf; text-decoration-color: #7fbfbf\">           </span>         <span style=\"font-weight: bold\">&lt;</span><span style=\"color: #ff00ff; text-decoration-color: #ff00ff; font-weight: bold\">openfl.interface.aggregation_functions.weighted_average.WeightedAverage</span><span style=\"color: #000000; text-decoration-color: #000000\"> object at </span><span style=\"color: #008080; text-decoration-color: #008080; font-weight: bold\">0x7f2dc10bf580</span><span style=\"font-weight: bold\">&gt;</span> acc:     <span style=\"color: #008080; text-decoration-color: #008080; font-weight: bold\">0.639200</span>       <span style=\"color: #7f7f7f; text-decoration-color: #7f7f7f\">                 </span>\n</pre>\n"
     },
     "metadata": {},
     "output_type": "display_data"
    },
    {
     "data": {
      "text/plain": "\u001B[2;36m          \u001B[0m\u001B[2;36m \u001B[0mMETRIC   Round \u001B[1;36m0\u001B[0m, aggregator: train \u001B[1m<\u001B[0m\u001B[1;95mopenfl.interface.aggregation_functions.weighted_average.WeightedAverage\u001B[0m\u001B[39m object at \u001B[0m             \u001B]8;id=752054;file:///home/p/Desktop/Programs/Python/openfl/openfl/openfl/component/aggregator/aggregator.py\u001B\\\u001B[2maggregator.py\u001B[0m\u001B]8;;\u001B\\\u001B[2m:\u001B[0m\u001B]8;id=469395;file:///home/p/Desktop/Programs/Python/openfl/openfl/openfl/component/aggregator/aggregator.py#842\u001B\\\u001B[2m842\u001B[0m\u001B]8;;\u001B\\\n\u001B[2;36m           \u001B[0m         \u001B[1;36m0x7f2dc10bf580\u001B[0m\u001B[1m>\u001B[0m cross_entropy:    \u001B[1;36m0.292984\u001B[0m                                                                                 \u001B[2m                 \u001B[0m\n",
      "text/html": "<pre style=\"white-space:pre;overflow-x:auto;line-height:normal;font-family:Menlo,'DejaVu Sans Mono',consolas,'Courier New',monospace\"><span style=\"color: #7fbfbf; text-decoration-color: #7fbfbf\">           </span>METRIC   Round <span style=\"color: #008080; text-decoration-color: #008080; font-weight: bold\">0</span>, aggregator: train <span style=\"font-weight: bold\">&lt;</span><span style=\"color: #ff00ff; text-decoration-color: #ff00ff; font-weight: bold\">openfl.interface.aggregation_functions.weighted_average.WeightedAverage</span><span style=\"color: #000000; text-decoration-color: #000000\"> object at </span>             <a href=\"file:///home/p/Desktop/Programs/Python/openfl/openfl/openfl/component/aggregator/aggregator.py\" target=\"_blank\"><span style=\"color: #7f7f7f; text-decoration-color: #7f7f7f\">aggregator.py</span></a><span style=\"color: #7f7f7f; text-decoration-color: #7f7f7f\">:</span><a href=\"file:///home/p/Desktop/Programs/Python/openfl/openfl/openfl/component/aggregator/aggregator.py#842\" target=\"_blank\"><span style=\"color: #7f7f7f; text-decoration-color: #7f7f7f\">842</span></a>\n<span style=\"color: #7fbfbf; text-decoration-color: #7fbfbf\">           </span>         <span style=\"color: #008080; text-decoration-color: #008080; font-weight: bold\">0x7f2dc10bf580</span><span style=\"font-weight: bold\">&gt;</span> cross_entropy:    <span style=\"color: #008080; text-decoration-color: #008080; font-weight: bold\">0.292984</span>                                                                                 <span style=\"color: #7f7f7f; text-decoration-color: #7f7f7f\">                 </span>\n</pre>\n"
     },
     "metadata": {},
     "output_type": "display_data"
    },
    {
     "data": {
      "text/plain": "\u001B[2;36m          \u001B[0m\u001B[2;36m \u001B[0mMETRIC   Round \u001B[1;36m0\u001B[0m, aggregator: aggregated_model_validation \u001B[1m<\u001B[0m\u001B[1;95mopenfl.interface.aggregation_functions.weighted_average.WeightedAverage\u001B[0m\u001B[39m \u001B[0m \u001B]8;id=431306;file:///home/p/Desktop/Programs/Python/openfl/openfl/openfl/component/aggregator/aggregator.py\u001B\\\u001B[2maggregator.py\u001B[0m\u001B]8;;\u001B\\\u001B[2m:\u001B[0m\u001B]8;id=223682;file:///home/p/Desktop/Programs/Python/openfl/openfl/openfl/component/aggregator/aggregator.py#842\u001B\\\u001B[2m842\u001B[0m\u001B]8;;\u001B\\\n\u001B[2;36m           \u001B[0m         \u001B[39mobject at \u001B[0m\u001B[1;36m0x7f2dc10bf580\u001B[0m\u001B[1m>\u001B[0m acc:        \u001B[1;36m0.598200\u001B[0m                                                                             \u001B[2m                 \u001B[0m\n",
      "text/html": "<pre style=\"white-space:pre;overflow-x:auto;line-height:normal;font-family:Menlo,'DejaVu Sans Mono',consolas,'Courier New',monospace\"><span style=\"color: #7fbfbf; text-decoration-color: #7fbfbf\">           </span>METRIC   Round <span style=\"color: #008080; text-decoration-color: #008080; font-weight: bold\">0</span>, aggregator: aggregated_model_validation <span style=\"font-weight: bold\">&lt;</span><span style=\"color: #ff00ff; text-decoration-color: #ff00ff; font-weight: bold\">openfl.interface.aggregation_functions.weighted_average.WeightedAverage</span><span style=\"color: #000000; text-decoration-color: #000000\"> </span> <a href=\"file:///home/p/Desktop/Programs/Python/openfl/openfl/openfl/component/aggregator/aggregator.py\" target=\"_blank\"><span style=\"color: #7f7f7f; text-decoration-color: #7f7f7f\">aggregator.py</span></a><span style=\"color: #7f7f7f; text-decoration-color: #7f7f7f\">:</span><a href=\"file:///home/p/Desktop/Programs/Python/openfl/openfl/openfl/component/aggregator/aggregator.py#842\" target=\"_blank\"><span style=\"color: #7f7f7f; text-decoration-color: #7f7f7f\">842</span></a>\n<span style=\"color: #7fbfbf; text-decoration-color: #7fbfbf\">           </span>         <span style=\"color: #000000; text-decoration-color: #000000\">object at </span><span style=\"color: #008080; text-decoration-color: #008080; font-weight: bold\">0x7f2dc10bf580</span><span style=\"font-weight: bold\">&gt;</span> acc:        <span style=\"color: #008080; text-decoration-color: #008080; font-weight: bold\">0.598200</span>                                                                             <span style=\"color: #7f7f7f; text-decoration-color: #7f7f7f\">                 </span>\n</pre>\n"
     },
     "metadata": {},
     "output_type": "display_data"
    },
    {
     "data": {
      "text/plain": "\u001B[2;36m          \u001B[0m\u001B[2;36m \u001B[0mMETRIC   Round \u001B[1;36m0\u001B[0m: saved the best model with score \u001B[1;36m0.598200\u001B[0m                                                                          \u001B]8;id=343958;file:///home/p/Desktop/Programs/Python/openfl/openfl/openfl/component/aggregator/aggregator.py\u001B\\\u001B[2maggregator.py\u001B[0m\u001B]8;;\u001B\\\u001B[2m:\u001B[0m\u001B]8;id=492518;file:///home/p/Desktop/Programs/Python/openfl/openfl/openfl/component/aggregator/aggregator.py#858\u001B\\\u001B[2m858\u001B[0m\u001B]8;;\u001B\\\n",
      "text/html": "<pre style=\"white-space:pre;overflow-x:auto;line-height:normal;font-family:Menlo,'DejaVu Sans Mono',consolas,'Courier New',monospace\"><span style=\"color: #7fbfbf; text-decoration-color: #7fbfbf\">           </span>METRIC   Round <span style=\"color: #008080; text-decoration-color: #008080; font-weight: bold\">0</span>: saved the best model with score <span style=\"color: #008080; text-decoration-color: #008080; font-weight: bold\">0.598200</span>                                                                          <a href=\"file:///home/p/Desktop/Programs/Python/openfl/openfl/openfl/component/aggregator/aggregator.py\" target=\"_blank\"><span style=\"color: #7f7f7f; text-decoration-color: #7f7f7f\">aggregator.py</span></a><span style=\"color: #7f7f7f; text-decoration-color: #7f7f7f\">:</span><a href=\"file:///home/p/Desktop/Programs/Python/openfl/openfl/openfl/component/aggregator/aggregator.py#858\" target=\"_blank\"><span style=\"color: #7f7f7f; text-decoration-color: #7f7f7f\">858</span></a>\n</pre>\n"
     },
     "metadata": {},
     "output_type": "display_data"
    },
    {
     "data": {
      "text/plain": "\u001B[2;36m          \u001B[0m\u001B[2;36m \u001B[0m\u001B[31mWARNING \u001B[0m tried to remove tensor: __opt_state_needed not present in the tensor dict                                                       \u001B]8;id=94995;file:///home/p/Desktop/Programs/Python/openfl/openfl/openfl/utilities/utils.py\u001B\\\u001B[2mutils.py\u001B[0m\u001B]8;;\u001B\\\u001B[2m:\u001B[0m\u001B]8;id=454979;file:///home/p/Desktop/Programs/Python/openfl/openfl/openfl/utilities/utils.py#172\u001B\\\u001B[2m172\u001B[0m\u001B]8;;\u001B\\\n",
      "text/html": "<pre style=\"white-space:pre;overflow-x:auto;line-height:normal;font-family:Menlo,'DejaVu Sans Mono',consolas,'Courier New',monospace\"><span style=\"color: #7fbfbf; text-decoration-color: #7fbfbf\">           </span><span style=\"color: #800000; text-decoration-color: #800000\">WARNING </span> tried to remove tensor: __opt_state_needed not present in the tensor dict                                                       <a href=\"file:///home/p/Desktop/Programs/Python/openfl/openfl/openfl/utilities/utils.py\" target=\"_blank\"><span style=\"color: #7f7f7f; text-decoration-color: #7f7f7f\">utils.py</span></a><span style=\"color: #7f7f7f; text-decoration-color: #7f7f7f\">:</span><a href=\"file:///home/p/Desktop/Programs/Python/openfl/openfl/openfl/utilities/utils.py#172\" target=\"_blank\"><span style=\"color: #7f7f7f; text-decoration-color: #7f7f7f\">172</span></a>\n</pre>\n"
     },
     "metadata": {},
     "output_type": "display_data"
    },
    {
     "data": {
      "text/plain": "\u001B[2;36m          \u001B[0m\u001B[2;36m \u001B[0m\u001B[31mWARNING \u001B[0m tried to remove tensor: __opt_state_needed not present in the tensor dict                                                       \u001B]8;id=177095;file:///home/p/Desktop/Programs/Python/openfl/openfl/openfl/utilities/utils.py\u001B\\\u001B[2mutils.py\u001B[0m\u001B]8;;\u001B\\\u001B[2m:\u001B[0m\u001B]8;id=886429;file:///home/p/Desktop/Programs/Python/openfl/openfl/openfl/utilities/utils.py#172\u001B\\\u001B[2m172\u001B[0m\u001B]8;;\u001B\\\n",
      "text/html": "<pre style=\"white-space:pre;overflow-x:auto;line-height:normal;font-family:Menlo,'DejaVu Sans Mono',consolas,'Courier New',monospace\"><span style=\"color: #7fbfbf; text-decoration-color: #7fbfbf\">           </span><span style=\"color: #800000; text-decoration-color: #800000\">WARNING </span> tried to remove tensor: __opt_state_needed not present in the tensor dict                                                       <a href=\"file:///home/p/Desktop/Programs/Python/openfl/openfl/openfl/utilities/utils.py\" target=\"_blank\"><span style=\"color: #7f7f7f; text-decoration-color: #7f7f7f\">utils.py</span></a><span style=\"color: #7f7f7f; text-decoration-color: #7f7f7f\">:</span><a href=\"file:///home/p/Desktop/Programs/Python/openfl/openfl/openfl/utilities/utils.py#172\" target=\"_blank\"><span style=\"color: #7f7f7f; text-decoration-color: #7f7f7f\">172</span></a>\n</pre>\n"
     },
     "metadata": {},
     "output_type": "display_data"
    },
    {
     "data": {
      "text/plain": "\u001B[2;36m          \u001B[0m\u001B[2;36m \u001B[0m\u001B[31mWARNING \u001B[0m tried to remove tensor: __opt_state_needed not present in the tensor dict                                                       \u001B]8;id=681677;file:///home/p/Desktop/Programs/Python/openfl/openfl/openfl/utilities/utils.py\u001B\\\u001B[2mutils.py\u001B[0m\u001B]8;;\u001B\\\u001B[2m:\u001B[0m\u001B]8;id=605185;file:///home/p/Desktop/Programs/Python/openfl/openfl/openfl/utilities/utils.py#172\u001B\\\u001B[2m172\u001B[0m\u001B]8;;\u001B\\\n",
      "text/html": "<pre style=\"white-space:pre;overflow-x:auto;line-height:normal;font-family:Menlo,'DejaVu Sans Mono',consolas,'Courier New',monospace\"><span style=\"color: #7fbfbf; text-decoration-color: #7fbfbf\">           </span><span style=\"color: #800000; text-decoration-color: #800000\">WARNING </span> tried to remove tensor: __opt_state_needed not present in the tensor dict                                                       <a href=\"file:///home/p/Desktop/Programs/Python/openfl/openfl/openfl/utilities/utils.py\" target=\"_blank\"><span style=\"color: #7f7f7f; text-decoration-color: #7f7f7f\">utils.py</span></a><span style=\"color: #7f7f7f; text-decoration-color: #7f7f7f\">:</span><a href=\"file:///home/p/Desktop/Programs/Python/openfl/openfl/openfl/utilities/utils.py#172\" target=\"_blank\"><span style=\"color: #7f7f7f; text-decoration-color: #7f7f7f\">172</span></a>\n</pre>\n"
     },
     "metadata": {},
     "output_type": "display_data"
    },
    {
     "data": {
      "text/plain": "\u001B[2;36m          \u001B[0m\u001B[2;36m \u001B[0m\u001B[31mWARNING \u001B[0m tried to remove tensor: __opt_state_needed not present in the tensor dict                                                       \u001B]8;id=175089;file:///home/p/Desktop/Programs/Python/openfl/openfl/openfl/utilities/utils.py\u001B\\\u001B[2mutils.py\u001B[0m\u001B]8;;\u001B\\\u001B[2m:\u001B[0m\u001B]8;id=758408;file:///home/p/Desktop/Programs/Python/openfl/openfl/openfl/utilities/utils.py#172\u001B\\\u001B[2m172\u001B[0m\u001B]8;;\u001B\\\n",
      "text/html": "<pre style=\"white-space:pre;overflow-x:auto;line-height:normal;font-family:Menlo,'DejaVu Sans Mono',consolas,'Courier New',monospace\"><span style=\"color: #7fbfbf; text-decoration-color: #7fbfbf\">           </span><span style=\"color: #800000; text-decoration-color: #800000\">WARNING </span> tried to remove tensor: __opt_state_needed not present in the tensor dict                                                       <a href=\"file:///home/p/Desktop/Programs/Python/openfl/openfl/openfl/utilities/utils.py\" target=\"_blank\"><span style=\"color: #7f7f7f; text-decoration-color: #7f7f7f\">utils.py</span></a><span style=\"color: #7f7f7f; text-decoration-color: #7f7f7f\">:</span><a href=\"file:///home/p/Desktop/Programs/Python/openfl/openfl/openfl/utilities/utils.py#172\" target=\"_blank\"><span style=\"color: #7f7f7f; text-decoration-color: #7f7f7f\">172</span></a>\n</pre>\n"
     },
     "metadata": {},
     "output_type": "display_data"
    },
    {
     "data": {
      "text/plain": "\u001B[2;36m          \u001B[0m\u001B[2;36m \u001B[0m\u001B[31mWARNING \u001B[0m tried to remove tensor: __opt_state_needed not present in the tensor dict                                                       \u001B]8;id=178458;file:///home/p/Desktop/Programs/Python/openfl/openfl/openfl/utilities/utils.py\u001B\\\u001B[2mutils.py\u001B[0m\u001B]8;;\u001B\\\u001B[2m:\u001B[0m\u001B]8;id=45439;file:///home/p/Desktop/Programs/Python/openfl/openfl/openfl/utilities/utils.py#172\u001B\\\u001B[2m172\u001B[0m\u001B]8;;\u001B\\\n",
      "text/html": "<pre style=\"white-space:pre;overflow-x:auto;line-height:normal;font-family:Menlo,'DejaVu Sans Mono',consolas,'Courier New',monospace\"><span style=\"color: #7fbfbf; text-decoration-color: #7fbfbf\">           </span><span style=\"color: #800000; text-decoration-color: #800000\">WARNING </span> tried to remove tensor: __opt_state_needed not present in the tensor dict                                                       <a href=\"file:///home/p/Desktop/Programs/Python/openfl/openfl/openfl/utilities/utils.py\" target=\"_blank\"><span style=\"color: #7f7f7f; text-decoration-color: #7f7f7f\">utils.py</span></a><span style=\"color: #7f7f7f; text-decoration-color: #7f7f7f\">:</span><a href=\"file:///home/p/Desktop/Programs/Python/openfl/openfl/openfl/utilities/utils.py#172\" target=\"_blank\"><span style=\"color: #7f7f7f; text-decoration-color: #7f7f7f\">172</span></a>\n</pre>\n"
     },
     "metadata": {},
     "output_type": "display_data"
    },
    {
     "data": {
      "text/plain": "\u001B[2;36m[18:56:57]\u001B[0m\u001B[2;36m \u001B[0mMETRIC   Round \u001B[1;36m0\u001B[0m, collaborator one is sending metric for task aggregated_model_validation: acc   \u001B[1;36m0.642400\u001B[0m                         \u001B]8;id=508295;file:///home/p/Desktop/Programs/Python/openfl/openfl/openfl/component/collaborator/collaborator.py\u001B\\\u001B[2mcollaborator.py\u001B[0m\u001B]8;;\u001B\\\u001B[2m:\u001B[0m\u001B]8;id=777485;file:///home/p/Desktop/Programs/Python/openfl/openfl/openfl/component/collaborator/collaborator.py#415\u001B\\\u001B[2m415\u001B[0m\u001B]8;;\u001B\\\n",
      "text/html": "<pre style=\"white-space:pre;overflow-x:auto;line-height:normal;font-family:Menlo,'DejaVu Sans Mono',consolas,'Courier New',monospace\"><span style=\"color: #7fbfbf; text-decoration-color: #7fbfbf\">[18:56:57] </span>METRIC   Round <span style=\"color: #008080; text-decoration-color: #008080; font-weight: bold\">0</span>, collaborator one is sending metric for task aggregated_model_validation: acc   <span style=\"color: #008080; text-decoration-color: #008080; font-weight: bold\">0.642400</span>                         <a href=\"file:///home/p/Desktop/Programs/Python/openfl/openfl/openfl/component/collaborator/collaborator.py\" target=\"_blank\"><span style=\"color: #7f7f7f; text-decoration-color: #7f7f7f\">collaborator.py</span></a><span style=\"color: #7f7f7f; text-decoration-color: #7f7f7f\">:</span><a href=\"file:///home/p/Desktop/Programs/Python/openfl/openfl/openfl/component/collaborator/collaborator.py#415\" target=\"_blank\"><span style=\"color: #7f7f7f; text-decoration-color: #7f7f7f\">415</span></a>\n</pre>\n"
     },
     "metadata": {},
     "output_type": "display_data"
    },
    {
     "data": {
      "text/plain": "\u001B[2;36m          \u001B[0m\u001B[2;36m \u001B[0mMETRIC   Round \u001B[1;36m0\u001B[0m, collaborator validate_agg aggregated_model_validation result acc:      \u001B[1;36m0.642400\u001B[0m                                   \u001B]8;id=92814;file:///home/p/Desktop/Programs/Python/openfl/openfl/openfl/component/aggregator/aggregator.py\u001B\\\u001B[2maggregator.py\u001B[0m\u001B]8;;\u001B\\\u001B[2m:\u001B[0m\u001B]8;id=899177;file:///home/p/Desktop/Programs/Python/openfl/openfl/openfl/component/aggregator/aggregator.py#559\u001B\\\u001B[2m559\u001B[0m\u001B]8;;\u001B\\\n",
      "text/html": "<pre style=\"white-space:pre;overflow-x:auto;line-height:normal;font-family:Menlo,'DejaVu Sans Mono',consolas,'Courier New',monospace\"><span style=\"color: #7fbfbf; text-decoration-color: #7fbfbf\">           </span>METRIC   Round <span style=\"color: #008080; text-decoration-color: #008080; font-weight: bold\">0</span>, collaborator validate_agg aggregated_model_validation result acc:      <span style=\"color: #008080; text-decoration-color: #008080; font-weight: bold\">0.642400</span>                                   <a href=\"file:///home/p/Desktop/Programs/Python/openfl/openfl/openfl/component/aggregator/aggregator.py\" target=\"_blank\"><span style=\"color: #7f7f7f; text-decoration-color: #7f7f7f\">aggregator.py</span></a><span style=\"color: #7f7f7f; text-decoration-color: #7f7f7f\">:</span><a href=\"file:///home/p/Desktop/Programs/Python/openfl/openfl/openfl/component/aggregator/aggregator.py#559\" target=\"_blank\"><span style=\"color: #7f7f7f; text-decoration-color: #7f7f7f\">559</span></a>\n</pre>\n"
     },
     "metadata": {},
     "output_type": "display_data"
    },
    {
     "data": {
      "text/plain": "\u001B[2;36m          \u001B[0m\u001B[2;36m \u001B[0m\u001B[31mWARNING \u001B[0m tried to remove tensor: __opt_state_needed not present in the tensor dict                                                       \u001B]8;id=589292;file:///home/p/Desktop/Programs/Python/openfl/openfl/openfl/utilities/utils.py\u001B\\\u001B[2mutils.py\u001B[0m\u001B]8;;\u001B\\\u001B[2m:\u001B[0m\u001B]8;id=583330;file:///home/p/Desktop/Programs/Python/openfl/openfl/openfl/utilities/utils.py#172\u001B\\\u001B[2m172\u001B[0m\u001B]8;;\u001B\\\n",
      "text/html": "<pre style=\"white-space:pre;overflow-x:auto;line-height:normal;font-family:Menlo,'DejaVu Sans Mono',consolas,'Courier New',monospace\"><span style=\"color: #7fbfbf; text-decoration-color: #7fbfbf\">           </span><span style=\"color: #800000; text-decoration-color: #800000\">WARNING </span> tried to remove tensor: __opt_state_needed not present in the tensor dict                                                       <a href=\"file:///home/p/Desktop/Programs/Python/openfl/openfl/openfl/utilities/utils.py\" target=\"_blank\"><span style=\"color: #7f7f7f; text-decoration-color: #7f7f7f\">utils.py</span></a><span style=\"color: #7f7f7f; text-decoration-color: #7f7f7f\">:</span><a href=\"file:///home/p/Desktop/Programs/Python/openfl/openfl/openfl/utilities/utils.py#172\" target=\"_blank\"><span style=\"color: #7f7f7f; text-decoration-color: #7f7f7f\">172</span></a>\n</pre>\n"
     },
     "metadata": {},
     "output_type": "display_data"
    },
    {
     "data": {
      "text/plain": "\u001B[2;36m          \u001B[0m\u001B[2;36m \u001B[0mMETRIC   Round \u001B[1;36m0\u001B[0m, collaborator one is sending metric for task train: cross_entropy       \u001B[1;36m0.269034\u001B[0m                                 \u001B]8;id=831770;file:///home/p/Desktop/Programs/Python/openfl/openfl/openfl/component/collaborator/collaborator.py\u001B\\\u001B[2mcollaborator.py\u001B[0m\u001B]8;;\u001B\\\u001B[2m:\u001B[0m\u001B]8;id=953328;file:///home/p/Desktop/Programs/Python/openfl/openfl/openfl/component/collaborator/collaborator.py#415\u001B\\\u001B[2m415\u001B[0m\u001B]8;;\u001B\\\n",
      "text/html": "<pre style=\"white-space:pre;overflow-x:auto;line-height:normal;font-family:Menlo,'DejaVu Sans Mono',consolas,'Courier New',monospace\"><span style=\"color: #7fbfbf; text-decoration-color: #7fbfbf\">           </span>METRIC   Round <span style=\"color: #008080; text-decoration-color: #008080; font-weight: bold\">0</span>, collaborator one is sending metric for task train: cross_entropy       <span style=\"color: #008080; text-decoration-color: #008080; font-weight: bold\">0.269034</span>                                 <a href=\"file:///home/p/Desktop/Programs/Python/openfl/openfl/openfl/component/collaborator/collaborator.py\" target=\"_blank\"><span style=\"color: #7f7f7f; text-decoration-color: #7f7f7f\">collaborator.py</span></a><span style=\"color: #7f7f7f; text-decoration-color: #7f7f7f\">:</span><a href=\"file:///home/p/Desktop/Programs/Python/openfl/openfl/openfl/component/collaborator/collaborator.py#415\" target=\"_blank\"><span style=\"color: #7f7f7f; text-decoration-color: #7f7f7f\">415</span></a>\n</pre>\n"
     },
     "metadata": {},
     "output_type": "display_data"
    },
    {
     "data": {
      "text/plain": "\u001B[2;36m          \u001B[0m\u001B[2;36m \u001B[0mMETRIC   Round \u001B[1;36m0\u001B[0m, collaborator one train result cross_entropy:   \u001B[1;36m0.269034\u001B[0m                                                           \u001B]8;id=575757;file:///home/p/Desktop/Programs/Python/openfl/openfl/openfl/component/aggregator/aggregator.py\u001B\\\u001B[2maggregator.py\u001B[0m\u001B]8;;\u001B\\\u001B[2m:\u001B[0m\u001B]8;id=623376;file:///home/p/Desktop/Programs/Python/openfl/openfl/openfl/component/aggregator/aggregator.py#559\u001B\\\u001B[2m559\u001B[0m\u001B]8;;\u001B\\\n",
      "text/html": "<pre style=\"white-space:pre;overflow-x:auto;line-height:normal;font-family:Menlo,'DejaVu Sans Mono',consolas,'Courier New',monospace\"><span style=\"color: #7fbfbf; text-decoration-color: #7fbfbf\">           </span>METRIC   Round <span style=\"color: #008080; text-decoration-color: #008080; font-weight: bold\">0</span>, collaborator one train result cross_entropy:   <span style=\"color: #008080; text-decoration-color: #008080; font-weight: bold\">0.269034</span>                                                           <a href=\"file:///home/p/Desktop/Programs/Python/openfl/openfl/openfl/component/aggregator/aggregator.py\" target=\"_blank\"><span style=\"color: #7f7f7f; text-decoration-color: #7f7f7f\">aggregator.py</span></a><span style=\"color: #7f7f7f; text-decoration-color: #7f7f7f\">:</span><a href=\"file:///home/p/Desktop/Programs/Python/openfl/openfl/openfl/component/aggregator/aggregator.py#559\" target=\"_blank\"><span style=\"color: #7f7f7f; text-decoration-color: #7f7f7f\">559</span></a>\n</pre>\n"
     },
     "metadata": {},
     "output_type": "display_data"
    },
    {
     "data": {
      "text/plain": "\u001B[2;36m          \u001B[0m\u001B[2;36m \u001B[0mMETRIC   Round \u001B[1;36m0\u001B[0m, collaborator one is sending metric for task locally_tuned_model_validation: acc        \u001B[1;36m0.675600\u001B[0m                 \u001B]8;id=273378;file:///home/p/Desktop/Programs/Python/openfl/openfl/openfl/component/collaborator/collaborator.py\u001B\\\u001B[2mcollaborator.py\u001B[0m\u001B]8;;\u001B\\\u001B[2m:\u001B[0m\u001B]8;id=262301;file:///home/p/Desktop/Programs/Python/openfl/openfl/openfl/component/collaborator/collaborator.py#415\u001B\\\u001B[2m415\u001B[0m\u001B]8;;\u001B\\\n",
      "text/html": "<pre style=\"white-space:pre;overflow-x:auto;line-height:normal;font-family:Menlo,'DejaVu Sans Mono',consolas,'Courier New',monospace\"><span style=\"color: #7fbfbf; text-decoration-color: #7fbfbf\">           </span>METRIC   Round <span style=\"color: #008080; text-decoration-color: #008080; font-weight: bold\">0</span>, collaborator one is sending metric for task locally_tuned_model_validation: acc        <span style=\"color: #008080; text-decoration-color: #008080; font-weight: bold\">0.675600</span>                 <a href=\"file:///home/p/Desktop/Programs/Python/openfl/openfl/openfl/component/collaborator/collaborator.py\" target=\"_blank\"><span style=\"color: #7f7f7f; text-decoration-color: #7f7f7f\">collaborator.py</span></a><span style=\"color: #7f7f7f; text-decoration-color: #7f7f7f\">:</span><a href=\"file:///home/p/Desktop/Programs/Python/openfl/openfl/openfl/component/collaborator/collaborator.py#415\" target=\"_blank\"><span style=\"color: #7f7f7f; text-decoration-color: #7f7f7f\">415</span></a>\n</pre>\n"
     },
     "metadata": {},
     "output_type": "display_data"
    },
    {
     "data": {
      "text/plain": "\u001B[2;36m          \u001B[0m\u001B[2;36m \u001B[0mMETRIC   Round \u001B[1;36m0\u001B[0m, collaborator validate_local locally_tuned_model_validation result acc: \u001B[1;36m0.675600\u001B[0m                                   \u001B]8;id=285044;file:///home/p/Desktop/Programs/Python/openfl/openfl/openfl/component/aggregator/aggregator.py\u001B\\\u001B[2maggregator.py\u001B[0m\u001B]8;;\u001B\\\u001B[2m:\u001B[0m\u001B]8;id=960297;file:///home/p/Desktop/Programs/Python/openfl/openfl/openfl/component/aggregator/aggregator.py#559\u001B\\\u001B[2m559\u001B[0m\u001B]8;;\u001B\\\n",
      "text/html": "<pre style=\"white-space:pre;overflow-x:auto;line-height:normal;font-family:Menlo,'DejaVu Sans Mono',consolas,'Courier New',monospace\"><span style=\"color: #7fbfbf; text-decoration-color: #7fbfbf\">           </span>METRIC   Round <span style=\"color: #008080; text-decoration-color: #008080; font-weight: bold\">0</span>, collaborator validate_local locally_tuned_model_validation result acc: <span style=\"color: #008080; text-decoration-color: #008080; font-weight: bold\">0.675600</span>                                   <a href=\"file:///home/p/Desktop/Programs/Python/openfl/openfl/openfl/component/aggregator/aggregator.py\" target=\"_blank\"><span style=\"color: #7f7f7f; text-decoration-color: #7f7f7f\">aggregator.py</span></a><span style=\"color: #7f7f7f; text-decoration-color: #7f7f7f\">:</span><a href=\"file:///home/p/Desktop/Programs/Python/openfl/openfl/openfl/component/aggregator/aggregator.py#559\" target=\"_blank\"><span style=\"color: #7f7f7f; text-decoration-color: #7f7f7f\">559</span></a>\n</pre>\n"
     },
     "metadata": {},
     "output_type": "display_data"
    },
    {
     "data": {
      "text/plain": "\u001B[2;36m          \u001B[0m\u001B[2;36m \u001B[0mMETRIC   Round \u001B[1;36m0\u001B[0m, collaborator two is sending metric for task aggregated_model_validation: acc   \u001B[1;36m0.652800\u001B[0m                         \u001B]8;id=702168;file:///home/p/Desktop/Programs/Python/openfl/openfl/openfl/component/collaborator/collaborator.py\u001B\\\u001B[2mcollaborator.py\u001B[0m\u001B]8;;\u001B\\\u001B[2m:\u001B[0m\u001B]8;id=31052;file:///home/p/Desktop/Programs/Python/openfl/openfl/openfl/component/collaborator/collaborator.py#415\u001B\\\u001B[2m415\u001B[0m\u001B]8;;\u001B\\\n",
      "text/html": "<pre style=\"white-space:pre;overflow-x:auto;line-height:normal;font-family:Menlo,'DejaVu Sans Mono',consolas,'Courier New',monospace\"><span style=\"color: #7fbfbf; text-decoration-color: #7fbfbf\">           </span>METRIC   Round <span style=\"color: #008080; text-decoration-color: #008080; font-weight: bold\">0</span>, collaborator two is sending metric for task aggregated_model_validation: acc   <span style=\"color: #008080; text-decoration-color: #008080; font-weight: bold\">0.652800</span>                         <a href=\"file:///home/p/Desktop/Programs/Python/openfl/openfl/openfl/component/collaborator/collaborator.py\" target=\"_blank\"><span style=\"color: #7f7f7f; text-decoration-color: #7f7f7f\">collaborator.py</span></a><span style=\"color: #7f7f7f; text-decoration-color: #7f7f7f\">:</span><a href=\"file:///home/p/Desktop/Programs/Python/openfl/openfl/openfl/component/collaborator/collaborator.py#415\" target=\"_blank\"><span style=\"color: #7f7f7f; text-decoration-color: #7f7f7f\">415</span></a>\n</pre>\n"
     },
     "metadata": {},
     "output_type": "display_data"
    },
    {
     "data": {
      "text/plain": "\u001B[2;36m          \u001B[0m\u001B[2;36m \u001B[0mMETRIC   Round \u001B[1;36m0\u001B[0m, collaborator validate_agg aggregated_model_validation result acc:      \u001B[1;36m0.652800\u001B[0m                                   \u001B]8;id=871922;file:///home/p/Desktop/Programs/Python/openfl/openfl/openfl/component/aggregator/aggregator.py\u001B\\\u001B[2maggregator.py\u001B[0m\u001B]8;;\u001B\\\u001B[2m:\u001B[0m\u001B]8;id=545720;file:///home/p/Desktop/Programs/Python/openfl/openfl/openfl/component/aggregator/aggregator.py#559\u001B\\\u001B[2m559\u001B[0m\u001B]8;;\u001B\\\n",
      "text/html": "<pre style=\"white-space:pre;overflow-x:auto;line-height:normal;font-family:Menlo,'DejaVu Sans Mono',consolas,'Courier New',monospace\"><span style=\"color: #7fbfbf; text-decoration-color: #7fbfbf\">           </span>METRIC   Round <span style=\"color: #008080; text-decoration-color: #008080; font-weight: bold\">0</span>, collaborator validate_agg aggregated_model_validation result acc:      <span style=\"color: #008080; text-decoration-color: #008080; font-weight: bold\">0.652800</span>                                   <a href=\"file:///home/p/Desktop/Programs/Python/openfl/openfl/openfl/component/aggregator/aggregator.py\" target=\"_blank\"><span style=\"color: #7f7f7f; text-decoration-color: #7f7f7f\">aggregator.py</span></a><span style=\"color: #7f7f7f; text-decoration-color: #7f7f7f\">:</span><a href=\"file:///home/p/Desktop/Programs/Python/openfl/openfl/openfl/component/aggregator/aggregator.py#559\" target=\"_blank\"><span style=\"color: #7f7f7f; text-decoration-color: #7f7f7f\">559</span></a>\n</pre>\n"
     },
     "metadata": {},
     "output_type": "display_data"
    },
    {
     "data": {
      "text/plain": "\u001B[2;36m[18:56:58]\u001B[0m\u001B[2;36m \u001B[0m\u001B[31mWARNING \u001B[0m tried to remove tensor: __opt_state_needed not present in the tensor dict                                                       \u001B]8;id=805645;file:///home/p/Desktop/Programs/Python/openfl/openfl/openfl/utilities/utils.py\u001B\\\u001B[2mutils.py\u001B[0m\u001B]8;;\u001B\\\u001B[2m:\u001B[0m\u001B]8;id=904381;file:///home/p/Desktop/Programs/Python/openfl/openfl/openfl/utilities/utils.py#172\u001B\\\u001B[2m172\u001B[0m\u001B]8;;\u001B\\\n",
      "text/html": "<pre style=\"white-space:pre;overflow-x:auto;line-height:normal;font-family:Menlo,'DejaVu Sans Mono',consolas,'Courier New',monospace\"><span style=\"color: #7fbfbf; text-decoration-color: #7fbfbf\">[18:56:58] </span><span style=\"color: #800000; text-decoration-color: #800000\">WARNING </span> tried to remove tensor: __opt_state_needed not present in the tensor dict                                                       <a href=\"file:///home/p/Desktop/Programs/Python/openfl/openfl/openfl/utilities/utils.py\" target=\"_blank\"><span style=\"color: #7f7f7f; text-decoration-color: #7f7f7f\">utils.py</span></a><span style=\"color: #7f7f7f; text-decoration-color: #7f7f7f\">:</span><a href=\"file:///home/p/Desktop/Programs/Python/openfl/openfl/openfl/utilities/utils.py#172\" target=\"_blank\"><span style=\"color: #7f7f7f; text-decoration-color: #7f7f7f\">172</span></a>\n</pre>\n"
     },
     "metadata": {},
     "output_type": "display_data"
    },
    {
     "data": {
      "text/plain": "\u001B[2;36m          \u001B[0m\u001B[2;36m \u001B[0mMETRIC   Round \u001B[1;36m0\u001B[0m, collaborator two is sending metric for task train: cross_entropy       \u001B[1;36m0.271206\u001B[0m                                 \u001B]8;id=704982;file:///home/p/Desktop/Programs/Python/openfl/openfl/openfl/component/collaborator/collaborator.py\u001B\\\u001B[2mcollaborator.py\u001B[0m\u001B]8;;\u001B\\\u001B[2m:\u001B[0m\u001B]8;id=951339;file:///home/p/Desktop/Programs/Python/openfl/openfl/openfl/component/collaborator/collaborator.py#415\u001B\\\u001B[2m415\u001B[0m\u001B]8;;\u001B\\\n",
      "text/html": "<pre style=\"white-space:pre;overflow-x:auto;line-height:normal;font-family:Menlo,'DejaVu Sans Mono',consolas,'Courier New',monospace\"><span style=\"color: #7fbfbf; text-decoration-color: #7fbfbf\">           </span>METRIC   Round <span style=\"color: #008080; text-decoration-color: #008080; font-weight: bold\">0</span>, collaborator two is sending metric for task train: cross_entropy       <span style=\"color: #008080; text-decoration-color: #008080; font-weight: bold\">0.271206</span>                                 <a href=\"file:///home/p/Desktop/Programs/Python/openfl/openfl/openfl/component/collaborator/collaborator.py\" target=\"_blank\"><span style=\"color: #7f7f7f; text-decoration-color: #7f7f7f\">collaborator.py</span></a><span style=\"color: #7f7f7f; text-decoration-color: #7f7f7f\">:</span><a href=\"file:///home/p/Desktop/Programs/Python/openfl/openfl/openfl/component/collaborator/collaborator.py#415\" target=\"_blank\"><span style=\"color: #7f7f7f; text-decoration-color: #7f7f7f\">415</span></a>\n</pre>\n"
     },
     "metadata": {},
     "output_type": "display_data"
    },
    {
     "data": {
      "text/plain": "\u001B[2;36m          \u001B[0m\u001B[2;36m \u001B[0mMETRIC   Round \u001B[1;36m0\u001B[0m, collaborator two train result cross_entropy:   \u001B[1;36m0.271206\u001B[0m                                                           \u001B]8;id=558910;file:///home/p/Desktop/Programs/Python/openfl/openfl/openfl/component/aggregator/aggregator.py\u001B\\\u001B[2maggregator.py\u001B[0m\u001B]8;;\u001B\\\u001B[2m:\u001B[0m\u001B]8;id=147521;file:///home/p/Desktop/Programs/Python/openfl/openfl/openfl/component/aggregator/aggregator.py#559\u001B\\\u001B[2m559\u001B[0m\u001B]8;;\u001B\\\n",
      "text/html": "<pre style=\"white-space:pre;overflow-x:auto;line-height:normal;font-family:Menlo,'DejaVu Sans Mono',consolas,'Courier New',monospace\"><span style=\"color: #7fbfbf; text-decoration-color: #7fbfbf\">           </span>METRIC   Round <span style=\"color: #008080; text-decoration-color: #008080; font-weight: bold\">0</span>, collaborator two train result cross_entropy:   <span style=\"color: #008080; text-decoration-color: #008080; font-weight: bold\">0.271206</span>                                                           <a href=\"file:///home/p/Desktop/Programs/Python/openfl/openfl/openfl/component/aggregator/aggregator.py\" target=\"_blank\"><span style=\"color: #7f7f7f; text-decoration-color: #7f7f7f\">aggregator.py</span></a><span style=\"color: #7f7f7f; text-decoration-color: #7f7f7f\">:</span><a href=\"file:///home/p/Desktop/Programs/Python/openfl/openfl/openfl/component/aggregator/aggregator.py#559\" target=\"_blank\"><span style=\"color: #7f7f7f; text-decoration-color: #7f7f7f\">559</span></a>\n</pre>\n"
     },
     "metadata": {},
     "output_type": "display_data"
    },
    {
     "data": {
      "text/plain": "\u001B[2;36m          \u001B[0m\u001B[2;36m \u001B[0mMETRIC   Round \u001B[1;36m0\u001B[0m, collaborator two is sending metric for task locally_tuned_model_validation: acc        \u001B[1;36m0.683600\u001B[0m                 \u001B]8;id=93275;file:///home/p/Desktop/Programs/Python/openfl/openfl/openfl/component/collaborator/collaborator.py\u001B\\\u001B[2mcollaborator.py\u001B[0m\u001B]8;;\u001B\\\u001B[2m:\u001B[0m\u001B]8;id=460218;file:///home/p/Desktop/Programs/Python/openfl/openfl/openfl/component/collaborator/collaborator.py#415\u001B\\\u001B[2m415\u001B[0m\u001B]8;;\u001B\\\n",
      "text/html": "<pre style=\"white-space:pre;overflow-x:auto;line-height:normal;font-family:Menlo,'DejaVu Sans Mono',consolas,'Courier New',monospace\"><span style=\"color: #7fbfbf; text-decoration-color: #7fbfbf\">           </span>METRIC   Round <span style=\"color: #008080; text-decoration-color: #008080; font-weight: bold\">0</span>, collaborator two is sending metric for task locally_tuned_model_validation: acc        <span style=\"color: #008080; text-decoration-color: #008080; font-weight: bold\">0.683600</span>                 <a href=\"file:///home/p/Desktop/Programs/Python/openfl/openfl/openfl/component/collaborator/collaborator.py\" target=\"_blank\"><span style=\"color: #7f7f7f; text-decoration-color: #7f7f7f\">collaborator.py</span></a><span style=\"color: #7f7f7f; text-decoration-color: #7f7f7f\">:</span><a href=\"file:///home/p/Desktop/Programs/Python/openfl/openfl/openfl/component/collaborator/collaborator.py#415\" target=\"_blank\"><span style=\"color: #7f7f7f; text-decoration-color: #7f7f7f\">415</span></a>\n</pre>\n"
     },
     "metadata": {},
     "output_type": "display_data"
    },
    {
     "data": {
      "text/plain": "\u001B[2;36m          \u001B[0m\u001B[2;36m \u001B[0mMETRIC   Round \u001B[1;36m0\u001B[0m, collaborator validate_local locally_tuned_model_validation result acc: \u001B[1;36m0.683600\u001B[0m                                   \u001B]8;id=880533;file:///home/p/Desktop/Programs/Python/openfl/openfl/openfl/component/aggregator/aggregator.py\u001B\\\u001B[2maggregator.py\u001B[0m\u001B]8;;\u001B\\\u001B[2m:\u001B[0m\u001B]8;id=561970;file:///home/p/Desktop/Programs/Python/openfl/openfl/openfl/component/aggregator/aggregator.py#559\u001B\\\u001B[2m559\u001B[0m\u001B]8;;\u001B\\\n",
      "text/html": "<pre style=\"white-space:pre;overflow-x:auto;line-height:normal;font-family:Menlo,'DejaVu Sans Mono',consolas,'Courier New',monospace\"><span style=\"color: #7fbfbf; text-decoration-color: #7fbfbf\">           </span>METRIC   Round <span style=\"color: #008080; text-decoration-color: #008080; font-weight: bold\">0</span>, collaborator validate_local locally_tuned_model_validation result acc: <span style=\"color: #008080; text-decoration-color: #008080; font-weight: bold\">0.683600</span>                                   <a href=\"file:///home/p/Desktop/Programs/Python/openfl/openfl/openfl/component/aggregator/aggregator.py\" target=\"_blank\"><span style=\"color: #7f7f7f; text-decoration-color: #7f7f7f\">aggregator.py</span></a><span style=\"color: #7f7f7f; text-decoration-color: #7f7f7f\">:</span><a href=\"file:///home/p/Desktop/Programs/Python/openfl/openfl/openfl/component/aggregator/aggregator.py#559\" target=\"_blank\"><span style=\"color: #7f7f7f; text-decoration-color: #7f7f7f\">559</span></a>\n</pre>\n"
     },
     "metadata": {},
     "output_type": "display_data"
    },
    {
     "data": {
      "text/plain": "\u001B[2;36m          \u001B[0m\u001B[2;36m \u001B[0mMETRIC   Round \u001B[1;36m0\u001B[0m, collaborator three is sending metric for task aggregated_model_validation: acc \u001B[1;36m0.630800\u001B[0m                         \u001B]8;id=831652;file:///home/p/Desktop/Programs/Python/openfl/openfl/openfl/component/collaborator/collaborator.py\u001B\\\u001B[2mcollaborator.py\u001B[0m\u001B]8;;\u001B\\\u001B[2m:\u001B[0m\u001B]8;id=309723;file:///home/p/Desktop/Programs/Python/openfl/openfl/openfl/component/collaborator/collaborator.py#415\u001B\\\u001B[2m415\u001B[0m\u001B]8;;\u001B\\\n",
      "text/html": "<pre style=\"white-space:pre;overflow-x:auto;line-height:normal;font-family:Menlo,'DejaVu Sans Mono',consolas,'Courier New',monospace\"><span style=\"color: #7fbfbf; text-decoration-color: #7fbfbf\">           </span>METRIC   Round <span style=\"color: #008080; text-decoration-color: #008080; font-weight: bold\">0</span>, collaborator three is sending metric for task aggregated_model_validation: acc <span style=\"color: #008080; text-decoration-color: #008080; font-weight: bold\">0.630800</span>                         <a href=\"file:///home/p/Desktop/Programs/Python/openfl/openfl/openfl/component/collaborator/collaborator.py\" target=\"_blank\"><span style=\"color: #7f7f7f; text-decoration-color: #7f7f7f\">collaborator.py</span></a><span style=\"color: #7f7f7f; text-decoration-color: #7f7f7f\">:</span><a href=\"file:///home/p/Desktop/Programs/Python/openfl/openfl/openfl/component/collaborator/collaborator.py#415\" target=\"_blank\"><span style=\"color: #7f7f7f; text-decoration-color: #7f7f7f\">415</span></a>\n</pre>\n"
     },
     "metadata": {},
     "output_type": "display_data"
    },
    {
     "data": {
      "text/plain": "\u001B[2;36m          \u001B[0m\u001B[2;36m \u001B[0mMETRIC   Round \u001B[1;36m0\u001B[0m, collaborator validate_agg aggregated_model_validation result acc:      \u001B[1;36m0.630800\u001B[0m                                   \u001B]8;id=424194;file:///home/p/Desktop/Programs/Python/openfl/openfl/openfl/component/aggregator/aggregator.py\u001B\\\u001B[2maggregator.py\u001B[0m\u001B]8;;\u001B\\\u001B[2m:\u001B[0m\u001B]8;id=26711;file:///home/p/Desktop/Programs/Python/openfl/openfl/openfl/component/aggregator/aggregator.py#559\u001B\\\u001B[2m559\u001B[0m\u001B]8;;\u001B\\\n",
      "text/html": "<pre style=\"white-space:pre;overflow-x:auto;line-height:normal;font-family:Menlo,'DejaVu Sans Mono',consolas,'Courier New',monospace\"><span style=\"color: #7fbfbf; text-decoration-color: #7fbfbf\">           </span>METRIC   Round <span style=\"color: #008080; text-decoration-color: #008080; font-weight: bold\">0</span>, collaborator validate_agg aggregated_model_validation result acc:      <span style=\"color: #008080; text-decoration-color: #008080; font-weight: bold\">0.630800</span>                                   <a href=\"file:///home/p/Desktop/Programs/Python/openfl/openfl/openfl/component/aggregator/aggregator.py\" target=\"_blank\"><span style=\"color: #7f7f7f; text-decoration-color: #7f7f7f\">aggregator.py</span></a><span style=\"color: #7f7f7f; text-decoration-color: #7f7f7f\">:</span><a href=\"file:///home/p/Desktop/Programs/Python/openfl/openfl/openfl/component/aggregator/aggregator.py#559\" target=\"_blank\"><span style=\"color: #7f7f7f; text-decoration-color: #7f7f7f\">559</span></a>\n</pre>\n"
     },
     "metadata": {},
     "output_type": "display_data"
    },
    {
     "data": {
      "text/plain": "\u001B[2;36m[18:56:59]\u001B[0m\u001B[2;36m \u001B[0m\u001B[31mWARNING \u001B[0m tried to remove tensor: __opt_state_needed not present in the tensor dict                                                       \u001B]8;id=112650;file:///home/p/Desktop/Programs/Python/openfl/openfl/openfl/utilities/utils.py\u001B\\\u001B[2mutils.py\u001B[0m\u001B]8;;\u001B\\\u001B[2m:\u001B[0m\u001B]8;id=83755;file:///home/p/Desktop/Programs/Python/openfl/openfl/openfl/utilities/utils.py#172\u001B\\\u001B[2m172\u001B[0m\u001B]8;;\u001B\\\n",
      "text/html": "<pre style=\"white-space:pre;overflow-x:auto;line-height:normal;font-family:Menlo,'DejaVu Sans Mono',consolas,'Courier New',monospace\"><span style=\"color: #7fbfbf; text-decoration-color: #7fbfbf\">[18:56:59] </span><span style=\"color: #800000; text-decoration-color: #800000\">WARNING </span> tried to remove tensor: __opt_state_needed not present in the tensor dict                                                       <a href=\"file:///home/p/Desktop/Programs/Python/openfl/openfl/openfl/utilities/utils.py\" target=\"_blank\"><span style=\"color: #7f7f7f; text-decoration-color: #7f7f7f\">utils.py</span></a><span style=\"color: #7f7f7f; text-decoration-color: #7f7f7f\">:</span><a href=\"file:///home/p/Desktop/Programs/Python/openfl/openfl/openfl/utilities/utils.py#172\" target=\"_blank\"><span style=\"color: #7f7f7f; text-decoration-color: #7f7f7f\">172</span></a>\n</pre>\n"
     },
     "metadata": {},
     "output_type": "display_data"
    },
    {
     "data": {
      "text/plain": "\u001B[2;36m          \u001B[0m\u001B[2;36m \u001B[0mMETRIC   Round \u001B[1;36m0\u001B[0m, collaborator three is sending metric for task train: cross_entropy     \u001B[1;36m0.267915\u001B[0m                                 \u001B]8;id=389056;file:///home/p/Desktop/Programs/Python/openfl/openfl/openfl/component/collaborator/collaborator.py\u001B\\\u001B[2mcollaborator.py\u001B[0m\u001B]8;;\u001B\\\u001B[2m:\u001B[0m\u001B]8;id=275911;file:///home/p/Desktop/Programs/Python/openfl/openfl/openfl/component/collaborator/collaborator.py#415\u001B\\\u001B[2m415\u001B[0m\u001B]8;;\u001B\\\n",
      "text/html": "<pre style=\"white-space:pre;overflow-x:auto;line-height:normal;font-family:Menlo,'DejaVu Sans Mono',consolas,'Courier New',monospace\"><span style=\"color: #7fbfbf; text-decoration-color: #7fbfbf\">           </span>METRIC   Round <span style=\"color: #008080; text-decoration-color: #008080; font-weight: bold\">0</span>, collaborator three is sending metric for task train: cross_entropy     <span style=\"color: #008080; text-decoration-color: #008080; font-weight: bold\">0.267915</span>                                 <a href=\"file:///home/p/Desktop/Programs/Python/openfl/openfl/openfl/component/collaborator/collaborator.py\" target=\"_blank\"><span style=\"color: #7f7f7f; text-decoration-color: #7f7f7f\">collaborator.py</span></a><span style=\"color: #7f7f7f; text-decoration-color: #7f7f7f\">:</span><a href=\"file:///home/p/Desktop/Programs/Python/openfl/openfl/openfl/component/collaborator/collaborator.py#415\" target=\"_blank\"><span style=\"color: #7f7f7f; text-decoration-color: #7f7f7f\">415</span></a>\n</pre>\n"
     },
     "metadata": {},
     "output_type": "display_data"
    },
    {
     "data": {
      "text/plain": "\u001B[2;36m          \u001B[0m\u001B[2;36m \u001B[0mMETRIC   Round \u001B[1;36m0\u001B[0m, collaborator three train result cross_entropy: \u001B[1;36m0.267915\u001B[0m                                                           \u001B]8;id=961246;file:///home/p/Desktop/Programs/Python/openfl/openfl/openfl/component/aggregator/aggregator.py\u001B\\\u001B[2maggregator.py\u001B[0m\u001B]8;;\u001B\\\u001B[2m:\u001B[0m\u001B]8;id=689956;file:///home/p/Desktop/Programs/Python/openfl/openfl/openfl/component/aggregator/aggregator.py#559\u001B\\\u001B[2m559\u001B[0m\u001B]8;;\u001B\\\n",
      "text/html": "<pre style=\"white-space:pre;overflow-x:auto;line-height:normal;font-family:Menlo,'DejaVu Sans Mono',consolas,'Courier New',monospace\"><span style=\"color: #7fbfbf; text-decoration-color: #7fbfbf\">           </span>METRIC   Round <span style=\"color: #008080; text-decoration-color: #008080; font-weight: bold\">0</span>, collaborator three train result cross_entropy: <span style=\"color: #008080; text-decoration-color: #008080; font-weight: bold\">0.267915</span>                                                           <a href=\"file:///home/p/Desktop/Programs/Python/openfl/openfl/openfl/component/aggregator/aggregator.py\" target=\"_blank\"><span style=\"color: #7f7f7f; text-decoration-color: #7f7f7f\">aggregator.py</span></a><span style=\"color: #7f7f7f; text-decoration-color: #7f7f7f\">:</span><a href=\"file:///home/p/Desktop/Programs/Python/openfl/openfl/openfl/component/aggregator/aggregator.py#559\" target=\"_blank\"><span style=\"color: #7f7f7f; text-decoration-color: #7f7f7f\">559</span></a>\n</pre>\n"
     },
     "metadata": {},
     "output_type": "display_data"
    },
    {
     "data": {
      "text/plain": "\u001B[2;36m          \u001B[0m\u001B[2;36m \u001B[0mMETRIC   Round \u001B[1;36m0\u001B[0m, collaborator three is sending metric for task locally_tuned_model_validation: acc      \u001B[1;36m0.668400\u001B[0m                 \u001B]8;id=835914;file:///home/p/Desktop/Programs/Python/openfl/openfl/openfl/component/collaborator/collaborator.py\u001B\\\u001B[2mcollaborator.py\u001B[0m\u001B]8;;\u001B\\\u001B[2m:\u001B[0m\u001B]8;id=778565;file:///home/p/Desktop/Programs/Python/openfl/openfl/openfl/component/collaborator/collaborator.py#415\u001B\\\u001B[2m415\u001B[0m\u001B]8;;\u001B\\\n",
      "text/html": "<pre style=\"white-space:pre;overflow-x:auto;line-height:normal;font-family:Menlo,'DejaVu Sans Mono',consolas,'Courier New',monospace\"><span style=\"color: #7fbfbf; text-decoration-color: #7fbfbf\">           </span>METRIC   Round <span style=\"color: #008080; text-decoration-color: #008080; font-weight: bold\">0</span>, collaborator three is sending metric for task locally_tuned_model_validation: acc      <span style=\"color: #008080; text-decoration-color: #008080; font-weight: bold\">0.668400</span>                 <a href=\"file:///home/p/Desktop/Programs/Python/openfl/openfl/openfl/component/collaborator/collaborator.py\" target=\"_blank\"><span style=\"color: #7f7f7f; text-decoration-color: #7f7f7f\">collaborator.py</span></a><span style=\"color: #7f7f7f; text-decoration-color: #7f7f7f\">:</span><a href=\"file:///home/p/Desktop/Programs/Python/openfl/openfl/openfl/component/collaborator/collaborator.py#415\" target=\"_blank\"><span style=\"color: #7f7f7f; text-decoration-color: #7f7f7f\">415</span></a>\n</pre>\n"
     },
     "metadata": {},
     "output_type": "display_data"
    },
    {
     "data": {
      "text/plain": "\u001B[2;36m          \u001B[0m\u001B[2;36m \u001B[0mMETRIC   Round \u001B[1;36m0\u001B[0m, collaborator validate_local locally_tuned_model_validation result acc: \u001B[1;36m0.668400\u001B[0m                                   \u001B]8;id=863739;file:///home/p/Desktop/Programs/Python/openfl/openfl/openfl/component/aggregator/aggregator.py\u001B\\\u001B[2maggregator.py\u001B[0m\u001B]8;;\u001B\\\u001B[2m:\u001B[0m\u001B]8;id=821284;file:///home/p/Desktop/Programs/Python/openfl/openfl/openfl/component/aggregator/aggregator.py#559\u001B\\\u001B[2m559\u001B[0m\u001B]8;;\u001B\\\n",
      "text/html": "<pre style=\"white-space:pre;overflow-x:auto;line-height:normal;font-family:Menlo,'DejaVu Sans Mono',consolas,'Courier New',monospace\"><span style=\"color: #7fbfbf; text-decoration-color: #7fbfbf\">           </span>METRIC   Round <span style=\"color: #008080; text-decoration-color: #008080; font-weight: bold\">0</span>, collaborator validate_local locally_tuned_model_validation result acc: <span style=\"color: #008080; text-decoration-color: #008080; font-weight: bold\">0.668400</span>                                   <a href=\"file:///home/p/Desktop/Programs/Python/openfl/openfl/openfl/component/aggregator/aggregator.py\" target=\"_blank\"><span style=\"color: #7f7f7f; text-decoration-color: #7f7f7f\">aggregator.py</span></a><span style=\"color: #7f7f7f; text-decoration-color: #7f7f7f\">:</span><a href=\"file:///home/p/Desktop/Programs/Python/openfl/openfl/openfl/component/aggregator/aggregator.py#559\" target=\"_blank\"><span style=\"color: #7f7f7f; text-decoration-color: #7f7f7f\">559</span></a>\n</pre>\n"
     },
     "metadata": {},
     "output_type": "display_data"
    },
    {
     "data": {
      "text/plain": "\u001B[2;36m          \u001B[0m\u001B[2;36m \u001B[0mMETRIC   Round \u001B[1;36m0\u001B[0m, collaborator four is sending metric for task aggregated_model_validation: acc  \u001B[1;36m0.633600\u001B[0m                         \u001B]8;id=958344;file:///home/p/Desktop/Programs/Python/openfl/openfl/openfl/component/collaborator/collaborator.py\u001B\\\u001B[2mcollaborator.py\u001B[0m\u001B]8;;\u001B\\\u001B[2m:\u001B[0m\u001B]8;id=379342;file:///home/p/Desktop/Programs/Python/openfl/openfl/openfl/component/collaborator/collaborator.py#415\u001B\\\u001B[2m415\u001B[0m\u001B]8;;\u001B\\\n",
      "text/html": "<pre style=\"white-space:pre;overflow-x:auto;line-height:normal;font-family:Menlo,'DejaVu Sans Mono',consolas,'Courier New',monospace\"><span style=\"color: #7fbfbf; text-decoration-color: #7fbfbf\">           </span>METRIC   Round <span style=\"color: #008080; text-decoration-color: #008080; font-weight: bold\">0</span>, collaborator four is sending metric for task aggregated_model_validation: acc  <span style=\"color: #008080; text-decoration-color: #008080; font-weight: bold\">0.633600</span>                         <a href=\"file:///home/p/Desktop/Programs/Python/openfl/openfl/openfl/component/collaborator/collaborator.py\" target=\"_blank\"><span style=\"color: #7f7f7f; text-decoration-color: #7f7f7f\">collaborator.py</span></a><span style=\"color: #7f7f7f; text-decoration-color: #7f7f7f\">:</span><a href=\"file:///home/p/Desktop/Programs/Python/openfl/openfl/openfl/component/collaborator/collaborator.py#415\" target=\"_blank\"><span style=\"color: #7f7f7f; text-decoration-color: #7f7f7f\">415</span></a>\n</pre>\n"
     },
     "metadata": {},
     "output_type": "display_data"
    },
    {
     "data": {
      "text/plain": "\u001B[2;36m          \u001B[0m\u001B[2;36m \u001B[0mMETRIC   Round \u001B[1;36m0\u001B[0m, collaborator validate_agg aggregated_model_validation result acc:      \u001B[1;36m0.633600\u001B[0m                                   \u001B]8;id=241483;file:///home/p/Desktop/Programs/Python/openfl/openfl/openfl/component/aggregator/aggregator.py\u001B\\\u001B[2maggregator.py\u001B[0m\u001B]8;;\u001B\\\u001B[2m:\u001B[0m\u001B]8;id=729930;file:///home/p/Desktop/Programs/Python/openfl/openfl/openfl/component/aggregator/aggregator.py#559\u001B\\\u001B[2m559\u001B[0m\u001B]8;;\u001B\\\n",
      "text/html": "<pre style=\"white-space:pre;overflow-x:auto;line-height:normal;font-family:Menlo,'DejaVu Sans Mono',consolas,'Courier New',monospace\"><span style=\"color: #7fbfbf; text-decoration-color: #7fbfbf\">           </span>METRIC   Round <span style=\"color: #008080; text-decoration-color: #008080; font-weight: bold\">0</span>, collaborator validate_agg aggregated_model_validation result acc:      <span style=\"color: #008080; text-decoration-color: #008080; font-weight: bold\">0.633600</span>                                   <a href=\"file:///home/p/Desktop/Programs/Python/openfl/openfl/openfl/component/aggregator/aggregator.py\" target=\"_blank\"><span style=\"color: #7f7f7f; text-decoration-color: #7f7f7f\">aggregator.py</span></a><span style=\"color: #7f7f7f; text-decoration-color: #7f7f7f\">:</span><a href=\"file:///home/p/Desktop/Programs/Python/openfl/openfl/openfl/component/aggregator/aggregator.py#559\" target=\"_blank\"><span style=\"color: #7f7f7f; text-decoration-color: #7f7f7f\">559</span></a>\n</pre>\n"
     },
     "metadata": {},
     "output_type": "display_data"
    },
    {
     "data": {
      "text/plain": "\u001B[2;36m[18:57:00]\u001B[0m\u001B[2;36m \u001B[0m\u001B[31mWARNING \u001B[0m tried to remove tensor: __opt_state_needed not present in the tensor dict                                                       \u001B]8;id=815458;file:///home/p/Desktop/Programs/Python/openfl/openfl/openfl/utilities/utils.py\u001B\\\u001B[2mutils.py\u001B[0m\u001B]8;;\u001B\\\u001B[2m:\u001B[0m\u001B]8;id=805594;file:///home/p/Desktop/Programs/Python/openfl/openfl/openfl/utilities/utils.py#172\u001B\\\u001B[2m172\u001B[0m\u001B]8;;\u001B\\\n",
      "text/html": "<pre style=\"white-space:pre;overflow-x:auto;line-height:normal;font-family:Menlo,'DejaVu Sans Mono',consolas,'Courier New',monospace\"><span style=\"color: #7fbfbf; text-decoration-color: #7fbfbf\">[18:57:00] </span><span style=\"color: #800000; text-decoration-color: #800000\">WARNING </span> tried to remove tensor: __opt_state_needed not present in the tensor dict                                                       <a href=\"file:///home/p/Desktop/Programs/Python/openfl/openfl/openfl/utilities/utils.py\" target=\"_blank\"><span style=\"color: #7f7f7f; text-decoration-color: #7f7f7f\">utils.py</span></a><span style=\"color: #7f7f7f; text-decoration-color: #7f7f7f\">:</span><a href=\"file:///home/p/Desktop/Programs/Python/openfl/openfl/openfl/utilities/utils.py#172\" target=\"_blank\"><span style=\"color: #7f7f7f; text-decoration-color: #7f7f7f\">172</span></a>\n</pre>\n"
     },
     "metadata": {},
     "output_type": "display_data"
    },
    {
     "data": {
      "text/plain": "\u001B[2;36m          \u001B[0m\u001B[2;36m \u001B[0mMETRIC   Round \u001B[1;36m0\u001B[0m, collaborator four is sending metric for task train: cross_entropy      \u001B[1;36m0.268007\u001B[0m                                 \u001B]8;id=125431;file:///home/p/Desktop/Programs/Python/openfl/openfl/openfl/component/collaborator/collaborator.py\u001B\\\u001B[2mcollaborator.py\u001B[0m\u001B]8;;\u001B\\\u001B[2m:\u001B[0m\u001B]8;id=89211;file:///home/p/Desktop/Programs/Python/openfl/openfl/openfl/component/collaborator/collaborator.py#415\u001B\\\u001B[2m415\u001B[0m\u001B]8;;\u001B\\\n",
      "text/html": "<pre style=\"white-space:pre;overflow-x:auto;line-height:normal;font-family:Menlo,'DejaVu Sans Mono',consolas,'Courier New',monospace\"><span style=\"color: #7fbfbf; text-decoration-color: #7fbfbf\">           </span>METRIC   Round <span style=\"color: #008080; text-decoration-color: #008080; font-weight: bold\">0</span>, collaborator four is sending metric for task train: cross_entropy      <span style=\"color: #008080; text-decoration-color: #008080; font-weight: bold\">0.268007</span>                                 <a href=\"file:///home/p/Desktop/Programs/Python/openfl/openfl/openfl/component/collaborator/collaborator.py\" target=\"_blank\"><span style=\"color: #7f7f7f; text-decoration-color: #7f7f7f\">collaborator.py</span></a><span style=\"color: #7f7f7f; text-decoration-color: #7f7f7f\">:</span><a href=\"file:///home/p/Desktop/Programs/Python/openfl/openfl/openfl/component/collaborator/collaborator.py#415\" target=\"_blank\"><span style=\"color: #7f7f7f; text-decoration-color: #7f7f7f\">415</span></a>\n</pre>\n"
     },
     "metadata": {},
     "output_type": "display_data"
    },
    {
     "data": {
      "text/plain": "\u001B[2;36m          \u001B[0m\u001B[2;36m \u001B[0mMETRIC   Round \u001B[1;36m0\u001B[0m, collaborator metric train result cross_entropy:        \u001B[1;36m0.268007\u001B[0m                                                   \u001B]8;id=459465;file:///home/p/Desktop/Programs/Python/openfl/openfl/openfl/component/aggregator/aggregator.py\u001B\\\u001B[2maggregator.py\u001B[0m\u001B]8;;\u001B\\\u001B[2m:\u001B[0m\u001B]8;id=978043;file:///home/p/Desktop/Programs/Python/openfl/openfl/openfl/component/aggregator/aggregator.py#559\u001B\\\u001B[2m559\u001B[0m\u001B]8;;\u001B\\\n",
      "text/html": "<pre style=\"white-space:pre;overflow-x:auto;line-height:normal;font-family:Menlo,'DejaVu Sans Mono',consolas,'Courier New',monospace\"><span style=\"color: #7fbfbf; text-decoration-color: #7fbfbf\">           </span>METRIC   Round <span style=\"color: #008080; text-decoration-color: #008080; font-weight: bold\">0</span>, collaborator metric train result cross_entropy:        <span style=\"color: #008080; text-decoration-color: #008080; font-weight: bold\">0.268007</span>                                                   <a href=\"file:///home/p/Desktop/Programs/Python/openfl/openfl/openfl/component/aggregator/aggregator.py\" target=\"_blank\"><span style=\"color: #7f7f7f; text-decoration-color: #7f7f7f\">aggregator.py</span></a><span style=\"color: #7f7f7f; text-decoration-color: #7f7f7f\">:</span><a href=\"file:///home/p/Desktop/Programs/Python/openfl/openfl/openfl/component/aggregator/aggregator.py#559\" target=\"_blank\"><span style=\"color: #7f7f7f; text-decoration-color: #7f7f7f\">559</span></a>\n</pre>\n"
     },
     "metadata": {},
     "output_type": "display_data"
    },
    {
     "data": {
      "text/plain": "\u001B[2;36m          \u001B[0m\u001B[2;36m \u001B[0mMETRIC   Round \u001B[1;36m0\u001B[0m, collaborator four is sending metric for task locally_tuned_model_validation: acc       \u001B[1;36m0.667200\u001B[0m                 \u001B]8;id=900005;file:///home/p/Desktop/Programs/Python/openfl/openfl/openfl/component/collaborator/collaborator.py\u001B\\\u001B[2mcollaborator.py\u001B[0m\u001B]8;;\u001B\\\u001B[2m:\u001B[0m\u001B]8;id=960764;file:///home/p/Desktop/Programs/Python/openfl/openfl/openfl/component/collaborator/collaborator.py#415\u001B\\\u001B[2m415\u001B[0m\u001B]8;;\u001B\\\n",
      "text/html": "<pre style=\"white-space:pre;overflow-x:auto;line-height:normal;font-family:Menlo,'DejaVu Sans Mono',consolas,'Courier New',monospace\"><span style=\"color: #7fbfbf; text-decoration-color: #7fbfbf\">           </span>METRIC   Round <span style=\"color: #008080; text-decoration-color: #008080; font-weight: bold\">0</span>, collaborator four is sending metric for task locally_tuned_model_validation: acc       <span style=\"color: #008080; text-decoration-color: #008080; font-weight: bold\">0.667200</span>                 <a href=\"file:///home/p/Desktop/Programs/Python/openfl/openfl/openfl/component/collaborator/collaborator.py\" target=\"_blank\"><span style=\"color: #7f7f7f; text-decoration-color: #7f7f7f\">collaborator.py</span></a><span style=\"color: #7f7f7f; text-decoration-color: #7f7f7f\">:</span><a href=\"file:///home/p/Desktop/Programs/Python/openfl/openfl/openfl/component/collaborator/collaborator.py#415\" target=\"_blank\"><span style=\"color: #7f7f7f; text-decoration-color: #7f7f7f\">415</span></a>\n</pre>\n"
     },
     "metadata": {},
     "output_type": "display_data"
    },
    {
     "data": {
      "text/plain": "\u001B[2;36m          \u001B[0m\u001B[2;36m \u001B[0mMETRIC   Round \u001B[1;36m0\u001B[0m, collaborator validate_local locally_tuned_model_validation result acc: \u001B[1;36m0.667200\u001B[0m                                   \u001B]8;id=802439;file:///home/p/Desktop/Programs/Python/openfl/openfl/openfl/component/aggregator/aggregator.py\u001B\\\u001B[2maggregator.py\u001B[0m\u001B]8;;\u001B\\\u001B[2m:\u001B[0m\u001B]8;id=686300;file:///home/p/Desktop/Programs/Python/openfl/openfl/openfl/component/aggregator/aggregator.py#559\u001B\\\u001B[2m559\u001B[0m\u001B]8;;\u001B\\\n",
      "text/html": "<pre style=\"white-space:pre;overflow-x:auto;line-height:normal;font-family:Menlo,'DejaVu Sans Mono',consolas,'Courier New',monospace\"><span style=\"color: #7fbfbf; text-decoration-color: #7fbfbf\">           </span>METRIC   Round <span style=\"color: #008080; text-decoration-color: #008080; font-weight: bold\">0</span>, collaborator validate_local locally_tuned_model_validation result acc: <span style=\"color: #008080; text-decoration-color: #008080; font-weight: bold\">0.667200</span>                                   <a href=\"file:///home/p/Desktop/Programs/Python/openfl/openfl/openfl/component/aggregator/aggregator.py\" target=\"_blank\"><span style=\"color: #7f7f7f; text-decoration-color: #7f7f7f\">aggregator.py</span></a><span style=\"color: #7f7f7f; text-decoration-color: #7f7f7f\">:</span><a href=\"file:///home/p/Desktop/Programs/Python/openfl/openfl/openfl/component/aggregator/aggregator.py#559\" target=\"_blank\"><span style=\"color: #7f7f7f; text-decoration-color: #7f7f7f\">559</span></a>\n</pre>\n"
     },
     "metadata": {},
     "output_type": "display_data"
    },
    {
     "data": {
      "text/plain": "\u001B[2;36m          \u001B[0m\u001B[2;36m \u001B[0mMETRIC   Round \u001B[1;36m0\u001B[0m, aggregator: locally_tuned_model_validation                                                                        \u001B]8;id=933538;file:///home/p/Desktop/Programs/Python/openfl/openfl/openfl/component/aggregator/aggregator.py\u001B\\\u001B[2maggregator.py\u001B[0m\u001B]8;;\u001B\\\u001B[2m:\u001B[0m\u001B]8;id=931635;file:///home/p/Desktop/Programs/Python/openfl/openfl/openfl/component/aggregator/aggregator.py#842\u001B\\\u001B[2m842\u001B[0m\u001B]8;;\u001B\\\n\u001B[2;36m           \u001B[0m         \u001B[1m<\u001B[0m\u001B[1;95mopenfl.interface.aggregation_functions.weighted_average.WeightedAverage\u001B[0m\u001B[39m object at \u001B[0m\u001B[1;36m0x7f2dc10bf580\u001B[0m\u001B[1m>\u001B[0m acc:     \u001B[1;36m0.673700\u001B[0m       \u001B[2m                 \u001B[0m\n",
      "text/html": "<pre style=\"white-space:pre;overflow-x:auto;line-height:normal;font-family:Menlo,'DejaVu Sans Mono',consolas,'Courier New',monospace\"><span style=\"color: #7fbfbf; text-decoration-color: #7fbfbf\">           </span>METRIC   Round <span style=\"color: #008080; text-decoration-color: #008080; font-weight: bold\">0</span>, aggregator: locally_tuned_model_validation                                                                        <a href=\"file:///home/p/Desktop/Programs/Python/openfl/openfl/openfl/component/aggregator/aggregator.py\" target=\"_blank\"><span style=\"color: #7f7f7f; text-decoration-color: #7f7f7f\">aggregator.py</span></a><span style=\"color: #7f7f7f; text-decoration-color: #7f7f7f\">:</span><a href=\"file:///home/p/Desktop/Programs/Python/openfl/openfl/openfl/component/aggregator/aggregator.py#842\" target=\"_blank\"><span style=\"color: #7f7f7f; text-decoration-color: #7f7f7f\">842</span></a>\n<span style=\"color: #7fbfbf; text-decoration-color: #7fbfbf\">           </span>         <span style=\"font-weight: bold\">&lt;</span><span style=\"color: #ff00ff; text-decoration-color: #ff00ff; font-weight: bold\">openfl.interface.aggregation_functions.weighted_average.WeightedAverage</span><span style=\"color: #000000; text-decoration-color: #000000\"> object at </span><span style=\"color: #008080; text-decoration-color: #008080; font-weight: bold\">0x7f2dc10bf580</span><span style=\"font-weight: bold\">&gt;</span> acc:     <span style=\"color: #008080; text-decoration-color: #008080; font-weight: bold\">0.673700</span>       <span style=\"color: #7f7f7f; text-decoration-color: #7f7f7f\">                 </span>\n</pre>\n"
     },
     "metadata": {},
     "output_type": "display_data"
    },
    {
     "data": {
      "text/plain": "\u001B[2;36m          \u001B[0m\u001B[2;36m \u001B[0mMETRIC   Round \u001B[1;36m0\u001B[0m, aggregator: train \u001B[1m<\u001B[0m\u001B[1;95mopenfl.interface.aggregation_functions.weighted_average.WeightedAverage\u001B[0m\u001B[39m object at \u001B[0m             \u001B]8;id=720995;file:///home/p/Desktop/Programs/Python/openfl/openfl/openfl/component/aggregator/aggregator.py\u001B\\\u001B[2maggregator.py\u001B[0m\u001B]8;;\u001B\\\u001B[2m:\u001B[0m\u001B]8;id=780805;file:///home/p/Desktop/Programs/Python/openfl/openfl/openfl/component/aggregator/aggregator.py#842\u001B\\\u001B[2m842\u001B[0m\u001B]8;;\u001B\\\n\u001B[2;36m           \u001B[0m         \u001B[1;36m0x7f2dc10bf580\u001B[0m\u001B[1m>\u001B[0m cross_entropy:    \u001B[1;36m0.269041\u001B[0m                                                                                 \u001B[2m                 \u001B[0m\n",
      "text/html": "<pre style=\"white-space:pre;overflow-x:auto;line-height:normal;font-family:Menlo,'DejaVu Sans Mono',consolas,'Courier New',monospace\"><span style=\"color: #7fbfbf; text-decoration-color: #7fbfbf\">           </span>METRIC   Round <span style=\"color: #008080; text-decoration-color: #008080; font-weight: bold\">0</span>, aggregator: train <span style=\"font-weight: bold\">&lt;</span><span style=\"color: #ff00ff; text-decoration-color: #ff00ff; font-weight: bold\">openfl.interface.aggregation_functions.weighted_average.WeightedAverage</span><span style=\"color: #000000; text-decoration-color: #000000\"> object at </span>             <a href=\"file:///home/p/Desktop/Programs/Python/openfl/openfl/openfl/component/aggregator/aggregator.py\" target=\"_blank\"><span style=\"color: #7f7f7f; text-decoration-color: #7f7f7f\">aggregator.py</span></a><span style=\"color: #7f7f7f; text-decoration-color: #7f7f7f\">:</span><a href=\"file:///home/p/Desktop/Programs/Python/openfl/openfl/openfl/component/aggregator/aggregator.py#842\" target=\"_blank\"><span style=\"color: #7f7f7f; text-decoration-color: #7f7f7f\">842</span></a>\n<span style=\"color: #7fbfbf; text-decoration-color: #7fbfbf\">           </span>         <span style=\"color: #008080; text-decoration-color: #008080; font-weight: bold\">0x7f2dc10bf580</span><span style=\"font-weight: bold\">&gt;</span> cross_entropy:    <span style=\"color: #008080; text-decoration-color: #008080; font-weight: bold\">0.269041</span>                                                                                 <span style=\"color: #7f7f7f; text-decoration-color: #7f7f7f\">                 </span>\n</pre>\n"
     },
     "metadata": {},
     "output_type": "display_data"
    },
    {
     "data": {
      "text/plain": "\u001B[2;36m          \u001B[0m\u001B[2;36m \u001B[0mMETRIC   Round \u001B[1;36m0\u001B[0m, aggregator: aggregated_model_validation \u001B[1m<\u001B[0m\u001B[1;95mopenfl.interface.aggregation_functions.weighted_average.WeightedAverage\u001B[0m\u001B[39m \u001B[0m \u001B]8;id=577733;file:///home/p/Desktop/Programs/Python/openfl/openfl/openfl/component/aggregator/aggregator.py\u001B\\\u001B[2maggregator.py\u001B[0m\u001B]8;;\u001B\\\u001B[2m:\u001B[0m\u001B]8;id=312494;file:///home/p/Desktop/Programs/Python/openfl/openfl/openfl/component/aggregator/aggregator.py#842\u001B\\\u001B[2m842\u001B[0m\u001B]8;;\u001B\\\n\u001B[2;36m           \u001B[0m         \u001B[39mobject at \u001B[0m\u001B[1;36m0x7f2dc10bf580\u001B[0m\u001B[1m>\u001B[0m acc:        \u001B[1;36m0.639900\u001B[0m                                                                             \u001B[2m                 \u001B[0m\n",
      "text/html": "<pre style=\"white-space:pre;overflow-x:auto;line-height:normal;font-family:Menlo,'DejaVu Sans Mono',consolas,'Courier New',monospace\"><span style=\"color: #7fbfbf; text-decoration-color: #7fbfbf\">           </span>METRIC   Round <span style=\"color: #008080; text-decoration-color: #008080; font-weight: bold\">0</span>, aggregator: aggregated_model_validation <span style=\"font-weight: bold\">&lt;</span><span style=\"color: #ff00ff; text-decoration-color: #ff00ff; font-weight: bold\">openfl.interface.aggregation_functions.weighted_average.WeightedAverage</span><span style=\"color: #000000; text-decoration-color: #000000\"> </span> <a href=\"file:///home/p/Desktop/Programs/Python/openfl/openfl/openfl/component/aggregator/aggregator.py\" target=\"_blank\"><span style=\"color: #7f7f7f; text-decoration-color: #7f7f7f\">aggregator.py</span></a><span style=\"color: #7f7f7f; text-decoration-color: #7f7f7f\">:</span><a href=\"file:///home/p/Desktop/Programs/Python/openfl/openfl/openfl/component/aggregator/aggregator.py#842\" target=\"_blank\"><span style=\"color: #7f7f7f; text-decoration-color: #7f7f7f\">842</span></a>\n<span style=\"color: #7fbfbf; text-decoration-color: #7fbfbf\">           </span>         <span style=\"color: #000000; text-decoration-color: #000000\">object at </span><span style=\"color: #008080; text-decoration-color: #008080; font-weight: bold\">0x7f2dc10bf580</span><span style=\"font-weight: bold\">&gt;</span> acc:        <span style=\"color: #008080; text-decoration-color: #008080; font-weight: bold\">0.639900</span>                                                                             <span style=\"color: #7f7f7f; text-decoration-color: #7f7f7f\">                 </span>\n</pre>\n"
     },
     "metadata": {},
     "output_type": "display_data"
    },
    {
     "data": {
      "text/plain": "\u001B[2;36m          \u001B[0m\u001B[2;36m \u001B[0mMETRIC   Round \u001B[1;36m0\u001B[0m: saved the best model with score \u001B[1;36m0.639900\u001B[0m                                                                          \u001B]8;id=915952;file:///home/p/Desktop/Programs/Python/openfl/openfl/openfl/component/aggregator/aggregator.py\u001B\\\u001B[2maggregator.py\u001B[0m\u001B]8;;\u001B\\\u001B[2m:\u001B[0m\u001B]8;id=205576;file:///home/p/Desktop/Programs/Python/openfl/openfl/openfl/component/aggregator/aggregator.py#858\u001B\\\u001B[2m858\u001B[0m\u001B]8;;\u001B\\\n",
      "text/html": "<pre style=\"white-space:pre;overflow-x:auto;line-height:normal;font-family:Menlo,'DejaVu Sans Mono',consolas,'Courier New',monospace\"><span style=\"color: #7fbfbf; text-decoration-color: #7fbfbf\">           </span>METRIC   Round <span style=\"color: #008080; text-decoration-color: #008080; font-weight: bold\">0</span>: saved the best model with score <span style=\"color: #008080; text-decoration-color: #008080; font-weight: bold\">0.639900</span>                                                                          <a href=\"file:///home/p/Desktop/Programs/Python/openfl/openfl/openfl/component/aggregator/aggregator.py\" target=\"_blank\"><span style=\"color: #7f7f7f; text-decoration-color: #7f7f7f\">aggregator.py</span></a><span style=\"color: #7f7f7f; text-decoration-color: #7f7f7f\">:</span><a href=\"file:///home/p/Desktop/Programs/Python/openfl/openfl/openfl/component/aggregator/aggregator.py#858\" target=\"_blank\"><span style=\"color: #7f7f7f; text-decoration-color: #7f7f7f\">858</span></a>\n</pre>\n"
     },
     "metadata": {},
     "output_type": "display_data"
    },
    {
     "data": {
      "text/plain": "\u001B[2;36m          \u001B[0m\u001B[2;36m \u001B[0m\u001B[31mWARNING \u001B[0m tried to remove tensor: __opt_state_needed not present in the tensor dict                                                       \u001B]8;id=328081;file:///home/p/Desktop/Programs/Python/openfl/openfl/openfl/utilities/utils.py\u001B\\\u001B[2mutils.py\u001B[0m\u001B]8;;\u001B\\\u001B[2m:\u001B[0m\u001B]8;id=793383;file:///home/p/Desktop/Programs/Python/openfl/openfl/openfl/utilities/utils.py#172\u001B\\\u001B[2m172\u001B[0m\u001B]8;;\u001B\\\n",
      "text/html": "<pre style=\"white-space:pre;overflow-x:auto;line-height:normal;font-family:Menlo,'DejaVu Sans Mono',consolas,'Courier New',monospace\"><span style=\"color: #7fbfbf; text-decoration-color: #7fbfbf\">           </span><span style=\"color: #800000; text-decoration-color: #800000\">WARNING </span> tried to remove tensor: __opt_state_needed not present in the tensor dict                                                       <a href=\"file:///home/p/Desktop/Programs/Python/openfl/openfl/openfl/utilities/utils.py\" target=\"_blank\"><span style=\"color: #7f7f7f; text-decoration-color: #7f7f7f\">utils.py</span></a><span style=\"color: #7f7f7f; text-decoration-color: #7f7f7f\">:</span><a href=\"file:///home/p/Desktop/Programs/Python/openfl/openfl/openfl/utilities/utils.py#172\" target=\"_blank\"><span style=\"color: #7f7f7f; text-decoration-color: #7f7f7f\">172</span></a>\n</pre>\n"
     },
     "metadata": {},
     "output_type": "display_data"
    },
    {
     "data": {
      "text/plain": "\u001B[2;36m          \u001B[0m\u001B[2;36m \u001B[0m\u001B[31mWARNING \u001B[0m tried to remove tensor: __opt_state_needed not present in the tensor dict                                                       \u001B]8;id=842439;file:///home/p/Desktop/Programs/Python/openfl/openfl/openfl/utilities/utils.py\u001B\\\u001B[2mutils.py\u001B[0m\u001B]8;;\u001B\\\u001B[2m:\u001B[0m\u001B]8;id=69392;file:///home/p/Desktop/Programs/Python/openfl/openfl/openfl/utilities/utils.py#172\u001B\\\u001B[2m172\u001B[0m\u001B]8;;\u001B\\\n",
      "text/html": "<pre style=\"white-space:pre;overflow-x:auto;line-height:normal;font-family:Menlo,'DejaVu Sans Mono',consolas,'Courier New',monospace\"><span style=\"color: #7fbfbf; text-decoration-color: #7fbfbf\">           </span><span style=\"color: #800000; text-decoration-color: #800000\">WARNING </span> tried to remove tensor: __opt_state_needed not present in the tensor dict                                                       <a href=\"file:///home/p/Desktop/Programs/Python/openfl/openfl/openfl/utilities/utils.py\" target=\"_blank\"><span style=\"color: #7f7f7f; text-decoration-color: #7f7f7f\">utils.py</span></a><span style=\"color: #7f7f7f; text-decoration-color: #7f7f7f\">:</span><a href=\"file:///home/p/Desktop/Programs/Python/openfl/openfl/openfl/utilities/utils.py#172\" target=\"_blank\"><span style=\"color: #7f7f7f; text-decoration-color: #7f7f7f\">172</span></a>\n</pre>\n"
     },
     "metadata": {},
     "output_type": "display_data"
    },
    {
     "data": {
      "text/plain": "\u001B[2;36m          \u001B[0m\u001B[2;36m \u001B[0m\u001B[31mWARNING \u001B[0m tried to remove tensor: __opt_state_needed not present in the tensor dict                                                       \u001B]8;id=345075;file:///home/p/Desktop/Programs/Python/openfl/openfl/openfl/utilities/utils.py\u001B\\\u001B[2mutils.py\u001B[0m\u001B]8;;\u001B\\\u001B[2m:\u001B[0m\u001B]8;id=399807;file:///home/p/Desktop/Programs/Python/openfl/openfl/openfl/utilities/utils.py#172\u001B\\\u001B[2m172\u001B[0m\u001B]8;;\u001B\\\n",
      "text/html": "<pre style=\"white-space:pre;overflow-x:auto;line-height:normal;font-family:Menlo,'DejaVu Sans Mono',consolas,'Courier New',monospace\"><span style=\"color: #7fbfbf; text-decoration-color: #7fbfbf\">           </span><span style=\"color: #800000; text-decoration-color: #800000\">WARNING </span> tried to remove tensor: __opt_state_needed not present in the tensor dict                                                       <a href=\"file:///home/p/Desktop/Programs/Python/openfl/openfl/openfl/utilities/utils.py\" target=\"_blank\"><span style=\"color: #7f7f7f; text-decoration-color: #7f7f7f\">utils.py</span></a><span style=\"color: #7f7f7f; text-decoration-color: #7f7f7f\">:</span><a href=\"file:///home/p/Desktop/Programs/Python/openfl/openfl/openfl/utilities/utils.py#172\" target=\"_blank\"><span style=\"color: #7f7f7f; text-decoration-color: #7f7f7f\">172</span></a>\n</pre>\n"
     },
     "metadata": {},
     "output_type": "display_data"
    },
    {
     "data": {
      "text/plain": "\u001B[2;36m          \u001B[0m\u001B[2;36m \u001B[0m\u001B[31mWARNING \u001B[0m tried to remove tensor: __opt_state_needed not present in the tensor dict                                                       \u001B]8;id=372735;file:///home/p/Desktop/Programs/Python/openfl/openfl/openfl/utilities/utils.py\u001B\\\u001B[2mutils.py\u001B[0m\u001B]8;;\u001B\\\u001B[2m:\u001B[0m\u001B]8;id=79488;file:///home/p/Desktop/Programs/Python/openfl/openfl/openfl/utilities/utils.py#172\u001B\\\u001B[2m172\u001B[0m\u001B]8;;\u001B\\\n",
      "text/html": "<pre style=\"white-space:pre;overflow-x:auto;line-height:normal;font-family:Menlo,'DejaVu Sans Mono',consolas,'Courier New',monospace\"><span style=\"color: #7fbfbf; text-decoration-color: #7fbfbf\">           </span><span style=\"color: #800000; text-decoration-color: #800000\">WARNING </span> tried to remove tensor: __opt_state_needed not present in the tensor dict                                                       <a href=\"file:///home/p/Desktop/Programs/Python/openfl/openfl/openfl/utilities/utils.py\" target=\"_blank\"><span style=\"color: #7f7f7f; text-decoration-color: #7f7f7f\">utils.py</span></a><span style=\"color: #7f7f7f; text-decoration-color: #7f7f7f\">:</span><a href=\"file:///home/p/Desktop/Programs/Python/openfl/openfl/openfl/utilities/utils.py#172\" target=\"_blank\"><span style=\"color: #7f7f7f; text-decoration-color: #7f7f7f\">172</span></a>\n</pre>\n"
     },
     "metadata": {},
     "output_type": "display_data"
    },
    {
     "data": {
      "text/plain": "\u001B[2;36m          \u001B[0m\u001B[2;36m \u001B[0m\u001B[31mWARNING \u001B[0m tried to remove tensor: __opt_state_needed not present in the tensor dict                                                       \u001B]8;id=113262;file:///home/p/Desktop/Programs/Python/openfl/openfl/openfl/utilities/utils.py\u001B\\\u001B[2mutils.py\u001B[0m\u001B]8;;\u001B\\\u001B[2m:\u001B[0m\u001B]8;id=352955;file:///home/p/Desktop/Programs/Python/openfl/openfl/openfl/utilities/utils.py#172\u001B\\\u001B[2m172\u001B[0m\u001B]8;;\u001B\\\n",
      "text/html": "<pre style=\"white-space:pre;overflow-x:auto;line-height:normal;font-family:Menlo,'DejaVu Sans Mono',consolas,'Courier New',monospace\"><span style=\"color: #7fbfbf; text-decoration-color: #7fbfbf\">           </span><span style=\"color: #800000; text-decoration-color: #800000\">WARNING </span> tried to remove tensor: __opt_state_needed not present in the tensor dict                                                       <a href=\"file:///home/p/Desktop/Programs/Python/openfl/openfl/openfl/utilities/utils.py\" target=\"_blank\"><span style=\"color: #7f7f7f; text-decoration-color: #7f7f7f\">utils.py</span></a><span style=\"color: #7f7f7f; text-decoration-color: #7f7f7f\">:</span><a href=\"file:///home/p/Desktop/Programs/Python/openfl/openfl/openfl/utilities/utils.py#172\" target=\"_blank\"><span style=\"color: #7f7f7f; text-decoration-color: #7f7f7f\">172</span></a>\n</pre>\n"
     },
     "metadata": {},
     "output_type": "display_data"
    },
    {
     "data": {
      "text/plain": "\u001B[2;36m          \u001B[0m\u001B[2;36m \u001B[0mMETRIC   Round \u001B[1;36m0\u001B[0m, collaborator one is sending metric for task aggregated_model_validation: acc   \u001B[1;36m0.676800\u001B[0m                         \u001B]8;id=62558;file:///home/p/Desktop/Programs/Python/openfl/openfl/openfl/component/collaborator/collaborator.py\u001B\\\u001B[2mcollaborator.py\u001B[0m\u001B]8;;\u001B\\\u001B[2m:\u001B[0m\u001B]8;id=434274;file:///home/p/Desktop/Programs/Python/openfl/openfl/openfl/component/collaborator/collaborator.py#415\u001B\\\u001B[2m415\u001B[0m\u001B]8;;\u001B\\\n",
      "text/html": "<pre style=\"white-space:pre;overflow-x:auto;line-height:normal;font-family:Menlo,'DejaVu Sans Mono',consolas,'Courier New',monospace\"><span style=\"color: #7fbfbf; text-decoration-color: #7fbfbf\">           </span>METRIC   Round <span style=\"color: #008080; text-decoration-color: #008080; font-weight: bold\">0</span>, collaborator one is sending metric for task aggregated_model_validation: acc   <span style=\"color: #008080; text-decoration-color: #008080; font-weight: bold\">0.676800</span>                         <a href=\"file:///home/p/Desktop/Programs/Python/openfl/openfl/openfl/component/collaborator/collaborator.py\" target=\"_blank\"><span style=\"color: #7f7f7f; text-decoration-color: #7f7f7f\">collaborator.py</span></a><span style=\"color: #7f7f7f; text-decoration-color: #7f7f7f\">:</span><a href=\"file:///home/p/Desktop/Programs/Python/openfl/openfl/openfl/component/collaborator/collaborator.py#415\" target=\"_blank\"><span style=\"color: #7f7f7f; text-decoration-color: #7f7f7f\">415</span></a>\n</pre>\n"
     },
     "metadata": {},
     "output_type": "display_data"
    },
    {
     "data": {
      "text/plain": "\u001B[2;36m          \u001B[0m\u001B[2;36m \u001B[0mMETRIC   Round \u001B[1;36m0\u001B[0m, collaborator validate_agg aggregated_model_validation result acc:      \u001B[1;36m0.676800\u001B[0m                                   \u001B]8;id=753144;file:///home/p/Desktop/Programs/Python/openfl/openfl/openfl/component/aggregator/aggregator.py\u001B\\\u001B[2maggregator.py\u001B[0m\u001B]8;;\u001B\\\u001B[2m:\u001B[0m\u001B]8;id=647847;file:///home/p/Desktop/Programs/Python/openfl/openfl/openfl/component/aggregator/aggregator.py#559\u001B\\\u001B[2m559\u001B[0m\u001B]8;;\u001B\\\n",
      "text/html": "<pre style=\"white-space:pre;overflow-x:auto;line-height:normal;font-family:Menlo,'DejaVu Sans Mono',consolas,'Courier New',monospace\"><span style=\"color: #7fbfbf; text-decoration-color: #7fbfbf\">           </span>METRIC   Round <span style=\"color: #008080; text-decoration-color: #008080; font-weight: bold\">0</span>, collaborator validate_agg aggregated_model_validation result acc:      <span style=\"color: #008080; text-decoration-color: #008080; font-weight: bold\">0.676800</span>                                   <a href=\"file:///home/p/Desktop/Programs/Python/openfl/openfl/openfl/component/aggregator/aggregator.py\" target=\"_blank\"><span style=\"color: #7f7f7f; text-decoration-color: #7f7f7f\">aggregator.py</span></a><span style=\"color: #7f7f7f; text-decoration-color: #7f7f7f\">:</span><a href=\"file:///home/p/Desktop/Programs/Python/openfl/openfl/openfl/component/aggregator/aggregator.py#559\" target=\"_blank\"><span style=\"color: #7f7f7f; text-decoration-color: #7f7f7f\">559</span></a>\n</pre>\n"
     },
     "metadata": {},
     "output_type": "display_data"
    },
    {
     "data": {
      "text/plain": "\u001B[2;36m[18:57:01]\u001B[0m\u001B[2;36m \u001B[0m\u001B[31mWARNING \u001B[0m tried to remove tensor: __opt_state_needed not present in the tensor dict                                                       \u001B]8;id=237784;file:///home/p/Desktop/Programs/Python/openfl/openfl/openfl/utilities/utils.py\u001B\\\u001B[2mutils.py\u001B[0m\u001B]8;;\u001B\\\u001B[2m:\u001B[0m\u001B]8;id=303951;file:///home/p/Desktop/Programs/Python/openfl/openfl/openfl/utilities/utils.py#172\u001B\\\u001B[2m172\u001B[0m\u001B]8;;\u001B\\\n",
      "text/html": "<pre style=\"white-space:pre;overflow-x:auto;line-height:normal;font-family:Menlo,'DejaVu Sans Mono',consolas,'Courier New',monospace\"><span style=\"color: #7fbfbf; text-decoration-color: #7fbfbf\">[18:57:01] </span><span style=\"color: #800000; text-decoration-color: #800000\">WARNING </span> tried to remove tensor: __opt_state_needed not present in the tensor dict                                                       <a href=\"file:///home/p/Desktop/Programs/Python/openfl/openfl/openfl/utilities/utils.py\" target=\"_blank\"><span style=\"color: #7f7f7f; text-decoration-color: #7f7f7f\">utils.py</span></a><span style=\"color: #7f7f7f; text-decoration-color: #7f7f7f\">:</span><a href=\"file:///home/p/Desktop/Programs/Python/openfl/openfl/openfl/utilities/utils.py#172\" target=\"_blank\"><span style=\"color: #7f7f7f; text-decoration-color: #7f7f7f\">172</span></a>\n</pre>\n"
     },
     "metadata": {},
     "output_type": "display_data"
    },
    {
     "data": {
      "text/plain": "\u001B[2;36m          \u001B[0m\u001B[2;36m \u001B[0mMETRIC   Round \u001B[1;36m0\u001B[0m, collaborator one is sending metric for task train: cross_entropy       \u001B[1;36m0.249289\u001B[0m                                 \u001B]8;id=682908;file:///home/p/Desktop/Programs/Python/openfl/openfl/openfl/component/collaborator/collaborator.py\u001B\\\u001B[2mcollaborator.py\u001B[0m\u001B]8;;\u001B\\\u001B[2m:\u001B[0m\u001B]8;id=758086;file:///home/p/Desktop/Programs/Python/openfl/openfl/openfl/component/collaborator/collaborator.py#415\u001B\\\u001B[2m415\u001B[0m\u001B]8;;\u001B\\\n",
      "text/html": "<pre style=\"white-space:pre;overflow-x:auto;line-height:normal;font-family:Menlo,'DejaVu Sans Mono',consolas,'Courier New',monospace\"><span style=\"color: #7fbfbf; text-decoration-color: #7fbfbf\">           </span>METRIC   Round <span style=\"color: #008080; text-decoration-color: #008080; font-weight: bold\">0</span>, collaborator one is sending metric for task train: cross_entropy       <span style=\"color: #008080; text-decoration-color: #008080; font-weight: bold\">0.249289</span>                                 <a href=\"file:///home/p/Desktop/Programs/Python/openfl/openfl/openfl/component/collaborator/collaborator.py\" target=\"_blank\"><span style=\"color: #7f7f7f; text-decoration-color: #7f7f7f\">collaborator.py</span></a><span style=\"color: #7f7f7f; text-decoration-color: #7f7f7f\">:</span><a href=\"file:///home/p/Desktop/Programs/Python/openfl/openfl/openfl/component/collaborator/collaborator.py#415\" target=\"_blank\"><span style=\"color: #7f7f7f; text-decoration-color: #7f7f7f\">415</span></a>\n</pre>\n"
     },
     "metadata": {},
     "output_type": "display_data"
    },
    {
     "data": {
      "text/plain": "\u001B[2;36m          \u001B[0m\u001B[2;36m \u001B[0mMETRIC   Round \u001B[1;36m0\u001B[0m, collaborator one train result cross_entropy:   \u001B[1;36m0.249289\u001B[0m                                                           \u001B]8;id=386917;file:///home/p/Desktop/Programs/Python/openfl/openfl/openfl/component/aggregator/aggregator.py\u001B\\\u001B[2maggregator.py\u001B[0m\u001B]8;;\u001B\\\u001B[2m:\u001B[0m\u001B]8;id=561365;file:///home/p/Desktop/Programs/Python/openfl/openfl/openfl/component/aggregator/aggregator.py#559\u001B\\\u001B[2m559\u001B[0m\u001B]8;;\u001B\\\n",
      "text/html": "<pre style=\"white-space:pre;overflow-x:auto;line-height:normal;font-family:Menlo,'DejaVu Sans Mono',consolas,'Courier New',monospace\"><span style=\"color: #7fbfbf; text-decoration-color: #7fbfbf\">           </span>METRIC   Round <span style=\"color: #008080; text-decoration-color: #008080; font-weight: bold\">0</span>, collaborator one train result cross_entropy:   <span style=\"color: #008080; text-decoration-color: #008080; font-weight: bold\">0.249289</span>                                                           <a href=\"file:///home/p/Desktop/Programs/Python/openfl/openfl/openfl/component/aggregator/aggregator.py\" target=\"_blank\"><span style=\"color: #7f7f7f; text-decoration-color: #7f7f7f\">aggregator.py</span></a><span style=\"color: #7f7f7f; text-decoration-color: #7f7f7f\">:</span><a href=\"file:///home/p/Desktop/Programs/Python/openfl/openfl/openfl/component/aggregator/aggregator.py#559\" target=\"_blank\"><span style=\"color: #7f7f7f; text-decoration-color: #7f7f7f\">559</span></a>\n</pre>\n"
     },
     "metadata": {},
     "output_type": "display_data"
    },
    {
     "data": {
      "text/plain": "\u001B[2;36m          \u001B[0m\u001B[2;36m \u001B[0mMETRIC   Round \u001B[1;36m0\u001B[0m, collaborator one is sending metric for task locally_tuned_model_validation: acc        \u001B[1;36m0.707200\u001B[0m                 \u001B]8;id=180588;file:///home/p/Desktop/Programs/Python/openfl/openfl/openfl/component/collaborator/collaborator.py\u001B\\\u001B[2mcollaborator.py\u001B[0m\u001B]8;;\u001B\\\u001B[2m:\u001B[0m\u001B]8;id=455560;file:///home/p/Desktop/Programs/Python/openfl/openfl/openfl/component/collaborator/collaborator.py#415\u001B\\\u001B[2m415\u001B[0m\u001B]8;;\u001B\\\n",
      "text/html": "<pre style=\"white-space:pre;overflow-x:auto;line-height:normal;font-family:Menlo,'DejaVu Sans Mono',consolas,'Courier New',monospace\"><span style=\"color: #7fbfbf; text-decoration-color: #7fbfbf\">           </span>METRIC   Round <span style=\"color: #008080; text-decoration-color: #008080; font-weight: bold\">0</span>, collaborator one is sending metric for task locally_tuned_model_validation: acc        <span style=\"color: #008080; text-decoration-color: #008080; font-weight: bold\">0.707200</span>                 <a href=\"file:///home/p/Desktop/Programs/Python/openfl/openfl/openfl/component/collaborator/collaborator.py\" target=\"_blank\"><span style=\"color: #7f7f7f; text-decoration-color: #7f7f7f\">collaborator.py</span></a><span style=\"color: #7f7f7f; text-decoration-color: #7f7f7f\">:</span><a href=\"file:///home/p/Desktop/Programs/Python/openfl/openfl/openfl/component/collaborator/collaborator.py#415\" target=\"_blank\"><span style=\"color: #7f7f7f; text-decoration-color: #7f7f7f\">415</span></a>\n</pre>\n"
     },
     "metadata": {},
     "output_type": "display_data"
    },
    {
     "data": {
      "text/plain": "\u001B[2;36m          \u001B[0m\u001B[2;36m \u001B[0mMETRIC   Round \u001B[1;36m0\u001B[0m, collaborator validate_local locally_tuned_model_validation result acc: \u001B[1;36m0.707200\u001B[0m                                   \u001B]8;id=84909;file:///home/p/Desktop/Programs/Python/openfl/openfl/openfl/component/aggregator/aggregator.py\u001B\\\u001B[2maggregator.py\u001B[0m\u001B]8;;\u001B\\\u001B[2m:\u001B[0m\u001B]8;id=967003;file:///home/p/Desktop/Programs/Python/openfl/openfl/openfl/component/aggregator/aggregator.py#559\u001B\\\u001B[2m559\u001B[0m\u001B]8;;\u001B\\\n",
      "text/html": "<pre style=\"white-space:pre;overflow-x:auto;line-height:normal;font-family:Menlo,'DejaVu Sans Mono',consolas,'Courier New',monospace\"><span style=\"color: #7fbfbf; text-decoration-color: #7fbfbf\">           </span>METRIC   Round <span style=\"color: #008080; text-decoration-color: #008080; font-weight: bold\">0</span>, collaborator validate_local locally_tuned_model_validation result acc: <span style=\"color: #008080; text-decoration-color: #008080; font-weight: bold\">0.707200</span>                                   <a href=\"file:///home/p/Desktop/Programs/Python/openfl/openfl/openfl/component/aggregator/aggregator.py\" target=\"_blank\"><span style=\"color: #7f7f7f; text-decoration-color: #7f7f7f\">aggregator.py</span></a><span style=\"color: #7f7f7f; text-decoration-color: #7f7f7f\">:</span><a href=\"file:///home/p/Desktop/Programs/Python/openfl/openfl/openfl/component/aggregator/aggregator.py#559\" target=\"_blank\"><span style=\"color: #7f7f7f; text-decoration-color: #7f7f7f\">559</span></a>\n</pre>\n"
     },
     "metadata": {},
     "output_type": "display_data"
    },
    {
     "data": {
      "text/plain": "\u001B[2;36m[18:57:02]\u001B[0m\u001B[2;36m \u001B[0mMETRIC   Round \u001B[1;36m0\u001B[0m, collaborator two is sending metric for task aggregated_model_validation: acc   \u001B[1;36m0.688400\u001B[0m                         \u001B]8;id=501203;file:///home/p/Desktop/Programs/Python/openfl/openfl/openfl/component/collaborator/collaborator.py\u001B\\\u001B[2mcollaborator.py\u001B[0m\u001B]8;;\u001B\\\u001B[2m:\u001B[0m\u001B]8;id=194011;file:///home/p/Desktop/Programs/Python/openfl/openfl/openfl/component/collaborator/collaborator.py#415\u001B\\\u001B[2m415\u001B[0m\u001B]8;;\u001B\\\n",
      "text/html": "<pre style=\"white-space:pre;overflow-x:auto;line-height:normal;font-family:Menlo,'DejaVu Sans Mono',consolas,'Courier New',monospace\"><span style=\"color: #7fbfbf; text-decoration-color: #7fbfbf\">[18:57:02] </span>METRIC   Round <span style=\"color: #008080; text-decoration-color: #008080; font-weight: bold\">0</span>, collaborator two is sending metric for task aggregated_model_validation: acc   <span style=\"color: #008080; text-decoration-color: #008080; font-weight: bold\">0.688400</span>                         <a href=\"file:///home/p/Desktop/Programs/Python/openfl/openfl/openfl/component/collaborator/collaborator.py\" target=\"_blank\"><span style=\"color: #7f7f7f; text-decoration-color: #7f7f7f\">collaborator.py</span></a><span style=\"color: #7f7f7f; text-decoration-color: #7f7f7f\">:</span><a href=\"file:///home/p/Desktop/Programs/Python/openfl/openfl/openfl/component/collaborator/collaborator.py#415\" target=\"_blank\"><span style=\"color: #7f7f7f; text-decoration-color: #7f7f7f\">415</span></a>\n</pre>\n"
     },
     "metadata": {},
     "output_type": "display_data"
    },
    {
     "data": {
      "text/plain": "\u001B[2;36m          \u001B[0m\u001B[2;36m \u001B[0mMETRIC   Round \u001B[1;36m0\u001B[0m, collaborator validate_agg aggregated_model_validation result acc:      \u001B[1;36m0.688400\u001B[0m                                   \u001B]8;id=521425;file:///home/p/Desktop/Programs/Python/openfl/openfl/openfl/component/aggregator/aggregator.py\u001B\\\u001B[2maggregator.py\u001B[0m\u001B]8;;\u001B\\\u001B[2m:\u001B[0m\u001B]8;id=353746;file:///home/p/Desktop/Programs/Python/openfl/openfl/openfl/component/aggregator/aggregator.py#559\u001B\\\u001B[2m559\u001B[0m\u001B]8;;\u001B\\\n",
      "text/html": "<pre style=\"white-space:pre;overflow-x:auto;line-height:normal;font-family:Menlo,'DejaVu Sans Mono',consolas,'Courier New',monospace\"><span style=\"color: #7fbfbf; text-decoration-color: #7fbfbf\">           </span>METRIC   Round <span style=\"color: #008080; text-decoration-color: #008080; font-weight: bold\">0</span>, collaborator validate_agg aggregated_model_validation result acc:      <span style=\"color: #008080; text-decoration-color: #008080; font-weight: bold\">0.688400</span>                                   <a href=\"file:///home/p/Desktop/Programs/Python/openfl/openfl/openfl/component/aggregator/aggregator.py\" target=\"_blank\"><span style=\"color: #7f7f7f; text-decoration-color: #7f7f7f\">aggregator.py</span></a><span style=\"color: #7f7f7f; text-decoration-color: #7f7f7f\">:</span><a href=\"file:///home/p/Desktop/Programs/Python/openfl/openfl/openfl/component/aggregator/aggregator.py#559\" target=\"_blank\"><span style=\"color: #7f7f7f; text-decoration-color: #7f7f7f\">559</span></a>\n</pre>\n"
     },
     "metadata": {},
     "output_type": "display_data"
    },
    {
     "data": {
      "text/plain": "\u001B[2;36m          \u001B[0m\u001B[2;36m \u001B[0m\u001B[31mWARNING \u001B[0m tried to remove tensor: __opt_state_needed not present in the tensor dict                                                       \u001B]8;id=157881;file:///home/p/Desktop/Programs/Python/openfl/openfl/openfl/utilities/utils.py\u001B\\\u001B[2mutils.py\u001B[0m\u001B]8;;\u001B\\\u001B[2m:\u001B[0m\u001B]8;id=319827;file:///home/p/Desktop/Programs/Python/openfl/openfl/openfl/utilities/utils.py#172\u001B\\\u001B[2m172\u001B[0m\u001B]8;;\u001B\\\n",
      "text/html": "<pre style=\"white-space:pre;overflow-x:auto;line-height:normal;font-family:Menlo,'DejaVu Sans Mono',consolas,'Courier New',monospace\"><span style=\"color: #7fbfbf; text-decoration-color: #7fbfbf\">           </span><span style=\"color: #800000; text-decoration-color: #800000\">WARNING </span> tried to remove tensor: __opt_state_needed not present in the tensor dict                                                       <a href=\"file:///home/p/Desktop/Programs/Python/openfl/openfl/openfl/utilities/utils.py\" target=\"_blank\"><span style=\"color: #7f7f7f; text-decoration-color: #7f7f7f\">utils.py</span></a><span style=\"color: #7f7f7f; text-decoration-color: #7f7f7f\">:</span><a href=\"file:///home/p/Desktop/Programs/Python/openfl/openfl/openfl/utilities/utils.py#172\" target=\"_blank\"><span style=\"color: #7f7f7f; text-decoration-color: #7f7f7f\">172</span></a>\n</pre>\n"
     },
     "metadata": {},
     "output_type": "display_data"
    },
    {
     "data": {
      "text/plain": "\u001B[2;36m          \u001B[0m\u001B[2;36m \u001B[0mMETRIC   Round \u001B[1;36m0\u001B[0m, collaborator two is sending metric for task train: cross_entropy       \u001B[1;36m0.251921\u001B[0m                                 \u001B]8;id=65015;file:///home/p/Desktop/Programs/Python/openfl/openfl/openfl/component/collaborator/collaborator.py\u001B\\\u001B[2mcollaborator.py\u001B[0m\u001B]8;;\u001B\\\u001B[2m:\u001B[0m\u001B]8;id=29589;file:///home/p/Desktop/Programs/Python/openfl/openfl/openfl/component/collaborator/collaborator.py#415\u001B\\\u001B[2m415\u001B[0m\u001B]8;;\u001B\\\n",
      "text/html": "<pre style=\"white-space:pre;overflow-x:auto;line-height:normal;font-family:Menlo,'DejaVu Sans Mono',consolas,'Courier New',monospace\"><span style=\"color: #7fbfbf; text-decoration-color: #7fbfbf\">           </span>METRIC   Round <span style=\"color: #008080; text-decoration-color: #008080; font-weight: bold\">0</span>, collaborator two is sending metric for task train: cross_entropy       <span style=\"color: #008080; text-decoration-color: #008080; font-weight: bold\">0.251921</span>                                 <a href=\"file:///home/p/Desktop/Programs/Python/openfl/openfl/openfl/component/collaborator/collaborator.py\" target=\"_blank\"><span style=\"color: #7f7f7f; text-decoration-color: #7f7f7f\">collaborator.py</span></a><span style=\"color: #7f7f7f; text-decoration-color: #7f7f7f\">:</span><a href=\"file:///home/p/Desktop/Programs/Python/openfl/openfl/openfl/component/collaborator/collaborator.py#415\" target=\"_blank\"><span style=\"color: #7f7f7f; text-decoration-color: #7f7f7f\">415</span></a>\n</pre>\n"
     },
     "metadata": {},
     "output_type": "display_data"
    },
    {
     "data": {
      "text/plain": "\u001B[2;36m          \u001B[0m\u001B[2;36m \u001B[0mMETRIC   Round \u001B[1;36m0\u001B[0m, collaborator two train result cross_entropy:   \u001B[1;36m0.251921\u001B[0m                                                           \u001B]8;id=769884;file:///home/p/Desktop/Programs/Python/openfl/openfl/openfl/component/aggregator/aggregator.py\u001B\\\u001B[2maggregator.py\u001B[0m\u001B]8;;\u001B\\\u001B[2m:\u001B[0m\u001B]8;id=252413;file:///home/p/Desktop/Programs/Python/openfl/openfl/openfl/component/aggregator/aggregator.py#559\u001B\\\u001B[2m559\u001B[0m\u001B]8;;\u001B\\\n",
      "text/html": "<pre style=\"white-space:pre;overflow-x:auto;line-height:normal;font-family:Menlo,'DejaVu Sans Mono',consolas,'Courier New',monospace\"><span style=\"color: #7fbfbf; text-decoration-color: #7fbfbf\">           </span>METRIC   Round <span style=\"color: #008080; text-decoration-color: #008080; font-weight: bold\">0</span>, collaborator two train result cross_entropy:   <span style=\"color: #008080; text-decoration-color: #008080; font-weight: bold\">0.251921</span>                                                           <a href=\"file:///home/p/Desktop/Programs/Python/openfl/openfl/openfl/component/aggregator/aggregator.py\" target=\"_blank\"><span style=\"color: #7f7f7f; text-decoration-color: #7f7f7f\">aggregator.py</span></a><span style=\"color: #7f7f7f; text-decoration-color: #7f7f7f\">:</span><a href=\"file:///home/p/Desktop/Programs/Python/openfl/openfl/openfl/component/aggregator/aggregator.py#559\" target=\"_blank\"><span style=\"color: #7f7f7f; text-decoration-color: #7f7f7f\">559</span></a>\n</pre>\n"
     },
     "metadata": {},
     "output_type": "display_data"
    },
    {
     "data": {
      "text/plain": "\u001B[2;36m          \u001B[0m\u001B[2;36m \u001B[0mMETRIC   Round \u001B[1;36m0\u001B[0m, collaborator two is sending metric for task locally_tuned_model_validation: acc        \u001B[1;36m0.716000\u001B[0m                 \u001B]8;id=997650;file:///home/p/Desktop/Programs/Python/openfl/openfl/openfl/component/collaborator/collaborator.py\u001B\\\u001B[2mcollaborator.py\u001B[0m\u001B]8;;\u001B\\\u001B[2m:\u001B[0m\u001B]8;id=326374;file:///home/p/Desktop/Programs/Python/openfl/openfl/openfl/component/collaborator/collaborator.py#415\u001B\\\u001B[2m415\u001B[0m\u001B]8;;\u001B\\\n",
      "text/html": "<pre style=\"white-space:pre;overflow-x:auto;line-height:normal;font-family:Menlo,'DejaVu Sans Mono',consolas,'Courier New',monospace\"><span style=\"color: #7fbfbf; text-decoration-color: #7fbfbf\">           </span>METRIC   Round <span style=\"color: #008080; text-decoration-color: #008080; font-weight: bold\">0</span>, collaborator two is sending metric for task locally_tuned_model_validation: acc        <span style=\"color: #008080; text-decoration-color: #008080; font-weight: bold\">0.716000</span>                 <a href=\"file:///home/p/Desktop/Programs/Python/openfl/openfl/openfl/component/collaborator/collaborator.py\" target=\"_blank\"><span style=\"color: #7f7f7f; text-decoration-color: #7f7f7f\">collaborator.py</span></a><span style=\"color: #7f7f7f; text-decoration-color: #7f7f7f\">:</span><a href=\"file:///home/p/Desktop/Programs/Python/openfl/openfl/openfl/component/collaborator/collaborator.py#415\" target=\"_blank\"><span style=\"color: #7f7f7f; text-decoration-color: #7f7f7f\">415</span></a>\n</pre>\n"
     },
     "metadata": {},
     "output_type": "display_data"
    },
    {
     "data": {
      "text/plain": "\u001B[2;36m          \u001B[0m\u001B[2;36m \u001B[0mMETRIC   Round \u001B[1;36m0\u001B[0m, collaborator validate_local locally_tuned_model_validation result acc: \u001B[1;36m0.716000\u001B[0m                                   \u001B]8;id=434987;file:///home/p/Desktop/Programs/Python/openfl/openfl/openfl/component/aggregator/aggregator.py\u001B\\\u001B[2maggregator.py\u001B[0m\u001B]8;;\u001B\\\u001B[2m:\u001B[0m\u001B]8;id=905647;file:///home/p/Desktop/Programs/Python/openfl/openfl/openfl/component/aggregator/aggregator.py#559\u001B\\\u001B[2m559\u001B[0m\u001B]8;;\u001B\\\n",
      "text/html": "<pre style=\"white-space:pre;overflow-x:auto;line-height:normal;font-family:Menlo,'DejaVu Sans Mono',consolas,'Courier New',monospace\"><span style=\"color: #7fbfbf; text-decoration-color: #7fbfbf\">           </span>METRIC   Round <span style=\"color: #008080; text-decoration-color: #008080; font-weight: bold\">0</span>, collaborator validate_local locally_tuned_model_validation result acc: <span style=\"color: #008080; text-decoration-color: #008080; font-weight: bold\">0.716000</span>                                   <a href=\"file:///home/p/Desktop/Programs/Python/openfl/openfl/openfl/component/aggregator/aggregator.py\" target=\"_blank\"><span style=\"color: #7f7f7f; text-decoration-color: #7f7f7f\">aggregator.py</span></a><span style=\"color: #7f7f7f; text-decoration-color: #7f7f7f\">:</span><a href=\"file:///home/p/Desktop/Programs/Python/openfl/openfl/openfl/component/aggregator/aggregator.py#559\" target=\"_blank\"><span style=\"color: #7f7f7f; text-decoration-color: #7f7f7f\">559</span></a>\n</pre>\n"
     },
     "metadata": {},
     "output_type": "display_data"
    },
    {
     "data": {
      "text/plain": "\u001B[2;36m          \u001B[0m\u001B[2;36m \u001B[0mMETRIC   Round \u001B[1;36m0\u001B[0m, collaborator three is sending metric for task aggregated_model_validation: acc \u001B[1;36m0.668800\u001B[0m                         \u001B]8;id=42693;file:///home/p/Desktop/Programs/Python/openfl/openfl/openfl/component/collaborator/collaborator.py\u001B\\\u001B[2mcollaborator.py\u001B[0m\u001B]8;;\u001B\\\u001B[2m:\u001B[0m\u001B]8;id=510203;file:///home/p/Desktop/Programs/Python/openfl/openfl/openfl/component/collaborator/collaborator.py#415\u001B\\\u001B[2m415\u001B[0m\u001B]8;;\u001B\\\n",
      "text/html": "<pre style=\"white-space:pre;overflow-x:auto;line-height:normal;font-family:Menlo,'DejaVu Sans Mono',consolas,'Courier New',monospace\"><span style=\"color: #7fbfbf; text-decoration-color: #7fbfbf\">           </span>METRIC   Round <span style=\"color: #008080; text-decoration-color: #008080; font-weight: bold\">0</span>, collaborator three is sending metric for task aggregated_model_validation: acc <span style=\"color: #008080; text-decoration-color: #008080; font-weight: bold\">0.668800</span>                         <a href=\"file:///home/p/Desktop/Programs/Python/openfl/openfl/openfl/component/collaborator/collaborator.py\" target=\"_blank\"><span style=\"color: #7f7f7f; text-decoration-color: #7f7f7f\">collaborator.py</span></a><span style=\"color: #7f7f7f; text-decoration-color: #7f7f7f\">:</span><a href=\"file:///home/p/Desktop/Programs/Python/openfl/openfl/openfl/component/collaborator/collaborator.py#415\" target=\"_blank\"><span style=\"color: #7f7f7f; text-decoration-color: #7f7f7f\">415</span></a>\n</pre>\n"
     },
     "metadata": {},
     "output_type": "display_data"
    },
    {
     "data": {
      "text/plain": "\u001B[2;36m          \u001B[0m\u001B[2;36m \u001B[0mMETRIC   Round \u001B[1;36m0\u001B[0m, collaborator validate_agg aggregated_model_validation result acc:      \u001B[1;36m0.668800\u001B[0m                                   \u001B]8;id=62966;file:///home/p/Desktop/Programs/Python/openfl/openfl/openfl/component/aggregator/aggregator.py\u001B\\\u001B[2maggregator.py\u001B[0m\u001B]8;;\u001B\\\u001B[2m:\u001B[0m\u001B]8;id=494874;file:///home/p/Desktop/Programs/Python/openfl/openfl/openfl/component/aggregator/aggregator.py#559\u001B\\\u001B[2m559\u001B[0m\u001B]8;;\u001B\\\n",
      "text/html": "<pre style=\"white-space:pre;overflow-x:auto;line-height:normal;font-family:Menlo,'DejaVu Sans Mono',consolas,'Courier New',monospace\"><span style=\"color: #7fbfbf; text-decoration-color: #7fbfbf\">           </span>METRIC   Round <span style=\"color: #008080; text-decoration-color: #008080; font-weight: bold\">0</span>, collaborator validate_agg aggregated_model_validation result acc:      <span style=\"color: #008080; text-decoration-color: #008080; font-weight: bold\">0.668800</span>                                   <a href=\"file:///home/p/Desktop/Programs/Python/openfl/openfl/openfl/component/aggregator/aggregator.py\" target=\"_blank\"><span style=\"color: #7f7f7f; text-decoration-color: #7f7f7f\">aggregator.py</span></a><span style=\"color: #7f7f7f; text-decoration-color: #7f7f7f\">:</span><a href=\"file:///home/p/Desktop/Programs/Python/openfl/openfl/openfl/component/aggregator/aggregator.py#559\" target=\"_blank\"><span style=\"color: #7f7f7f; text-decoration-color: #7f7f7f\">559</span></a>\n</pre>\n"
     },
     "metadata": {},
     "output_type": "display_data"
    },
    {
     "data": {
      "text/plain": "\u001B[2;36m[18:57:03]\u001B[0m\u001B[2;36m \u001B[0m\u001B[31mWARNING \u001B[0m tried to remove tensor: __opt_state_needed not present in the tensor dict                                                       \u001B]8;id=859994;file:///home/p/Desktop/Programs/Python/openfl/openfl/openfl/utilities/utils.py\u001B\\\u001B[2mutils.py\u001B[0m\u001B]8;;\u001B\\\u001B[2m:\u001B[0m\u001B]8;id=608188;file:///home/p/Desktop/Programs/Python/openfl/openfl/openfl/utilities/utils.py#172\u001B\\\u001B[2m172\u001B[0m\u001B]8;;\u001B\\\n",
      "text/html": "<pre style=\"white-space:pre;overflow-x:auto;line-height:normal;font-family:Menlo,'DejaVu Sans Mono',consolas,'Courier New',monospace\"><span style=\"color: #7fbfbf; text-decoration-color: #7fbfbf\">[18:57:03] </span><span style=\"color: #800000; text-decoration-color: #800000\">WARNING </span> tried to remove tensor: __opt_state_needed not present in the tensor dict                                                       <a href=\"file:///home/p/Desktop/Programs/Python/openfl/openfl/openfl/utilities/utils.py\" target=\"_blank\"><span style=\"color: #7f7f7f; text-decoration-color: #7f7f7f\">utils.py</span></a><span style=\"color: #7f7f7f; text-decoration-color: #7f7f7f\">:</span><a href=\"file:///home/p/Desktop/Programs/Python/openfl/openfl/openfl/utilities/utils.py#172\" target=\"_blank\"><span style=\"color: #7f7f7f; text-decoration-color: #7f7f7f\">172</span></a>\n</pre>\n"
     },
     "metadata": {},
     "output_type": "display_data"
    },
    {
     "data": {
      "text/plain": "\u001B[2;36m          \u001B[0m\u001B[2;36m \u001B[0mMETRIC   Round \u001B[1;36m0\u001B[0m, collaborator three is sending metric for task train: cross_entropy     \u001B[1;36m0.250695\u001B[0m                                 \u001B]8;id=522140;file:///home/p/Desktop/Programs/Python/openfl/openfl/openfl/component/collaborator/collaborator.py\u001B\\\u001B[2mcollaborator.py\u001B[0m\u001B]8;;\u001B\\\u001B[2m:\u001B[0m\u001B]8;id=894638;file:///home/p/Desktop/Programs/Python/openfl/openfl/openfl/component/collaborator/collaborator.py#415\u001B\\\u001B[2m415\u001B[0m\u001B]8;;\u001B\\\n",
      "text/html": "<pre style=\"white-space:pre;overflow-x:auto;line-height:normal;font-family:Menlo,'DejaVu Sans Mono',consolas,'Courier New',monospace\"><span style=\"color: #7fbfbf; text-decoration-color: #7fbfbf\">           </span>METRIC   Round <span style=\"color: #008080; text-decoration-color: #008080; font-weight: bold\">0</span>, collaborator three is sending metric for task train: cross_entropy     <span style=\"color: #008080; text-decoration-color: #008080; font-weight: bold\">0.250695</span>                                 <a href=\"file:///home/p/Desktop/Programs/Python/openfl/openfl/openfl/component/collaborator/collaborator.py\" target=\"_blank\"><span style=\"color: #7f7f7f; text-decoration-color: #7f7f7f\">collaborator.py</span></a><span style=\"color: #7f7f7f; text-decoration-color: #7f7f7f\">:</span><a href=\"file:///home/p/Desktop/Programs/Python/openfl/openfl/openfl/component/collaborator/collaborator.py#415\" target=\"_blank\"><span style=\"color: #7f7f7f; text-decoration-color: #7f7f7f\">415</span></a>\n</pre>\n"
     },
     "metadata": {},
     "output_type": "display_data"
    },
    {
     "data": {
      "text/plain": "\u001B[2;36m          \u001B[0m\u001B[2;36m \u001B[0mMETRIC   Round \u001B[1;36m0\u001B[0m, collaborator three train result cross_entropy: \u001B[1;36m0.250695\u001B[0m                                                           \u001B]8;id=499243;file:///home/p/Desktop/Programs/Python/openfl/openfl/openfl/component/aggregator/aggregator.py\u001B\\\u001B[2maggregator.py\u001B[0m\u001B]8;;\u001B\\\u001B[2m:\u001B[0m\u001B]8;id=424705;file:///home/p/Desktop/Programs/Python/openfl/openfl/openfl/component/aggregator/aggregator.py#559\u001B\\\u001B[2m559\u001B[0m\u001B]8;;\u001B\\\n",
      "text/html": "<pre style=\"white-space:pre;overflow-x:auto;line-height:normal;font-family:Menlo,'DejaVu Sans Mono',consolas,'Courier New',monospace\"><span style=\"color: #7fbfbf; text-decoration-color: #7fbfbf\">           </span>METRIC   Round <span style=\"color: #008080; text-decoration-color: #008080; font-weight: bold\">0</span>, collaborator three train result cross_entropy: <span style=\"color: #008080; text-decoration-color: #008080; font-weight: bold\">0.250695</span>                                                           <a href=\"file:///home/p/Desktop/Programs/Python/openfl/openfl/openfl/component/aggregator/aggregator.py\" target=\"_blank\"><span style=\"color: #7f7f7f; text-decoration-color: #7f7f7f\">aggregator.py</span></a><span style=\"color: #7f7f7f; text-decoration-color: #7f7f7f\">:</span><a href=\"file:///home/p/Desktop/Programs/Python/openfl/openfl/openfl/component/aggregator/aggregator.py#559\" target=\"_blank\"><span style=\"color: #7f7f7f; text-decoration-color: #7f7f7f\">559</span></a>\n</pre>\n"
     },
     "metadata": {},
     "output_type": "display_data"
    },
    {
     "data": {
      "text/plain": "\u001B[2;36m          \u001B[0m\u001B[2;36m \u001B[0mMETRIC   Round \u001B[1;36m0\u001B[0m, collaborator three is sending metric for task locally_tuned_model_validation: acc      \u001B[1;36m0.699200\u001B[0m                 \u001B]8;id=7883;file:///home/p/Desktop/Programs/Python/openfl/openfl/openfl/component/collaborator/collaborator.py\u001B\\\u001B[2mcollaborator.py\u001B[0m\u001B]8;;\u001B\\\u001B[2m:\u001B[0m\u001B]8;id=985880;file:///home/p/Desktop/Programs/Python/openfl/openfl/openfl/component/collaborator/collaborator.py#415\u001B\\\u001B[2m415\u001B[0m\u001B]8;;\u001B\\\n",
      "text/html": "<pre style=\"white-space:pre;overflow-x:auto;line-height:normal;font-family:Menlo,'DejaVu Sans Mono',consolas,'Courier New',monospace\"><span style=\"color: #7fbfbf; text-decoration-color: #7fbfbf\">           </span>METRIC   Round <span style=\"color: #008080; text-decoration-color: #008080; font-weight: bold\">0</span>, collaborator three is sending metric for task locally_tuned_model_validation: acc      <span style=\"color: #008080; text-decoration-color: #008080; font-weight: bold\">0.699200</span>                 <a href=\"file:///home/p/Desktop/Programs/Python/openfl/openfl/openfl/component/collaborator/collaborator.py\" target=\"_blank\"><span style=\"color: #7f7f7f; text-decoration-color: #7f7f7f\">collaborator.py</span></a><span style=\"color: #7f7f7f; text-decoration-color: #7f7f7f\">:</span><a href=\"file:///home/p/Desktop/Programs/Python/openfl/openfl/openfl/component/collaborator/collaborator.py#415\" target=\"_blank\"><span style=\"color: #7f7f7f; text-decoration-color: #7f7f7f\">415</span></a>\n</pre>\n"
     },
     "metadata": {},
     "output_type": "display_data"
    },
    {
     "data": {
      "text/plain": "\u001B[2;36m          \u001B[0m\u001B[2;36m \u001B[0mMETRIC   Round \u001B[1;36m0\u001B[0m, collaborator validate_local locally_tuned_model_validation result acc: \u001B[1;36m0.699200\u001B[0m                                   \u001B]8;id=755052;file:///home/p/Desktop/Programs/Python/openfl/openfl/openfl/component/aggregator/aggregator.py\u001B\\\u001B[2maggregator.py\u001B[0m\u001B]8;;\u001B\\\u001B[2m:\u001B[0m\u001B]8;id=245042;file:///home/p/Desktop/Programs/Python/openfl/openfl/openfl/component/aggregator/aggregator.py#559\u001B\\\u001B[2m559\u001B[0m\u001B]8;;\u001B\\\n",
      "text/html": "<pre style=\"white-space:pre;overflow-x:auto;line-height:normal;font-family:Menlo,'DejaVu Sans Mono',consolas,'Courier New',monospace\"><span style=\"color: #7fbfbf; text-decoration-color: #7fbfbf\">           </span>METRIC   Round <span style=\"color: #008080; text-decoration-color: #008080; font-weight: bold\">0</span>, collaborator validate_local locally_tuned_model_validation result acc: <span style=\"color: #008080; text-decoration-color: #008080; font-weight: bold\">0.699200</span>                                   <a href=\"file:///home/p/Desktop/Programs/Python/openfl/openfl/openfl/component/aggregator/aggregator.py\" target=\"_blank\"><span style=\"color: #7f7f7f; text-decoration-color: #7f7f7f\">aggregator.py</span></a><span style=\"color: #7f7f7f; text-decoration-color: #7f7f7f\">:</span><a href=\"file:///home/p/Desktop/Programs/Python/openfl/openfl/openfl/component/aggregator/aggregator.py#559\" target=\"_blank\"><span style=\"color: #7f7f7f; text-decoration-color: #7f7f7f\">559</span></a>\n</pre>\n"
     },
     "metadata": {},
     "output_type": "display_data"
    },
    {
     "data": {
      "text/plain": "\u001B[2;36m          \u001B[0m\u001B[2;36m \u001B[0mMETRIC   Round \u001B[1;36m0\u001B[0m, collaborator four is sending metric for task aggregated_model_validation: acc  \u001B[1;36m0.666400\u001B[0m                         \u001B]8;id=623432;file:///home/p/Desktop/Programs/Python/openfl/openfl/openfl/component/collaborator/collaborator.py\u001B\\\u001B[2mcollaborator.py\u001B[0m\u001B]8;;\u001B\\\u001B[2m:\u001B[0m\u001B]8;id=762246;file:///home/p/Desktop/Programs/Python/openfl/openfl/openfl/component/collaborator/collaborator.py#415\u001B\\\u001B[2m415\u001B[0m\u001B]8;;\u001B\\\n",
      "text/html": "<pre style=\"white-space:pre;overflow-x:auto;line-height:normal;font-family:Menlo,'DejaVu Sans Mono',consolas,'Courier New',monospace\"><span style=\"color: #7fbfbf; text-decoration-color: #7fbfbf\">           </span>METRIC   Round <span style=\"color: #008080; text-decoration-color: #008080; font-weight: bold\">0</span>, collaborator four is sending metric for task aggregated_model_validation: acc  <span style=\"color: #008080; text-decoration-color: #008080; font-weight: bold\">0.666400</span>                         <a href=\"file:///home/p/Desktop/Programs/Python/openfl/openfl/openfl/component/collaborator/collaborator.py\" target=\"_blank\"><span style=\"color: #7f7f7f; text-decoration-color: #7f7f7f\">collaborator.py</span></a><span style=\"color: #7f7f7f; text-decoration-color: #7f7f7f\">:</span><a href=\"file:///home/p/Desktop/Programs/Python/openfl/openfl/openfl/component/collaborator/collaborator.py#415\" target=\"_blank\"><span style=\"color: #7f7f7f; text-decoration-color: #7f7f7f\">415</span></a>\n</pre>\n"
     },
     "metadata": {},
     "output_type": "display_data"
    },
    {
     "data": {
      "text/plain": "\u001B[2;36m          \u001B[0m\u001B[2;36m \u001B[0mMETRIC   Round \u001B[1;36m0\u001B[0m, collaborator validate_agg aggregated_model_validation result acc:      \u001B[1;36m0.666400\u001B[0m                                   \u001B]8;id=865189;file:///home/p/Desktop/Programs/Python/openfl/openfl/openfl/component/aggregator/aggregator.py\u001B\\\u001B[2maggregator.py\u001B[0m\u001B]8;;\u001B\\\u001B[2m:\u001B[0m\u001B]8;id=191562;file:///home/p/Desktop/Programs/Python/openfl/openfl/openfl/component/aggregator/aggregator.py#559\u001B\\\u001B[2m559\u001B[0m\u001B]8;;\u001B\\\n",
      "text/html": "<pre style=\"white-space:pre;overflow-x:auto;line-height:normal;font-family:Menlo,'DejaVu Sans Mono',consolas,'Courier New',monospace\"><span style=\"color: #7fbfbf; text-decoration-color: #7fbfbf\">           </span>METRIC   Round <span style=\"color: #008080; text-decoration-color: #008080; font-weight: bold\">0</span>, collaborator validate_agg aggregated_model_validation result acc:      <span style=\"color: #008080; text-decoration-color: #008080; font-weight: bold\">0.666400</span>                                   <a href=\"file:///home/p/Desktop/Programs/Python/openfl/openfl/openfl/component/aggregator/aggregator.py\" target=\"_blank\"><span style=\"color: #7f7f7f; text-decoration-color: #7f7f7f\">aggregator.py</span></a><span style=\"color: #7f7f7f; text-decoration-color: #7f7f7f\">:</span><a href=\"file:///home/p/Desktop/Programs/Python/openfl/openfl/openfl/component/aggregator/aggregator.py#559\" target=\"_blank\"><span style=\"color: #7f7f7f; text-decoration-color: #7f7f7f\">559</span></a>\n</pre>\n"
     },
     "metadata": {},
     "output_type": "display_data"
    },
    {
     "data": {
      "text/plain": "\u001B[2;36m[18:57:04]\u001B[0m\u001B[2;36m \u001B[0m\u001B[31mWARNING \u001B[0m tried to remove tensor: __opt_state_needed not present in the tensor dict                                                       \u001B]8;id=517000;file:///home/p/Desktop/Programs/Python/openfl/openfl/openfl/utilities/utils.py\u001B\\\u001B[2mutils.py\u001B[0m\u001B]8;;\u001B\\\u001B[2m:\u001B[0m\u001B]8;id=586829;file:///home/p/Desktop/Programs/Python/openfl/openfl/openfl/utilities/utils.py#172\u001B\\\u001B[2m172\u001B[0m\u001B]8;;\u001B\\\n",
      "text/html": "<pre style=\"white-space:pre;overflow-x:auto;line-height:normal;font-family:Menlo,'DejaVu Sans Mono',consolas,'Courier New',monospace\"><span style=\"color: #7fbfbf; text-decoration-color: #7fbfbf\">[18:57:04] </span><span style=\"color: #800000; text-decoration-color: #800000\">WARNING </span> tried to remove tensor: __opt_state_needed not present in the tensor dict                                                       <a href=\"file:///home/p/Desktop/Programs/Python/openfl/openfl/openfl/utilities/utils.py\" target=\"_blank\"><span style=\"color: #7f7f7f; text-decoration-color: #7f7f7f\">utils.py</span></a><span style=\"color: #7f7f7f; text-decoration-color: #7f7f7f\">:</span><a href=\"file:///home/p/Desktop/Programs/Python/openfl/openfl/openfl/utilities/utils.py#172\" target=\"_blank\"><span style=\"color: #7f7f7f; text-decoration-color: #7f7f7f\">172</span></a>\n</pre>\n"
     },
     "metadata": {},
     "output_type": "display_data"
    },
    {
     "data": {
      "text/plain": "\u001B[2;36m          \u001B[0m\u001B[2;36m \u001B[0mMETRIC   Round \u001B[1;36m0\u001B[0m, collaborator four is sending metric for task train: cross_entropy      \u001B[1;36m0.246305\u001B[0m                                 \u001B]8;id=914252;file:///home/p/Desktop/Programs/Python/openfl/openfl/openfl/component/collaborator/collaborator.py\u001B\\\u001B[2mcollaborator.py\u001B[0m\u001B]8;;\u001B\\\u001B[2m:\u001B[0m\u001B]8;id=234377;file:///home/p/Desktop/Programs/Python/openfl/openfl/openfl/component/collaborator/collaborator.py#415\u001B\\\u001B[2m415\u001B[0m\u001B]8;;\u001B\\\n",
      "text/html": "<pre style=\"white-space:pre;overflow-x:auto;line-height:normal;font-family:Menlo,'DejaVu Sans Mono',consolas,'Courier New',monospace\"><span style=\"color: #7fbfbf; text-decoration-color: #7fbfbf\">           </span>METRIC   Round <span style=\"color: #008080; text-decoration-color: #008080; font-weight: bold\">0</span>, collaborator four is sending metric for task train: cross_entropy      <span style=\"color: #008080; text-decoration-color: #008080; font-weight: bold\">0.246305</span>                                 <a href=\"file:///home/p/Desktop/Programs/Python/openfl/openfl/openfl/component/collaborator/collaborator.py\" target=\"_blank\"><span style=\"color: #7f7f7f; text-decoration-color: #7f7f7f\">collaborator.py</span></a><span style=\"color: #7f7f7f; text-decoration-color: #7f7f7f\">:</span><a href=\"file:///home/p/Desktop/Programs/Python/openfl/openfl/openfl/component/collaborator/collaborator.py#415\" target=\"_blank\"><span style=\"color: #7f7f7f; text-decoration-color: #7f7f7f\">415</span></a>\n</pre>\n"
     },
     "metadata": {},
     "output_type": "display_data"
    },
    {
     "data": {
      "text/plain": "\u001B[2;36m          \u001B[0m\u001B[2;36m \u001B[0mMETRIC   Round \u001B[1;36m0\u001B[0m, collaborator metric train result cross_entropy:        \u001B[1;36m0.246305\u001B[0m                                                   \u001B]8;id=458079;file:///home/p/Desktop/Programs/Python/openfl/openfl/openfl/component/aggregator/aggregator.py\u001B\\\u001B[2maggregator.py\u001B[0m\u001B]8;;\u001B\\\u001B[2m:\u001B[0m\u001B]8;id=171701;file:///home/p/Desktop/Programs/Python/openfl/openfl/openfl/component/aggregator/aggregator.py#559\u001B\\\u001B[2m559\u001B[0m\u001B]8;;\u001B\\\n",
      "text/html": "<pre style=\"white-space:pre;overflow-x:auto;line-height:normal;font-family:Menlo,'DejaVu Sans Mono',consolas,'Courier New',monospace\"><span style=\"color: #7fbfbf; text-decoration-color: #7fbfbf\">           </span>METRIC   Round <span style=\"color: #008080; text-decoration-color: #008080; font-weight: bold\">0</span>, collaborator metric train result cross_entropy:        <span style=\"color: #008080; text-decoration-color: #008080; font-weight: bold\">0.246305</span>                                                   <a href=\"file:///home/p/Desktop/Programs/Python/openfl/openfl/openfl/component/aggregator/aggregator.py\" target=\"_blank\"><span style=\"color: #7f7f7f; text-decoration-color: #7f7f7f\">aggregator.py</span></a><span style=\"color: #7f7f7f; text-decoration-color: #7f7f7f\">:</span><a href=\"file:///home/p/Desktop/Programs/Python/openfl/openfl/openfl/component/aggregator/aggregator.py#559\" target=\"_blank\"><span style=\"color: #7f7f7f; text-decoration-color: #7f7f7f\">559</span></a>\n</pre>\n"
     },
     "metadata": {},
     "output_type": "display_data"
    },
    {
     "data": {
      "text/plain": "\u001B[2;36m          \u001B[0m\u001B[2;36m \u001B[0mMETRIC   Round \u001B[1;36m0\u001B[0m, collaborator four is sending metric for task locally_tuned_model_validation: acc       \u001B[1;36m0.695200\u001B[0m                 \u001B]8;id=361728;file:///home/p/Desktop/Programs/Python/openfl/openfl/openfl/component/collaborator/collaborator.py\u001B\\\u001B[2mcollaborator.py\u001B[0m\u001B]8;;\u001B\\\u001B[2m:\u001B[0m\u001B]8;id=948815;file:///home/p/Desktop/Programs/Python/openfl/openfl/openfl/component/collaborator/collaborator.py#415\u001B\\\u001B[2m415\u001B[0m\u001B]8;;\u001B\\\n",
      "text/html": "<pre style=\"white-space:pre;overflow-x:auto;line-height:normal;font-family:Menlo,'DejaVu Sans Mono',consolas,'Courier New',monospace\"><span style=\"color: #7fbfbf; text-decoration-color: #7fbfbf\">           </span>METRIC   Round <span style=\"color: #008080; text-decoration-color: #008080; font-weight: bold\">0</span>, collaborator four is sending metric for task locally_tuned_model_validation: acc       <span style=\"color: #008080; text-decoration-color: #008080; font-weight: bold\">0.695200</span>                 <a href=\"file:///home/p/Desktop/Programs/Python/openfl/openfl/openfl/component/collaborator/collaborator.py\" target=\"_blank\"><span style=\"color: #7f7f7f; text-decoration-color: #7f7f7f\">collaborator.py</span></a><span style=\"color: #7f7f7f; text-decoration-color: #7f7f7f\">:</span><a href=\"file:///home/p/Desktop/Programs/Python/openfl/openfl/openfl/component/collaborator/collaborator.py#415\" target=\"_blank\"><span style=\"color: #7f7f7f; text-decoration-color: #7f7f7f\">415</span></a>\n</pre>\n"
     },
     "metadata": {},
     "output_type": "display_data"
    },
    {
     "data": {
      "text/plain": "\u001B[2;36m          \u001B[0m\u001B[2;36m \u001B[0mMETRIC   Round \u001B[1;36m0\u001B[0m, collaborator validate_local locally_tuned_model_validation result acc: \u001B[1;36m0.695200\u001B[0m                                   \u001B]8;id=180227;file:///home/p/Desktop/Programs/Python/openfl/openfl/openfl/component/aggregator/aggregator.py\u001B\\\u001B[2maggregator.py\u001B[0m\u001B]8;;\u001B\\\u001B[2m:\u001B[0m\u001B]8;id=969413;file:///home/p/Desktop/Programs/Python/openfl/openfl/openfl/component/aggregator/aggregator.py#559\u001B\\\u001B[2m559\u001B[0m\u001B]8;;\u001B\\\n",
      "text/html": "<pre style=\"white-space:pre;overflow-x:auto;line-height:normal;font-family:Menlo,'DejaVu Sans Mono',consolas,'Courier New',monospace\"><span style=\"color: #7fbfbf; text-decoration-color: #7fbfbf\">           </span>METRIC   Round <span style=\"color: #008080; text-decoration-color: #008080; font-weight: bold\">0</span>, collaborator validate_local locally_tuned_model_validation result acc: <span style=\"color: #008080; text-decoration-color: #008080; font-weight: bold\">0.695200</span>                                   <a href=\"file:///home/p/Desktop/Programs/Python/openfl/openfl/openfl/component/aggregator/aggregator.py\" target=\"_blank\"><span style=\"color: #7f7f7f; text-decoration-color: #7f7f7f\">aggregator.py</span></a><span style=\"color: #7f7f7f; text-decoration-color: #7f7f7f\">:</span><a href=\"file:///home/p/Desktop/Programs/Python/openfl/openfl/openfl/component/aggregator/aggregator.py#559\" target=\"_blank\"><span style=\"color: #7f7f7f; text-decoration-color: #7f7f7f\">559</span></a>\n</pre>\n"
     },
     "metadata": {},
     "output_type": "display_data"
    },
    {
     "data": {
      "text/plain": "\u001B[2;36m          \u001B[0m\u001B[2;36m \u001B[0mMETRIC   Round \u001B[1;36m0\u001B[0m, aggregator: locally_tuned_model_validation                                                                        \u001B]8;id=972758;file:///home/p/Desktop/Programs/Python/openfl/openfl/openfl/component/aggregator/aggregator.py\u001B\\\u001B[2maggregator.py\u001B[0m\u001B]8;;\u001B\\\u001B[2m:\u001B[0m\u001B]8;id=565478;file:///home/p/Desktop/Programs/Python/openfl/openfl/openfl/component/aggregator/aggregator.py#842\u001B\\\u001B[2m842\u001B[0m\u001B]8;;\u001B\\\n\u001B[2;36m           \u001B[0m         \u001B[1m<\u001B[0m\u001B[1;95mopenfl.interface.aggregation_functions.weighted_average.WeightedAverage\u001B[0m\u001B[39m object at \u001B[0m\u001B[1;36m0x7f2dc10bf580\u001B[0m\u001B[1m>\u001B[0m acc:     \u001B[1;36m0.704400\u001B[0m       \u001B[2m                 \u001B[0m\n",
      "text/html": "<pre style=\"white-space:pre;overflow-x:auto;line-height:normal;font-family:Menlo,'DejaVu Sans Mono',consolas,'Courier New',monospace\"><span style=\"color: #7fbfbf; text-decoration-color: #7fbfbf\">           </span>METRIC   Round <span style=\"color: #008080; text-decoration-color: #008080; font-weight: bold\">0</span>, aggregator: locally_tuned_model_validation                                                                        <a href=\"file:///home/p/Desktop/Programs/Python/openfl/openfl/openfl/component/aggregator/aggregator.py\" target=\"_blank\"><span style=\"color: #7f7f7f; text-decoration-color: #7f7f7f\">aggregator.py</span></a><span style=\"color: #7f7f7f; text-decoration-color: #7f7f7f\">:</span><a href=\"file:///home/p/Desktop/Programs/Python/openfl/openfl/openfl/component/aggregator/aggregator.py#842\" target=\"_blank\"><span style=\"color: #7f7f7f; text-decoration-color: #7f7f7f\">842</span></a>\n<span style=\"color: #7fbfbf; text-decoration-color: #7fbfbf\">           </span>         <span style=\"font-weight: bold\">&lt;</span><span style=\"color: #ff00ff; text-decoration-color: #ff00ff; font-weight: bold\">openfl.interface.aggregation_functions.weighted_average.WeightedAverage</span><span style=\"color: #000000; text-decoration-color: #000000\"> object at </span><span style=\"color: #008080; text-decoration-color: #008080; font-weight: bold\">0x7f2dc10bf580</span><span style=\"font-weight: bold\">&gt;</span> acc:     <span style=\"color: #008080; text-decoration-color: #008080; font-weight: bold\">0.704400</span>       <span style=\"color: #7f7f7f; text-decoration-color: #7f7f7f\">                 </span>\n</pre>\n"
     },
     "metadata": {},
     "output_type": "display_data"
    },
    {
     "data": {
      "text/plain": "\u001B[2;36m          \u001B[0m\u001B[2;36m \u001B[0mMETRIC   Round \u001B[1;36m0\u001B[0m, aggregator: train \u001B[1m<\u001B[0m\u001B[1;95mopenfl.interface.aggregation_functions.weighted_average.WeightedAverage\u001B[0m\u001B[39m object at \u001B[0m             \u001B]8;id=827116;file:///home/p/Desktop/Programs/Python/openfl/openfl/openfl/component/aggregator/aggregator.py\u001B\\\u001B[2maggregator.py\u001B[0m\u001B]8;;\u001B\\\u001B[2m:\u001B[0m\u001B]8;id=637359;file:///home/p/Desktop/Programs/Python/openfl/openfl/openfl/component/aggregator/aggregator.py#842\u001B\\\u001B[2m842\u001B[0m\u001B]8;;\u001B\\\n\u001B[2;36m           \u001B[0m         \u001B[1;36m0x7f2dc10bf580\u001B[0m\u001B[1m>\u001B[0m cross_entropy:    \u001B[1;36m0.249552\u001B[0m                                                                                 \u001B[2m                 \u001B[0m\n",
      "text/html": "<pre style=\"white-space:pre;overflow-x:auto;line-height:normal;font-family:Menlo,'DejaVu Sans Mono',consolas,'Courier New',monospace\"><span style=\"color: #7fbfbf; text-decoration-color: #7fbfbf\">           </span>METRIC   Round <span style=\"color: #008080; text-decoration-color: #008080; font-weight: bold\">0</span>, aggregator: train <span style=\"font-weight: bold\">&lt;</span><span style=\"color: #ff00ff; text-decoration-color: #ff00ff; font-weight: bold\">openfl.interface.aggregation_functions.weighted_average.WeightedAverage</span><span style=\"color: #000000; text-decoration-color: #000000\"> object at </span>             <a href=\"file:///home/p/Desktop/Programs/Python/openfl/openfl/openfl/component/aggregator/aggregator.py\" target=\"_blank\"><span style=\"color: #7f7f7f; text-decoration-color: #7f7f7f\">aggregator.py</span></a><span style=\"color: #7f7f7f; text-decoration-color: #7f7f7f\">:</span><a href=\"file:///home/p/Desktop/Programs/Python/openfl/openfl/openfl/component/aggregator/aggregator.py#842\" target=\"_blank\"><span style=\"color: #7f7f7f; text-decoration-color: #7f7f7f\">842</span></a>\n<span style=\"color: #7fbfbf; text-decoration-color: #7fbfbf\">           </span>         <span style=\"color: #008080; text-decoration-color: #008080; font-weight: bold\">0x7f2dc10bf580</span><span style=\"font-weight: bold\">&gt;</span> cross_entropy:    <span style=\"color: #008080; text-decoration-color: #008080; font-weight: bold\">0.249552</span>                                                                                 <span style=\"color: #7f7f7f; text-decoration-color: #7f7f7f\">                 </span>\n</pre>\n"
     },
     "metadata": {},
     "output_type": "display_data"
    },
    {
     "data": {
      "text/plain": "\u001B[2;36m          \u001B[0m\u001B[2;36m \u001B[0mMETRIC   Round \u001B[1;36m0\u001B[0m, aggregator: aggregated_model_validation \u001B[1m<\u001B[0m\u001B[1;95mopenfl.interface.aggregation_functions.weighted_average.WeightedAverage\u001B[0m\u001B[39m \u001B[0m \u001B]8;id=297823;file:///home/p/Desktop/Programs/Python/openfl/openfl/openfl/component/aggregator/aggregator.py\u001B\\\u001B[2maggregator.py\u001B[0m\u001B]8;;\u001B\\\u001B[2m:\u001B[0m\u001B]8;id=474269;file:///home/p/Desktop/Programs/Python/openfl/openfl/openfl/component/aggregator/aggregator.py#842\u001B\\\u001B[2m842\u001B[0m\u001B]8;;\u001B\\\n\u001B[2;36m           \u001B[0m         \u001B[39mobject at \u001B[0m\u001B[1;36m0x7f2dc10bf580\u001B[0m\u001B[1m>\u001B[0m acc:        \u001B[1;36m0.675100\u001B[0m                                                                             \u001B[2m                 \u001B[0m\n",
      "text/html": "<pre style=\"white-space:pre;overflow-x:auto;line-height:normal;font-family:Menlo,'DejaVu Sans Mono',consolas,'Courier New',monospace\"><span style=\"color: #7fbfbf; text-decoration-color: #7fbfbf\">           </span>METRIC   Round <span style=\"color: #008080; text-decoration-color: #008080; font-weight: bold\">0</span>, aggregator: aggregated_model_validation <span style=\"font-weight: bold\">&lt;</span><span style=\"color: #ff00ff; text-decoration-color: #ff00ff; font-weight: bold\">openfl.interface.aggregation_functions.weighted_average.WeightedAverage</span><span style=\"color: #000000; text-decoration-color: #000000\"> </span> <a href=\"file:///home/p/Desktop/Programs/Python/openfl/openfl/openfl/component/aggregator/aggregator.py\" target=\"_blank\"><span style=\"color: #7f7f7f; text-decoration-color: #7f7f7f\">aggregator.py</span></a><span style=\"color: #7f7f7f; text-decoration-color: #7f7f7f\">:</span><a href=\"file:///home/p/Desktop/Programs/Python/openfl/openfl/openfl/component/aggregator/aggregator.py#842\" target=\"_blank\"><span style=\"color: #7f7f7f; text-decoration-color: #7f7f7f\">842</span></a>\n<span style=\"color: #7fbfbf; text-decoration-color: #7fbfbf\">           </span>         <span style=\"color: #000000; text-decoration-color: #000000\">object at </span><span style=\"color: #008080; text-decoration-color: #008080; font-weight: bold\">0x7f2dc10bf580</span><span style=\"font-weight: bold\">&gt;</span> acc:        <span style=\"color: #008080; text-decoration-color: #008080; font-weight: bold\">0.675100</span>                                                                             <span style=\"color: #7f7f7f; text-decoration-color: #7f7f7f\">                 </span>\n</pre>\n"
     },
     "metadata": {},
     "output_type": "display_data"
    },
    {
     "data": {
      "text/plain": "\u001B[2;36m          \u001B[0m\u001B[2;36m \u001B[0mMETRIC   Round \u001B[1;36m0\u001B[0m: saved the best model with score \u001B[1;36m0.675100\u001B[0m                                                                          \u001B]8;id=454684;file:///home/p/Desktop/Programs/Python/openfl/openfl/openfl/component/aggregator/aggregator.py\u001B\\\u001B[2maggregator.py\u001B[0m\u001B]8;;\u001B\\\u001B[2m:\u001B[0m\u001B]8;id=689211;file:///home/p/Desktop/Programs/Python/openfl/openfl/openfl/component/aggregator/aggregator.py#858\u001B\\\u001B[2m858\u001B[0m\u001B]8;;\u001B\\\n",
      "text/html": "<pre style=\"white-space:pre;overflow-x:auto;line-height:normal;font-family:Menlo,'DejaVu Sans Mono',consolas,'Courier New',monospace\"><span style=\"color: #7fbfbf; text-decoration-color: #7fbfbf\">           </span>METRIC   Round <span style=\"color: #008080; text-decoration-color: #008080; font-weight: bold\">0</span>: saved the best model with score <span style=\"color: #008080; text-decoration-color: #008080; font-weight: bold\">0.675100</span>                                                                          <a href=\"file:///home/p/Desktop/Programs/Python/openfl/openfl/openfl/component/aggregator/aggregator.py\" target=\"_blank\"><span style=\"color: #7f7f7f; text-decoration-color: #7f7f7f\">aggregator.py</span></a><span style=\"color: #7f7f7f; text-decoration-color: #7f7f7f\">:</span><a href=\"file:///home/p/Desktop/Programs/Python/openfl/openfl/openfl/component/aggregator/aggregator.py#858\" target=\"_blank\"><span style=\"color: #7f7f7f; text-decoration-color: #7f7f7f\">858</span></a>\n</pre>\n"
     },
     "metadata": {},
     "output_type": "display_data"
    },
    {
     "data": {
      "text/plain": "\u001B[2;36m[18:57:05]\u001B[0m\u001B[2;36m \u001B[0m\u001B[31mWARNING \u001B[0m tried to remove tensor: __opt_state_needed not present in the tensor dict                                                       \u001B]8;id=127932;file:///home/p/Desktop/Programs/Python/openfl/openfl/openfl/utilities/utils.py\u001B\\\u001B[2mutils.py\u001B[0m\u001B]8;;\u001B\\\u001B[2m:\u001B[0m\u001B]8;id=670259;file:///home/p/Desktop/Programs/Python/openfl/openfl/openfl/utilities/utils.py#172\u001B\\\u001B[2m172\u001B[0m\u001B]8;;\u001B\\\n",
      "text/html": "<pre style=\"white-space:pre;overflow-x:auto;line-height:normal;font-family:Menlo,'DejaVu Sans Mono',consolas,'Courier New',monospace\"><span style=\"color: #7fbfbf; text-decoration-color: #7fbfbf\">[18:57:05] </span><span style=\"color: #800000; text-decoration-color: #800000\">WARNING </span> tried to remove tensor: __opt_state_needed not present in the tensor dict                                                       <a href=\"file:///home/p/Desktop/Programs/Python/openfl/openfl/openfl/utilities/utils.py\" target=\"_blank\"><span style=\"color: #7f7f7f; text-decoration-color: #7f7f7f\">utils.py</span></a><span style=\"color: #7f7f7f; text-decoration-color: #7f7f7f\">:</span><a href=\"file:///home/p/Desktop/Programs/Python/openfl/openfl/openfl/utilities/utils.py#172\" target=\"_blank\"><span style=\"color: #7f7f7f; text-decoration-color: #7f7f7f\">172</span></a>\n</pre>\n"
     },
     "metadata": {},
     "output_type": "display_data"
    },
    {
     "data": {
      "text/plain": "\u001B[2;36m          \u001B[0m\u001B[2;36m \u001B[0m\u001B[31mWARNING \u001B[0m tried to remove tensor: __opt_state_needed not present in the tensor dict                                                       \u001B]8;id=123490;file:///home/p/Desktop/Programs/Python/openfl/openfl/openfl/utilities/utils.py\u001B\\\u001B[2mutils.py\u001B[0m\u001B]8;;\u001B\\\u001B[2m:\u001B[0m\u001B]8;id=562033;file:///home/p/Desktop/Programs/Python/openfl/openfl/openfl/utilities/utils.py#172\u001B\\\u001B[2m172\u001B[0m\u001B]8;;\u001B\\\n",
      "text/html": "<pre style=\"white-space:pre;overflow-x:auto;line-height:normal;font-family:Menlo,'DejaVu Sans Mono',consolas,'Courier New',monospace\"><span style=\"color: #7fbfbf; text-decoration-color: #7fbfbf\">           </span><span style=\"color: #800000; text-decoration-color: #800000\">WARNING </span> tried to remove tensor: __opt_state_needed not present in the tensor dict                                                       <a href=\"file:///home/p/Desktop/Programs/Python/openfl/openfl/openfl/utilities/utils.py\" target=\"_blank\"><span style=\"color: #7f7f7f; text-decoration-color: #7f7f7f\">utils.py</span></a><span style=\"color: #7f7f7f; text-decoration-color: #7f7f7f\">:</span><a href=\"file:///home/p/Desktop/Programs/Python/openfl/openfl/openfl/utilities/utils.py#172\" target=\"_blank\"><span style=\"color: #7f7f7f; text-decoration-color: #7f7f7f\">172</span></a>\n</pre>\n"
     },
     "metadata": {},
     "output_type": "display_data"
    },
    {
     "data": {
      "text/plain": "\u001B[2;36m          \u001B[0m\u001B[2;36m \u001B[0m\u001B[31mWARNING \u001B[0m tried to remove tensor: __opt_state_needed not present in the tensor dict                                                       \u001B]8;id=801744;file:///home/p/Desktop/Programs/Python/openfl/openfl/openfl/utilities/utils.py\u001B\\\u001B[2mutils.py\u001B[0m\u001B]8;;\u001B\\\u001B[2m:\u001B[0m\u001B]8;id=205311;file:///home/p/Desktop/Programs/Python/openfl/openfl/openfl/utilities/utils.py#172\u001B\\\u001B[2m172\u001B[0m\u001B]8;;\u001B\\\n",
      "text/html": "<pre style=\"white-space:pre;overflow-x:auto;line-height:normal;font-family:Menlo,'DejaVu Sans Mono',consolas,'Courier New',monospace\"><span style=\"color: #7fbfbf; text-decoration-color: #7fbfbf\">           </span><span style=\"color: #800000; text-decoration-color: #800000\">WARNING </span> tried to remove tensor: __opt_state_needed not present in the tensor dict                                                       <a href=\"file:///home/p/Desktop/Programs/Python/openfl/openfl/openfl/utilities/utils.py\" target=\"_blank\"><span style=\"color: #7f7f7f; text-decoration-color: #7f7f7f\">utils.py</span></a><span style=\"color: #7f7f7f; text-decoration-color: #7f7f7f\">:</span><a href=\"file:///home/p/Desktop/Programs/Python/openfl/openfl/openfl/utilities/utils.py#172\" target=\"_blank\"><span style=\"color: #7f7f7f; text-decoration-color: #7f7f7f\">172</span></a>\n</pre>\n"
     },
     "metadata": {},
     "output_type": "display_data"
    },
    {
     "data": {
      "text/plain": "\u001B[2;36m          \u001B[0m\u001B[2;36m \u001B[0m\u001B[31mWARNING \u001B[0m tried to remove tensor: __opt_state_needed not present in the tensor dict                                                       \u001B]8;id=27734;file:///home/p/Desktop/Programs/Python/openfl/openfl/openfl/utilities/utils.py\u001B\\\u001B[2mutils.py\u001B[0m\u001B]8;;\u001B\\\u001B[2m:\u001B[0m\u001B]8;id=944518;file:///home/p/Desktop/Programs/Python/openfl/openfl/openfl/utilities/utils.py#172\u001B\\\u001B[2m172\u001B[0m\u001B]8;;\u001B\\\n",
      "text/html": "<pre style=\"white-space:pre;overflow-x:auto;line-height:normal;font-family:Menlo,'DejaVu Sans Mono',consolas,'Courier New',monospace\"><span style=\"color: #7fbfbf; text-decoration-color: #7fbfbf\">           </span><span style=\"color: #800000; text-decoration-color: #800000\">WARNING </span> tried to remove tensor: __opt_state_needed not present in the tensor dict                                                       <a href=\"file:///home/p/Desktop/Programs/Python/openfl/openfl/openfl/utilities/utils.py\" target=\"_blank\"><span style=\"color: #7f7f7f; text-decoration-color: #7f7f7f\">utils.py</span></a><span style=\"color: #7f7f7f; text-decoration-color: #7f7f7f\">:</span><a href=\"file:///home/p/Desktop/Programs/Python/openfl/openfl/openfl/utilities/utils.py#172\" target=\"_blank\"><span style=\"color: #7f7f7f; text-decoration-color: #7f7f7f\">172</span></a>\n</pre>\n"
     },
     "metadata": {},
     "output_type": "display_data"
    },
    {
     "data": {
      "text/plain": "\u001B[2;36m          \u001B[0m\u001B[2;36m \u001B[0m\u001B[31mWARNING \u001B[0m tried to remove tensor: __opt_state_needed not present in the tensor dict                                                       \u001B]8;id=458796;file:///home/p/Desktop/Programs/Python/openfl/openfl/openfl/utilities/utils.py\u001B\\\u001B[2mutils.py\u001B[0m\u001B]8;;\u001B\\\u001B[2m:\u001B[0m\u001B]8;id=652572;file:///home/p/Desktop/Programs/Python/openfl/openfl/openfl/utilities/utils.py#172\u001B\\\u001B[2m172\u001B[0m\u001B]8;;\u001B\\\n",
      "text/html": "<pre style=\"white-space:pre;overflow-x:auto;line-height:normal;font-family:Menlo,'DejaVu Sans Mono',consolas,'Courier New',monospace\"><span style=\"color: #7fbfbf; text-decoration-color: #7fbfbf\">           </span><span style=\"color: #800000; text-decoration-color: #800000\">WARNING </span> tried to remove tensor: __opt_state_needed not present in the tensor dict                                                       <a href=\"file:///home/p/Desktop/Programs/Python/openfl/openfl/openfl/utilities/utils.py\" target=\"_blank\"><span style=\"color: #7f7f7f; text-decoration-color: #7f7f7f\">utils.py</span></a><span style=\"color: #7f7f7f; text-decoration-color: #7f7f7f\">:</span><a href=\"file:///home/p/Desktop/Programs/Python/openfl/openfl/openfl/utilities/utils.py#172\" target=\"_blank\"><span style=\"color: #7f7f7f; text-decoration-color: #7f7f7f\">172</span></a>\n</pre>\n"
     },
     "metadata": {},
     "output_type": "display_data"
    },
    {
     "data": {
      "text/plain": "\u001B[2;36m          \u001B[0m\u001B[2;36m \u001B[0mMETRIC   Round \u001B[1;36m0\u001B[0m, collaborator one is sending metric for task aggregated_model_validation: acc   \u001B[1;36m0.708000\u001B[0m                         \u001B]8;id=885895;file:///home/p/Desktop/Programs/Python/openfl/openfl/openfl/component/collaborator/collaborator.py\u001B\\\u001B[2mcollaborator.py\u001B[0m\u001B]8;;\u001B\\\u001B[2m:\u001B[0m\u001B]8;id=837154;file:///home/p/Desktop/Programs/Python/openfl/openfl/openfl/component/collaborator/collaborator.py#415\u001B\\\u001B[2m415\u001B[0m\u001B]8;;\u001B\\\n",
      "text/html": "<pre style=\"white-space:pre;overflow-x:auto;line-height:normal;font-family:Menlo,'DejaVu Sans Mono',consolas,'Courier New',monospace\"><span style=\"color: #7fbfbf; text-decoration-color: #7fbfbf\">           </span>METRIC   Round <span style=\"color: #008080; text-decoration-color: #008080; font-weight: bold\">0</span>, collaborator one is sending metric for task aggregated_model_validation: acc   <span style=\"color: #008080; text-decoration-color: #008080; font-weight: bold\">0.708000</span>                         <a href=\"file:///home/p/Desktop/Programs/Python/openfl/openfl/openfl/component/collaborator/collaborator.py\" target=\"_blank\"><span style=\"color: #7f7f7f; text-decoration-color: #7f7f7f\">collaborator.py</span></a><span style=\"color: #7f7f7f; text-decoration-color: #7f7f7f\">:</span><a href=\"file:///home/p/Desktop/Programs/Python/openfl/openfl/openfl/component/collaborator/collaborator.py#415\" target=\"_blank\"><span style=\"color: #7f7f7f; text-decoration-color: #7f7f7f\">415</span></a>\n</pre>\n"
     },
     "metadata": {},
     "output_type": "display_data"
    },
    {
     "data": {
      "text/plain": "\u001B[2;36m          \u001B[0m\u001B[2;36m \u001B[0mMETRIC   Round \u001B[1;36m0\u001B[0m, collaborator validate_agg aggregated_model_validation result acc:      \u001B[1;36m0.708000\u001B[0m                                   \u001B]8;id=366619;file:///home/p/Desktop/Programs/Python/openfl/openfl/openfl/component/aggregator/aggregator.py\u001B\\\u001B[2maggregator.py\u001B[0m\u001B]8;;\u001B\\\u001B[2m:\u001B[0m\u001B]8;id=62527;file:///home/p/Desktop/Programs/Python/openfl/openfl/openfl/component/aggregator/aggregator.py#559\u001B\\\u001B[2m559\u001B[0m\u001B]8;;\u001B\\\n",
      "text/html": "<pre style=\"white-space:pre;overflow-x:auto;line-height:normal;font-family:Menlo,'DejaVu Sans Mono',consolas,'Courier New',monospace\"><span style=\"color: #7fbfbf; text-decoration-color: #7fbfbf\">           </span>METRIC   Round <span style=\"color: #008080; text-decoration-color: #008080; font-weight: bold\">0</span>, collaborator validate_agg aggregated_model_validation result acc:      <span style=\"color: #008080; text-decoration-color: #008080; font-weight: bold\">0.708000</span>                                   <a href=\"file:///home/p/Desktop/Programs/Python/openfl/openfl/openfl/component/aggregator/aggregator.py\" target=\"_blank\"><span style=\"color: #7f7f7f; text-decoration-color: #7f7f7f\">aggregator.py</span></a><span style=\"color: #7f7f7f; text-decoration-color: #7f7f7f\">:</span><a href=\"file:///home/p/Desktop/Programs/Python/openfl/openfl/openfl/component/aggregator/aggregator.py#559\" target=\"_blank\"><span style=\"color: #7f7f7f; text-decoration-color: #7f7f7f\">559</span></a>\n</pre>\n"
     },
     "metadata": {},
     "output_type": "display_data"
    },
    {
     "data": {
      "text/plain": "\u001B[2;36m[18:57:06]\u001B[0m\u001B[2;36m \u001B[0m\u001B[31mWARNING \u001B[0m tried to remove tensor: __opt_state_needed not present in the tensor dict                                                       \u001B]8;id=282513;file:///home/p/Desktop/Programs/Python/openfl/openfl/openfl/utilities/utils.py\u001B\\\u001B[2mutils.py\u001B[0m\u001B]8;;\u001B\\\u001B[2m:\u001B[0m\u001B]8;id=701996;file:///home/p/Desktop/Programs/Python/openfl/openfl/openfl/utilities/utils.py#172\u001B\\\u001B[2m172\u001B[0m\u001B]8;;\u001B\\\n",
      "text/html": "<pre style=\"white-space:pre;overflow-x:auto;line-height:normal;font-family:Menlo,'DejaVu Sans Mono',consolas,'Courier New',monospace\"><span style=\"color: #7fbfbf; text-decoration-color: #7fbfbf\">[18:57:06] </span><span style=\"color: #800000; text-decoration-color: #800000\">WARNING </span> tried to remove tensor: __opt_state_needed not present in the tensor dict                                                       <a href=\"file:///home/p/Desktop/Programs/Python/openfl/openfl/openfl/utilities/utils.py\" target=\"_blank\"><span style=\"color: #7f7f7f; text-decoration-color: #7f7f7f\">utils.py</span></a><span style=\"color: #7f7f7f; text-decoration-color: #7f7f7f\">:</span><a href=\"file:///home/p/Desktop/Programs/Python/openfl/openfl/openfl/utilities/utils.py#172\" target=\"_blank\"><span style=\"color: #7f7f7f; text-decoration-color: #7f7f7f\">172</span></a>\n</pre>\n"
     },
     "metadata": {},
     "output_type": "display_data"
    },
    {
     "data": {
      "text/plain": "\u001B[2;36m          \u001B[0m\u001B[2;36m \u001B[0mMETRIC   Round \u001B[1;36m0\u001B[0m, collaborator one is sending metric for task train: cross_entropy       \u001B[1;36m0.233139\u001B[0m                                 \u001B]8;id=396079;file:///home/p/Desktop/Programs/Python/openfl/openfl/openfl/component/collaborator/collaborator.py\u001B\\\u001B[2mcollaborator.py\u001B[0m\u001B]8;;\u001B\\\u001B[2m:\u001B[0m\u001B]8;id=584899;file:///home/p/Desktop/Programs/Python/openfl/openfl/openfl/component/collaborator/collaborator.py#415\u001B\\\u001B[2m415\u001B[0m\u001B]8;;\u001B\\\n",
      "text/html": "<pre style=\"white-space:pre;overflow-x:auto;line-height:normal;font-family:Menlo,'DejaVu Sans Mono',consolas,'Courier New',monospace\"><span style=\"color: #7fbfbf; text-decoration-color: #7fbfbf\">           </span>METRIC   Round <span style=\"color: #008080; text-decoration-color: #008080; font-weight: bold\">0</span>, collaborator one is sending metric for task train: cross_entropy       <span style=\"color: #008080; text-decoration-color: #008080; font-weight: bold\">0.233139</span>                                 <a href=\"file:///home/p/Desktop/Programs/Python/openfl/openfl/openfl/component/collaborator/collaborator.py\" target=\"_blank\"><span style=\"color: #7f7f7f; text-decoration-color: #7f7f7f\">collaborator.py</span></a><span style=\"color: #7f7f7f; text-decoration-color: #7f7f7f\">:</span><a href=\"file:///home/p/Desktop/Programs/Python/openfl/openfl/openfl/component/collaborator/collaborator.py#415\" target=\"_blank\"><span style=\"color: #7f7f7f; text-decoration-color: #7f7f7f\">415</span></a>\n</pre>\n"
     },
     "metadata": {},
     "output_type": "display_data"
    },
    {
     "data": {
      "text/plain": "\u001B[2;36m          \u001B[0m\u001B[2;36m \u001B[0mMETRIC   Round \u001B[1;36m0\u001B[0m, collaborator one train result cross_entropy:   \u001B[1;36m0.233139\u001B[0m                                                           \u001B]8;id=335601;file:///home/p/Desktop/Programs/Python/openfl/openfl/openfl/component/aggregator/aggregator.py\u001B\\\u001B[2maggregator.py\u001B[0m\u001B]8;;\u001B\\\u001B[2m:\u001B[0m\u001B]8;id=256530;file:///home/p/Desktop/Programs/Python/openfl/openfl/openfl/component/aggregator/aggregator.py#559\u001B\\\u001B[2m559\u001B[0m\u001B]8;;\u001B\\\n",
      "text/html": "<pre style=\"white-space:pre;overflow-x:auto;line-height:normal;font-family:Menlo,'DejaVu Sans Mono',consolas,'Courier New',monospace\"><span style=\"color: #7fbfbf; text-decoration-color: #7fbfbf\">           </span>METRIC   Round <span style=\"color: #008080; text-decoration-color: #008080; font-weight: bold\">0</span>, collaborator one train result cross_entropy:   <span style=\"color: #008080; text-decoration-color: #008080; font-weight: bold\">0.233139</span>                                                           <a href=\"file:///home/p/Desktop/Programs/Python/openfl/openfl/openfl/component/aggregator/aggregator.py\" target=\"_blank\"><span style=\"color: #7f7f7f; text-decoration-color: #7f7f7f\">aggregator.py</span></a><span style=\"color: #7f7f7f; text-decoration-color: #7f7f7f\">:</span><a href=\"file:///home/p/Desktop/Programs/Python/openfl/openfl/openfl/component/aggregator/aggregator.py#559\" target=\"_blank\"><span style=\"color: #7f7f7f; text-decoration-color: #7f7f7f\">559</span></a>\n</pre>\n"
     },
     "metadata": {},
     "output_type": "display_data"
    },
    {
     "data": {
      "text/plain": "\u001B[2;36m          \u001B[0m\u001B[2;36m \u001B[0mMETRIC   Round \u001B[1;36m0\u001B[0m, collaborator one is sending metric for task locally_tuned_model_validation: acc        \u001B[1;36m0.726800\u001B[0m                 \u001B]8;id=761064;file:///home/p/Desktop/Programs/Python/openfl/openfl/openfl/component/collaborator/collaborator.py\u001B\\\u001B[2mcollaborator.py\u001B[0m\u001B]8;;\u001B\\\u001B[2m:\u001B[0m\u001B]8;id=512358;file:///home/p/Desktop/Programs/Python/openfl/openfl/openfl/component/collaborator/collaborator.py#415\u001B\\\u001B[2m415\u001B[0m\u001B]8;;\u001B\\\n",
      "text/html": "<pre style=\"white-space:pre;overflow-x:auto;line-height:normal;font-family:Menlo,'DejaVu Sans Mono',consolas,'Courier New',monospace\"><span style=\"color: #7fbfbf; text-decoration-color: #7fbfbf\">           </span>METRIC   Round <span style=\"color: #008080; text-decoration-color: #008080; font-weight: bold\">0</span>, collaborator one is sending metric for task locally_tuned_model_validation: acc        <span style=\"color: #008080; text-decoration-color: #008080; font-weight: bold\">0.726800</span>                 <a href=\"file:///home/p/Desktop/Programs/Python/openfl/openfl/openfl/component/collaborator/collaborator.py\" target=\"_blank\"><span style=\"color: #7f7f7f; text-decoration-color: #7f7f7f\">collaborator.py</span></a><span style=\"color: #7f7f7f; text-decoration-color: #7f7f7f\">:</span><a href=\"file:///home/p/Desktop/Programs/Python/openfl/openfl/openfl/component/collaborator/collaborator.py#415\" target=\"_blank\"><span style=\"color: #7f7f7f; text-decoration-color: #7f7f7f\">415</span></a>\n</pre>\n"
     },
     "metadata": {},
     "output_type": "display_data"
    },
    {
     "data": {
      "text/plain": "\u001B[2;36m          \u001B[0m\u001B[2;36m \u001B[0mMETRIC   Round \u001B[1;36m0\u001B[0m, collaborator validate_local locally_tuned_model_validation result acc: \u001B[1;36m0.726800\u001B[0m                                   \u001B]8;id=898722;file:///home/p/Desktop/Programs/Python/openfl/openfl/openfl/component/aggregator/aggregator.py\u001B\\\u001B[2maggregator.py\u001B[0m\u001B]8;;\u001B\\\u001B[2m:\u001B[0m\u001B]8;id=201941;file:///home/p/Desktop/Programs/Python/openfl/openfl/openfl/component/aggregator/aggregator.py#559\u001B\\\u001B[2m559\u001B[0m\u001B]8;;\u001B\\\n",
      "text/html": "<pre style=\"white-space:pre;overflow-x:auto;line-height:normal;font-family:Menlo,'DejaVu Sans Mono',consolas,'Courier New',monospace\"><span style=\"color: #7fbfbf; text-decoration-color: #7fbfbf\">           </span>METRIC   Round <span style=\"color: #008080; text-decoration-color: #008080; font-weight: bold\">0</span>, collaborator validate_local locally_tuned_model_validation result acc: <span style=\"color: #008080; text-decoration-color: #008080; font-weight: bold\">0.726800</span>                                   <a href=\"file:///home/p/Desktop/Programs/Python/openfl/openfl/openfl/component/aggregator/aggregator.py\" target=\"_blank\"><span style=\"color: #7f7f7f; text-decoration-color: #7f7f7f\">aggregator.py</span></a><span style=\"color: #7f7f7f; text-decoration-color: #7f7f7f\">:</span><a href=\"file:///home/p/Desktop/Programs/Python/openfl/openfl/openfl/component/aggregator/aggregator.py#559\" target=\"_blank\"><span style=\"color: #7f7f7f; text-decoration-color: #7f7f7f\">559</span></a>\n</pre>\n"
     },
     "metadata": {},
     "output_type": "display_data"
    },
    {
     "data": {
      "text/plain": "\u001B[2;36m          \u001B[0m\u001B[2;36m \u001B[0mMETRIC   Round \u001B[1;36m0\u001B[0m, collaborator two is sending metric for task aggregated_model_validation: acc   \u001B[1;36m0.712400\u001B[0m                         \u001B]8;id=566927;file:///home/p/Desktop/Programs/Python/openfl/openfl/openfl/component/collaborator/collaborator.py\u001B\\\u001B[2mcollaborator.py\u001B[0m\u001B]8;;\u001B\\\u001B[2m:\u001B[0m\u001B]8;id=62198;file:///home/p/Desktop/Programs/Python/openfl/openfl/openfl/component/collaborator/collaborator.py#415\u001B\\\u001B[2m415\u001B[0m\u001B]8;;\u001B\\\n",
      "text/html": "<pre style=\"white-space:pre;overflow-x:auto;line-height:normal;font-family:Menlo,'DejaVu Sans Mono',consolas,'Courier New',monospace\"><span style=\"color: #7fbfbf; text-decoration-color: #7fbfbf\">           </span>METRIC   Round <span style=\"color: #008080; text-decoration-color: #008080; font-weight: bold\">0</span>, collaborator two is sending metric for task aggregated_model_validation: acc   <span style=\"color: #008080; text-decoration-color: #008080; font-weight: bold\">0.712400</span>                         <a href=\"file:///home/p/Desktop/Programs/Python/openfl/openfl/openfl/component/collaborator/collaborator.py\" target=\"_blank\"><span style=\"color: #7f7f7f; text-decoration-color: #7f7f7f\">collaborator.py</span></a><span style=\"color: #7f7f7f; text-decoration-color: #7f7f7f\">:</span><a href=\"file:///home/p/Desktop/Programs/Python/openfl/openfl/openfl/component/collaborator/collaborator.py#415\" target=\"_blank\"><span style=\"color: #7f7f7f; text-decoration-color: #7f7f7f\">415</span></a>\n</pre>\n"
     },
     "metadata": {},
     "output_type": "display_data"
    },
    {
     "data": {
      "text/plain": "\u001B[2;36m          \u001B[0m\u001B[2;36m \u001B[0mMETRIC   Round \u001B[1;36m0\u001B[0m, collaborator validate_agg aggregated_model_validation result acc:      \u001B[1;36m0.712400\u001B[0m                                   \u001B]8;id=454089;file:///home/p/Desktop/Programs/Python/openfl/openfl/openfl/component/aggregator/aggregator.py\u001B\\\u001B[2maggregator.py\u001B[0m\u001B]8;;\u001B\\\u001B[2m:\u001B[0m\u001B]8;id=829793;file:///home/p/Desktop/Programs/Python/openfl/openfl/openfl/component/aggregator/aggregator.py#559\u001B\\\u001B[2m559\u001B[0m\u001B]8;;\u001B\\\n",
      "text/html": "<pre style=\"white-space:pre;overflow-x:auto;line-height:normal;font-family:Menlo,'DejaVu Sans Mono',consolas,'Courier New',monospace\"><span style=\"color: #7fbfbf; text-decoration-color: #7fbfbf\">           </span>METRIC   Round <span style=\"color: #008080; text-decoration-color: #008080; font-weight: bold\">0</span>, collaborator validate_agg aggregated_model_validation result acc:      <span style=\"color: #008080; text-decoration-color: #008080; font-weight: bold\">0.712400</span>                                   <a href=\"file:///home/p/Desktop/Programs/Python/openfl/openfl/openfl/component/aggregator/aggregator.py\" target=\"_blank\"><span style=\"color: #7f7f7f; text-decoration-color: #7f7f7f\">aggregator.py</span></a><span style=\"color: #7f7f7f; text-decoration-color: #7f7f7f\">:</span><a href=\"file:///home/p/Desktop/Programs/Python/openfl/openfl/openfl/component/aggregator/aggregator.py#559\" target=\"_blank\"><span style=\"color: #7f7f7f; text-decoration-color: #7f7f7f\">559</span></a>\n</pre>\n"
     },
     "metadata": {},
     "output_type": "display_data"
    },
    {
     "data": {
      "text/plain": "\u001B[2;36m[18:57:07]\u001B[0m\u001B[2;36m \u001B[0m\u001B[31mWARNING \u001B[0m tried to remove tensor: __opt_state_needed not present in the tensor dict                                                       \u001B]8;id=128043;file:///home/p/Desktop/Programs/Python/openfl/openfl/openfl/utilities/utils.py\u001B\\\u001B[2mutils.py\u001B[0m\u001B]8;;\u001B\\\u001B[2m:\u001B[0m\u001B]8;id=529336;file:///home/p/Desktop/Programs/Python/openfl/openfl/openfl/utilities/utils.py#172\u001B\\\u001B[2m172\u001B[0m\u001B]8;;\u001B\\\n",
      "text/html": "<pre style=\"white-space:pre;overflow-x:auto;line-height:normal;font-family:Menlo,'DejaVu Sans Mono',consolas,'Courier New',monospace\"><span style=\"color: #7fbfbf; text-decoration-color: #7fbfbf\">[18:57:07] </span><span style=\"color: #800000; text-decoration-color: #800000\">WARNING </span> tried to remove tensor: __opt_state_needed not present in the tensor dict                                                       <a href=\"file:///home/p/Desktop/Programs/Python/openfl/openfl/openfl/utilities/utils.py\" target=\"_blank\"><span style=\"color: #7f7f7f; text-decoration-color: #7f7f7f\">utils.py</span></a><span style=\"color: #7f7f7f; text-decoration-color: #7f7f7f\">:</span><a href=\"file:///home/p/Desktop/Programs/Python/openfl/openfl/openfl/utilities/utils.py#172\" target=\"_blank\"><span style=\"color: #7f7f7f; text-decoration-color: #7f7f7f\">172</span></a>\n</pre>\n"
     },
     "metadata": {},
     "output_type": "display_data"
    },
    {
     "data": {
      "text/plain": "\u001B[2;36m          \u001B[0m\u001B[2;36m \u001B[0mMETRIC   Round \u001B[1;36m0\u001B[0m, collaborator two is sending metric for task train: cross_entropy       \u001B[1;36m0.236483\u001B[0m                                 \u001B]8;id=520651;file:///home/p/Desktop/Programs/Python/openfl/openfl/openfl/component/collaborator/collaborator.py\u001B\\\u001B[2mcollaborator.py\u001B[0m\u001B]8;;\u001B\\\u001B[2m:\u001B[0m\u001B]8;id=639498;file:///home/p/Desktop/Programs/Python/openfl/openfl/openfl/component/collaborator/collaborator.py#415\u001B\\\u001B[2m415\u001B[0m\u001B]8;;\u001B\\\n",
      "text/html": "<pre style=\"white-space:pre;overflow-x:auto;line-height:normal;font-family:Menlo,'DejaVu Sans Mono',consolas,'Courier New',monospace\"><span style=\"color: #7fbfbf; text-decoration-color: #7fbfbf\">           </span>METRIC   Round <span style=\"color: #008080; text-decoration-color: #008080; font-weight: bold\">0</span>, collaborator two is sending metric for task train: cross_entropy       <span style=\"color: #008080; text-decoration-color: #008080; font-weight: bold\">0.236483</span>                                 <a href=\"file:///home/p/Desktop/Programs/Python/openfl/openfl/openfl/component/collaborator/collaborator.py\" target=\"_blank\"><span style=\"color: #7f7f7f; text-decoration-color: #7f7f7f\">collaborator.py</span></a><span style=\"color: #7f7f7f; text-decoration-color: #7f7f7f\">:</span><a href=\"file:///home/p/Desktop/Programs/Python/openfl/openfl/openfl/component/collaborator/collaborator.py#415\" target=\"_blank\"><span style=\"color: #7f7f7f; text-decoration-color: #7f7f7f\">415</span></a>\n</pre>\n"
     },
     "metadata": {},
     "output_type": "display_data"
    },
    {
     "data": {
      "text/plain": "\u001B[2;36m          \u001B[0m\u001B[2;36m \u001B[0mMETRIC   Round \u001B[1;36m0\u001B[0m, collaborator two train result cross_entropy:   \u001B[1;36m0.236483\u001B[0m                                                           \u001B]8;id=232261;file:///home/p/Desktop/Programs/Python/openfl/openfl/openfl/component/aggregator/aggregator.py\u001B\\\u001B[2maggregator.py\u001B[0m\u001B]8;;\u001B\\\u001B[2m:\u001B[0m\u001B]8;id=151714;file:///home/p/Desktop/Programs/Python/openfl/openfl/openfl/component/aggregator/aggregator.py#559\u001B\\\u001B[2m559\u001B[0m\u001B]8;;\u001B\\\n",
      "text/html": "<pre style=\"white-space:pre;overflow-x:auto;line-height:normal;font-family:Menlo,'DejaVu Sans Mono',consolas,'Courier New',monospace\"><span style=\"color: #7fbfbf; text-decoration-color: #7fbfbf\">           </span>METRIC   Round <span style=\"color: #008080; text-decoration-color: #008080; font-weight: bold\">0</span>, collaborator two train result cross_entropy:   <span style=\"color: #008080; text-decoration-color: #008080; font-weight: bold\">0.236483</span>                                                           <a href=\"file:///home/p/Desktop/Programs/Python/openfl/openfl/openfl/component/aggregator/aggregator.py\" target=\"_blank\"><span style=\"color: #7f7f7f; text-decoration-color: #7f7f7f\">aggregator.py</span></a><span style=\"color: #7f7f7f; text-decoration-color: #7f7f7f\">:</span><a href=\"file:///home/p/Desktop/Programs/Python/openfl/openfl/openfl/component/aggregator/aggregator.py#559\" target=\"_blank\"><span style=\"color: #7f7f7f; text-decoration-color: #7f7f7f\">559</span></a>\n</pre>\n"
     },
     "metadata": {},
     "output_type": "display_data"
    },
    {
     "data": {
      "text/plain": "\u001B[2;36m          \u001B[0m\u001B[2;36m \u001B[0mMETRIC   Round \u001B[1;36m0\u001B[0m, collaborator two is sending metric for task locally_tuned_model_validation: acc        \u001B[1;36m0.739600\u001B[0m                 \u001B]8;id=124796;file:///home/p/Desktop/Programs/Python/openfl/openfl/openfl/component/collaborator/collaborator.py\u001B\\\u001B[2mcollaborator.py\u001B[0m\u001B]8;;\u001B\\\u001B[2m:\u001B[0m\u001B]8;id=712347;file:///home/p/Desktop/Programs/Python/openfl/openfl/openfl/component/collaborator/collaborator.py#415\u001B\\\u001B[2m415\u001B[0m\u001B]8;;\u001B\\\n",
      "text/html": "<pre style=\"white-space:pre;overflow-x:auto;line-height:normal;font-family:Menlo,'DejaVu Sans Mono',consolas,'Courier New',monospace\"><span style=\"color: #7fbfbf; text-decoration-color: #7fbfbf\">           </span>METRIC   Round <span style=\"color: #008080; text-decoration-color: #008080; font-weight: bold\">0</span>, collaborator two is sending metric for task locally_tuned_model_validation: acc        <span style=\"color: #008080; text-decoration-color: #008080; font-weight: bold\">0.739600</span>                 <a href=\"file:///home/p/Desktop/Programs/Python/openfl/openfl/openfl/component/collaborator/collaborator.py\" target=\"_blank\"><span style=\"color: #7f7f7f; text-decoration-color: #7f7f7f\">collaborator.py</span></a><span style=\"color: #7f7f7f; text-decoration-color: #7f7f7f\">:</span><a href=\"file:///home/p/Desktop/Programs/Python/openfl/openfl/openfl/component/collaborator/collaborator.py#415\" target=\"_blank\"><span style=\"color: #7f7f7f; text-decoration-color: #7f7f7f\">415</span></a>\n</pre>\n"
     },
     "metadata": {},
     "output_type": "display_data"
    },
    {
     "data": {
      "text/plain": "\u001B[2;36m          \u001B[0m\u001B[2;36m \u001B[0mMETRIC   Round \u001B[1;36m0\u001B[0m, collaborator validate_local locally_tuned_model_validation result acc: \u001B[1;36m0.739600\u001B[0m                                   \u001B]8;id=981;file:///home/p/Desktop/Programs/Python/openfl/openfl/openfl/component/aggregator/aggregator.py\u001B\\\u001B[2maggregator.py\u001B[0m\u001B]8;;\u001B\\\u001B[2m:\u001B[0m\u001B]8;id=215038;file:///home/p/Desktop/Programs/Python/openfl/openfl/openfl/component/aggregator/aggregator.py#559\u001B\\\u001B[2m559\u001B[0m\u001B]8;;\u001B\\\n",
      "text/html": "<pre style=\"white-space:pre;overflow-x:auto;line-height:normal;font-family:Menlo,'DejaVu Sans Mono',consolas,'Courier New',monospace\"><span style=\"color: #7fbfbf; text-decoration-color: #7fbfbf\">           </span>METRIC   Round <span style=\"color: #008080; text-decoration-color: #008080; font-weight: bold\">0</span>, collaborator validate_local locally_tuned_model_validation result acc: <span style=\"color: #008080; text-decoration-color: #008080; font-weight: bold\">0.739600</span>                                   <a href=\"file:///home/p/Desktop/Programs/Python/openfl/openfl/openfl/component/aggregator/aggregator.py\" target=\"_blank\"><span style=\"color: #7f7f7f; text-decoration-color: #7f7f7f\">aggregator.py</span></a><span style=\"color: #7f7f7f; text-decoration-color: #7f7f7f\">:</span><a href=\"file:///home/p/Desktop/Programs/Python/openfl/openfl/openfl/component/aggregator/aggregator.py#559\" target=\"_blank\"><span style=\"color: #7f7f7f; text-decoration-color: #7f7f7f\">559</span></a>\n</pre>\n"
     },
     "metadata": {},
     "output_type": "display_data"
    },
    {
     "data": {
      "text/plain": "\u001B[2;36m          \u001B[0m\u001B[2;36m \u001B[0mMETRIC   Round \u001B[1;36m0\u001B[0m, collaborator three is sending metric for task aggregated_model_validation: acc \u001B[1;36m0.696400\u001B[0m                         \u001B]8;id=645724;file:///home/p/Desktop/Programs/Python/openfl/openfl/openfl/component/collaborator/collaborator.py\u001B\\\u001B[2mcollaborator.py\u001B[0m\u001B]8;;\u001B\\\u001B[2m:\u001B[0m\u001B]8;id=644403;file:///home/p/Desktop/Programs/Python/openfl/openfl/openfl/component/collaborator/collaborator.py#415\u001B\\\u001B[2m415\u001B[0m\u001B]8;;\u001B\\\n",
      "text/html": "<pre style=\"white-space:pre;overflow-x:auto;line-height:normal;font-family:Menlo,'DejaVu Sans Mono',consolas,'Courier New',monospace\"><span style=\"color: #7fbfbf; text-decoration-color: #7fbfbf\">           </span>METRIC   Round <span style=\"color: #008080; text-decoration-color: #008080; font-weight: bold\">0</span>, collaborator three is sending metric for task aggregated_model_validation: acc <span style=\"color: #008080; text-decoration-color: #008080; font-weight: bold\">0.696400</span>                         <a href=\"file:///home/p/Desktop/Programs/Python/openfl/openfl/openfl/component/collaborator/collaborator.py\" target=\"_blank\"><span style=\"color: #7f7f7f; text-decoration-color: #7f7f7f\">collaborator.py</span></a><span style=\"color: #7f7f7f; text-decoration-color: #7f7f7f\">:</span><a href=\"file:///home/p/Desktop/Programs/Python/openfl/openfl/openfl/component/collaborator/collaborator.py#415\" target=\"_blank\"><span style=\"color: #7f7f7f; text-decoration-color: #7f7f7f\">415</span></a>\n</pre>\n"
     },
     "metadata": {},
     "output_type": "display_data"
    },
    {
     "data": {
      "text/plain": "\u001B[2;36m          \u001B[0m\u001B[2;36m \u001B[0mMETRIC   Round \u001B[1;36m0\u001B[0m, collaborator validate_agg aggregated_model_validation result acc:      \u001B[1;36m0.696400\u001B[0m                                   \u001B]8;id=425183;file:///home/p/Desktop/Programs/Python/openfl/openfl/openfl/component/aggregator/aggregator.py\u001B\\\u001B[2maggregator.py\u001B[0m\u001B]8;;\u001B\\\u001B[2m:\u001B[0m\u001B]8;id=897133;file:///home/p/Desktop/Programs/Python/openfl/openfl/openfl/component/aggregator/aggregator.py#559\u001B\\\u001B[2m559\u001B[0m\u001B]8;;\u001B\\\n",
      "text/html": "<pre style=\"white-space:pre;overflow-x:auto;line-height:normal;font-family:Menlo,'DejaVu Sans Mono',consolas,'Courier New',monospace\"><span style=\"color: #7fbfbf; text-decoration-color: #7fbfbf\">           </span>METRIC   Round <span style=\"color: #008080; text-decoration-color: #008080; font-weight: bold\">0</span>, collaborator validate_agg aggregated_model_validation result acc:      <span style=\"color: #008080; text-decoration-color: #008080; font-weight: bold\">0.696400</span>                                   <a href=\"file:///home/p/Desktop/Programs/Python/openfl/openfl/openfl/component/aggregator/aggregator.py\" target=\"_blank\"><span style=\"color: #7f7f7f; text-decoration-color: #7f7f7f\">aggregator.py</span></a><span style=\"color: #7f7f7f; text-decoration-color: #7f7f7f\">:</span><a href=\"file:///home/p/Desktop/Programs/Python/openfl/openfl/openfl/component/aggregator/aggregator.py#559\" target=\"_blank\"><span style=\"color: #7f7f7f; text-decoration-color: #7f7f7f\">559</span></a>\n</pre>\n"
     },
     "metadata": {},
     "output_type": "display_data"
    },
    {
     "data": {
      "text/plain": "\u001B[2;36m[18:57:08]\u001B[0m\u001B[2;36m \u001B[0m\u001B[31mWARNING \u001B[0m tried to remove tensor: __opt_state_needed not present in the tensor dict                                                       \u001B]8;id=286747;file:///home/p/Desktop/Programs/Python/openfl/openfl/openfl/utilities/utils.py\u001B\\\u001B[2mutils.py\u001B[0m\u001B]8;;\u001B\\\u001B[2m:\u001B[0m\u001B]8;id=321657;file:///home/p/Desktop/Programs/Python/openfl/openfl/openfl/utilities/utils.py#172\u001B\\\u001B[2m172\u001B[0m\u001B]8;;\u001B\\\n",
      "text/html": "<pre style=\"white-space:pre;overflow-x:auto;line-height:normal;font-family:Menlo,'DejaVu Sans Mono',consolas,'Courier New',monospace\"><span style=\"color: #7fbfbf; text-decoration-color: #7fbfbf\">[18:57:08] </span><span style=\"color: #800000; text-decoration-color: #800000\">WARNING </span> tried to remove tensor: __opt_state_needed not present in the tensor dict                                                       <a href=\"file:///home/p/Desktop/Programs/Python/openfl/openfl/openfl/utilities/utils.py\" target=\"_blank\"><span style=\"color: #7f7f7f; text-decoration-color: #7f7f7f\">utils.py</span></a><span style=\"color: #7f7f7f; text-decoration-color: #7f7f7f\">:</span><a href=\"file:///home/p/Desktop/Programs/Python/openfl/openfl/openfl/utilities/utils.py#172\" target=\"_blank\"><span style=\"color: #7f7f7f; text-decoration-color: #7f7f7f\">172</span></a>\n</pre>\n"
     },
     "metadata": {},
     "output_type": "display_data"
    },
    {
     "data": {
      "text/plain": "\u001B[2;36m          \u001B[0m\u001B[2;36m \u001B[0mMETRIC   Round \u001B[1;36m0\u001B[0m, collaborator three is sending metric for task train: cross_entropy     \u001B[1;36m0.235896\u001B[0m                                 \u001B]8;id=648393;file:///home/p/Desktop/Programs/Python/openfl/openfl/openfl/component/collaborator/collaborator.py\u001B\\\u001B[2mcollaborator.py\u001B[0m\u001B]8;;\u001B\\\u001B[2m:\u001B[0m\u001B]8;id=874530;file:///home/p/Desktop/Programs/Python/openfl/openfl/openfl/component/collaborator/collaborator.py#415\u001B\\\u001B[2m415\u001B[0m\u001B]8;;\u001B\\\n",
      "text/html": "<pre style=\"white-space:pre;overflow-x:auto;line-height:normal;font-family:Menlo,'DejaVu Sans Mono',consolas,'Courier New',monospace\"><span style=\"color: #7fbfbf; text-decoration-color: #7fbfbf\">           </span>METRIC   Round <span style=\"color: #008080; text-decoration-color: #008080; font-weight: bold\">0</span>, collaborator three is sending metric for task train: cross_entropy     <span style=\"color: #008080; text-decoration-color: #008080; font-weight: bold\">0.235896</span>                                 <a href=\"file:///home/p/Desktop/Programs/Python/openfl/openfl/openfl/component/collaborator/collaborator.py\" target=\"_blank\"><span style=\"color: #7f7f7f; text-decoration-color: #7f7f7f\">collaborator.py</span></a><span style=\"color: #7f7f7f; text-decoration-color: #7f7f7f\">:</span><a href=\"file:///home/p/Desktop/Programs/Python/openfl/openfl/openfl/component/collaborator/collaborator.py#415\" target=\"_blank\"><span style=\"color: #7f7f7f; text-decoration-color: #7f7f7f\">415</span></a>\n</pre>\n"
     },
     "metadata": {},
     "output_type": "display_data"
    },
    {
     "data": {
      "text/plain": "\u001B[2;36m          \u001B[0m\u001B[2;36m \u001B[0mMETRIC   Round \u001B[1;36m0\u001B[0m, collaborator three train result cross_entropy: \u001B[1;36m0.235896\u001B[0m                                                           \u001B]8;id=631086;file:///home/p/Desktop/Programs/Python/openfl/openfl/openfl/component/aggregator/aggregator.py\u001B\\\u001B[2maggregator.py\u001B[0m\u001B]8;;\u001B\\\u001B[2m:\u001B[0m\u001B]8;id=640428;file:///home/p/Desktop/Programs/Python/openfl/openfl/openfl/component/aggregator/aggregator.py#559\u001B\\\u001B[2m559\u001B[0m\u001B]8;;\u001B\\\n",
      "text/html": "<pre style=\"white-space:pre;overflow-x:auto;line-height:normal;font-family:Menlo,'DejaVu Sans Mono',consolas,'Courier New',monospace\"><span style=\"color: #7fbfbf; text-decoration-color: #7fbfbf\">           </span>METRIC   Round <span style=\"color: #008080; text-decoration-color: #008080; font-weight: bold\">0</span>, collaborator three train result cross_entropy: <span style=\"color: #008080; text-decoration-color: #008080; font-weight: bold\">0.235896</span>                                                           <a href=\"file:///home/p/Desktop/Programs/Python/openfl/openfl/openfl/component/aggregator/aggregator.py\" target=\"_blank\"><span style=\"color: #7f7f7f; text-decoration-color: #7f7f7f\">aggregator.py</span></a><span style=\"color: #7f7f7f; text-decoration-color: #7f7f7f\">:</span><a href=\"file:///home/p/Desktop/Programs/Python/openfl/openfl/openfl/component/aggregator/aggregator.py#559\" target=\"_blank\"><span style=\"color: #7f7f7f; text-decoration-color: #7f7f7f\">559</span></a>\n</pre>\n"
     },
     "metadata": {},
     "output_type": "display_data"
    },
    {
     "data": {
      "text/plain": "\u001B[2;36m          \u001B[0m\u001B[2;36m \u001B[0mMETRIC   Round \u001B[1;36m0\u001B[0m, collaborator three is sending metric for task locally_tuned_model_validation: acc      \u001B[1;36m0.723200\u001B[0m                 \u001B]8;id=104286;file:///home/p/Desktop/Programs/Python/openfl/openfl/openfl/component/collaborator/collaborator.py\u001B\\\u001B[2mcollaborator.py\u001B[0m\u001B]8;;\u001B\\\u001B[2m:\u001B[0m\u001B]8;id=664335;file:///home/p/Desktop/Programs/Python/openfl/openfl/openfl/component/collaborator/collaborator.py#415\u001B\\\u001B[2m415\u001B[0m\u001B]8;;\u001B\\\n",
      "text/html": "<pre style=\"white-space:pre;overflow-x:auto;line-height:normal;font-family:Menlo,'DejaVu Sans Mono',consolas,'Courier New',monospace\"><span style=\"color: #7fbfbf; text-decoration-color: #7fbfbf\">           </span>METRIC   Round <span style=\"color: #008080; text-decoration-color: #008080; font-weight: bold\">0</span>, collaborator three is sending metric for task locally_tuned_model_validation: acc      <span style=\"color: #008080; text-decoration-color: #008080; font-weight: bold\">0.723200</span>                 <a href=\"file:///home/p/Desktop/Programs/Python/openfl/openfl/openfl/component/collaborator/collaborator.py\" target=\"_blank\"><span style=\"color: #7f7f7f; text-decoration-color: #7f7f7f\">collaborator.py</span></a><span style=\"color: #7f7f7f; text-decoration-color: #7f7f7f\">:</span><a href=\"file:///home/p/Desktop/Programs/Python/openfl/openfl/openfl/component/collaborator/collaborator.py#415\" target=\"_blank\"><span style=\"color: #7f7f7f; text-decoration-color: #7f7f7f\">415</span></a>\n</pre>\n"
     },
     "metadata": {},
     "output_type": "display_data"
    },
    {
     "data": {
      "text/plain": "\u001B[2;36m          \u001B[0m\u001B[2;36m \u001B[0mMETRIC   Round \u001B[1;36m0\u001B[0m, collaborator validate_local locally_tuned_model_validation result acc: \u001B[1;36m0.723200\u001B[0m                                   \u001B]8;id=619790;file:///home/p/Desktop/Programs/Python/openfl/openfl/openfl/component/aggregator/aggregator.py\u001B\\\u001B[2maggregator.py\u001B[0m\u001B]8;;\u001B\\\u001B[2m:\u001B[0m\u001B]8;id=839756;file:///home/p/Desktop/Programs/Python/openfl/openfl/openfl/component/aggregator/aggregator.py#559\u001B\\\u001B[2m559\u001B[0m\u001B]8;;\u001B\\\n",
      "text/html": "<pre style=\"white-space:pre;overflow-x:auto;line-height:normal;font-family:Menlo,'DejaVu Sans Mono',consolas,'Courier New',monospace\"><span style=\"color: #7fbfbf; text-decoration-color: #7fbfbf\">           </span>METRIC   Round <span style=\"color: #008080; text-decoration-color: #008080; font-weight: bold\">0</span>, collaborator validate_local locally_tuned_model_validation result acc: <span style=\"color: #008080; text-decoration-color: #008080; font-weight: bold\">0.723200</span>                                   <a href=\"file:///home/p/Desktop/Programs/Python/openfl/openfl/openfl/component/aggregator/aggregator.py\" target=\"_blank\"><span style=\"color: #7f7f7f; text-decoration-color: #7f7f7f\">aggregator.py</span></a><span style=\"color: #7f7f7f; text-decoration-color: #7f7f7f\">:</span><a href=\"file:///home/p/Desktop/Programs/Python/openfl/openfl/openfl/component/aggregator/aggregator.py#559\" target=\"_blank\"><span style=\"color: #7f7f7f; text-decoration-color: #7f7f7f\">559</span></a>\n</pre>\n"
     },
     "metadata": {},
     "output_type": "display_data"
    },
    {
     "data": {
      "text/plain": "\u001B[2;36m          \u001B[0m\u001B[2;36m \u001B[0mMETRIC   Round \u001B[1;36m0\u001B[0m, collaborator four is sending metric for task aggregated_model_validation: acc  \u001B[1;36m0.698000\u001B[0m                         \u001B]8;id=514069;file:///home/p/Desktop/Programs/Python/openfl/openfl/openfl/component/collaborator/collaborator.py\u001B\\\u001B[2mcollaborator.py\u001B[0m\u001B]8;;\u001B\\\u001B[2m:\u001B[0m\u001B]8;id=186929;file:///home/p/Desktop/Programs/Python/openfl/openfl/openfl/component/collaborator/collaborator.py#415\u001B\\\u001B[2m415\u001B[0m\u001B]8;;\u001B\\\n",
      "text/html": "<pre style=\"white-space:pre;overflow-x:auto;line-height:normal;font-family:Menlo,'DejaVu Sans Mono',consolas,'Courier New',monospace\"><span style=\"color: #7fbfbf; text-decoration-color: #7fbfbf\">           </span>METRIC   Round <span style=\"color: #008080; text-decoration-color: #008080; font-weight: bold\">0</span>, collaborator four is sending metric for task aggregated_model_validation: acc  <span style=\"color: #008080; text-decoration-color: #008080; font-weight: bold\">0.698000</span>                         <a href=\"file:///home/p/Desktop/Programs/Python/openfl/openfl/openfl/component/collaborator/collaborator.py\" target=\"_blank\"><span style=\"color: #7f7f7f; text-decoration-color: #7f7f7f\">collaborator.py</span></a><span style=\"color: #7f7f7f; text-decoration-color: #7f7f7f\">:</span><a href=\"file:///home/p/Desktop/Programs/Python/openfl/openfl/openfl/component/collaborator/collaborator.py#415\" target=\"_blank\"><span style=\"color: #7f7f7f; text-decoration-color: #7f7f7f\">415</span></a>\n</pre>\n"
     },
     "metadata": {},
     "output_type": "display_data"
    },
    {
     "data": {
      "text/plain": "\u001B[2;36m          \u001B[0m\u001B[2;36m \u001B[0mMETRIC   Round \u001B[1;36m0\u001B[0m, collaborator validate_agg aggregated_model_validation result acc:      \u001B[1;36m0.698000\u001B[0m                                   \u001B]8;id=590615;file:///home/p/Desktop/Programs/Python/openfl/openfl/openfl/component/aggregator/aggregator.py\u001B\\\u001B[2maggregator.py\u001B[0m\u001B]8;;\u001B\\\u001B[2m:\u001B[0m\u001B]8;id=623021;file:///home/p/Desktop/Programs/Python/openfl/openfl/openfl/component/aggregator/aggregator.py#559\u001B\\\u001B[2m559\u001B[0m\u001B]8;;\u001B\\\n",
      "text/html": "<pre style=\"white-space:pre;overflow-x:auto;line-height:normal;font-family:Menlo,'DejaVu Sans Mono',consolas,'Courier New',monospace\"><span style=\"color: #7fbfbf; text-decoration-color: #7fbfbf\">           </span>METRIC   Round <span style=\"color: #008080; text-decoration-color: #008080; font-weight: bold\">0</span>, collaborator validate_agg aggregated_model_validation result acc:      <span style=\"color: #008080; text-decoration-color: #008080; font-weight: bold\">0.698000</span>                                   <a href=\"file:///home/p/Desktop/Programs/Python/openfl/openfl/openfl/component/aggregator/aggregator.py\" target=\"_blank\"><span style=\"color: #7f7f7f; text-decoration-color: #7f7f7f\">aggregator.py</span></a><span style=\"color: #7f7f7f; text-decoration-color: #7f7f7f\">:</span><a href=\"file:///home/p/Desktop/Programs/Python/openfl/openfl/openfl/component/aggregator/aggregator.py#559\" target=\"_blank\"><span style=\"color: #7f7f7f; text-decoration-color: #7f7f7f\">559</span></a>\n</pre>\n"
     },
     "metadata": {},
     "output_type": "display_data"
    },
    {
     "data": {
      "text/plain": "\u001B[2;36m[18:57:09]\u001B[0m\u001B[2;36m \u001B[0m\u001B[31mWARNING \u001B[0m tried to remove tensor: __opt_state_needed not present in the tensor dict                                                       \u001B]8;id=875683;file:///home/p/Desktop/Programs/Python/openfl/openfl/openfl/utilities/utils.py\u001B\\\u001B[2mutils.py\u001B[0m\u001B]8;;\u001B\\\u001B[2m:\u001B[0m\u001B]8;id=476813;file:///home/p/Desktop/Programs/Python/openfl/openfl/openfl/utilities/utils.py#172\u001B\\\u001B[2m172\u001B[0m\u001B]8;;\u001B\\\n",
      "text/html": "<pre style=\"white-space:pre;overflow-x:auto;line-height:normal;font-family:Menlo,'DejaVu Sans Mono',consolas,'Courier New',monospace\"><span style=\"color: #7fbfbf; text-decoration-color: #7fbfbf\">[18:57:09] </span><span style=\"color: #800000; text-decoration-color: #800000\">WARNING </span> tried to remove tensor: __opt_state_needed not present in the tensor dict                                                       <a href=\"file:///home/p/Desktop/Programs/Python/openfl/openfl/openfl/utilities/utils.py\" target=\"_blank\"><span style=\"color: #7f7f7f; text-decoration-color: #7f7f7f\">utils.py</span></a><span style=\"color: #7f7f7f; text-decoration-color: #7f7f7f\">:</span><a href=\"file:///home/p/Desktop/Programs/Python/openfl/openfl/openfl/utilities/utils.py#172\" target=\"_blank\"><span style=\"color: #7f7f7f; text-decoration-color: #7f7f7f\">172</span></a>\n</pre>\n"
     },
     "metadata": {},
     "output_type": "display_data"
    },
    {
     "data": {
      "text/plain": "\u001B[2;36m          \u001B[0m\u001B[2;36m \u001B[0mMETRIC   Round \u001B[1;36m0\u001B[0m, collaborator four is sending metric for task train: cross_entropy      \u001B[1;36m0.232462\u001B[0m                                 \u001B]8;id=960751;file:///home/p/Desktop/Programs/Python/openfl/openfl/openfl/component/collaborator/collaborator.py\u001B\\\u001B[2mcollaborator.py\u001B[0m\u001B]8;;\u001B\\\u001B[2m:\u001B[0m\u001B]8;id=417052;file:///home/p/Desktop/Programs/Python/openfl/openfl/openfl/component/collaborator/collaborator.py#415\u001B\\\u001B[2m415\u001B[0m\u001B]8;;\u001B\\\n",
      "text/html": "<pre style=\"white-space:pre;overflow-x:auto;line-height:normal;font-family:Menlo,'DejaVu Sans Mono',consolas,'Courier New',monospace\"><span style=\"color: #7fbfbf; text-decoration-color: #7fbfbf\">           </span>METRIC   Round <span style=\"color: #008080; text-decoration-color: #008080; font-weight: bold\">0</span>, collaborator four is sending metric for task train: cross_entropy      <span style=\"color: #008080; text-decoration-color: #008080; font-weight: bold\">0.232462</span>                                 <a href=\"file:///home/p/Desktop/Programs/Python/openfl/openfl/openfl/component/collaborator/collaborator.py\" target=\"_blank\"><span style=\"color: #7f7f7f; text-decoration-color: #7f7f7f\">collaborator.py</span></a><span style=\"color: #7f7f7f; text-decoration-color: #7f7f7f\">:</span><a href=\"file:///home/p/Desktop/Programs/Python/openfl/openfl/openfl/component/collaborator/collaborator.py#415\" target=\"_blank\"><span style=\"color: #7f7f7f; text-decoration-color: #7f7f7f\">415</span></a>\n</pre>\n"
     },
     "metadata": {},
     "output_type": "display_data"
    },
    {
     "data": {
      "text/plain": "\u001B[2;36m          \u001B[0m\u001B[2;36m \u001B[0mMETRIC   Round \u001B[1;36m0\u001B[0m, collaborator metric train result cross_entropy:        \u001B[1;36m0.232462\u001B[0m                                                   \u001B]8;id=594368;file:///home/p/Desktop/Programs/Python/openfl/openfl/openfl/component/aggregator/aggregator.py\u001B\\\u001B[2maggregator.py\u001B[0m\u001B]8;;\u001B\\\u001B[2m:\u001B[0m\u001B]8;id=439551;file:///home/p/Desktop/Programs/Python/openfl/openfl/openfl/component/aggregator/aggregator.py#559\u001B\\\u001B[2m559\u001B[0m\u001B]8;;\u001B\\\n",
      "text/html": "<pre style=\"white-space:pre;overflow-x:auto;line-height:normal;font-family:Menlo,'DejaVu Sans Mono',consolas,'Courier New',monospace\"><span style=\"color: #7fbfbf; text-decoration-color: #7fbfbf\">           </span>METRIC   Round <span style=\"color: #008080; text-decoration-color: #008080; font-weight: bold\">0</span>, collaborator metric train result cross_entropy:        <span style=\"color: #008080; text-decoration-color: #008080; font-weight: bold\">0.232462</span>                                                   <a href=\"file:///home/p/Desktop/Programs/Python/openfl/openfl/openfl/component/aggregator/aggregator.py\" target=\"_blank\"><span style=\"color: #7f7f7f; text-decoration-color: #7f7f7f\">aggregator.py</span></a><span style=\"color: #7f7f7f; text-decoration-color: #7f7f7f\">:</span><a href=\"file:///home/p/Desktop/Programs/Python/openfl/openfl/openfl/component/aggregator/aggregator.py#559\" target=\"_blank\"><span style=\"color: #7f7f7f; text-decoration-color: #7f7f7f\">559</span></a>\n</pre>\n"
     },
     "metadata": {},
     "output_type": "display_data"
    },
    {
     "data": {
      "text/plain": "\u001B[2;36m          \u001B[0m\u001B[2;36m \u001B[0mMETRIC   Round \u001B[1;36m0\u001B[0m, collaborator four is sending metric for task locally_tuned_model_validation: acc       \u001B[1;36m0.718800\u001B[0m                 \u001B]8;id=329520;file:///home/p/Desktop/Programs/Python/openfl/openfl/openfl/component/collaborator/collaborator.py\u001B\\\u001B[2mcollaborator.py\u001B[0m\u001B]8;;\u001B\\\u001B[2m:\u001B[0m\u001B]8;id=122841;file:///home/p/Desktop/Programs/Python/openfl/openfl/openfl/component/collaborator/collaborator.py#415\u001B\\\u001B[2m415\u001B[0m\u001B]8;;\u001B\\\n",
      "text/html": "<pre style=\"white-space:pre;overflow-x:auto;line-height:normal;font-family:Menlo,'DejaVu Sans Mono',consolas,'Courier New',monospace\"><span style=\"color: #7fbfbf; text-decoration-color: #7fbfbf\">           </span>METRIC   Round <span style=\"color: #008080; text-decoration-color: #008080; font-weight: bold\">0</span>, collaborator four is sending metric for task locally_tuned_model_validation: acc       <span style=\"color: #008080; text-decoration-color: #008080; font-weight: bold\">0.718800</span>                 <a href=\"file:///home/p/Desktop/Programs/Python/openfl/openfl/openfl/component/collaborator/collaborator.py\" target=\"_blank\"><span style=\"color: #7f7f7f; text-decoration-color: #7f7f7f\">collaborator.py</span></a><span style=\"color: #7f7f7f; text-decoration-color: #7f7f7f\">:</span><a href=\"file:///home/p/Desktop/Programs/Python/openfl/openfl/openfl/component/collaborator/collaborator.py#415\" target=\"_blank\"><span style=\"color: #7f7f7f; text-decoration-color: #7f7f7f\">415</span></a>\n</pre>\n"
     },
     "metadata": {},
     "output_type": "display_data"
    },
    {
     "data": {
      "text/plain": "\u001B[2;36m          \u001B[0m\u001B[2;36m \u001B[0mMETRIC   Round \u001B[1;36m0\u001B[0m, collaborator validate_local locally_tuned_model_validation result acc: \u001B[1;36m0.718800\u001B[0m                                   \u001B]8;id=973680;file:///home/p/Desktop/Programs/Python/openfl/openfl/openfl/component/aggregator/aggregator.py\u001B\\\u001B[2maggregator.py\u001B[0m\u001B]8;;\u001B\\\u001B[2m:\u001B[0m\u001B]8;id=872790;file:///home/p/Desktop/Programs/Python/openfl/openfl/openfl/component/aggregator/aggregator.py#559\u001B\\\u001B[2m559\u001B[0m\u001B]8;;\u001B\\\n",
      "text/html": "<pre style=\"white-space:pre;overflow-x:auto;line-height:normal;font-family:Menlo,'DejaVu Sans Mono',consolas,'Courier New',monospace\"><span style=\"color: #7fbfbf; text-decoration-color: #7fbfbf\">           </span>METRIC   Round <span style=\"color: #008080; text-decoration-color: #008080; font-weight: bold\">0</span>, collaborator validate_local locally_tuned_model_validation result acc: <span style=\"color: #008080; text-decoration-color: #008080; font-weight: bold\">0.718800</span>                                   <a href=\"file:///home/p/Desktop/Programs/Python/openfl/openfl/openfl/component/aggregator/aggregator.py\" target=\"_blank\"><span style=\"color: #7f7f7f; text-decoration-color: #7f7f7f\">aggregator.py</span></a><span style=\"color: #7f7f7f; text-decoration-color: #7f7f7f\">:</span><a href=\"file:///home/p/Desktop/Programs/Python/openfl/openfl/openfl/component/aggregator/aggregator.py#559\" target=\"_blank\"><span style=\"color: #7f7f7f; text-decoration-color: #7f7f7f\">559</span></a>\n</pre>\n"
     },
     "metadata": {},
     "output_type": "display_data"
    },
    {
     "data": {
      "text/plain": "\u001B[2;36m          \u001B[0m\u001B[2;36m \u001B[0mMETRIC   Round \u001B[1;36m0\u001B[0m, aggregator: locally_tuned_model_validation                                                                        \u001B]8;id=658232;file:///home/p/Desktop/Programs/Python/openfl/openfl/openfl/component/aggregator/aggregator.py\u001B\\\u001B[2maggregator.py\u001B[0m\u001B]8;;\u001B\\\u001B[2m:\u001B[0m\u001B]8;id=752077;file:///home/p/Desktop/Programs/Python/openfl/openfl/openfl/component/aggregator/aggregator.py#842\u001B\\\u001B[2m842\u001B[0m\u001B]8;;\u001B\\\n\u001B[2;36m           \u001B[0m         \u001B[1m<\u001B[0m\u001B[1;95mopenfl.interface.aggregation_functions.weighted_average.WeightedAverage\u001B[0m\u001B[39m object at \u001B[0m\u001B[1;36m0x7f2dc10bf580\u001B[0m\u001B[1m>\u001B[0m acc:     \u001B[1;36m0.727100\u001B[0m       \u001B[2m                 \u001B[0m\n",
      "text/html": "<pre style=\"white-space:pre;overflow-x:auto;line-height:normal;font-family:Menlo,'DejaVu Sans Mono',consolas,'Courier New',monospace\"><span style=\"color: #7fbfbf; text-decoration-color: #7fbfbf\">           </span>METRIC   Round <span style=\"color: #008080; text-decoration-color: #008080; font-weight: bold\">0</span>, aggregator: locally_tuned_model_validation                                                                        <a href=\"file:///home/p/Desktop/Programs/Python/openfl/openfl/openfl/component/aggregator/aggregator.py\" target=\"_blank\"><span style=\"color: #7f7f7f; text-decoration-color: #7f7f7f\">aggregator.py</span></a><span style=\"color: #7f7f7f; text-decoration-color: #7f7f7f\">:</span><a href=\"file:///home/p/Desktop/Programs/Python/openfl/openfl/openfl/component/aggregator/aggregator.py#842\" target=\"_blank\"><span style=\"color: #7f7f7f; text-decoration-color: #7f7f7f\">842</span></a>\n<span style=\"color: #7fbfbf; text-decoration-color: #7fbfbf\">           </span>         <span style=\"font-weight: bold\">&lt;</span><span style=\"color: #ff00ff; text-decoration-color: #ff00ff; font-weight: bold\">openfl.interface.aggregation_functions.weighted_average.WeightedAverage</span><span style=\"color: #000000; text-decoration-color: #000000\"> object at </span><span style=\"color: #008080; text-decoration-color: #008080; font-weight: bold\">0x7f2dc10bf580</span><span style=\"font-weight: bold\">&gt;</span> acc:     <span style=\"color: #008080; text-decoration-color: #008080; font-weight: bold\">0.727100</span>       <span style=\"color: #7f7f7f; text-decoration-color: #7f7f7f\">                 </span>\n</pre>\n"
     },
     "metadata": {},
     "output_type": "display_data"
    },
    {
     "data": {
      "text/plain": "\u001B[2;36m          \u001B[0m\u001B[2;36m \u001B[0mMETRIC   Round \u001B[1;36m0\u001B[0m, aggregator: train \u001B[1m<\u001B[0m\u001B[1;95mopenfl.interface.aggregation_functions.weighted_average.WeightedAverage\u001B[0m\u001B[39m object at \u001B[0m             \u001B]8;id=788502;file:///home/p/Desktop/Programs/Python/openfl/openfl/openfl/component/aggregator/aggregator.py\u001B\\\u001B[2maggregator.py\u001B[0m\u001B]8;;\u001B\\\u001B[2m:\u001B[0m\u001B]8;id=239587;file:///home/p/Desktop/Programs/Python/openfl/openfl/openfl/component/aggregator/aggregator.py#842\u001B\\\u001B[2m842\u001B[0m\u001B]8;;\u001B\\\n\u001B[2;36m           \u001B[0m         \u001B[1;36m0x7f2dc10bf580\u001B[0m\u001B[1m>\u001B[0m cross_entropy:    \u001B[1;36m0.234495\u001B[0m                                                                                 \u001B[2m                 \u001B[0m\n",
      "text/html": "<pre style=\"white-space:pre;overflow-x:auto;line-height:normal;font-family:Menlo,'DejaVu Sans Mono',consolas,'Courier New',monospace\"><span style=\"color: #7fbfbf; text-decoration-color: #7fbfbf\">           </span>METRIC   Round <span style=\"color: #008080; text-decoration-color: #008080; font-weight: bold\">0</span>, aggregator: train <span style=\"font-weight: bold\">&lt;</span><span style=\"color: #ff00ff; text-decoration-color: #ff00ff; font-weight: bold\">openfl.interface.aggregation_functions.weighted_average.WeightedAverage</span><span style=\"color: #000000; text-decoration-color: #000000\"> object at </span>             <a href=\"file:///home/p/Desktop/Programs/Python/openfl/openfl/openfl/component/aggregator/aggregator.py\" target=\"_blank\"><span style=\"color: #7f7f7f; text-decoration-color: #7f7f7f\">aggregator.py</span></a><span style=\"color: #7f7f7f; text-decoration-color: #7f7f7f\">:</span><a href=\"file:///home/p/Desktop/Programs/Python/openfl/openfl/openfl/component/aggregator/aggregator.py#842\" target=\"_blank\"><span style=\"color: #7f7f7f; text-decoration-color: #7f7f7f\">842</span></a>\n<span style=\"color: #7fbfbf; text-decoration-color: #7fbfbf\">           </span>         <span style=\"color: #008080; text-decoration-color: #008080; font-weight: bold\">0x7f2dc10bf580</span><span style=\"font-weight: bold\">&gt;</span> cross_entropy:    <span style=\"color: #008080; text-decoration-color: #008080; font-weight: bold\">0.234495</span>                                                                                 <span style=\"color: #7f7f7f; text-decoration-color: #7f7f7f\">                 </span>\n</pre>\n"
     },
     "metadata": {},
     "output_type": "display_data"
    },
    {
     "data": {
      "text/plain": "\u001B[2;36m          \u001B[0m\u001B[2;36m \u001B[0mMETRIC   Round \u001B[1;36m0\u001B[0m, aggregator: aggregated_model_validation \u001B[1m<\u001B[0m\u001B[1;95mopenfl.interface.aggregation_functions.weighted_average.WeightedAverage\u001B[0m\u001B[39m \u001B[0m \u001B]8;id=149700;file:///home/p/Desktop/Programs/Python/openfl/openfl/openfl/component/aggregator/aggregator.py\u001B\\\u001B[2maggregator.py\u001B[0m\u001B]8;;\u001B\\\u001B[2m:\u001B[0m\u001B]8;id=805817;file:///home/p/Desktop/Programs/Python/openfl/openfl/openfl/component/aggregator/aggregator.py#842\u001B\\\u001B[2m842\u001B[0m\u001B]8;;\u001B\\\n\u001B[2;36m           \u001B[0m         \u001B[39mobject at \u001B[0m\u001B[1;36m0x7f2dc10bf580\u001B[0m\u001B[1m>\u001B[0m acc:        \u001B[1;36m0.703700\u001B[0m                                                                             \u001B[2m                 \u001B[0m\n",
      "text/html": "<pre style=\"white-space:pre;overflow-x:auto;line-height:normal;font-family:Menlo,'DejaVu Sans Mono',consolas,'Courier New',monospace\"><span style=\"color: #7fbfbf; text-decoration-color: #7fbfbf\">           </span>METRIC   Round <span style=\"color: #008080; text-decoration-color: #008080; font-weight: bold\">0</span>, aggregator: aggregated_model_validation <span style=\"font-weight: bold\">&lt;</span><span style=\"color: #ff00ff; text-decoration-color: #ff00ff; font-weight: bold\">openfl.interface.aggregation_functions.weighted_average.WeightedAverage</span><span style=\"color: #000000; text-decoration-color: #000000\"> </span> <a href=\"file:///home/p/Desktop/Programs/Python/openfl/openfl/openfl/component/aggregator/aggregator.py\" target=\"_blank\"><span style=\"color: #7f7f7f; text-decoration-color: #7f7f7f\">aggregator.py</span></a><span style=\"color: #7f7f7f; text-decoration-color: #7f7f7f\">:</span><a href=\"file:///home/p/Desktop/Programs/Python/openfl/openfl/openfl/component/aggregator/aggregator.py#842\" target=\"_blank\"><span style=\"color: #7f7f7f; text-decoration-color: #7f7f7f\">842</span></a>\n<span style=\"color: #7fbfbf; text-decoration-color: #7fbfbf\">           </span>         <span style=\"color: #000000; text-decoration-color: #000000\">object at </span><span style=\"color: #008080; text-decoration-color: #008080; font-weight: bold\">0x7f2dc10bf580</span><span style=\"font-weight: bold\">&gt;</span> acc:        <span style=\"color: #008080; text-decoration-color: #008080; font-weight: bold\">0.703700</span>                                                                             <span style=\"color: #7f7f7f; text-decoration-color: #7f7f7f\">                 </span>\n</pre>\n"
     },
     "metadata": {},
     "output_type": "display_data"
    },
    {
     "data": {
      "text/plain": "\u001B[2;36m          \u001B[0m\u001B[2;36m \u001B[0mMETRIC   Round \u001B[1;36m0\u001B[0m: saved the best model with score \u001B[1;36m0.703700\u001B[0m                                                                          \u001B]8;id=327016;file:///home/p/Desktop/Programs/Python/openfl/openfl/openfl/component/aggregator/aggregator.py\u001B\\\u001B[2maggregator.py\u001B[0m\u001B]8;;\u001B\\\u001B[2m:\u001B[0m\u001B]8;id=893182;file:///home/p/Desktop/Programs/Python/openfl/openfl/openfl/component/aggregator/aggregator.py#858\u001B\\\u001B[2m858\u001B[0m\u001B]8;;\u001B\\\n",
      "text/html": "<pre style=\"white-space:pre;overflow-x:auto;line-height:normal;font-family:Menlo,'DejaVu Sans Mono',consolas,'Courier New',monospace\"><span style=\"color: #7fbfbf; text-decoration-color: #7fbfbf\">           </span>METRIC   Round <span style=\"color: #008080; text-decoration-color: #008080; font-weight: bold\">0</span>: saved the best model with score <span style=\"color: #008080; text-decoration-color: #008080; font-weight: bold\">0.703700</span>                                                                          <a href=\"file:///home/p/Desktop/Programs/Python/openfl/openfl/openfl/component/aggregator/aggregator.py\" target=\"_blank\"><span style=\"color: #7f7f7f; text-decoration-color: #7f7f7f\">aggregator.py</span></a><span style=\"color: #7f7f7f; text-decoration-color: #7f7f7f\">:</span><a href=\"file:///home/p/Desktop/Programs/Python/openfl/openfl/openfl/component/aggregator/aggregator.py#858\" target=\"_blank\"><span style=\"color: #7f7f7f; text-decoration-color: #7f7f7f\">858</span></a>\n</pre>\n"
     },
     "metadata": {},
     "output_type": "display_data"
    },
    {
     "data": {
      "text/plain": "\u001B[2;36m[18:57:10]\u001B[0m\u001B[2;36m \u001B[0m\u001B[31mWARNING \u001B[0m tried to remove tensor: __opt_state_needed not present in the tensor dict                                                       \u001B]8;id=872724;file:///home/p/Desktop/Programs/Python/openfl/openfl/openfl/utilities/utils.py\u001B\\\u001B[2mutils.py\u001B[0m\u001B]8;;\u001B\\\u001B[2m:\u001B[0m\u001B]8;id=101215;file:///home/p/Desktop/Programs/Python/openfl/openfl/openfl/utilities/utils.py#172\u001B\\\u001B[2m172\u001B[0m\u001B]8;;\u001B\\\n",
      "text/html": "<pre style=\"white-space:pre;overflow-x:auto;line-height:normal;font-family:Menlo,'DejaVu Sans Mono',consolas,'Courier New',monospace\"><span style=\"color: #7fbfbf; text-decoration-color: #7fbfbf\">[18:57:10] </span><span style=\"color: #800000; text-decoration-color: #800000\">WARNING </span> tried to remove tensor: __opt_state_needed not present in the tensor dict                                                       <a href=\"file:///home/p/Desktop/Programs/Python/openfl/openfl/openfl/utilities/utils.py\" target=\"_blank\"><span style=\"color: #7f7f7f; text-decoration-color: #7f7f7f\">utils.py</span></a><span style=\"color: #7f7f7f; text-decoration-color: #7f7f7f\">:</span><a href=\"file:///home/p/Desktop/Programs/Python/openfl/openfl/openfl/utilities/utils.py#172\" target=\"_blank\"><span style=\"color: #7f7f7f; text-decoration-color: #7f7f7f\">172</span></a>\n</pre>\n"
     },
     "metadata": {},
     "output_type": "display_data"
    },
    {
     "data": {
      "text/plain": "\u001B[2;36m          \u001B[0m\u001B[2;36m \u001B[0m\u001B[31mWARNING \u001B[0m tried to remove tensor: __opt_state_needed not present in the tensor dict                                                       \u001B]8;id=708723;file:///home/p/Desktop/Programs/Python/openfl/openfl/openfl/utilities/utils.py\u001B\\\u001B[2mutils.py\u001B[0m\u001B]8;;\u001B\\\u001B[2m:\u001B[0m\u001B]8;id=148267;file:///home/p/Desktop/Programs/Python/openfl/openfl/openfl/utilities/utils.py#172\u001B\\\u001B[2m172\u001B[0m\u001B]8;;\u001B\\\n",
      "text/html": "<pre style=\"white-space:pre;overflow-x:auto;line-height:normal;font-family:Menlo,'DejaVu Sans Mono',consolas,'Courier New',monospace\"><span style=\"color: #7fbfbf; text-decoration-color: #7fbfbf\">           </span><span style=\"color: #800000; text-decoration-color: #800000\">WARNING </span> tried to remove tensor: __opt_state_needed not present in the tensor dict                                                       <a href=\"file:///home/p/Desktop/Programs/Python/openfl/openfl/openfl/utilities/utils.py\" target=\"_blank\"><span style=\"color: #7f7f7f; text-decoration-color: #7f7f7f\">utils.py</span></a><span style=\"color: #7f7f7f; text-decoration-color: #7f7f7f\">:</span><a href=\"file:///home/p/Desktop/Programs/Python/openfl/openfl/openfl/utilities/utils.py#172\" target=\"_blank\"><span style=\"color: #7f7f7f; text-decoration-color: #7f7f7f\">172</span></a>\n</pre>\n"
     },
     "metadata": {},
     "output_type": "display_data"
    },
    {
     "data": {
      "text/plain": "\u001B[2;36m          \u001B[0m\u001B[2;36m \u001B[0m\u001B[31mWARNING \u001B[0m tried to remove tensor: __opt_state_needed not present in the tensor dict                                                       \u001B]8;id=212389;file:///home/p/Desktop/Programs/Python/openfl/openfl/openfl/utilities/utils.py\u001B\\\u001B[2mutils.py\u001B[0m\u001B]8;;\u001B\\\u001B[2m:\u001B[0m\u001B]8;id=939571;file:///home/p/Desktop/Programs/Python/openfl/openfl/openfl/utilities/utils.py#172\u001B\\\u001B[2m172\u001B[0m\u001B]8;;\u001B\\\n",
      "text/html": "<pre style=\"white-space:pre;overflow-x:auto;line-height:normal;font-family:Menlo,'DejaVu Sans Mono',consolas,'Courier New',monospace\"><span style=\"color: #7fbfbf; text-decoration-color: #7fbfbf\">           </span><span style=\"color: #800000; text-decoration-color: #800000\">WARNING </span> tried to remove tensor: __opt_state_needed not present in the tensor dict                                                       <a href=\"file:///home/p/Desktop/Programs/Python/openfl/openfl/openfl/utilities/utils.py\" target=\"_blank\"><span style=\"color: #7f7f7f; text-decoration-color: #7f7f7f\">utils.py</span></a><span style=\"color: #7f7f7f; text-decoration-color: #7f7f7f\">:</span><a href=\"file:///home/p/Desktop/Programs/Python/openfl/openfl/openfl/utilities/utils.py#172\" target=\"_blank\"><span style=\"color: #7f7f7f; text-decoration-color: #7f7f7f\">172</span></a>\n</pre>\n"
     },
     "metadata": {},
     "output_type": "display_data"
    },
    {
     "data": {
      "text/plain": "\u001B[2;36m          \u001B[0m\u001B[2;36m \u001B[0m\u001B[31mWARNING \u001B[0m tried to remove tensor: __opt_state_needed not present in the tensor dict                                                       \u001B]8;id=717935;file:///home/p/Desktop/Programs/Python/openfl/openfl/openfl/utilities/utils.py\u001B\\\u001B[2mutils.py\u001B[0m\u001B]8;;\u001B\\\u001B[2m:\u001B[0m\u001B]8;id=712793;file:///home/p/Desktop/Programs/Python/openfl/openfl/openfl/utilities/utils.py#172\u001B\\\u001B[2m172\u001B[0m\u001B]8;;\u001B\\\n",
      "text/html": "<pre style=\"white-space:pre;overflow-x:auto;line-height:normal;font-family:Menlo,'DejaVu Sans Mono',consolas,'Courier New',monospace\"><span style=\"color: #7fbfbf; text-decoration-color: #7fbfbf\">           </span><span style=\"color: #800000; text-decoration-color: #800000\">WARNING </span> tried to remove tensor: __opt_state_needed not present in the tensor dict                                                       <a href=\"file:///home/p/Desktop/Programs/Python/openfl/openfl/openfl/utilities/utils.py\" target=\"_blank\"><span style=\"color: #7f7f7f; text-decoration-color: #7f7f7f\">utils.py</span></a><span style=\"color: #7f7f7f; text-decoration-color: #7f7f7f\">:</span><a href=\"file:///home/p/Desktop/Programs/Python/openfl/openfl/openfl/utilities/utils.py#172\" target=\"_blank\"><span style=\"color: #7f7f7f; text-decoration-color: #7f7f7f\">172</span></a>\n</pre>\n"
     },
     "metadata": {},
     "output_type": "display_data"
    },
    {
     "data": {
      "text/plain": "\u001B[2;36m          \u001B[0m\u001B[2;36m \u001B[0m\u001B[31mWARNING \u001B[0m tried to remove tensor: __opt_state_needed not present in the tensor dict                                                       \u001B]8;id=772667;file:///home/p/Desktop/Programs/Python/openfl/openfl/openfl/utilities/utils.py\u001B\\\u001B[2mutils.py\u001B[0m\u001B]8;;\u001B\\\u001B[2m:\u001B[0m\u001B]8;id=937894;file:///home/p/Desktop/Programs/Python/openfl/openfl/openfl/utilities/utils.py#172\u001B\\\u001B[2m172\u001B[0m\u001B]8;;\u001B\\\n",
      "text/html": "<pre style=\"white-space:pre;overflow-x:auto;line-height:normal;font-family:Menlo,'DejaVu Sans Mono',consolas,'Courier New',monospace\"><span style=\"color: #7fbfbf; text-decoration-color: #7fbfbf\">           </span><span style=\"color: #800000; text-decoration-color: #800000\">WARNING </span> tried to remove tensor: __opt_state_needed not present in the tensor dict                                                       <a href=\"file:///home/p/Desktop/Programs/Python/openfl/openfl/openfl/utilities/utils.py\" target=\"_blank\"><span style=\"color: #7f7f7f; text-decoration-color: #7f7f7f\">utils.py</span></a><span style=\"color: #7f7f7f; text-decoration-color: #7f7f7f\">:</span><a href=\"file:///home/p/Desktop/Programs/Python/openfl/openfl/openfl/utilities/utils.py#172\" target=\"_blank\"><span style=\"color: #7f7f7f; text-decoration-color: #7f7f7f\">172</span></a>\n</pre>\n"
     },
     "metadata": {},
     "output_type": "display_data"
    },
    {
     "data": {
      "text/plain": "\u001B[2;36m          \u001B[0m\u001B[2;36m \u001B[0mMETRIC   Round \u001B[1;36m0\u001B[0m, collaborator one is sending metric for task aggregated_model_validation: acc   \u001B[1;36m0.728000\u001B[0m                         \u001B]8;id=943719;file:///home/p/Desktop/Programs/Python/openfl/openfl/openfl/component/collaborator/collaborator.py\u001B\\\u001B[2mcollaborator.py\u001B[0m\u001B]8;;\u001B\\\u001B[2m:\u001B[0m\u001B]8;id=907826;file:///home/p/Desktop/Programs/Python/openfl/openfl/openfl/component/collaborator/collaborator.py#415\u001B\\\u001B[2m415\u001B[0m\u001B]8;;\u001B\\\n",
      "text/html": "<pre style=\"white-space:pre;overflow-x:auto;line-height:normal;font-family:Menlo,'DejaVu Sans Mono',consolas,'Courier New',monospace\"><span style=\"color: #7fbfbf; text-decoration-color: #7fbfbf\">           </span>METRIC   Round <span style=\"color: #008080; text-decoration-color: #008080; font-weight: bold\">0</span>, collaborator one is sending metric for task aggregated_model_validation: acc   <span style=\"color: #008080; text-decoration-color: #008080; font-weight: bold\">0.728000</span>                         <a href=\"file:///home/p/Desktop/Programs/Python/openfl/openfl/openfl/component/collaborator/collaborator.py\" target=\"_blank\"><span style=\"color: #7f7f7f; text-decoration-color: #7f7f7f\">collaborator.py</span></a><span style=\"color: #7f7f7f; text-decoration-color: #7f7f7f\">:</span><a href=\"file:///home/p/Desktop/Programs/Python/openfl/openfl/openfl/component/collaborator/collaborator.py#415\" target=\"_blank\"><span style=\"color: #7f7f7f; text-decoration-color: #7f7f7f\">415</span></a>\n</pre>\n"
     },
     "metadata": {},
     "output_type": "display_data"
    },
    {
     "data": {
      "text/plain": "\u001B[2;36m          \u001B[0m\u001B[2;36m \u001B[0mMETRIC   Round \u001B[1;36m0\u001B[0m, collaborator validate_agg aggregated_model_validation result acc:      \u001B[1;36m0.728000\u001B[0m                                   \u001B]8;id=282772;file:///home/p/Desktop/Programs/Python/openfl/openfl/openfl/component/aggregator/aggregator.py\u001B\\\u001B[2maggregator.py\u001B[0m\u001B]8;;\u001B\\\u001B[2m:\u001B[0m\u001B]8;id=155434;file:///home/p/Desktop/Programs/Python/openfl/openfl/openfl/component/aggregator/aggregator.py#559\u001B\\\u001B[2m559\u001B[0m\u001B]8;;\u001B\\\n",
      "text/html": "<pre style=\"white-space:pre;overflow-x:auto;line-height:normal;font-family:Menlo,'DejaVu Sans Mono',consolas,'Courier New',monospace\"><span style=\"color: #7fbfbf; text-decoration-color: #7fbfbf\">           </span>METRIC   Round <span style=\"color: #008080; text-decoration-color: #008080; font-weight: bold\">0</span>, collaborator validate_agg aggregated_model_validation result acc:      <span style=\"color: #008080; text-decoration-color: #008080; font-weight: bold\">0.728000</span>                                   <a href=\"file:///home/p/Desktop/Programs/Python/openfl/openfl/openfl/component/aggregator/aggregator.py\" target=\"_blank\"><span style=\"color: #7f7f7f; text-decoration-color: #7f7f7f\">aggregator.py</span></a><span style=\"color: #7f7f7f; text-decoration-color: #7f7f7f\">:</span><a href=\"file:///home/p/Desktop/Programs/Python/openfl/openfl/openfl/component/aggregator/aggregator.py#559\" target=\"_blank\"><span style=\"color: #7f7f7f; text-decoration-color: #7f7f7f\">559</span></a>\n</pre>\n"
     },
     "metadata": {},
     "output_type": "display_data"
    },
    {
     "data": {
      "text/plain": "\u001B[2;36m[18:57:11]\u001B[0m\u001B[2;36m \u001B[0m\u001B[31mWARNING \u001B[0m tried to remove tensor: __opt_state_needed not present in the tensor dict                                                       \u001B]8;id=552097;file:///home/p/Desktop/Programs/Python/openfl/openfl/openfl/utilities/utils.py\u001B\\\u001B[2mutils.py\u001B[0m\u001B]8;;\u001B\\\u001B[2m:\u001B[0m\u001B]8;id=207690;file:///home/p/Desktop/Programs/Python/openfl/openfl/openfl/utilities/utils.py#172\u001B\\\u001B[2m172\u001B[0m\u001B]8;;\u001B\\\n",
      "text/html": "<pre style=\"white-space:pre;overflow-x:auto;line-height:normal;font-family:Menlo,'DejaVu Sans Mono',consolas,'Courier New',monospace\"><span style=\"color: #7fbfbf; text-decoration-color: #7fbfbf\">[18:57:11] </span><span style=\"color: #800000; text-decoration-color: #800000\">WARNING </span> tried to remove tensor: __opt_state_needed not present in the tensor dict                                                       <a href=\"file:///home/p/Desktop/Programs/Python/openfl/openfl/openfl/utilities/utils.py\" target=\"_blank\"><span style=\"color: #7f7f7f; text-decoration-color: #7f7f7f\">utils.py</span></a><span style=\"color: #7f7f7f; text-decoration-color: #7f7f7f\">:</span><a href=\"file:///home/p/Desktop/Programs/Python/openfl/openfl/openfl/utilities/utils.py#172\" target=\"_blank\"><span style=\"color: #7f7f7f; text-decoration-color: #7f7f7f\">172</span></a>\n</pre>\n"
     },
     "metadata": {},
     "output_type": "display_data"
    },
    {
     "data": {
      "text/plain": "\u001B[2;36m          \u001B[0m\u001B[2;36m \u001B[0mMETRIC   Round \u001B[1;36m0\u001B[0m, collaborator one is sending metric for task train: cross_entropy       \u001B[1;36m0.221888\u001B[0m                                 \u001B]8;id=635976;file:///home/p/Desktop/Programs/Python/openfl/openfl/openfl/component/collaborator/collaborator.py\u001B\\\u001B[2mcollaborator.py\u001B[0m\u001B]8;;\u001B\\\u001B[2m:\u001B[0m\u001B]8;id=651634;file:///home/p/Desktop/Programs/Python/openfl/openfl/openfl/component/collaborator/collaborator.py#415\u001B\\\u001B[2m415\u001B[0m\u001B]8;;\u001B\\\n",
      "text/html": "<pre style=\"white-space:pre;overflow-x:auto;line-height:normal;font-family:Menlo,'DejaVu Sans Mono',consolas,'Courier New',monospace\"><span style=\"color: #7fbfbf; text-decoration-color: #7fbfbf\">           </span>METRIC   Round <span style=\"color: #008080; text-decoration-color: #008080; font-weight: bold\">0</span>, collaborator one is sending metric for task train: cross_entropy       <span style=\"color: #008080; text-decoration-color: #008080; font-weight: bold\">0.221888</span>                                 <a href=\"file:///home/p/Desktop/Programs/Python/openfl/openfl/openfl/component/collaborator/collaborator.py\" target=\"_blank\"><span style=\"color: #7f7f7f; text-decoration-color: #7f7f7f\">collaborator.py</span></a><span style=\"color: #7f7f7f; text-decoration-color: #7f7f7f\">:</span><a href=\"file:///home/p/Desktop/Programs/Python/openfl/openfl/openfl/component/collaborator/collaborator.py#415\" target=\"_blank\"><span style=\"color: #7f7f7f; text-decoration-color: #7f7f7f\">415</span></a>\n</pre>\n"
     },
     "metadata": {},
     "output_type": "display_data"
    },
    {
     "data": {
      "text/plain": "\u001B[2;36m          \u001B[0m\u001B[2;36m \u001B[0mMETRIC   Round \u001B[1;36m0\u001B[0m, collaborator one train result cross_entropy:   \u001B[1;36m0.221888\u001B[0m                                                           \u001B]8;id=915197;file:///home/p/Desktop/Programs/Python/openfl/openfl/openfl/component/aggregator/aggregator.py\u001B\\\u001B[2maggregator.py\u001B[0m\u001B]8;;\u001B\\\u001B[2m:\u001B[0m\u001B]8;id=786932;file:///home/p/Desktop/Programs/Python/openfl/openfl/openfl/component/aggregator/aggregator.py#559\u001B\\\u001B[2m559\u001B[0m\u001B]8;;\u001B\\\n",
      "text/html": "<pre style=\"white-space:pre;overflow-x:auto;line-height:normal;font-family:Menlo,'DejaVu Sans Mono',consolas,'Courier New',monospace\"><span style=\"color: #7fbfbf; text-decoration-color: #7fbfbf\">           </span>METRIC   Round <span style=\"color: #008080; text-decoration-color: #008080; font-weight: bold\">0</span>, collaborator one train result cross_entropy:   <span style=\"color: #008080; text-decoration-color: #008080; font-weight: bold\">0.221888</span>                                                           <a href=\"file:///home/p/Desktop/Programs/Python/openfl/openfl/openfl/component/aggregator/aggregator.py\" target=\"_blank\"><span style=\"color: #7f7f7f; text-decoration-color: #7f7f7f\">aggregator.py</span></a><span style=\"color: #7f7f7f; text-decoration-color: #7f7f7f\">:</span><a href=\"file:///home/p/Desktop/Programs/Python/openfl/openfl/openfl/component/aggregator/aggregator.py#559\" target=\"_blank\"><span style=\"color: #7f7f7f; text-decoration-color: #7f7f7f\">559</span></a>\n</pre>\n"
     },
     "metadata": {},
     "output_type": "display_data"
    },
    {
     "data": {
      "text/plain": "\u001B[2;36m          \u001B[0m\u001B[2;36m \u001B[0mMETRIC   Round \u001B[1;36m0\u001B[0m, collaborator one is sending metric for task locally_tuned_model_validation: acc        \u001B[1;36m0.740800\u001B[0m                 \u001B]8;id=743116;file:///home/p/Desktop/Programs/Python/openfl/openfl/openfl/component/collaborator/collaborator.py\u001B\\\u001B[2mcollaborator.py\u001B[0m\u001B]8;;\u001B\\\u001B[2m:\u001B[0m\u001B]8;id=123400;file:///home/p/Desktop/Programs/Python/openfl/openfl/openfl/component/collaborator/collaborator.py#415\u001B\\\u001B[2m415\u001B[0m\u001B]8;;\u001B\\\n",
      "text/html": "<pre style=\"white-space:pre;overflow-x:auto;line-height:normal;font-family:Menlo,'DejaVu Sans Mono',consolas,'Courier New',monospace\"><span style=\"color: #7fbfbf; text-decoration-color: #7fbfbf\">           </span>METRIC   Round <span style=\"color: #008080; text-decoration-color: #008080; font-weight: bold\">0</span>, collaborator one is sending metric for task locally_tuned_model_validation: acc        <span style=\"color: #008080; text-decoration-color: #008080; font-weight: bold\">0.740800</span>                 <a href=\"file:///home/p/Desktop/Programs/Python/openfl/openfl/openfl/component/collaborator/collaborator.py\" target=\"_blank\"><span style=\"color: #7f7f7f; text-decoration-color: #7f7f7f\">collaborator.py</span></a><span style=\"color: #7f7f7f; text-decoration-color: #7f7f7f\">:</span><a href=\"file:///home/p/Desktop/Programs/Python/openfl/openfl/openfl/component/collaborator/collaborator.py#415\" target=\"_blank\"><span style=\"color: #7f7f7f; text-decoration-color: #7f7f7f\">415</span></a>\n</pre>\n"
     },
     "metadata": {},
     "output_type": "display_data"
    },
    {
     "data": {
      "text/plain": "\u001B[2;36m          \u001B[0m\u001B[2;36m \u001B[0mMETRIC   Round \u001B[1;36m0\u001B[0m, collaborator validate_local locally_tuned_model_validation result acc: \u001B[1;36m0.740800\u001B[0m                                   \u001B]8;id=391271;file:///home/p/Desktop/Programs/Python/openfl/openfl/openfl/component/aggregator/aggregator.py\u001B\\\u001B[2maggregator.py\u001B[0m\u001B]8;;\u001B\\\u001B[2m:\u001B[0m\u001B]8;id=496406;file:///home/p/Desktop/Programs/Python/openfl/openfl/openfl/component/aggregator/aggregator.py#559\u001B\\\u001B[2m559\u001B[0m\u001B]8;;\u001B\\\n",
      "text/html": "<pre style=\"white-space:pre;overflow-x:auto;line-height:normal;font-family:Menlo,'DejaVu Sans Mono',consolas,'Courier New',monospace\"><span style=\"color: #7fbfbf; text-decoration-color: #7fbfbf\">           </span>METRIC   Round <span style=\"color: #008080; text-decoration-color: #008080; font-weight: bold\">0</span>, collaborator validate_local locally_tuned_model_validation result acc: <span style=\"color: #008080; text-decoration-color: #008080; font-weight: bold\">0.740800</span>                                   <a href=\"file:///home/p/Desktop/Programs/Python/openfl/openfl/openfl/component/aggregator/aggregator.py\" target=\"_blank\"><span style=\"color: #7f7f7f; text-decoration-color: #7f7f7f\">aggregator.py</span></a><span style=\"color: #7f7f7f; text-decoration-color: #7f7f7f\">:</span><a href=\"file:///home/p/Desktop/Programs/Python/openfl/openfl/openfl/component/aggregator/aggregator.py#559\" target=\"_blank\"><span style=\"color: #7f7f7f; text-decoration-color: #7f7f7f\">559</span></a>\n</pre>\n"
     },
     "metadata": {},
     "output_type": "display_data"
    },
    {
     "data": {
      "text/plain": "\u001B[2;36m          \u001B[0m\u001B[2;36m \u001B[0mMETRIC   Round \u001B[1;36m0\u001B[0m, collaborator two is sending metric for task aggregated_model_validation: acc   \u001B[1;36m0.740400\u001B[0m                         \u001B]8;id=847176;file:///home/p/Desktop/Programs/Python/openfl/openfl/openfl/component/collaborator/collaborator.py\u001B\\\u001B[2mcollaborator.py\u001B[0m\u001B]8;;\u001B\\\u001B[2m:\u001B[0m\u001B]8;id=774809;file:///home/p/Desktop/Programs/Python/openfl/openfl/openfl/component/collaborator/collaborator.py#415\u001B\\\u001B[2m415\u001B[0m\u001B]8;;\u001B\\\n",
      "text/html": "<pre style=\"white-space:pre;overflow-x:auto;line-height:normal;font-family:Menlo,'DejaVu Sans Mono',consolas,'Courier New',monospace\"><span style=\"color: #7fbfbf; text-decoration-color: #7fbfbf\">           </span>METRIC   Round <span style=\"color: #008080; text-decoration-color: #008080; font-weight: bold\">0</span>, collaborator two is sending metric for task aggregated_model_validation: acc   <span style=\"color: #008080; text-decoration-color: #008080; font-weight: bold\">0.740400</span>                         <a href=\"file:///home/p/Desktop/Programs/Python/openfl/openfl/openfl/component/collaborator/collaborator.py\" target=\"_blank\"><span style=\"color: #7f7f7f; text-decoration-color: #7f7f7f\">collaborator.py</span></a><span style=\"color: #7f7f7f; text-decoration-color: #7f7f7f\">:</span><a href=\"file:///home/p/Desktop/Programs/Python/openfl/openfl/openfl/component/collaborator/collaborator.py#415\" target=\"_blank\"><span style=\"color: #7f7f7f; text-decoration-color: #7f7f7f\">415</span></a>\n</pre>\n"
     },
     "metadata": {},
     "output_type": "display_data"
    },
    {
     "data": {
      "text/plain": "\u001B[2;36m          \u001B[0m\u001B[2;36m \u001B[0mMETRIC   Round \u001B[1;36m0\u001B[0m, collaborator validate_agg aggregated_model_validation result acc:      \u001B[1;36m0.740400\u001B[0m                                   \u001B]8;id=144912;file:///home/p/Desktop/Programs/Python/openfl/openfl/openfl/component/aggregator/aggregator.py\u001B\\\u001B[2maggregator.py\u001B[0m\u001B]8;;\u001B\\\u001B[2m:\u001B[0m\u001B]8;id=856528;file:///home/p/Desktop/Programs/Python/openfl/openfl/openfl/component/aggregator/aggregator.py#559\u001B\\\u001B[2m559\u001B[0m\u001B]8;;\u001B\\\n",
      "text/html": "<pre style=\"white-space:pre;overflow-x:auto;line-height:normal;font-family:Menlo,'DejaVu Sans Mono',consolas,'Courier New',monospace\"><span style=\"color: #7fbfbf; text-decoration-color: #7fbfbf\">           </span>METRIC   Round <span style=\"color: #008080; text-decoration-color: #008080; font-weight: bold\">0</span>, collaborator validate_agg aggregated_model_validation result acc:      <span style=\"color: #008080; text-decoration-color: #008080; font-weight: bold\">0.740400</span>                                   <a href=\"file:///home/p/Desktop/Programs/Python/openfl/openfl/openfl/component/aggregator/aggregator.py\" target=\"_blank\"><span style=\"color: #7f7f7f; text-decoration-color: #7f7f7f\">aggregator.py</span></a><span style=\"color: #7f7f7f; text-decoration-color: #7f7f7f\">:</span><a href=\"file:///home/p/Desktop/Programs/Python/openfl/openfl/openfl/component/aggregator/aggregator.py#559\" target=\"_blank\"><span style=\"color: #7f7f7f; text-decoration-color: #7f7f7f\">559</span></a>\n</pre>\n"
     },
     "metadata": {},
     "output_type": "display_data"
    },
    {
     "data": {
      "text/plain": "\u001B[2;36m[18:57:12]\u001B[0m\u001B[2;36m \u001B[0m\u001B[31mWARNING \u001B[0m tried to remove tensor: __opt_state_needed not present in the tensor dict                                                       \u001B]8;id=424397;file:///home/p/Desktop/Programs/Python/openfl/openfl/openfl/utilities/utils.py\u001B\\\u001B[2mutils.py\u001B[0m\u001B]8;;\u001B\\\u001B[2m:\u001B[0m\u001B]8;id=434360;file:///home/p/Desktop/Programs/Python/openfl/openfl/openfl/utilities/utils.py#172\u001B\\\u001B[2m172\u001B[0m\u001B]8;;\u001B\\\n",
      "text/html": "<pre style=\"white-space:pre;overflow-x:auto;line-height:normal;font-family:Menlo,'DejaVu Sans Mono',consolas,'Courier New',monospace\"><span style=\"color: #7fbfbf; text-decoration-color: #7fbfbf\">[18:57:12] </span><span style=\"color: #800000; text-decoration-color: #800000\">WARNING </span> tried to remove tensor: __opt_state_needed not present in the tensor dict                                                       <a href=\"file:///home/p/Desktop/Programs/Python/openfl/openfl/openfl/utilities/utils.py\" target=\"_blank\"><span style=\"color: #7f7f7f; text-decoration-color: #7f7f7f\">utils.py</span></a><span style=\"color: #7f7f7f; text-decoration-color: #7f7f7f\">:</span><a href=\"file:///home/p/Desktop/Programs/Python/openfl/openfl/openfl/utilities/utils.py#172\" target=\"_blank\"><span style=\"color: #7f7f7f; text-decoration-color: #7f7f7f\">172</span></a>\n</pre>\n"
     },
     "metadata": {},
     "output_type": "display_data"
    },
    {
     "data": {
      "text/plain": "\u001B[2;36m          \u001B[0m\u001B[2;36m \u001B[0mMETRIC   Round \u001B[1;36m0\u001B[0m, collaborator two is sending metric for task train: cross_entropy       \u001B[1;36m0.225946\u001B[0m                                 \u001B]8;id=384613;file:///home/p/Desktop/Programs/Python/openfl/openfl/openfl/component/collaborator/collaborator.py\u001B\\\u001B[2mcollaborator.py\u001B[0m\u001B]8;;\u001B\\\u001B[2m:\u001B[0m\u001B]8;id=484250;file:///home/p/Desktop/Programs/Python/openfl/openfl/openfl/component/collaborator/collaborator.py#415\u001B\\\u001B[2m415\u001B[0m\u001B]8;;\u001B\\\n",
      "text/html": "<pre style=\"white-space:pre;overflow-x:auto;line-height:normal;font-family:Menlo,'DejaVu Sans Mono',consolas,'Courier New',monospace\"><span style=\"color: #7fbfbf; text-decoration-color: #7fbfbf\">           </span>METRIC   Round <span style=\"color: #008080; text-decoration-color: #008080; font-weight: bold\">0</span>, collaborator two is sending metric for task train: cross_entropy       <span style=\"color: #008080; text-decoration-color: #008080; font-weight: bold\">0.225946</span>                                 <a href=\"file:///home/p/Desktop/Programs/Python/openfl/openfl/openfl/component/collaborator/collaborator.py\" target=\"_blank\"><span style=\"color: #7f7f7f; text-decoration-color: #7f7f7f\">collaborator.py</span></a><span style=\"color: #7f7f7f; text-decoration-color: #7f7f7f\">:</span><a href=\"file:///home/p/Desktop/Programs/Python/openfl/openfl/openfl/component/collaborator/collaborator.py#415\" target=\"_blank\"><span style=\"color: #7f7f7f; text-decoration-color: #7f7f7f\">415</span></a>\n</pre>\n"
     },
     "metadata": {},
     "output_type": "display_data"
    },
    {
     "data": {
      "text/plain": "\u001B[2;36m          \u001B[0m\u001B[2;36m \u001B[0mMETRIC   Round \u001B[1;36m0\u001B[0m, collaborator two train result cross_entropy:   \u001B[1;36m0.225946\u001B[0m                                                           \u001B]8;id=782688;file:///home/p/Desktop/Programs/Python/openfl/openfl/openfl/component/aggregator/aggregator.py\u001B\\\u001B[2maggregator.py\u001B[0m\u001B]8;;\u001B\\\u001B[2m:\u001B[0m\u001B]8;id=642870;file:///home/p/Desktop/Programs/Python/openfl/openfl/openfl/component/aggregator/aggregator.py#559\u001B\\\u001B[2m559\u001B[0m\u001B]8;;\u001B\\\n",
      "text/html": "<pre style=\"white-space:pre;overflow-x:auto;line-height:normal;font-family:Menlo,'DejaVu Sans Mono',consolas,'Courier New',monospace\"><span style=\"color: #7fbfbf; text-decoration-color: #7fbfbf\">           </span>METRIC   Round <span style=\"color: #008080; text-decoration-color: #008080; font-weight: bold\">0</span>, collaborator two train result cross_entropy:   <span style=\"color: #008080; text-decoration-color: #008080; font-weight: bold\">0.225946</span>                                                           <a href=\"file:///home/p/Desktop/Programs/Python/openfl/openfl/openfl/component/aggregator/aggregator.py\" target=\"_blank\"><span style=\"color: #7f7f7f; text-decoration-color: #7f7f7f\">aggregator.py</span></a><span style=\"color: #7f7f7f; text-decoration-color: #7f7f7f\">:</span><a href=\"file:///home/p/Desktop/Programs/Python/openfl/openfl/openfl/component/aggregator/aggregator.py#559\" target=\"_blank\"><span style=\"color: #7f7f7f; text-decoration-color: #7f7f7f\">559</span></a>\n</pre>\n"
     },
     "metadata": {},
     "output_type": "display_data"
    },
    {
     "data": {
      "text/plain": "\u001B[2;36m          \u001B[0m\u001B[2;36m \u001B[0mMETRIC   Round \u001B[1;36m0\u001B[0m, collaborator two is sending metric for task locally_tuned_model_validation: acc        \u001B[1;36m0.754800\u001B[0m                 \u001B]8;id=13576;file:///home/p/Desktop/Programs/Python/openfl/openfl/openfl/component/collaborator/collaborator.py\u001B\\\u001B[2mcollaborator.py\u001B[0m\u001B]8;;\u001B\\\u001B[2m:\u001B[0m\u001B]8;id=486861;file:///home/p/Desktop/Programs/Python/openfl/openfl/openfl/component/collaborator/collaborator.py#415\u001B\\\u001B[2m415\u001B[0m\u001B]8;;\u001B\\\n",
      "text/html": "<pre style=\"white-space:pre;overflow-x:auto;line-height:normal;font-family:Menlo,'DejaVu Sans Mono',consolas,'Courier New',monospace\"><span style=\"color: #7fbfbf; text-decoration-color: #7fbfbf\">           </span>METRIC   Round <span style=\"color: #008080; text-decoration-color: #008080; font-weight: bold\">0</span>, collaborator two is sending metric for task locally_tuned_model_validation: acc        <span style=\"color: #008080; text-decoration-color: #008080; font-weight: bold\">0.754800</span>                 <a href=\"file:///home/p/Desktop/Programs/Python/openfl/openfl/openfl/component/collaborator/collaborator.py\" target=\"_blank\"><span style=\"color: #7f7f7f; text-decoration-color: #7f7f7f\">collaborator.py</span></a><span style=\"color: #7f7f7f; text-decoration-color: #7f7f7f\">:</span><a href=\"file:///home/p/Desktop/Programs/Python/openfl/openfl/openfl/component/collaborator/collaborator.py#415\" target=\"_blank\"><span style=\"color: #7f7f7f; text-decoration-color: #7f7f7f\">415</span></a>\n</pre>\n"
     },
     "metadata": {},
     "output_type": "display_data"
    },
    {
     "data": {
      "text/plain": "\u001B[2;36m          \u001B[0m\u001B[2;36m \u001B[0mMETRIC   Round \u001B[1;36m0\u001B[0m, collaborator validate_local locally_tuned_model_validation result acc: \u001B[1;36m0.754800\u001B[0m                                   \u001B]8;id=294524;file:///home/p/Desktop/Programs/Python/openfl/openfl/openfl/component/aggregator/aggregator.py\u001B\\\u001B[2maggregator.py\u001B[0m\u001B]8;;\u001B\\\u001B[2m:\u001B[0m\u001B]8;id=467734;file:///home/p/Desktop/Programs/Python/openfl/openfl/openfl/component/aggregator/aggregator.py#559\u001B\\\u001B[2m559\u001B[0m\u001B]8;;\u001B\\\n",
      "text/html": "<pre style=\"white-space:pre;overflow-x:auto;line-height:normal;font-family:Menlo,'DejaVu Sans Mono',consolas,'Courier New',monospace\"><span style=\"color: #7fbfbf; text-decoration-color: #7fbfbf\">           </span>METRIC   Round <span style=\"color: #008080; text-decoration-color: #008080; font-weight: bold\">0</span>, collaborator validate_local locally_tuned_model_validation result acc: <span style=\"color: #008080; text-decoration-color: #008080; font-weight: bold\">0.754800</span>                                   <a href=\"file:///home/p/Desktop/Programs/Python/openfl/openfl/openfl/component/aggregator/aggregator.py\" target=\"_blank\"><span style=\"color: #7f7f7f; text-decoration-color: #7f7f7f\">aggregator.py</span></a><span style=\"color: #7f7f7f; text-decoration-color: #7f7f7f\">:</span><a href=\"file:///home/p/Desktop/Programs/Python/openfl/openfl/openfl/component/aggregator/aggregator.py#559\" target=\"_blank\"><span style=\"color: #7f7f7f; text-decoration-color: #7f7f7f\">559</span></a>\n</pre>\n"
     },
     "metadata": {},
     "output_type": "display_data"
    },
    {
     "data": {
      "text/plain": "\u001B[2;36m          \u001B[0m\u001B[2;36m \u001B[0mMETRIC   Round \u001B[1;36m0\u001B[0m, collaborator three is sending metric for task aggregated_model_validation: acc \u001B[1;36m0.719600\u001B[0m                         \u001B]8;id=765363;file:///home/p/Desktop/Programs/Python/openfl/openfl/openfl/component/collaborator/collaborator.py\u001B\\\u001B[2mcollaborator.py\u001B[0m\u001B]8;;\u001B\\\u001B[2m:\u001B[0m\u001B]8;id=136968;file:///home/p/Desktop/Programs/Python/openfl/openfl/openfl/component/collaborator/collaborator.py#415\u001B\\\u001B[2m415\u001B[0m\u001B]8;;\u001B\\\n",
      "text/html": "<pre style=\"white-space:pre;overflow-x:auto;line-height:normal;font-family:Menlo,'DejaVu Sans Mono',consolas,'Courier New',monospace\"><span style=\"color: #7fbfbf; text-decoration-color: #7fbfbf\">           </span>METRIC   Round <span style=\"color: #008080; text-decoration-color: #008080; font-weight: bold\">0</span>, collaborator three is sending metric for task aggregated_model_validation: acc <span style=\"color: #008080; text-decoration-color: #008080; font-weight: bold\">0.719600</span>                         <a href=\"file:///home/p/Desktop/Programs/Python/openfl/openfl/openfl/component/collaborator/collaborator.py\" target=\"_blank\"><span style=\"color: #7f7f7f; text-decoration-color: #7f7f7f\">collaborator.py</span></a><span style=\"color: #7f7f7f; text-decoration-color: #7f7f7f\">:</span><a href=\"file:///home/p/Desktop/Programs/Python/openfl/openfl/openfl/component/collaborator/collaborator.py#415\" target=\"_blank\"><span style=\"color: #7f7f7f; text-decoration-color: #7f7f7f\">415</span></a>\n</pre>\n"
     },
     "metadata": {},
     "output_type": "display_data"
    },
    {
     "data": {
      "text/plain": "\u001B[2;36m          \u001B[0m\u001B[2;36m \u001B[0mMETRIC   Round \u001B[1;36m0\u001B[0m, collaborator validate_agg aggregated_model_validation result acc:      \u001B[1;36m0.719600\u001B[0m                                   \u001B]8;id=998862;file:///home/p/Desktop/Programs/Python/openfl/openfl/openfl/component/aggregator/aggregator.py\u001B\\\u001B[2maggregator.py\u001B[0m\u001B]8;;\u001B\\\u001B[2m:\u001B[0m\u001B]8;id=384282;file:///home/p/Desktop/Programs/Python/openfl/openfl/openfl/component/aggregator/aggregator.py#559\u001B\\\u001B[2m559\u001B[0m\u001B]8;;\u001B\\\n",
      "text/html": "<pre style=\"white-space:pre;overflow-x:auto;line-height:normal;font-family:Menlo,'DejaVu Sans Mono',consolas,'Courier New',monospace\"><span style=\"color: #7fbfbf; text-decoration-color: #7fbfbf\">           </span>METRIC   Round <span style=\"color: #008080; text-decoration-color: #008080; font-weight: bold\">0</span>, collaborator validate_agg aggregated_model_validation result acc:      <span style=\"color: #008080; text-decoration-color: #008080; font-weight: bold\">0.719600</span>                                   <a href=\"file:///home/p/Desktop/Programs/Python/openfl/openfl/openfl/component/aggregator/aggregator.py\" target=\"_blank\"><span style=\"color: #7f7f7f; text-decoration-color: #7f7f7f\">aggregator.py</span></a><span style=\"color: #7f7f7f; text-decoration-color: #7f7f7f\">:</span><a href=\"file:///home/p/Desktop/Programs/Python/openfl/openfl/openfl/component/aggregator/aggregator.py#559\" target=\"_blank\"><span style=\"color: #7f7f7f; text-decoration-color: #7f7f7f\">559</span></a>\n</pre>\n"
     },
     "metadata": {},
     "output_type": "display_data"
    },
    {
     "data": {
      "text/plain": "\u001B[2;36m[18:57:13]\u001B[0m\u001B[2;36m \u001B[0m\u001B[31mWARNING \u001B[0m tried to remove tensor: __opt_state_needed not present in the tensor dict                                                       \u001B]8;id=649822;file:///home/p/Desktop/Programs/Python/openfl/openfl/openfl/utilities/utils.py\u001B\\\u001B[2mutils.py\u001B[0m\u001B]8;;\u001B\\\u001B[2m:\u001B[0m\u001B]8;id=773971;file:///home/p/Desktop/Programs/Python/openfl/openfl/openfl/utilities/utils.py#172\u001B\\\u001B[2m172\u001B[0m\u001B]8;;\u001B\\\n",
      "text/html": "<pre style=\"white-space:pre;overflow-x:auto;line-height:normal;font-family:Menlo,'DejaVu Sans Mono',consolas,'Courier New',monospace\"><span style=\"color: #7fbfbf; text-decoration-color: #7fbfbf\">[18:57:13] </span><span style=\"color: #800000; text-decoration-color: #800000\">WARNING </span> tried to remove tensor: __opt_state_needed not present in the tensor dict                                                       <a href=\"file:///home/p/Desktop/Programs/Python/openfl/openfl/openfl/utilities/utils.py\" target=\"_blank\"><span style=\"color: #7f7f7f; text-decoration-color: #7f7f7f\">utils.py</span></a><span style=\"color: #7f7f7f; text-decoration-color: #7f7f7f\">:</span><a href=\"file:///home/p/Desktop/Programs/Python/openfl/openfl/openfl/utilities/utils.py#172\" target=\"_blank\"><span style=\"color: #7f7f7f; text-decoration-color: #7f7f7f\">172</span></a>\n</pre>\n"
     },
     "metadata": {},
     "output_type": "display_data"
    },
    {
     "data": {
      "text/plain": "\u001B[2;36m          \u001B[0m\u001B[2;36m \u001B[0mMETRIC   Round \u001B[1;36m0\u001B[0m, collaborator three is sending metric for task train: cross_entropy     \u001B[1;36m0.223493\u001B[0m                                 \u001B]8;id=601173;file:///home/p/Desktop/Programs/Python/openfl/openfl/openfl/component/collaborator/collaborator.py\u001B\\\u001B[2mcollaborator.py\u001B[0m\u001B]8;;\u001B\\\u001B[2m:\u001B[0m\u001B]8;id=452850;file:///home/p/Desktop/Programs/Python/openfl/openfl/openfl/component/collaborator/collaborator.py#415\u001B\\\u001B[2m415\u001B[0m\u001B]8;;\u001B\\\n",
      "text/html": "<pre style=\"white-space:pre;overflow-x:auto;line-height:normal;font-family:Menlo,'DejaVu Sans Mono',consolas,'Courier New',monospace\"><span style=\"color: #7fbfbf; text-decoration-color: #7fbfbf\">           </span>METRIC   Round <span style=\"color: #008080; text-decoration-color: #008080; font-weight: bold\">0</span>, collaborator three is sending metric for task train: cross_entropy     <span style=\"color: #008080; text-decoration-color: #008080; font-weight: bold\">0.223493</span>                                 <a href=\"file:///home/p/Desktop/Programs/Python/openfl/openfl/openfl/component/collaborator/collaborator.py\" target=\"_blank\"><span style=\"color: #7f7f7f; text-decoration-color: #7f7f7f\">collaborator.py</span></a><span style=\"color: #7f7f7f; text-decoration-color: #7f7f7f\">:</span><a href=\"file:///home/p/Desktop/Programs/Python/openfl/openfl/openfl/component/collaborator/collaborator.py#415\" target=\"_blank\"><span style=\"color: #7f7f7f; text-decoration-color: #7f7f7f\">415</span></a>\n</pre>\n"
     },
     "metadata": {},
     "output_type": "display_data"
    },
    {
     "data": {
      "text/plain": "\u001B[2;36m          \u001B[0m\u001B[2;36m \u001B[0mMETRIC   Round \u001B[1;36m0\u001B[0m, collaborator three train result cross_entropy: \u001B[1;36m0.223493\u001B[0m                                                           \u001B]8;id=751445;file:///home/p/Desktop/Programs/Python/openfl/openfl/openfl/component/aggregator/aggregator.py\u001B\\\u001B[2maggregator.py\u001B[0m\u001B]8;;\u001B\\\u001B[2m:\u001B[0m\u001B]8;id=618517;file:///home/p/Desktop/Programs/Python/openfl/openfl/openfl/component/aggregator/aggregator.py#559\u001B\\\u001B[2m559\u001B[0m\u001B]8;;\u001B\\\n",
      "text/html": "<pre style=\"white-space:pre;overflow-x:auto;line-height:normal;font-family:Menlo,'DejaVu Sans Mono',consolas,'Courier New',monospace\"><span style=\"color: #7fbfbf; text-decoration-color: #7fbfbf\">           </span>METRIC   Round <span style=\"color: #008080; text-decoration-color: #008080; font-weight: bold\">0</span>, collaborator three train result cross_entropy: <span style=\"color: #008080; text-decoration-color: #008080; font-weight: bold\">0.223493</span>                                                           <a href=\"file:///home/p/Desktop/Programs/Python/openfl/openfl/openfl/component/aggregator/aggregator.py\" target=\"_blank\"><span style=\"color: #7f7f7f; text-decoration-color: #7f7f7f\">aggregator.py</span></a><span style=\"color: #7f7f7f; text-decoration-color: #7f7f7f\">:</span><a href=\"file:///home/p/Desktop/Programs/Python/openfl/openfl/openfl/component/aggregator/aggregator.py#559\" target=\"_blank\"><span style=\"color: #7f7f7f; text-decoration-color: #7f7f7f\">559</span></a>\n</pre>\n"
     },
     "metadata": {},
     "output_type": "display_data"
    },
    {
     "data": {
      "text/plain": "\u001B[2;36m          \u001B[0m\u001B[2;36m \u001B[0mMETRIC   Round \u001B[1;36m0\u001B[0m, collaborator three is sending metric for task locally_tuned_model_validation: acc      \u001B[1;36m0.741200\u001B[0m                 \u001B]8;id=90931;file:///home/p/Desktop/Programs/Python/openfl/openfl/openfl/component/collaborator/collaborator.py\u001B\\\u001B[2mcollaborator.py\u001B[0m\u001B]8;;\u001B\\\u001B[2m:\u001B[0m\u001B]8;id=235422;file:///home/p/Desktop/Programs/Python/openfl/openfl/openfl/component/collaborator/collaborator.py#415\u001B\\\u001B[2m415\u001B[0m\u001B]8;;\u001B\\\n",
      "text/html": "<pre style=\"white-space:pre;overflow-x:auto;line-height:normal;font-family:Menlo,'DejaVu Sans Mono',consolas,'Courier New',monospace\"><span style=\"color: #7fbfbf; text-decoration-color: #7fbfbf\">           </span>METRIC   Round <span style=\"color: #008080; text-decoration-color: #008080; font-weight: bold\">0</span>, collaborator three is sending metric for task locally_tuned_model_validation: acc      <span style=\"color: #008080; text-decoration-color: #008080; font-weight: bold\">0.741200</span>                 <a href=\"file:///home/p/Desktop/Programs/Python/openfl/openfl/openfl/component/collaborator/collaborator.py\" target=\"_blank\"><span style=\"color: #7f7f7f; text-decoration-color: #7f7f7f\">collaborator.py</span></a><span style=\"color: #7f7f7f; text-decoration-color: #7f7f7f\">:</span><a href=\"file:///home/p/Desktop/Programs/Python/openfl/openfl/openfl/component/collaborator/collaborator.py#415\" target=\"_blank\"><span style=\"color: #7f7f7f; text-decoration-color: #7f7f7f\">415</span></a>\n</pre>\n"
     },
     "metadata": {},
     "output_type": "display_data"
    },
    {
     "data": {
      "text/plain": "\u001B[2;36m          \u001B[0m\u001B[2;36m \u001B[0mMETRIC   Round \u001B[1;36m0\u001B[0m, collaborator validate_local locally_tuned_model_validation result acc: \u001B[1;36m0.741200\u001B[0m                                   \u001B]8;id=884277;file:///home/p/Desktop/Programs/Python/openfl/openfl/openfl/component/aggregator/aggregator.py\u001B\\\u001B[2maggregator.py\u001B[0m\u001B]8;;\u001B\\\u001B[2m:\u001B[0m\u001B]8;id=447435;file:///home/p/Desktop/Programs/Python/openfl/openfl/openfl/component/aggregator/aggregator.py#559\u001B\\\u001B[2m559\u001B[0m\u001B]8;;\u001B\\\n",
      "text/html": "<pre style=\"white-space:pre;overflow-x:auto;line-height:normal;font-family:Menlo,'DejaVu Sans Mono',consolas,'Courier New',monospace\"><span style=\"color: #7fbfbf; text-decoration-color: #7fbfbf\">           </span>METRIC   Round <span style=\"color: #008080; text-decoration-color: #008080; font-weight: bold\">0</span>, collaborator validate_local locally_tuned_model_validation result acc: <span style=\"color: #008080; text-decoration-color: #008080; font-weight: bold\">0.741200</span>                                   <a href=\"file:///home/p/Desktop/Programs/Python/openfl/openfl/openfl/component/aggregator/aggregator.py\" target=\"_blank\"><span style=\"color: #7f7f7f; text-decoration-color: #7f7f7f\">aggregator.py</span></a><span style=\"color: #7f7f7f; text-decoration-color: #7f7f7f\">:</span><a href=\"file:///home/p/Desktop/Programs/Python/openfl/openfl/openfl/component/aggregator/aggregator.py#559\" target=\"_blank\"><span style=\"color: #7f7f7f; text-decoration-color: #7f7f7f\">559</span></a>\n</pre>\n"
     },
     "metadata": {},
     "output_type": "display_data"
    },
    {
     "data": {
      "text/plain": "\u001B[2;36m          \u001B[0m\u001B[2;36m \u001B[0mMETRIC   Round \u001B[1;36m0\u001B[0m, collaborator four is sending metric for task aggregated_model_validation: acc  \u001B[1;36m0.718000\u001B[0m                         \u001B]8;id=108355;file:///home/p/Desktop/Programs/Python/openfl/openfl/openfl/component/collaborator/collaborator.py\u001B\\\u001B[2mcollaborator.py\u001B[0m\u001B]8;;\u001B\\\u001B[2m:\u001B[0m\u001B]8;id=222888;file:///home/p/Desktop/Programs/Python/openfl/openfl/openfl/component/collaborator/collaborator.py#415\u001B\\\u001B[2m415\u001B[0m\u001B]8;;\u001B\\\n",
      "text/html": "<pre style=\"white-space:pre;overflow-x:auto;line-height:normal;font-family:Menlo,'DejaVu Sans Mono',consolas,'Courier New',monospace\"><span style=\"color: #7fbfbf; text-decoration-color: #7fbfbf\">           </span>METRIC   Round <span style=\"color: #008080; text-decoration-color: #008080; font-weight: bold\">0</span>, collaborator four is sending metric for task aggregated_model_validation: acc  <span style=\"color: #008080; text-decoration-color: #008080; font-weight: bold\">0.718000</span>                         <a href=\"file:///home/p/Desktop/Programs/Python/openfl/openfl/openfl/component/collaborator/collaborator.py\" target=\"_blank\"><span style=\"color: #7f7f7f; text-decoration-color: #7f7f7f\">collaborator.py</span></a><span style=\"color: #7f7f7f; text-decoration-color: #7f7f7f\">:</span><a href=\"file:///home/p/Desktop/Programs/Python/openfl/openfl/openfl/component/collaborator/collaborator.py#415\" target=\"_blank\"><span style=\"color: #7f7f7f; text-decoration-color: #7f7f7f\">415</span></a>\n</pre>\n"
     },
     "metadata": {},
     "output_type": "display_data"
    },
    {
     "data": {
      "text/plain": "\u001B[2;36m          \u001B[0m\u001B[2;36m \u001B[0mMETRIC   Round \u001B[1;36m0\u001B[0m, collaborator validate_agg aggregated_model_validation result acc:      \u001B[1;36m0.718000\u001B[0m                                   \u001B]8;id=293851;file:///home/p/Desktop/Programs/Python/openfl/openfl/openfl/component/aggregator/aggregator.py\u001B\\\u001B[2maggregator.py\u001B[0m\u001B]8;;\u001B\\\u001B[2m:\u001B[0m\u001B]8;id=945063;file:///home/p/Desktop/Programs/Python/openfl/openfl/openfl/component/aggregator/aggregator.py#559\u001B\\\u001B[2m559\u001B[0m\u001B]8;;\u001B\\\n",
      "text/html": "<pre style=\"white-space:pre;overflow-x:auto;line-height:normal;font-family:Menlo,'DejaVu Sans Mono',consolas,'Courier New',monospace\"><span style=\"color: #7fbfbf; text-decoration-color: #7fbfbf\">           </span>METRIC   Round <span style=\"color: #008080; text-decoration-color: #008080; font-weight: bold\">0</span>, collaborator validate_agg aggregated_model_validation result acc:      <span style=\"color: #008080; text-decoration-color: #008080; font-weight: bold\">0.718000</span>                                   <a href=\"file:///home/p/Desktop/Programs/Python/openfl/openfl/openfl/component/aggregator/aggregator.py\" target=\"_blank\"><span style=\"color: #7f7f7f; text-decoration-color: #7f7f7f\">aggregator.py</span></a><span style=\"color: #7f7f7f; text-decoration-color: #7f7f7f\">:</span><a href=\"file:///home/p/Desktop/Programs/Python/openfl/openfl/openfl/component/aggregator/aggregator.py#559\" target=\"_blank\"><span style=\"color: #7f7f7f; text-decoration-color: #7f7f7f\">559</span></a>\n</pre>\n"
     },
     "metadata": {},
     "output_type": "display_data"
    },
    {
     "data": {
      "text/plain": "\u001B[2;36m          \u001B[0m\u001B[2;36m \u001B[0m\u001B[31mWARNING \u001B[0m tried to remove tensor: __opt_state_needed not present in the tensor dict                                                       \u001B]8;id=230625;file:///home/p/Desktop/Programs/Python/openfl/openfl/openfl/utilities/utils.py\u001B\\\u001B[2mutils.py\u001B[0m\u001B]8;;\u001B\\\u001B[2m:\u001B[0m\u001B]8;id=542890;file:///home/p/Desktop/Programs/Python/openfl/openfl/openfl/utilities/utils.py#172\u001B\\\u001B[2m172\u001B[0m\u001B]8;;\u001B\\\n",
      "text/html": "<pre style=\"white-space:pre;overflow-x:auto;line-height:normal;font-family:Menlo,'DejaVu Sans Mono',consolas,'Courier New',monospace\"><span style=\"color: #7fbfbf; text-decoration-color: #7fbfbf\">           </span><span style=\"color: #800000; text-decoration-color: #800000\">WARNING </span> tried to remove tensor: __opt_state_needed not present in the tensor dict                                                       <a href=\"file:///home/p/Desktop/Programs/Python/openfl/openfl/openfl/utilities/utils.py\" target=\"_blank\"><span style=\"color: #7f7f7f; text-decoration-color: #7f7f7f\">utils.py</span></a><span style=\"color: #7f7f7f; text-decoration-color: #7f7f7f\">:</span><a href=\"file:///home/p/Desktop/Programs/Python/openfl/openfl/openfl/utilities/utils.py#172\" target=\"_blank\"><span style=\"color: #7f7f7f; text-decoration-color: #7f7f7f\">172</span></a>\n</pre>\n"
     },
     "metadata": {},
     "output_type": "display_data"
    },
    {
     "data": {
      "text/plain": "\u001B[2;36m          \u001B[0m\u001B[2;36m \u001B[0mMETRIC   Round \u001B[1;36m0\u001B[0m, collaborator four is sending metric for task train: cross_entropy      \u001B[1;36m0.221309\u001B[0m                                 \u001B]8;id=689603;file:///home/p/Desktop/Programs/Python/openfl/openfl/openfl/component/collaborator/collaborator.py\u001B\\\u001B[2mcollaborator.py\u001B[0m\u001B]8;;\u001B\\\u001B[2m:\u001B[0m\u001B]8;id=339909;file:///home/p/Desktop/Programs/Python/openfl/openfl/openfl/component/collaborator/collaborator.py#415\u001B\\\u001B[2m415\u001B[0m\u001B]8;;\u001B\\\n",
      "text/html": "<pre style=\"white-space:pre;overflow-x:auto;line-height:normal;font-family:Menlo,'DejaVu Sans Mono',consolas,'Courier New',monospace\"><span style=\"color: #7fbfbf; text-decoration-color: #7fbfbf\">           </span>METRIC   Round <span style=\"color: #008080; text-decoration-color: #008080; font-weight: bold\">0</span>, collaborator four is sending metric for task train: cross_entropy      <span style=\"color: #008080; text-decoration-color: #008080; font-weight: bold\">0.221309</span>                                 <a href=\"file:///home/p/Desktop/Programs/Python/openfl/openfl/openfl/component/collaborator/collaborator.py\" target=\"_blank\"><span style=\"color: #7f7f7f; text-decoration-color: #7f7f7f\">collaborator.py</span></a><span style=\"color: #7f7f7f; text-decoration-color: #7f7f7f\">:</span><a href=\"file:///home/p/Desktop/Programs/Python/openfl/openfl/openfl/component/collaborator/collaborator.py#415\" target=\"_blank\"><span style=\"color: #7f7f7f; text-decoration-color: #7f7f7f\">415</span></a>\n</pre>\n"
     },
     "metadata": {},
     "output_type": "display_data"
    },
    {
     "data": {
      "text/plain": "\u001B[2;36m          \u001B[0m\u001B[2;36m \u001B[0mMETRIC   Round \u001B[1;36m0\u001B[0m, collaborator metric train result cross_entropy:        \u001B[1;36m0.221309\u001B[0m                                                   \u001B]8;id=902512;file:///home/p/Desktop/Programs/Python/openfl/openfl/openfl/component/aggregator/aggregator.py\u001B\\\u001B[2maggregator.py\u001B[0m\u001B]8;;\u001B\\\u001B[2m:\u001B[0m\u001B]8;id=125922;file:///home/p/Desktop/Programs/Python/openfl/openfl/openfl/component/aggregator/aggregator.py#559\u001B\\\u001B[2m559\u001B[0m\u001B]8;;\u001B\\\n",
      "text/html": "<pre style=\"white-space:pre;overflow-x:auto;line-height:normal;font-family:Menlo,'DejaVu Sans Mono',consolas,'Courier New',monospace\"><span style=\"color: #7fbfbf; text-decoration-color: #7fbfbf\">           </span>METRIC   Round <span style=\"color: #008080; text-decoration-color: #008080; font-weight: bold\">0</span>, collaborator metric train result cross_entropy:        <span style=\"color: #008080; text-decoration-color: #008080; font-weight: bold\">0.221309</span>                                                   <a href=\"file:///home/p/Desktop/Programs/Python/openfl/openfl/openfl/component/aggregator/aggregator.py\" target=\"_blank\"><span style=\"color: #7f7f7f; text-decoration-color: #7f7f7f\">aggregator.py</span></a><span style=\"color: #7f7f7f; text-decoration-color: #7f7f7f\">:</span><a href=\"file:///home/p/Desktop/Programs/Python/openfl/openfl/openfl/component/aggregator/aggregator.py#559\" target=\"_blank\"><span style=\"color: #7f7f7f; text-decoration-color: #7f7f7f\">559</span></a>\n</pre>\n"
     },
     "metadata": {},
     "output_type": "display_data"
    },
    {
     "data": {
      "text/plain": "\u001B[2;36m          \u001B[0m\u001B[2;36m \u001B[0mMETRIC   Round \u001B[1;36m0\u001B[0m, collaborator four is sending metric for task locally_tuned_model_validation: acc       \u001B[1;36m0.736000\u001B[0m                 \u001B]8;id=928306;file:///home/p/Desktop/Programs/Python/openfl/openfl/openfl/component/collaborator/collaborator.py\u001B\\\u001B[2mcollaborator.py\u001B[0m\u001B]8;;\u001B\\\u001B[2m:\u001B[0m\u001B]8;id=537033;file:///home/p/Desktop/Programs/Python/openfl/openfl/openfl/component/collaborator/collaborator.py#415\u001B\\\u001B[2m415\u001B[0m\u001B]8;;\u001B\\\n",
      "text/html": "<pre style=\"white-space:pre;overflow-x:auto;line-height:normal;font-family:Menlo,'DejaVu Sans Mono',consolas,'Courier New',monospace\"><span style=\"color: #7fbfbf; text-decoration-color: #7fbfbf\">           </span>METRIC   Round <span style=\"color: #008080; text-decoration-color: #008080; font-weight: bold\">0</span>, collaborator four is sending metric for task locally_tuned_model_validation: acc       <span style=\"color: #008080; text-decoration-color: #008080; font-weight: bold\">0.736000</span>                 <a href=\"file:///home/p/Desktop/Programs/Python/openfl/openfl/openfl/component/collaborator/collaborator.py\" target=\"_blank\"><span style=\"color: #7f7f7f; text-decoration-color: #7f7f7f\">collaborator.py</span></a><span style=\"color: #7f7f7f; text-decoration-color: #7f7f7f\">:</span><a href=\"file:///home/p/Desktop/Programs/Python/openfl/openfl/openfl/component/collaborator/collaborator.py#415\" target=\"_blank\"><span style=\"color: #7f7f7f; text-decoration-color: #7f7f7f\">415</span></a>\n</pre>\n"
     },
     "metadata": {},
     "output_type": "display_data"
    },
    {
     "data": {
      "text/plain": "\u001B[2;36m          \u001B[0m\u001B[2;36m \u001B[0mMETRIC   Round \u001B[1;36m0\u001B[0m, collaborator validate_local locally_tuned_model_validation result acc: \u001B[1;36m0.736000\u001B[0m                                   \u001B]8;id=444345;file:///home/p/Desktop/Programs/Python/openfl/openfl/openfl/component/aggregator/aggregator.py\u001B\\\u001B[2maggregator.py\u001B[0m\u001B]8;;\u001B\\\u001B[2m:\u001B[0m\u001B]8;id=598374;file:///home/p/Desktop/Programs/Python/openfl/openfl/openfl/component/aggregator/aggregator.py#559\u001B\\\u001B[2m559\u001B[0m\u001B]8;;\u001B\\\n",
      "text/html": "<pre style=\"white-space:pre;overflow-x:auto;line-height:normal;font-family:Menlo,'DejaVu Sans Mono',consolas,'Courier New',monospace\"><span style=\"color: #7fbfbf; text-decoration-color: #7fbfbf\">           </span>METRIC   Round <span style=\"color: #008080; text-decoration-color: #008080; font-weight: bold\">0</span>, collaborator validate_local locally_tuned_model_validation result acc: <span style=\"color: #008080; text-decoration-color: #008080; font-weight: bold\">0.736000</span>                                   <a href=\"file:///home/p/Desktop/Programs/Python/openfl/openfl/openfl/component/aggregator/aggregator.py\" target=\"_blank\"><span style=\"color: #7f7f7f; text-decoration-color: #7f7f7f\">aggregator.py</span></a><span style=\"color: #7f7f7f; text-decoration-color: #7f7f7f\">:</span><a href=\"file:///home/p/Desktop/Programs/Python/openfl/openfl/openfl/component/aggregator/aggregator.py#559\" target=\"_blank\"><span style=\"color: #7f7f7f; text-decoration-color: #7f7f7f\">559</span></a>\n</pre>\n"
     },
     "metadata": {},
     "output_type": "display_data"
    },
    {
     "data": {
      "text/plain": "\u001B[2;36m          \u001B[0m\u001B[2;36m \u001B[0mMETRIC   Round \u001B[1;36m0\u001B[0m, aggregator: locally_tuned_model_validation                                                                        \u001B]8;id=252535;file:///home/p/Desktop/Programs/Python/openfl/openfl/openfl/component/aggregator/aggregator.py\u001B\\\u001B[2maggregator.py\u001B[0m\u001B]8;;\u001B\\\u001B[2m:\u001B[0m\u001B]8;id=970893;file:///home/p/Desktop/Programs/Python/openfl/openfl/openfl/component/aggregator/aggregator.py#842\u001B\\\u001B[2m842\u001B[0m\u001B]8;;\u001B\\\n\u001B[2;36m           \u001B[0m         \u001B[1m<\u001B[0m\u001B[1;95mopenfl.interface.aggregation_functions.weighted_average.WeightedAverage\u001B[0m\u001B[39m object at \u001B[0m\u001B[1;36m0x7f2dc10bf580\u001B[0m\u001B[1m>\u001B[0m acc:     \u001B[1;36m0.743200\u001B[0m       \u001B[2m                 \u001B[0m\n",
      "text/html": "<pre style=\"white-space:pre;overflow-x:auto;line-height:normal;font-family:Menlo,'DejaVu Sans Mono',consolas,'Courier New',monospace\"><span style=\"color: #7fbfbf; text-decoration-color: #7fbfbf\">           </span>METRIC   Round <span style=\"color: #008080; text-decoration-color: #008080; font-weight: bold\">0</span>, aggregator: locally_tuned_model_validation                                                                        <a href=\"file:///home/p/Desktop/Programs/Python/openfl/openfl/openfl/component/aggregator/aggregator.py\" target=\"_blank\"><span style=\"color: #7f7f7f; text-decoration-color: #7f7f7f\">aggregator.py</span></a><span style=\"color: #7f7f7f; text-decoration-color: #7f7f7f\">:</span><a href=\"file:///home/p/Desktop/Programs/Python/openfl/openfl/openfl/component/aggregator/aggregator.py#842\" target=\"_blank\"><span style=\"color: #7f7f7f; text-decoration-color: #7f7f7f\">842</span></a>\n<span style=\"color: #7fbfbf; text-decoration-color: #7fbfbf\">           </span>         <span style=\"font-weight: bold\">&lt;</span><span style=\"color: #ff00ff; text-decoration-color: #ff00ff; font-weight: bold\">openfl.interface.aggregation_functions.weighted_average.WeightedAverage</span><span style=\"color: #000000; text-decoration-color: #000000\"> object at </span><span style=\"color: #008080; text-decoration-color: #008080; font-weight: bold\">0x7f2dc10bf580</span><span style=\"font-weight: bold\">&gt;</span> acc:     <span style=\"color: #008080; text-decoration-color: #008080; font-weight: bold\">0.743200</span>       <span style=\"color: #7f7f7f; text-decoration-color: #7f7f7f\">                 </span>\n</pre>\n"
     },
     "metadata": {},
     "output_type": "display_data"
    },
    {
     "data": {
      "text/plain": "\u001B[2;36m[18:57:14]\u001B[0m\u001B[2;36m \u001B[0mMETRIC   Round \u001B[1;36m0\u001B[0m, aggregator: train \u001B[1m<\u001B[0m\u001B[1;95mopenfl.interface.aggregation_functions.weighted_average.WeightedAverage\u001B[0m\u001B[39m object at \u001B[0m             \u001B]8;id=314913;file:///home/p/Desktop/Programs/Python/openfl/openfl/openfl/component/aggregator/aggregator.py\u001B\\\u001B[2maggregator.py\u001B[0m\u001B]8;;\u001B\\\u001B[2m:\u001B[0m\u001B]8;id=765268;file:///home/p/Desktop/Programs/Python/openfl/openfl/openfl/component/aggregator/aggregator.py#842\u001B\\\u001B[2m842\u001B[0m\u001B]8;;\u001B\\\n\u001B[2;36m           \u001B[0m         \u001B[1;36m0x7f2dc10bf580\u001B[0m\u001B[1m>\u001B[0m cross_entropy:    \u001B[1;36m0.223159\u001B[0m                                                                                 \u001B[2m                 \u001B[0m\n",
      "text/html": "<pre style=\"white-space:pre;overflow-x:auto;line-height:normal;font-family:Menlo,'DejaVu Sans Mono',consolas,'Courier New',monospace\"><span style=\"color: #7fbfbf; text-decoration-color: #7fbfbf\">[18:57:14] </span>METRIC   Round <span style=\"color: #008080; text-decoration-color: #008080; font-weight: bold\">0</span>, aggregator: train <span style=\"font-weight: bold\">&lt;</span><span style=\"color: #ff00ff; text-decoration-color: #ff00ff; font-weight: bold\">openfl.interface.aggregation_functions.weighted_average.WeightedAverage</span><span style=\"color: #000000; text-decoration-color: #000000\"> object at </span>             <a href=\"file:///home/p/Desktop/Programs/Python/openfl/openfl/openfl/component/aggregator/aggregator.py\" target=\"_blank\"><span style=\"color: #7f7f7f; text-decoration-color: #7f7f7f\">aggregator.py</span></a><span style=\"color: #7f7f7f; text-decoration-color: #7f7f7f\">:</span><a href=\"file:///home/p/Desktop/Programs/Python/openfl/openfl/openfl/component/aggregator/aggregator.py#842\" target=\"_blank\"><span style=\"color: #7f7f7f; text-decoration-color: #7f7f7f\">842</span></a>\n<span style=\"color: #7fbfbf; text-decoration-color: #7fbfbf\">           </span>         <span style=\"color: #008080; text-decoration-color: #008080; font-weight: bold\">0x7f2dc10bf580</span><span style=\"font-weight: bold\">&gt;</span> cross_entropy:    <span style=\"color: #008080; text-decoration-color: #008080; font-weight: bold\">0.223159</span>                                                                                 <span style=\"color: #7f7f7f; text-decoration-color: #7f7f7f\">                 </span>\n</pre>\n"
     },
     "metadata": {},
     "output_type": "display_data"
    },
    {
     "data": {
      "text/plain": "\u001B[2;36m          \u001B[0m\u001B[2;36m \u001B[0mMETRIC   Round \u001B[1;36m0\u001B[0m, aggregator: aggregated_model_validation \u001B[1m<\u001B[0m\u001B[1;95mopenfl.interface.aggregation_functions.weighted_average.WeightedAverage\u001B[0m\u001B[39m \u001B[0m \u001B]8;id=762407;file:///home/p/Desktop/Programs/Python/openfl/openfl/openfl/component/aggregator/aggregator.py\u001B\\\u001B[2maggregator.py\u001B[0m\u001B]8;;\u001B\\\u001B[2m:\u001B[0m\u001B]8;id=709532;file:///home/p/Desktop/Programs/Python/openfl/openfl/openfl/component/aggregator/aggregator.py#842\u001B\\\u001B[2m842\u001B[0m\u001B]8;;\u001B\\\n\u001B[2;36m           \u001B[0m         \u001B[39mobject at \u001B[0m\u001B[1;36m0x7f2dc10bf580\u001B[0m\u001B[1m>\u001B[0m acc:        \u001B[1;36m0.726500\u001B[0m                                                                             \u001B[2m                 \u001B[0m\n",
      "text/html": "<pre style=\"white-space:pre;overflow-x:auto;line-height:normal;font-family:Menlo,'DejaVu Sans Mono',consolas,'Courier New',monospace\"><span style=\"color: #7fbfbf; text-decoration-color: #7fbfbf\">           </span>METRIC   Round <span style=\"color: #008080; text-decoration-color: #008080; font-weight: bold\">0</span>, aggregator: aggregated_model_validation <span style=\"font-weight: bold\">&lt;</span><span style=\"color: #ff00ff; text-decoration-color: #ff00ff; font-weight: bold\">openfl.interface.aggregation_functions.weighted_average.WeightedAverage</span><span style=\"color: #000000; text-decoration-color: #000000\"> </span> <a href=\"file:///home/p/Desktop/Programs/Python/openfl/openfl/openfl/component/aggregator/aggregator.py\" target=\"_blank\"><span style=\"color: #7f7f7f; text-decoration-color: #7f7f7f\">aggregator.py</span></a><span style=\"color: #7f7f7f; text-decoration-color: #7f7f7f\">:</span><a href=\"file:///home/p/Desktop/Programs/Python/openfl/openfl/openfl/component/aggregator/aggregator.py#842\" target=\"_blank\"><span style=\"color: #7f7f7f; text-decoration-color: #7f7f7f\">842</span></a>\n<span style=\"color: #7fbfbf; text-decoration-color: #7fbfbf\">           </span>         <span style=\"color: #000000; text-decoration-color: #000000\">object at </span><span style=\"color: #008080; text-decoration-color: #008080; font-weight: bold\">0x7f2dc10bf580</span><span style=\"font-weight: bold\">&gt;</span> acc:        <span style=\"color: #008080; text-decoration-color: #008080; font-weight: bold\">0.726500</span>                                                                             <span style=\"color: #7f7f7f; text-decoration-color: #7f7f7f\">                 </span>\n</pre>\n"
     },
     "metadata": {},
     "output_type": "display_data"
    },
    {
     "data": {
      "text/plain": "\u001B[2;36m          \u001B[0m\u001B[2;36m \u001B[0mMETRIC   Round \u001B[1;36m0\u001B[0m: saved the best model with score \u001B[1;36m0.726500\u001B[0m                                                                          \u001B]8;id=601902;file:///home/p/Desktop/Programs/Python/openfl/openfl/openfl/component/aggregator/aggregator.py\u001B\\\u001B[2maggregator.py\u001B[0m\u001B]8;;\u001B\\\u001B[2m:\u001B[0m\u001B]8;id=706952;file:///home/p/Desktop/Programs/Python/openfl/openfl/openfl/component/aggregator/aggregator.py#858\u001B\\\u001B[2m858\u001B[0m\u001B]8;;\u001B\\\n",
      "text/html": "<pre style=\"white-space:pre;overflow-x:auto;line-height:normal;font-family:Menlo,'DejaVu Sans Mono',consolas,'Courier New',monospace\"><span style=\"color: #7fbfbf; text-decoration-color: #7fbfbf\">           </span>METRIC   Round <span style=\"color: #008080; text-decoration-color: #008080; font-weight: bold\">0</span>: saved the best model with score <span style=\"color: #008080; text-decoration-color: #008080; font-weight: bold\">0.726500</span>                                                                          <a href=\"file:///home/p/Desktop/Programs/Python/openfl/openfl/openfl/component/aggregator/aggregator.py\" target=\"_blank\"><span style=\"color: #7f7f7f; text-decoration-color: #7f7f7f\">aggregator.py</span></a><span style=\"color: #7f7f7f; text-decoration-color: #7f7f7f\">:</span><a href=\"file:///home/p/Desktop/Programs/Python/openfl/openfl/openfl/component/aggregator/aggregator.py#858\" target=\"_blank\"><span style=\"color: #7f7f7f; text-decoration-color: #7f7f7f\">858</span></a>\n</pre>\n"
     },
     "metadata": {},
     "output_type": "display_data"
    },
    {
     "data": {
      "text/plain": "\u001B[2;36m          \u001B[0m\u001B[2;36m \u001B[0m\u001B[31mWARNING \u001B[0m tried to remove tensor: __opt_state_needed not present in the tensor dict                                                       \u001B]8;id=798386;file:///home/p/Desktop/Programs/Python/openfl/openfl/openfl/utilities/utils.py\u001B\\\u001B[2mutils.py\u001B[0m\u001B]8;;\u001B\\\u001B[2m:\u001B[0m\u001B]8;id=790822;file:///home/p/Desktop/Programs/Python/openfl/openfl/openfl/utilities/utils.py#172\u001B\\\u001B[2m172\u001B[0m\u001B]8;;\u001B\\\n",
      "text/html": "<pre style=\"white-space:pre;overflow-x:auto;line-height:normal;font-family:Menlo,'DejaVu Sans Mono',consolas,'Courier New',monospace\"><span style=\"color: #7fbfbf; text-decoration-color: #7fbfbf\">           </span><span style=\"color: #800000; text-decoration-color: #800000\">WARNING </span> tried to remove tensor: __opt_state_needed not present in the tensor dict                                                       <a href=\"file:///home/p/Desktop/Programs/Python/openfl/openfl/openfl/utilities/utils.py\" target=\"_blank\"><span style=\"color: #7f7f7f; text-decoration-color: #7f7f7f\">utils.py</span></a><span style=\"color: #7f7f7f; text-decoration-color: #7f7f7f\">:</span><a href=\"file:///home/p/Desktop/Programs/Python/openfl/openfl/openfl/utilities/utils.py#172\" target=\"_blank\"><span style=\"color: #7f7f7f; text-decoration-color: #7f7f7f\">172</span></a>\n</pre>\n"
     },
     "metadata": {},
     "output_type": "display_data"
    },
    {
     "data": {
      "text/plain": "\u001B[2;36m          \u001B[0m\u001B[2;36m \u001B[0m\u001B[31mWARNING \u001B[0m tried to remove tensor: __opt_state_needed not present in the tensor dict                                                       \u001B]8;id=358346;file:///home/p/Desktop/Programs/Python/openfl/openfl/openfl/utilities/utils.py\u001B\\\u001B[2mutils.py\u001B[0m\u001B]8;;\u001B\\\u001B[2m:\u001B[0m\u001B]8;id=656169;file:///home/p/Desktop/Programs/Python/openfl/openfl/openfl/utilities/utils.py#172\u001B\\\u001B[2m172\u001B[0m\u001B]8;;\u001B\\\n",
      "text/html": "<pre style=\"white-space:pre;overflow-x:auto;line-height:normal;font-family:Menlo,'DejaVu Sans Mono',consolas,'Courier New',monospace\"><span style=\"color: #7fbfbf; text-decoration-color: #7fbfbf\">           </span><span style=\"color: #800000; text-decoration-color: #800000\">WARNING </span> tried to remove tensor: __opt_state_needed not present in the tensor dict                                                       <a href=\"file:///home/p/Desktop/Programs/Python/openfl/openfl/openfl/utilities/utils.py\" target=\"_blank\"><span style=\"color: #7f7f7f; text-decoration-color: #7f7f7f\">utils.py</span></a><span style=\"color: #7f7f7f; text-decoration-color: #7f7f7f\">:</span><a href=\"file:///home/p/Desktop/Programs/Python/openfl/openfl/openfl/utilities/utils.py#172\" target=\"_blank\"><span style=\"color: #7f7f7f; text-decoration-color: #7f7f7f\">172</span></a>\n</pre>\n"
     },
     "metadata": {},
     "output_type": "display_data"
    },
    {
     "data": {
      "text/plain": "\u001B[2;36m          \u001B[0m\u001B[2;36m \u001B[0m\u001B[31mWARNING \u001B[0m tried to remove tensor: __opt_state_needed not present in the tensor dict                                                       \u001B]8;id=216862;file:///home/p/Desktop/Programs/Python/openfl/openfl/openfl/utilities/utils.py\u001B\\\u001B[2mutils.py\u001B[0m\u001B]8;;\u001B\\\u001B[2m:\u001B[0m\u001B]8;id=83782;file:///home/p/Desktop/Programs/Python/openfl/openfl/openfl/utilities/utils.py#172\u001B\\\u001B[2m172\u001B[0m\u001B]8;;\u001B\\\n",
      "text/html": "<pre style=\"white-space:pre;overflow-x:auto;line-height:normal;font-family:Menlo,'DejaVu Sans Mono',consolas,'Courier New',monospace\"><span style=\"color: #7fbfbf; text-decoration-color: #7fbfbf\">           </span><span style=\"color: #800000; text-decoration-color: #800000\">WARNING </span> tried to remove tensor: __opt_state_needed not present in the tensor dict                                                       <a href=\"file:///home/p/Desktop/Programs/Python/openfl/openfl/openfl/utilities/utils.py\" target=\"_blank\"><span style=\"color: #7f7f7f; text-decoration-color: #7f7f7f\">utils.py</span></a><span style=\"color: #7f7f7f; text-decoration-color: #7f7f7f\">:</span><a href=\"file:///home/p/Desktop/Programs/Python/openfl/openfl/openfl/utilities/utils.py#172\" target=\"_blank\"><span style=\"color: #7f7f7f; text-decoration-color: #7f7f7f\">172</span></a>\n</pre>\n"
     },
     "metadata": {},
     "output_type": "display_data"
    },
    {
     "data": {
      "text/plain": "\u001B[2;36m          \u001B[0m\u001B[2;36m \u001B[0m\u001B[31mWARNING \u001B[0m tried to remove tensor: __opt_state_needed not present in the tensor dict                                                       \u001B]8;id=540314;file:///home/p/Desktop/Programs/Python/openfl/openfl/openfl/utilities/utils.py\u001B\\\u001B[2mutils.py\u001B[0m\u001B]8;;\u001B\\\u001B[2m:\u001B[0m\u001B]8;id=948740;file:///home/p/Desktop/Programs/Python/openfl/openfl/openfl/utilities/utils.py#172\u001B\\\u001B[2m172\u001B[0m\u001B]8;;\u001B\\\n",
      "text/html": "<pre style=\"white-space:pre;overflow-x:auto;line-height:normal;font-family:Menlo,'DejaVu Sans Mono',consolas,'Courier New',monospace\"><span style=\"color: #7fbfbf; text-decoration-color: #7fbfbf\">           </span><span style=\"color: #800000; text-decoration-color: #800000\">WARNING </span> tried to remove tensor: __opt_state_needed not present in the tensor dict                                                       <a href=\"file:///home/p/Desktop/Programs/Python/openfl/openfl/openfl/utilities/utils.py\" target=\"_blank\"><span style=\"color: #7f7f7f; text-decoration-color: #7f7f7f\">utils.py</span></a><span style=\"color: #7f7f7f; text-decoration-color: #7f7f7f\">:</span><a href=\"file:///home/p/Desktop/Programs/Python/openfl/openfl/openfl/utilities/utils.py#172\" target=\"_blank\"><span style=\"color: #7f7f7f; text-decoration-color: #7f7f7f\">172</span></a>\n</pre>\n"
     },
     "metadata": {},
     "output_type": "display_data"
    },
    {
     "data": {
      "text/plain": "\u001B[2;36m          \u001B[0m\u001B[2;36m \u001B[0m\u001B[31mWARNING \u001B[0m tried to remove tensor: __opt_state_needed not present in the tensor dict                                                       \u001B]8;id=696314;file:///home/p/Desktop/Programs/Python/openfl/openfl/openfl/utilities/utils.py\u001B\\\u001B[2mutils.py\u001B[0m\u001B]8;;\u001B\\\u001B[2m:\u001B[0m\u001B]8;id=844813;file:///home/p/Desktop/Programs/Python/openfl/openfl/openfl/utilities/utils.py#172\u001B\\\u001B[2m172\u001B[0m\u001B]8;;\u001B\\\n",
      "text/html": "<pre style=\"white-space:pre;overflow-x:auto;line-height:normal;font-family:Menlo,'DejaVu Sans Mono',consolas,'Courier New',monospace\"><span style=\"color: #7fbfbf; text-decoration-color: #7fbfbf\">           </span><span style=\"color: #800000; text-decoration-color: #800000\">WARNING </span> tried to remove tensor: __opt_state_needed not present in the tensor dict                                                       <a href=\"file:///home/p/Desktop/Programs/Python/openfl/openfl/openfl/utilities/utils.py\" target=\"_blank\"><span style=\"color: #7f7f7f; text-decoration-color: #7f7f7f\">utils.py</span></a><span style=\"color: #7f7f7f; text-decoration-color: #7f7f7f\">:</span><a href=\"file:///home/p/Desktop/Programs/Python/openfl/openfl/openfl/utilities/utils.py#172\" target=\"_blank\"><span style=\"color: #7f7f7f; text-decoration-color: #7f7f7f\">172</span></a>\n</pre>\n"
     },
     "metadata": {},
     "output_type": "display_data"
    },
    {
     "data": {
      "text/plain": "\u001B[2;36m          \u001B[0m\u001B[2;36m \u001B[0mMETRIC   Round \u001B[1;36m0\u001B[0m, collaborator one is sending metric for task aggregated_model_validation: acc   \u001B[1;36m0.741600\u001B[0m                         \u001B]8;id=913800;file:///home/p/Desktop/Programs/Python/openfl/openfl/openfl/component/collaborator/collaborator.py\u001B\\\u001B[2mcollaborator.py\u001B[0m\u001B]8;;\u001B\\\u001B[2m:\u001B[0m\u001B]8;id=644973;file:///home/p/Desktop/Programs/Python/openfl/openfl/openfl/component/collaborator/collaborator.py#415\u001B\\\u001B[2m415\u001B[0m\u001B]8;;\u001B\\\n",
      "text/html": "<pre style=\"white-space:pre;overflow-x:auto;line-height:normal;font-family:Menlo,'DejaVu Sans Mono',consolas,'Courier New',monospace\"><span style=\"color: #7fbfbf; text-decoration-color: #7fbfbf\">           </span>METRIC   Round <span style=\"color: #008080; text-decoration-color: #008080; font-weight: bold\">0</span>, collaborator one is sending metric for task aggregated_model_validation: acc   <span style=\"color: #008080; text-decoration-color: #008080; font-weight: bold\">0.741600</span>                         <a href=\"file:///home/p/Desktop/Programs/Python/openfl/openfl/openfl/component/collaborator/collaborator.py\" target=\"_blank\"><span style=\"color: #7f7f7f; text-decoration-color: #7f7f7f\">collaborator.py</span></a><span style=\"color: #7f7f7f; text-decoration-color: #7f7f7f\">:</span><a href=\"file:///home/p/Desktop/Programs/Python/openfl/openfl/openfl/component/collaborator/collaborator.py#415\" target=\"_blank\"><span style=\"color: #7f7f7f; text-decoration-color: #7f7f7f\">415</span></a>\n</pre>\n"
     },
     "metadata": {},
     "output_type": "display_data"
    },
    {
     "data": {
      "text/plain": "\u001B[2;36m          \u001B[0m\u001B[2;36m \u001B[0mMETRIC   Round \u001B[1;36m0\u001B[0m, collaborator validate_agg aggregated_model_validation result acc:      \u001B[1;36m0.741600\u001B[0m                                   \u001B]8;id=876080;file:///home/p/Desktop/Programs/Python/openfl/openfl/openfl/component/aggregator/aggregator.py\u001B\\\u001B[2maggregator.py\u001B[0m\u001B]8;;\u001B\\\u001B[2m:\u001B[0m\u001B]8;id=292349;file:///home/p/Desktop/Programs/Python/openfl/openfl/openfl/component/aggregator/aggregator.py#559\u001B\\\u001B[2m559\u001B[0m\u001B]8;;\u001B\\\n",
      "text/html": "<pre style=\"white-space:pre;overflow-x:auto;line-height:normal;font-family:Menlo,'DejaVu Sans Mono',consolas,'Courier New',monospace\"><span style=\"color: #7fbfbf; text-decoration-color: #7fbfbf\">           </span>METRIC   Round <span style=\"color: #008080; text-decoration-color: #008080; font-weight: bold\">0</span>, collaborator validate_agg aggregated_model_validation result acc:      <span style=\"color: #008080; text-decoration-color: #008080; font-weight: bold\">0.741600</span>                                   <a href=\"file:///home/p/Desktop/Programs/Python/openfl/openfl/openfl/component/aggregator/aggregator.py\" target=\"_blank\"><span style=\"color: #7f7f7f; text-decoration-color: #7f7f7f\">aggregator.py</span></a><span style=\"color: #7f7f7f; text-decoration-color: #7f7f7f\">:</span><a href=\"file:///home/p/Desktop/Programs/Python/openfl/openfl/openfl/component/aggregator/aggregator.py#559\" target=\"_blank\"><span style=\"color: #7f7f7f; text-decoration-color: #7f7f7f\">559</span></a>\n</pre>\n"
     },
     "metadata": {},
     "output_type": "display_data"
    },
    {
     "data": {
      "text/plain": "\u001B[2;36m[18:57:15]\u001B[0m\u001B[2;36m \u001B[0m\u001B[31mWARNING \u001B[0m tried to remove tensor: __opt_state_needed not present in the tensor dict                                                       \u001B]8;id=23907;file:///home/p/Desktop/Programs/Python/openfl/openfl/openfl/utilities/utils.py\u001B\\\u001B[2mutils.py\u001B[0m\u001B]8;;\u001B\\\u001B[2m:\u001B[0m\u001B]8;id=286120;file:///home/p/Desktop/Programs/Python/openfl/openfl/openfl/utilities/utils.py#172\u001B\\\u001B[2m172\u001B[0m\u001B]8;;\u001B\\\n",
      "text/html": "<pre style=\"white-space:pre;overflow-x:auto;line-height:normal;font-family:Menlo,'DejaVu Sans Mono',consolas,'Courier New',monospace\"><span style=\"color: #7fbfbf; text-decoration-color: #7fbfbf\">[18:57:15] </span><span style=\"color: #800000; text-decoration-color: #800000\">WARNING </span> tried to remove tensor: __opt_state_needed not present in the tensor dict                                                       <a href=\"file:///home/p/Desktop/Programs/Python/openfl/openfl/openfl/utilities/utils.py\" target=\"_blank\"><span style=\"color: #7f7f7f; text-decoration-color: #7f7f7f\">utils.py</span></a><span style=\"color: #7f7f7f; text-decoration-color: #7f7f7f\">:</span><a href=\"file:///home/p/Desktop/Programs/Python/openfl/openfl/openfl/utilities/utils.py#172\" target=\"_blank\"><span style=\"color: #7f7f7f; text-decoration-color: #7f7f7f\">172</span></a>\n</pre>\n"
     },
     "metadata": {},
     "output_type": "display_data"
    },
    {
     "data": {
      "text/plain": "\u001B[2;36m          \u001B[0m\u001B[2;36m \u001B[0mMETRIC   Round \u001B[1;36m0\u001B[0m, collaborator one is sending metric for task train: cross_entropy       \u001B[1;36m0.212868\u001B[0m                                 \u001B]8;id=378370;file:///home/p/Desktop/Programs/Python/openfl/openfl/openfl/component/collaborator/collaborator.py\u001B\\\u001B[2mcollaborator.py\u001B[0m\u001B]8;;\u001B\\\u001B[2m:\u001B[0m\u001B]8;id=597177;file:///home/p/Desktop/Programs/Python/openfl/openfl/openfl/component/collaborator/collaborator.py#415\u001B\\\u001B[2m415\u001B[0m\u001B]8;;\u001B\\\n",
      "text/html": "<pre style=\"white-space:pre;overflow-x:auto;line-height:normal;font-family:Menlo,'DejaVu Sans Mono',consolas,'Courier New',monospace\"><span style=\"color: #7fbfbf; text-decoration-color: #7fbfbf\">           </span>METRIC   Round <span style=\"color: #008080; text-decoration-color: #008080; font-weight: bold\">0</span>, collaborator one is sending metric for task train: cross_entropy       <span style=\"color: #008080; text-decoration-color: #008080; font-weight: bold\">0.212868</span>                                 <a href=\"file:///home/p/Desktop/Programs/Python/openfl/openfl/openfl/component/collaborator/collaborator.py\" target=\"_blank\"><span style=\"color: #7f7f7f; text-decoration-color: #7f7f7f\">collaborator.py</span></a><span style=\"color: #7f7f7f; text-decoration-color: #7f7f7f\">:</span><a href=\"file:///home/p/Desktop/Programs/Python/openfl/openfl/openfl/component/collaborator/collaborator.py#415\" target=\"_blank\"><span style=\"color: #7f7f7f; text-decoration-color: #7f7f7f\">415</span></a>\n</pre>\n"
     },
     "metadata": {},
     "output_type": "display_data"
    },
    {
     "data": {
      "text/plain": "\u001B[2;36m          \u001B[0m\u001B[2;36m \u001B[0mMETRIC   Round \u001B[1;36m0\u001B[0m, collaborator one train result cross_entropy:   \u001B[1;36m0.212868\u001B[0m                                                           \u001B]8;id=727956;file:///home/p/Desktop/Programs/Python/openfl/openfl/openfl/component/aggregator/aggregator.py\u001B\\\u001B[2maggregator.py\u001B[0m\u001B]8;;\u001B\\\u001B[2m:\u001B[0m\u001B]8;id=532800;file:///home/p/Desktop/Programs/Python/openfl/openfl/openfl/component/aggregator/aggregator.py#559\u001B\\\u001B[2m559\u001B[0m\u001B]8;;\u001B\\\n",
      "text/html": "<pre style=\"white-space:pre;overflow-x:auto;line-height:normal;font-family:Menlo,'DejaVu Sans Mono',consolas,'Courier New',monospace\"><span style=\"color: #7fbfbf; text-decoration-color: #7fbfbf\">           </span>METRIC   Round <span style=\"color: #008080; text-decoration-color: #008080; font-weight: bold\">0</span>, collaborator one train result cross_entropy:   <span style=\"color: #008080; text-decoration-color: #008080; font-weight: bold\">0.212868</span>                                                           <a href=\"file:///home/p/Desktop/Programs/Python/openfl/openfl/openfl/component/aggregator/aggregator.py\" target=\"_blank\"><span style=\"color: #7f7f7f; text-decoration-color: #7f7f7f\">aggregator.py</span></a><span style=\"color: #7f7f7f; text-decoration-color: #7f7f7f\">:</span><a href=\"file:///home/p/Desktop/Programs/Python/openfl/openfl/openfl/component/aggregator/aggregator.py#559\" target=\"_blank\"><span style=\"color: #7f7f7f; text-decoration-color: #7f7f7f\">559</span></a>\n</pre>\n"
     },
     "metadata": {},
     "output_type": "display_data"
    },
    {
     "data": {
      "text/plain": "\u001B[2;36m          \u001B[0m\u001B[2;36m \u001B[0mMETRIC   Round \u001B[1;36m0\u001B[0m, collaborator one is sending metric for task locally_tuned_model_validation: acc        \u001B[1;36m0.751200\u001B[0m                 \u001B]8;id=842105;file:///home/p/Desktop/Programs/Python/openfl/openfl/openfl/component/collaborator/collaborator.py\u001B\\\u001B[2mcollaborator.py\u001B[0m\u001B]8;;\u001B\\\u001B[2m:\u001B[0m\u001B]8;id=31538;file:///home/p/Desktop/Programs/Python/openfl/openfl/openfl/component/collaborator/collaborator.py#415\u001B\\\u001B[2m415\u001B[0m\u001B]8;;\u001B\\\n",
      "text/html": "<pre style=\"white-space:pre;overflow-x:auto;line-height:normal;font-family:Menlo,'DejaVu Sans Mono',consolas,'Courier New',monospace\"><span style=\"color: #7fbfbf; text-decoration-color: #7fbfbf\">           </span>METRIC   Round <span style=\"color: #008080; text-decoration-color: #008080; font-weight: bold\">0</span>, collaborator one is sending metric for task locally_tuned_model_validation: acc        <span style=\"color: #008080; text-decoration-color: #008080; font-weight: bold\">0.751200</span>                 <a href=\"file:///home/p/Desktop/Programs/Python/openfl/openfl/openfl/component/collaborator/collaborator.py\" target=\"_blank\"><span style=\"color: #7f7f7f; text-decoration-color: #7f7f7f\">collaborator.py</span></a><span style=\"color: #7f7f7f; text-decoration-color: #7f7f7f\">:</span><a href=\"file:///home/p/Desktop/Programs/Python/openfl/openfl/openfl/component/collaborator/collaborator.py#415\" target=\"_blank\"><span style=\"color: #7f7f7f; text-decoration-color: #7f7f7f\">415</span></a>\n</pre>\n"
     },
     "metadata": {},
     "output_type": "display_data"
    },
    {
     "data": {
      "text/plain": "\u001B[2;36m          \u001B[0m\u001B[2;36m \u001B[0mMETRIC   Round \u001B[1;36m0\u001B[0m, collaborator validate_local locally_tuned_model_validation result acc: \u001B[1;36m0.751200\u001B[0m                                   \u001B]8;id=478962;file:///home/p/Desktop/Programs/Python/openfl/openfl/openfl/component/aggregator/aggregator.py\u001B\\\u001B[2maggregator.py\u001B[0m\u001B]8;;\u001B\\\u001B[2m:\u001B[0m\u001B]8;id=516786;file:///home/p/Desktop/Programs/Python/openfl/openfl/openfl/component/aggregator/aggregator.py#559\u001B\\\u001B[2m559\u001B[0m\u001B]8;;\u001B\\\n",
      "text/html": "<pre style=\"white-space:pre;overflow-x:auto;line-height:normal;font-family:Menlo,'DejaVu Sans Mono',consolas,'Courier New',monospace\"><span style=\"color: #7fbfbf; text-decoration-color: #7fbfbf\">           </span>METRIC   Round <span style=\"color: #008080; text-decoration-color: #008080; font-weight: bold\">0</span>, collaborator validate_local locally_tuned_model_validation result acc: <span style=\"color: #008080; text-decoration-color: #008080; font-weight: bold\">0.751200</span>                                   <a href=\"file:///home/p/Desktop/Programs/Python/openfl/openfl/openfl/component/aggregator/aggregator.py\" target=\"_blank\"><span style=\"color: #7f7f7f; text-decoration-color: #7f7f7f\">aggregator.py</span></a><span style=\"color: #7f7f7f; text-decoration-color: #7f7f7f\">:</span><a href=\"file:///home/p/Desktop/Programs/Python/openfl/openfl/openfl/component/aggregator/aggregator.py#559\" target=\"_blank\"><span style=\"color: #7f7f7f; text-decoration-color: #7f7f7f\">559</span></a>\n</pre>\n"
     },
     "metadata": {},
     "output_type": "display_data"
    },
    {
     "data": {
      "text/plain": "\u001B[2;36m          \u001B[0m\u001B[2;36m \u001B[0mMETRIC   Round \u001B[1;36m0\u001B[0m, collaborator two is sending metric for task aggregated_model_validation: acc   \u001B[1;36m0.754000\u001B[0m                         \u001B]8;id=454883;file:///home/p/Desktop/Programs/Python/openfl/openfl/openfl/component/collaborator/collaborator.py\u001B\\\u001B[2mcollaborator.py\u001B[0m\u001B]8;;\u001B\\\u001B[2m:\u001B[0m\u001B]8;id=547715;file:///home/p/Desktop/Programs/Python/openfl/openfl/openfl/component/collaborator/collaborator.py#415\u001B\\\u001B[2m415\u001B[0m\u001B]8;;\u001B\\\n",
      "text/html": "<pre style=\"white-space:pre;overflow-x:auto;line-height:normal;font-family:Menlo,'DejaVu Sans Mono',consolas,'Courier New',monospace\"><span style=\"color: #7fbfbf; text-decoration-color: #7fbfbf\">           </span>METRIC   Round <span style=\"color: #008080; text-decoration-color: #008080; font-weight: bold\">0</span>, collaborator two is sending metric for task aggregated_model_validation: acc   <span style=\"color: #008080; text-decoration-color: #008080; font-weight: bold\">0.754000</span>                         <a href=\"file:///home/p/Desktop/Programs/Python/openfl/openfl/openfl/component/collaborator/collaborator.py\" target=\"_blank\"><span style=\"color: #7f7f7f; text-decoration-color: #7f7f7f\">collaborator.py</span></a><span style=\"color: #7f7f7f; text-decoration-color: #7f7f7f\">:</span><a href=\"file:///home/p/Desktop/Programs/Python/openfl/openfl/openfl/component/collaborator/collaborator.py#415\" target=\"_blank\"><span style=\"color: #7f7f7f; text-decoration-color: #7f7f7f\">415</span></a>\n</pre>\n"
     },
     "metadata": {},
     "output_type": "display_data"
    },
    {
     "data": {
      "text/plain": "\u001B[2;36m          \u001B[0m\u001B[2;36m \u001B[0mMETRIC   Round \u001B[1;36m0\u001B[0m, collaborator validate_agg aggregated_model_validation result acc:      \u001B[1;36m0.754000\u001B[0m                                   \u001B]8;id=158677;file:///home/p/Desktop/Programs/Python/openfl/openfl/openfl/component/aggregator/aggregator.py\u001B\\\u001B[2maggregator.py\u001B[0m\u001B]8;;\u001B\\\u001B[2m:\u001B[0m\u001B]8;id=32251;file:///home/p/Desktop/Programs/Python/openfl/openfl/openfl/component/aggregator/aggregator.py#559\u001B\\\u001B[2m559\u001B[0m\u001B]8;;\u001B\\\n",
      "text/html": "<pre style=\"white-space:pre;overflow-x:auto;line-height:normal;font-family:Menlo,'DejaVu Sans Mono',consolas,'Courier New',monospace\"><span style=\"color: #7fbfbf; text-decoration-color: #7fbfbf\">           </span>METRIC   Round <span style=\"color: #008080; text-decoration-color: #008080; font-weight: bold\">0</span>, collaborator validate_agg aggregated_model_validation result acc:      <span style=\"color: #008080; text-decoration-color: #008080; font-weight: bold\">0.754000</span>                                   <a href=\"file:///home/p/Desktop/Programs/Python/openfl/openfl/openfl/component/aggregator/aggregator.py\" target=\"_blank\"><span style=\"color: #7f7f7f; text-decoration-color: #7f7f7f\">aggregator.py</span></a><span style=\"color: #7f7f7f; text-decoration-color: #7f7f7f\">:</span><a href=\"file:///home/p/Desktop/Programs/Python/openfl/openfl/openfl/component/aggregator/aggregator.py#559\" target=\"_blank\"><span style=\"color: #7f7f7f; text-decoration-color: #7f7f7f\">559</span></a>\n</pre>\n"
     },
     "metadata": {},
     "output_type": "display_data"
    },
    {
     "data": {
      "text/plain": "\u001B[2;36m[18:57:16]\u001B[0m\u001B[2;36m \u001B[0m\u001B[31mWARNING \u001B[0m tried to remove tensor: __opt_state_needed not present in the tensor dict                                                       \u001B]8;id=656410;file:///home/p/Desktop/Programs/Python/openfl/openfl/openfl/utilities/utils.py\u001B\\\u001B[2mutils.py\u001B[0m\u001B]8;;\u001B\\\u001B[2m:\u001B[0m\u001B]8;id=392930;file:///home/p/Desktop/Programs/Python/openfl/openfl/openfl/utilities/utils.py#172\u001B\\\u001B[2m172\u001B[0m\u001B]8;;\u001B\\\n",
      "text/html": "<pre style=\"white-space:pre;overflow-x:auto;line-height:normal;font-family:Menlo,'DejaVu Sans Mono',consolas,'Courier New',monospace\"><span style=\"color: #7fbfbf; text-decoration-color: #7fbfbf\">[18:57:16] </span><span style=\"color: #800000; text-decoration-color: #800000\">WARNING </span> tried to remove tensor: __opt_state_needed not present in the tensor dict                                                       <a href=\"file:///home/p/Desktop/Programs/Python/openfl/openfl/openfl/utilities/utils.py\" target=\"_blank\"><span style=\"color: #7f7f7f; text-decoration-color: #7f7f7f\">utils.py</span></a><span style=\"color: #7f7f7f; text-decoration-color: #7f7f7f\">:</span><a href=\"file:///home/p/Desktop/Programs/Python/openfl/openfl/openfl/utilities/utils.py#172\" target=\"_blank\"><span style=\"color: #7f7f7f; text-decoration-color: #7f7f7f\">172</span></a>\n</pre>\n"
     },
     "metadata": {},
     "output_type": "display_data"
    },
    {
     "data": {
      "text/plain": "\u001B[2;36m          \u001B[0m\u001B[2;36m \u001B[0mMETRIC   Round \u001B[1;36m0\u001B[0m, collaborator two is sending metric for task train: cross_entropy       \u001B[1;36m0.213952\u001B[0m                                 \u001B]8;id=973466;file:///home/p/Desktop/Programs/Python/openfl/openfl/openfl/component/collaborator/collaborator.py\u001B\\\u001B[2mcollaborator.py\u001B[0m\u001B]8;;\u001B\\\u001B[2m:\u001B[0m\u001B]8;id=428694;file:///home/p/Desktop/Programs/Python/openfl/openfl/openfl/component/collaborator/collaborator.py#415\u001B\\\u001B[2m415\u001B[0m\u001B]8;;\u001B\\\n",
      "text/html": "<pre style=\"white-space:pre;overflow-x:auto;line-height:normal;font-family:Menlo,'DejaVu Sans Mono',consolas,'Courier New',monospace\"><span style=\"color: #7fbfbf; text-decoration-color: #7fbfbf\">           </span>METRIC   Round <span style=\"color: #008080; text-decoration-color: #008080; font-weight: bold\">0</span>, collaborator two is sending metric for task train: cross_entropy       <span style=\"color: #008080; text-decoration-color: #008080; font-weight: bold\">0.213952</span>                                 <a href=\"file:///home/p/Desktop/Programs/Python/openfl/openfl/openfl/component/collaborator/collaborator.py\" target=\"_blank\"><span style=\"color: #7f7f7f; text-decoration-color: #7f7f7f\">collaborator.py</span></a><span style=\"color: #7f7f7f; text-decoration-color: #7f7f7f\">:</span><a href=\"file:///home/p/Desktop/Programs/Python/openfl/openfl/openfl/component/collaborator/collaborator.py#415\" target=\"_blank\"><span style=\"color: #7f7f7f; text-decoration-color: #7f7f7f\">415</span></a>\n</pre>\n"
     },
     "metadata": {},
     "output_type": "display_data"
    },
    {
     "data": {
      "text/plain": "\u001B[2;36m          \u001B[0m\u001B[2;36m \u001B[0mMETRIC   Round \u001B[1;36m0\u001B[0m, collaborator two train result cross_entropy:   \u001B[1;36m0.213952\u001B[0m                                                           \u001B]8;id=865933;file:///home/p/Desktop/Programs/Python/openfl/openfl/openfl/component/aggregator/aggregator.py\u001B\\\u001B[2maggregator.py\u001B[0m\u001B]8;;\u001B\\\u001B[2m:\u001B[0m\u001B]8;id=382068;file:///home/p/Desktop/Programs/Python/openfl/openfl/openfl/component/aggregator/aggregator.py#559\u001B\\\u001B[2m559\u001B[0m\u001B]8;;\u001B\\\n",
      "text/html": "<pre style=\"white-space:pre;overflow-x:auto;line-height:normal;font-family:Menlo,'DejaVu Sans Mono',consolas,'Courier New',monospace\"><span style=\"color: #7fbfbf; text-decoration-color: #7fbfbf\">           </span>METRIC   Round <span style=\"color: #008080; text-decoration-color: #008080; font-weight: bold\">0</span>, collaborator two train result cross_entropy:   <span style=\"color: #008080; text-decoration-color: #008080; font-weight: bold\">0.213952</span>                                                           <a href=\"file:///home/p/Desktop/Programs/Python/openfl/openfl/openfl/component/aggregator/aggregator.py\" target=\"_blank\"><span style=\"color: #7f7f7f; text-decoration-color: #7f7f7f\">aggregator.py</span></a><span style=\"color: #7f7f7f; text-decoration-color: #7f7f7f\">:</span><a href=\"file:///home/p/Desktop/Programs/Python/openfl/openfl/openfl/component/aggregator/aggregator.py#559\" target=\"_blank\"><span style=\"color: #7f7f7f; text-decoration-color: #7f7f7f\">559</span></a>\n</pre>\n"
     },
     "metadata": {},
     "output_type": "display_data"
    },
    {
     "data": {
      "text/plain": "\u001B[2;36m          \u001B[0m\u001B[2;36m \u001B[0mMETRIC   Round \u001B[1;36m0\u001B[0m, collaborator two is sending metric for task locally_tuned_model_validation: acc        \u001B[1;36m0.766400\u001B[0m                 \u001B]8;id=681291;file:///home/p/Desktop/Programs/Python/openfl/openfl/openfl/component/collaborator/collaborator.py\u001B\\\u001B[2mcollaborator.py\u001B[0m\u001B]8;;\u001B\\\u001B[2m:\u001B[0m\u001B]8;id=865842;file:///home/p/Desktop/Programs/Python/openfl/openfl/openfl/component/collaborator/collaborator.py#415\u001B\\\u001B[2m415\u001B[0m\u001B]8;;\u001B\\\n",
      "text/html": "<pre style=\"white-space:pre;overflow-x:auto;line-height:normal;font-family:Menlo,'DejaVu Sans Mono',consolas,'Courier New',monospace\"><span style=\"color: #7fbfbf; text-decoration-color: #7fbfbf\">           </span>METRIC   Round <span style=\"color: #008080; text-decoration-color: #008080; font-weight: bold\">0</span>, collaborator two is sending metric for task locally_tuned_model_validation: acc        <span style=\"color: #008080; text-decoration-color: #008080; font-weight: bold\">0.766400</span>                 <a href=\"file:///home/p/Desktop/Programs/Python/openfl/openfl/openfl/component/collaborator/collaborator.py\" target=\"_blank\"><span style=\"color: #7f7f7f; text-decoration-color: #7f7f7f\">collaborator.py</span></a><span style=\"color: #7f7f7f; text-decoration-color: #7f7f7f\">:</span><a href=\"file:///home/p/Desktop/Programs/Python/openfl/openfl/openfl/component/collaborator/collaborator.py#415\" target=\"_blank\"><span style=\"color: #7f7f7f; text-decoration-color: #7f7f7f\">415</span></a>\n</pre>\n"
     },
     "metadata": {},
     "output_type": "display_data"
    },
    {
     "data": {
      "text/plain": "\u001B[2;36m          \u001B[0m\u001B[2;36m \u001B[0mMETRIC   Round \u001B[1;36m0\u001B[0m, collaborator validate_local locally_tuned_model_validation result acc: \u001B[1;36m0.766400\u001B[0m                                   \u001B]8;id=634243;file:///home/p/Desktop/Programs/Python/openfl/openfl/openfl/component/aggregator/aggregator.py\u001B\\\u001B[2maggregator.py\u001B[0m\u001B]8;;\u001B\\\u001B[2m:\u001B[0m\u001B]8;id=12375;file:///home/p/Desktop/Programs/Python/openfl/openfl/openfl/component/aggregator/aggregator.py#559\u001B\\\u001B[2m559\u001B[0m\u001B]8;;\u001B\\\n",
      "text/html": "<pre style=\"white-space:pre;overflow-x:auto;line-height:normal;font-family:Menlo,'DejaVu Sans Mono',consolas,'Courier New',monospace\"><span style=\"color: #7fbfbf; text-decoration-color: #7fbfbf\">           </span>METRIC   Round <span style=\"color: #008080; text-decoration-color: #008080; font-weight: bold\">0</span>, collaborator validate_local locally_tuned_model_validation result acc: <span style=\"color: #008080; text-decoration-color: #008080; font-weight: bold\">0.766400</span>                                   <a href=\"file:///home/p/Desktop/Programs/Python/openfl/openfl/openfl/component/aggregator/aggregator.py\" target=\"_blank\"><span style=\"color: #7f7f7f; text-decoration-color: #7f7f7f\">aggregator.py</span></a><span style=\"color: #7f7f7f; text-decoration-color: #7f7f7f\">:</span><a href=\"file:///home/p/Desktop/Programs/Python/openfl/openfl/openfl/component/aggregator/aggregator.py#559\" target=\"_blank\"><span style=\"color: #7f7f7f; text-decoration-color: #7f7f7f\">559</span></a>\n</pre>\n"
     },
     "metadata": {},
     "output_type": "display_data"
    },
    {
     "data": {
      "text/plain": "\u001B[2;36m          \u001B[0m\u001B[2;36m \u001B[0mMETRIC   Round \u001B[1;36m0\u001B[0m, collaborator three is sending metric for task aggregated_model_validation: acc \u001B[1;36m0.738400\u001B[0m                         \u001B]8;id=273630;file:///home/p/Desktop/Programs/Python/openfl/openfl/openfl/component/collaborator/collaborator.py\u001B\\\u001B[2mcollaborator.py\u001B[0m\u001B]8;;\u001B\\\u001B[2m:\u001B[0m\u001B]8;id=551941;file:///home/p/Desktop/Programs/Python/openfl/openfl/openfl/component/collaborator/collaborator.py#415\u001B\\\u001B[2m415\u001B[0m\u001B]8;;\u001B\\\n",
      "text/html": "<pre style=\"white-space:pre;overflow-x:auto;line-height:normal;font-family:Menlo,'DejaVu Sans Mono',consolas,'Courier New',monospace\"><span style=\"color: #7fbfbf; text-decoration-color: #7fbfbf\">           </span>METRIC   Round <span style=\"color: #008080; text-decoration-color: #008080; font-weight: bold\">0</span>, collaborator three is sending metric for task aggregated_model_validation: acc <span style=\"color: #008080; text-decoration-color: #008080; font-weight: bold\">0.738400</span>                         <a href=\"file:///home/p/Desktop/Programs/Python/openfl/openfl/openfl/component/collaborator/collaborator.py\" target=\"_blank\"><span style=\"color: #7f7f7f; text-decoration-color: #7f7f7f\">collaborator.py</span></a><span style=\"color: #7f7f7f; text-decoration-color: #7f7f7f\">:</span><a href=\"file:///home/p/Desktop/Programs/Python/openfl/openfl/openfl/component/collaborator/collaborator.py#415\" target=\"_blank\"><span style=\"color: #7f7f7f; text-decoration-color: #7f7f7f\">415</span></a>\n</pre>\n"
     },
     "metadata": {},
     "output_type": "display_data"
    },
    {
     "data": {
      "text/plain": "\u001B[2;36m          \u001B[0m\u001B[2;36m \u001B[0mMETRIC   Round \u001B[1;36m0\u001B[0m, collaborator validate_agg aggregated_model_validation result acc:      \u001B[1;36m0.738400\u001B[0m                                   \u001B]8;id=294085;file:///home/p/Desktop/Programs/Python/openfl/openfl/openfl/component/aggregator/aggregator.py\u001B\\\u001B[2maggregator.py\u001B[0m\u001B]8;;\u001B\\\u001B[2m:\u001B[0m\u001B]8;id=165461;file:///home/p/Desktop/Programs/Python/openfl/openfl/openfl/component/aggregator/aggregator.py#559\u001B\\\u001B[2m559\u001B[0m\u001B]8;;\u001B\\\n",
      "text/html": "<pre style=\"white-space:pre;overflow-x:auto;line-height:normal;font-family:Menlo,'DejaVu Sans Mono',consolas,'Courier New',monospace\"><span style=\"color: #7fbfbf; text-decoration-color: #7fbfbf\">           </span>METRIC   Round <span style=\"color: #008080; text-decoration-color: #008080; font-weight: bold\">0</span>, collaborator validate_agg aggregated_model_validation result acc:      <span style=\"color: #008080; text-decoration-color: #008080; font-weight: bold\">0.738400</span>                                   <a href=\"file:///home/p/Desktop/Programs/Python/openfl/openfl/openfl/component/aggregator/aggregator.py\" target=\"_blank\"><span style=\"color: #7f7f7f; text-decoration-color: #7f7f7f\">aggregator.py</span></a><span style=\"color: #7f7f7f; text-decoration-color: #7f7f7f\">:</span><a href=\"file:///home/p/Desktop/Programs/Python/openfl/openfl/openfl/component/aggregator/aggregator.py#559\" target=\"_blank\"><span style=\"color: #7f7f7f; text-decoration-color: #7f7f7f\">559</span></a>\n</pre>\n"
     },
     "metadata": {},
     "output_type": "display_data"
    },
    {
     "data": {
      "text/plain": "\u001B[2;36m[18:57:17]\u001B[0m\u001B[2;36m \u001B[0m\u001B[31mWARNING \u001B[0m tried to remove tensor: __opt_state_needed not present in the tensor dict                                                       \u001B]8;id=551262;file:///home/p/Desktop/Programs/Python/openfl/openfl/openfl/utilities/utils.py\u001B\\\u001B[2mutils.py\u001B[0m\u001B]8;;\u001B\\\u001B[2m:\u001B[0m\u001B]8;id=607606;file:///home/p/Desktop/Programs/Python/openfl/openfl/openfl/utilities/utils.py#172\u001B\\\u001B[2m172\u001B[0m\u001B]8;;\u001B\\\n",
      "text/html": "<pre style=\"white-space:pre;overflow-x:auto;line-height:normal;font-family:Menlo,'DejaVu Sans Mono',consolas,'Courier New',monospace\"><span style=\"color: #7fbfbf; text-decoration-color: #7fbfbf\">[18:57:17] </span><span style=\"color: #800000; text-decoration-color: #800000\">WARNING </span> tried to remove tensor: __opt_state_needed not present in the tensor dict                                                       <a href=\"file:///home/p/Desktop/Programs/Python/openfl/openfl/openfl/utilities/utils.py\" target=\"_blank\"><span style=\"color: #7f7f7f; text-decoration-color: #7f7f7f\">utils.py</span></a><span style=\"color: #7f7f7f; text-decoration-color: #7f7f7f\">:</span><a href=\"file:///home/p/Desktop/Programs/Python/openfl/openfl/openfl/utilities/utils.py#172\" target=\"_blank\"><span style=\"color: #7f7f7f; text-decoration-color: #7f7f7f\">172</span></a>\n</pre>\n"
     },
     "metadata": {},
     "output_type": "display_data"
    },
    {
     "data": {
      "text/plain": "\u001B[2;36m          \u001B[0m\u001B[2;36m \u001B[0mMETRIC   Round \u001B[1;36m0\u001B[0m, collaborator three is sending metric for task train: cross_entropy     \u001B[1;36m0.214871\u001B[0m                                 \u001B]8;id=22720;file:///home/p/Desktop/Programs/Python/openfl/openfl/openfl/component/collaborator/collaborator.py\u001B\\\u001B[2mcollaborator.py\u001B[0m\u001B]8;;\u001B\\\u001B[2m:\u001B[0m\u001B]8;id=81736;file:///home/p/Desktop/Programs/Python/openfl/openfl/openfl/component/collaborator/collaborator.py#415\u001B\\\u001B[2m415\u001B[0m\u001B]8;;\u001B\\\n",
      "text/html": "<pre style=\"white-space:pre;overflow-x:auto;line-height:normal;font-family:Menlo,'DejaVu Sans Mono',consolas,'Courier New',monospace\"><span style=\"color: #7fbfbf; text-decoration-color: #7fbfbf\">           </span>METRIC   Round <span style=\"color: #008080; text-decoration-color: #008080; font-weight: bold\">0</span>, collaborator three is sending metric for task train: cross_entropy     <span style=\"color: #008080; text-decoration-color: #008080; font-weight: bold\">0.214871</span>                                 <a href=\"file:///home/p/Desktop/Programs/Python/openfl/openfl/openfl/component/collaborator/collaborator.py\" target=\"_blank\"><span style=\"color: #7f7f7f; text-decoration-color: #7f7f7f\">collaborator.py</span></a><span style=\"color: #7f7f7f; text-decoration-color: #7f7f7f\">:</span><a href=\"file:///home/p/Desktop/Programs/Python/openfl/openfl/openfl/component/collaborator/collaborator.py#415\" target=\"_blank\"><span style=\"color: #7f7f7f; text-decoration-color: #7f7f7f\">415</span></a>\n</pre>\n"
     },
     "metadata": {},
     "output_type": "display_data"
    },
    {
     "data": {
      "text/plain": "\u001B[2;36m          \u001B[0m\u001B[2;36m \u001B[0mMETRIC   Round \u001B[1;36m0\u001B[0m, collaborator three train result cross_entropy: \u001B[1;36m0.214871\u001B[0m                                                           \u001B]8;id=609337;file:///home/p/Desktop/Programs/Python/openfl/openfl/openfl/component/aggregator/aggregator.py\u001B\\\u001B[2maggregator.py\u001B[0m\u001B]8;;\u001B\\\u001B[2m:\u001B[0m\u001B]8;id=618825;file:///home/p/Desktop/Programs/Python/openfl/openfl/openfl/component/aggregator/aggregator.py#559\u001B\\\u001B[2m559\u001B[0m\u001B]8;;\u001B\\\n",
      "text/html": "<pre style=\"white-space:pre;overflow-x:auto;line-height:normal;font-family:Menlo,'DejaVu Sans Mono',consolas,'Courier New',monospace\"><span style=\"color: #7fbfbf; text-decoration-color: #7fbfbf\">           </span>METRIC   Round <span style=\"color: #008080; text-decoration-color: #008080; font-weight: bold\">0</span>, collaborator three train result cross_entropy: <span style=\"color: #008080; text-decoration-color: #008080; font-weight: bold\">0.214871</span>                                                           <a href=\"file:///home/p/Desktop/Programs/Python/openfl/openfl/openfl/component/aggregator/aggregator.py\" target=\"_blank\"><span style=\"color: #7f7f7f; text-decoration-color: #7f7f7f\">aggregator.py</span></a><span style=\"color: #7f7f7f; text-decoration-color: #7f7f7f\">:</span><a href=\"file:///home/p/Desktop/Programs/Python/openfl/openfl/openfl/component/aggregator/aggregator.py#559\" target=\"_blank\"><span style=\"color: #7f7f7f; text-decoration-color: #7f7f7f\">559</span></a>\n</pre>\n"
     },
     "metadata": {},
     "output_type": "display_data"
    },
    {
     "data": {
      "text/plain": "\u001B[2;36m          \u001B[0m\u001B[2;36m \u001B[0mMETRIC   Round \u001B[1;36m0\u001B[0m, collaborator three is sending metric for task locally_tuned_model_validation: acc      \u001B[1;36m0.755200\u001B[0m                 \u001B]8;id=869942;file:///home/p/Desktop/Programs/Python/openfl/openfl/openfl/component/collaborator/collaborator.py\u001B\\\u001B[2mcollaborator.py\u001B[0m\u001B]8;;\u001B\\\u001B[2m:\u001B[0m\u001B]8;id=532915;file:///home/p/Desktop/Programs/Python/openfl/openfl/openfl/component/collaborator/collaborator.py#415\u001B\\\u001B[2m415\u001B[0m\u001B]8;;\u001B\\\n",
      "text/html": "<pre style=\"white-space:pre;overflow-x:auto;line-height:normal;font-family:Menlo,'DejaVu Sans Mono',consolas,'Courier New',monospace\"><span style=\"color: #7fbfbf; text-decoration-color: #7fbfbf\">           </span>METRIC   Round <span style=\"color: #008080; text-decoration-color: #008080; font-weight: bold\">0</span>, collaborator three is sending metric for task locally_tuned_model_validation: acc      <span style=\"color: #008080; text-decoration-color: #008080; font-weight: bold\">0.755200</span>                 <a href=\"file:///home/p/Desktop/Programs/Python/openfl/openfl/openfl/component/collaborator/collaborator.py\" target=\"_blank\"><span style=\"color: #7f7f7f; text-decoration-color: #7f7f7f\">collaborator.py</span></a><span style=\"color: #7f7f7f; text-decoration-color: #7f7f7f\">:</span><a href=\"file:///home/p/Desktop/Programs/Python/openfl/openfl/openfl/component/collaborator/collaborator.py#415\" target=\"_blank\"><span style=\"color: #7f7f7f; text-decoration-color: #7f7f7f\">415</span></a>\n</pre>\n"
     },
     "metadata": {},
     "output_type": "display_data"
    },
    {
     "data": {
      "text/plain": "\u001B[2;36m          \u001B[0m\u001B[2;36m \u001B[0mMETRIC   Round \u001B[1;36m0\u001B[0m, collaborator validate_local locally_tuned_model_validation result acc: \u001B[1;36m0.755200\u001B[0m                                   \u001B]8;id=552991;file:///home/p/Desktop/Programs/Python/openfl/openfl/openfl/component/aggregator/aggregator.py\u001B\\\u001B[2maggregator.py\u001B[0m\u001B]8;;\u001B\\\u001B[2m:\u001B[0m\u001B]8;id=487101;file:///home/p/Desktop/Programs/Python/openfl/openfl/openfl/component/aggregator/aggregator.py#559\u001B\\\u001B[2m559\u001B[0m\u001B]8;;\u001B\\\n",
      "text/html": "<pre style=\"white-space:pre;overflow-x:auto;line-height:normal;font-family:Menlo,'DejaVu Sans Mono',consolas,'Courier New',monospace\"><span style=\"color: #7fbfbf; text-decoration-color: #7fbfbf\">           </span>METRIC   Round <span style=\"color: #008080; text-decoration-color: #008080; font-weight: bold\">0</span>, collaborator validate_local locally_tuned_model_validation result acc: <span style=\"color: #008080; text-decoration-color: #008080; font-weight: bold\">0.755200</span>                                   <a href=\"file:///home/p/Desktop/Programs/Python/openfl/openfl/openfl/component/aggregator/aggregator.py\" target=\"_blank\"><span style=\"color: #7f7f7f; text-decoration-color: #7f7f7f\">aggregator.py</span></a><span style=\"color: #7f7f7f; text-decoration-color: #7f7f7f\">:</span><a href=\"file:///home/p/Desktop/Programs/Python/openfl/openfl/openfl/component/aggregator/aggregator.py#559\" target=\"_blank\"><span style=\"color: #7f7f7f; text-decoration-color: #7f7f7f\">559</span></a>\n</pre>\n"
     },
     "metadata": {},
     "output_type": "display_data"
    },
    {
     "data": {
      "text/plain": "\u001B[2;36m          \u001B[0m\u001B[2;36m \u001B[0mMETRIC   Round \u001B[1;36m0\u001B[0m, collaborator four is sending metric for task aggregated_model_validation: acc  \u001B[1;36m0.737200\u001B[0m                         \u001B]8;id=76723;file:///home/p/Desktop/Programs/Python/openfl/openfl/openfl/component/collaborator/collaborator.py\u001B\\\u001B[2mcollaborator.py\u001B[0m\u001B]8;;\u001B\\\u001B[2m:\u001B[0m\u001B]8;id=526127;file:///home/p/Desktop/Programs/Python/openfl/openfl/openfl/component/collaborator/collaborator.py#415\u001B\\\u001B[2m415\u001B[0m\u001B]8;;\u001B\\\n",
      "text/html": "<pre style=\"white-space:pre;overflow-x:auto;line-height:normal;font-family:Menlo,'DejaVu Sans Mono',consolas,'Courier New',monospace\"><span style=\"color: #7fbfbf; text-decoration-color: #7fbfbf\">           </span>METRIC   Round <span style=\"color: #008080; text-decoration-color: #008080; font-weight: bold\">0</span>, collaborator four is sending metric for task aggregated_model_validation: acc  <span style=\"color: #008080; text-decoration-color: #008080; font-weight: bold\">0.737200</span>                         <a href=\"file:///home/p/Desktop/Programs/Python/openfl/openfl/openfl/component/collaborator/collaborator.py\" target=\"_blank\"><span style=\"color: #7f7f7f; text-decoration-color: #7f7f7f\">collaborator.py</span></a><span style=\"color: #7f7f7f; text-decoration-color: #7f7f7f\">:</span><a href=\"file:///home/p/Desktop/Programs/Python/openfl/openfl/openfl/component/collaborator/collaborator.py#415\" target=\"_blank\"><span style=\"color: #7f7f7f; text-decoration-color: #7f7f7f\">415</span></a>\n</pre>\n"
     },
     "metadata": {},
     "output_type": "display_data"
    },
    {
     "data": {
      "text/plain": "\u001B[2;36m          \u001B[0m\u001B[2;36m \u001B[0mMETRIC   Round \u001B[1;36m0\u001B[0m, collaborator validate_agg aggregated_model_validation result acc:      \u001B[1;36m0.737200\u001B[0m                                   \u001B]8;id=593563;file:///home/p/Desktop/Programs/Python/openfl/openfl/openfl/component/aggregator/aggregator.py\u001B\\\u001B[2maggregator.py\u001B[0m\u001B]8;;\u001B\\\u001B[2m:\u001B[0m\u001B]8;id=176219;file:///home/p/Desktop/Programs/Python/openfl/openfl/openfl/component/aggregator/aggregator.py#559\u001B\\\u001B[2m559\u001B[0m\u001B]8;;\u001B\\\n",
      "text/html": "<pre style=\"white-space:pre;overflow-x:auto;line-height:normal;font-family:Menlo,'DejaVu Sans Mono',consolas,'Courier New',monospace\"><span style=\"color: #7fbfbf; text-decoration-color: #7fbfbf\">           </span>METRIC   Round <span style=\"color: #008080; text-decoration-color: #008080; font-weight: bold\">0</span>, collaborator validate_agg aggregated_model_validation result acc:      <span style=\"color: #008080; text-decoration-color: #008080; font-weight: bold\">0.737200</span>                                   <a href=\"file:///home/p/Desktop/Programs/Python/openfl/openfl/openfl/component/aggregator/aggregator.py\" target=\"_blank\"><span style=\"color: #7f7f7f; text-decoration-color: #7f7f7f\">aggregator.py</span></a><span style=\"color: #7f7f7f; text-decoration-color: #7f7f7f\">:</span><a href=\"file:///home/p/Desktop/Programs/Python/openfl/openfl/openfl/component/aggregator/aggregator.py#559\" target=\"_blank\"><span style=\"color: #7f7f7f; text-decoration-color: #7f7f7f\">559</span></a>\n</pre>\n"
     },
     "metadata": {},
     "output_type": "display_data"
    },
    {
     "data": {
      "text/plain": "\u001B[2;36m[18:57:18]\u001B[0m\u001B[2;36m \u001B[0m\u001B[31mWARNING \u001B[0m tried to remove tensor: __opt_state_needed not present in the tensor dict                                                       \u001B]8;id=53887;file:///home/p/Desktop/Programs/Python/openfl/openfl/openfl/utilities/utils.py\u001B\\\u001B[2mutils.py\u001B[0m\u001B]8;;\u001B\\\u001B[2m:\u001B[0m\u001B]8;id=522970;file:///home/p/Desktop/Programs/Python/openfl/openfl/openfl/utilities/utils.py#172\u001B\\\u001B[2m172\u001B[0m\u001B]8;;\u001B\\\n",
      "text/html": "<pre style=\"white-space:pre;overflow-x:auto;line-height:normal;font-family:Menlo,'DejaVu Sans Mono',consolas,'Courier New',monospace\"><span style=\"color: #7fbfbf; text-decoration-color: #7fbfbf\">[18:57:18] </span><span style=\"color: #800000; text-decoration-color: #800000\">WARNING </span> tried to remove tensor: __opt_state_needed not present in the tensor dict                                                       <a href=\"file:///home/p/Desktop/Programs/Python/openfl/openfl/openfl/utilities/utils.py\" target=\"_blank\"><span style=\"color: #7f7f7f; text-decoration-color: #7f7f7f\">utils.py</span></a><span style=\"color: #7f7f7f; text-decoration-color: #7f7f7f\">:</span><a href=\"file:///home/p/Desktop/Programs/Python/openfl/openfl/openfl/utilities/utils.py#172\" target=\"_blank\"><span style=\"color: #7f7f7f; text-decoration-color: #7f7f7f\">172</span></a>\n</pre>\n"
     },
     "metadata": {},
     "output_type": "display_data"
    },
    {
     "data": {
      "text/plain": "\u001B[2;36m          \u001B[0m\u001B[2;36m \u001B[0mMETRIC   Round \u001B[1;36m0\u001B[0m, collaborator four is sending metric for task train: cross_entropy      \u001B[1;36m0.210936\u001B[0m                                 \u001B]8;id=932503;file:///home/p/Desktop/Programs/Python/openfl/openfl/openfl/component/collaborator/collaborator.py\u001B\\\u001B[2mcollaborator.py\u001B[0m\u001B]8;;\u001B\\\u001B[2m:\u001B[0m\u001B]8;id=708192;file:///home/p/Desktop/Programs/Python/openfl/openfl/openfl/component/collaborator/collaborator.py#415\u001B\\\u001B[2m415\u001B[0m\u001B]8;;\u001B\\\n",
      "text/html": "<pre style=\"white-space:pre;overflow-x:auto;line-height:normal;font-family:Menlo,'DejaVu Sans Mono',consolas,'Courier New',monospace\"><span style=\"color: #7fbfbf; text-decoration-color: #7fbfbf\">           </span>METRIC   Round <span style=\"color: #008080; text-decoration-color: #008080; font-weight: bold\">0</span>, collaborator four is sending metric for task train: cross_entropy      <span style=\"color: #008080; text-decoration-color: #008080; font-weight: bold\">0.210936</span>                                 <a href=\"file:///home/p/Desktop/Programs/Python/openfl/openfl/openfl/component/collaborator/collaborator.py\" target=\"_blank\"><span style=\"color: #7f7f7f; text-decoration-color: #7f7f7f\">collaborator.py</span></a><span style=\"color: #7f7f7f; text-decoration-color: #7f7f7f\">:</span><a href=\"file:///home/p/Desktop/Programs/Python/openfl/openfl/openfl/component/collaborator/collaborator.py#415\" target=\"_blank\"><span style=\"color: #7f7f7f; text-decoration-color: #7f7f7f\">415</span></a>\n</pre>\n"
     },
     "metadata": {},
     "output_type": "display_data"
    },
    {
     "data": {
      "text/plain": "\u001B[2;36m          \u001B[0m\u001B[2;36m \u001B[0mMETRIC   Round \u001B[1;36m0\u001B[0m, collaborator metric train result cross_entropy:        \u001B[1;36m0.210936\u001B[0m                                                   \u001B]8;id=450585;file:///home/p/Desktop/Programs/Python/openfl/openfl/openfl/component/aggregator/aggregator.py\u001B\\\u001B[2maggregator.py\u001B[0m\u001B]8;;\u001B\\\u001B[2m:\u001B[0m\u001B]8;id=560046;file:///home/p/Desktop/Programs/Python/openfl/openfl/openfl/component/aggregator/aggregator.py#559\u001B\\\u001B[2m559\u001B[0m\u001B]8;;\u001B\\\n",
      "text/html": "<pre style=\"white-space:pre;overflow-x:auto;line-height:normal;font-family:Menlo,'DejaVu Sans Mono',consolas,'Courier New',monospace\"><span style=\"color: #7fbfbf; text-decoration-color: #7fbfbf\">           </span>METRIC   Round <span style=\"color: #008080; text-decoration-color: #008080; font-weight: bold\">0</span>, collaborator metric train result cross_entropy:        <span style=\"color: #008080; text-decoration-color: #008080; font-weight: bold\">0.210936</span>                                                   <a href=\"file:///home/p/Desktop/Programs/Python/openfl/openfl/openfl/component/aggregator/aggregator.py\" target=\"_blank\"><span style=\"color: #7f7f7f; text-decoration-color: #7f7f7f\">aggregator.py</span></a><span style=\"color: #7f7f7f; text-decoration-color: #7f7f7f\">:</span><a href=\"file:///home/p/Desktop/Programs/Python/openfl/openfl/openfl/component/aggregator/aggregator.py#559\" target=\"_blank\"><span style=\"color: #7f7f7f; text-decoration-color: #7f7f7f\">559</span></a>\n</pre>\n"
     },
     "metadata": {},
     "output_type": "display_data"
    },
    {
     "data": {
      "text/plain": "\u001B[2;36m          \u001B[0m\u001B[2;36m \u001B[0mMETRIC   Round \u001B[1;36m0\u001B[0m, collaborator four is sending metric for task locally_tuned_model_validation: acc       \u001B[1;36m0.753200\u001B[0m                 \u001B]8;id=10933;file:///home/p/Desktop/Programs/Python/openfl/openfl/openfl/component/collaborator/collaborator.py\u001B\\\u001B[2mcollaborator.py\u001B[0m\u001B]8;;\u001B\\\u001B[2m:\u001B[0m\u001B]8;id=374153;file:///home/p/Desktop/Programs/Python/openfl/openfl/openfl/component/collaborator/collaborator.py#415\u001B\\\u001B[2m415\u001B[0m\u001B]8;;\u001B\\\n",
      "text/html": "<pre style=\"white-space:pre;overflow-x:auto;line-height:normal;font-family:Menlo,'DejaVu Sans Mono',consolas,'Courier New',monospace\"><span style=\"color: #7fbfbf; text-decoration-color: #7fbfbf\">           </span>METRIC   Round <span style=\"color: #008080; text-decoration-color: #008080; font-weight: bold\">0</span>, collaborator four is sending metric for task locally_tuned_model_validation: acc       <span style=\"color: #008080; text-decoration-color: #008080; font-weight: bold\">0.753200</span>                 <a href=\"file:///home/p/Desktop/Programs/Python/openfl/openfl/openfl/component/collaborator/collaborator.py\" target=\"_blank\"><span style=\"color: #7f7f7f; text-decoration-color: #7f7f7f\">collaborator.py</span></a><span style=\"color: #7f7f7f; text-decoration-color: #7f7f7f\">:</span><a href=\"file:///home/p/Desktop/Programs/Python/openfl/openfl/openfl/component/collaborator/collaborator.py#415\" target=\"_blank\"><span style=\"color: #7f7f7f; text-decoration-color: #7f7f7f\">415</span></a>\n</pre>\n"
     },
     "metadata": {},
     "output_type": "display_data"
    },
    {
     "data": {
      "text/plain": "\u001B[2;36m          \u001B[0m\u001B[2;36m \u001B[0mMETRIC   Round \u001B[1;36m0\u001B[0m, collaborator validate_local locally_tuned_model_validation result acc: \u001B[1;36m0.753200\u001B[0m                                   \u001B]8;id=376209;file:///home/p/Desktop/Programs/Python/openfl/openfl/openfl/component/aggregator/aggregator.py\u001B\\\u001B[2maggregator.py\u001B[0m\u001B]8;;\u001B\\\u001B[2m:\u001B[0m\u001B]8;id=325287;file:///home/p/Desktop/Programs/Python/openfl/openfl/openfl/component/aggregator/aggregator.py#559\u001B\\\u001B[2m559\u001B[0m\u001B]8;;\u001B\\\n",
      "text/html": "<pre style=\"white-space:pre;overflow-x:auto;line-height:normal;font-family:Menlo,'DejaVu Sans Mono',consolas,'Courier New',monospace\"><span style=\"color: #7fbfbf; text-decoration-color: #7fbfbf\">           </span>METRIC   Round <span style=\"color: #008080; text-decoration-color: #008080; font-weight: bold\">0</span>, collaborator validate_local locally_tuned_model_validation result acc: <span style=\"color: #008080; text-decoration-color: #008080; font-weight: bold\">0.753200</span>                                   <a href=\"file:///home/p/Desktop/Programs/Python/openfl/openfl/openfl/component/aggregator/aggregator.py\" target=\"_blank\"><span style=\"color: #7f7f7f; text-decoration-color: #7f7f7f\">aggregator.py</span></a><span style=\"color: #7f7f7f; text-decoration-color: #7f7f7f\">:</span><a href=\"file:///home/p/Desktop/Programs/Python/openfl/openfl/openfl/component/aggregator/aggregator.py#559\" target=\"_blank\"><span style=\"color: #7f7f7f; text-decoration-color: #7f7f7f\">559</span></a>\n</pre>\n"
     },
     "metadata": {},
     "output_type": "display_data"
    },
    {
     "data": {
      "text/plain": "\u001B[2;36m          \u001B[0m\u001B[2;36m \u001B[0mMETRIC   Round \u001B[1;36m0\u001B[0m, aggregator: locally_tuned_model_validation                                                                        \u001B]8;id=928862;file:///home/p/Desktop/Programs/Python/openfl/openfl/openfl/component/aggregator/aggregator.py\u001B\\\u001B[2maggregator.py\u001B[0m\u001B]8;;\u001B\\\u001B[2m:\u001B[0m\u001B]8;id=54118;file:///home/p/Desktop/Programs/Python/openfl/openfl/openfl/component/aggregator/aggregator.py#842\u001B\\\u001B[2m842\u001B[0m\u001B]8;;\u001B\\\n\u001B[2;36m           \u001B[0m         \u001B[1m<\u001B[0m\u001B[1;95mopenfl.interface.aggregation_functions.weighted_average.WeightedAverage\u001B[0m\u001B[39m object at \u001B[0m\u001B[1;36m0x7f2dc10bf580\u001B[0m\u001B[1m>\u001B[0m acc:     \u001B[1;36m0.756500\u001B[0m       \u001B[2m                 \u001B[0m\n",
      "text/html": "<pre style=\"white-space:pre;overflow-x:auto;line-height:normal;font-family:Menlo,'DejaVu Sans Mono',consolas,'Courier New',monospace\"><span style=\"color: #7fbfbf; text-decoration-color: #7fbfbf\">           </span>METRIC   Round <span style=\"color: #008080; text-decoration-color: #008080; font-weight: bold\">0</span>, aggregator: locally_tuned_model_validation                                                                        <a href=\"file:///home/p/Desktop/Programs/Python/openfl/openfl/openfl/component/aggregator/aggregator.py\" target=\"_blank\"><span style=\"color: #7f7f7f; text-decoration-color: #7f7f7f\">aggregator.py</span></a><span style=\"color: #7f7f7f; text-decoration-color: #7f7f7f\">:</span><a href=\"file:///home/p/Desktop/Programs/Python/openfl/openfl/openfl/component/aggregator/aggregator.py#842\" target=\"_blank\"><span style=\"color: #7f7f7f; text-decoration-color: #7f7f7f\">842</span></a>\n<span style=\"color: #7fbfbf; text-decoration-color: #7fbfbf\">           </span>         <span style=\"font-weight: bold\">&lt;</span><span style=\"color: #ff00ff; text-decoration-color: #ff00ff; font-weight: bold\">openfl.interface.aggregation_functions.weighted_average.WeightedAverage</span><span style=\"color: #000000; text-decoration-color: #000000\"> object at </span><span style=\"color: #008080; text-decoration-color: #008080; font-weight: bold\">0x7f2dc10bf580</span><span style=\"font-weight: bold\">&gt;</span> acc:     <span style=\"color: #008080; text-decoration-color: #008080; font-weight: bold\">0.756500</span>       <span style=\"color: #7f7f7f; text-decoration-color: #7f7f7f\">                 </span>\n</pre>\n"
     },
     "metadata": {},
     "output_type": "display_data"
    },
    {
     "data": {
      "text/plain": "\u001B[2;36m          \u001B[0m\u001B[2;36m \u001B[0mMETRIC   Round \u001B[1;36m0\u001B[0m, aggregator: train \u001B[1m<\u001B[0m\u001B[1;95mopenfl.interface.aggregation_functions.weighted_average.WeightedAverage\u001B[0m\u001B[39m object at \u001B[0m             \u001B]8;id=588404;file:///home/p/Desktop/Programs/Python/openfl/openfl/openfl/component/aggregator/aggregator.py\u001B\\\u001B[2maggregator.py\u001B[0m\u001B]8;;\u001B\\\u001B[2m:\u001B[0m\u001B]8;id=739212;file:///home/p/Desktop/Programs/Python/openfl/openfl/openfl/component/aggregator/aggregator.py#842\u001B\\\u001B[2m842\u001B[0m\u001B]8;;\u001B\\\n\u001B[2;36m           \u001B[0m         \u001B[1;36m0x7f2dc10bf580\u001B[0m\u001B[1m>\u001B[0m cross_entropy:    \u001B[1;36m0.213156\u001B[0m                                                                                 \u001B[2m                 \u001B[0m\n",
      "text/html": "<pre style=\"white-space:pre;overflow-x:auto;line-height:normal;font-family:Menlo,'DejaVu Sans Mono',consolas,'Courier New',monospace\"><span style=\"color: #7fbfbf; text-decoration-color: #7fbfbf\">           </span>METRIC   Round <span style=\"color: #008080; text-decoration-color: #008080; font-weight: bold\">0</span>, aggregator: train <span style=\"font-weight: bold\">&lt;</span><span style=\"color: #ff00ff; text-decoration-color: #ff00ff; font-weight: bold\">openfl.interface.aggregation_functions.weighted_average.WeightedAverage</span><span style=\"color: #000000; text-decoration-color: #000000\"> object at </span>             <a href=\"file:///home/p/Desktop/Programs/Python/openfl/openfl/openfl/component/aggregator/aggregator.py\" target=\"_blank\"><span style=\"color: #7f7f7f; text-decoration-color: #7f7f7f\">aggregator.py</span></a><span style=\"color: #7f7f7f; text-decoration-color: #7f7f7f\">:</span><a href=\"file:///home/p/Desktop/Programs/Python/openfl/openfl/openfl/component/aggregator/aggregator.py#842\" target=\"_blank\"><span style=\"color: #7f7f7f; text-decoration-color: #7f7f7f\">842</span></a>\n<span style=\"color: #7fbfbf; text-decoration-color: #7fbfbf\">           </span>         <span style=\"color: #008080; text-decoration-color: #008080; font-weight: bold\">0x7f2dc10bf580</span><span style=\"font-weight: bold\">&gt;</span> cross_entropy:    <span style=\"color: #008080; text-decoration-color: #008080; font-weight: bold\">0.213156</span>                                                                                 <span style=\"color: #7f7f7f; text-decoration-color: #7f7f7f\">                 </span>\n</pre>\n"
     },
     "metadata": {},
     "output_type": "display_data"
    },
    {
     "data": {
      "text/plain": "\u001B[2;36m          \u001B[0m\u001B[2;36m \u001B[0mMETRIC   Round \u001B[1;36m0\u001B[0m, aggregator: aggregated_model_validation \u001B[1m<\u001B[0m\u001B[1;95mopenfl.interface.aggregation_functions.weighted_average.WeightedAverage\u001B[0m\u001B[39m \u001B[0m \u001B]8;id=92406;file:///home/p/Desktop/Programs/Python/openfl/openfl/openfl/component/aggregator/aggregator.py\u001B\\\u001B[2maggregator.py\u001B[0m\u001B]8;;\u001B\\\u001B[2m:\u001B[0m\u001B]8;id=420613;file:///home/p/Desktop/Programs/Python/openfl/openfl/openfl/component/aggregator/aggregator.py#842\u001B\\\u001B[2m842\u001B[0m\u001B]8;;\u001B\\\n\u001B[2;36m           \u001B[0m         \u001B[39mobject at \u001B[0m\u001B[1;36m0x7f2dc10bf580\u001B[0m\u001B[1m>\u001B[0m acc:        \u001B[1;36m0.742800\u001B[0m                                                                             \u001B[2m                 \u001B[0m\n",
      "text/html": "<pre style=\"white-space:pre;overflow-x:auto;line-height:normal;font-family:Menlo,'DejaVu Sans Mono',consolas,'Courier New',monospace\"><span style=\"color: #7fbfbf; text-decoration-color: #7fbfbf\">           </span>METRIC   Round <span style=\"color: #008080; text-decoration-color: #008080; font-weight: bold\">0</span>, aggregator: aggregated_model_validation <span style=\"font-weight: bold\">&lt;</span><span style=\"color: #ff00ff; text-decoration-color: #ff00ff; font-weight: bold\">openfl.interface.aggregation_functions.weighted_average.WeightedAverage</span><span style=\"color: #000000; text-decoration-color: #000000\"> </span> <a href=\"file:///home/p/Desktop/Programs/Python/openfl/openfl/openfl/component/aggregator/aggregator.py\" target=\"_blank\"><span style=\"color: #7f7f7f; text-decoration-color: #7f7f7f\">aggregator.py</span></a><span style=\"color: #7f7f7f; text-decoration-color: #7f7f7f\">:</span><a href=\"file:///home/p/Desktop/Programs/Python/openfl/openfl/openfl/component/aggregator/aggregator.py#842\" target=\"_blank\"><span style=\"color: #7f7f7f; text-decoration-color: #7f7f7f\">842</span></a>\n<span style=\"color: #7fbfbf; text-decoration-color: #7fbfbf\">           </span>         <span style=\"color: #000000; text-decoration-color: #000000\">object at </span><span style=\"color: #008080; text-decoration-color: #008080; font-weight: bold\">0x7f2dc10bf580</span><span style=\"font-weight: bold\">&gt;</span> acc:        <span style=\"color: #008080; text-decoration-color: #008080; font-weight: bold\">0.742800</span>                                                                             <span style=\"color: #7f7f7f; text-decoration-color: #7f7f7f\">                 </span>\n</pre>\n"
     },
     "metadata": {},
     "output_type": "display_data"
    },
    {
     "data": {
      "text/plain": "\u001B[2;36m          \u001B[0m\u001B[2;36m \u001B[0mMETRIC   Round \u001B[1;36m0\u001B[0m: saved the best model with score \u001B[1;36m0.742800\u001B[0m                                                                          \u001B]8;id=363292;file:///home/p/Desktop/Programs/Python/openfl/openfl/openfl/component/aggregator/aggregator.py\u001B\\\u001B[2maggregator.py\u001B[0m\u001B]8;;\u001B\\\u001B[2m:\u001B[0m\u001B]8;id=105742;file:///home/p/Desktop/Programs/Python/openfl/openfl/openfl/component/aggregator/aggregator.py#858\u001B\\\u001B[2m858\u001B[0m\u001B]8;;\u001B\\\n",
      "text/html": "<pre style=\"white-space:pre;overflow-x:auto;line-height:normal;font-family:Menlo,'DejaVu Sans Mono',consolas,'Courier New',monospace\"><span style=\"color: #7fbfbf; text-decoration-color: #7fbfbf\">           </span>METRIC   Round <span style=\"color: #008080; text-decoration-color: #008080; font-weight: bold\">0</span>: saved the best model with score <span style=\"color: #008080; text-decoration-color: #008080; font-weight: bold\">0.742800</span>                                                                          <a href=\"file:///home/p/Desktop/Programs/Python/openfl/openfl/openfl/component/aggregator/aggregator.py\" target=\"_blank\"><span style=\"color: #7f7f7f; text-decoration-color: #7f7f7f\">aggregator.py</span></a><span style=\"color: #7f7f7f; text-decoration-color: #7f7f7f\">:</span><a href=\"file:///home/p/Desktop/Programs/Python/openfl/openfl/openfl/component/aggregator/aggregator.py#858\" target=\"_blank\"><span style=\"color: #7f7f7f; text-decoration-color: #7f7f7f\">858</span></a>\n</pre>\n"
     },
     "metadata": {},
     "output_type": "display_data"
    }
   ],
   "source": [
    "i = 'ckpt4'\n",
    "\n",
    "feature_shape = train_data.shape[1]\n",
    "classes       = 10\n",
    "\n",
    "for j in range(10):\n",
    "    fl_data = FederatedDataSet(train_data,train_labels,valid_data,valid_labels,batch_size=32,num_classes=classes)\n",
    "\n",
    "\n",
    "    class Model(nn.Module):\n",
    "        def __init__(self):\n",
    "            super(Model, self).__init__()\n",
    "            if 'model' in vars() or 'model' in globals():\n",
    "                self.model = model.model\n",
    "            else:\n",
    "                self.model = nn.Sequential(\n",
    "                    nn.Flatten(),\n",
    "                    nn.Linear(28*28, 128),\n",
    "                    nn.ReLU(),\n",
    "                    nn.Dropout(0.1),\n",
    "                    nn.Linear(128, 64),\n",
    "                    nn.ReLU(),\n",
    "                    nn.Dropout(0.1),\n",
    "                    nn.Linear(64, 10),\n",
    "                )\n",
    "\n",
    "        def forward(self, x):\n",
    "            return self.model(x)\n",
    "\n",
    "        def train_epoch(self, batch_generator):\n",
    "            from openfl.federated.task import PyTorchTaskRunner\n",
    "            self.optimizer.set_old_weights([p for p in self.parameters()])\n",
    "            return PyTorchTaskRunner.train_epoch(self, batch_generator)\n",
    "\n",
    "    optimizer = lambda x: FedProxOptimizer(x, lr=1e-4, mu=0.1)\n",
    "\n",
    "    def cross_entropy(output, target):\n",
    "        \"\"\"Binary cross-entropy metric\n",
    "        \"\"\"\n",
    "        return F.binary_cross_entropy_with_logits(input=output,target=target.float())\n",
    "\n",
    "    fl_model = FederatedModel(build_model=Model, optimizer=optimizer, loss_fn=cross_entropy, data_loader=fl_data)\n",
    "\n",
    "    collaborator_models = fl_model.setup(num_collaborators=4)\n",
    "    collaborators = {'one':collaborator_models[0],'two':collaborator_models[1], 'three':collaborator_models[2] , 'four':collaborator_models[3]}\n",
    "    final_fl_model = fx.run_experiment(\n",
    "        collaborators,\n",
    "        {\n",
    "            'aggregator.settings.rounds_to_train': 1,\n",
    "            'collaborator.settings.opt_treatment': 'CONTINUE_GLOBAL',\n",
    "        }\n",
    "    )\n",
    "    torch.save(final_fl_model.model, f'/home/p/Desktop/Programs/Python/openfl/openfl-test/test/final_model_{i}.{j}.pt')\n",
    "    model = final_fl_model.model.cpu()"
   ]
  },
  {
   "cell_type": "code",
   "execution_count": 5,
   "metadata": {
    "ExecuteTime": {
     "start_time": "2023-04-24T18:57:19.000038Z",
     "end_time": "2023-04-24T19:00:01.485885Z"
    }
   },
   "outputs": [],
   "source": []
  },
  {
   "cell_type": "code",
   "execution_count": 5,
   "metadata": {
    "ExecuteTime": {
     "start_time": "2023-04-24T18:57:19.000227Z",
     "end_time": "2023-04-24T19:00:01.486000Z"
    }
   },
   "outputs": [],
   "source": []
  },
  {
   "cell_type": "code",
   "execution_count": 6,
   "metadata": {
    "ExecuteTime": {
     "start_time": "2023-04-24T18:57:19.000514Z",
     "end_time": "2023-04-24T19:00:01.486349Z"
    }
   },
   "outputs": [
    {
     "name": "stdout",
     "output_type": "stream",
     "text": [
      "Original training data size: 60000\n",
      "Original validation data size: 10000\n",
      "\n",
      "Collaborator one's training data size: 15000\n",
      "Collaborator one's validation data size: 2500\n",
      "\n",
      "Collaborator two's training data size: 15000\n",
      "Collaborator two's validation data size: 2500\n",
      "\n"
     ]
    }
   ],
   "source": [
    "#Original MNIST dataset\n",
    "print(f'Original training data size: {len(train_data)}')\n",
    "print(f'Original validation data size: {len(valid_data)}\\n')\n",
    "\n",
    "#Collaborator one's data\n",
    "print(f'Collaborator one\\'s training data size: {len(collaborator_models[0].data_loader.X_train)}')\n",
    "print(f'Collaborator one\\'s validation data size: {len(collaborator_models[0].data_loader.X_valid)}\\n')\n",
    "\n",
    "#Collaborator two's data\n",
    "print(f'Collaborator two\\'s training data size: {len(collaborator_models[1].data_loader.X_train)}')\n",
    "print(f'Collaborator two\\'s validation data size: {len(collaborator_models[1].data_loader.X_valid)}\\n')\n"
   ]
  },
  {
   "cell_type": "code",
   "execution_count": 7,
   "metadata": {
    "ExecuteTime": {
     "start_time": "2023-04-24T18:57:19.000752Z",
     "end_time": "2023-04-24T19:00:01.486745Z"
    }
   },
   "outputs": [
    {
     "name": "stdout",
     "output_type": "stream",
     "text": [
      "{\n",
      "    \"aggregator.settings.best_state_path\": \"save/torch_cnn_mnist_best.pbuf\",\n",
      "    \"aggregator.settings.db_store_rounds\": 2,\n",
      "    \"aggregator.settings.init_state_path\": \"save/torch_cnn_mnist_init.pbuf\",\n",
      "    \"aggregator.settings.last_state_path\": \"save/torch_cnn_mnist_last.pbuf\",\n",
      "    \"aggregator.settings.log_metric_callback.template\": \"src.mnist_utils.write_metric\",\n",
      "    \"aggregator.settings.rounds_to_train\": 10,\n",
      "    \"aggregator.settings.write_logs\": true,\n",
      "    \"aggregator.template\": \"openfl.component.Aggregator\",\n",
      "    \"assigner.settings.task_groups.0.name\": \"train_and_validate\",\n",
      "    \"assigner.settings.task_groups.0.percentage\": 1.0,\n",
      "    \"assigner.settings.task_groups.0.tasks.0\": \"aggregated_model_validation\",\n",
      "    \"assigner.settings.task_groups.0.tasks.1\": \"train\",\n",
      "    \"assigner.settings.task_groups.0.tasks.2\": \"locally_tuned_model_validation\",\n",
      "    \"assigner.template\": \"openfl.component.RandomGroupedAssigner\",\n",
      "    \"collaborator.settings.db_store_rounds\": 1,\n",
      "    \"collaborator.settings.delta_updates\": false,\n",
      "    \"collaborator.settings.opt_treatment\": \"RESET\",\n",
      "    \"collaborator.template\": \"openfl.component.Collaborator\",\n",
      "    \"compression_pipeline.settings\": {},\n",
      "    \"compression_pipeline.template\": \"openfl.pipelines.NoCompressionPipeline\",\n",
      "    \"data_loader.settings.batch_size\": 256,\n",
      "    \"data_loader.settings.collaborator_count\": 2,\n",
      "    \"data_loader.settings.data_group_name\": \"mnist\",\n",
      "    \"data_loader.template\": \"src.ptmnist_inmemory.PyTorchMNISTInMemory\",\n",
      "    \"network.settings.agg_addr\": \"claret\",\n",
      "    \"network.settings.agg_port\": 58414,\n",
      "    \"network.settings.cert_folder\": \"cert\",\n",
      "    \"network.settings.client_reconnect_interval\": 5,\n",
      "    \"network.settings.disable_client_auth\": false,\n",
      "    \"network.settings.hash_salt\": \"auto\",\n",
      "    \"network.settings.tls\": true,\n",
      "    \"network.template\": \"openfl.federation.Network\",\n",
      "    \"task_runner.settings\": {},\n",
      "    \"task_runner.template\": \"src.pt_cnn.PyTorchCNN\",\n",
      "    \"tasks.aggregated_model_validation.function\": \"validate\",\n",
      "    \"tasks.aggregated_model_validation.kwargs.apply\": \"global\",\n",
      "    \"tasks.aggregated_model_validation.kwargs.metrics.0\": \"acc\",\n",
      "    \"tasks.locally_tuned_model_validation.function\": \"validate\",\n",
      "    \"tasks.locally_tuned_model_validation.kwargs.apply\": \"local\",\n",
      "    \"tasks.locally_tuned_model_validation.kwargs.metrics.0\": \"acc\",\n",
      "    \"tasks.settings\": {},\n",
      "    \"tasks.train.function\": \"train_batches\",\n",
      "    \"tasks.train.kwargs.epochs\": 1,\n",
      "    \"tasks.train.kwargs.metrics.0\": \"loss\"\n",
      "}\n"
     ]
    }
   ],
   "source": [
    " #Get the current values of the plan. Each of these can be overridden\n",
    "import json\n",
    "print(fx.get_plan())"
   ]
  },
  {
   "cell_type": "code",
   "execution_count": 8,
   "metadata": {
    "ExecuteTime": {
     "start_time": "2023-04-24T18:57:19.001161Z",
     "end_time": "2023-04-24T19:00:01.486847Z"
    }
   },
   "outputs": [],
   "source": [
    "#Run experiment, return trained FederatedModel\n"
   ]
  },
  {
   "cell_type": "code",
   "execution_count": 9,
   "metadata": {
    "ExecuteTime": {
     "start_time": "2023-04-24T18:57:19.001370Z",
     "end_time": "2023-04-24T19:00:01.486953Z"
    }
   },
   "outputs": [],
   "source": [
    "#Save final model\n"
   ]
  },
  {
   "cell_type": "code",
   "execution_count": 9,
   "metadata": {
    "tags": [],
    "ExecuteTime": {
     "start_time": "2023-04-24T18:57:19.001517Z",
     "end_time": "2023-04-24T19:00:01.487053Z"
    }
   },
   "outputs": [],
   "source": []
  },
  {
   "cell_type": "code",
   "execution_count": 10,
   "metadata": {
    "tags": [],
    "ExecuteTime": {
     "start_time": "2023-04-24T18:57:19.001682Z",
     "end_time": "2023-04-24T19:00:01.495006Z"
    }
   },
   "outputs": [
    {
     "data": {
      "text/plain": "tensor(0.7576)"
     },
     "execution_count": 10,
     "metadata": {},
     "output_type": "execute_result"
    }
   ],
   "source": [
    "(final_fl_model.model.cpu()(valid_data).argmax(dim=-1) == torch.tensor(valid_labels).argmax(dim=-1)).sum() / len(valid_labels)"
   ]
  },
  {
   "cell_type": "code",
   "execution_count": 11,
   "metadata": {
    "tags": [],
    "ExecuteTime": {
     "start_time": "2023-04-24T18:57:19.002167Z",
     "end_time": "2023-04-24T19:00:01.516541Z"
    }
   },
   "outputs": [],
   "source": [
    "FederatedModel?"
   ]
  }
 ],
 "metadata": {
  "kernelspec": {
   "display_name": "Python 3 (ipykernel)",
   "language": "python",
   "name": "python3"
  },
  "language_info": {
   "codemirror_mode": {
    "name": "ipython",
    "version": 3
   },
   "file_extension": ".py",
   "mimetype": "text/x-python",
   "name": "python",
   "nbconvert_exporter": "python",
   "pygments_lexer": "ipython3",
   "version": "3.9.13"
  }
 },
 "nbformat": 4,
 "nbformat_minor": 4
}
