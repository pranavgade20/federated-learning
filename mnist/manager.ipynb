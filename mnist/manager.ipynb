{
 "cells": [
  {
   "cell_type": "code",
   "execution_count": 1,
   "metadata": {},
   "outputs": [
    {
     "name": "stderr",
     "output_type": "stream",
     "text": [
      "/opt/miniconda3/envs/openfl/lib/python3.9/site-packages/tqdm/auto.py:22: TqdmWarning: IProgress not found. Please update jupyter and ipywidgets. See https://ipywidgets.readthedocs.io/en/stable/user_install.html\n",
      "  from .autonotebook import tqdm as notebook_tqdm\n"
     ]
    }
   ],
   "source": [
    "from openfl.interface.interactive_api.federation import Federation"
   ]
  },
  {
   "cell_type": "code",
   "execution_count": 30,
   "metadata": {},
   "outputs": [],
   "source": [
    "# !fx director start --disable-tls -c director/director.yaml # start the director"
   ]
  },
  {
   "cell_type": "code",
   "execution_count": 31,
   "metadata": {},
   "outputs": [],
   "source": [
    "#! sudo apt install gfortran cmake libopenblas-base libopenblas-dev libatlas-base-dev\n",
    "# ! ENVOY_NAME=envoy_example_name fx envoy start \\\n",
    "#     -n \"$ENVOY_NAME\" \\\n",
    "#     --disable-tls \\\n",
    "#     --envoy-config-path envoy_config.yaml \\\n",
    "#     -dh localhost \\\n",
    "#     -dp 50051"
   ]
  },
  {
   "cell_type": "code",
   "execution_count": 32,
   "metadata": {
    "scrolled": true
   },
   "outputs": [],
   "source": [
    "federation = Federation(client_id='client_id', director_node_fqdn='localhost', director_port='50051',tls=False, cert_chain=None, api_cert=None, api_private_key=None)"
   ]
  },
  {
   "cell_type": "code",
   "execution_count": 33,
   "metadata": {},
   "outputs": [
    {
     "data": {
      "text/plain": [
       "{'ENVOY_NAME': {'shard_info': node_info {\n",
       "    name: \"ENVOY_NAME\"\n",
       "  }\n",
       "  sample_shape: \"2\"\n",
       "  target_shape: \"1\",\n",
       "  'is_online': True,\n",
       "  'is_experiment_running': False,\n",
       "  'last_updated': '2023-02-07 23:11:23',\n",
       "  'current_time': '2023-02-07 23:11:38',\n",
       "  'valid_duration': seconds: 120,\n",
       "  'experiment_name': 'ExperimentName Mock'},\n",
       " 'rpi': {'shard_info': node_info {\n",
       "    name: \"rpi\"\n",
       "  }\n",
       "  sample_shape: \"2\"\n",
       "  target_shape: \"1\",\n",
       "  'is_online': True,\n",
       "  'is_experiment_running': False,\n",
       "  'last_updated': '2023-02-07 23:11:28',\n",
       "  'current_time': '2023-02-07 23:11:38',\n",
       "  'valid_duration': seconds: 120,\n",
       "  'experiment_name': 'ExperimentName Mock'}}"
      ]
     },
     "execution_count": 33,
     "metadata": {},
     "output_type": "execute_result"
    }
   ],
   "source": [
    "federation.get_shard_registry()"
   ]
  },
  {
   "cell_type": "code",
   "execution_count": 34,
   "metadata": {},
   "outputs": [],
   "source": [
    "from openfl.interface.interactive_api.experiment import FLExperiment\n",
    "from openfl.interface.interactive_api.experiment import TaskInterface, DataInterface, ModelInterface"
   ]
  },
  {
   "cell_type": "code",
   "execution_count": 35,
   "metadata": {},
   "outputs": [],
   "source": [
    "fl_experiment = FLExperiment(federation=federation, experiment_name=\"pranav's test\")"
   ]
  },
  {
   "cell_type": "code",
   "execution_count": 36,
   "metadata": {},
   "outputs": [],
   "source": [
    "from torch import nn\n",
    "import torch as t\n",
    "import torch.nn.functional as F\n",
    "import torch.optim as optim\n",
    "\n",
    "class XOR(nn.Module):\n",
    "    def __init__(self, input_dim = 2, output_dim=1):\n",
    "        super(XOR, self).__init__()\n",
    "        self.lin1 = nn.Linear(input_dim, 4)\n",
    "        self.lin2 = nn.Linear(4, output_dim)\n",
    "\n",
    "    def forward(self, x):\n",
    "        x = self.lin1(x)\n",
    "        x = F.sigmoid(x)\n",
    "        x = self.lin2(x)\n",
    "        return x\n",
    "\n",
    "\n",
    "model = XOR()\n",
    "loss_func = nn.MSELoss()\n",
    "optimizer = optim.SGD(model.parameters(), lr=0.2, momentum=0.9)"
   ]
  },
  {
   "cell_type": "code",
   "execution_count": 37,
   "metadata": {},
   "outputs": [],
   "source": [
    "from openfl.interface.interactive_api.experiment import ModelInterface\n",
    "MI = ModelInterface(model, optimizer, framework_plugin='openfl.plugins.frameworks_adapters.pytorch_adapter.FrameworkAdapterPlugin')"
   ]
  },
  {
   "cell_type": "code",
   "execution_count": 38,
   "metadata": {},
   "outputs": [],
   "source": [
    "from torch.utils.data import DataLoader\n",
    "\n",
    "\n",
    "class CustomDataInterface(DataInterface):\n",
    "    def __init__(self, **kwargs):\n",
    "        # Initialize superclass with kwargs: this array will be passed\n",
    "        # to get_data_loader methods\n",
    "        super().__init__(**kwargs)\n",
    "\n",
    "    @property\n",
    "    def shard_descriptor(self):\n",
    "        return self._shard_descriptor\n",
    "\n",
    "    @shard_descriptor.setter\n",
    "    def shard_descriptor(self, shard_descriptor):\n",
    "        \"\"\"\n",
    "        Describe per-collaborator procedures or sharding.\n",
    "\n",
    "        This method will be called during a collaborator initialization.\n",
    "        Local shard_descriptor  will be set by Envoy.\n",
    "        \"\"\"\n",
    "        self._shard_descriptor = shard_descriptor\n",
    "\n",
    "        self.train_set = self._shard_descriptor.get_dataset('train')\n",
    "        self.valid_set = self._shard_descriptor.get_dataset('val')\n",
    "\n",
    "\n",
    "    def get_train_loader(self, **kwargs):\n",
    "        \"\"\"\n",
    "        Output of this method will be provided to tasks with optimizer in contract\n",
    "        \"\"\"\n",
    "        return DataLoader(\n",
    "            self.train_set, batch_size=4, shuffle=True\n",
    "        )\n",
    "    def get_valid_loader(self, **kwargs):\n",
    "        \"\"\"\n",
    "        Output of this method will be provided to tasks with optimizer in contract\n",
    "        \"\"\"\n",
    "        return DataLoader(\n",
    "            self.valid_set, batch_size=4, shuffle=True\n",
    "        )\n",
    "\n",
    "    def get_train_data_size(self):\n",
    "        \"\"\"\n",
    "        Information for aggregation\n",
    "        \"\"\"\n",
    "        return len(self.train_set)\n",
    "\n",
    "    def get_valid_data_size(self):\n",
    "        \"\"\"\n",
    "        Information for aggregation\n",
    "        \"\"\"\n",
    "        return len(self.valid_set)\n",
    "\n",
    "DI = CustomDataInterface()"
   ]
  },
  {
   "cell_type": "code",
   "execution_count": 39,
   "metadata": {},
   "outputs": [],
   "source": [
    "import numpy as np\n",
    "import tqdm\n",
    "\n",
    "TI = TaskInterface()\n",
    "\n",
    "task_settings = {\n",
    "    'batch_size': 32,\n",
    "}\n",
    "@TI.add_kwargs(**task_settings)\n",
    "@TI.register_fl_task(model='model_', data_loader='train_loader',\n",
    "                     device='device', optimizer='optim')\n",
    "def train(model_, train_loader, optim, device, batch_size):\n",
    "    train_loader = tqdm.tqdm(train_loader, desc=\"train\")\n",
    "    model_.train()\n",
    "    model_.to(device)\n",
    "\n",
    "    losses = []\n",
    "\n",
    "    for data, target in train_loader:\n",
    "        optim.zero_grad()\n",
    "        y_hat = model(data.to(dtype=t.float))\n",
    "        loss = F.mse_loss(y_hat[:,0], target.to(dtype=t.float))\n",
    "        loss.backward()\n",
    "        optim.step()\n",
    "        losses.append(loss.mean().item())\n",
    "        # train_loader.set_postfix({'Loss', loss.mean().item()})\n",
    "    return {'train_loss': np.mean(losses),}\n",
    "\n",
    "@TI.register_fl_task(model='model_', data_loader='val_loader', device='device')\n",
    "def validate(model_, val_loader, device):\n",
    "    device = t.device('cpu')\n",
    "    model_.eval()\n",
    "    model_.to(device)\n",
    "\n",
    "    val_loader = tqdm.tqdm(val_loader, desc=\"validate\")\n",
    "    val_score = 0\n",
    "    total_samples = 0\n",
    "\n",
    "    with t.no_grad():\n",
    "        for data, target in val_loader:\n",
    "            samples = target.shape[0]\n",
    "            total_samples += samples\n",
    "            # data, target = t.tensor(data).to(device), t.tensor(target).to(device, dtype=t.int64)\n",
    "            output = model_(data.to(dtype=t.float))\n",
    "            pred = output.argmax(dim=1)\n",
    "            val_score += pred.eq(target.to()).sum().cpu().numpy()\n",
    "\n",
    "    return {'acc': val_score / total_samples,}"
   ]
  },
  {
   "cell_type": "code",
   "execution_count": 40,
   "metadata": {},
   "outputs": [
    {
     "data": {
      "text/html": [
       "<pre style=\"white-space:pre;overflow-x:auto;line-height:normal;font-family:Menlo,'DejaVu Sans Mono',consolas,'Courier New',monospace\"><span style=\"color: #7fbfbf; text-decoration-color: #7fbfbf\">[23:11:42] </span><span style=\"color: #000080; text-decoration-color: #000080\">INFO    </span> Building <span style=\"color: #800000; text-decoration-color: #800000\">🡆</span> Object <span style=\"color: #800000; text-decoration-color: #800000\">CloudpickleSerializer</span> from <span style=\"color: #800000; text-decoration-color: #800000\">openfl.plugins.interface_serializer.cloudpickle_serializer</span> Module.                  <a href=\"file:///opt/miniconda3/envs/openfl/lib/python3.9/site-packages/openfl/federated/plan/plan.py\" target=\"_blank\"><span style=\"color: #7f7f7f; text-decoration-color: #7f7f7f\">plan.py</span></a><span style=\"color: #7f7f7f; text-decoration-color: #7f7f7f\">:</span><a href=\"file:///opt/miniconda3/envs/openfl/lib/python3.9/site-packages/openfl/federated/plan/plan.py#171\" target=\"_blank\"><span style=\"color: #7f7f7f; text-decoration-color: #7f7f7f\">171</span></a>\n",
       "</pre>\n"
      ],
      "text/plain": [
       "\u001B[2;36m[23:11:42]\u001B[0m\u001B[2;36m \u001B[0m\u001B[34mINFO    \u001B[0m Building \u001B[31m🡆\u001B[0m Object \u001B[31mCloudpickleSerializer\u001B[0m from \u001B[31mopenfl.plugins.interface_serializer.cloudpickle_serializer\u001B[0m Module.                  \u001B]8;id=43477;file:///opt/miniconda3/envs/openfl/lib/python3.9/site-packages/openfl/federated/plan/plan.py\u001B\\\u001B[2mplan.py\u001B[0m\u001B]8;;\u001B\\\u001B[2m:\u001B[0m\u001B]8;id=118593;file:///opt/miniconda3/envs/openfl/lib/python3.9/site-packages/openfl/federated/plan/plan.py#171\u001B\\\u001B[2m171\u001B[0m\u001B]8;;\u001B\\\n"
      ]
     },
     "metadata": {},
     "output_type": "display_data"
    },
    {
     "data": {
      "text/html": [
       "<pre style=\"white-space:pre;overflow-x:auto;line-height:normal;font-family:Menlo,'DejaVu Sans Mono',consolas,'Courier New',monospace\"><span style=\"color: #7fbfbf; text-decoration-color: #7fbfbf\">           </span><span style=\"color: #000080; text-decoration-color: #000080\">INFO    </span> Building <span style=\"color: #800000; text-decoration-color: #800000\">🡆</span> Object <span style=\"color: #800000; text-decoration-color: #800000\">FrameworkAdapterPlugin</span> from <span style=\"color: #800000; text-decoration-color: #800000\">openfl.plugins.frameworks_adapters.pytorch_adapter</span> Module.                         <a href=\"file:///opt/miniconda3/envs/openfl/lib/python3.9/site-packages/openfl/federated/plan/plan.py\" target=\"_blank\"><span style=\"color: #7f7f7f; text-decoration-color: #7f7f7f\">plan.py</span></a><span style=\"color: #7f7f7f; text-decoration-color: #7f7f7f\">:</span><a href=\"file:///opt/miniconda3/envs/openfl/lib/python3.9/site-packages/openfl/federated/plan/plan.py#171\" target=\"_blank\"><span style=\"color: #7f7f7f; text-decoration-color: #7f7f7f\">171</span></a>\n",
       "</pre>\n"
      ],
      "text/plain": [
       "\u001B[2;36m          \u001B[0m\u001B[2;36m \u001B[0m\u001B[34mINFO    \u001B[0m Building \u001B[31m🡆\u001B[0m Object \u001B[31mFrameworkAdapterPlugin\u001B[0m from \u001B[31mopenfl.plugins.frameworks_adapters.pytorch_adapter\u001B[0m Module.                         \u001B]8;id=440788;file:///opt/miniconda3/envs/openfl/lib/python3.9/site-packages/openfl/federated/plan/plan.py\u001B\\\u001B[2mplan.py\u001B[0m\u001B]8;;\u001B\\\u001B[2m:\u001B[0m\u001B]8;id=219213;file:///opt/miniconda3/envs/openfl/lib/python3.9/site-packages/openfl/federated/plan/plan.py#171\u001B\\\u001B[2m171\u001B[0m\u001B]8;;\u001B\\\n"
      ]
     },
     "metadata": {},
     "output_type": "display_data"
    },
    {
     "data": {
      "text/html": [
       "<pre style=\"white-space:pre;overflow-x:auto;line-height:normal;font-family:Menlo,'DejaVu Sans Mono',consolas,'Courier New',monospace\"><span style=\"color: #7fbfbf; text-decoration-color: #7fbfbf\">           </span><span style=\"color: #000080; text-decoration-color: #000080\">INFO    </span> Starting experiment!                                                                                                       <a href=\"file:///opt/miniconda3/envs/openfl/lib/python3.9/site-packages/openfl/interface/interactive_api/experiment.py\" target=\"_blank\"><span style=\"color: #7f7f7f; text-decoration-color: #7f7f7f\">experiment.py</span></a><span style=\"color: #7f7f7f; text-decoration-color: #7f7f7f\">:</span><a href=\"file:///opt/miniconda3/envs/openfl/lib/python3.9/site-packages/openfl/interface/interactive_api/experiment.py#245\" target=\"_blank\"><span style=\"color: #7f7f7f; text-decoration-color: #7f7f7f\">245</span></a>\n",
       "</pre>\n"
      ],
      "text/plain": [
       "\u001B[2;36m          \u001B[0m\u001B[2;36m \u001B[0m\u001B[34mINFO    \u001B[0m Starting experiment!                                                                                                       \u001B]8;id=676979;file:///opt/miniconda3/envs/openfl/lib/python3.9/site-packages/openfl/interface/interactive_api/experiment.py\u001B\\\u001B[2mexperiment.py\u001B[0m\u001B]8;;\u001B\\\u001B[2m:\u001B[0m\u001B]8;id=300867;file:///opt/miniconda3/envs/openfl/lib/python3.9/site-packages/openfl/interface/interactive_api/experiment.py#245\u001B\\\u001B[2m245\u001B[0m\u001B]8;;\u001B\\\n"
      ]
     },
     "metadata": {},
     "output_type": "display_data"
    },
    {
     "data": {
      "text/html": [
       "<pre style=\"white-space:pre;overflow-x:auto;line-height:normal;font-family:Menlo,'DejaVu Sans Mono',consolas,'Courier New',monospace\"><span style=\"color: #7fbfbf; text-decoration-color: #7fbfbf\">           </span><span style=\"color: #000080; text-decoration-color: #000080\">INFO    </span> FL-Plan hash is <span style=\"color: #000080; text-decoration-color: #000080\">44f33172c732566ceb979122b3fc8f7578840734ffc4691e0003d0a99b86977fa8d135d2d5884ee148b5dd882029b152</span>                 <a href=\"file:///opt/miniconda3/envs/openfl/lib/python3.9/site-packages/openfl/federated/plan/plan.py\" target=\"_blank\"><span style=\"color: #7f7f7f; text-decoration-color: #7f7f7f\">plan.py</span></a><span style=\"color: #7f7f7f; text-decoration-color: #7f7f7f\">:</span><a href=\"file:///opt/miniconda3/envs/openfl/lib/python3.9/site-packages/openfl/federated/plan/plan.py#235\" target=\"_blank\"><span style=\"color: #7f7f7f; text-decoration-color: #7f7f7f\">235</span></a>\n",
       "</pre>\n"
      ],
      "text/plain": [
       "\u001B[2;36m          \u001B[0m\u001B[2;36m \u001B[0m\u001B[34mINFO    \u001B[0m FL-Plan hash is \u001B[34m44f33172c732566ceb979122b3fc8f7578840734ffc4691e0003d0a99b86977fa8d135d2d5884ee148b5dd882029b152\u001B[0m                 \u001B]8;id=191113;file:///opt/miniconda3/envs/openfl/lib/python3.9/site-packages/openfl/federated/plan/plan.py\u001B\\\u001B[2mplan.py\u001B[0m\u001B]8;;\u001B\\\u001B[2m:\u001B[0m\u001B]8;id=76045;file:///opt/miniconda3/envs/openfl/lib/python3.9/site-packages/openfl/federated/plan/plan.py#235\u001B\\\u001B[2m235\u001B[0m\u001B]8;;\u001B\\\n"
      ]
     },
     "metadata": {},
     "output_type": "display_data"
    },
    {
     "data": {
      "text/html": [
       "<pre style=\"white-space:pre;overflow-x:auto;line-height:normal;font-family:Menlo,'DejaVu Sans Mono',consolas,'Courier New',monospace\"><span style=\"color: #7fbfbf; text-decoration-color: #7fbfbf\">           </span><span style=\"color: #000080; text-decoration-color: #000080\">INFO    </span> FL-Plan hash is <span style=\"color: #000080; text-decoration-color: #000080\">44f33172c732566ceb979122b3fc8f7578840734ffc4691e0003d0a99b86977fa8d135d2d5884ee148b5dd882029b152</span>                 <a href=\"file:///opt/miniconda3/envs/openfl/lib/python3.9/site-packages/openfl/federated/plan/plan.py\" target=\"_blank\"><span style=\"color: #7f7f7f; text-decoration-color: #7f7f7f\">plan.py</span></a><span style=\"color: #7f7f7f; text-decoration-color: #7f7f7f\">:</span><a href=\"file:///opt/miniconda3/envs/openfl/lib/python3.9/site-packages/openfl/federated/plan/plan.py#235\" target=\"_blank\"><span style=\"color: #7f7f7f; text-decoration-color: #7f7f7f\">235</span></a>\n",
       "</pre>\n"
      ],
      "text/plain": [
       "\u001B[2;36m          \u001B[0m\u001B[2;36m \u001B[0m\u001B[34mINFO    \u001B[0m FL-Plan hash is \u001B[34m44f33172c732566ceb979122b3fc8f7578840734ffc4691e0003d0a99b86977fa8d135d2d5884ee148b5dd882029b152\u001B[0m                 \u001B]8;id=110387;file:///opt/miniconda3/envs/openfl/lib/python3.9/site-packages/openfl/federated/plan/plan.py\u001B\\\u001B[2mplan.py\u001B[0m\u001B]8;;\u001B\\\u001B[2m:\u001B[0m\u001B]8;id=729848;file:///opt/miniconda3/envs/openfl/lib/python3.9/site-packages/openfl/federated/plan/plan.py#235\u001B\\\u001B[2m235\u001B[0m\u001B]8;;\u001B\\\n"
      ]
     },
     "metadata": {},
     "output_type": "display_data"
    },
    {
     "data": {
      "text/html": [
       "<pre style=\"white-space:pre;overflow-x:auto;line-height:normal;font-family:Menlo,'DejaVu Sans Mono',consolas,'Courier New',monospace\"><span style=\"color: #7fbfbf; text-decoration-color: #7fbfbf\">           </span><span style=\"color: #000080; text-decoration-color: #000080\">INFO    </span> Building <span style=\"color: #800000; text-decoration-color: #800000\">🡆</span> Object <span style=\"color: #800000; text-decoration-color: #800000\">CoreTaskRunner</span> from <span style=\"color: #800000; text-decoration-color: #800000\">openfl.federated.task.task_runner</span> Module.                                                  <a href=\"file:///opt/miniconda3/envs/openfl/lib/python3.9/site-packages/openfl/federated/plan/plan.py\" target=\"_blank\"><span style=\"color: #7f7f7f; text-decoration-color: #7f7f7f\">plan.py</span></a><span style=\"color: #7f7f7f; text-decoration-color: #7f7f7f\">:</span><a href=\"file:///opt/miniconda3/envs/openfl/lib/python3.9/site-packages/openfl/federated/plan/plan.py#171\" target=\"_blank\"><span style=\"color: #7f7f7f; text-decoration-color: #7f7f7f\">171</span></a>\n",
       "</pre>\n"
      ],
      "text/plain": [
       "\u001B[2;36m          \u001B[0m\u001B[2;36m \u001B[0m\u001B[34mINFO    \u001B[0m Building \u001B[31m🡆\u001B[0m Object \u001B[31mCoreTaskRunner\u001B[0m from \u001B[31mopenfl.federated.task.task_runner\u001B[0m Module.                                                  \u001B]8;id=24736;file:///opt/miniconda3/envs/openfl/lib/python3.9/site-packages/openfl/federated/plan/plan.py\u001B\\\u001B[2mplan.py\u001B[0m\u001B]8;;\u001B\\\u001B[2m:\u001B[0m\u001B]8;id=451449;file:///opt/miniconda3/envs/openfl/lib/python3.9/site-packages/openfl/federated/plan/plan.py#171\u001B\\\u001B[2m171\u001B[0m\u001B]8;;\u001B\\\n"
      ]
     },
     "metadata": {},
     "output_type": "display_data"
    },
    {
     "data": {
      "text/html": [
       "<pre style=\"white-space:pre;overflow-x:auto;line-height:normal;font-family:Menlo,'DejaVu Sans Mono',consolas,'Courier New',monospace\"><span style=\"color: #7fbfbf; text-decoration-color: #7fbfbf\">           </span><span style=\"color: #000080; text-decoration-color: #000080\">INFO    </span> Building <span style=\"color: #800000; text-decoration-color: #800000\">🡆</span> Object <span style=\"color: #800000; text-decoration-color: #800000\">FrameworkAdapterPlugin</span> from <span style=\"color: #800000; text-decoration-color: #800000\">openfl.plugins.frameworks_adapters.pytorch_adapter</span> Module.                         <a href=\"file:///opt/miniconda3/envs/openfl/lib/python3.9/site-packages/openfl/federated/plan/plan.py\" target=\"_blank\"><span style=\"color: #7f7f7f; text-decoration-color: #7f7f7f\">plan.py</span></a><span style=\"color: #7f7f7f; text-decoration-color: #7f7f7f\">:</span><a href=\"file:///opt/miniconda3/envs/openfl/lib/python3.9/site-packages/openfl/federated/plan/plan.py#171\" target=\"_blank\"><span style=\"color: #7f7f7f; text-decoration-color: #7f7f7f\">171</span></a>\n",
       "</pre>\n"
      ],
      "text/plain": [
       "\u001B[2;36m          \u001B[0m\u001B[2;36m \u001B[0m\u001B[34mINFO    \u001B[0m Building \u001B[31m🡆\u001B[0m Object \u001B[31mFrameworkAdapterPlugin\u001B[0m from \u001B[31mopenfl.plugins.frameworks_adapters.pytorch_adapter\u001B[0m Module.                         \u001B]8;id=945384;file:///opt/miniconda3/envs/openfl/lib/python3.9/site-packages/openfl/federated/plan/plan.py\u001B\\\u001B[2mplan.py\u001B[0m\u001B]8;;\u001B\\\u001B[2m:\u001B[0m\u001B]8;id=910402;file:///opt/miniconda3/envs/openfl/lib/python3.9/site-packages/openfl/federated/plan/plan.py#171\u001B\\\u001B[2m171\u001B[0m\u001B]8;;\u001B\\\n"
      ]
     },
     "metadata": {},
     "output_type": "display_data"
    },
    {
     "data": {
      "text/html": [
       "<pre style=\"white-space:pre;overflow-x:auto;line-height:normal;font-family:Menlo,'DejaVu Sans Mono',consolas,'Courier New',monospace\"><span style=\"color: #7fbfbf; text-decoration-color: #7fbfbf\">           </span><span style=\"color: #800000; text-decoration-color: #800000\">WARNING </span> tried to remove tensor: __opt_state_needed not present in the tensor dict                                                       <a href=\"file:///opt/miniconda3/envs/openfl/lib/python3.9/site-packages/openfl/utilities/utils.py\" target=\"_blank\"><span style=\"color: #7f7f7f; text-decoration-color: #7f7f7f\">utils.py</span></a><span style=\"color: #7f7f7f; text-decoration-color: #7f7f7f\">:</span><a href=\"file:///opt/miniconda3/envs/openfl/lib/python3.9/site-packages/openfl/utilities/utils.py#172\" target=\"_blank\"><span style=\"color: #7f7f7f; text-decoration-color: #7f7f7f\">172</span></a>\n",
       "</pre>\n"
      ],
      "text/plain": [
       "\u001B[2;36m          \u001B[0m\u001B[2;36m \u001B[0m\u001B[31mWARNING \u001B[0m tried to remove tensor: __opt_state_needed not present in the tensor dict                                                       \u001B]8;id=306292;file:///opt/miniconda3/envs/openfl/lib/python3.9/site-packages/openfl/utilities/utils.py\u001B\\\u001B[2mutils.py\u001B[0m\u001B]8;;\u001B\\\u001B[2m:\u001B[0m\u001B]8;id=634907;file:///opt/miniconda3/envs/openfl/lib/python3.9/site-packages/openfl/utilities/utils.py#172\u001B\\\u001B[2m172\u001B[0m\u001B]8;;\u001B\\\n"
      ]
     },
     "metadata": {},
     "output_type": "display_data"
    },
    {
     "data": {
      "text/html": [
       "<pre style=\"white-space:pre;overflow-x:auto;line-height:normal;font-family:Menlo,'DejaVu Sans Mono',consolas,'Courier New',monospace\"><span style=\"color: #7fbfbf; text-decoration-color: #7fbfbf\">           </span><span style=\"color: #800000; text-decoration-color: #800000\">WARNING </span> tried to remove tensor: __opt_state_needed not present in the tensor dict                                                       <a href=\"file:///opt/miniconda3/envs/openfl/lib/python3.9/site-packages/openfl/utilities/utils.py\" target=\"_blank\"><span style=\"color: #7f7f7f; text-decoration-color: #7f7f7f\">utils.py</span></a><span style=\"color: #7f7f7f; text-decoration-color: #7f7f7f\">:</span><a href=\"file:///opt/miniconda3/envs/openfl/lib/python3.9/site-packages/openfl/utilities/utils.py#172\" target=\"_blank\"><span style=\"color: #7f7f7f; text-decoration-color: #7f7f7f\">172</span></a>\n",
       "</pre>\n"
      ],
      "text/plain": [
       "\u001B[2;36m          \u001B[0m\u001B[2;36m \u001B[0m\u001B[31mWARNING \u001B[0m tried to remove tensor: __opt_state_needed not present in the tensor dict                                                       \u001B]8;id=791329;file:///opt/miniconda3/envs/openfl/lib/python3.9/site-packages/openfl/utilities/utils.py\u001B\\\u001B[2mutils.py\u001B[0m\u001B]8;;\u001B\\\u001B[2m:\u001B[0m\u001B]8;id=254859;file:///opt/miniconda3/envs/openfl/lib/python3.9/site-packages/openfl/utilities/utils.py#172\u001B\\\u001B[2m172\u001B[0m\u001B]8;;\u001B\\\n"
      ]
     },
     "metadata": {},
     "output_type": "display_data"
    },
    {
     "data": {
      "text/html": [
       "<pre style=\"white-space:pre;overflow-x:auto;line-height:normal;font-family:Menlo,'DejaVu Sans Mono',consolas,'Courier New',monospace\"><span style=\"color: #7fbfbf; text-decoration-color: #7fbfbf\">           </span><span style=\"color: #000080; text-decoration-color: #000080\">INFO    </span> SetNewExperiment                                                                                                      <a href=\"file:///opt/miniconda3/envs/openfl/lib/python3.9/site-packages/openfl/transport/grpc/director_client.py\" target=\"_blank\"><span style=\"color: #7f7f7f; text-decoration-color: #7f7f7f\">director_client.py</span></a><span style=\"color: #7f7f7f; text-decoration-color: #7f7f7f\">:</span><a href=\"file:///opt/miniconda3/envs/openfl/lib/python3.9/site-packages/openfl/transport/grpc/director_client.py#209\" target=\"_blank\"><span style=\"color: #7f7f7f; text-decoration-color: #7f7f7f\">209</span></a>\n",
       "</pre>\n"
      ],
      "text/plain": [
       "\u001B[2;36m          \u001B[0m\u001B[2;36m \u001B[0m\u001B[34mINFO    \u001B[0m SetNewExperiment                                                                                                      \u001B]8;id=134292;file:///opt/miniconda3/envs/openfl/lib/python3.9/site-packages/openfl/transport/grpc/director_client.py\u001B\\\u001B[2mdirector_client.py\u001B[0m\u001B]8;;\u001B\\\u001B[2m:\u001B[0m\u001B]8;id=189956;file:///opt/miniconda3/envs/openfl/lib/python3.9/site-packages/openfl/transport/grpc/director_client.py#209\u001B\\\u001B[2m209\u001B[0m\u001B]8;;\u001B\\\n"
      ]
     },
     "metadata": {},
     "output_type": "display_data"
    },
    {
     "data": {
      "text/html": [
       "<pre style=\"white-space:pre;overflow-x:auto;line-height:normal;font-family:Menlo,'DejaVu Sans Mono',consolas,'Courier New',monospace\"><span style=\"color: #7fbfbf; text-decoration-color: #7fbfbf\">           </span><span style=\"color: #000080; text-decoration-color: #000080\">INFO    </span> Experiment was submitted to the director!                                                                                  <a href=\"file:///opt/miniconda3/envs/openfl/lib/python3.9/site-packages/openfl/interface/interactive_api/experiment.py\" target=\"_blank\"><span style=\"color: #7f7f7f; text-decoration-color: #7f7f7f\">experiment.py</span></a><span style=\"color: #7f7f7f; text-decoration-color: #7f7f7f\">:</span><a href=\"file:///opt/miniconda3/envs/openfl/lib/python3.9/site-packages/openfl/interface/interactive_api/experiment.py#259\" target=\"_blank\"><span style=\"color: #7f7f7f; text-decoration-color: #7f7f7f\">259</span></a>\n",
       "</pre>\n"
      ],
      "text/plain": [
       "\u001B[2;36m          \u001B[0m\u001B[2;36m \u001B[0m\u001B[34mINFO    \u001B[0m Experiment was submitted to the director!                                                                                  \u001B]8;id=920809;file:///opt/miniconda3/envs/openfl/lib/python3.9/site-packages/openfl/interface/interactive_api/experiment.py\u001B\\\u001B[2mexperiment.py\u001B[0m\u001B]8;;\u001B\\\u001B[2m:\u001B[0m\u001B]8;id=897428;file:///opt/miniconda3/envs/openfl/lib/python3.9/site-packages/openfl/interface/interactive_api/experiment.py#259\u001B\\\u001B[2m259\u001B[0m\u001B]8;;\u001B\\\n"
      ]
     },
     "metadata": {},
     "output_type": "display_data"
    }
   ],
   "source": [
    "fl_experiment.start(\n",
    "    model_provider=MI,\n",
    "    data_loader=DI,\n",
    "    task_keeper=TI,\n",
    "    rounds_to_train=3,\n",
    "    opt_treatment='CONTINUE_GLOBAL'\n",
    ")"
   ]
  },
  {
   "cell_type": "code",
   "execution_count": 41,
   "metadata": {},
   "outputs": [
    {
     "data": {
      "text/html": [
       "<pre style=\"white-space:pre;overflow-x:auto;line-height:normal;font-family:Menlo,'DejaVu Sans Mono',consolas,'Courier New',monospace\"><span style=\"color: #7fbfbf; text-decoration-color: #7fbfbf\">[23:27:05] </span>METRIC   Round <span style=\"color: #008080; text-decoration-color: #008080; font-weight: bold\">0</span>, collaborator trained train result train_loss:  <span style=\"color: #008080; text-decoration-color: #008080; font-weight: bold\">0.833483</span>                                                           <a href=\"file:///opt/miniconda3/envs/openfl/lib/python3.9/site-packages/openfl/interface/interactive_api/experiment.py\" target=\"_blank\"><span style=\"color: #7f7f7f; text-decoration-color: #7f7f7f\">experiment.py</span></a><span style=\"color: #7f7f7f; text-decoration-color: #7f7f7f\">:</span><a href=\"file:///opt/miniconda3/envs/openfl/lib/python3.9/site-packages/openfl/interface/interactive_api/experiment.py#144\" target=\"_blank\"><span style=\"color: #7f7f7f; text-decoration-color: #7f7f7f\">144</span></a>\n",
       "</pre>\n"
      ],
      "text/plain": [
       "\u001B[2;36m[23:27:05]\u001B[0m\u001B[2;36m \u001B[0mMETRIC   Round \u001B[1;36m0\u001B[0m, collaborator trained train result train_loss:  \u001B[1;36m0.833483\u001B[0m                                                           \u001B]8;id=375108;file:///opt/miniconda3/envs/openfl/lib/python3.9/site-packages/openfl/interface/interactive_api/experiment.py\u001B\\\u001B[2mexperiment.py\u001B[0m\u001B]8;;\u001B\\\u001B[2m:\u001B[0m\u001B]8;id=420888;file:///opt/miniconda3/envs/openfl/lib/python3.9/site-packages/openfl/interface/interactive_api/experiment.py#144\u001B\\\u001B[2m144\u001B[0m\u001B]8;;\u001B\\\n"
      ]
     },
     "metadata": {},
     "output_type": "display_data"
    },
    {
     "data": {
      "text/html": [
       "<pre style=\"white-space:pre;overflow-x:auto;line-height:normal;font-family:Menlo,'DejaVu Sans Mono',consolas,'Courier New',monospace\"><span style=\"color: #7fbfbf; text-decoration-color: #7fbfbf\">           </span>METRIC   Round <span style=\"color: #008080; text-decoration-color: #008080; font-weight: bold\">0</span>, collaborator validate_local locally_tuned_model_validate result acc:   <span style=\"color: #008080; text-decoration-color: #008080; font-weight: bold\">0.484000</span>                                   <a href=\"file:///opt/miniconda3/envs/openfl/lib/python3.9/site-packages/openfl/interface/interactive_api/experiment.py\" target=\"_blank\"><span style=\"color: #7f7f7f; text-decoration-color: #7f7f7f\">experiment.py</span></a><span style=\"color: #7f7f7f; text-decoration-color: #7f7f7f\">:</span><a href=\"file:///opt/miniconda3/envs/openfl/lib/python3.9/site-packages/openfl/interface/interactive_api/experiment.py#144\" target=\"_blank\"><span style=\"color: #7f7f7f; text-decoration-color: #7f7f7f\">144</span></a>\n",
       "</pre>\n"
      ],
      "text/plain": [
       "\u001B[2;36m          \u001B[0m\u001B[2;36m \u001B[0mMETRIC   Round \u001B[1;36m0\u001B[0m, collaborator validate_local locally_tuned_model_validate result acc:   \u001B[1;36m0.484000\u001B[0m                                   \u001B]8;id=659124;file:///opt/miniconda3/envs/openfl/lib/python3.9/site-packages/openfl/interface/interactive_api/experiment.py\u001B\\\u001B[2mexperiment.py\u001B[0m\u001B]8;;\u001B\\\u001B[2m:\u001B[0m\u001B]8;id=810371;file:///opt/miniconda3/envs/openfl/lib/python3.9/site-packages/openfl/interface/interactive_api/experiment.py#144\u001B\\\u001B[2m144\u001B[0m\u001B]8;;\u001B\\\n"
      ]
     },
     "metadata": {},
     "output_type": "display_data"
    },
    {
     "data": {
      "text/html": [
       "<pre style=\"white-space:pre;overflow-x:auto;line-height:normal;font-family:Menlo,'DejaVu Sans Mono',consolas,'Courier New',monospace\"><span style=\"color: #7fbfbf; text-decoration-color: #7fbfbf\">           </span>METRIC   Round <span style=\"color: #008080; text-decoration-color: #008080; font-weight: bold\">0</span>, collaborator validate_agg aggregated_model_validate result acc:        <span style=\"color: #008080; text-decoration-color: #008080; font-weight: bold\">0.484000</span>                                   <a href=\"file:///opt/miniconda3/envs/openfl/lib/python3.9/site-packages/openfl/interface/interactive_api/experiment.py\" target=\"_blank\"><span style=\"color: #7f7f7f; text-decoration-color: #7f7f7f\">experiment.py</span></a><span style=\"color: #7f7f7f; text-decoration-color: #7f7f7f\">:</span><a href=\"file:///opt/miniconda3/envs/openfl/lib/python3.9/site-packages/openfl/interface/interactive_api/experiment.py#144\" target=\"_blank\"><span style=\"color: #7f7f7f; text-decoration-color: #7f7f7f\">144</span></a>\n",
       "</pre>\n"
      ],
      "text/plain": [
       "\u001B[2;36m          \u001B[0m\u001B[2;36m \u001B[0mMETRIC   Round \u001B[1;36m0\u001B[0m, collaborator validate_agg aggregated_model_validate result acc:        \u001B[1;36m0.484000\u001B[0m                                   \u001B]8;id=834066;file:///opt/miniconda3/envs/openfl/lib/python3.9/site-packages/openfl/interface/interactive_api/experiment.py\u001B\\\u001B[2mexperiment.py\u001B[0m\u001B]8;;\u001B\\\u001B[2m:\u001B[0m\u001B]8;id=210268;file:///opt/miniconda3/envs/openfl/lib/python3.9/site-packages/openfl/interface/interactive_api/experiment.py#144\u001B\\\u001B[2m144\u001B[0m\u001B]8;;\u001B\\\n"
      ]
     },
     "metadata": {},
     "output_type": "display_data"
    },
    {
     "ename": "_MultiThreadedRendezvous",
     "evalue": "<_MultiThreadedRendezvous of RPC that terminated with:\n\tstatus = StatusCode.UNAVAILABLE\n\tdetails = \"Socket closed\"\n\tdebug_error_string = \"{\"created\":\"@1675792756.701190328\",\"description\":\"Error received from peer ipv6:[::1]:50051\",\"file\":\"src/core/lib/surface/call.cc\",\"file_line\":903,\"grpc_message\":\"Socket closed\",\"grpc_status\":14}\"\n>",
     "output_type": "error",
     "traceback": [
      "\u001B[0;31m---------------------------------------------------------------------------\u001B[0m",
      "\u001B[0;31m_MultiThreadedRendezvous\u001B[0m                  Traceback (most recent call last)",
      "Cell \u001B[0;32mIn[41], line 1\u001B[0m\n\u001B[0;32m----> 1\u001B[0m \u001B[43mfl_experiment\u001B[49m\u001B[38;5;241;43m.\u001B[39;49m\u001B[43mstream_metrics\u001B[49m\u001B[43m(\u001B[49m\u001B[43m)\u001B[49m\n",
      "File \u001B[0;32m/opt/miniconda3/envs/openfl/lib/python3.9/site-packages/openfl/interface/interactive_api/experiment.py:143\u001B[0m, in \u001B[0;36mFLExperiment.stream_metrics\u001B[0;34m(self, tensorboard_logs)\u001B[0m\n\u001B[1;32m    141\u001B[0m \u001B[38;5;28;01mif\u001B[39;00m \u001B[38;5;129;01mnot\u001B[39;00m \u001B[38;5;28mself\u001B[39m\u001B[38;5;241m.\u001B[39m_assert_experiment_submitted():\n\u001B[1;32m    142\u001B[0m     \u001B[38;5;28;01mreturn\u001B[39;00m\n\u001B[0;32m--> 143\u001B[0m \u001B[38;5;28;01mfor\u001B[39;00m metric_message_dict \u001B[38;5;129;01min\u001B[39;00m \u001B[38;5;28mself\u001B[39m\u001B[38;5;241m.\u001B[39mfederation\u001B[38;5;241m.\u001B[39mdir_client\u001B[38;5;241m.\u001B[39mstream_metrics(\u001B[38;5;28mself\u001B[39m\u001B[38;5;241m.\u001B[39mexperiment_name):\n\u001B[1;32m    144\u001B[0m     \u001B[38;5;28mself\u001B[39m\u001B[38;5;241m.\u001B[39mlogger\u001B[38;5;241m.\u001B[39mmetric(\n\u001B[1;32m    145\u001B[0m         \u001B[38;5;124mf\u001B[39m\u001B[38;5;124m'\u001B[39m\u001B[38;5;124mRound \u001B[39m\u001B[38;5;132;01m{\u001B[39;00mmetric_message_dict[\u001B[38;5;124m\"\u001B[39m\u001B[38;5;124mround\u001B[39m\u001B[38;5;124m\"\u001B[39m]\u001B[38;5;132;01m}\u001B[39;00m\u001B[38;5;124m, \u001B[39m\u001B[38;5;124m'\u001B[39m\n\u001B[1;32m    146\u001B[0m         \u001B[38;5;124mf\u001B[39m\u001B[38;5;124m'\u001B[39m\u001B[38;5;124mcollaborator \u001B[39m\u001B[38;5;132;01m{\u001B[39;00mmetric_message_dict[\u001B[38;5;124m\"\u001B[39m\u001B[38;5;124mmetric_origin\u001B[39m\u001B[38;5;124m\"\u001B[39m]\u001B[38;5;132;01m}\u001B[39;00m\u001B[38;5;124m \u001B[39m\u001B[38;5;124m'\u001B[39m\n\u001B[1;32m    147\u001B[0m         \u001B[38;5;124mf\u001B[39m\u001B[38;5;124m'\u001B[39m\u001B[38;5;132;01m{\u001B[39;00mmetric_message_dict[\u001B[38;5;124m\"\u001B[39m\u001B[38;5;124mtask_name\u001B[39m\u001B[38;5;124m\"\u001B[39m]\u001B[38;5;132;01m}\u001B[39;00m\u001B[38;5;124m result \u001B[39m\u001B[38;5;124m'\u001B[39m\n\u001B[1;32m    148\u001B[0m         \u001B[38;5;124mf\u001B[39m\u001B[38;5;124m'\u001B[39m\u001B[38;5;132;01m{\u001B[39;00mmetric_message_dict[\u001B[38;5;124m\"\u001B[39m\u001B[38;5;124mmetric_name\u001B[39m\u001B[38;5;124m\"\u001B[39m]\u001B[38;5;132;01m}\u001B[39;00m\u001B[38;5;124m:\u001B[39m\u001B[38;5;130;01m\\t\u001B[39;00m\u001B[38;5;132;01m{\u001B[39;00mmetric_message_dict[\u001B[38;5;124m\"\u001B[39m\u001B[38;5;124mmetric_value\u001B[39m\u001B[38;5;124m\"\u001B[39m]\u001B[38;5;132;01m:\u001B[39;00m\u001B[38;5;124mf\u001B[39m\u001B[38;5;132;01m}\u001B[39;00m\u001B[38;5;124m'\u001B[39m)\n\u001B[1;32m    150\u001B[0m     \u001B[38;5;28;01mif\u001B[39;00m tensorboard_logs:\n",
      "File \u001B[0;32m/opt/miniconda3/envs/openfl/lib/python3.9/site-packages/openfl/transport/grpc/director_client.py:277\u001B[0m, in \u001B[0;36mDirectorClient.stream_metrics\u001B[0;34m(self, experiment_name)\u001B[0m\n\u001B[1;32m    275\u001B[0m \u001B[38;5;250m\u001B[39m\u001B[38;5;124;03m\"\"\"Stream metrics RPC.\"\"\"\u001B[39;00m\n\u001B[1;32m    276\u001B[0m request \u001B[38;5;241m=\u001B[39m director_pb2\u001B[38;5;241m.\u001B[39mGetMetricStreamRequest(experiment_name\u001B[38;5;241m=\u001B[39mexperiment_name)\n\u001B[0;32m--> 277\u001B[0m \u001B[38;5;28;01mfor\u001B[39;00m metric_message \u001B[38;5;129;01min\u001B[39;00m \u001B[38;5;28mself\u001B[39m\u001B[38;5;241m.\u001B[39mstub\u001B[38;5;241m.\u001B[39mGetMetricStream(request):\n\u001B[1;32m    278\u001B[0m     \u001B[38;5;28;01myield\u001B[39;00m {\n\u001B[1;32m    279\u001B[0m         \u001B[38;5;124m'\u001B[39m\u001B[38;5;124mmetric_origin\u001B[39m\u001B[38;5;124m'\u001B[39m: metric_message\u001B[38;5;241m.\u001B[39mmetric_origin,\n\u001B[1;32m    280\u001B[0m         \u001B[38;5;124m'\u001B[39m\u001B[38;5;124mtask_name\u001B[39m\u001B[38;5;124m'\u001B[39m: metric_message\u001B[38;5;241m.\u001B[39mtask_name,\n\u001B[0;32m   (...)\u001B[0m\n\u001B[1;32m    283\u001B[0m         \u001B[38;5;124m'\u001B[39m\u001B[38;5;124mround\u001B[39m\u001B[38;5;124m'\u001B[39m: metric_message\u001B[38;5;241m.\u001B[39mround,\n\u001B[1;32m    284\u001B[0m     }\n",
      "File \u001B[0;32m/opt/miniconda3/envs/openfl/lib/python3.9/site-packages/grpc/_channel.py:426\u001B[0m, in \u001B[0;36m_Rendezvous.__next__\u001B[0;34m(self)\u001B[0m\n\u001B[1;32m    425\u001B[0m \u001B[38;5;28;01mdef\u001B[39;00m \u001B[38;5;21m__next__\u001B[39m(\u001B[38;5;28mself\u001B[39m):\n\u001B[0;32m--> 426\u001B[0m     \u001B[38;5;28;01mreturn\u001B[39;00m \u001B[38;5;28;43mself\u001B[39;49m\u001B[38;5;241;43m.\u001B[39;49m\u001B[43m_next\u001B[49m\u001B[43m(\u001B[49m\u001B[43m)\u001B[49m\n",
      "File \u001B[0;32m/opt/miniconda3/envs/openfl/lib/python3.9/site-packages/grpc/_channel.py:826\u001B[0m, in \u001B[0;36m_MultiThreadedRendezvous._next\u001B[0;34m(self)\u001B[0m\n\u001B[1;32m    824\u001B[0m     \u001B[38;5;28;01mraise\u001B[39;00m \u001B[38;5;167;01mStopIteration\u001B[39;00m()\n\u001B[1;32m    825\u001B[0m \u001B[38;5;28;01melif\u001B[39;00m \u001B[38;5;28mself\u001B[39m\u001B[38;5;241m.\u001B[39m_state\u001B[38;5;241m.\u001B[39mcode \u001B[38;5;129;01mis\u001B[39;00m \u001B[38;5;129;01mnot\u001B[39;00m \u001B[38;5;28;01mNone\u001B[39;00m:\n\u001B[0;32m--> 826\u001B[0m     \u001B[38;5;28;01mraise\u001B[39;00m \u001B[38;5;28mself\u001B[39m\n",
      "\u001B[0;31m_MultiThreadedRendezvous\u001B[0m: <_MultiThreadedRendezvous of RPC that terminated with:\n\tstatus = StatusCode.UNAVAILABLE\n\tdetails = \"Socket closed\"\n\tdebug_error_string = \"{\"created\":\"@1675792756.701190328\",\"description\":\"Error received from peer ipv6:[::1]:50051\",\"file\":\"src/core/lib/surface/call.cc\",\"file_line\":903,\"grpc_message\":\"Socket closed\",\"grpc_status\":14}\"\n>"
     ]
    }
   ],
   "source": [
    "fl_experiment.stream_metrics()"
   ]
  },
  {
   "cell_type": "code",
   "execution_count": 12,
   "metadata": {},
   "outputs": [
    {
     "data": {
      "text/html": [
       "<pre style=\"white-space:pre;overflow-x:auto;line-height:normal;font-family:Menlo,'DejaVu Sans Mono',consolas,'Courier New',monospace\"><span style=\"color: #7fbfbf\">[15:19:35] </span><span style=\"color: #000080\">INFO</span>     Removing experiment data succeed.                                                                                          <a href=\"file:///opt/miniconda3/envs/openfl/lib/python3.8/site-packages/openfl/interface/interactive_api/experiment.py\"><span style=\"color: #7f7f7f\">experiment.py</span></a><span style=\"color: #7f7f7f\">:146</span>\n",
       "</pre>\n"
      ],
      "text/plain": [
       "<rich.jupyter.JupyterRenderable at 0x7fb4481cbc70>"
      ]
     },
     "metadata": {},
     "output_type": "display_data"
    }
   ],
   "source": [
    "fl_experiment.remove_experiment_data()"
   ]
  },
  {
   "cell_type": "code",
   "execution_count": 12,
   "metadata": {},
   "outputs": [],
   "source": []
  }
 ],
 "metadata": {
  "kernelspec": {
   "display_name": "Python 3 (ipykernel)",
   "language": "python",
   "name": "python3"
  },
  "language_info": {
   "codemirror_mode": {
    "name": "ipython",
    "version": 3
   },
   "file_extension": ".py",
   "mimetype": "text/x-python",
   "name": "python",
   "nbconvert_exporter": "python",
   "pygments_lexer": "ipython3",
   "version": "3.9.13"
  }
 },
 "nbformat": 4,
 "nbformat_minor": 1
}
